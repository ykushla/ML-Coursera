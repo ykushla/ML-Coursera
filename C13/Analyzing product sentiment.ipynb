{
 "cells": [
  {
   "cell_type": "markdown",
   "metadata": {},
   "source": [
    "# Predicting sentiment from product reviews\n",
    "\n",
    "# Fire up GraphLab Create"
   ]
  },
  {
   "cell_type": "code",
   "execution_count": 1,
   "metadata": {
    "collapsed": true
   },
   "outputs": [],
   "source": [
    "import graphlab"
   ]
  },
  {
   "cell_type": "markdown",
   "metadata": {},
   "source": [
    "# Read some product review data\n",
    "\n",
    "Loading reviews for a set of baby products. "
   ]
  },
  {
   "cell_type": "code",
   "execution_count": 2,
   "metadata": {
    "collapsed": false
   },
   "outputs": [
    {
     "name": "stdout",
     "output_type": "stream",
     "text": [
      "This non-commercial license of GraphLab Create is assigned to ykushla@gmail.com and will expire on May 25, 2017. For commercial licensing options, visit https://dato.com/buy/.\n"
     ]
    },
    {
     "name": "stderr",
     "output_type": "stream",
     "text": [
      "[INFO] graphlab.cython.cy_server: GraphLab Create v1.10.1 started. Logging: C:\\Users\\ykushla\\AppData\\Local\\Temp\\graphlab_server_1466322549.log.0\n"
     ]
    }
   ],
   "source": [
    "products = graphlab.SFrame('amazon_baby.gl/')"
   ]
  },
  {
   "cell_type": "markdown",
   "metadata": {},
   "source": [
    "# Let's explore this data together\n",
    "\n",
    "Data includes the product name, the review text and the rating of the review. "
   ]
  },
  {
   "cell_type": "code",
   "execution_count": 3,
   "metadata": {
    "collapsed": false
   },
   "outputs": [
    {
     "data": {
      "text/html": [
       "<div style=\"max-height:1000px;max-width:1500px;overflow:auto;\"><table frame=\"box\" rules=\"cols\">\n",
       "    <tr>\n",
       "        <th style=\"padding-left: 1em; padding-right: 1em; text-align: center\">name</th>\n",
       "        <th style=\"padding-left: 1em; padding-right: 1em; text-align: center\">review</th>\n",
       "        <th style=\"padding-left: 1em; padding-right: 1em; text-align: center\">rating</th>\n",
       "    </tr>\n",
       "    <tr>\n",
       "        <td style=\"padding-left: 1em; padding-right: 1em; text-align: center; vertical-align: top\">Planetwise Flannel Wipes</td>\n",
       "        <td style=\"padding-left: 1em; padding-right: 1em; text-align: center; vertical-align: top\">These flannel wipes are<br>OK, but in my opinion ...</td>\n",
       "        <td style=\"padding-left: 1em; padding-right: 1em; text-align: center; vertical-align: top\">3.0</td>\n",
       "    </tr>\n",
       "    <tr>\n",
       "        <td style=\"padding-left: 1em; padding-right: 1em; text-align: center; vertical-align: top\">Planetwise Wipe Pouch</td>\n",
       "        <td style=\"padding-left: 1em; padding-right: 1em; text-align: center; vertical-align: top\">it came early and was not<br>disappointed. i love ...</td>\n",
       "        <td style=\"padding-left: 1em; padding-right: 1em; text-align: center; vertical-align: top\">5.0</td>\n",
       "    </tr>\n",
       "    <tr>\n",
       "        <td style=\"padding-left: 1em; padding-right: 1em; text-align: center; vertical-align: top\">Annas Dream Full Quilt<br>with 2 Shams ...</td>\n",
       "        <td style=\"padding-left: 1em; padding-right: 1em; text-align: center; vertical-align: top\">Very soft and comfortable<br>and warmer than it ...</td>\n",
       "        <td style=\"padding-left: 1em; padding-right: 1em; text-align: center; vertical-align: top\">5.0</td>\n",
       "    </tr>\n",
       "    <tr>\n",
       "        <td style=\"padding-left: 1em; padding-right: 1em; text-align: center; vertical-align: top\">Stop Pacifier Sucking<br>without tears with ...</td>\n",
       "        <td style=\"padding-left: 1em; padding-right: 1em; text-align: center; vertical-align: top\">This is a product well<br>worth the purchase.  I ...</td>\n",
       "        <td style=\"padding-left: 1em; padding-right: 1em; text-align: center; vertical-align: top\">5.0</td>\n",
       "    </tr>\n",
       "    <tr>\n",
       "        <td style=\"padding-left: 1em; padding-right: 1em; text-align: center; vertical-align: top\">Stop Pacifier Sucking<br>without tears with ...</td>\n",
       "        <td style=\"padding-left: 1em; padding-right: 1em; text-align: center; vertical-align: top\">All of my kids have cried<br>non-stop when I tried to ...</td>\n",
       "        <td style=\"padding-left: 1em; padding-right: 1em; text-align: center; vertical-align: top\">5.0</td>\n",
       "    </tr>\n",
       "    <tr>\n",
       "        <td style=\"padding-left: 1em; padding-right: 1em; text-align: center; vertical-align: top\">Stop Pacifier Sucking<br>without tears with ...</td>\n",
       "        <td style=\"padding-left: 1em; padding-right: 1em; text-align: center; vertical-align: top\">When the Binky Fairy came<br>to our house, we didn&#x27;t ...</td>\n",
       "        <td style=\"padding-left: 1em; padding-right: 1em; text-align: center; vertical-align: top\">5.0</td>\n",
       "    </tr>\n",
       "    <tr>\n",
       "        <td style=\"padding-left: 1em; padding-right: 1em; text-align: center; vertical-align: top\">A Tale of Baby&#x27;s Days<br>with Peter Rabbit ...</td>\n",
       "        <td style=\"padding-left: 1em; padding-right: 1em; text-align: center; vertical-align: top\">Lovely book, it&#x27;s bound<br>tightly so you may no ...</td>\n",
       "        <td style=\"padding-left: 1em; padding-right: 1em; text-align: center; vertical-align: top\">4.0</td>\n",
       "    </tr>\n",
       "    <tr>\n",
       "        <td style=\"padding-left: 1em; padding-right: 1em; text-align: center; vertical-align: top\">Baby Tracker&amp;reg; - Daily<br>Childcare Journal, ...</td>\n",
       "        <td style=\"padding-left: 1em; padding-right: 1em; text-align: center; vertical-align: top\">Perfect for new parents.<br>We were able to keep ...</td>\n",
       "        <td style=\"padding-left: 1em; padding-right: 1em; text-align: center; vertical-align: top\">5.0</td>\n",
       "    </tr>\n",
       "    <tr>\n",
       "        <td style=\"padding-left: 1em; padding-right: 1em; text-align: center; vertical-align: top\">Baby Tracker&amp;reg; - Daily<br>Childcare Journal, ...</td>\n",
       "        <td style=\"padding-left: 1em; padding-right: 1em; text-align: center; vertical-align: top\">A friend of mine pinned<br>this product on Pinte ...</td>\n",
       "        <td style=\"padding-left: 1em; padding-right: 1em; text-align: center; vertical-align: top\">5.0</td>\n",
       "    </tr>\n",
       "    <tr>\n",
       "        <td style=\"padding-left: 1em; padding-right: 1em; text-align: center; vertical-align: top\">Baby Tracker&amp;reg; - Daily<br>Childcare Journal, ...</td>\n",
       "        <td style=\"padding-left: 1em; padding-right: 1em; text-align: center; vertical-align: top\">This has been an easy way<br>for my nanny to record ...</td>\n",
       "        <td style=\"padding-left: 1em; padding-right: 1em; text-align: center; vertical-align: top\">4.0</td>\n",
       "    </tr>\n",
       "</table>\n",
       "[10 rows x 3 columns]<br/>\n",
       "</div>"
      ],
      "text/plain": [
       "Columns:\n",
       "\tname\tstr\n",
       "\treview\tstr\n",
       "\trating\tfloat\n",
       "\n",
       "Rows: 10\n",
       "\n",
       "Data:\n",
       "+-------------------------------+-------------------------------+--------+\n",
       "|              name             |             review            | rating |\n",
       "+-------------------------------+-------------------------------+--------+\n",
       "|    Planetwise Flannel Wipes   | These flannel wipes are OK... |  3.0   |\n",
       "|     Planetwise Wipe Pouch     | it came early and was not ... |  5.0   |\n",
       "| Annas Dream Full Quilt wit... | Very soft and comfortable ... |  5.0   |\n",
       "| Stop Pacifier Sucking with... | This is a product well wor... |  5.0   |\n",
       "| Stop Pacifier Sucking with... | All of my kids have cried ... |  5.0   |\n",
       "| Stop Pacifier Sucking with... | When the Binky Fairy came ... |  5.0   |\n",
       "| A Tale of Baby's Days with... | Lovely book, it's bound ti... |  4.0   |\n",
       "| Baby Tracker&reg; - Daily ... | Perfect for new parents. W... |  5.0   |\n",
       "| Baby Tracker&reg; - Daily ... | A friend of mine pinned th... |  5.0   |\n",
       "| Baby Tracker&reg; - Daily ... | This has been an easy way ... |  4.0   |\n",
       "+-------------------------------+-------------------------------+--------+\n",
       "[10 rows x 3 columns]"
      ]
     },
     "execution_count": 3,
     "metadata": {},
     "output_type": "execute_result"
    }
   ],
   "source": [
    "products.head()"
   ]
  },
  {
   "cell_type": "markdown",
   "metadata": {},
   "source": [
    "# Build the word count vector for each review"
   ]
  },
  {
   "cell_type": "code",
   "execution_count": 4,
   "metadata": {
    "collapsed": true
   },
   "outputs": [],
   "source": [
    "products['word_count'] = graphlab.text_analytics.count_words(products['review'])"
   ]
  },
  {
   "cell_type": "code",
   "execution_count": 5,
   "metadata": {
    "collapsed": false
   },
   "outputs": [
    {
     "data": {
      "text/html": [
       "<div style=\"max-height:1000px;max-width:1500px;overflow:auto;\"><table frame=\"box\" rules=\"cols\">\n",
       "    <tr>\n",
       "        <th style=\"padding-left: 1em; padding-right: 1em; text-align: center\">name</th>\n",
       "        <th style=\"padding-left: 1em; padding-right: 1em; text-align: center\">review</th>\n",
       "        <th style=\"padding-left: 1em; padding-right: 1em; text-align: center\">rating</th>\n",
       "        <th style=\"padding-left: 1em; padding-right: 1em; text-align: center\">word_count</th>\n",
       "    </tr>\n",
       "    <tr>\n",
       "        <td style=\"padding-left: 1em; padding-right: 1em; text-align: center; vertical-align: top\">Planetwise Flannel Wipes</td>\n",
       "        <td style=\"padding-left: 1em; padding-right: 1em; text-align: center; vertical-align: top\">These flannel wipes are<br>OK, but in my opinion ...</td>\n",
       "        <td style=\"padding-left: 1em; padding-right: 1em; text-align: center; vertical-align: top\">3.0</td>\n",
       "        <td style=\"padding-left: 1em; padding-right: 1em; text-align: center; vertical-align: top\">{&#x27;blue-12&#x27;: 1,<br>&#x27;stripping&#x27;: 1, &#x27;about&#x27;: ...</td>\n",
       "    </tr>\n",
       "    <tr>\n",
       "        <td style=\"padding-left: 1em; padding-right: 1em; text-align: center; vertical-align: top\">Planetwise Wipe Pouch</td>\n",
       "        <td style=\"padding-left: 1em; padding-right: 1em; text-align: center; vertical-align: top\">it came early and was not<br>disappointed. i love ...</td>\n",
       "        <td style=\"padding-left: 1em; padding-right: 1em; text-align: center; vertical-align: top\">5.0</td>\n",
       "        <td style=\"padding-left: 1em; padding-right: 1em; text-align: center; vertical-align: top\">{&#x27;moist&#x27;: 1, &#x27;came&#x27;: 1,<br>&#x27;holder.&#x27;: 1, &#x27;i&#x27;: 1, ...</td>\n",
       "    </tr>\n",
       "    <tr>\n",
       "        <td style=\"padding-left: 1em; padding-right: 1em; text-align: center; vertical-align: top\">Annas Dream Full Quilt<br>with 2 Shams ...</td>\n",
       "        <td style=\"padding-left: 1em; padding-right: 1em; text-align: center; vertical-align: top\">Very soft and comfortable<br>and warmer than it ...</td>\n",
       "        <td style=\"padding-left: 1em; padding-right: 1em; text-align: center; vertical-align: top\">5.0</td>\n",
       "        <td style=\"padding-left: 1em; padding-right: 1em; text-align: center; vertical-align: top\">{&#x27;this&#x27;: 1, &#x27;anyone&#x27;: 1,<br>&#x27;soft&#x27;: 1, &#x27;than&#x27;: 1, ...</td>\n",
       "    </tr>\n",
       "    <tr>\n",
       "        <td style=\"padding-left: 1em; padding-right: 1em; text-align: center; vertical-align: top\">Stop Pacifier Sucking<br>without tears with ...</td>\n",
       "        <td style=\"padding-left: 1em; padding-right: 1em; text-align: center; vertical-align: top\">This is a product well<br>worth the purchase.  I ...</td>\n",
       "        <td style=\"padding-left: 1em; padding-right: 1em; text-align: center; vertical-align: top\">5.0</td>\n",
       "        <td style=\"padding-left: 1em; padding-right: 1em; text-align: center; vertical-align: top\">{&#x27;this&#x27;: 3, &#x27;purchase.&#x27;:<br>1, &#x27;much&#x27;: 1, &#x27;little&#x27;: ...</td>\n",
       "    </tr>\n",
       "    <tr>\n",
       "        <td style=\"padding-left: 1em; padding-right: 1em; text-align: center; vertical-align: top\">Stop Pacifier Sucking<br>without tears with ...</td>\n",
       "        <td style=\"padding-left: 1em; padding-right: 1em; text-align: center; vertical-align: top\">All of my kids have cried<br>non-stop when I tried to ...</td>\n",
       "        <td style=\"padding-left: 1em; padding-right: 1em; text-align: center; vertical-align: top\">5.0</td>\n",
       "        <td style=\"padding-left: 1em; padding-right: 1em; text-align: center; vertical-align: top\">{&#x27;this&#x27;: 1, &#x27;pacifier,&#x27;:<br>1, &#x27;have&#x27;: 1, &#x27;for&#x27;: 2, ...</td>\n",
       "    </tr>\n",
       "    <tr>\n",
       "        <td style=\"padding-left: 1em; padding-right: 1em; text-align: center; vertical-align: top\">Stop Pacifier Sucking<br>without tears with ...</td>\n",
       "        <td style=\"padding-left: 1em; padding-right: 1em; text-align: center; vertical-align: top\">When the Binky Fairy came<br>to our house, we didn&#x27;t ...</td>\n",
       "        <td style=\"padding-left: 1em; padding-right: 1em; text-align: center; vertical-align: top\">5.0</td>\n",
       "        <td style=\"padding-left: 1em; padding-right: 1em; text-align: center; vertical-align: top\">{&#x27;thumb&#x27;: 1, &#x27;how&#x27;: 1,<br>&#x27;came&#x27;: 1, &#x27;binky&#x27;: 3, ...</td>\n",
       "    </tr>\n",
       "    <tr>\n",
       "        <td style=\"padding-left: 1em; padding-right: 1em; text-align: center; vertical-align: top\">A Tale of Baby&#x27;s Days<br>with Peter Rabbit ...</td>\n",
       "        <td style=\"padding-left: 1em; padding-right: 1em; text-align: center; vertical-align: top\">Lovely book, it&#x27;s bound<br>tightly so you may no ...</td>\n",
       "        <td style=\"padding-left: 1em; padding-right: 1em; text-align: center; vertical-align: top\">4.0</td>\n",
       "        <td style=\"padding-left: 1em; padding-right: 1em; text-align: center; vertical-align: top\">{&#x27;be&#x27;: 1, &#x27;so&#x27;: 1,<br>&#x27;alot&#x27;: 1, &#x27;for&#x27;: 1, ...</td>\n",
       "    </tr>\n",
       "    <tr>\n",
       "        <td style=\"padding-left: 1em; padding-right: 1em; text-align: center; vertical-align: top\">Baby Tracker&amp;reg; - Daily<br>Childcare Journal, ...</td>\n",
       "        <td style=\"padding-left: 1em; padding-right: 1em; text-align: center; vertical-align: top\">Perfect for new parents.<br>We were able to keep ...</td>\n",
       "        <td style=\"padding-left: 1em; padding-right: 1em; text-align: center; vertical-align: top\">5.0</td>\n",
       "        <td style=\"padding-left: 1em; padding-right: 1em; text-align: center; vertical-align: top\">{&#x27;diaper&#x27;: 1, &#x27;life&#x27;: 1,<br>&#x27;half&#x27;: 1, &#x27;and&#x27;: 2, ...</td>\n",
       "    </tr>\n",
       "    <tr>\n",
       "        <td style=\"padding-left: 1em; padding-right: 1em; text-align: center; vertical-align: top\">Baby Tracker&amp;reg; - Daily<br>Childcare Journal, ...</td>\n",
       "        <td style=\"padding-left: 1em; padding-right: 1em; text-align: center; vertical-align: top\">A friend of mine pinned<br>this product on Pinte ...</td>\n",
       "        <td style=\"padding-left: 1em; padding-right: 1em; text-align: center; vertical-align: top\">5.0</td>\n",
       "        <td style=\"padding-left: 1em; padding-right: 1em; text-align: center; vertical-align: top\">{&#x27;this&#x27;: 2, &#x27;diaper&#x27;: 1,<br>&#x27;new&#x27;: 1, &#x27;i&#x27;: 1, ...</td>\n",
       "    </tr>\n",
       "    <tr>\n",
       "        <td style=\"padding-left: 1em; padding-right: 1em; text-align: center; vertical-align: top\">Baby Tracker&amp;reg; - Daily<br>Childcare Journal, ...</td>\n",
       "        <td style=\"padding-left: 1em; padding-right: 1em; text-align: center; vertical-align: top\">This has been an easy way<br>for my nanny to record ...</td>\n",
       "        <td style=\"padding-left: 1em; padding-right: 1em; text-align: center; vertical-align: top\">4.0</td>\n",
       "        <td style=\"padding-left: 1em; padding-right: 1em; text-align: center; vertical-align: top\">{&#x27;this&#x27;: 3, &#x27;highly&#x27;: 1,<br>&#x27;have&#x27;: 1, &#x27;for&#x27;: 1, ...</td>\n",
       "    </tr>\n",
       "</table>\n",
       "[10 rows x 4 columns]<br/>\n",
       "</div>"
      ],
      "text/plain": [
       "Columns:\n",
       "\tname\tstr\n",
       "\treview\tstr\n",
       "\trating\tfloat\n",
       "\tword_count\tdict\n",
       "\n",
       "Rows: 10\n",
       "\n",
       "Data:\n",
       "+-------------------------------+-------------------------------+--------+\n",
       "|              name             |             review            | rating |\n",
       "+-------------------------------+-------------------------------+--------+\n",
       "|    Planetwise Flannel Wipes   | These flannel wipes are OK... |  3.0   |\n",
       "|     Planetwise Wipe Pouch     | it came early and was not ... |  5.0   |\n",
       "| Annas Dream Full Quilt wit... | Very soft and comfortable ... |  5.0   |\n",
       "| Stop Pacifier Sucking with... | This is a product well wor... |  5.0   |\n",
       "| Stop Pacifier Sucking with... | All of my kids have cried ... |  5.0   |\n",
       "| Stop Pacifier Sucking with... | When the Binky Fairy came ... |  5.0   |\n",
       "| A Tale of Baby's Days with... | Lovely book, it's bound ti... |  4.0   |\n",
       "| Baby Tracker&reg; - Daily ... | Perfect for new parents. W... |  5.0   |\n",
       "| Baby Tracker&reg; - Daily ... | A friend of mine pinned th... |  5.0   |\n",
       "| Baby Tracker&reg; - Daily ... | This has been an easy way ... |  4.0   |\n",
       "+-------------------------------+-------------------------------+--------+\n",
       "+-------------------------------+\n",
       "|           word_count          |\n",
       "+-------------------------------+\n",
       "| {'blue-12': 1, 'stripping'... |\n",
       "| {'moist': 1, 'came': 1, 'h... |\n",
       "| {'this': 1, 'anyone': 1, '... |\n",
       "| {'this': 3, 'purchase.': 1... |\n",
       "| {'this': 1, 'pacifier,': 1... |\n",
       "| {'thumb': 1, 'how': 1, 'ca... |\n",
       "| {'be': 1, 'so': 1, 'alot':... |\n",
       "| {'diaper': 1, 'life': 1, '... |\n",
       "| {'this': 2, 'diaper': 1, '... |\n",
       "| {'this': 3, 'highly': 1, '... |\n",
       "+-------------------------------+\n",
       "[10 rows x 4 columns]"
      ]
     },
     "execution_count": 5,
     "metadata": {},
     "output_type": "execute_result"
    }
   ],
   "source": [
    "products.head()"
   ]
  },
  {
   "cell_type": "code",
   "execution_count": 6,
   "metadata": {
    "collapsed": true
   },
   "outputs": [],
   "source": [
    "graphlab.canvas.set_target('ipynb')"
   ]
  },
  {
   "cell_type": "code",
   "execution_count": 7,
   "metadata": {
    "collapsed": false
   },
   "outputs": [
    {
     "data": {
      "application/javascript": [
       "$(\"head\").append($(\"<link/>\").attr({\n",
       "  rel:  \"stylesheet\",\n",
       "  type: \"text/css\",\n",
       "  href: \"//cdnjs.cloudflare.com/ajax/libs/font-awesome/4.1.0/css/font-awesome.min.css\"\n",
       "}));\n",
       "$(\"head\").append($(\"<link/>\").attr({\n",
       "  rel:  \"stylesheet\",\n",
       "  type: \"text/css\",\n",
       "  href: \"//dato.com/files/canvas/1.10.1/css/canvas.css\"\n",
       "}));\n",
       "\n",
       "            (function(){\n",
       "\n",
       "                var e = null;\n",
       "                if (typeof element == 'undefined') {\n",
       "                    var scripts = document.getElementsByTagName('script');\n",
       "                    var thisScriptTag = scripts[scripts.length-1];\n",
       "                    var parentDiv = thisScriptTag.parentNode;\n",
       "                    e = document.createElement('div');\n",
       "                    parentDiv.appendChild(e);\n",
       "                } else {\n",
       "                    e = element[0];\n",
       "                }\n",
       "\n",
       "                if (typeof requirejs !== 'undefined') {\n",
       "                    // disable load timeout; ipython_app.js is large and can take a while to load.\n",
       "                    requirejs.config({waitSeconds: 0});\n",
       "                }\n",
       "\n",
       "                require(['//dato.com/files/canvas/1.10.1/js/ipython_app.js'], function(IPythonApp){\n",
       "                    var app = new IPythonApp();\n",
       "                    app.attachView('sarray','Categorical', {\"sketch\": {\"numeric\": false, \"frequent_items\": {\"\": {\"frequency\": 35, \"value\": \"\"}, \"Munchkin Dora the Explorer Bath Squirters\": {\"frequency\": 24, \"value\": \"Munchkin Dora the ...\"}, \"KidCo Spring Action Cabinet Lock 4-pack\": {\"frequency\": 44, \"value\": \"KidCo Spring ...\"}, \"Natursutten 2 Pack BPA Free Natural Rubber Pacifier, Butterfly Orthodontic, 0 - 6 Months\": {\"frequency\": 18, \"value\": \"Natursutten 2 Pack ...\"}, \"Sony 900 MHz BabyCall Nursery Monitor with Receivers\": {\"frequency\": 53, \"value\": \"Sony 900 MHz ...\"}, \"Evenflo Splash Mega Exersaucer\": {\"frequency\": 40, \"value\": \"Evenflo Splash ...\"}, \"Joovy Zoom 360 Swivel Wheel Jogging Stroller, Blue\": {\"frequency\": 49, \"value\": \"Joovy Zoom 360 ...\"}, \"Dream On Me 3&quot; Rounded Corner Playard Mattress, White/Brown\": {\"frequency\": 35, \"value\": \"Dream On Me ...\"}, \"Dr. Brown's 3-pack 8-ounce Standard Bottles\": {\"frequency\": 47, \"value\": \"Dr. Brown's 3-pack ...\"}, \"The First Years Compass B540 Booster Seat, Abstract O's\": {\"frequency\": 71, \"value\": \"The First Years ...\"}, \"Boon Frog Pod Suction Cup Bracket\": {\"frequency\": 20, \"value\": \"Boon Frog Pod ...\"}, \"Fisher Price Fisher Price Fastfinder Deluxe Messenger Bag\": {\"frequency\": 22, \"value\": \"Fisher Price ...\"}, \"Toysmith Busy Zoo Activity Center\": {\"frequency\": 18, \"value\": \"Toysmith Busy Zoo ...\"}, \"HALO SleepSack 100% Cotton Swaddle, Soft Pink, Newborn\": {\"frequency\": 99, \"value\": \"HALO SleepSack ...\"}, \"LA Baby 4 Sided Changing Pad 32&quot;, White\": {\"frequency\": 37, \"value\": \"LA Baby 4 Sided ...\"}, \"9V Auto Adapter Car Vehicle Lighter adapter for Medela Pump-in-Style Replaces Part # 67174 Retail Packaging\": {\"frequency\": 22, \"value\": \"9V Auto Adapter ...\"}, \"Boon Glo Nightlight with Portable Balls,White\": {\"frequency\": 35, \"value\": \"Boon Glo ...\"}, \"Philips Avent Express Baby Food and Bottle Warmer\": {\"frequency\": 36, \"value\": \"Philips Avent ...\"}, \"My Pool Pal Reusable Swim Diaper, Pink, 2T\": {\"frequency\": 21, \"value\": \"My Pool Pal ...\"}, \"Aden + Anais Issie Security Blanket Set Declan Elephants\": {\"frequency\": 23, \"value\": \"Aden + Anais Issie ...\"}, \"Chicco Cortina KeyFit 30 Travel System in Adventure\": {\"frequency\": 46, \"value\": \"Chicco Cortina ...\"}, \"Sugar Booger Kiddie Play Back Pack, Prehistoric Pals\": {\"frequency\": 22, \"value\": \"Sugar Booger ...\"}, \"Sugar Booger &quot;Yee Haw&quot; Feeding Collection Divided Suction Plate\": {\"frequency\": 23, \"value\": \"Sugar Booger ...\"}, \"Graco Pack 'n Play Playard with Cuddle Cove Rocking Seat, Winslet\": {\"frequency\": 40, \"value\": \"Graco Pack 'n Play ...\"}, \"NUK 2 Pack Replacement valves Spill Proof Cup, Colors May Vary\": {\"frequency\": 23, \"value\": \"NUK 2 Pack ...\"}, \"Summer Infant Elite DuoMat for Car Seat, Black\": {\"frequency\": 55, \"value\": \"Summer Infant ...\"}, \"Skip Hop Zoo Playspot\": {\"frequency\": 18, \"value\": \"Skip Hop Zoo ...\"}, \"Evenflo Amp Performance No Back Booster Car Seat, Green\": {\"frequency\": 24, \"value\": \"Evenflo Amp ...\"}, \"Boon Squirt Silicone Baby Food Dispensing Spoon,Green\": {\"frequency\": 23, \"value\": \"Boon Squirt ...\"}, \"Baby K'tan Breeze Baby Carrier, White, Large\": {\"frequency\": 29, \"value\": \"Baby K'tan Breeze ...\"}, \"Dwinguler Eco-friendly Kids Play Mat - Safari Tour (Large)\": {\"frequency\": 25, \"value\": \"Dwinguler Eco- ...\"}, \"Tiny Love Tummy Time Fun Activity Mat, Frog\": {\"frequency\": 21, \"value\": \"Tiny Love Tummy ...\"}, \"Boppy Luxe - Clouds\": {\"frequency\": 31, \"value\": \"Boppy Luxe - ...\"}, \"The First Years John Deere Massaging Corn Teether\": {\"frequency\": 28, \"value\": \"The First Years ...\"}, \"Boon Flair Pedestal Highchair with Pneumatic Lift,White/Orang\": {\"frequency\": 53, \"value\": \"Boon Flair ...\"}, \"Nuby 5 Count Splish Splash Stacking Bath Cups\": {\"frequency\": 18, \"value\": \"Nuby 5 Count ...\"}, \"Medela Freestyle Spare Parts Kit\": {\"frequency\": 19, \"value\": \"Medela Freestyle ...\"}, \"Thermos Ice Mat, 9 Cube\": {\"frequency\": 30, \"value\": \"Thermos Ice Mat, 9 ...\"}, \"Bumkins Junior Bib, Blue Fizz\": {\"frequency\": 49, \"value\": \"Bumkins Junior ...\"}, \"Safety 1st Tubside Bath Seat\": {\"frequency\": 53, \"value\": \"Safety 1st Tubside ...\"}, \"SugarBooger Vroom Jumbo Splat Mat\": {\"frequency\": 25, \"value\": \"SugarBooger Vroom ...\"}, \"VTech Communications Safe &amp; Sound Digital Audio Monitor with two Parent Units\": {\"frequency\": 139, \"value\": \"VTech ...\"}, \"Playtex Lil' Gripper/TrainingTime Straw Trainer Cup, 6 Ounce , Colors May Vary\": {\"frequency\": 46, \"value\": \"Playtex Lil' Gripp ...\"}, \"Diaper Genie Essentials Diaper Disposal Pail withStarter Refill, 100-Count\": {\"frequency\": 19, \"value\": \"Diaper Genie ...\"}, \"Boon Grass Countertop Drying Rack, Green\": {\"frequency\": 124, \"value\": \"Boon Grass ...\"}, \"Hello Kitty diecut face shape Area Rug 30 X 25 inches\": {\"frequency\": 27, \"value\": \"Hello Kitty diecut ...\"}, \"Sassy Rattlin Rings, Blue/Black\": {\"frequency\": 36, \"value\": \"Sassy Rattlin ...\"}, \"BooginHead Squeez'Ems Reusable Food Pouches (4 Pouches)\": {\"frequency\": 28, \"value\": \"BooginHead ...\"}, \"Lamaze Freddie The Firefly Musical Mobile\": {\"frequency\": 18, \"value\": \"Lamaze Freddie The ...\"}, \"Medela Harmony Manual Breast Pump\": {\"frequency\": 126, \"value\": \"Medela Harmony ...\"}, \"green sprouts Toddler Water Bottle Cap Adapter, Clear\": {\"frequency\": 19, \"value\": \"green sprouts ...\"}, \"Kair Air Cushioned Bath Visor, Blue\": {\"frequency\": 38, \"value\": \"Kair Air Cushioned ...\"}, \"Bumbo Step Stool, Pink\": {\"frequency\": 27, \"value\": \"Bumbo Step Stool, ...\"}, \"Summer Infant  8 Panel Playsafe Playard, Tan\": {\"frequency\": 19, \"value\": \"Summer Infant  8 ...\"}, \"Two Peas in a Pod - Ceramic Salt &amp; Pepper Shakers in Ivy Print Gift Box\": {\"frequency\": 21, \"value\": \"Two Peas in a Pod ...\"}, \"Skip Hop Versa Diaper Bag, Cream Links\": {\"frequency\": 63, \"value\": \"Skip Hop Versa ...\"}, \"Graco Nasal Clear Nasal Aspirator\": {\"frequency\": 89, \"value\": \"Graco Nasal Clear ...\"}, \"Baby Einstein Musical Motion Activity Jumper, Blue\": {\"frequency\": 98, \"value\": \"Baby Einstein ...\"}, \"Dex Products Safe Sleeper Bed Rail Ultra\": {\"frequency\": 36, \"value\": \"Dex Products Safe ...\"}, \"Thudguard Baby Safety Helmet - Blue\": {\"frequency\": 26, \"value\": \"Thudguard Baby ...\"}, \"Ju-Ju-Be Paci Pod Pacifier Holder, Lilac Lace\": {\"frequency\": 27, \"value\": \"Ju-Ju-Be Paci Pod ...\"}, \"Disney Mickey Mouse Space Adventures 4 Piece Toddler Set, Blue\": {\"frequency\": 22, \"value\": \"Disney Mickey ...\"}, \"The First Years Babypro Quick Serve Bottle Warmer, Colors May Vary\": {\"frequency\": 137, \"value\": \"The First Years ...\"}, \"Evenflo Compact Fold High Chair, Covington\": {\"frequency\": 18, \"value\": \"Evenflo Compact ...\"}, \"OXO Tot Sprout Chair, Orange/Birch\": {\"frequency\": 44, \"value\": \"OXO Tot Sprout ...\"}, \"Pigeon Nail Scissor (New Born Baby) Made in Japan\": {\"frequency\": 19, \"value\": \"Pigeon Nail ...\"}, \"BooginHead PaciGrip Pacifier Holder, Peach Delight\": {\"frequency\": 18, \"value\": \"BooginHead ...\"}, \"Tiny Love Soothe 'n Groove Mobile, Blue\": {\"frequency\": 26, \"value\": \"Tiny Love Soothe ...\"}, \"Jeep Universal Stroller Hook, 2 Pack\": {\"frequency\": 25, \"value\": \"Jeep Universal ...\"}, \"Angelcare Baby Sound Monitor, White\": {\"frequency\": 85, \"value\": \"Angelcare Baby ...\"}, \"Joovy Scooter Single Stroller Greenie\": {\"frequency\": 17, \"value\": \"Joovy Scooter ...\"}, \"Jeep Wrangler Twin Sport All-Weather Stroller, Heat\": {\"frequency\": 21, \"value\": \"Jeep Wrangler Twin ...\"}, \"Graco Pack N Play Playard with Bassinet, Pasadena\": {\"frequency\": 65, \"value\": \"Graco Pack N Play ...\"}, \"Regalo Easy Open 50 Inch Super Wide Walk Thru Gate - White\": {\"frequency\": 238, \"value\": \"Regalo Easy Open ...\"}, \"Munchkin Baby Care Cart\": {\"frequency\": 20, \"value\": \"Munchkin Baby Care ...\"}, \"Summer Infant Character Change Pad Cover, Butterfly Ladybug\": {\"frequency\": 53, \"value\": \"Summer Infant ...\"}, \"Kidkusion Toddler Corner Kushions Off White - 4 Pack\": {\"frequency\": 50, \"value\": \"Kidkusion Toddler ...\"}, \"Gerber Graduate BPA Free 2 Pack Fun Grips Spill Proof Cup, 7 Ounce, Colors May Vary\": {\"frequency\": 21, \"value\": \"Gerber Graduate ...\"}, \"Sesame Street Elmo Adventure Potty Chair\": {\"frequency\": 31, \"value\": \"Sesame Street Elmo ...\"}, \"Prince Lionheart BoosterPOD, White Base/Lemon\": {\"frequency\": 56, \"value\": \"Prince Lionheart ...\"}, \"Sugarbooger Classic Lunch Sack, Dia De Los Muertos\": {\"frequency\": 23, \"value\": \"Sugarbooger ...\"}, \"Fisher-Price Ducky Fun 3-in-1 Potty\": {\"frequency\": 20, \"value\": \"Fisher-Price Ducky ...\"}, \"Best Bottom Cloth Diaper Shell-Hook and Loop, Very Cherry\": {\"frequency\": 18, \"value\": \"Best Bottom Cloth ...\"}, \"DaVinci Emily 3-Drawer Changer Dresser, Ebony\": {\"frequency\": 19, \"value\": \"DaVinci Emily ...\"}, \"Bummis Super Whisper Wrap, White, 30 Pounds\": {\"frequency\": 20, \"value\": \"Bummis Super ...\"}, \"Fisher-Price Precious Planet Whale of a Tub\": {\"frequency\": 65, \"value\": \"Fisher-Price ...\"}, \"Summer Infant Deluxe Piddle Pad, Black\": {\"frequency\": 51, \"value\": \"Summer Infant ...\"}, \"Kushies 5 Pack Reusable Ultra Diapers for Infants\": {\"frequency\": 20, \"value\": \"Kushies 5 Pack ...\"}, \"Contours Options 3 Wheeler Stroller II, Cinnamon\": {\"frequency\": 21, \"value\": \"Contours Options 3 ...\"}, \"JJ Cole Original Infant Bundle Me, Graphite\": {\"frequency\": 42, \"value\": \"JJ Cole Original ...\"}, \"Gerber Training Pants 3 Pack, Blue/White, 2T\": {\"frequency\": 25, \"value\": \"Gerber Training ...\"}, \"Thirsties Duo Wrap Snap, Ocean Blue, Size One (6-18 lbs)\": {\"frequency\": 150, \"value\": \"Thirsties Duo Wrap ...\"}, \"Britax Boulevard G4 Convertible Car Seat, Onyx\": {\"frequency\": 18, \"value\": \"Britax Boulevard ...\"}, \"Graco TotBloc Pack 'N Play with Carry Bag, Bugs Quilt\": {\"frequency\": 139, \"value\": \"Graco TotBloc Pack ...\"}, \"KidCo Auto Close ConfigureGate - Black\": {\"frequency\": 30, \"value\": \"KidCo Auto Close ...\"}, \"Munchkin Nursery Projector and Sound System, White\": {\"frequency\": 242, \"value\": \"Munchkin Nursery ...\"}, \"Cradle Mattress - 18 X 36 X 2&quot; Thick\": {\"frequency\": 18, \"value\": \"Cradle Mattress - ...\"}, \"Britax Chaperone Infant Car Seat, Black\": {\"frequency\": 29, \"value\": \"Britax Chaperone ...\"}, \"Kel-Gar Snug Tub - Elephant\": {\"frequency\": 38, \"value\": \"Kel-Gar Snug Tub - ...\"}, \"Graco Digital Deluxe iMonitor Baby Monitor\": {\"frequency\": 26, \"value\": \"Graco Digital ...\"}, \"Graco Sarah Classic Convertible Crib, White\": {\"frequency\": 36, \"value\": \"Graco Sarah ...\"}, \"Bright Starts Petals and Friends Activity Gym\": {\"frequency\": 31, \"value\": \"Bright Starts ...\"}, \"Kidsme Food Feeder Essential Set\": {\"frequency\": 25, \"value\": \"Kidsme Food Feeder ...\"}, \"Disney 4 Piece Minnie's Fluttery Friends Toddler Bedding Set, Lavender\": {\"frequency\": 30, \"value\": \"Disney 4 Piece ...\"}, \"Britax Marathon G4 Convertible Car Seat, Cowmooflage\": {\"frequency\": 32, \"value\": \"Britax Marathon G4 ...\"}, \"KidCo Outlet Plug Cover\": {\"frequency\": 41, \"value\": \"KidCo Outlet Plug ...\"}, \"Fisher-Price Kick and Play Piano Gym, Pink\": {\"frequency\": 37, \"value\": \"Fisher-Price Kick ...\"}, \"Dreambaby Extra Tall Swing Closed Security Gate, Black\": {\"frequency\": 21, \"value\": \"Dreambaby Extra ...\"}, \"Safety 1st Crystal Clear Baby Monitor, White\": {\"frequency\": 62, \"value\": \"Safety 1st Crystal ...\"}, \"Cloud b Gentle Giraffe On The Go Travel Sound Machine with Four Soothing Sounds\": {\"frequency\": 38, \"value\": \"Cloud b Gentle ...\"}, \"Munchkin Deluxe Dishwasher Basket, Colors May Vary\": {\"frequency\": 63, \"value\": \"Munchkin Deluxe ...\"}, \"Little Partners Learning Tower - Natural\": {\"frequency\": 37, \"value\": \"Little Partners ...\"}, \"Graco SnugRider Elite Stroller &amp; Car Seat Carrier\": {\"frequency\": 41, \"value\": \"Graco SnugRider ...\"}, \"Mustela 2-In-1 Hair &amp; Body Shampoo 6.76 ounces\": {\"frequency\": 19, \"value\": \"Mustela 2-In-1 ...\"}, \"Medela Pump in Style Advanced Breast Pump with Shoulder Bag\": {\"frequency\": 18, \"value\": \"Medela Pump in ...\"}, \"Razbaby RaZberry Teether - Red/Blue 2-Pack\": {\"frequency\": 16, \"value\": \"Razbaby RaZberry ...\"}, \"Munchkin XTRAGUARD 2 Count Dual Action Multi Use Latches\": {\"frequency\": 112, \"value\": \"Munchkin XTRAGUARD ...\"}, \"Tiny Love Take-Along Arch, Sunny Stroll\": {\"frequency\": 241, \"value\": \"Tiny Love Take- ...\"}, \"Neat Solutions Baby Einstein Biodegradable Table Topper Disposable Stick-on Placemat , 30-Count\": {\"frequency\": 28, \"value\": \"Neat Solutions ...\"}, \"KidCo Convertible Crib Bed Rail Finish: Natural\": {\"frequency\": 13, \"value\": \"KidCo Convertible ...\"}, \"Inclined to Sleep\": {\"frequency\": 37, \"value\": \"Inclined to Sleep\"}, \"JJ Cole Bundleme Shearling Baby Hat, 0 - 6 Months\": {\"frequency\": 21, \"value\": \"JJ Cole Bundleme ...\"}, \"green sprouts 10 Pack Waterproof Absorbent Terry Bibs , Boys\": {\"frequency\": 70, \"value\": \"green sprouts 10 ...\"}, \"Prince Lionheart Versa Formula Mixer\": {\"frequency\": 25, \"value\": \"Prince Lionheart ...\"}, \"Ring Snuggies ~ Ring Sizer / Assorted Sizes Adjuster Set of Six Per Pack\": {\"frequency\": 40, \"value\": \"Ring Snuggies ~ ...\"}, \"Harmony Kids Standard Rocker, Hot Pink\": {\"frequency\": 97, \"value\": \"Harmony Kids ...\"}, \"Gund Baby Lena Lamb Musical Toy, Jesus Loves Me\": {\"frequency\": 25, \"value\": \"Gund Baby Lena ...\"}, \"Chicco Liteway Stroller, Fuego\": {\"frequency\": 42, \"value\": \"Chicco Liteway ...\"}, \"Evenflo Switch A Roo, Apple Book\": {\"frequency\": 20, \"value\": \"Evenflo Switch A ...\"}, \"We Sell Mats 36 Sq Ft Alphabet and Number Floor Mat\": {\"frequency\": 47, \"value\": \"We Sell Mats 36 Sq ...\"}, \"Boba Air Baby Carrier, Black\": {\"frequency\": 26, \"value\": \"Boba Air Baby ...\"}, \"OXO Tot 4-Piece Feeding Set, Green\": {\"frequency\": 27, \"value\": \"OXO Tot 4-Piece ...\"}, \"Nuby 2 Count 2 Handle Cup with No Spill Super Spout, Colors May Vary\": {\"frequency\": 24, \"value\": \"Nuby 2 Count 2 ...\"}, \"TL Care Organic Cotton Mittens, Natural, 0-3 Months\": {\"frequency\": 32, \"value\": \"TL Care Organic ...\"}, \"Fisher-Price Infant-To-Toddler Rocker, Blue/Green\": {\"frequency\": 217, \"value\": \"Fisher-Price ...\"}, \"Munchkin Arm &amp; Hammer Disposable Changing Pad - 10 Pack\": {\"frequency\": 40, \"value\": \"Munchkin Arm &amp; ...\"}, \"Fisher-Price Newborn-to-Toddler Portable Rocker\": {\"frequency\": 23, \"value\": \"Fisher-Price ...\"}, \"Giant Peel &amp; Stick Nursery Decal - Forest Animals &amp; Flowers Tree for Boys &amp; Girls (Tree Assembles 4.7 Feet Tall)\": {\"frequency\": 30, \"value\": \"Giant Peel &amp; ...\"}, \"Medela Supplemental Nursing System\": {\"frequency\": 20, \"value\": \"Medela ...\"}, \"Kushies 6 Pack Wash Cloth Set, White\": {\"frequency\": 19, \"value\": \"Kushies 6 Pack ...\"}, \"3 Sprouts Storage Caddy, Mouse\": {\"frequency\": 27, \"value\": \"3 Sprouts Storage ...\"}, \"Lite-on-Shoulder Baby Sling\": {\"frequency\": 62, \"value\": \"Lite-on-Shoulder ...\"}, \"Beaba Multiportion Freezer Tray - Orange\": {\"frequency\": 40, \"value\": \"Beaba Multiportion ...\"}, \"The Art of CureTM *SAFETY KNOTTED* Honey 1x1 - Certified Baltic Amber Baby Teething Necklace - w/The Art of CureTM Jewelry Pouch (SHIPS AND SOLD IN THE USA)\": {\"frequency\": 25, \"value\": \"The Art of CureTM ...\"}, \"Baby Nasal Aspirator Vacuum Suction Pigeon (Made in Japan)\": {\"frequency\": 20, \"value\": \"Baby Nasal ...\"}, \"Boppy Cottony Cute Slipcover, Emily's Garden\": {\"frequency\": 45, \"value\": \"Boppy Cottony Cute ...\"}, \"Neat Solutions Dora the Explorer Potty Topper Disposable Stick-in-Place Toilet Seat Covers, 10-Count\": {\"frequency\": 24, \"value\": \"Neat Solutions ...\"}, \"Thermos FOOGO Phases Stainless Steel Straw Bottle, Pink/Purple, 10 Ounce\": {\"frequency\": 151, \"value\": \"Thermos FOOGO ...\"}, \"Baby Einstein Musical Motion Activity Jumper\": {\"frequency\": 17, \"value\": \"Baby Einstein ...\"}, \"Aqueduck Faucet Extender, Pink\": {\"frequency\": 143, \"value\": \"Aqueduck Faucet ...\"}, \"Philips AVENT BPA Free Twin Electric Breast Pump\": {\"frequency\": 79, \"value\": \"Philips AVENT BPA ...\"}, \"Fisher-Price Baby Papasan\": {\"frequency\": 71, \"value\": \"Fisher-Price Baby ...\"}, \"Safety 1st Magnetic Locking System\": {\"frequency\": 22, \"value\": \"Safety 1st ...\"}, \"BEABA First Stage Spoon Multi-Pack - Multicolor - 4 pk\": {\"frequency\": 18, \"value\": \"BEABA First Stage ...\"}, \"Stork Craft Rocking Horse, Oak\": {\"frequency\": 33, \"value\": \"Stork Craft ...\"}, \"Safety 1st Alpha Omega Elite Convertible Car Seat, Seaside Bay\": {\"frequency\": 25, \"value\": \"Safety 1st Alpha ...\"}, \"Mommy's Helper Inflatable Bath Tub Froggie Collection, White/Green, 6-18 Months\": {\"frequency\": 21, \"value\": \"Mommy's Helper ...\"}, \"Baby Safe Ink Print Kit - Basic\": {\"frequency\": 29, \"value\": \"Baby Safe Ink ...\"}, \"Joovy Tricycoo Tricycle, Greenie\": {\"frequency\": 24, \"value\": \"Joovy Tricycoo ...\"}, \"South Shore Angel 4 Drawer Chest, Espresso\": {\"frequency\": 18, \"value\": \"South Shore Angel ...\"}, \"Britax 2013 B-Agile Stroller, Granite\": {\"frequency\": 28, \"value\": \"Britax 2013 ...\"}, \"North States Supergate Extra Tall Easy Close Gate, Bronze\": {\"frequency\": 52, \"value\": \"North States ...\"}, \"Peg-Perego Prima Pappa Best High Chair, Paloma\": {\"frequency\": 22, \"value\": \"Peg-Perego Prima ...\"}, \"Delta City Street Side by Side Stroller, Black\": {\"frequency\": 19, \"value\": \"Delta City Street ...\"}, \"Quick Clean Breastpump Accessory Wipes 24 Pack\": {\"frequency\": 36, \"value\": \"Quick Clean ...\"}, \"Arm's Reach Mini Co-Sleeper Bassinet - Natural\": {\"frequency\": 26, \"value\": \"Arm's Reach Mini ...\"}, \"The First Years Carry Me Near Sleep System, Cream\": {\"frequency\": 52, \"value\": \"The First Years ...\"}, \"Food Mill - BabySteps Kid Co 1 Pk\": {\"frequency\": 36, \"value\": \"Food Mill - ...\"}, \"See Me Smile Infant Mirror Tan Bear\": {\"frequency\": 23, \"value\": \"See Me Smile ...\"}, \"Nuby No Spill Flip-it Cup, 12 Ounce, Colors May Vary\": {\"frequency\": 34, \"value\": \"Nuby No Spill ...\"}, \"JJ Cole Caprice Diaper Bag, Black with Cream Pattern\": {\"frequency\": 19, \"value\": \"JJ Cole Caprice ...\"}, \"Medela Spare Membranes for Breatpumps 6 Pack\": {\"frequency\": 21, \"value\": \"Medela Spare ...\"}, \"GroVia BioLiners One Size Unscented - 200 Count\": {\"frequency\": 51, \"value\": \"GroVia BioLiners ...\"}, \"Luvable Friends Fitted Knit Crib Sheet, White\": {\"frequency\": 45, \"value\": \"Luvable Friends ...\"}, \"Sassy No Scratch Bottle Brush, Colors May Vary\": {\"frequency\": 18, \"value\": \"Sassy No Scratch ...\"}, \"Natursutten BPA-Free Natural Rubber Pacifier, Rounded, 12 Months\": {\"frequency\": 24, \"value\": \"Natursutten BPA- ...\"}, \"The First Years 3 Pack Disney Princess Take &amp; Toss Straw Cup\": {\"frequency\": 18, \"value\": \"The First Years 3 ...\"}, \"Goldbug Animal 2 in 1 Harness, Horse\": {\"frequency\": 55, \"value\": \"Goldbug Animal 2 ...\"}, \"Graco ComfortSport Convertible Car Seat, Zara\": {\"frequency\": 36, \"value\": \"Graco ComfortSport ...\"}, \"Regalo Easy Step Extra Tall Walk Thru Gate - White\": {\"frequency\": 101, \"value\": \"Regalo Easy Step ...\"}, \"KidCo Door Knob Lock ** 5 PACK ** (WHITE)\": {\"frequency\": 28, \"value\": \"KidCo Door Knob ...\"}, \"Sesame's Elmo Bath Mat 'splish Splash'\": {\"frequency\": 25, \"value\": \"Sesame's Elmo Bath ...\"}, \"Protect-a-Bub Single Compact Sunshade, Black\": {\"frequency\": 19, \"value\": \"Protect-a-Bub ...\"}, \"BRICA Fold N' Go Travel Bassinet\": {\"frequency\": 28, \"value\": \"BRICA Fold N' Go ...\"}, \"Medela Swing Breastpump\": {\"frequency\": 72, \"value\": \"Medela Swing ...\"}, \"Fisher-Price Ocean Wonders Bath Center - Aquarium\": {\"frequency\": 50, \"value\": \"Fisher-Price Ocean ...\"}, \"Wubbanub Infant Pacifiers (Pink Kitty)\": {\"frequency\": 20, \"value\": \"Wubbanub Infant ...\"}, \"Skip Hop Zoo Safety Harness, Monkey\": {\"frequency\": 32, \"value\": \"Skip Hop Zoo ...\"}, \"Philips AVENT DECT Baby Monitor with Temperature Sensor and New ECO Mode\": {\"frequency\": 30, \"value\": \"Philips AVENT DECT ...\"}, \"Munchkin High Capacity Drying Rack, White\": {\"frequency\": 22, \"value\": \"Munchkin High ...\"}, \"Britax Pinnacle 90 Booster Car Seat, Broadway\": {\"frequency\": 46, \"value\": \"Britax Pinnacle 90 ...\"}, \"Cloud b Sound Machine Soother, Sleep Sheep\": {\"frequency\": 176, \"value\": \"Cloud b Sound ...\"}, \"Munchkin Mighty Grip Trainer Cup 2-Pack, 8 oz, Colors Vary\": {\"frequency\": 21, \"value\": \"Munchkin Mighty ...\"}, \"Evenflo Bounce and Learn Bee Exersaucer\": {\"frequency\": 66, \"value\": \"Evenflo Bounce and ...\"}, \"Evenflo Big Kid AMP No Back Booster Car Seat, Red\": {\"frequency\": 25, \"value\": \"Evenflo Big Kid ...\"}, \"Graco Pack 'N Play with Newborn Napper Elite, Vance\": {\"frequency\": 25, \"value\": \"Graco Pack 'N Play ...\"}, \"Stork Craft Aspen Combo Dresser Chest, Natural\": {\"frequency\": 70, \"value\": \"Stork Craft Aspen ...\"}, \"Vulli 2 Pack Vanilla Flavored Ring Teethe, Colors May Vary\": {\"frequency\": 45, \"value\": \"Vulli 2 Pack ...\"}, \"Skip Hop Grand Central Diaper Bag, Black\": {\"frequency\": 24, \"value\": \"Skip Hop Grand ...\"}, \"BRICA Day &amp; Night Light Musical Auto Mirror for in Car Safety, Grey\": {\"frequency\": 20, \"value\": \"BRICA Day &amp; ...\"}, \"Burlington Baby Wicker Hamper, White\": {\"frequency\": 23, \"value\": \"Burlington Baby ...\"}, \"Munchkin Arm and Hammer Bag Refill, 36 Bags\": {\"frequency\": 25, \"value\": \"Munchkin Arm and ...\"}, \"Natursutten BPA-Free Natural Rubber Pacifier, Orthodontic, 0-6 Months\": {\"frequency\": 34, \"value\": \"Natursutten BPA- ...\"}, \"The First Years Close and Secure Sleeper\": {\"frequency\": 61, \"value\": \"The First Years ...\"}, \"Upspring Baby Walking Wings Learning To Walk Assistant Blue\": {\"frequency\": 21, \"value\": \"Upspring Baby ...\"}, \"Cloth Diaper Sprayer--styles may vary\": {\"frequency\": 33, \"value\": \"Cloth Diaper ...\"}, \"Baby Smart Cooshie Booster Seat - Blue\": {\"frequency\": 25, \"value\": \"Baby Smart Cooshie ...\"}, \"Fisher-Price Ocean Wonders Aquarium Cradle Swing\": {\"frequency\": 178, \"value\": \"Fisher-Price Ocean ...\"}, \"HALO SleepSack Micro-Fleece Early Walker Wearable Blanket, Baby Blue, Large\": {\"frequency\": 77, \"value\": \"HALO SleepSack ...\"}, \"Munchkin 2 Pack Fresh Food Feeder, Colors May Vary\": {\"frequency\": 110, \"value\": \"Munchkin 2 Pack ...\"}, \"Boppy Pregnancy Wedge with Cotton Slipcover\": {\"frequency\": 29, \"value\": \"Boppy Pregnancy ...\"}, \"Badger Basket Baby Changing Table with Six Baskets, Black\": {\"frequency\": 40, \"value\": \"Badger Basket Baby ...\"}, \"Ulubulu Universal Pacifier Clip, Oliver Owl\": {\"frequency\": 36, \"value\": \"Ulubulu Universal ...\"}, \"The First Years True Fit SI C680 Car Seat, Naturalization\": {\"frequency\": 18, \"value\": \"The First Years ...\"}, \"Fisher-Price Potty Training, Learn-to-Flush\": {\"frequency\": 34, \"value\": \"Fisher-Price Potty ...\"}, \"North States Supergate Extra Wide Wire Mesh Gate\": {\"frequency\": 46, \"value\": \"North States ...\"}, \"Snap 'N Go Infant Car Seat Carrier\": {\"frequency\": 46, \"value\": \"Snap 'N Go Infant ...\"}, \"Fisher-Price Ipad Apptivity Seat, Newborn-to-Toddler\": {\"frequency\": 37, \"value\": \"Fisher-Price Ipad ...\"}, \"OXO Tot Dishwasher Basket, Orange\": {\"frequency\": 23, \"value\": \"OXO Tot Dishwasher ...\"}, \"Breast Pump Kit for Medela Pump in Style Advanced Breastpump. Include Replacement Tubing for Pump In Style, 2 One-piece Breastshields (Replace Medela Personalfit 24mm), 2 Valves, and 4 Membranes. Replace Medela Personalfit Connector and Breastshield. Suitable for Pump-in-style Released After July 2006.\": {\"frequency\": 30, \"value\": \"Breast Pump Kit ...\"}, \"Joovy Scooter X2 Double Stroller, Greenie\": {\"frequency\": 38, \"value\": \"Joovy Scooter X2 ...\"}, \"Philips AVENT BPA Free Classic Newborn Flow Nipple, 2-Pack\": {\"frequency\": 47, \"value\": \"Philips AVENT BPA ...\"}, \"Thirsties Hemp Inserts 2 Pack, Small 6-18 Lbs\": {\"frequency\": 57, \"value\": \"Thirsties Hemp ...\"}, \"Motorola Digital Audio Baby Monitor\": {\"frequency\": 20, \"value\": \"Motorola Digital ...\"}, \"BOB Single Snack Tray, Black\": {\"frequency\": 25, \"value\": \"BOB Single Snack ...\"}, \"QuickZip Crib Sheet Set, White\": {\"frequency\": 19, \"value\": \"QuickZip Crib ...\"}, \"Comotomo Natural Feel Baby Bottle Single Pack, Pink, 8 Ounces\": {\"frequency\": 71, \"value\": \"Comotomo Natural ...\"}, \"The Safe Sippy 2 2-in-1 Sippy to Straw Bottle, Pink\": {\"frequency\": 35, \"value\": \"The Safe Sippy 2 ...\"}, \"Kiddopotamus SwaddleMe Microfleece, Small, Blue\": {\"frequency\": 78, \"value\": \"Kiddopotamus ...\"}, \"JJ Cole Collections Diaper Caddy, Blue Stripe\": {\"frequency\": 46, \"value\": \"JJ Cole ...\"}, \"BOB Revolution SE Duallie Stroller, Navy\": {\"frequency\": 40, \"value\": \"BOB Revolution SE ...\"}, \"Cool Gear Travel Potty\": {\"frequency\": 20, \"value\": \"Cool Gear Travel ...\"}, \"Stork Craft Aspen 5 Drawer Chest, Black\": {\"frequency\": 19, \"value\": \"Stork Craft Aspen ...\"}, \"Boppy Noggin Nest Head Support, Brown Wheels\": {\"frequency\": 114, \"value\": \"Boppy Noggin Nest ...\"}, \"Jolly Jumper Stroller Caddy - Stroller Handlebar Organizer\": {\"frequency\": 47, \"value\": \"Jolly Jumper ...\"}, \"Safety 1st Wide Doorways Fabric Gate, Natural\": {\"frequency\": 20, \"value\": \"Safety 1st Wide ...\"}, \"BRICA Deluxe Snack Pod Stroller Drink and Snack Holder, Gray\": {\"frequency\": 20, \"value\": \"BRICA Deluxe Snack ...\"}, \"Fisher-Price Newborn Rock 'n Play Sleeper, Yellow\": {\"frequency\": 236, \"value\": \"Fisher-Price ...\"}, \"Evenflo SmartSteps Jump and Go, ABC123\": {\"frequency\": 39, \"value\": \"Evenflo SmartSteps ...\"}, \"Stork Craft Venetian 4-in-1 Fixed Side Convertible Crib, Cherry\": {\"frequency\": 18, \"value\": \"Stork Craft ...\"}, \"Arm's Reach Natural Original Co-Sleeper\": {\"frequency\": 35, \"value\": \"Arm's Reach ...\"}, \"3 Sprouts Storage Bin, Monkey\": {\"frequency\": 38, \"value\": \"3 Sprouts Storage ...\"}, \"North States Supergate Pressure Mount Clear Choice Wood Gate\": {\"frequency\": 40, \"value\": \"North States ...\"}, \"C.R. Gibson Bound Keepsake Memory Book of Baby's First 5 Years, Lulu\": {\"frequency\": 59, \"value\": \"C.R. Gibson Bound ...\"}, \"Philips Avent DECT Baby Monitor with Temperature Sensor and Night Mode\": {\"frequency\": 18, \"value\": \"Philips Avent DECT ...\"}, \"Graco FastAction Fold Jogger Click Connect Stroller, Grapeade\": {\"frequency\": 32, \"value\": \"Graco FastAction ...\"}, \"aden + anais Classic Muslin Swaddle Blanket 4 Pack, Blue and White (Previous Model)\": {\"frequency\": 20, \"value\": \"aden + anais ...\"}, \"Fisher-Price Precious Planet Kick and Play Piano\": {\"frequency\": 41, \"value\": \"Fisher-Price ...\"}, \"Summer Infant Step-By-Step Potty Trainer and Step Stool, Blue/ Green\": {\"frequency\": 24, \"value\": \"Summer Infant ...\"}, \"Animals Alphabet Baby Nursery Peel &amp; Stick Wall Art Sticker Decals for Boys and Girls\": {\"frequency\": 43, \"value\": \"Animals Alphabet ...\"}, \"The Floppy Seat: Deluxe Shopping Cart Seat Cover with EZ Carry Storage Bag!\": {\"frequency\": 21, \"value\": \"The Floppy Seat: ...\"}, \"Classic Connect Graco SnugRide Classic Connect Infant Car Seat Base, Silver\": {\"frequency\": 56, \"value\": \"Classic Connect ...\"}, \"Fisher-Price Rainforest Jumperoo\": {\"frequency\": 450, \"value\": \"Fisher-Price ...\"}, \"Thirsties 6 Pack Fab Wipes, Boy\": {\"frequency\": 38, \"value\": \"Thirsties 6 Pack ...\"}, \"Playtex Playtex VentAire Advanced Standard Bottle Gift Set\": {\"frequency\": 67, \"value\": \"Playtex Playtex ...\"}, \"The First Years Night and Day Bottle Warmer System\": {\"frequency\": 47, \"value\": \"The First Years ...\"}, \"Evenflo Portable Ultrasaucer\": {\"frequency\": 61, \"value\": \"Evenflo Portable ...\"}, \"DadGear Backpack Diaper Bag - Red Retro Stripe\": {\"frequency\": 40, \"value\": \"DadGear Backpack ...\"}, \"Dexbaby Safe Lift Universal Crib Wedge, White\": {\"frequency\": 36, \"value\": \"Dexbaby Safe Lift ...\"}, \"Snoozy Organic  2 PACK Flannel Cotton Anti Allergy Waterproof Multi Use Pad, 18&quot; x 27&quot;\": {\"frequency\": 19, \"value\": \"Snoozy Organic  2 ...\"}, \"Pearhead Babyprints Keepsake Wall Frame, White\": {\"frequency\": 25, \"value\": \"Pearhead ...\"}, \"Born Free Twin Pack Wide Neck Bottles, 5 Ounce\": {\"frequency\": 56, \"value\": \"Born Free Twin ...\"}, \"Munchkin 6 Pack Soft-Tip Infant Spoon\": {\"frequency\": 169, \"value\": \"Munchkin 6 Pack ...\"}, \"My Brest Friend Twins Plus Deluxe Nursing Pillow, Green, 0-12 Months\": {\"frequency\": 22, \"value\": \"My Brest Friend ...\"}, \"HALO SleepSack 100% Cotton Wearable Blanket, Print Boy, Large\": {\"frequency\": 36, \"value\": \"HALO SleepSack ...\"}, \"Chicco DJ Baby Walker, Splash\": {\"frequency\": 62, \"value\": \"Chicco DJ Baby ...\"}, \"Stokke Tripp Trapp Highchair, Red\": {\"frequency\": 62, \"value\": \"Stokke Tripp Trapp ...\"}, \"Fisher-Price Papasan Cradle Swing, Butterfly Garden\": {\"frequency\": 193, \"value\": \"Fisher-Price ...\"}, \"Re-Play Divided Plates, Aqua, Green, Orange, 3-Count\": {\"frequency\": 50, \"value\": \"Re-Play Divided ...\"}, \"5 Pack - Black Foam Microphone Windscreens (Lifetime Warranty, Bulk Packaging)\": {\"frequency\": 20, \"value\": \"5 Pack - Black ...\"}, \"BRICA Kick Mats (2 pack), Black\": {\"frequency\": 22, \"value\": \"BRICA Kick Mats (2 ...\"}, \"Evenflo Soft N Wide Gate\": {\"frequency\": 30, \"value\": \"Evenflo Soft N ...\"}, \"Arm &amp; Hammer Secure Comfort Potty Seat, Colors May Vary\": {\"frequency\": 80, \"value\": \"Arm &amp; Hammer ...\"}, \"Lifefactory Glass Baby Bottle with Silicone Sleeve, Raspberry, 9 Ounce\": {\"frequency\": 55, \"value\": \"Lifefactory Glass ...\"}, \"NTM-910YIC - Sony Baby Call Nursery Monitor\": {\"frequency\": 284, \"value\": \"NTM-910YIC - Sony ...\"}, \"Thirsties 3 Pack Boys Fab Doublers Soft Cotton Velour, Ocean Blue/Meadow/White, Large\": {\"frequency\": 29, \"value\": \"Thirsties 3 Pack ...\"}, \"Summer Infant Swaddleme MicroFleece Adjustable Infant Wrap, Blue, Small/Medium\": {\"frequency\": 65, \"value\": \"Summer Infant ...\"}, \"Tiny Love Symphony-in-Motion Remote Mobile\": {\"frequency\": 31, \"value\": \"Tiny Love ...\"}, \"ThumbGuard LG (7-15 yrs.)\": {\"frequency\": 31, \"value\": \"ThumbGuard LG ...\"}, \"The First Years Indigo Stroller, Red\": {\"frequency\": 27, \"value\": \"The First Years ...\"}, \"The Ultimate Baby Wrap in Navy\": {\"frequency\": 22, \"value\": \"The Ultimate Baby ...\"}, \"Planet Wise Wet Diaper Bag, Black, Small\": {\"frequency\": 160, \"value\": \"Planet Wise Wet ...\"}, \"Carters Super Soft Bumper, Pink\": {\"frequency\": 58, \"value\": \"Carters Super Soft ...\"}, \"Fisher-Price 2-in-1 Projection Mobile, Precious Planet\": {\"frequency\": 153, \"value\": \"Fisher-Price ...\"}, \"Slip-X Solutions Tub Tattoos: Clownfish\": {\"frequency\": 30, \"value\": \"Slip-X Solutions ...\"}, \"Bumkins Waterproof Starterbib, Blue Fizz\": {\"frequency\": 24, \"value\": \"Bumkins Waterproof ...\"}, \"Britax B-Safe Base Kit, Black\": {\"frequency\": 37, \"value\": \"Britax B-Safe Base ...\"}, \"Booginhead SippiGrip - Blue\": {\"frequency\": 18, \"value\": \"Booginhead ...\"}, \"Skip Hop Tubby Bath Toy Organizer, Orange\": {\"frequency\": 35, \"value\": \"Skip Hop Tubby ...\"}, \"White Knob Lock - 2 Pieces\": {\"frequency\": 19, \"value\": \"White Knob Lock - ...\"}, \"Pumpin' Pal Super Shields, Angled Pumping Flanges, the Best Flanges By Far in a Complete Set of All Sizes Mom Will Need\": {\"frequency\": 47, \"value\": \"Pumpin' Pal Super ...\"}, \"Prince Lionheart washPOD Bathe, Blue\": {\"frequency\": 22, \"value\": \"Prince Lionheart ...\"}, \"Maxi-Cosi Pria 70 with Tiny Fit Convertible Car Seat\": {\"frequency\": 27, \"value\": \"Maxi-Cosi Pria 70 ...\"}, \"Sassy Illumination Station\": {\"frequency\": 20, \"value\": \"Sassy Illumination ...\"}, \"Infantino Plenty Feature Packed Cart &amp; Highchair Cover Mosaic Stripe\": {\"frequency\": 24, \"value\": \"Infantino Plenty ...\"}, \"North States Industries Supergate Extra Wide Swing Gate\": {\"frequency\": 56, \"value\": \"North States ...\"}, \"Nuby 2 Pack Replacement Silicone Spouts\": {\"frequency\": 18, \"value\": \"Nuby 2 Pack ...\"}, \"The First Years Microwave Sterilizer\": {\"frequency\": 18, \"value\": \"The First Years ...\"}, \"Digital Connect Digital Baby Monitor - 1 Parent Unit\": {\"frequency\": 25, \"value\": \"Digital Connect ...\"}, \"mybaby HoMedics SoundSpa On-The-Go\": {\"frequency\": 57, \"value\": \"mybaby HoMedics ...\"}, \"Kidkusion Kid Safe Banister Guard\": {\"frequency\": 28, \"value\": \"Kidkusion Kid Safe ...\"}, \"Gerber Graduates BPA Free 6 Pack Soft Bite Infant Spoon, Colors May Vary\": {\"frequency\": 26, \"value\": \"Gerber Graduates ...\"}, \"BABYBJORN Baby Carrier Active, White, Mesh\": {\"frequency\": 34, \"value\": \"BABYBJORN Baby ...\"}, \"Especially for Baby Bottle Warmer\": {\"frequency\": 18, \"value\": \"Especially for ...\"}, \"Hudson Baby Plush Blanket with Satin Trim and Backing\": {\"frequency\": 35, \"value\": \"Hudson Baby Plush ...\"}, \"Fisher-Price Discover 'n Grow Storybook Projection Soother\": {\"frequency\": 27, \"value\": \"Fisher-Price ...\"}, \"Safety 1st Sounds n Lights Discovery Walker, Dino\": {\"frequency\": 32, \"value\": \"Safety 1st Sounds ...\"}, \"Bummis Swimmi Cloth Diapers, Turtles, Small (9-15 lbs)\": {\"frequency\": 30, \"value\": \"Bummis Swimmi ...\"}, \"BOB Infant Car Seat Adapter for Chicco Single Strollers\": {\"frequency\": 38, \"value\": \"BOB Infant Car ...\"}, \"Bright Starts Start Your Senses Sensory Giraffe\": {\"frequency\": 20, \"value\": \"Bright Starts ...\"}, \"Growing Up Green Wood Step Stool, Natural\": {\"frequency\": 45, \"value\": \"Growing Up Green ...\"}, \"HALO SleepSack Applique Micro-Fleece Wearable Blanket, Blue, Medium\": {\"frequency\": 30, \"value\": \"HALO SleepSack ...\"}, \"Englacha Plastic Board Rider, Black\": {\"frequency\": 20, \"value\": \"Englacha Plastic ...\"}, \"Britax Frontier 85 Combination Booster Car Seat, Red Rock\": {\"frequency\": 200, \"value\": \"Britax Frontier 85 ...\"}, \"Flingshot Flying Monkey\": {\"frequency\": 39, \"value\": \"Flingshot Flying ...\"}, \"Kiddopotamus Tinydiner Placemat, Yellow\": {\"frequency\": 35, \"value\": \"Kiddopotamus ...\"}, \"ERGObaby Original Baby Carrier, Camel\": {\"frequency\": 134, \"value\": \"ERGObaby Original ...\"}, \"BABYBJORN Safe Step - Blue\": {\"frequency\": 85, \"value\": \"BABYBJORN Safe ...\"}, \"NUK Replacement Silicone Spout, Clear\": {\"frequency\": 26, \"value\": \"NUK Replacement ...\"}, \"Summer Infant 3-Stage Superseat Highchair, Green\": {\"frequency\": 108, \"value\": \"Summer Infant ...\"}, \"Magic Bumpers Portable Child Safety Bed Guard Rail 48 Inch - Set of Two\": {\"frequency\": 40, \"value\": \"Magic Bumpers ...\"}, \"Juvenile Solutions Baby Cubes (2 oz/Pack of 8)\": {\"frequency\": 24, \"value\": \"Juvenile Solutions ...\"}, \"Prince Lionheart bebePOD Flex Plus Baby Seat, Green/Kiwi\": {\"frequency\": 36, \"value\": \"Prince Lionheart ...\"}, \"Keep-it-Kleen Pacifier - Adam Airplane\": {\"frequency\": 27, \"value\": \"Keep-it-Kleen ...\"}, \"Aden and Anais UpAwaySwddleBlnkts\": {\"frequency\": 188, \"value\": \"Aden and Anais ...\"}, \"Northstate Superyard Playgate Light Gray\": {\"frequency\": 55, \"value\": \"Northstate ...\"}, \"Medela 12 Volt Vehicle Lighter Adaptor\": {\"frequency\": 26, \"value\": \"Medela 12 Volt ...\"}, \"Evenflo Journey 300 Stroller with Embrace 35 Car Seat, Koi\": {\"frequency\": 31, \"value\": \"Evenflo Journey ...\"}, \"Chicco Smart Support Backpack, Red\": {\"frequency\": 38, \"value\": \"Chicco Smart ...\"}, \"MOBI Tykelight WallMate, Monkey\": {\"frequency\": 18, \"value\": \"MOBI Tykelight ...\"}, \"Medela Calma Breastmilk Feeding Set, 5 Ounce\": {\"frequency\": 35, \"value\": \"Medela Calma ...\"}, \"Re-Play 3 Count Bowls, Pink, Green, Orange\": {\"frequency\": 19, \"value\": \"Re-Play 3 Count ...\"}, \"Baby Safe Disposable Feeder (Pack of One)\": {\"frequency\": 33, \"value\": \"Baby Safe ...\"}, \"BRICA Infant Comfort Canopy Car Seat Cover\": {\"frequency\": 25, \"value\": \"BRICA Infant ...\"}, \"Regalo Hide Away Double Sided Bed Rail - White\": {\"frequency\": 61, \"value\": \"Regalo Hide Away ...\"}, \"Safety 1st Alpha Omega Elite Convertible Car Seat, Lamont\": {\"frequency\": 46, \"value\": \"Safety 1st Alpha ...\"}, \"Sunshine Kids Seat Belt Pillow, Grey\": {\"frequency\": 23, \"value\": \"Sunshine Kids Seat ...\"}, \"Regalo Extra Tall Widespan Gate, White\": {\"frequency\": 27, \"value\": \"Regalo Extra Tall ...\"}, \"Philips AVENT Basic Baby Monitor with DECT Technology\": {\"frequency\": 116, \"value\": \"Philips AVENT ...\"}, \"KidCo S353 Door Lever Lock White\": {\"frequency\": 18, \"value\": \"KidCo S353 Door ...\"}, \"Philips AVENT BPA Free Bottle, 4 Ounce, Dual Pack\": {\"frequency\": 37, \"value\": \"Philips AVENT BPA ...\"}, \"Summer Infant Secure Surround Playsafe Playard\": {\"frequency\": 18, \"value\": \"Summer Infant ...\"}, \"Evenflo Soft And Wide Gate Taupe &amp; Chocolate\": {\"frequency\": 42, \"value\": \"Evenflo Soft And ...\"}, \"Bumkins Waterproof Superbib, Blue Fizz\": {\"frequency\": 49, \"value\": \"Bumkins Waterproof ...\"}, \"Evenflo ExerSaucer Triple Fun - Jungle\": {\"frequency\": 48, \"value\": \"Evenflo ExerSaucer ...\"}, \"BOB Revolution SE Single Stroller, Navy\": {\"frequency\": 146, \"value\": \"BOB Revolution SE ...\"}, \"Bumbo Floor Seat Cover, Dots\": {\"frequency\": 23, \"value\": \"Bumbo Floor Seat ...\"}, \"Foscam FBM3501 Digital Video Baby Monitor - 2.4 Ghz with Pan/Tilt, Nightvision and Two-Way Audio/Video Camera with 3.5-Inch LCD (White/Gray)\": {\"frequency\": 66, \"value\": \"Foscam FBM3501 ...\"}, \"Tadpoles Playmat Set, Modern/Multi\": {\"frequency\": 49, \"value\": \"Tadpoles Playmat ...\"}, \"Sesame Street Potty Soft Seat, Elmo\": {\"frequency\": 44, \"value\": \"Sesame Street ...\"}, \"American Baby Company Organic Cotton Quilted Waterproof Sheet Saver, Natural\": {\"frequency\": 18, \"value\": \"American Baby ...\"}, \"Munchkin Five Multi Cups\": {\"frequency\": 42, \"value\": \"Munchkin Five ...\"}, \"Jolly Jumper with Stand\": {\"frequency\": 26, \"value\": \"Jolly Jumper with ...\"}, \"Medela Breastmilk Freezing &amp; Storage (*BPA Free) - 80ml Bottles in Retail Packaging #87061 (Pack of 12 Bottles)\": {\"frequency\": 32, \"value\": \"Medela Breastmilk ...\"}, \"Sesame Street Inflatable Bathtub, Blue/White\": {\"frequency\": 19, \"value\": \"Sesame Street ...\"}, \"Infantino Swift Classic Carrier Black\": {\"frequency\": 107, \"value\": \"Infantino Swift ...\"}, \"Neat Solutions 8 Pack Multi-Color Solid Knit Terry Feeder Bib, Boy\": {\"frequency\": 21, \"value\": \"Neat Solutions 8 ...\"}, \"Postpartum Support Girdle Belt w/zipper Support Belly Band Medical-Grade Compression Bellefit\": {\"frequency\": 36, \"value\": \"Postpartum Support ...\"}, \"Sealy Soybean Foam-Core Crib Mattress\": {\"frequency\": 52, \"value\": \"Sealy Soybean ...\"}, \"Prince Lionheart Seat Neat, Black/Grey\": {\"frequency\": 19, \"value\": \"Prince Lionheart ...\"}, \"Boppy Travel Pillow, Mama Dot/Basket Green\": {\"frequency\": 24, \"value\": \"Boppy Travel ...\"}, \"Munchkin Sprout Drying Rack\": {\"frequency\": 61, \"value\": \"Munchkin Sprout ...\"}, \"Philips AVENT Digital Screen Baby Monitor with DECT Technology\": {\"frequency\": 36, \"value\": \"Philips AVENT ...\"}, \"Britax Baby Carrier, Black\": {\"frequency\": 19, \"value\": \"Britax Baby ...\"}, \"Withings Smart Baby Monitor, White\": {\"frequency\": 48, \"value\": \"Withings Smart ...\"}, \"Summer Infant Snuzzler, Black Velboa\": {\"frequency\": 30, \"value\": \"Summer Infant ...\"}, \"Baby Trend Universal Double Snap-N-Go Stroller Frame\": {\"frequency\": 26, \"value\": \"Baby Trend ...\"}, \"bumGenius One-Size Snap Closure Cloth Diaper 4.0 - Bubble\": {\"frequency\": 70, \"value\": \"bumGenius One-Size ...\"}, \"OsoCozy Flannel Baby Wipes - 15 pack (White)\": {\"frequency\": 51, \"value\": \"OsoCozy Flannel ...\"}, \"Luvable Friends Flannel Fitted Crib Sheet, Yellow Circle\": {\"frequency\": 24, \"value\": \"Luvable Friends ...\"}, \"Tommee Tippee Travel Bottle and Food Warmer\": {\"frequency\": 41, \"value\": \"Tommee Tippee ...\"}, \"Philips Avent Manual Comfort Breast Pump\": {\"frequency\": 23, \"value\": \"Philips Avent ...\"}, \"Prince Lionheart Corner Guards, Chocolate Brown\": {\"frequency\": 56, \"value\": \"Prince Lionheart ...\"}, \"Chewbeads Necklace - Jane - Black\": {\"frequency\": 33, \"value\": \"Chewbeads Necklace ...\"}, \"Gerber Birdseye 10 Count 3-Ply Prefold Cloth Diapers, White\": {\"frequency\": 25, \"value\": \"Gerber Birdseye 10 ...\"}, \"Safety 1st 2 Count Side By Side Cabinet Lock\": {\"frequency\": 30, \"value\": \"Safety 1st 2 Count ...\"}, \"Lamaze Play &amp; Grow Rusty the Robot Take Along Toy\": {\"frequency\": 26, \"value\": \"Lamaze Play &amp; ...\"}, \"3 Packs of NUK Replacement Silicone Spout, Clear\": {\"frequency\": 22, \"value\": \"3 Packs of NUK ...\"}, \"Boon Water Bugs Floating Bath Toys with Net,Orange\": {\"frequency\": 48, \"value\": \"Boon Water Bugs ...\"}, \"Joovy Cool Essentials Parent Organizer\": {\"frequency\": 19, \"value\": \"Joovy Cool ...\"}, \"DaVinci Parker 4 in 1 Crib with Toddler Rail, Pure White\": {\"frequency\": 39, \"value\": \"DaVinci Parker 4 ...\"}, \"Philips AVENT Express Food and Bottle Warmer\": {\"frequency\": 55, \"value\": \"Philips AVENT ...\"}, \"OXO Perfect Pull Wipes Dispenser, Pink\": {\"frequency\": 98, \"value\": \"OXO Perfect Pull ...\"}, \"Playtex Drop-Ins System Breast Milk Storage Kit\": {\"frequency\": 24, \"value\": \"Playtex Drop-Ins ...\"}, \"The First Years 2 Pack 9 Ounce Insulated Sippy Cup, Disney Princess\": {\"frequency\": 51, \"value\": \"The First Years 2 ...\"}, \"Sliding Door Locks\": {\"frequency\": 25, \"value\": \"Sliding Door Locks\"}, \"Planet Wise Wet/Dry Diaper Bag, Black\": {\"frequency\": 43, \"value\": \"Planet Wise ...\"}, \"Jeep Overland Limited Jogging Stroller with Front Fixed Wheel, Fierce\": {\"frequency\": 45, \"value\": \"Jeep Overland ...\"}, \"Fisher-Price Rainforest Bouncer\": {\"frequency\": 86, \"value\": \"Fisher-Price ...\"}, \"Safety 1st Perfect Fit Gate\": {\"frequency\": 25, \"value\": \"Safety 1st Perfect ...\"}, \"Fisher-Price Luv U Zoo Snuggle Cub Soother Mobile\": {\"frequency\": 21, \"value\": \"Fisher-Price Luv U ...\"}, \"my best friend Inflatable breast feeding pillow\": {\"frequency\": 19, \"value\": \"my best friend ...\"}, \"Munchkin Powdered Formula Dispenser, Colors May Vary\": {\"frequency\": 7, \"value\": \"Munchkin Powdered ...\"}, \"The First Years Disney Pooh Soft Potty Seat\": {\"frequency\": 58, \"value\": \"The First Years ...\"}, \"Britax Car Seat Travel Bag, Black\": {\"frequency\": 37, \"value\": \"Britax Car Seat ...\"}, \"NUK Disney Winnie the Pooh 10 Ounces Active Cup Silicone Spout, 12+ Months\": {\"frequency\": 32, \"value\": \"NUK Disney Winnie ...\"}, \"green sprouts Silicone Freezer Tray, Green\": {\"frequency\": 26, \"value\": \"green sprouts ...\"}, \"Summer Infant Newborn-To-Toddler Bath Center &amp; Shower\": {\"frequency\": 54, \"value\": \"Summer Infant ...\"}, \"Sugar Booger &quot;Prehistoric Pals&quot; Feeding Collection Silverware Set\": {\"frequency\": 28, \"value\": \"Sugar Booger ...\"}, \"GRACO Backless TurboBooster Car Seat, Groovy\": {\"frequency\": 21, \"value\": \"GRACO Backless ...\"}, \"Lamaze Octotunes Musical Toy\": {\"frequency\": 24, \"value\": \"Lamaze Octotunes ...\"}, \"Summer Infant Slumber Buddies, Frog\": {\"frequency\": 26, \"value\": \"Summer Infant ...\"}, \"Fisher-Price Adorable Animals Baby's Bouncer\": {\"frequency\": 42, \"value\": \"Fisher-Price ...\"}, \"CribWrap Crib Wrap 3PC Rail Cover Set By Trend Lab - 1- 51&quot; Front Rail Cover &amp; 2- 27&quot; Side Rail Covers &amp; Bonus Cloud B Plush Rattle, Blue Fleece\": {\"frequency\": 18, \"value\": \"CribWrap Crib Wrap ...\"}, \"Bumkins Waterproof Zippered Wet/Dry Bag, Blue Owl\": {\"frequency\": 26, \"value\": \"Bumkins Waterproof ...\"}, \"Bestever Baby Mat, Pink Bear\": {\"frequency\": 62, \"value\": \"Bestever Baby Mat, ...\"}, \"Motorola Blink1 Wi-Fi Video Camera for Remote Viewing with iPhone and Android Smartphones and Tablets, Red\": {\"frequency\": 22, \"value\": \"Motorola Blink1 ...\"}, \"Mountain Buggy Duet Double Buggy Stroller, Black/Flint\": {\"frequency\": 18, \"value\": \"Mountain Buggy ...\"}, \"Jumpster Doorway Jumper - Jackpot\": {\"frequency\": 30, \"value\": \"Jumpster Doorway ...\"}, \"Fisher-Price Rainforest Deluxe Auto Mirror\": {\"frequency\": 24, \"value\": \"Fisher-Price ...\"}, \"Graco Victoria Non Drop Side 5 In 1 Convertible Crib, White\": {\"frequency\": 23, \"value\": \"Graco Victoria Non ...\"}, \"Regalo Extra Wide 58 Inch WideSpan Walk Through Safety Gate, White\": {\"frequency\": 86, \"value\": \"Regalo Extra Wide ...\"}, \"Tiny Love Gymini Move and Play Activity Gym, Animals\": {\"frequency\": 36, \"value\": \"Tiny Love Gymini ...\"}, \"Combi All in One Activity Walker, Pink\": {\"frequency\": 62, \"value\": \"Combi All in One ...\"}, \"Proudbody My Little Prints Baby-Safe Ink Pad, Blue\": {\"frequency\": 55, \"value\": \"Proudbody My ...\"}, \"Tiny Love 3 in 1 Rocker Napper, Brown\": {\"frequency\": 60, \"value\": \"Tiny Love 3 in 1 ...\"}, \"Fisher-Price My Little Snugabunny Newborn Rock n' Play Sleeper\": {\"frequency\": 68, \"value\": \"Fisher-Price My ...\"}, \"Graco Affix Highback Booster Seat with Latch System, Atomic\": {\"frequency\": 43, \"value\": \"Graco Affix ...\"}, \"Munchkin Click Lock 2 Count Flip Straw Cup, 9 ounce\": {\"frequency\": 21, \"value\": \"Munchkin Click ...\"}, \"Philips AVENT BPA Free Freeflow Pacifier, 6-18 Months,  Colors and Designs May Vary, 2-Count\": {\"frequency\": 21, \"value\": \"Philips AVENT BPA ...\"}, \"Jeep Protective Floor Mat\": {\"frequency\": 28, \"value\": \"Jeep Protective ...\"}, \"Thermos FOOGO Phases Stainless Steel Sippy Cup, 7 Ounce, Blue/Yellow\": {\"frequency\": 36, \"value\": \"Thermos FOOGO ...\"}, \"Medela Freestyle Breast Pump\": {\"frequency\": 74, \"value\": \"Medela Freestyle ...\"}, \"Motorola MBP33 Wireless Video Baby Monitor with Infrared Night Vision and Zoom, 2.8 Inch\": {\"frequency\": 142, \"value\": \"Motorola MBP33 ...\"}, \"KidGear The Teethifier II\": {\"frequency\": 22, \"value\": \"KidGear The ...\"}, \"Baby Einstein Seek &amp; Discover Activity Gym\": {\"frequency\": 68, \"value\": \"Baby Einstein Seek ...\"}, \"Fisher-Price Space Saver High Chair - Tan\": {\"frequency\": 36, \"value\": \"Fisher-Price Space ...\"}, \"OXO Tot Plate, Green\": {\"frequency\": 19, \"value\": \"OXO Tot Plate, ...\"}, \"Colorado Tote\": {\"frequency\": 21, \"value\": \"Colorado Tote\"}, \"American Baby Company Celery Stripe 100% Cotton Percale Crib Sheet\": {\"frequency\": 27, \"value\": \"American Baby ...\"}, \"Sunshine Kids Easy View Back Seat Mirror\": {\"frequency\": 48, \"value\": \"Sunshine Kids Easy ...\"}, \"The First Years: Clear and Near 2.4 GHz Monitor\": {\"frequency\": 20, \"value\": \"The First Years: ...\"}, \"Fisher-Price: Link-a-doos Open-Top Take-Along Swing\": {\"frequency\": 31, \"value\": \"Fisher-Price: ...\"}, \"Aden by aden + anais Muslin Sleeping Bag, Oh Boy, Small\": {\"frequency\": 49, \"value\": \"Aden by aden + ...\"}, \"Summer Infant Best View Handheld Color Video Monitor with 2.5&quot; Screen\": {\"frequency\": 57, \"value\": \"Summer Infant Best ...\"}, \"Fisher-Price Cheer for Me Potty\": {\"frequency\": 30, \"value\": \"Fisher-Price Cheer ...\"}, \"Clevamama Splash and Wrap Baby Bath Towel (Cream)\": {\"frequency\": 25, \"value\": \"Clevamama Splash ...\"}, \"Summer Infant Baby Touch Digital Color Video Monitor\": {\"frequency\": 132, \"value\": \"Summer Infant Baby ...\"}, \"Smart Mom Teething Bling Donut Shaped Pendant Necklace (Onyx)\": {\"frequency\": 36, \"value\": \"Smart Mom Teething ...\"}, \"Animal Planet's Big Tub of Dinosaurs\": {\"frequency\": 44, \"value\": \"Animal Planet's ...\"}, \"Regalo Extra Tall Top of Stair Gate, White\": {\"frequency\": 29, \"value\": \"Regalo Extra Tall ...\"}, \"BRICA Stay-In-Place Baby Mirror, Black\": {\"frequency\": 23, \"value\": \"BRICA Stay-In- ...\"}, \"Mary Meyer Wubbanub Plush Pacifier, Cutsie Caterpillar\": {\"frequency\": 123, \"value\": \"Mary Meyer ...\"}, \"Tiny Love Sweet Island Dreams Mobile\": {\"frequency\": 93, \"value\": \"Tiny Love Sweet ...\"}, \"Bumkins 3 Pack Waterproof SuperBib\": {\"frequency\": 186, \"value\": \"Bumkins 3 Pack ...\"}, \"C.R. Gibson Memory Book, Baby Bots\": {\"frequency\": 29, \"value\": \"C.R. Gibson Memory ...\"}, \"Chicco Keyfit Caddy Stroller Frame\": {\"frequency\": 38, \"value\": \"Chicco Keyfit ...\"}, \"*The Art of CureTM *SAFETY KNOTTED* Lemon - Certified Baltic Amber Baby Teething Necklace w/&quot;THE ART OF CURETM&quot; Jewelry Pouch (SHIPS AND SOLD IN USA)\": {\"frequency\": 21, \"value\": \"*The Art of CureTM ...\"}, \"Fisher-Price Luv U Zoo Jumperoo\": {\"frequency\": 88, \"value\": \"Fisher-Price Luv U ...\"}, \"Woombie Convertible Baby Swaddler (Big Baby 14-19 lbs, Little Monster)\": {\"frequency\": 29, \"value\": \"Woombie ...\"}, \"Britax Marathon 70 Convertible Car Seat, Cowmooflage\": {\"frequency\": 42, \"value\": \"Britax Marathon 70 ...\"}, \"Diono RadianRXT Convertible Car Seat, Plum\": {\"frequency\": 157, \"value\": \"Diono RadianRXT ...\"}, \"Supergate Extra-Wide Gate, Ivory\": {\"frequency\": 33, \"value\": \"Supergate Extra- ...\"}, \"Vicks SpeedRead Digital Thermometer\": {\"frequency\": 21, \"value\": \"Vicks SpeedRead ...\"}, \"Britax Roundabout 55 Convertible Car Seat, Isabella\": {\"frequency\": 75, \"value\": \"Britax Roundabout ...\"}, \"Baby Trend High Chair Palm Tree\": {\"frequency\": 18, \"value\": \"Baby Trend High ...\"}, \"Fisher-Price Cradle 'N Swing, Luv U Zoo\": {\"frequency\": 48, \"value\": \"Fisher-Price ...\"}, \"Playtex 3 Pack VentAire Standard Bottles, 9 Ounce (Colors may vary)\": {\"frequency\": 98, \"value\": \"Playtex 3 Pack ...\"}, \"Jolly Jumper Sneak a Peek Sneak-a-Peek Infant Carseat Cover Deluxe - Black\": {\"frequency\": 43, \"value\": \"Jolly Jumper Sneak ...\"}, \"Nuby Icybite Hard/Soft Teething Keys\": {\"frequency\": 26, \"value\": \"Nuby Icybite ...\"}, \"Dream On Me 3&quot; Playard Mattress, White\": {\"frequency\": 106, \"value\": \"Dream On Me ...\"}, \"Summer Infant 3-Stage Super Seat\": {\"frequency\": 18, \"value\": \"Summer Infant ...\"}, \"Stroller Hook Clips - Luxury Stroller Hook Clips For Bags Or Diaper Bags - Guaranteed To Last, Won't Break Like The Cheaper Plastic Ones - Carabiner Stroller Hook Clip Locks For Added Security Keeping Your Valuables Safe At All Times - Protect Your Investment - These Stroller Hook Clips Come With a Lifetime NO-Hassle Free Replacement Guarantee!\": {\"frequency\": 18, \"value\": \"Stroller Hook ...\"}, \"The First Years American Red Cross Deluxe Nail Clipper with Magnifier\": {\"frequency\": 41, \"value\": \"The First Years ...\"}, \"Medi-Rub Foot Massager 2000 Plus\": {\"frequency\": 19, \"value\": \"Medi-Rub Foot ...\"}, \"Samsung SEW-3037W Wireless Pan Tilt Video Baby Monitor Infrared Night Vision and Zoom, 3.5 inch\": {\"frequency\": 122, \"value\": \"Samsung SEW-3037W ...\"}, \"Regalo Top of Stair Gate, White\": {\"frequency\": 22, \"value\": \"Regalo Top of ...\"}, \"KidCo GoPod Portable Activity Seat - Pistachio\": {\"frequency\": 56, \"value\": \"KidCo GoPod ...\"}, \"RECARO ProSPORT Combination Harness To Booster Car Seat, Blue Opal\": {\"frequency\": 77, \"value\": \"RECARO ProSPORT ...\"}, \"Badger Basket Company Natural Baby Moses Basket with Hood - Blue Gingham Bedding\": {\"frequency\": 18, \"value\": \"Badger Basket ...\"}, \"Dreambaby Sliding Locks, 3 Pack\": {\"frequency\": 31, \"value\": \"Dreambaby Sliding ...\"}, \"Hard Rock Cloth Diaper &amp; Laundry Detergent - Motley Clean\": {\"frequency\": 23, \"value\": \"Hard Rock Cloth ...\"}, \"Mobi TykeLight Portable GloMate\": {\"frequency\": 50, \"value\": \"Mobi TykeLight ...\"}, \"Contours Options LT Tandem Stroller, Valencia Gold\": {\"frequency\": 29, \"value\": \"Contours Options ...\"}, \"Simmons Kids Beautyrest Beginnings Sleepy Whispers Ultra Deluxe 2 n 1 Crib and Toddler Mattress, Neutral\": {\"frequency\": 25, \"value\": \"Simmons Kids ...\"}, \"Udder Covers - Breast Feeding Nursing Cover (Caleb)\": {\"frequency\": 18, \"value\": \"Udder Covers - ...\"}, \"Evenflo Comfort Select Auto-Cycling Breast Pump\": {\"frequency\": 25, \"value\": \"Evenflo Comfort ...\"}, \"DEX Products Pregnancy Pillow PP-01\": {\"frequency\": 35, \"value\": \"DEX Products ...\"}, \"Levana Oma Clip-On Portable Baby Movement Monitor with Audible Alarm, White/Orange\": {\"frequency\": 23, \"value\": \"Levana Oma Clip-On ...\"}, \"Diaper Dude Chicago Cubs Diaper Bag\": {\"frequency\": 91, \"value\": \"Diaper Dude ...\"}, \"Safety 1st Bath Toy Bag\": {\"frequency\": 53, \"value\": \"Safety 1st Bath ...\"}, \"Westminster Hand Boilers (Colors May Vary)\": {\"frequency\": 32, \"value\": \"Westminster Hand ...\"}, \"Imse Vimse Flushable Liner - 200 count (Baby)\": {\"frequency\": 27, \"value\": \"Imse Vimse ...\"}, \"Diaper Dekor Plus 2-Pack Refill Biodegradable\": {\"frequency\": 20, \"value\": \"Diaper Dekor Plus ...\"}, \"OXO Tot Bottle Brush with Nipple Cleaner and Stand, Green\": {\"frequency\": 137, \"value\": \"OXO Tot Bottle ...\"}, \"Playtex Drop-Ins Original BPA Free Nurser Newborn Starter Set\": {\"frequency\": 21, \"value\": \"Playtex Drop-Ins ...\"}, \"Dr. Brown's Natural Flow Standard Storage Travel Caps Replacement, 3 Pack\": {\"frequency\": 39, \"value\": \"Dr. Brown's ...\"}, \"Tiny Love Musical Nature Stroll Toy Bar\": {\"frequency\": 44, \"value\": \"Tiny Love Musical ...\"}, \"Sesame Street Construction Zone 4 Piece Toddler Set\": {\"frequency\": 27, \"value\": \"Sesame Street ...\"}, \"Snoogle Chic Total Body Pillow\": {\"frequency\": 45, \"value\": \"Snoogle Chic Total ...\"}, \"Badger Basket Lightweight Three Drawer Hamper/Storage Unit, Brown Dot\": {\"frequency\": 19, \"value\": \"Badger Basket ...\"}, \"Jeep Car Seat Travel Bag\": {\"frequency\": 78, \"value\": \"Jeep Car Seat ...\"}, \"4Moms Mamaroo Infant Seat, Orange\": {\"frequency\": 38, \"value\": \"4Moms Mamaroo ...\"}, \"Lamaze Wrist Rattles\": {\"frequency\": 26, \"value\": \"Lamaze Wrist ...\"}, \"Boon Dive Bath Tub Appliques\": {\"frequency\": 19, \"value\": \"Boon Dive Bath Tub ...\"}, \"Leachco Safer Bather Infant Bath Pad, Blue Fish\": {\"frequency\": 131, \"value\": \"Leachco Safer ...\"}, \"Witch Hazel Distillate (Alcohol Free) 8 Ounces\": {\"frequency\": 22, \"value\": \"Witch Hazel ...\"}, \"RayShade&reg; UV Protective Stroller Shade Improves Sun Protection for Strollers, Joggers and Prams Black\": {\"frequency\": 46, \"value\": \"RayShade&reg; UV ...\"}, \"Nuby 2 Pack Nurtur Care Infa Feeder Set, 4 Ounce, Colors May Vary\": {\"frequency\": 35, \"value\": \"Nuby 2 Pack Nurtur ...\"}, \"Joovy Nook Highchair, White Leatherette\": {\"frequency\": 22, \"value\": \"Joovy Nook ...\"}, \"Skip Hop Bath Spout Cover, Moby\": {\"frequency\": 155, \"value\": \"Skip Hop Bath ...\"}, \"Obersee Kid's All-in-One Pre-School Backpacks with Integrated Cooler, Rhinestone Angel Wings\": {\"frequency\": 35, \"value\": \"Obersee Kid's All- ...\"}, \"Britax B-Safe Infant Car Seat, Black\": {\"frequency\": 56, \"value\": \"Britax B-Safe ...\"}, \"DEX Products Grab N Go Bottle Warmer BWC-01\": {\"frequency\": 19, \"value\": \"DEX Products Grab ...\"}, \"Babe Ease Original Clean Shopper, Blue Zoo\": {\"frequency\": 20, \"value\": \"Babe Ease Original ...\"}, \"[Award Winning] Kidsme Food Feeder (Large size)\": {\"frequency\": 52, \"value\": \"[Award Winning] ...\"}, \"L'ovedbaby 4-in-1 Nursing Shawl Out-on-the-Town Brown\": {\"frequency\": 22, \"value\": \"L'ovedbaby 4-in-1 ...\"}, \"Fisher-Price Deluxe Newborn Rock N Play Sleeper, My Little Sweetie\": {\"frequency\": 25, \"value\": \"Fisher-Price ...\"}, \"Mobi Tykelight GloMate Plus\": {\"frequency\": 18, \"value\": \"Mobi Tykelight ...\"}, \"Econobum Full Kit\": {\"frequency\": 21, \"value\": \"Econobum Full Kit\"}, \"2 Tubing for Medela Pump in Style and New Pump in Style Advanced Breast Pump - BPA Free, Steam Heat Tolerant; Replacement for Medela Part # 87212, 8007156, 8007212; Made by Maymom (One Pack)\": {\"frequency\": 22, \"value\": \"2 Tubing for ...\"}, \"Infant Bucket Seat Liner Color: Pink\": {\"frequency\": 21, \"value\": \"Infant Bucket Seat ...\"}, \"Dr. Brown's 3 Pack BPA Free Polypropylene Bottle, 8 oz\": {\"frequency\": 68, \"value\": \"Dr. Brown's 3 Pack ...\"}, \"Munchkin White Hot Inflatable Duck Tub\": {\"frequency\": 79, \"value\": \"Munchkin White Hot ...\"}, \"Vital Baby Press 'n' Pop Mini Freezer Pots, Orange, 1 Ounce, 8 Pack\": {\"frequency\": 29, \"value\": \"Vital Baby Press ...\"}, \"Graco Bumper Jumper in Little Jungle\": {\"frequency\": 141, \"value\": \"Graco Bumper ...\"}, \"Evenflo Triumph 65 DLX Seat, Lincoln\": {\"frequency\": 23, \"value\": \"Evenflo Triumph 65 ...\"}, \"The First Years Breastflow Mipump Single Electric Breast Pump\": {\"frequency\": 23, \"value\": \"The First Years ...\"}, \"Britax Pavilion 70-G3 Convertible Car Seat Seat, Onyx\": {\"frequency\": 28, \"value\": \"Britax Pavilion ...\"}, \"Fisher-Price Royal Potty\": {\"frequency\": 34, \"value\": \"Fisher-Price Royal ...\"}, \"Davinci Jenny Lind 3-in-1 Convertible Crib, Cherry\": {\"frequency\": 43, \"value\": \"Davinci Jenny Lind ...\"}, \"Bright Starts Lots of Links- Solid Colors\": {\"frequency\": 70, \"value\": \"Bright Starts Lots ...\"}, \"Graco Pack 'n Play Playard with Newborn Napper Station DLX, Jacqueline\": {\"frequency\": 34, \"value\": \"Graco Pack 'n Play ...\"}, \"The First Years miPump Double Electric Breast Pump\": {\"frequency\": 52, \"value\": \"The First Years ...\"}, \"Lamaze Cloth Book, Panda's Pals\": {\"frequency\": 137, \"value\": \"Lamaze Cloth Book, ...\"}, \"Medela Disposable Nursing Bra Pads, 60 Count\": {\"frequency\": 22, \"value\": \"Medela Disposable ...\"}, \"MOBI Digital Ultra Thermometer\": {\"frequency\": 23, \"value\": \"MOBI Digital Ultra ...\"}, \"Fresh Baby So Easy Baby Food and Breast Milk Trays\": {\"frequency\": 88, \"value\": \"Fresh Baby So Easy ...\"}, \"Lifefactory 9-Ounce Glass Bottle, Raspberry\": {\"frequency\": 27, \"value\": \"Lifefactory ...\"}, \"Bummis Fabulous Wet Diaper Bag, Green, Small\": {\"frequency\": 19, \"value\": \"Bummis Fabulous ...\"}, \"Mommy's Helper Kid Keeper\": {\"frequency\": 21, \"value\": \"Mommy's Helper Kid ...\"}, \"Munchkin Deluxe Drying Rack\": {\"frequency\": 22, \"value\": \"Munchkin Deluxe ...\"}, \"Maxi-Cosi Priori Convertible Car Seat, Gipsy\": {\"frequency\": 20, \"value\": \"Maxi-Cosi Priori ...\"}, \"Britax Car Seat Travel Cart, Black\": {\"frequency\": 28, \"value\": \"Britax Car Seat ...\"}, \"Skip Hop Grab &amp; Go Stroller Organizer, Platinum\": {\"frequency\": 26, \"value\": \"Skip Hop Grab ...\"}, \"Baby K'tan Baby Carrier, Black, X-Large\": {\"frequency\": 112, \"value\": \"Baby K'tan Baby ...\"}, \"Sassy First Sounds Book Set and Cube\": {\"frequency\": 21, \"value\": \"Sassy First Sounds ...\"}, \"Tommee Tippee Bottle, 9 Ounce, 3 Count\": {\"frequency\": 30, \"value\": \"Tommee Tippee ...\"}, \"Philips AVENT Day Disposable Breast Pads, 60-Count\": {\"frequency\": 30, \"value\": \"Philips AVENT Day ...\"}, \"Fisher-Price Table Time Turtle Booster\": {\"frequency\": 30, \"value\": \"Fisher-Price Table ...\"}, \"Ergobaby Performance Collection Charcoal Grey Carrier\": {\"frequency\": 21, \"value\": \"Ergobaby ...\"}, \"Dreamscapes Soother\": {\"frequency\": 27, \"value\": \"Dreamscapes ...\"}, \"Safety 1st High-Def Digital Video Monitor\": {\"frequency\": 18, \"value\": \"Safety 1st High- ...\"}, \"Britax B-Agile Stroller Travel Bag\": {\"frequency\": 25, \"value\": \"Britax B-Agile ...\"}, \"Regalo My Chair Portable Chair, Royal\": {\"frequency\": 33, \"value\": \"Regalo My Chair ...\"}, \"Leachco All Nighter - Total Body Pillow - Ivory\": {\"frequency\": 34, \"value\": \"Leachco All ...\"}, \"Prince Lionheart Backseat Kick Mat, Black\": {\"frequency\": 20, \"value\": \"Prince Lionheart ...\"}, \"Elegant Baby 8 Piece Bath Squirties Gift Set in Vinyl Zip Bag, Sea\": {\"frequency\": 18, \"value\": \"Elegant Baby 8 ...\"}, \"Fisher-Price Newborn Rock 'n Play Sleeper,  Rainforest Friends\": {\"frequency\": 23, \"value\": \"Fisher-Price ...\"}, \"DEX Products Sound Sleeper SS-01\": {\"frequency\": 103, \"value\": \"DEX Products Sound ...\"}, \"Clek Olli Booster Seat Blacktop\": {\"frequency\": 19, \"value\": \"Clek Olli Booster ...\"}, \"Carters Velour Playard Fitted Sheet, Ecru\": {\"frequency\": 53, \"value\": \"Carters Velour ...\"}, \"Sesame Street Bath Tub Faucet Cover - Elmo\": {\"frequency\": 26, \"value\": \"Sesame Street Bath ...\"}, \"Lansinoh mOmma Feeding Bottle, 5 Ounce\": {\"frequency\": 66, \"value\": \"Lansinoh mOmma ...\"}, \"Pearhead Babyprints Keepsake, Year-Round\": {\"frequency\": 36, \"value\": \"Pearhead ...\"}, \"Eddie Bauer Car Seat Travel Bag\": {\"frequency\": 23, \"value\": \"Eddie Bauer Car ...\"}, \"Britax Frontier 90 Booster Car Seat, Zebra\": {\"frequency\": 108, \"value\": \"Britax Frontier 90 ...\"}, \"Under the Sea Tropical Fish Nursery/Kids Room Wall Art Sticker Decals\": {\"frequency\": 30, \"value\": \"Under the Sea ...\"}, \"3 Pack Snack Trap (colors may vary)\": {\"frequency\": 37, \"value\": \"3 Pack Snack Trap ...\"}, \"Summer Infant SwaddleMe Organic Adjustable Infant Wrap, Ivory, Large\": {\"frequency\": 24, \"value\": \"Summer Infant ...\"}, \"Baby Merlin's Magic Sleepsuit 3-6 months - Blue Small\": {\"frequency\": 100, \"value\": \"Baby Merlin's ...\"}, \"Graco Ready2Grow Classic Connect LX Stroller, Metropolis\": {\"frequency\": 37, \"value\": \"Graco Ready2Grow ...\"}, \"Sesame Street Table Topper Disposable Stick-on Placemats with Reusable Pop-up Travel Case, 50-Count\": {\"frequency\": 34, \"value\": \"Sesame Street ...\"}, \"Alva Baby Cloth Diaper 4 layers Antibacterial Bamboo Viscose Inserts Super Water Absorbent 12pcs 12mb\": {\"frequency\": 21, \"value\": \"Alva Baby Cloth ...\"}, \"Professional Clinical Large LCD Non-contact Infrared Thermometer - Forehead (Fahrenheit Readings)\": {\"frequency\": 32, \"value\": \"Professional ...\"}, \"WubbaNub Green Frog\": {\"frequency\": 25, \"value\": \"WubbaNub Green ...\"}, \"Skip Hop Treetop Friends Activity Gym\": {\"frequency\": 49, \"value\": \"Skip Hop Treetop ...\"}, \"JJ Cole Essentials Blanket Sky/Lemon\": {\"frequency\": 128, \"value\": \"JJ Cole Essentials ...\"}, \"Infantino Squeeze Station\": {\"frequency\": 28, \"value\": \"Infantino Squeeze ...\"}, \"Simple Wishes Hands-Free Breastpump Bra, Pink, XS-L\": {\"frequency\": 562, \"value\": \"Simple Wishes ...\"}, \"Jeep Cling Sunshade, 2 Pack\": {\"frequency\": 37, \"value\": \"Jeep Cling ...\"}, \"Fisher-Price Musical Mobile, Rainforest Peek-a-Boo Leaves\": {\"frequency\": 106, \"value\": \"Fisher-Price ...\"}, \"Fisher-Price Potty Training, Froggy\": {\"frequency\": 117, \"value\": \"Fisher-Price Potty ...\"}, \"Summer Infant Tiny Diner, Pink\": {\"frequency\": 49, \"value\": \"Summer Infant Tiny ...\"}, \"Safety 1st Safe-Glow Nursery Monitor 2 Receiver Set\": {\"frequency\": 58, \"value\": \"Safety 1st Safe- ...\"}, \"Summer Infant Metal Expansion Gate, 6 Foot Wide Extra Tall Walk-Thru, Bronze\": {\"frequency\": 78, \"value\": \"Summer Infant ...\"}, \"Graco Ultra Clear  49MHZ Baby Monitor\": {\"frequency\": 26, \"value\": \"Graco Ultra Clear ...\"}, \"WubbaNub Pink Bear\": {\"frequency\": 18, \"value\": \"WubbaNub Pink Bear\"}, \"My Brest Friend Deluxe Pillow, Blue\": {\"frequency\": 19, \"value\": \"My Brest Friend ...\"}, \"Prince Lionheart Ultimate Wipes Warmer\": {\"frequency\": 152, \"value\": \"Prince Lionheart ...\"}, \"Lamaze High-Contrast Panda Rattle\": {\"frequency\": 23, \"value\": \"Lamaze High- ...\"}, \"QuickZip Crib Zipper Sheet - Ecru\": {\"frequency\": 21, \"value\": \"QuickZip Crib ...\"}, \"Safety 1st Alpha Elite Convertible Car Seat, Dolce Latte\": {\"frequency\": 23, \"value\": \"Safety 1st Alpha ...\"}, \"Dream On Me 3&quot; Foam Graco Pack 'n Play Mattress\": {\"frequency\": 87, \"value\": \"Dream On Me ...\"}, \"Medela 9 Volt Vehicle Lighter Adaptor\": {\"frequency\": 22, \"value\": \"Medela 9 Volt ...\"}, \"NUK Gerber GraduatesFun Grips Hard Spout Sippy Cups, Boy, 10 Ounce, 4-Count\": {\"frequency\": 23, \"value\": \"NUK Gerber ...\"}, \"My Brest Friend Pillow, Sunburst\": {\"frequency\": 74, \"value\": \"My Brest Friend ...\"}, \"Kolcraft Cozy Soft Portable Crib Mattress, Lily\": {\"frequency\": 36, \"value\": \"Kolcraft Cozy Soft ...\"}, \"Cardinal Gates Door Guardian, Brass\": {\"frequency\": 33, \"value\": \"Cardinal Gates ...\"}, \"Sassy: Baby Food Nursers 4oz - 2pk(Green) [Baby Product]\": {\"frequency\": 28, \"value\": \"Sassy: Baby Food ...\"}, \"JJ Cole Collections System Diaper Bag, Black Damask\": {\"frequency\": 29, \"value\": \"JJ Cole ...\"}, \"Fisher-Price Ocean Wonders Aquarium Bouncer\": {\"frequency\": 93, \"value\": \"Fisher-Price Ocean ...\"}, \"Baby Jogger 2013 City Select Stroller with Second Seat - Onyx\": {\"frequency\": 18, \"value\": \"Baby Jogger 2013 ...\"}, \"Leachco Snoogle Loop Contoured Fit Body Pillow, Ivory\": {\"frequency\": 34, \"value\": \"Leachco Snoogle ...\"}, \"Carters Super Soft Printed Changing Pad Cover, Blue\": {\"frequency\": 24, \"value\": \"Carters Super Soft ...\"}, \"Britax Advocate 70-G3 Convertible Car Seat, Onyx\": {\"frequency\": 75, \"value\": \"Britax Advocate ...\"}, \"Infantino Breathe Vented Carrier, Grey\": {\"frequency\": 36, \"value\": \"Infantino Breathe ...\"}, \"Safety 1st Kirby Inflatable Tub\": {\"frequency\": 44, \"value\": \"Safety 1st Kirby ...\"}, \"The Mommy Hook, Black with Black Pad\": {\"frequency\": 53, \"value\": \"The Mommy Hook, ...\"}, \"Supergate Deluxe D&eacute;cor Metal Gate, Espresso\": {\"frequency\": 98, \"value\": \"Supergate Deluxe ...\"}, \"Stork Craft Beatrice Combo Tower Chest, White\": {\"frequency\": 36, \"value\": \"Stork Craft ...\"}, \"Ergobaby Waist Extensions Baby Carrier Accessories\": {\"frequency\": 19, \"value\": \"Ergobaby Waist ...\"}, \"Summer Infant Day and Night Handheld Color Video Monitor with 1.8&quot; Screen - Silver\": {\"frequency\": 114, \"value\": \"Summer Infant Day ...\"}, \"American Baby Company 100% Cotton Percale Ruffle Crib Skirt, Celery\": {\"frequency\": 28, \"value\": \"American Baby ...\"}, \"Dr. Brown's Bottle Brush\": {\"frequency\": 58, \"value\": \"Dr. Brown's Bottle ...\"}, \"DaVinci Alpha Mini Rocking Crib - Natural\": {\"frequency\": 34, \"value\": \"DaVinci Alpha Mini ...\"}, \"Safety 1st Easy Saver Diaper Pail\": {\"frequency\": 24, \"value\": \"Safety 1st Easy ...\"}, \"Luvable Friends 3 Pack Assorted Sippy Cups &amp; Lids, Pink Assorted\": {\"frequency\": 25, \"value\": \"Luvable Friends 3 ...\"}, \"The First Years Spinning Drying Rack, White\": {\"frequency\": 136, \"value\": \"The First Years ...\"}, \"Munchkin Arm and Hammer Diaper Pail, White\": {\"frequency\": 68, \"value\": \"Munchkin Arm and ...\"}, \"Skip Hop Dash Deluxe Charcoal\": {\"frequency\": 32, \"value\": \"Skip Hop Dash ...\"}, \"Kidkusion Toddler Edge Kushions Black\": {\"frequency\": 52, \"value\": \"Kidkusion Toddler ...\"}, \"KidCo Center Gateway - White\": {\"frequency\": 28, \"value\": \"KidCo Center ...\"}, \"Britax Pioneer 70 Harness-2-Booster Car Seat, Kiwi\": {\"frequency\": 31, \"value\": \"Britax Pioneer 70 ...\"}, \"Satsuma Designs Organic Wash Cloths and Wipes 5 Pack, White\": {\"frequency\": 22, \"value\": \"Satsuma Designs ...\"}, \"Ju-Ju-Be Be Prepared Diaper Bag, Black/Silver\": {\"frequency\": 26, \"value\": \"Ju-Ju-Be Be ...\"}, \"Baby Banana Bendable Training Toothbrush, Infant\": {\"frequency\": 158, \"value\": \"Baby Banana ...\"}, \"Skip Hop Zoo Lunchie Insulated Lunch Bag, Monkey\": {\"frequency\": 135, \"value\": \"Skip Hop Zoo ...\"}, \"Boon Naked Collapsible Baby Bathtub, Blue/White\": {\"frequency\": 18, \"value\": \"Boon Naked ...\"}, \"Earlyears Roll n Swirl Ball Ramp\": {\"frequency\": 68, \"value\": \"Earlyears Roll n ...\"}, \"Diono Travel Pal Car Storage\": {\"frequency\": 19, \"value\": \"Diono Travel Pal ...\"}, \"JJ Cole Original Infant Bundleme, Khaki\": {\"frequency\": 19, \"value\": \"JJ Cole Original ...\"}, \"Baby Einstein Sea Dreams Soother\": {\"frequency\": 49, \"value\": \"Baby Einstein Sea ...\"}, \"Shermag Glider Rocker Combo, Pecan with Oatmeal\": {\"frequency\": 42, \"value\": \"Shermag Glider ...\"}, \"Skip Hop Duo Deluxe, Black\": {\"frequency\": 106, \"value\": \"Skip Hop Duo ...\"}, \"RECARO ProBOOSTER High Back Booster Car Seat, Riley\": {\"frequency\": 23, \"value\": \"RECARO ProBOOSTER ...\"}, \"Cosco Juvenile Funsport Play Yard, Kontiki\": {\"frequency\": 37, \"value\": \"Cosco Juvenile ...\"}, \"Infantino Merry Monkey Gym\": {\"frequency\": 24, \"value\": \"Infantino Merry ...\"}, \"Friendly Toys, Little Playzone with Electronic Sound and Lights\": {\"frequency\": 79, \"value\": \"Friendly Toys, ...\"}, \"Philips AVENT BPA Free Single Electric Breast Pump\": {\"frequency\": 24, \"value\": \"Philips AVENT BPA ...\"}, \"Munchkin High Speed Bottle and Food Warmer with Pacifier Cleaning Basket\": {\"frequency\": 30, \"value\": \"Munchkin High ...\"}, \"PRIMO EuroBath, Pearl White\": {\"frequency\": 182, \"value\": \"PRIMO EuroBath, ...\"}, \"babyletto Modo 3 in 1 Crib with Toddler Rail, Espresso\": {\"frequency\": 23, \"value\": \"babyletto Modo 3 ...\"}, \"Infantino Twist and Fold Gym, Baby Animals\": {\"frequency\": 19, \"value\": \"Infantino Twist ...\"}, \"Soothing Dreams Monistor with Remote Control, Fisher-Price\": {\"frequency\": 39, \"value\": \"Soothing Dreams ...\"}, \"Sassy Pop n' Push Car\": {\"frequency\": 67, \"value\": \"Sassy Pop n' Push ...\"}, \"PBnJ baby Paci Holder, Big Pink/Purple Dots\": {\"frequency\": 21, \"value\": \"PBnJ baby Paci ...\"}, \"Sunshine Kids Mighty Tite Seat Belt Tightener\": {\"frequency\": 34, \"value\": \"Sunshine Kids ...\"}, \"Philips Avent Electric Steam Sterilizer\": {\"frequency\": 22, \"value\": \"Philips Avent ...\"}, \"Lamaze Early Development Toy, Captain Calamari\": {\"frequency\": 31, \"value\": \"Lamaze Early ...\"}, \"LA Baby 4 Sided Changing Pad 30&quot;, White\": {\"frequency\": 31, \"value\": \"LA Baby 4 Sided ...\"}, \"One Step Ahead Secure Transitions Inflatable Baby Tub\": {\"frequency\": 38, \"value\": \"One Step Ahead ...\"}, \"Munchkin 2 Pack Mighty Grip Spill-Proof Cup, 10 Ounce, Colors May Vary\": {\"frequency\": 18, \"value\": \"Munchkin 2 Pack ...\"}, \"Susen 1pc Fashion Cute Baby Kids Girls Boys Stretchy Warm Winter Panda Cap Hat Beanie (Hot Pink)\": {\"frequency\": 19, \"value\": \"Susen 1pc Fashion ...\"}, \"Uncle Goose Classic Embossed Alphabet Blocks ABC\": {\"frequency\": 45, \"value\": \"Uncle Goose ...\"}, \"Baby Deedee Sleep Nest Lite Baby Sleeping Bag, Heather Gray Lime, Small (0-6 Months)\": {\"frequency\": 18, \"value\": \"Baby Deedee Sleep ...\"}, \"Playtex Sip Ease Replacement Valve - 2 Pk\": {\"frequency\": 23, \"value\": \"Playtex Sip Ease ...\"}, \"OXO Tot Straw and Sippy Cup Top Cleaning Set, Orange\": {\"frequency\": 48, \"value\": \"OXO Tot Straw and ...\"}, \"Snappi Cloth Diaper Fasteners - Pack of 3 (Mint color mix)\": {\"frequency\": 30, \"value\": \"Snappi Cloth ...\"}, \"Mommy's Helper Slide-Lok Bi-Fold Door Lock\": {\"frequency\": 76, \"value\": \"Mommy's Helper ...\"}, \"BOB Infant Car Seat Adapter For Single Strollers\": {\"frequency\": 27, \"value\": \"BOB Infant Car ...\"}, \"Hooter Hiders Nursing Cover - Aero\": {\"frequency\": 30, \"value\": \"Hooter Hiders ...\"}, \"Pourty Easy-to-Pour Potty, Blue\": {\"frequency\": 30, \"value\": \"Pourty Easy-to- ...\"}, \"Lamaze Classic Discovery Book\": {\"frequency\": 19, \"value\": \"Lamaze Classic ...\"}, \"Boppy Pillow with Luxe Slipcover, Monkey\": {\"frequency\": 19, \"value\": \"Boppy Pillow with ...\"}, \"Dream On Me 2 in 1 Portable Folding Stationary Side Crib, Cherry\": {\"frequency\": 21, \"value\": \"Dream On Me 2 in 1 ...\"}, \"Guava Kids Unisex Baby Guava Mitts - Bubbles/Lime - Small/Medium\": {\"frequency\": 69, \"value\": \"Guava Kids Unisex ...\"}, \"Kalencom Potette Plus Liners - 30 Liners\": {\"frequency\": 35, \"value\": \"Kalencom Potette ...\"}, \"Vullie Sophie Giraffe and Pie Pink - Natural Rubber and Food Paint Details Set of 2\": {\"frequency\": 19, \"value\": \"Vullie Sophie ...\"}, \"Graco Ipo Stroller, Spitfire\": {\"frequency\": 34, \"value\": \"Graco Ipo ...\"}, \"aden + anais Classic Muslin Crib Sheet, Up, Up &amp; Away Elephant\": {\"frequency\": 18, \"value\": \"aden + anais ...\"}, \"Lansinoh Soothies Gel Pads, 2 Count\": {\"frequency\": 25, \"value\": \"Lansinoh Soothies ...\"}, \"Levana Lila Digital Baby Video Monitor with Night Vision and Talk to Baby Intercom 32000 (White)\": {\"frequency\": 18, \"value\": \"Levana Lila ...\"}, \"Fisher-Price Rainforest Peek-a-Boo Soother, Waterfall\": {\"frequency\": 24, \"value\": \"Fisher-Price ...\"}, \"NUK Toddler Tooth and Gum Cleanser, 1.4 Ounce, (Colors May Vary)\": {\"frequency\": 22, \"value\": \"NUK Toddler Tooth ...\"}, \"Kolcraft Pure Sleep Therapeutic 150 Crib Mattress\": {\"frequency\": 30, \"value\": \"Kolcraft Pure ...\"}, \"Lamaze Garden Bug Wrist Rattle &amp; Foot Finder Set\": {\"frequency\": 55, \"value\": \"Lamaze Garden Bug ...\"}, \"Kinderglo Portable Fun and Safe Rechargeable Night Light, Elephant\": {\"frequency\": 28, \"value\": \"Kinderglo Portable ...\"}, \"Mother's Touch Deluxe Baby Bather\": {\"frequency\": 20, \"value\": \"Mother's Touch ...\"}, \"Luvable Friends 12 Pack Washcloths, Blue\": {\"frequency\": 25, \"value\": \"Luvable Friends 12 ...\"}, \"Carters Keep Me Dry Flannel Bassinet Pad, Green/Yellow\": {\"frequency\": 55, \"value\": \"Carters Keep Me ...\"}, \"Graco SnugRide Click Connect 35 Car Seat, Tangerine\": {\"frequency\": 33, \"value\": \"Graco SnugRide ...\"}, \"Graco SnugRide 32 Infant Car Seat, Zurich\": {\"frequency\": 25, \"value\": \"Graco SnugRide 32 ...\"}, \"eWonderWorld Rainbow (6 Colors) foam Wonder Mats: Extra Thick 36 Pieces 12&quot; X 12&quot; X ~9/16&quot;\": {\"frequency\": 18, \"value\": \"eWonderWorld ...\"}, \"NUK Hello Kitty Silicone Spout Learner Cup, 5 Ounce\": {\"frequency\": 18, \"value\": \"NUK Hello Kitty ...\"}, \"Infantino Sync Comfort Wrap Carrier Black/Red\": {\"frequency\": 22, \"value\": \"Infantino Sync ...\"}, \"Summer Infant Complete Coverage Color Video Monitor Set with 7&quot; LCD Screen and 1.8&quot; Handheld Unit\": {\"frequency\": 35, \"value\": \"Summer Infant ...\"}, \"Fisher-Price 2-in-1 Portable Potty\": {\"frequency\": 26, \"value\": \"Fisher-Price ...\"}, \"Kaboost Portable Chair Booster, Green\": {\"frequency\": 29, \"value\": \"Kaboost Portable ...\"}, \"Summer Infant Contoured Changing Pad Amazon Frustration Free Packaging\": {\"frequency\": 208, \"value\": \"Summer Infant ...\"}, \"American Baby Company 100% Cotton Value Jersey Knit Cradle Sheet, Blue\": {\"frequency\": 19, \"value\": \"American Baby ...\"}, \"Tenergy 8 pcs C Size 5000 mAh high capacity high rate NiMH Rechargeable batteries\": {\"frequency\": 22, \"value\": \"Tenergy 8 pcs C ...\"}, \"Bright Starts Around We Go Activity Station, Tropical Fun\": {\"frequency\": 43, \"value\": \"Bright Starts ...\"}, \"Ergobaby Swaddler Blanket Pink/Natural Small/Medium\": {\"frequency\": 21, \"value\": \"Ergobaby Swaddler ...\"}, \"Kidco Y Spindle\": {\"frequency\": 33, \"value\": \"Kidco Y Spindle\"}, \"Dreambaby Extra Tall Swing Close Gate with Extensions, White\": {\"frequency\": 83, \"value\": \"Dreambaby Extra ...\"}, \"Britax B-Agile Stroller Child Tray\": {\"frequency\": 40, \"value\": \"Britax B-Agile ...\"}, \"Munchkin Lulla-Vibe Vibrating Mattress Pad\": {\"frequency\": 42, \"value\": \"Munchkin Lulla- ...\"}, \"Zo-li Bot Straw Sippy Cup 6oz\": {\"frequency\": 152, \"value\": \"Zo-li Bot Straw ...\"}, \"Child to Cherish Handprints Tower Of Time Kit in Pink\": {\"frequency\": 20, \"value\": \"Child to Cherish ...\"}, \"Earlyears Fill n Fun Water Mat Toy\": {\"frequency\": 42, \"value\": \"Earlyears Fill n ...\"}, \"Baby Reusable Boy Pocket Cloth Diapers, 6 pcs + 6 Inserts\": {\"frequency\": 33, \"value\": \"Baby Reusable Boy ...\"}, \"American Baby Company Quilted Fitted Waterproof Fitted Cradle Mattress Pad Cover\": {\"frequency\": 19, \"value\": \"American Baby ...\"}, \"green sprouts Wooden Brush and Comb Set, Natural\": {\"frequency\": 24, \"value\": \"green sprouts ...\"}, \"Britax Boulevard 70 Convertible Car Seat (Previous Version), Onyx\": {\"frequency\": 36, \"value\": \"Britax Boulevard ...\"}, \"OXO Tot On-the-Go Feeding Spoon, Green\": {\"frequency\": 20, \"value\": \"OXO Tot On-the-Go ...\"}, \"BreathableBaby Breathable Bumper for Portable and Cradle Cribs, White\": {\"frequency\": 27, \"value\": \"BreathableBaby ...\"}, \"BABYBJORN Potty Chair - Red\": {\"frequency\": 232, \"value\": \"BABYBJORN Potty ...\"}, \"The First Years Hands Free Gate\": {\"frequency\": 181, \"value\": \"The First Years ...\"}, \"New Mommy Advice Cards -24ct- Party Supplies\": {\"frequency\": 18, \"value\": \"New Mommy Advice ...\"}, \"Delta Eclipse Changing Table, Black Cherry\": {\"frequency\": 32, \"value\": \"Delta Eclipse ...\"}, \"Crown Crafts The Original NoJo BabySling by Dr. Sears - Denim\": {\"frequency\": 19, \"value\": \"Crown Crafts The ...\"}, \"Prince Lionheart Balance Bike\": {\"frequency\": 19, \"value\": \"Prince Lionheart ...\"}, \"Jeep Cherokee Sport Stroller, Brick Red\": {\"frequency\": 92, \"value\": \"Jeep Cherokee ...\"}, \"Fisher-Price Cradle n Swing, My Little Lamb\": {\"frequency\": 88, \"value\": \"Fisher-Price ...\"}, \"Fisher-Price Deluxe Jumperoo\": {\"frequency\": 77, \"value\": \"Fisher-Price ...\"}, \"Lotus Travel Crib and Portable Baby Playard\": {\"frequency\": 44, \"value\": \"Lotus Travel Crib ...\"}, \"BRICA By-My-Side Safety Harness Backpack, Pink/Gray\": {\"frequency\": 32, \"value\": \"BRICA By-My-Side ...\"}, \"Bamboobies Super-Soft Washable Nursing Pads - All Pale Pink\": {\"frequency\": 31, \"value\": \"Bamboobies Super- ...\"}, \"Baby Brezza One Step Baby Food Maker, White/Grey\": {\"frequency\": 47, \"value\": \"Baby Brezza One ...\"}, \"North States Superyard 3 in 1 Wood Gate\": {\"frequency\": 40, \"value\": \"North States ...\"}, \"Munchkin Warm Glow Wipe Warmer and Diaper Bag Dispenser Set (Colors may vary)\": {\"frequency\": 19, \"value\": \"Munchkin Warm Glow ...\"}, \"One Direction Life-size Stand-up Cutout- Niall\": {\"frequency\": 43, \"value\": \"One Direction ...\"}, \"Dream On Me Classic Sleigh Toddler Bed, White\": {\"frequency\": 55, \"value\": \"Dream On Me ...\"}, \"Philips AVENT BPA Free Nighttime Infant Pacifier, 0-6 Months,  Colors May Vary, 2-Count\": {\"frequency\": 20, \"value\": \"Philips AVENT BPA ...\"}, \"Door Monkey, Childproof Door Lock &amp; Pinch Guard\": {\"frequency\": 145, \"value\": \"Door Monkey, ...\"}, \"Baby Einstein Rattle and Teethe, Caterpillar, Colors May Vary\": {\"frequency\": 21, \"value\": \"Baby Einstein ...\"}, \"Stork Craft Hoop Glider and Ottoman, White/Beige\": {\"frequency\": 66, \"value\": \"Stork Craft Hoop ...\"}, \"Baby's My First Photo Album of Family &amp; Friends\": {\"frequency\": 55, \"value\": \"Baby's My First ...\"}, \"Munchkin Travel Booster Seat\": {\"frequency\": 35, \"value\": \"Munchkin Travel ...\"}, \"Britax Boulevard 70-G3 Convertible Car Seat Seat, Onyx\": {\"frequency\": 76, \"value\": \"Britax Boulevard ...\"}, \"Keekaroo Height Right High Chair with Tray, Natural\": {\"frequency\": 39, \"value\": \"Keekaroo Height ...\"}, \"Baby Jogger City Elite Single Stroller, Black\": {\"frequency\": 19, \"value\": \"Baby Jogger City ...\"}, \"Luvable Friends 12 Washcloths With Bonus Toy, Blue\": {\"frequency\": 23, \"value\": \"Luvable Friends 12 ...\"}, \"Skip Hop Hug and Hide Activity Toy, Owl\": {\"frequency\": 47, \"value\": \"Skip Hop Hug and ...\"}, \"Safety 1st Lock Release Fridge Latch\": {\"frequency\": 21, \"value\": \"Safety 1st Lock ...\"}, \"babyletto Mercer 3-in-1 Convertible Crib with Toddler Rail, Two Tone\": {\"frequency\": 21, \"value\": \"babyletto Mercer ...\"}, \"BRICA Deluxe Kick Mats (2 pack)\": {\"frequency\": 37, \"value\": \"BRICA Deluxe Kick ...\"}, \"The First Years Compass Pathway B570 Adjustable Booster Seat, Black and Khaki\": {\"frequency\": 27, \"value\": \"The First Years ...\"}, \"Evenflo Top of Stair Gate\": {\"frequency\": 50, \"value\": \"Evenflo Top of ...\"}, \"Yummi Pouch (Set of 6)\": {\"frequency\": 66, \"value\": \"Yummi Pouch (Set ...\"}, \"Razbaby Raz-Berry silicone Teethers Double Pack Both Colors in One Package.\": {\"frequency\": 23, \"value\": \"Razbaby Raz-Berry ...\"}, \"Graco Blossom Booster Seat, Brown/Tan\": {\"frequency\": 58, \"value\": \"Graco Blossom ...\"}, \"Evenflo Tribute 5 Convertible Car Seat, Ella\": {\"frequency\": 109, \"value\": \"Evenflo Tribute 5 ...\"}, \"Safety 1st Oven Front Lock\": {\"frequency\": 72, \"value\": \"Safety 1st Oven ...\"}, \"Aquatopia Deluxe Safety Bath Thermometer Alarm, Green\": {\"frequency\": 62, \"value\": \"Aquatopia Deluxe ...\"}, \"6 Ounce Portable Reusable Resealable and Refillable Food Pouch for Baby Food (6-Pack) By Precious Tummies. Great for Applesauce, Juices, Smoothies, Yogurt, Puree, and More. Perfect Accessory For Meals on the Go and Lunch Box Snacks. Double Reinforced Top Zipper Leak Guard To Prevent Leaks.\": {\"frequency\": 27, \"value\": \"6 Ounce Portable ...\"}, \"Medela Breastmilk Collection and Storage Bottles 8oz (250ml) - 2 Each\": {\"frequency\": 31, \"value\": \"Medela Breastmilk ...\"}, \"Todays Mom Cozy Comfort Pregnancy Pillow - Sky Blue\": {\"frequency\": 109, \"value\": \"Todays Mom Cozy ...\"}, \"Safety 1st High-Def Digital Monitor\": {\"frequency\": 39, \"value\": \"Safety 1st High- ...\"}, \"Chicco 360 Hook on High Chair, Midori\": {\"frequency\": 45, \"value\": \"Chicco 360 Hook on ...\"}, \"Rumparooz Cloth Diaper Cover, White Snap\": {\"frequency\": 23, \"value\": \"Rumparooz Cloth ...\"}, \"Leachco Prop 'R Shopper - Shopping Cart Cover - Sage Pin Dot\": {\"frequency\": 39, \"value\": \"Leachco Prop 'R ...\"}, \"DaVinci Emily Mini Crib - White\": {\"frequency\": 29, \"value\": \"DaVinci Emily Mini ...\"}, \"Regalo Easy Diner Portable Hook-On High Chair\": {\"frequency\": 114, \"value\": \"Regalo Easy Diner ...\"}, \"Primo Ducka Toilet Set Reducer (White)\": {\"frequency\": 25, \"value\": \"Primo Ducka Toilet ...\"}, \"Baby Deedee Sleep Nest Baby Sleeping Bag, Dream Blue, Small (0-6 Months)\": {\"frequency\": 70, \"value\": \"Baby Deedee Sleep ...\"}, \"Pigeon Baby Nose Cleaning Tweezers Pigeon (Made in Japan)\": {\"frequency\": 24, \"value\": \"Pigeon Baby Nose ...\"}, \"Baby Einstein Octoplush\": {\"frequency\": 57, \"value\": \"Baby Einstein ...\"}, \"Safety 1St Comfy Cushy 3-in-1 Potty\": {\"frequency\": 32, \"value\": \"Safety 1St Comfy ...\"}, \"SoHo Pink with Black &amp; White Zebra Chenille Crib Nursery Bedding 10 pcs Set\": {\"frequency\": 19, \"value\": \"SoHo Pink with ...\"}, \"Playtex Diaper Genie On The Go Dispenser\": {\"frequency\": 30, \"value\": \"Playtex Diaper ...\"}, \"Maxboost Fusion Snap-on iPhone 5S/5 Case - Grey (Fit Fusion Battery Case for iPhone 5S/5)\": {\"frequency\": 22, \"value\": \"Maxboost Fusion ...\"}, \"NUK Fill &amp; Freeze Pops\": {\"frequency\": 20, \"value\": \"NUK Fill &amp; ...\"}, \"WubbaNub Tabby Kitten\": {\"frequency\": 41, \"value\": \"WubbaNub Tabby ...\"}, \"Squatty Potty 9&quot; Toilet Stool-Elimination Aid - Natural Bathroom Relief Through A Toilet Stool\": {\"frequency\": 80, \"value\": \"Squatty Potty ...\"}, \"Levana Jena Digital Baby Video Monitor with 8 Hour Rechargeable Battery and Talk to Baby Intercom\": {\"frequency\": 115, \"value\": \"Levana Jena ...\"}, \"Regalo 192-Inch Super Wide Gate and Play Yard\": {\"frequency\": 54, \"value\": \"Regalo 192-Inch ...\"}, \"Britax Advocate 70 CS Convertible Car Seat, Zebra\": {\"frequency\": 22, \"value\": \"Britax Advocate 70 ...\"}, \"Britax Parkway SGL Belt-Positioning Booster Seat, Cub Pink\": {\"frequency\": 36, \"value\": \"Britax Parkway SGL ...\"}, \"bumGenius One-Size Cloth Diaper Twilight\": {\"frequency\": 34, \"value\": \"bumGenius One-Size ...\"}, \"Munchkin 2 Pack Silicone Spoons, Colors May Vary\": {\"frequency\": 18, \"value\": \"Munchkin 2 Pack ...\"}, \"JJ Cole Mode Diaper Tote Bag, Cocoa Tree\": {\"frequency\": 19, \"value\": \"JJ Cole Mode ...\"}, \"JJ Cole Urban Bundleme, Ice, Infant\": {\"frequency\": 84, \"value\": \"JJ Cole Urban ...\"}, \"Steribottle Ready to Use Disposable Baby Bottles,  10-Count\": {\"frequency\": 23, \"value\": \"Steribottle Ready ...\"}, \"Blooming Bath Baby Bath - Hot Pink\": {\"frequency\": 36, \"value\": \"Blooming Bath Baby ...\"}, \"The First Years 2 Pack GumDrop Infant Pacifier, Blue/Green\": {\"frequency\": 19, \"value\": \"The First Years 2 ...\"}, \"Leachco Preggle Comfort Air-Flow Body Pillow, Ivory/Khaki\": {\"frequency\": 31, \"value\": \"Leachco Preggle ...\"}, \"Britax B-Agile Stroller Adult Cup Holder\": {\"frequency\": 19, \"value\": \"Britax B-Agile ...\"}, \"Recaro Vivo High Back Booster, Carbon\": {\"frequency\": 26, \"value\": \"Recaro Vivo High ...\"}, \"Evenflo Big Kid Booster Car Seat - Silver Birch\": {\"frequency\": 22, \"value\": \"Evenflo Big Kid ...\"}, \"Regalo Hide Away Extra Long Bed Rail, White\": {\"frequency\": 81, \"value\": \"Regalo Hide Away ...\"}, \"Kiddopotamus SwaddleMe 100% Cotton Knit, Small, Sage\": {\"frequency\": 18, \"value\": \"Kiddopotamus ...\"}, \"HALO Early Walker SleepSack Micro Fleece Wearable Blanket, Blue, Large\": {\"frequency\": 19, \"value\": \"HALO Early Walker ...\"}, \"Fuzzibunz One Size Diaper White, 7-35 Pounds\": {\"frequency\": 36, \"value\": \"Fuzzibunz One Size ...\"}, \"Britax Back Seat Mirror\": {\"frequency\": 121, \"value\": \"Britax Back Seat ...\"}, \"The First Years Breastflow Starter Set\": {\"frequency\": 58, \"value\": \"The First Years ...\"}, \"The First Years - Crib CD Player\": {\"frequency\": 39, \"value\": \"The First Years - ...\"}, \"Philips Avent 3 Pack 9oz Bottles\": {\"frequency\": 191, \"value\": \"Philips Avent 3 ...\"}, \"Evenflo Jenny Jump Up Jumper, Pink/Gray/White\": {\"frequency\": 21, \"value\": \"Evenflo Jenny Jump ...\"}, \"Cozy Car Seat Microfiber and Fleece Cover- Pink\": {\"frequency\": 28, \"value\": \"Cozy Car Seat ...\"}, \"Munchkin Easy-Close Metal Gate, White\": {\"frequency\": 46, \"value\": \"Munchkin Easy- ...\"}, \"Fitted Portable Crib Sheet in Yellow Duck Print\": {\"frequency\": 25, \"value\": \"Fitted Portable ...\"}, \"25 mm One-Piece Breastshield w/ Valve and Membrane for Medela Breast Pumps; Set of 2; Made by Maymom\": {\"frequency\": 16, \"value\": \"25 mm One-Piece ...\"}, \"BABYBJORN Travel Crib Light 2, Black\": {\"frequency\": 61, \"value\": \"BABYBJORN Travel ...\"}, \"Munchkin Arm &amp; Hammer Diaper Pail withRefill Bags, 10-Count\": {\"frequency\": 26, \"value\": \"Munchkin Arm &amp; ...\"}, \"Disney Soft Potty and Step Stool Combo Set, Pixar Cars\": {\"frequency\": 22, \"value\": \"Disney Soft Potty ...\"}, \"Evenflo 3 Pack Classic Glass Bottle, 4-Ounce\": {\"frequency\": 36, \"value\": \"Evenflo 3 Pack ...\"}, \"Sealy Baby Posturepedic Mattress\": {\"frequency\": 22, \"value\": \"Sealy Baby ...\"}, \"Spectra Dew 350 Advanced Double Electric Hospital Grade Breast Pump with Tote!\": {\"frequency\": 20, \"value\": \"Spectra Dew 350 ...\"}, \"Baby Buddy Secure-A-Toy, Navy/Red\": {\"frequency\": 135, \"value\": \"Baby Buddy Secure- ...\"}, \"Baby Aspen Sweet Tee Three Piece Golf Layette Set in Golf Cart Packaging\": {\"frequency\": 26, \"value\": \"Baby Aspen Sweet ...\"}, \"WubbaNub Elephant\": {\"frequency\": 19, \"value\": \"WubbaNub Elephant\"}, \"Skip Hop Via Messenger Diaper Bag Black\": {\"frequency\": 21, \"value\": \"Skip Hop Via ...\"}, \"Think King Mighty Buggy Hook for Stroller, Wheelchair, Rollator, Walker, 2 Pack\": {\"frequency\": 39, \"value\": \"Think King Mighty ...\"}, \"Jeep Liberty Renegade Walker, Storm\": {\"frequency\": 22, \"value\": \"Jeep Liberty ...\"}, \"OXO Tot Seedling Youth Booster Seat, Green\": {\"frequency\": 43, \"value\": \"OXO Tot Seedling ...\"}, \"Jolly Jumper Arctic Sneak A Peek Infant Car Seat Cover Black\": {\"frequency\": 27, \"value\": \"Jolly Jumper ...\"}, \"Goldbug Animal 2 in 1 Harness, Cow\": {\"frequency\": 25, \"value\": \"Goldbug Animal 2 ...\"}, \"green sprouts Warming Plate, Sage\": {\"frequency\": 27, \"value\": \"green sprouts ...\"}, \"Lil Rinser Splashguard in Purple\": {\"frequency\": 59, \"value\": \"Lil Rinser ...\"}, \"Regalo My Cot Portable Toddler Bed, Pink\": {\"frequency\": 61, \"value\": \"Regalo My Cot ...\"}, \"Chewy Tubes Knobby Super Chew Red\": {\"frequency\": 27, \"value\": \"Chewy Tubes Knobby ...\"}, \"aden + anais 2 Pack Muslin Burpy Bib, Princess Posie\": {\"frequency\": 53, \"value\": \"aden + anais 2 ...\"}, \"Diono RadianR120 Convertible Car Seat, Storm\": {\"frequency\": 20, \"value\": \"Diono RadianR120 ...\"}, \"Evenflo Chase LX - Aqua Optical\": {\"frequency\": 28, \"value\": \"Evenflo Chase LX - ...\"}, \"Chicco KeyFit &amp; KeyFit30 Infant Car Seat Base - Anthracite\": {\"frequency\": 56, \"value\": \"Chicco KeyFit ...\"}, \"ERGObaby Heart2Heart Infant Insert, Natural\": {\"frequency\": 47, \"value\": \"ERGObaby ...\"}, \"UPPAbaby Vista Stroller, Red/Denny\": {\"frequency\": 24, \"value\": \"UPPAbaby Vista ...\"}, \"Zoli Baby On-the-Go Snack/Formula Dispsenser - 2 oz\": {\"frequency\": 24, \"value\": \"Zoli Baby On-the- ...\"}, \"bumGenius One-Size Hook &amp; Loop Closure Cloth Diaper 4.0 - Blossom\": {\"frequency\": 19, \"value\": \"bumGenius One-Size ...\"}, \"Luvable Friends Fitted Pack N Play Sheet, White\": {\"frequency\": 22, \"value\": \"Luvable Friends ...\"}, \"Summer Infant Deluxe Day &amp; Night Handheld Color Video Monitor with 2.5&quot; Screen - Pink\": {\"frequency\": 73, \"value\": \"Summer Infant ...\"}, \"Summer Infant 2 Pack Cotton Knit Swaddleme, Safari (Small/Medium)\": {\"frequency\": 57, \"value\": \"Summer Infant 2 ...\"}, \"Totseat - Stripe in Blue\": {\"frequency\": 32, \"value\": \"Totseat - Stripe ...\"}, \"Badger Basket Company Sleigh Style Changing Table with Hamper/3 Baskets in White\": {\"frequency\": 21, \"value\": \"Badger Basket ...\"}, \"Baby Einstein Baby Neptune Activity Center\": {\"frequency\": 47, \"value\": \"Baby Einstein Baby ...\"}, \"Dr. Brown's BPA Free Polypropylene Natural Flow Wide Neck Bottle, 8 Ounce, 3 Count\": {\"frequency\": 60, \"value\": \"Dr. Brown's BPA ...\"}, \"Kiinde Kozii\": {\"frequency\": 68, \"value\": \"Kiinde Kozii\"}, \"Vital Baby Unbelievabowl Set, Orange\": {\"frequency\": 18, \"value\": \"Vital Baby ...\"}, \"One Dozen (12) Rubber Duckie Ducky Duck Christmas Nativity Scene\": {\"frequency\": 18, \"value\": \"One Dozen (12) ...\"}, \"Pikibu I-See-You Car Family Mirror, Black\": {\"frequency\": 32, \"value\": \"Pikibu I-See-You ...\"}, \"North States Supergate Auto-Close Metal Gate\": {\"frequency\": 30, \"value\": \"North States ...\"}, \"North States 3 in 1 Metal Superyard 2 Panel Extension, Taupe\": {\"frequency\": 22, \"value\": \"North States 3 in ...\"}, \"Jeep Backpack Harness, Lion\": {\"frequency\": 24, \"value\": \"Jeep Backpack ...\"}, \"Jeep Deluxe Stroller Weather Shield\": {\"frequency\": 27, \"value\": \"Jeep Deluxe ...\"}, \"Evenflo ABC SmartSteps ExerSaucer\": {\"frequency\": 23, \"value\": \"Evenflo ABC ...\"}, \"Dream On Me, 3 in 1 Portable Convertible Crib, Cherry\": {\"frequency\": 23, \"value\": \"Dream On Me, 3 in ...\"}, \"Medela Pump in Style Advanced Breast Pump with On the Go Tote\": {\"frequency\": 89, \"value\": \"Medela Pump in ...\"}, \"Munchkin 3 Count Stay Put Suction Bowl\": {\"frequency\": 127, \"value\": \"Munchkin 3 Count ...\"}, \"Jolly Jumper Bumper Bonnet Toddler Head Cushion\": {\"frequency\": 19, \"value\": \"Jolly Jumper ...\"}, \"ULTRASCALE MBSC-55 Digital Baby Pet Scale\": {\"frequency\": 23, \"value\": \"ULTRASCALE MBSC-55 ...\"}, \"Fisher-Price Rainforest Healthy Care High Chair\": {\"frequency\": 40, \"value\": \"Fisher-Price ...\"}, \"Inglesina 2011 Fast Table Chair, Marina\": {\"frequency\": 30, \"value\": \"Inglesina 2011 ...\"}, \"Babiators Unisex-Baby Infant Ops Junior Sunglasses, Black, Small\": {\"frequency\": 61, \"value\": \"Babiators Unisex- ...\"}, \"*SPECIAL PROMOTION*The Art of CureTM *SAFETY KNOTTED* Honey - Certified Baltic Amber Baby Teething Necklace w/The Art of CureTM Jewelry Pouch (SHIPS AND SOLD IN USA)\": {\"frequency\": 63, \"value\": \"*SPECIAL ...\"}, \"Cuisinart BFM-1000 Baby Food Maker and Bottle Warmer\": {\"frequency\": 28, \"value\": \"Cuisinart BFM-1000 ...\"}, \"Graco Secure Coverage Digital Baby Monitor with 1 Parent Unit\": {\"frequency\": 30, \"value\": \"Graco Secure ...\"}, \"Evenflo Snugli Comfort Vent Carrier\": {\"frequency\": 22, \"value\": \"Evenflo Snugli ...\"}, \"Jolly Jumper Bath Tub Toy Bag\": {\"frequency\": 54, \"value\": \"Jolly Jumper Bath ...\"}, \"Britax Frontier Booster Car Seat\": {\"frequency\": 22, \"value\": \"Britax Frontier ...\"}, \"Graco Classic Ride 50 Convertible Car Seat, Boyton\": {\"frequency\": 25, \"value\": \"Graco Classic Ride ...\"}, \"FISHER PRICE SINGING STAR GYM\": {\"frequency\": 37, \"value\": \"FISHER PRICE ...\"}, \"Stork Craft Tuscany 4 in 1 Fixed Side Convertible Crib, White\": {\"frequency\": 81, \"value\": \"Stork Craft ...\"}, \"Safety 1st Exchangeable Tip 3 in 1 Thermometer\": {\"frequency\": 19, \"value\": \"Safety 1st ...\"}, \"Baby Jogger City Select Single Stroller, Onyx\": {\"frequency\": 26, \"value\": \"Baby Jogger City ...\"}, \"Britax Marathon 70 Convertible Car Seat (Previous Version), Onyx\": {\"frequency\": 65, \"value\": \"Britax Marathon 70 ...\"}, \"Samsung Wireless Video Security Monitoring System\": {\"frequency\": 39, \"value\": \"Samsung Wireless ...\"}, \"Diono Radian Travel Bag, Black\": {\"frequency\": 23, \"value\": \"Diono Radian ...\"}, \"Bright Starts Comfort and Harmony Bouncer, Vintage Garden\": {\"frequency\": 18, \"value\": \"Bright Starts ...\"}, \"Graco Baby Einstein Discover and Play Entertainer\": {\"frequency\": 76, \"value\": \"Graco Baby ...\"}, \"green sprouts Stacking Cup Set, Colors may vary\": {\"frequency\": 46, \"value\": \"green sprouts ...\"}, \"Baby Trend Diaper Champ\": {\"frequency\": 333, \"value\": \"Baby Trend Diaper ...\"}, \"DaVinci Kalani 3 Drawer Changer in Cherry\": {\"frequency\": 19, \"value\": \"DaVinci Kalani 3 ...\"}, \"Kidswitch Light Switch Extender- 3 Pack\": {\"frequency\": 70, \"value\": \"Kidswitch Light ...\"}, \"Dream On Me Classic Toddler Bed, Cherry\": {\"frequency\": 44, \"value\": \"Dream On Me ...\"}, \"Disney Cars Folding Potty Seat\": {\"frequency\": 19, \"value\": \"Disney Cars ...\"}, \"BRICA Seat Belt Adjuster, Gray\": {\"frequency\": 24, \"value\": \"BRICA Seat Belt ...\"}, \"South Shore Savannah Collection 4-Drawer Chest, White\": {\"frequency\": 22, \"value\": \"South Shore ...\"}, \"Colgate Classica I Foam Crib Mattress, White\": {\"frequency\": 33, \"value\": \"Colgate Classica I ...\"}, \"Baby Briefcase Baby Paperwork Organizer, Mint/Periwinkle\": {\"frequency\": 22, \"value\": \"Baby Briefcase ...\"}, \"Kushies Swim Diaper, Sail Boats Print, Medium\": {\"frequency\": 18, \"value\": \"Kushies Swim ...\"}, \"DaVinci Sleigh Toddler Bed - Honey Oak\": {\"frequency\": 30, \"value\": \"DaVinci Sleigh ...\"}, \"Summer Infant Little Looster\": {\"frequency\": 39, \"value\": \"Summer Infant ...\"}, \"Bumkins Reusable Sandwich and Snack Bag, Bright Blue, Large\": {\"frequency\": 63, \"value\": \"Bumkins Reusable ...\"}, \"Britax Roundabout 55 Convertible Car Seat, Silverlake\": {\"frequency\": 22, \"value\": \"Britax Roundabout ...\"}, \"The Shrunks Sleep Secure Inflatable Bed Rail\": {\"frequency\": 18, \"value\": \"The Shrunks Sleep ...\"}, \"Ba Baby Bottle Holder, Pink\": {\"frequency\": 16, \"value\": \"Ba Baby Bottle ...\"}, \"Prince Lionheart bebePOD Flex Baby Seat, Mint\": {\"frequency\": 26, \"value\": \"Prince Lionheart ...\"}, \"Munchkin Bottle and Nipple Brush, Colors May Vary\": {\"frequency\": 54, \"value\": \"Munchkin Bottle ...\"}, \"Learning Curve True Fit Convertible Car Seat, Pink Butterfly\": {\"frequency\": 28, \"value\": \"Learning Curve ...\"}, \"Dr. Brown's 4 oz Natural Flow Baby Bottle, 3 Pack\": {\"frequency\": 68, \"value\": \"Dr. Brown's 4 oz ...\"}, \"Britax Kick Mats (2-Pack, Black)\": {\"frequency\": 91, \"value\": \"Britax Kick Mats ...\"}, \"Baby Banz Hearing Protector Earmuffs, Blue\": {\"frequency\": 66, \"value\": \"Baby Banz Hearing ...\"}, \"Sunshine Systems LEDGP14 GlowPanel 14 Watt LED Grow Light\": {\"frequency\": 20, \"value\": \"Sunshine Systems ...\"}, \"Summer Infant Custom Fit Walk-Thru Gate, Tan\": {\"frequency\": 22, \"value\": \"Summer Infant ...\"}, \"Snuza Portable Baby Movement Monitor\": {\"frequency\": 57, \"value\": \"Snuza Portable ...\"}, \"C.R. Gibson First Year Calendar, Alex\": {\"frequency\": 22, \"value\": \"C.R. Gibson First ...\"}, \"Graco Secure Coverage Digital Baby Monitor with 2 Parent Units\": {\"frequency\": 33, \"value\": \"Graco Secure ...\"}, \"The First Years Soft Grip Trainer Seat, Blue\": {\"frequency\": 23, \"value\": \"The First Years ...\"}, \"Peter Potty Toddler Urinal\": {\"frequency\": 28, \"value\": \"Peter Potty ...\"}, \"Britax B-Agile and B-Safe Travel System, Red\": {\"frequency\": 24, \"value\": \"Britax B-Agile and ...\"}, \"Delta Universal 6 Drawer Dresser, Black Cherry\": {\"frequency\": 53, \"value\": \"Delta Universal 6 ...\"}, \"Summer Infant Day &amp; Night Baby Video Monitor with 5&quot; Screen - White\": {\"frequency\": 30, \"value\": \"Summer Infant Day ...\"}, \"Snoogle Chic Jersey - Snoogle Replacement Cover with Zipper for Easy Use - Heather Gray\": {\"frequency\": 32, \"value\": \"Snoogle Chic ...\"}, \"Primo 4-In-1 Soft Seat Toilet Trainer and Step Stool White with Pastel Blue Seat\": {\"frequency\": 45, \"value\": \"Primo 4-In-1 Soft ...\"}, \"North States Supergate Classic Plastic Gate Mounts 5 Different Ways\": {\"frequency\": 59, \"value\": \"North States ...\"}, \"Munchkin Deluxe Bottle Brush, Colors May Vary\": {\"frequency\": 41, \"value\": \"Munchkin Deluxe ...\"}, \"Child Airplane Travel Harness - Cares Safety Restraint System - The Only FAA Approved Child Flying Safety Device\": {\"frequency\": 109, \"value\": \"Child Airplane ...\"}, \"Ameda 4 Pack Breast Milk Storage Bottles, 4 Ounce\": {\"frequency\": 19, \"value\": \"Ameda 4 Pack ...\"}, \"Balboa Baby Dr. Sears Adjustable Sling, Blue Plaid\": {\"frequency\": 19, \"value\": \"Balboa Baby Dr. ...\"}, \"Munchkin Steam Guard Microwave Sterilizer Bags, 6 Pack, White\": {\"frequency\": 38, \"value\": \"Munchkin Steam ...\"}, \"Medela 5 oz Breastmilk Bottle Set (3 Bottles)\": {\"frequency\": 63, \"value\": \"Medela 5 oz ...\"}, \"Sassy Fascination Station\": {\"frequency\": 38, \"value\": \"Sassy Fascination ...\"}, \"BRICA Roll 'n Go Car Seat Transporter\": {\"frequency\": 36, \"value\": \"BRICA Roll 'n Go ...\"}, \"BubbleBum Inflatable Car Booster Seat\": {\"frequency\": 79, \"value\": \"BubbleBum ...\"}, \"FuzziBunz Perfect Size Cloth Diaper, Cotton Candy, Large 25-40+ lbs\": {\"frequency\": 29, \"value\": \"FuzziBunz Perfect ...\"}, \"Baby Einstein Lights &amp; Melodies Mirror\": {\"frequency\": 18, \"value\": \"Baby Einstein ...\"}, \"Kushies Deluxe Flannel Change Pad, Yellow with Brown Dots\": {\"frequency\": 63, \"value\": \"Kushies Deluxe ...\"}, \"JJ Cole Bundleme Lite, Pink, Infant\": {\"frequency\": 17, \"value\": \"JJ Cole Bundleme ...\"}, \"Bright Starts Walk-A-Bout Walker, Cute Frog\": {\"frequency\": 63, \"value\": \"Bright Starts ...\"}, \"FitBALL Seating Disc 15&quot; Iridescent Blue (Poly Bag)\": {\"frequency\": 19, \"value\": \"FitBALL Seating ...\"}, \"Snappi Cloth Diaper Fasteners - Pack of 5 (2 Mint Green, 2 White, 1 Blue)\": {\"frequency\": 26, \"value\": \"Snappi Cloth ...\"}, \"BabyPlus Prenatal Education System\": {\"frequency\": 41, \"value\": \"BabyPlus Prenatal ...\"}, \"Thirsties Duo Wrap, Honeydew, Size Two (18-40 lbs)\": {\"frequency\": 56, \"value\": \"Thirsties Duo ...\"}, \"bumGenius Freetime All-In-One One-Size Snap Closure Cloth Diaper - White\": {\"frequency\": 23, \"value\": \"bumGenius Freetime ...\"}, \"Munchkin Click Lock Fresh Food Freezer Pops\": {\"frequency\": 20, \"value\": \"Munchkin Click ...\"}, \"Bummis Bio-Soft Liner, Small\": {\"frequency\": 76, \"value\": \"Bummis Bio-Soft ...\"}, \"Playtex Baby Drop-Ins Premium Nurser Bottle Feeding Set\": {\"frequency\": 52, \"value\": \"Playtex Baby Drop- ...\"}, \"OXO Tot Straw Cup, Aqua, 11 Ounce\": {\"frequency\": 36, \"value\": \"OXO Tot Straw Cup, ...\"}, \"Ikea Baby Bib Set with Sleaves-kladd Prickar\": {\"frequency\": 23, \"value\": \"Ikea Baby Bib Set ...\"}, \"C.R. Gibson Keepsake Chest, Jack\": {\"frequency\": 21, \"value\": \"C.R. Gibson ...\"}, \"Munchkin Steam Guard Microwave Sterilizer\": {\"frequency\": 22, \"value\": \"Munchkin Steam ...\"}, \"KidCo Angle Mount Safeway  - Black\": {\"frequency\": 29, \"value\": \"KidCo Angle Mount ...\"}, \"Sunshine Kids Cool Shade For Car Window, Black\": {\"frequency\": 22, \"value\": \"Sunshine Kids Cool ...\"}, \"babyletto Hudson 3 in 1 Convertible Crib with Toddler Rail, Espresso/White\": {\"frequency\": 23, \"value\": \"babyletto Hudson 3 ...\"}, \"Infantino Union Ergonomic Carrier, Gray\": {\"frequency\": 35, \"value\": \"Infantino Union ...\"}, \"Rockin' Green Classic Rock Lavender Mint Revival 45oz\": {\"frequency\": 37, \"value\": \"Rockin' Green ...\"}, \"Bright Starts Grab and Stack Blocks\": {\"frequency\": 77, \"value\": \"Bright Starts Grab ...\"}, \"Graco DuoDiner LX Highchair, Metropolis\": {\"frequency\": 22, \"value\": \"Graco DuoDiner LX ...\"}, \"NUK Learner Cup BPA Free Silicone Spout, Single Pack, Colors May Vary\": {\"frequency\": 33, \"value\": \"NUK Learner Cup ...\"}, \"Em's 4 Bubs Hearing Protection Baby Earmuffs Size 0-18 Months (Black)\": {\"frequency\": 30, \"value\": \"Em's 4 Bubs ...\"}, \"Planet Wise Hanging Wet/Dry Diaper Bag, Black\": {\"frequency\": 57, \"value\": \"Planet Wise ...\"}, \"Evenflo Big Kid High Back SI Car Seat Booster, Alexa\": {\"frequency\": 37, \"value\": \"Evenflo Big Kid ...\"}, \"Graco DuetSoothe Swing + Rocker, Winslet\": {\"frequency\": 18, \"value\": \"Graco DuetSoothe ...\"}, \"Summer Infant CushyStraps, Pink\": {\"frequency\": 45, \"value\": \"Summer Infant ...\"}, \"Boon Benders Adaptable Utensils, Blue Raspberry/Tangerine\": {\"frequency\": 20, \"value\": \"Boon Benders ...\"}, \"Nuk Replacement Spouts - 4 Pack Clear\": {\"frequency\": 22, \"value\": \"Nuk Replacement ...\"}, \"Angel Dear Cuddle Twin Set, Brown Puppy\": {\"frequency\": 25, \"value\": \"Angel Dear Cuddle ...\"}, \"Stork Craft Beatrice 5 Drawer Chest, White\": {\"frequency\": 40, \"value\": \"Stork Craft ...\"}, \"Regalo My Cot Portable Bed, Royal Blue\": {\"frequency\": 206, \"value\": \"Regalo My Cot ...\"}, \"Britax Child Cup Holder\": {\"frequency\": 58, \"value\": \"Britax Child Cup ...\"}, \"Combi Flare Lightweight Stroller in Mandarin\": {\"frequency\": 29, \"value\": \"Combi Flare ...\"}, \"WubbaNub (tm) DRAGON Pacifier!\": {\"frequency\": 30, \"value\": \"WubbaNub (tm) ...\"}, \"Medela Single Deluxe Battery/Electric Breastpump\": {\"frequency\": 35, \"value\": \"Medela Single ...\"}, \"Samsung SEW-3036WN Wireless Video Baby Monitor IR Night Vision Zoom 3.5 inch\": {\"frequency\": 46, \"value\": \"Samsung SEW-3036WN ...\"}, \"Roundabout Convertible Car Seat - Grey Wicker\": {\"frequency\": 22, \"value\": \"Roundabout ...\"}, \"Razbaby RaZ-berry Teether, Red\": {\"frequency\": 150, \"value\": \"Razbaby RaZ-berry ...\"}, \"Bugaboo Cup Holder\": {\"frequency\": 19, \"value\": \"Bugaboo Cup Holder\"}, \"JJ Cole Car Seat Cover, Khaki\": {\"frequency\": 31, \"value\": \"JJ Cole Car Seat ...\"}, \"Kidkusion Jumbo Edge Kushion, Black\": {\"frequency\": 19, \"value\": \"Kidkusion Jumbo ...\"}, \"South Shore Savannah Collection Door Chest, Pure White\": {\"frequency\": 21, \"value\": \"South Shore ...\"}, \"Summer Infant Quickchange Portable Changing Pad, Black\": {\"frequency\": 26, \"value\": \"Summer Infant ...\"}, \"Safety 1st Alpha Elite 65 Infant Car Seat, Rachel\": {\"frequency\": 20, \"value\": \"Safety 1st Alpha ...\"}, \"Sleep Buddy ~ Sleep Training System for Toddlers &amp; Pre-schoolers\": {\"frequency\": 20, \"value\": \"Sleep Buddy ~ ...\"}, \"UPPAbaby Stroller Parent Organizer, Black\": {\"frequency\": 19, \"value\": \"UPPAbaby Stroller ...\"}, \"Graco SnugRide Click Connect 30/35Infant Car Seat Base, Silver\": {\"frequency\": 34, \"value\": \"Graco SnugRide ...\"}, \"Joovy Caboose Ultralight Stroller, Blueberry\": {\"frequency\": 52, \"value\": \"Joovy Caboose ...\"}, \"Sassy Baby Food Nurser, Colors May Vary\": {\"frequency\": 36, \"value\": \"Sassy Baby Food ...\"}, \"Sealy Baby Firm Rest Crib Mattress\": {\"frequency\": 39, \"value\": \"Sealy Baby Firm ...\"}, \"Squatty Potty 7&quot; Toilet Stool-Elimination Aid - Natural Bathroom Relief Through A Toilet Stool\": {\"frequency\": 76, \"value\": \"Squatty Potty ...\"}, \"Trend Lab CribWrap Fleece Rail Cover for Long Rail, Brown, Wide\": {\"frequency\": 29, \"value\": \"Trend Lab CribWrap ...\"}, \"Kushies &quot;On the Go&quot; 2 Pack Wet Bag, Green  (Patterns and Colors May Vary)\": {\"frequency\": 36, \"value\": \"Kushies &quot;On ...\"}, \"Mommy's Helper Safe-er-Grip Foot Rest\": {\"frequency\": 65, \"value\": \"Mommy's Helper ...\"}, \"aden + anais 3 Pack Muslin Washcloths, Water Baby\": {\"frequency\": 20, \"value\": \"aden + anais 3 ...\"}, \"Edushape Edu-Tiles 25 Piece Solid Play Mat with Edges &amp; Corners\": {\"frequency\": 25, \"value\": \"Edushape Edu-Tiles ...\"}, \"Ameda Purely Yours Breast Pump - Carry All\": {\"frequency\": 65, \"value\": \"Ameda Purely Yours ...\"}, \"Graco Highback Turbo Booster Seat, Megan\": {\"frequency\": 37, \"value\": \"Graco Highback ...\"}, \"Skip Hop Bento Diaper Tote Bag, Black\": {\"frequency\": 24, \"value\": \"Skip Hop Bento ...\"}, \"FunBites Hearts - Cuts kids' food into fun-shaped bite-sized pieces . . . Great for picky eaters and bento!\": {\"frequency\": 20, \"value\": \"FunBites Hearts - ...\"}, \"Tilty Sippy Cup, Clear, 7 Ounce, 2 Pack\": {\"frequency\": 29, \"value\": \"Tilty Sippy Cup, ...\"}, \"Diono Ultra Mat Full-Size Seat Protector, Black\": {\"frequency\": 19, \"value\": \"Diono Ultra Mat ...\"}, \"Dr. Brown's Natural Flow Standard Glass Bottles,  4 Ounce, 2-Count\": {\"frequency\": 31, \"value\": \"Dr. Brown's ...\"}, \"Delta Canton 4-in-1 Convertible Crib, Dark Cherry\": {\"frequency\": 58, \"value\": \"Delta Canton ...\"}, \"Prince Lionheart Wheely Bug, Ladybug, Large\": {\"frequency\": 85, \"value\": \"Prince Lionheart ...\"}, \"Philips AVENT iQ24 Steam Sterilizer\": {\"frequency\": 28, \"value\": \"Philips AVENT iQ24 ...\"}, \"Baby Trend Activity Walker\": {\"frequency\": 21, \"value\": \"Baby Trend ...\"}, \"Kushies Flushable Biodegradable Diaper Liners, 100 Sheets\": {\"frequency\": 33, \"value\": \"Kushies Flushable ...\"}, \"Medela Easy Expression Hands-Free Bustier, White, Small\": {\"frequency\": 93, \"value\": \"Medela Easy ...\"}, \"My Brest Friend Original Pillow, Bluebells\": {\"frequency\": 44, \"value\": \"My Brest Friend ...\"}, \"OXO Tot Divided Feeding Dish, Aqua\": {\"frequency\": 28, \"value\": \"OXO Tot Divided ...\"}, \"Kick Mats - Deluxe Car Seat Back Protectors 2 Pack - Keep Your Car Seats 100% Clean From All The Stains And Scuffmarks Left By The Kids With These Auto-Protective Seat Covers - Designed For Most Vehicles - Protect Your Investment - Lifetime Guarantee\": {\"frequency\": 91, \"value\": \"Kick Mats - Deluxe ...\"}, \"SoftShells Breast Shell Soothers - Sore Nipples\": {\"frequency\": 21, \"value\": \"SoftShells Breast ...\"}, \"Skip Hop Reversible Plush Blanket, Alphabet Zoo\": {\"frequency\": 22, \"value\": \"Skip Hop ...\"}, \"The First Years Sure Comfort Newborn to Toddler Tub\": {\"frequency\": 19, \"value\": \"The First Years ...\"}, \"Cloud b Twilight Constellation Night Light, Turtle\": {\"frequency\": 520, \"value\": \"Cloud b Twilight ...\"}, \"Tiny Love Super Mat\": {\"frequency\": 42, \"value\": \"Tiny Love Super ...\"}, \"Sunshine Kids Radian65 Convertible Car Seat - Champagne\": {\"frequency\": 20, \"value\": \"Sunshine Kids ...\"}, \"Dream Collection Doll Feeding Time Set with Pacifier\": {\"frequency\": 21, \"value\": \"Dream Collection ...\"}, \"Medela 150 Ml Storage Bottle Case of 10 BPA FREE\": {\"frequency\": 21, \"value\": \"Medela 150 Ml ...\"}, \"Philips AVENT Microwave Steam Sterilizer\": {\"frequency\": 24, \"value\": \"Philips AVENT ...\"}, \"Fisher-Price Papasan Cradle Swing -  Nature's Touch N1973\": {\"frequency\": 128, \"value\": \"Fisher-Price ...\"}, \"Baby Einstein Take Along Tunes\": {\"frequency\": 547, \"value\": \"Baby Einstein Take ...\"}, \"Summer Infant Secure Surround Play Safe Play Yard, Tan\": {\"frequency\": 71, \"value\": \"Summer Infant ...\"}, \"Combi Activity Walker Black\": {\"frequency\": 18, \"value\": \"Combi Activity ...\"}, \"Heininger  1027 CommuteMate Seat Belt Strap Adjuster\": {\"frequency\": 32, \"value\": \"Heininger  1027 ...\"}, \"Luvable Friends Infant Pillow Case, Traditional Blue Print\": {\"frequency\": 23, \"value\": \"Luvable Friends ...\"}, \"Sassy Soft Swimmers Animal Characters Bath Toy, 3 Pack\": {\"frequency\": 29, \"value\": \"Sassy Soft ...\"}, \"The First Years Everywhere Gate\": {\"frequency\": 56, \"value\": \"The First Years ...\"}, \"Carters Easy Fit Jersey Crib Fitted Sheet, Pink\": {\"frequency\": 49, \"value\": \"Carters Easy Fit ...\"}, \"Graco Backless TurboBooster Car Seat, Jeweled Princess\": {\"frequency\": 37, \"value\": \"Graco Backless ...\"}, \"The Safe Sippy Cup, Blue\": {\"frequency\": 19, \"value\": \"The Safe Sippy ...\"}, \"Jolly Jumper Auto Seat Back Protector - 2 Pack\": {\"frequency\": 23, \"value\": \"Jolly Jumper Auto ...\"}, \"Philips Avent DECT Baby Monitor with Temperature Sensor\": {\"frequency\": 28, \"value\": \"Philips Avent DECT ...\"}, \"Green Toys Twist Teether Toy, Colors May Vary\": {\"frequency\": 24, \"value\": \"Green Toys Twist ...\"}, \"Cosco Flat-Fold High Chair, Zambia\": {\"frequency\": 22, \"value\": \"Cosco Flat-Fold ...\"}, \"Aden by aden + anais Muslin Burpy Bib, Butterfly Patch\": {\"frequency\": 21, \"value\": \"Aden by aden + ...\"}, \"Leachco Podster Sling-Style Infant Seat Lounger, Sage Pin Dot\": {\"frequency\": 47, \"value\": \"Leachco Podster ...\"}, \"Fisher-Price Deluxe Newborn Rock 'N Play Sleeper, My Little Sweetie\": {\"frequency\": 23, \"value\": \"Fisher-Price ...\"}, \"Philips AVENT BPA Free Natural Polypropylene Bottle, 9 Ounce, 1 Pack\": {\"frequency\": 60, \"value\": \"Philips AVENT BPA ...\"}, \"NUK Infant Tooth and Gum Cleanser and Finger Toothbrush Set, 1.4 Ounce\": {\"frequency\": 32, \"value\": \"NUK Infant Tooth ...\"}, \"Neat Solutions 10 Pack Water Resistant Drooler Bib Set, Multi-color\": {\"frequency\": 32, \"value\": \"Neat Solutions 10 ...\"}, \"Fisher-Price Luv U Zoo Crib 'N Go Projector Soother\": {\"frequency\": 41, \"value\": \"Fisher-Price Luv U ...\"}, \"Baby Einstein Caterpillar and Friends Play Gym\": {\"frequency\": 28, \"value\": \"Baby Einstein ...\"}, \"Disney Cars Step Stool\": {\"frequency\": 34, \"value\": \"Disney Cars Step ...\"}, \"Trend Lab Fleece CribWrap Rail Covers for Crib Sides (Set of 2), Pink, Wide\": {\"frequency\": 30, \"value\": \"Trend Lab Fleece ...\"}, \"Graco Silhouette Pack 'N Play Playard, Carlisle\": {\"frequency\": 19, \"value\": \"Graco Silhouette ...\"}, \"Graco Baby SnugGlider Infant Car Seat Swing Frame\": {\"frequency\": 30, \"value\": \"Graco Baby ...\"}, \"Jeep Jogging Stroller Weather Shield\": {\"frequency\": 26, \"value\": \"Jeep Jogging ...\"}, \"Nosefrida Nasal Aspirator with addtional 20 Hygiene Filters\": {\"frequency\": 30, \"value\": \"Nosefrida Nasal ...\"}, \"KF Baby Finger Pinch Guard [Set of 5], with kilofly Refrigerator Magnet\": {\"frequency\": 26, \"value\": \"KF Baby Finger ...\"}, \"Miracle Blanket Baby Swaddle Blanket, Pink\": {\"frequency\": 184, \"value\": \"Miracle Blanket ...\"}, \"Contours Options Tandem II Stroller, Tangerine\": {\"frequency\": 20, \"value\": \"Contours Options ...\"}, \"Baby Bath Tub Ring Seat New in Box By KETER - Blue Best Price\": {\"frequency\": 46, \"value\": \"Baby Bath Tub Ring ...\"}, \"Traveling Toddler Car Seat Travel Accessory\": {\"frequency\": 93, \"value\": \"Traveling Toddler ...\"}, \"Skip Hop Studio Diaper Bag, Black Dot\": {\"frequency\": 82, \"value\": \"Skip Hop Studio ...\"}, \"Baby Ddrops&reg; 400 IU 90 drops\": {\"frequency\": 56, \"value\": \"Baby Ddrops&reg; ...\"}, \"Safety 1st 900 Mhz Sight And Sound Nursery Monitor System\": {\"frequency\": 39, \"value\": \"Safety 1st 900 Mhz ...\"}, \"Graco My Ride 65 LX Convertible Car Seat, Rane\": {\"frequency\": 84, \"value\": \"Graco My Ride 65 ...\"}, \"The First Years True Fit C670 Premier Convertible Car Seat\": {\"frequency\": 18, \"value\": \"The First Years ...\"}, \"Ikea PATRULL Non-Slip Bath Mat - Green Crocodile\": {\"frequency\": 28, \"value\": \"Ikea PATRULL Non- ...\"}, \"Prince Lionheart Diaper Depot Clear\": {\"frequency\": 46, \"value\": \"Prince Lionheart ...\"}, \"OsoCozy 6 Pack Birdseye Flat Unbleached Diapers\": {\"frequency\": 23, \"value\": \"OsoCozy 6 Pack ...\"}, \"Lansinoh Double Electric Breast Pump, BPA-free\": {\"frequency\": 29, \"value\": \"Lansinoh Double ...\"}, \"Frenchie Mini Couture Tuxedo Bib with 3D Applique, Black\": {\"frequency\": 20, \"value\": \"Frenchie Mini ...\"}, \"Philips AVENT Translucent Orthodontic Infant Pacifier, Clear, 0-6 Months\": {\"frequency\": 26, \"value\": \"Philips AVENT ...\"}, \"Ju-Ju-Be B.F.F. Diaper Bag, Black/Silver\": {\"frequency\": 33, \"value\": \"Ju-Ju-Be B.F.F. ...\"}, \"4moms Cleanwater Infant Bath Tub with Digital Thermometer\": {\"frequency\": 18, \"value\": \"4moms Cleanwater ...\"}, \"Hand Held Scalp Head Massager - Set of Three ( Colors May Vary )\": {\"frequency\": 181, \"value\": \"Hand Held Scalp ...\"}, \"BRICA Corner Bath Basket Toy Organizer\": {\"frequency\": 36, \"value\": \"BRICA Corner Bath ...\"}, \"Leachco Back 'N Belly Chic - Taupe\": {\"frequency\": 27, \"value\": \"Leachco Back 'N ...\"}, \"Sassy Look Photo Book\": {\"frequency\": 26, \"value\": \"Sassy Look Photo ...\"}, \"BABYBJORN Travel Crib Light , Blue\": {\"frequency\": 42, \"value\": \"BABYBJORN Travel ...\"}, \"Graco Pack 'N Play Playard with Reversible Napper and Changer, Roman\": {\"frequency\": 48, \"value\": \"Graco Pack 'N Play ...\"}, \"Arm's Reach Co-Sleeper Mini Bassinet, Natural\": {\"frequency\": 20, \"value\": \"Arm's Reach Co- ...\"}, \"Sassy 2 Count Grow Up Cup, Purple/Orange, 9 Ounce\": {\"frequency\": 25, \"value\": \"Sassy 2 Count Grow ...\"}, \"JJ Cole Premaxx Sling Carrier - New Edition Red Orange\": {\"frequency\": 19, \"value\": \"JJ Cole Premaxx ...\"}, \"Tiny Love Take Along Mobile, Animal Friends\": {\"frequency\": 133, \"value\": \"Tiny Love Take ...\"}, \"Aquatopia Deluxe Safety Easy Bath Kneeler, Blue\": {\"frequency\": 21, \"value\": \"Aquatopia Deluxe ...\"}, \"Fisher-Price Comfy Time Bouncer\": {\"frequency\": 64, \"value\": \"Fisher-Price Comfy ...\"}, \"Cloud B Twilight Ladybug - Pink\": {\"frequency\": 50, \"value\": \"Cloud B Twilight ...\"}, \"NUK Active Silicone Spout Learning Cup, Ladybug, 10-Ounce\": {\"frequency\": 27, \"value\": \"NUK Active ...\"}, \"Bellybuds&reg; | Baby-Bump Sound System\": {\"frequency\": 23, \"value\": \"Bellybuds&reg; | ...\"}, \"Maxboost iPhone 5S/5 Case - Protective Snap-on Hard Case Slim Rugged Cover [Not compatible to Apple iPhone 6 Air 5c 4s 4 3gs]\": {\"frequency\": 43, \"value\": \"Maxboost iPhone ...\"}, \"NUK Mash &amp; Serve Bowl\": {\"frequency\": 105, \"value\": \"NUK Mash &amp; ...\"}, \"Philips AVENT BPA Free Classic Infant Starter Gift Set\": {\"frequency\": 69, \"value\": \"Philips AVENT BPA ...\"}, \"Munchkin Bobble Bee Suction Toy\": {\"frequency\": 22, \"value\": \"Munchkin Bobble ...\"}, \"Leachco Easy Teether XL Convertible Crib Rail Cover, Ivory\": {\"frequency\": 20, \"value\": \"Leachco Easy ...\"}, \"Kidkusion Hearth Kushion Taupe\": {\"frequency\": 32, \"value\": \"Kidkusion Hearth ...\"}, \"Fantasy Furniture Roundy Rocking Chair Gingham, Pink\": {\"frequency\": 20, \"value\": \"Fantasy Furniture ...\"}, \"WubbaNub Lamb\": {\"frequency\": 49, \"value\": \"WubbaNub Lamb\"}, \"Fisher-Price Stride to Ride Walker\": {\"frequency\": 31, \"value\": \"Fisher-Price ...\"}, \"Prince Lionheart Flexibath Foldable Bathtub, White\": {\"frequency\": 45, \"value\": \"Prince Lionheart ...\"}, \"Philips AVENT Range BPA-Free Front Teeth Teether, Classic\": {\"frequency\": 24, \"value\": \"Philips AVENT ...\"}, \"Prince Lionheart Ever-Fresh Replacement Pillows for Ultimate Wipes Warmer\": {\"frequency\": 30, \"value\": \"Prince Lionheart ...\"}, \"Capri Stroller - Red Tech\": {\"frequency\": 18, \"value\": \"Capri Stroller - ...\"}, \"Cosco Scenera Convertible Car Seat Black\": {\"frequency\": 36, \"value\": \"Cosco Scenera ...\"}, \"Prince Lionheart weePOD Basix, Ash Grey\": {\"frequency\": 55, \"value\": \"Prince Lionheart ...\"}, \"Contours Lite Stroller, Tangerine\": {\"frequency\": 86, \"value\": \"Contours Lite ...\"}, \"LA Baby Countour Changing Pad 30&quot;, White\": {\"frequency\": 19, \"value\": \"LA Baby Countour ...\"}, \"Sliding Closet Door Lock 2-Pack\": {\"frequency\": 39, \"value\": \"Sliding Closet ...\"}, \"Lamaze Early Development Toy, Marina the Mermaid\": {\"frequency\": 28, \"value\": \"Lamaze Early ...\"}, \"Levana ClearVu Digital Video Baby Monitor with Color Changing Night Light (LV-TW301)\": {\"frequency\": 34, \"value\": \"Levana ClearVu ...\"}, \"Baby Bottle Labels, Self-laminating - Great for Daycare\": {\"frequency\": 36, \"value\": \"Baby Bottle ...\"}, \"Baby Einstein Around The World Discovery Center\": {\"frequency\": 26, \"value\": \"Baby Einstein ...\"}, \"OXO Tot Bottle Brush with Nipple Cleaner, Orange\": {\"frequency\": 25, \"value\": \"OXO Tot Bottle ...\"}, \"BreathableBaby Breathable Mesh Crib Liner, White\": {\"frequency\": 212, \"value\": \"BreathableBaby ...\"}, \"Serta Perfect Start Crib Mattress, White\": {\"frequency\": 15, \"value\": \"Serta Perfect ...\"}, \"J.L. Childress Side Sling Stroller Cargo Net, Black\": {\"frequency\": 18, \"value\": \"J.L. Childress ...\"}, \"Kinderglo Portable Fun and Safe Rechargeable Night Light, Hippo\": {\"frequency\": 24, \"value\": \"Kinderglo Portable ...\"}, \"Boon Animal Bag Stuffed Animal Storage, Blue Raspberry\": {\"frequency\": 38, \"value\": \"Boon Animal Bag ...\"}, \"Lamaze Symphony Motion Gym, Space\": {\"frequency\": 24, \"value\": \"Lamaze Symphony ...\"}, \"Dr. Brown's Gia Nursing Pillow\": {\"frequency\": 20, \"value\": \"Dr. Brown's Gia ...\"}, \"Aden By aden + anais Muslin Swaddle Blanket 4 Pack, Oh My!\": {\"frequency\": 131, \"value\": \"Aden By aden + ...\"}, \"Fisher-Price Step &amp; Play Piano\": {\"frequency\": 30, \"value\": \"Fisher-Price Step ...\"}, \"Balboa Baby Shopping Cart Cover, Diamond\": {\"frequency\": 33, \"value\": \"Balboa Baby ...\"}, \"Excellante' Wooden High Chair, Walnut (Packaging May Vary)\": {\"frequency\": 30, \"value\": \"Excellante' Wooden ...\"}, \"Honeysuckle Breast Milk Storage Bags, 75 Ct (3 Boxes of 25 pcs)\": {\"frequency\": 80, \"value\": \"Honeysuckle Breast ...\"}, \"Fisher-Price Luv U Zoo EZ Clean High Chair\": {\"frequency\": 73, \"value\": \"Fisher-Price Luv U ...\"}, \"Mommy's Helper Toilet Seat Lid-Lok\": {\"frequency\": 96, \"value\": \"Mommy's Helper ...\"}, \"Safety 1st Sit Booster Seat, Green\": {\"frequency\": 18, \"value\": \"Safety 1st Sit ...\"}, \"Bumkins Flushable Diaper Liner, Neutral, 100 Pack\": {\"frequency\": 74, \"value\": \"Bumkins Flushable ...\"}, \"Baby Trend Diaper Champ in Blue\": {\"frequency\": 41, \"value\": \"Baby Trend Diaper ...\"}, \"JJ Cole Original Infant Bundleme, Apple, Infant\": {\"frequency\": 60, \"value\": \"JJ Cole Original ...\"}, \"Summer Infant Baby's Quiet Sounds Video Monitor\": {\"frequency\": 52, \"value\": \"Summer Infant ...\"}, \"BabyKicks 3 Pack Joey-Bunz, Small\": {\"frequency\": 31, \"value\": \"BabyKicks 3 Pack ...\"}, \"SOHO Designs Baby Walker - Learn how to walk assistant\": {\"frequency\": 21, \"value\": \"SOHO Designs Baby ...\"}, \"CherryCreek Decals Cherry Blossom &amp; Birds Decorative Nursery/Room Wall Sticker Decals\": {\"frequency\": 32, \"value\": \"CherryCreek Decals ...\"}, \"The First Years Learning Curve First Keys Teether\": {\"frequency\": 22, \"value\": \"The First Years ...\"}, \"Baby Einstein Neptune Ocean Adventure Gym\": {\"frequency\": 54, \"value\": \"Baby Einstein ...\"}, \"Born Free Trainer Cup, Blue\": {\"frequency\": 30, \"value\": \"Born Free Trainer ...\"}, \"Bunnies by the Bay Silly Buddy, Emmit\": {\"frequency\": 23, \"value\": \"Bunnies by the Bay ...\"}, \"JL Childress Wheelie Car Seat Travel Bag, Black\": {\"frequency\": 47, \"value\": \"JL Childress ...\"}, \"Earlyears Lil Shopper Play Set\": {\"frequency\": 54, \"value\": \"Earlyears Lil ...\"}, \"Booginhead SippiGrip, Black\": {\"frequency\": 18, \"value\": \"Booginhead ...\"}, \"Mommy's Helper Door Knob Safety Cover\": {\"frequency\": 18, \"value\": \"Mommy's Helper ...\"}, \"Fisher-Price Ocean Wonders Projector Soother\": {\"frequency\": 19, \"value\": \"Fisher-Price Ocean ...\"}, \"Playtex Drop-Ins Pre-Sterilized Soft Bottle Liners, 8-10 oz. 100 ea\": {\"frequency\": 51, \"value\": \"Playtex Drop-Ins ...\"}, \"Fisher-Price Healthy Care Booster Seat, Green/Blue\": {\"frequency\": 67, \"value\": \"Fisher-Price ...\"}, \"Medela Pump in style Advanced Power Adaptor 9207010 9V\": {\"frequency\": 20, \"value\": \"Medela Pump in ...\"}, \"Rumparooz Reusable Cloth Pocket Diaper, Ladder 6, Aplix\": {\"frequency\": 28, \"value\": \"Rumparooz Reusable ...\"}, \"Bebe Au Lait Cotton Nursing Cover - Bali\": {\"frequency\": 139, \"value\": \"Bebe Au Lait ...\"}, \"Skip Hop ZOOtensils Fork and Spoon, Ladybug\": {\"frequency\": 35, \"value\": \"Skip Hop ...\"}, \"Fisher-Price Private Connection Monitor with Dual Receivers - White and Grey\": {\"frequency\": 26, \"value\": \"Fisher-Price ...\"}, \"Fantasy Furniture Roundy Chair Gingham, Pink\": {\"frequency\": 29, \"value\": \"Fantasy Furniture ...\"}, \"Mommy's Helper Contoured Cushie Tushie Potty Seat\": {\"frequency\": 23, \"value\": \"Mommy's Helper ...\"}, \"Medela Breastmilk Bottle Spare Parts\": {\"frequency\": 31, \"value\": \"Medela Breastmilk ...\"}, \"Fisher-Price Newborn Rock n' Play Sleeper, Yellow\": {\"frequency\": 27, \"value\": \"Fisher-Price ...\"}, \"Parent Units Fridge Guard, White\": {\"frequency\": 34, \"value\": \"Parent Units ...\"}, \"My Little Seat Infant Seats, Blue Fish\": {\"frequency\": 19, \"value\": \"My Little Seat ...\"}, \"Snugli Front and Backpack Carrier\": {\"frequency\": 22, \"value\": \"Snugli Front and ...\"}, \"MAM 3 Pack Anti-Colic Bottle Boy, 8 Ounce, Colors May Vary\": {\"frequency\": 26, \"value\": \"MAM 3 Pack Anti- ...\"}, \"Graco LiteRider Classic Connect Stroller, Pasadena\": {\"frequency\": 41, \"value\": \"Graco LiteRider ...\"}, \"Sassy Crib and Floor Mirror\": {\"frequency\": 100, \"value\": \"Sassy Crib and ...\"}, \"Baby Brezza Temperature Control Kettle, White/Grey\": {\"frequency\": 30, \"value\": \"Baby Brezza ...\"}, \"Carter's First Year Calendar, Laguna\": {\"frequency\": 26, \"value\": \"Carter's First ...\"}, \"RECARO ProRIDE Convertible Car Seat, Misty\": {\"frequency\": 156, \"value\": \"RECARO ProRIDE ...\"}, \"Evenflo Exersaucer Triple Fun Active Learning Center, Life in The Amazon\": {\"frequency\": 30, \"value\": \"Evenflo Exersaucer ...\"}, \"BRICA Baby In-Sight Auto Mirror for in Car Safety\": {\"frequency\": 25, \"value\": \"BRICA Baby In- ...\"}, \"Lollaland Lollacup, Good Green\": {\"frequency\": 67, \"value\": \"Lollaland ...\"}, \"Soft Gear My Booster Seat, Mint\": {\"frequency\": 28, \"value\": \"Soft Gear My ...\"}, \"Carters Keep Me Dry Water Resistant Flannel Crib Pad, White\": {\"frequency\": 28, \"value\": \"Carters Keep Me ...\"}, \"Infantino Compact 2-in-1 Shopping Cart Cover\": {\"frequency\": 49, \"value\": \"Infantino Compact ...\"}, \"Bamboobies 2 Pair Ultra-Thin Regular Nursing Pads, Pale Pink\": {\"frequency\": 78, \"value\": \"Bamboobies 2 Pair ...\"}, \"Munchkin Mighty Grip Flip Straw Cups 2-Pack, 10- Ounce (Colors Vary)\": {\"frequency\": 34, \"value\": \"Munchkin Mighty ...\"}, \"Wee Gallery Art Cards for Baby, Sea Collection\": {\"frequency\": 41, \"value\": \"Wee Gallery Art ...\"}, \"Born Free Tru-Temp Bottle Warming System\": {\"frequency\": 18, \"value\": \"Born Free Tru-Temp ...\"}, \"Dr. Brown's Natural Flow Cleaning Brush, 4 Pack\": {\"frequency\": 60, \"value\": \"Dr. Brown's ...\"}, \"Cardinal Gates Patio Door Guardian, White\": {\"frequency\": 21, \"value\": \"Cardinal Gates ...\"}, \"Fisher-Price Laugh and Learn Jumperoo\": {\"frequency\": 57, \"value\": \"Fisher-Price Laugh ...\"}, \"BABYBJORN Baby Carrier Miracle, Black/Silver, Cotton Mix\": {\"frequency\": 50, \"value\": \"BABYBJORN Baby ...\"}, \"OXO Tot Baby Food Freezer Tray, White/Green\": {\"frequency\": 43, \"value\": \"OXO Tot Baby Food ...\"}, \"Boba Classic Baby Carrier, Dusk\": {\"frequency\": 27, \"value\": \"Boba Classic Baby ...\"}, \"Bumbo Seat Play Tray, Ivory\": {\"frequency\": 44, \"value\": \"Bumbo Seat Play ...\"}, \"Baby Food Containers- Sprout Cups - Reusable Stackable Storage Cups (12 Pack) with Tray and Dry-erase Marker - 100% BPA Free (2 Oz)\": {\"frequency\": 31, \"value\": \"Baby Food ...\"}, \"Munchkin Cleaning Brush Set\": {\"frequency\": 33, \"value\": \"Munchkin Cleaning ...\"}, \"Skip Hop Moby Bath Kneeler, Blue\": {\"frequency\": 23, \"value\": \"Skip Hop Moby Bath ...\"}, \"Munchkin Star Fountain, Colors May Vary\": {\"frequency\": 24, \"value\": \"Munchkin Star ...\"}, \"Evenflo Snugli Front &amp; Back Pack Carrier\": {\"frequency\": 19, \"value\": \"Evenflo Snugli ...\"}, \"Bumkins Waterproof Zippered Wet Bag, Blue Cat\": {\"frequency\": 39, \"value\": \"Bumkins Waterproof ...\"}, \"Baby Trend Single Snap N' Go Stroller\": {\"frequency\": 19, \"value\": \"Baby Trend Single ...\"}, \"Philips AVENT Washable Nursing Pads, 6-Count\": {\"frequency\": 59, \"value\": \"Philips AVENT ...\"}, \"Vital Baby Toddler Straw Cup, Orange, 10 Ounce\": {\"frequency\": 38, \"value\": \"Vital Baby Toddler ...\"}, \"Kalencom On the Go Potty, Blue\": {\"frequency\": 36, \"value\": \"Kalencom On the Go ...\"}, \"Lifefactory 2 Pack Multi Sensory Silicone Teether, Sky/Spring Green\": {\"frequency\": 72, \"value\": \"Lifefactory 2 Pack ...\"}, \"Redmon Fun and Fitness Exercise Equipment for Kids - Tread Mill\": {\"frequency\": 20, \"value\": \"Redmon Fun and ...\"}, \"BFlowerYan Door Stop Finger Pinch Guard , Mixed Color [4pc-pack] (4xanimal)\": {\"frequency\": 22, \"value\": \"BFlowerYan Door ...\"}, \"Summer Infant Rayshade Stroller Cover\": {\"frequency\": 27, \"value\": \"Summer Infant ...\"}, \"Cloud b Sleep Sheep On The Go Travel Sound Machine with Four Soothing Sounds\": {\"frequency\": 105, \"value\": \"Cloud b Sleep ...\"}, \"Maxboost Fusion Snap-on iPhone 5S/5 Case - Red (Fit Fusion Battery Case for iPhone 5S/5)\": {\"frequency\": 20, \"value\": \"Maxboost Fusion ...\"}, \"Turtlemeter, the Baby Bath Floating Turtle Toy and Bath Tub Thermometer\": {\"frequency\": 81, \"value\": \"Turtlemeter, the ...\"}, \"Safety 1st Complete Air Protect 65 Convertible Car Seat, Great Lakes\": {\"frequency\": 34, \"value\": \"Safety 1st ...\"}, \"Summer Infant Deluxe Comfort Booster- Tan\": {\"frequency\": 82, \"value\": \"Summer Infant ...\"}, \"Prince Lionheart weePOD, Green\": {\"frequency\": 28, \"value\": \"Prince Lionheart ...\"}, \"Chicco Lullaby LX Playard, Adventure\": {\"frequency\": 32, \"value\": \"Chicco Lullaby LX ...\"}, \"Fresh N Freeze 2 oz. Reusable Baby Food Containers 12-Pack\": {\"frequency\": 60, \"value\": \"Fresh N Freeze 2 ...\"}, \"Trend Lab Caterpillar Blooming Bouquet Burp Cloths, Set of 4\": {\"frequency\": 30, \"value\": \"Trend Lab ...\"}, \"Medela New Pump in Style Original Breast Pump\": {\"frequency\": 21, \"value\": \"Medela New Pump in ...\"}, \"OXO Tot Feeding Spoon Set, Green\": {\"frequency\": 53, \"value\": \"OXO Tot Feeding ...\"}, \"Mommy's Helper Outlet Plugs 36 Pack\": {\"frequency\": 93, \"value\": \"Mommy's Helper ...\"}, \"Diaper Dekor Plus Refills 2 Pack\": {\"frequency\": 51, \"value\": \"Diaper Dekor Plus ...\"}, \"COZY BABY NASAL ASPIRATOR - This Snot Sucker Cleans Away Baby's Blocked Nose FAST - Its The Best Nasal Suction Tool On The Market To Relieve Blocked Nasal Congestion Quick - No Filters - Washable And Reusable - Great Baby Shower Gift - 100% Money Back Guarantee.\": {\"frequency\": 21, \"value\": \"COZY BABY NASAL ...\"}, \"The First Years Take and Toss 28-Piece Feeding Variety Pack\": {\"frequency\": 24, \"value\": \"The First Years ...\"}, \"Dr. Brown's Microwave Steam Sterilizer\": {\"frequency\": 24, \"value\": \"Dr. Brown's ...\"}, \"Graco Jump N Jive Doorway Jumper with Interactive Musical Mat\": {\"frequency\": 18, \"value\": \"Graco Jump N Jive ...\"}, \"Comotomo 2 Pack Silicone Replacement Nipple, Clear, Variable Flow\": {\"frequency\": 18, \"value\": \"Comotomo 2 Pack ...\"}, \"Sesame Street Elmo Car Seat Cover\": {\"frequency\": 19, \"value\": \"Sesame Street Elmo ...\"}, \"BEABA Babycook PRO - Sorbet\": {\"frequency\": 18, \"value\": \"BEABA Babycook PRO ...\"}, \"Lamaze Play &amp; Grow Mortimer the Moose Take Along Toy\": {\"frequency\": 60, \"value\": \"Lamaze Play &amp; ...\"}, \"Munchkin Dora The Explorer Toddler Dining Set\": {\"frequency\": 60, \"value\": \"Munchkin Dora The ...\"}, \"Evenflo Portable BabySuite 300, Marianna\": {\"frequency\": 35, \"value\": \"Evenflo Portable ...\"}, \"Summer Infant SwaddlePod, Ivory, Newborn\": {\"frequency\": 25, \"value\": \"Summer Infant ...\"}, \"BABYBJORN Little Potty - Red\": {\"frequency\": 46, \"value\": \"BABYBJORN Little ...\"}, \"Jeep Cherokee Sport Stroller, Siren\": {\"frequency\": 30, \"value\": \"Jeep Cherokee ...\"}, \"Dream On Me 3&quot; Extra Firm Portable Crib Mattress, White\": {\"frequency\": 33, \"value\": \"Dream On Me ...\"}, \"Sealy Sweet Pea 2-in-1 Maternity and Nursing Pillow, Cappuccino\": {\"frequency\": 27, \"value\": \"Sealy Sweet Pea ...\"}, \"Playtex Diaper Genie Twist- Away Pail System\": {\"frequency\": 81, \"value\": \"Playtex Diaper ...\"}, \"The First Years True Choice P400 Premium Digital Monitor, 2 Parent Unit\": {\"frequency\": 33, \"value\": \"The First Years ...\"}, \"Snuza Baby Monitor, Hero\": {\"frequency\": 57, \"value\": \"Snuza Baby ...\"}, \"Dr. Brown's Drying Rack\": {\"frequency\": 22, \"value\": \"Dr. Brown's Drying ...\"}, \"BRICA Cover Guard Car Seat Travel Tote\": {\"frequency\": 18, \"value\": \"BRICA Cover Guard ...\"}, \"OXO Tot Flip-In Hamper, Gray/Green\": {\"frequency\": 34, \"value\": \"OXO Tot Flip-In ...\"}, \"Stairway Gate Installation Kit (K12) by KidCo\": {\"frequency\": 36, \"value\": \"Stairway Gate ...\"}, \"Vulli Sophie the Giraffe Teether\": {\"frequency\": 785, \"value\": \"Vulli Sophie the ...\"}, \"KidCo Magnet Lock Starter Set\": {\"frequency\": 42, \"value\": \"KidCo Magnet Lock ...\"}, \"Today's Mom Cozy Cuddler Pregnancy Pillow - White\": {\"frequency\": 22, \"value\": \"Today's Mom Cozy ...\"}, \"Levana LV-TW502 Safe N' See Advanced 3.5-Inch Digital Video Wireless Baby Monitor with Talk to Baby Intercom and Remote Controlled Lullabies\": {\"frequency\": 22, \"value\": \"Levana LV-TW502 ...\"}, \"Baby Teether Ball, Assorted Colors\": {\"frequency\": 45, \"value\": \"Baby Teether Ball, ...\"}, \"Munchkin Powdered Formula Dispenser Combo Pack, Colors May Vary\": {\"frequency\": 67, \"value\": \"Munchkin Powdered ...\"}, \"WubbaNub Giraffe\": {\"frequency\": 99, \"value\": \"WubbaNub Giraffe\"}, \"BabyHawk Mei Tai Baby Carrier, Black/Lime Motifs\": {\"frequency\": 22, \"value\": \"BabyHawk Mei Tai ...\"}, \"Levana Wireless Audio Baby Monitor with Sound Indicator LEDs (LV-TW100)\": {\"frequency\": 26, \"value\": \"Levana Wireless ...\"}, \"Arm's Reach Co-Sleeper Bassinet Leg Extension Kit, Natural\": {\"frequency\": 24, \"value\": \"Arm's Reach Co- ...\"}, \"Baby Brezza Formula Pro One Step Food Maker\": {\"frequency\": 23, \"value\": \"Baby Brezza ...\"}, \"Britax Pavilion 70-G3 Convertible Car Seat Seat, Biscotti\": {\"frequency\": 34, \"value\": \"Britax Pavilion ...\"}, \"Bumbo Floor Seat, Aqua\": {\"frequency\": 51, \"value\": \"Bumbo Floor Seat, ...\"}, \"Dr. Brown's BPA Free Polypropylene Natural Flow Standard Neck Bottle, 4 oz - 3-Pack\": {\"frequency\": 26, \"value\": \"Dr. Brown's BPA ...\"}, \"Balboa Baby Nursing Cover, Blue Plaid\": {\"frequency\": 22, \"value\": \"Balboa Baby ...\"}, \"BRICA Super Scoop Bath Toy Organizer\": {\"frequency\": 111, \"value\": \"BRICA Super Scoop ...\"}, \"Safety 1st Heavenly Dreams White Crib Mattress\": {\"frequency\": 159, \"value\": \"Safety 1st ...\"}, \"Econobum One Size Cloth Diapers Trial Pack (White)\": {\"frequency\": 29, \"value\": \"Econobum One Size ...\"}, \"Dex Products Universal Safe Sleeper Bed Rail\": {\"frequency\": 27, \"value\": \"Dex Products ...\"}, \"Sunshine Kids Radian XTSL Convertible Car Seat, Bentley\": {\"frequency\": 29, \"value\": \"Sunshine Kids ...\"}, \"EveryDay Willow Wool Dryer Balls Gift Set of 3, Natural\": {\"frequency\": 21, \"value\": \"EveryDay Willow ...\"}, \"Prince Lionheart Jumbo Toy Hammock ~ Set of 2\": {\"frequency\": 21, \"value\": \"Prince Lionheart ...\"}, \"VTech Communications Safe &amp; Sound Digital Audio Monitor\": {\"frequency\": 233, \"value\": \"VTech ...\"}, \"BRICA Fold N' Go Travel Booster Seat, Gray/Black/Green\": {\"frequency\": 43, \"value\": \"BRICA Fold N' Go ...\"}, \"Mustachifier - The Gentleman Mustache Pacifier\": {\"frequency\": 44, \"value\": \"Mustachifier - The ...\"}, \"Safety 1st Space Saver Fold-Up Bath Tub\": {\"frequency\": 40, \"value\": \"Safety 1st Space ...\"}, \"Night &amp; Day Bottle Warmer\": {\"frequency\": 24, \"value\": \"Night &amp; Day ...\"}, \"C.R. Gibson Thank You Notes, 10 Boxed, Alligator\": {\"frequency\": 18, \"value\": \"C.R. Gibson Thank ...\"}, \"Tortle Repositioning Beanie - FDA cleared to Prevent and Treat Flat Head Syndrome - Whimisical Blue Elephant - MD\": {\"frequency\": 18, \"value\": \"Tortle ...\"}, \"Evenflo Classic Johnny Jump Up, Frogs\": {\"frequency\": 41, \"value\": \"Evenflo Classic ...\"}, \"Medela One-Piece Breastshield w/ Valve and Membrane\": {\"frequency\": 20, \"value\": \"Medela One-Piece ...\"}, \"Munchkin Five Sea Squirts\": {\"frequency\": 42, \"value\": \"Munchkin Five Sea ...\"}, \"Diono Radian Angle Adjuster\": {\"frequency\": 47, \"value\": \"Diono Radian Angle ...\"}, \"Fisher-Price On-the-Go Placemat\": {\"frequency\": 19, \"value\": \"Fisher-Price On- ...\"}, \"Thirsties Diaper Cover, Celery, X-Small (6-12 lbs)\": {\"frequency\": 63, \"value\": \"Thirsties Diaper ...\"}, \"Sound N Lights Monitor with Dual Receivers\": {\"frequency\": 53, \"value\": \"Sound N Lights ...\"}, \"OsoCozy - Indian Cotton - Prefold Cloth Diapers Infant 4x8x4\": {\"frequency\": 37, \"value\": \"OsoCozy - Indian ...\"}, \"Safety 1st On-the-Go Fold-Up Booster Seat\": {\"frequency\": 32, \"value\": \"Safety 1st On-the- ...\"}, \"Safety 1st Soothing Mist Ultrasonic Humidifier\": {\"frequency\": 63, \"value\": \"Safety 1st ...\"}, \"MobiCam Audio Video Baby Monitoring System\": {\"frequency\": 35, \"value\": \"MobiCam Audio ...\"}, \"RECARO Performance SPORT Combination Harness to Booster, Vibe\": {\"frequency\": 34, \"value\": \"RECARO Performance ...\"}, \"Graco Highback TurboBooster Car Seat, Spitfire\": {\"frequency\": 118, \"value\": \"Graco Highback ...\"}, \"The First Years Take &amp; Toss Straw Cups, 10 Ounce, 4 Pack\": {\"frequency\": 31, \"value\": \"The First Years ...\"}, \"25/pk - Enfamil Standard Flow Soft Disposable Nipples\": {\"frequency\": 21, \"value\": \"25/pk - Enfamil ...\"}, \"Dr. Brown's Double Electric Breast Pump\": {\"frequency\": 23, \"value\": \"Dr. Brown's Double ...\"}, \"[Award winning] Kidsme Food Feeder (Small size),  Blue/Yellow\": {\"frequency\": 40, \"value\": \"[Award winning] ...\"}, \"KidCo Angle-Mount Safeway Gate\": {\"frequency\": 24, \"value\": \"KidCo Angle-Mount ...\"}, \"Contours Options 3 Wheel Stroller, Berkley\": {\"frequency\": 24, \"value\": \"Contours Options 3 ...\"}, \"Philips AVENT BPA Free Contemporary Freeflow Pacifier, 0-6 Months, 2-Pack, Colors and Designs May Vary\": {\"frequency\": 38, \"value\": \"Philips AVENT BPA ...\"}, \"Mobi Mobicam Digital Wireless Video Monitor\": {\"frequency\": 20, \"value\": \"Mobi Mobicam ...\"}, \"Philips AVENT Newborn Starter Set\": {\"frequency\": 59, \"value\": \"Philips AVENT ...\"}, \"Britax Boulevard Convertible Car Seat, Onyx\": {\"frequency\": 21, \"value\": \"Britax Boulevard ...\"}, \"Munchkin Light My Way Nightlight\": {\"frequency\": 20, \"value\": \"Munchkin Light My ...\"}, \"Boon Frog Pod Bath Toy Scoop,Green\": {\"frequency\": 83, \"value\": \"Boon Frog Pod Bath ...\"}, \"Angel Dear Pair and a Spare 3 Piece Blanket Set, Frog\": {\"frequency\": 26, \"value\": \"Angel Dear Pair ...\"}, \"Nojo Toddler Satin Pillow\": {\"frequency\": 22, \"value\": \"Nojo Toddler Satin ...\"}, \"HALO SleepSack Micro-Fleece Wearable Blanket, Soft Pink, Small\": {\"frequency\": 124, \"value\": \"HALO SleepSack ...\"}, \"HALO SleepSack Micro-Fleece Swaddle, Soft Pink, Newborn\": {\"frequency\": 83, \"value\": \"HALO SleepSack ...\"}, \"Mommys Helper Cushie Traveler Folding Padded Potty Seat with Carry Bag, White with Frog Design\": {\"frequency\": 18, \"value\": \"Mommys Helper ...\"}, \"Ciao! Baby Portable Travel High Chair, Black\": {\"frequency\": 48, \"value\": \"Ciao! Baby ...\"}, \"OsoCozy Better Fit Unbleached Prefolds (Infant 4x8x4 Fits 6-16 lbs.) - Dozen\": {\"frequency\": 27, \"value\": \"OsoCozy Better Fit ...\"}, \"Gerber Graduates Kiddy Cutlery 3 Piece Fork Set\": {\"frequency\": 36, \"value\": \"Gerber Graduates ...\"}, \"P'Kolino Little Sofa Lounge, Red\": {\"frequency\": 20, \"value\": \"P'Kolino Little ...\"}, \"UPPAbaby G-Luxe Stroller, Jake/Black\": {\"frequency\": 18, \"value\": \"UPPAbaby G-Luxe ...\"}, \"Spasilk 10 pack Soft Terry Washcloth, Blue\": {\"frequency\": 54, \"value\": \"Spasilk 10 pack ...\"}, \"Angel Dear Blankie, Green Frog\": {\"frequency\": 123, \"value\": \"Angel Dear ...\"}, \"Bright Starts License to Drool Teether\": {\"frequency\": 33, \"value\": \"Bright Starts ...\"}, \"Moonlight Slumber Little Dreamer Dual Firmness All Foam Crib Mattress\": {\"frequency\": 25, \"value\": \"Moonlight Slumber ...\"}, \"Safety 1st Crystal Clear Audio Monitor, White\": {\"frequency\": 21, \"value\": \"Safety 1st Crystal ...\"}, \"Nosefrida Hygiene Filters\": {\"frequency\": 27, \"value\": \"Nosefrida Hygiene ...\"}, \"Rhino Toys Oball Rattle,  Colors May Vary\": {\"frequency\": 23, \"value\": \"Rhino Toys Oball ...\"}, \"Summer Infant Bibbity, Pink\": {\"frequency\": 24, \"value\": \"Summer Infant ...\"}, \"Britax B-Ready Stroller, Black\": {\"frequency\": 95, \"value\": \"Britax B-Ready ...\"}, \"BabyKicks 3 Pack Joey-Bunz Premium, Small\": {\"frequency\": 19, \"value\": \"BabyKicks 3 Pack ...\"}, \"Philips Avent BPA Free Classic Bottle to First Cup Trainer, 4+ Months, Clear\": {\"frequency\": 26, \"value\": \"Philips Avent BPA ...\"}, \"Dr. Brown's Soft Spout Training Cup, 6 Ounce, Colors May Vary\": {\"frequency\": 24, \"value\": \"Dr. Brown's Soft ...\"}, \"Wow Cup for Kids - NEW Innovative 360 Spill Free Drinking Cup - BPA Free - 8 Ounce (Blue)\": {\"frequency\": 21, \"value\": \"Wow Cup for Kids - ...\"}, \"Stroller Hook - 2 Pack of Multi Purpose Hooks - Hanger for Baby Diaper Bags, Groceries, Clothing, Purse - Great Accessory for Mommy when Jogging, Walking or Shopping - Best 100% Money Back Guarantee\": {\"frequency\": 24, \"value\": \"Stroller Hook - 2 ...\"}, \"Sassy Wonder Wheel\": {\"frequency\": 116, \"value\": \"Sassy Wonder Wheel\"}, \"Graco SnugRide Classic Connect Infant Car Seat Base, Tan\": {\"frequency\": 19, \"value\": \"Graco SnugRide ...\"}, \"*The Art of CureTM *SAFETY KNOTTED* - Mixed Colors - Certified Baltic Amber Baby Teething Necklace - w/The Art of CureTM Jewelry Pouch (SHIPS AND SOLD IN THE USA)\": {\"frequency\": 23, \"value\": \"*The Art of CureTM ...\"}, \"The First Years True Fit Convertible Car Seat, Monet\": {\"frequency\": 72, \"value\": \"The First Years ...\"}, \"Bumkins Waterproof Sleeved Bib - On-The-Go\": {\"frequency\": 84, \"value\": \"Bumkins Waterproof ...\"}, \"Bright Starts Clack and Slide Activity Ball\": {\"frequency\": 64, \"value\": \"Bright Starts ...\"}, \"Evenflo 6 Pack Classic Glass Bottle, 8-Ounce\": {\"frequency\": 42, \"value\": \"Evenflo 6 Pack ...\"}, \"Xpress Trainer Pro-All In One-Real Simple Potty Training Round/Standard Family Toilet Seat\": {\"frequency\": 22, \"value\": \"Xpress Trainer ...\"}, \"Bunnies by the Bay Buddy Blanket, Skipit\": {\"frequency\": 24, \"value\": \"Bunnies by the Bay ...\"}, \"Medela Calma Breastmilk Feeding Nipple\": {\"frequency\": 18, \"value\": \"Medela Calma ...\"}, \"OXO Tot On-The-Go Drying Rack and Bottle Brush, Green\": {\"frequency\": 33, \"value\": \"OXO Tot On-The-Go ...\"}, \"Fisher-Price Aquarium Take-Along Swing\": {\"frequency\": 33, \"value\": \"Fisher-Price ...\"}, \"Clay Hanging Keepsake Kit (Makes 2 Plaques)\": {\"frequency\": 34, \"value\": \"Clay Hanging ...\"}, \"babyletto Madison Swivel Glider, Mocha\": {\"frequency\": 25, \"value\": \"babyletto Madison ...\"}, \"PRIMO Folding Potty with Handles, White granite\": {\"frequency\": 99, \"value\": \"PRIMO Folding ...\"}, \"Bibimals Baby Bibs (Safari Pack) Button Latch Better for Long Hair - Funny Cool Cute 2 Pack of Bibs with Food Catcher Pocket Made From Waterproof Washable Silicone Plastic, Best for Use with Girl or Boy Infants and Babies - Your Baby Will Love These Silly Animal Face Bibs, Great Baby Shower Gift, Lifetime Guarantee - [Add These Bibs to Your Baby Registry Today]\": {\"frequency\": 18, \"value\": \"Bibimals Baby Bibs ...\"}, \"Munchkin Click Lock 2 Count Sippy Cup, 9 ounce\": {\"frequency\": 36, \"value\": \"Munchkin Click ...\"}, \"Prince Lionheart pottyPOD, Blue\": {\"frequency\": 22, \"value\": \"Prince Lionheart ...\"}, \"Cosco Alpha Omega Elite Convertible Car Seat\": {\"frequency\": 69, \"value\": \"Cosco Alpha Omega ...\"}, \"Neat Solutions Neat-Ware Table Topper, 60-Count\": {\"frequency\": 34, \"value\": \"Neat Solutions ...\"}, \"Kidkusion Gummi Crib Rail\": {\"frequency\": 66, \"value\": \"Kidkusion Gummi ...\"}, \"The First Years Star Teething Blanket\": {\"frequency\": 69, \"value\": \"The First Years ...\"}, \"Tiny Love Symphony in Motion Farm Animal Mobile (Styles May Vary)\": {\"frequency\": 24, \"value\": \"Tiny Love Symphony ...\"}, \"Summer Infant Snuzzler, Ivory\": {\"frequency\": 115, \"value\": \"Summer Infant ...\"}, \"Fisher-Price Rainforest Open-Top Cradle Swing\": {\"frequency\": 63, \"value\": \"Fisher-Price ...\"}, \"Summer Infant 3D lite Convenience Stroller, Black\": {\"frequency\": 28, \"value\": \"Summer Infant 3D ...\"}, \"Motorola Additional Camera for Motorola MBP36 Baby Monitor, Brown with White\": {\"frequency\": 36, \"value\": \"Motorola ...\"}, \"Britax Head and Body Support Pillow, Iron/Gray\": {\"frequency\": 38, \"value\": \"Britax Head and ...\"}, \"Philips AVENT BPA Free Microwave Steam Sterilizer\": {\"frequency\": 25, \"value\": \"Philips AVENT BPA ...\"}, \"Graco Glider LX Gliding Swing, Peyton\": {\"frequency\": 37, \"value\": \"Graco Glider LX ...\"}, \"Sticky Bellies -Sticky Bellies Monthly Milestone Stickers - Oh Sew Ready : Maternity : 12-40 Weeks\": {\"frequency\": 37, \"value\": \"Sticky Bellies ...\"}, \"Leachco Cuddle-U Nursing Pillow And More\": {\"frequency\": 64, \"value\": \"Leachco Cuddle-U ...\"}, \"FuzziBunz Nursing Pads, White, 6 Pack\": {\"frequency\": 24, \"value\": \"FuzziBunz Nursing ...\"}, \"CherryCreek Decals Giant Spring Flower Garden &amp; Tree Baby/Nursery Wall Sticker Decals for Boys and Girls (Tree 4.4 Feet Tall)\": {\"frequency\": 22, \"value\": \"CherryCreek Decals ...\"}, \"Playtex Diaper Genie Essentials Diaper Disposal Pail\": {\"frequency\": 38, \"value\": \"Playtex Diaper ...\"}, \"aden + anais Classic Muslin Swaddle Blanket 2 Pack, For The Birds\": {\"frequency\": 19, \"value\": \"aden + anais ...\"}, \"The First Years Disney Pixar Cars  Rev and Go Potty System\": {\"frequency\": 59, \"value\": \"The First Years ...\"}, \"Baby Chef Ultimate Baby Food Maker\": {\"frequency\": 28, \"value\": \"Baby Chef Ultimate ...\"}, \"Baby Buddy: Baby's 1st Toothbrush\": {\"frequency\": 81, \"value\": \"Baby Buddy: Baby's ...\"}, \"Dappi Waterproof 100% Vinyl Diaper Pants, 3Pack, White, Newborn\": {\"frequency\": 53, \"value\": \"Dappi Waterproof ...\"}, \"Nuby 2-Pack 10 oz No-Spill Cup with Flexi Straw, Colors May Vary\": {\"frequency\": 27, \"value\": \"Nuby 2-Pack 10 oz ...\"}, \"Nuby 2-Pack 8 oz No Spill Cup with Super Spout (Color may vary)\": {\"frequency\": 25, \"value\": \"Nuby 2-Pack 8 oz ...\"}, \"BOB Handlebar Console, Duallie\": {\"frequency\": 20, \"value\": \"BOB Handlebar ...\"}, \"Replacement Tubing (Retail Pack of 2) for Medela Pump in Style and New Pump in Style Advanced Breast Pump - 100% BPA FREE\": {\"frequency\": 86, \"value\": \"Replacement Tubing ...\"}, \"myBaby SoundSpa Portable\": {\"frequency\": 39, \"value\": \"myBaby SoundSpa ...\"}, \"Motorola MBP36 Remote Wireless Video Baby Monitor with 3.5-Inch Color LCD Screen, Infrared Night Vision and Remote Camera Pan, Tilt, and Zoom\": {\"frequency\": 201, \"value\": \"Motorola MBP36 ...\"}, \"Skip Hop Pacifier Pocket, Red\": {\"frequency\": 19, \"value\": \"Skip Hop Pacifier ...\"}, \"Munchkin Two Snack Catchers, Colors May Vary\": {\"frequency\": 117, \"value\": \"Munchkin Two Snack ...\"}, \"Philips AVENT Twin Pack Nipplette\": {\"frequency\": 28, \"value\": \"Philips AVENT Twin ...\"}, \"Medela Pump in Style Advanced Double Breast Pump\": {\"frequency\": 36, \"value\": \"Medela Pump in ...\"}, \"Carters Easy Fit Jersey Portable Crib Fitted Sheet, Pink\": {\"frequency\": 27, \"value\": \"Carters Easy Fit ...\"}, \"Nuby 2 Handle Flip n' Sip Straw Cup, 8 Ounce, 12 Months +, Colors May Vary\": {\"frequency\": 34, \"value\": \"Nuby 2 Handle Flip ...\"}, \"Philips AVENT BPA Free ISIS iQ Duo Twin Electric Breast Pump, White\": {\"frequency\": 20, \"value\": \"Philips AVENT BPA ...\"}, \"PRIMO Infant Bath Seat (White)\": {\"frequency\": 33, \"value\": \"PRIMO Infant Bath ...\"}, \"Boppy Prenatal Total Body Pillow\": {\"frequency\": 70, \"value\": \"Boppy Prenatal ...\"}, \"Brica Day and Night Light Musical Mirror, Gray\": {\"frequency\": 20, \"value\": \"Brica Day and ...\"}, \"Baby Einstein Press and Play Pal Toy, Neptune\": {\"frequency\": 47, \"value\": \"Baby Einstein ...\"}, \"Bummis Reusable Fleece Liners\": {\"frequency\": 27, \"value\": \"Bummis Reusable ...\"}, \"Waterproof Baby Bibs with Snaps for Girls &amp; Boys, Gift Box 10 Pack, Solid Colors\": {\"frequency\": 66, \"value\": \"Waterproof Baby ...\"}, \"HALO Early Walker SleepSack Lightweight Knit Wearable Blanket, Blue, Large\": {\"frequency\": 29, \"value\": \"HALO Early Walker ...\"}, \"Chicco NextFit Convertible Car Seat, Mystique\": {\"frequency\": 62, \"value\": \"Chicco NextFit ...\"}, \"Joovy Caboose Stand On Tandem Stroller, Black\": {\"frequency\": 113, \"value\": \"Joovy Caboose ...\"}, \"North States Supergate Top-Notch Gate\": {\"frequency\": 39, \"value\": \"North States ...\"}, \"Pearhead Babyprints Photo Frame\": {\"frequency\": 32, \"value\": \"Pearhead ...\"}, \"The First Year's Infant To Toddler Tub with Sling, Blue\": {\"frequency\": 230, \"value\": \"The First Year's ...\"}, \"MAM Love and Affection 2 Pack Pacifier Clips, Colors May Vary\": {\"frequency\": 18, \"value\": \"MAM Love and ...\"}, \"Sesame Street Framed Friends Green Folding Travel Potty Seat\": {\"frequency\": 24, \"value\": \"Sesame Street ...\"}, \"Podee Baby Feeding System\": {\"frequency\": 24, \"value\": \"Podee Baby Feeding ...\"}, \"bumGenius Elemental One-Size Diaper - White\": {\"frequency\": 19, \"value\": \"bumGenius ...\"}, \"Skip Hop Zoo Little Kid Luggage, Dog\": {\"frequency\": 48, \"value\": \"Skip Hop Zoo ...\"}, \"iBaby M3 Baby monitor for iPhone\": {\"frequency\": 30, \"value\": \"iBaby M3 Baby ...\"}, \"Graco Shelby Classic 4 in 1 Convertible Crib, Cappuccino\": {\"frequency\": 27, \"value\": \"Graco Shelby ...\"}, \"2 in 1 Professional Clinical RY230 Large LCD Non-contact Infrared Thermometer - Forehead and Surface\": {\"frequency\": 45, \"value\": \"2 in 1 ...\"}, \"Baby Jogger Adjustable Belly Bar\": {\"frequency\": 20, \"value\": \"Baby Jogger ...\"}, \"Summer Infant SwaddlePod 2-Pack, Hungry Caterpillar, Newborn\": {\"frequency\": 30, \"value\": \"Summer Infant ...\"}, \"Chicco Capri Lightweight Stroller, Tangerine\": {\"frequency\": 60, \"value\": \"Chicco Capri ...\"}, \"BABYBJORN Soft Bib, Red\": {\"frequency\": 109, \"value\": \"BABYBJORN Soft ...\"}, \"Nuk Clear Replacement Spouts - 6 PACK Clear\": {\"frequency\": 24, \"value\": \"Nuk Clear ...\"}, \"Graco Blossom 4-In-1 Seating System, Sapphire\": {\"frequency\": 80, \"value\": \"Graco Blossom ...\"}, \"Graco RoomFor2 Stand and Ride Classic Connect Stroller, Metropolis\": {\"frequency\": 48, \"value\": \"Graco RoomFor2 ...\"}, \"Boppy Water Resistant Protective Cover\": {\"frequency\": 20, \"value\": \"Boppy Water ...\"}, \"BABYBJORN Original Carrier - City Black\": {\"frequency\": 70, \"value\": \"BABYBJORN Original ...\"}, \"Dr. Brown's Bottle Warmer\": {\"frequency\": 112, \"value\": \"Dr. Brown's Bottle ...\"}, \"Hotslings Adjustable Pouch Baby Sling, Graham Cracker, Large\": {\"frequency\": 19, \"value\": \"Hotslings ...\"}, \"Playtex Nurser With Drop-Ins Liner, 4 Ounce, Colors May Vary, 3-Count\": {\"frequency\": 51, \"value\": \"Playtex Nurser ...\"}, \"Safety 1st Power Strip Cover\": {\"frequency\": 18, \"value\": \"Safety 1st Power ...\"}, \"Yookidoo Flow 'N Fill Spout Bath Toy (9m+)\": {\"frequency\": 95, \"value\": \"Yookidoo Flow 'N ...\"}, \"Prince Lionheart Jumbo Toy Hammock\": {\"frequency\": 217, \"value\": \"Prince Lionheart ...\"}, \"Philips AVENT Isis iQ Duo Twin Electronic Breast Pump\": {\"frequency\": 24, \"value\": \"Philips AVENT Isis ...\"}, \"Itzy Ritzy Snack Happens Reusable Snack Bag, Rodeo Drive\": {\"frequency\": 110, \"value\": \"Itzy Ritzy Snack ...\"}, \"Baby Starters Plush Snuggle Buddy, Blue Monkey\": {\"frequency\": 44, \"value\": \"Baby Starters ...\"}, \"aden + anais Classic Muslin Sleeping bag, Butterflies, Large\": {\"frequency\": 31, \"value\": \"aden + anais ...\"}, \"Kinderglo Portable Fun and Safe Rechargeable Night Light, Quarter Moon\": {\"frequency\": 53, \"value\": \"Kinderglo Portable ...\"}, \"Dreambaby Stroller Fan, White/Blue\": {\"frequency\": 107, \"value\": \"Dreambaby Stroller ...\"}, \"3 Sprouts Storage Box, Dog\": {\"frequency\": 27, \"value\": \"3 Sprouts Storage ...\"}, \"Graco DuoGlider LX Stroller in Fortune\": {\"frequency\": 24, \"value\": \"Graco DuoGlider LX ...\"}, \"Stork Craft Hoop Glider, Espresso/Beige\": {\"frequency\": 18, \"value\": \"Stork Craft Hoop ...\"}, \"Kalencom Laminated Buckle Bag, Multi Paisley Watermelon\": {\"frequency\": 20, \"value\": \"Kalencom Laminated ...\"}, \"Britax Frontier 85 SICT Booster Seat, Cardinal\": {\"frequency\": 49, \"value\": \"Britax Frontier 85 ...\"}, \"Summer Infant Deluxe PiddlePad\": {\"frequency\": 42, \"value\": \"Summer Infant ...\"}, \"Graco Swing By Me Portable 2-in-1 Swing, Little Hoot\": {\"frequency\": 22, \"value\": \"Graco Swing By Me ...\"}, \"NUK/Gerber Seal N Go Disposible Liner, 50-Count\": {\"frequency\": 43, \"value\": \"NUK/Gerber Seal N ...\"}, \"Graco Backless TurboBooster Seat, Galaxy\": {\"frequency\": 75, \"value\": \"Graco Backless ...\"}, \"Dr. Seuss Short Sleeve Bodysuit and Pants, Blue Cat, 3 Months\": {\"frequency\": 21, \"value\": \"Dr. Seuss Short ...\"}, \"Electronic Digital Caliper 6&quot; with Extra large LCD Display Screen with Carrying Case\": {\"frequency\": 31, \"value\": \"Electronic Digital ...\"}, \"MOBI MobiCam Ultra 900 MHz Monitoring System with SW Power\": {\"frequency\": 18, \"value\": \"MOBI MobiCam Ultra ...\"}, \"BABYBJORN Soft Bib 2 Pack - Red/Blue\": {\"frequency\": 129, \"value\": \"BABYBJORN Soft Bib ...\"}, \"Skip Hop Swipe Baby Wipes Case\": {\"frequency\": 38, \"value\": \"Skip Hop Swipe ...\"}, \"Kiddopotamus Cradler Adjustable Head Support for Newborns to Toddlers, Ivory Teddy Bears\": {\"frequency\": 21, \"value\": \"Kiddopotamus ...\"}, \"Redmon Bongo Buckets\": {\"frequency\": 22, \"value\": \"Redmon Bongo ...\"}, \"Lansinoh mOmma Straw Cup with Dual Handles, Orange\": {\"frequency\": 26, \"value\": \"Lansinoh mOmma ...\"}, \"Diono RadianR100 Convertible Car Seat, Dune\": {\"frequency\": 55, \"value\": \"Diono RadianR100 ...\"}, \"Skip Hop Zoo Bib, Dog\": {\"frequency\": 26, \"value\": \"Skip Hop Zoo Bib, ...\"}, \"Safety 1st Magnetic Locking System Complete\": {\"frequency\": 81, \"value\": \"Safety 1st ...\"}, \"The First Years 3 Pack Breastflow Bottle, 9 Ounce\": {\"frequency\": 52, \"value\": \"The First Years 3 ...\"}, \"Britax Regent Youth Car Seat, Onyx\": {\"frequency\": 32, \"value\": \"Britax Regent ...\"}, \"Clevamama Clevafeed\": {\"frequency\": 23, \"value\": \"Clevamama ...\"}, \"NoJo 2 Pack Dot Changing Table Cover - Ivory withSnow Dots\": {\"frequency\": 21, \"value\": \"NoJo 2 Pack Dot ...\"}, \"Brica Baby In-Sight Mirror, Gray\": {\"frequency\": 80, \"value\": \"Brica Baby In- ...\"}, \"Hook 'n' Stroll Stroller Accessory, Black\": {\"frequency\": 37, \"value\": \"Hook 'n' Stroll ...\"}, \"DaVinci Elizabeth II Convertible Toddler Bed in White\": {\"frequency\": 19, \"value\": \"DaVinci Elizabeth ...\"}, \"(1) Cresci Products Window Wedge (2 Per Pack) WHITE color\": {\"frequency\": 28, \"value\": \"(1) Cresci ...\"}, \"Summer Infant Plush Pals Changing Pad Cover, Green/Brown (Monkey)\": {\"frequency\": 48, \"value\": \"Summer Infant ...\"}, \"Philips AVENT 11 Ounce BPA Free Classic Polypropylene Bottle, 1-Pack\": {\"frequency\": 23, \"value\": \"Philips AVENT 11 ...\"}, \"GumDrop Pacifier Full-Term Natural Scent Orange 5 Pack\": {\"frequency\": 21, \"value\": \"GumDrop Pacifier ...\"}, \"OXO Tot Fork and Spoon Set, Green\": {\"frequency\": 54, \"value\": \"OXO Tot Fork and ...\"}, \"Potty Time Potty Watch - Blue\": {\"frequency\": 108, \"value\": \"Potty Time Potty ...\"}, \"Maymom Breast Pump Kit for Medela Pump in Style Pump; 2 Breastshields (Compare to Medela Personalfit 24 mm Shield with Personal Fit Connector), 4 Valves, 6 Membranes, &amp; 2 Replacement Tubing for Pump in Style Advanced Sold After July 2006; Replacement Parts for Medela Breast Shield, Medela Tubing, Medela Valves and Medela Membranes\": {\"frequency\": 28, \"value\": \"Maymom Breast Pump ...\"}, \"Safety 1st Clear View Stove Knob Covers 5-Pack\": {\"frequency\": 74, \"value\": \"Safety 1st Clear ...\"}, \"Graco Sweetpeace Newborn Soothing Center, 2008\": {\"frequency\": 40, \"value\": \"Graco Sweetpeace ...\"}, \"Dr. Brown's BPA Free Polypropylene Natural Flow Bottle Newborn Feeding Set\": {\"frequency\": 85, \"value\": \"Dr. Brown's BPA ...\"}, \"Evenflo Crosstown Soft Portable Travel Gate\": {\"frequency\": 46, \"value\": \"Evenflo Crosstown ...\"}, \"ERGObaby Organic Baby Carrier, Desert Bloom\": {\"frequency\": 48, \"value\": \"ERGObaby Organic ...\"}, \"Philips AVENT BPA Free Infant Bottle Starter Set\": {\"frequency\": 21, \"value\": \"Philips AVENT BPA ...\"}, \"OXO Tot Tub Drain Stopper, Blue\": {\"frequency\": 63, \"value\": \"OXO Tot Tub Drain ...\"}, \"Mary Meyer Christening Plush Rattle, Lamb\": {\"frequency\": 19, \"value\": \"Mary Meyer ...\"}, \"Chicco Caddy Hook On Chair, Red\": {\"frequency\": 52, \"value\": \"Chicco Caddy Hook ...\"}, \"Fantasy Furniture Roundy Chair with Microsuede Ottoman, Hot Pink\": {\"frequency\": 21, \"value\": \"Fantasy Furniture ...\"}, \"Munchkin Auto Seat Protector\": {\"frequency\": 42, \"value\": \"Munchkin Auto Seat ...\"}, \"Ikea 36 Pcs Kalas Kids Plastic BPA Free Flatware, Bowl, Plate, Tumbler Set, Colorful\": {\"frequency\": 36, \"value\": \"Ikea 36 Pcs Kalas ...\"}, \"Fisher-Price Cradle 'N Swing,  My Little Snugabunny\": {\"frequency\": 278, \"value\": \"Fisher-Price ...\"}, \"Luvable Friends 6-Pack Flannel Receiving Blankets, Blue\": {\"frequency\": 39, \"value\": \"Luvable Friends ...\"}, \"Chicco Cortina Keyfit 30 Travel System, Miro\": {\"frequency\": 23, \"value\": \"Chicco Cortina ...\"}, \"American Baby Company Heavenly Soft Chenille Crib Sheet, Ecru\": {\"frequency\": 28, \"value\": \"American Baby ...\"}, \"Munchkin Traveling Flash Cards\": {\"frequency\": 37, \"value\": \"Munchkin Traveling ...\"}, \"American Baby Company 100% Cotton Percale Fitted Portable/Mini Crib Sheet, Pink Dots\": {\"frequency\": 22, \"value\": \"American Baby ...\"}, \"5 Piece Dark Gray Suit with Shirt, Vest, and Tie - Size 10\": {\"frequency\": 32, \"value\": \"5 Piece Dark Gray ...\"}, \"Status Veneto Glider and Nursing Ottoman, White/Beige\": {\"frequency\": 24, \"value\": \"Status Veneto ...\"}, \"The First Years Breastflow Milk Storage Organizer\": {\"frequency\": 75, \"value\": \"The First Years ...\"}, \"JJ Cole Collections Strap Cover in Pink\": {\"frequency\": 28, \"value\": \"JJ Cole ...\"}, \"Dr. Brown's 8 oz. Natural Flow Wide Neck Bottle, 3 Pack\": {\"frequency\": 38, \"value\": \"Dr. Brown's 8 oz. ...\"}, \"MAM BPA Free 5 oz Bottle for Boy, 3-Pack ((Patterns and motifs may vary)\": {\"frequency\": 33, \"value\": \"MAM BPA Free 5 oz ...\"}, \"Nursery Fresh Refill for Diaper Genie 4 Pack, 1,088 Count\": {\"frequency\": 38, \"value\": \"Nursery Fresh ...\"}, \"Delta Portable Mini Crib, Cherry\": {\"frequency\": 24, \"value\": \"Delta Portable ...\"}, \"Medela Pump &amp; Save Breastmilk Bags - 50 pack-5 oz\": {\"frequency\": 74, \"value\": \"Medela Pump &amp; ...\"}, \"Infantino Flip Front 2 Back Carrier, Black\": {\"frequency\": 22, \"value\": \"Infantino Flip ...\"}, \"Thermos FUNtainer Bottle, Disney Princess, 12 Ounce\": {\"frequency\": 30, \"value\": \"Thermos FUNtainer ...\"}, \"Britax Infant Car Seat Adapter Frame\": {\"frequency\": 20, \"value\": \"Britax Infant Car ...\"}, \"New Boba Wrap in Red with Matching Carrying Pouch : Infant Baby Carrier : Preemie - 18months (Previously Sleepy Wrap)\": {\"frequency\": 70, \"value\": \"New Boba Wrap in ...\"}, \"Summer Infant  Multi Use Extra Tall Walk-Thru Gate, White\": {\"frequency\": 69, \"value\": \"Summer Infant ...\"}, \"Fisher-Price Space Saver High Chair, Scatterbug\": {\"frequency\": 34, \"value\": \"Fisher-Price Space ...\"}, \"ZoLi BOT XL Straw Sippy Cup (Green) - 9 oz.\": {\"frequency\": 28, \"value\": \"ZoLi BOT XL Straw ...\"}, \"Infant Optics DXR-8 Pan/Tilt/Zoom 3.5&quot; Video Baby Monitor With Interchangeable Optical Lens\": {\"frequency\": 41, \"value\": \"Infant Optics ...\"}, \"Baby Jogger 2012 City Mini Single Stroller, Green/Gray\": {\"frequency\": 42, \"value\": \"Baby Jogger 2012 ...\"}, \"Bright Starts Around We Go Activity Station, Doodle Bugs\": {\"frequency\": 83, \"value\": \"Bright Starts ...\"}, \"Safety 1st Whale and Baby Spout Guard\": {\"frequency\": 27, \"value\": \"Safety 1st Whale ...\"}, \"Fisher-Price Portable Rocker, Newborn-to-Toddler\": {\"frequency\": 66, \"value\": \"Fisher-Price ...\"}, \"Bright Starts Ingenuity Automatic Bouncer, Bella Vista\": {\"frequency\": 19, \"value\": \"Bright Starts ...\"}, \"Sassy Spin Shine Rattle Developmental Toy\": {\"frequency\": 29, \"value\": \"Sassy Spin Shine ...\"}, \"Britax Boulevard 70 CS Convertible Car Seat (Previous Version), Waverly\": {\"frequency\": 24, \"value\": \"Britax Boulevard ...\"}, \"Baby Trend Diaper Champ Deluxe, Blue\": {\"frequency\": 35, \"value\": \"Baby Trend Diaper ...\"}, \"Graco Ready2Grow Classic Connect Stroller, Forecaster\": {\"frequency\": 25, \"value\": \"Graco Ready2Grow ...\"}, \"Fisher-Price Sensory Selections Bouncer\": {\"frequency\": 18, \"value\": \"Fisher-Price ...\"}, \"Safety 1st OnBoard 35 Adjustable Infant Car Seat Base, Black\": {\"frequency\": 39, \"value\": \"Safety 1st OnBoard ...\"}, \"Kidco Safeway white G2000\": {\"frequency\": 37, \"value\": \"Kidco Safeway ...\"}, \"Best Bottom Cloth Diapers - Snap - Orange Sherbet\": {\"frequency\": 36, \"value\": \"Best Bottom Cloth ...\"}, \"Medela PersonalFit Connectors\": {\"frequency\": 19, \"value\": \"Medela PersonalFit ...\"}, \"Disney 4 Piece Toddler Bedding Set, Taking The Race\": {\"frequency\": 33, \"value\": \"Disney 4 Piece ...\"}, \"Fisher-Price Zen Collection High Chair\": {\"frequency\": 23, \"value\": \"Fisher-Price Zen ...\"}, \"Sensible Lines Milk Trays\": {\"frequency\": 18, \"value\": \"Sensible Lines ...\"}, \"Summer Infant Ultimate Crib Sheet, 52&quot; x 28&quot;\": {\"frequency\": 62, \"value\": \"Summer Infant ...\"}, \"Playtex Premium Nurser Newborn Gift Set\": {\"frequency\": 40, \"value\": \"Playtex Premium ...\"}, \"Munchkin Baby Food Grinder, Light Blue\": {\"frequency\": 30, \"value\": \"Munchkin Baby Food ...\"}, \"Wimmer Ferguson Wimmer Infant Stim Mobile To Go\": {\"frequency\": 29, \"value\": \"Wimmer Ferguson ...\"}, \"Summer Infant Metal Expansion Gate, 6 Foot Wide Walk-Thru, Neutral finish\": {\"frequency\": 59, \"value\": \"Summer Infant ...\"}, \"Lansinoh mOmma Bottle with NaturalWave Nipple, 8 Ounce\": {\"frequency\": 21, \"value\": \"Lansinoh mOmma ...\"}, \"Peg Perego Convertible Infant to Toddler Car Seat, Black\": {\"frequency\": 42, \"value\": \"Peg Perego ...\"}, \"HABA Kringelring Rattle Clutching Toy\": {\"frequency\": 19, \"value\": \"HABA Kringelring ...\"}, \"Graco Lauren Dressing Table, White\": {\"frequency\": 39, \"value\": \"Graco Lauren ...\"}, \"RECARO Performance RIDE Convertible Car Seats, Vibe\": {\"frequency\": 36, \"value\": \"RECARO Performance ...\"}, \"OsoCozy Chinese Prefold Diapers, Infant 4x6x4\": {\"frequency\": 18, \"value\": \"OsoCozy Chinese ...\"}, \"Similac SimplySmart Bottle, 4 Ounce\": {\"frequency\": 36, \"value\": \"Similac ...\"}, \"Maxboost iPhone 5S/5 Case - Protective Snap-on Hard Case Slim Rugged Cover [Not compatible to Apple iPhone 6 Air 5c 4s 4 3gs, Screen Protector / Cable is not included] - Ultra Slim Profile Slimmer than coventional otterbox/lifeproof/kate Spade/speck/juicy couture/griffin/element/taktik Case\": {\"frequency\": 24, \"value\": \"Maxboost iPhone ...\"}, \"The Original Woombie Baby Cocoon Swaddle (Big Baby (14-19 lbs), Aqua Stripe)\": {\"frequency\": 52, \"value\": \"The Original ...\"}, \"ERGObaby Original Baby Carrier, Galaxy Grey\": {\"frequency\": 35, \"value\": \"ERGObaby Original ...\"}, \"Baby Trend Expedition LX Travel System, Millennium\": {\"frequency\": 30, \"value\": \"Baby Trend ...\"}, \"Pura Stainless Kiki Infant Bottle Stainless Steel, 11 Ounce, Natural\": {\"frequency\": 20, \"value\": \"Pura Stainless ...\"}, \"Medela Nursing Stool\": {\"frequency\": 23, \"value\": \"Medela Nursing ...\"}, \"JL Childress Gate Check Bag for Umbrella Strollers, Red\": {\"frequency\": 44, \"value\": \"JL Childress Gate ...\"}, \"HALO SleepSack Plush Dot Velboa Wearable Blanket, Cream, Medium\": {\"frequency\": 18, \"value\": \"HALO SleepSack ...\"}, \"Boon Flo Water Deflector and Protective Faucet Cover with Bubble Bath Dispenser,Green\": {\"frequency\": 57, \"value\": \"Boon Flo Water ...\"}, \"Playtex Diaper Genie - First Refill Included\": {\"frequency\": 88, \"value\": \"Playtex Diaper ...\"}, \"aden + anais Muslin Dream Blanket, For The Birds - Owl\": {\"frequency\": 53, \"value\": \"aden + anais ...\"}, \"Infant Optics Add-On Camera for DXR-5 2.4 Ghz Video Monitor (DXR-871)\": {\"frequency\": 22, \"value\": \"Infant Optics Add- ...\"}, \"Philips AVENT BPA Free Standard Breast Pump Conversion Kit\": {\"frequency\": 23, \"value\": \"Philips AVENT BPA ...\"}, \"Graco Charleston Non-Drop Classic Crib, Cherry\": {\"frequency\": 21, \"value\": \"Graco Charleston ...\"}, \"Philips AVENT BPA Free Classic Polypropylene Bottle, Pink, 9 Ounce, 3 Pack\": {\"frequency\": 23, \"value\": \"Philips AVENT BPA ...\"}, \"Milkies Milk-Saver Breast Milk Collector Storage BPA Free\": {\"frequency\": 79, \"value\": \"Milkies Milk-Saver ...\"}, \"Inglesina 2013 Fast Table Chair, Liquirizia\": {\"frequency\": 136, \"value\": \"Inglesina 2013 ...\"}, \"MamaDoo Kids Foldable Play Yard Mattress Topper, Blue\": {\"frequency\": 37, \"value\": \"MamaDoo Kids ...\"}, \"BRICA goPad Diaper Changer\": {\"frequency\": 24, \"value\": \"BRICA goPad Diaper ...\"}, \"Mommy's Helper Power Strip Safety Cover\": {\"frequency\": 18, \"value\": \"Mommy's Helper ...\"}, \"Medela PersonalFit Breastshields (2/pack) - Large - 27mm\": {\"frequency\": 81, \"value\": \"Medela PersonalFit ...\"}, \"Fisher-Price My Little Lamb Deluxe Infant Seat\": {\"frequency\": 18, \"value\": \"Fisher-Price My ...\"}, \"Summer Infant Changing Pad Cover, Who Loves You Owl\": {\"frequency\": 19, \"value\": \"Summer Infant ...\"}, \"Lansinoh TheraPearl 3-in-1 Breast Therapy\": {\"frequency\": 19, \"value\": \"Lansinoh ...\"}, \"North States Supergate Ergo Safety Gate, Ivory\": {\"frequency\": 23, \"value\": \"North States ...\"}, \"Starting Small Monkey Novelty Hamper in Brown,  18 x 11 x 24\": {\"frequency\": 64, \"value\": \"Starting Small ...\"}, \"Taggies Developmental Baby Doll\": {\"frequency\": 17, \"value\": \"Taggies ...\"}, \"OXO Tot Training Cup, Aqua, 7 Ounce\": {\"frequency\": 21, \"value\": \"OXO Tot Training ...\"}, \"Dream On Me 4 in 1 Aden Convertible Mini Crib, Natural\": {\"frequency\": 25, \"value\": \"Dream On Me 4 in 1 ...\"}, \"Boba 3G Baby Carrier, Montenegro Black\": {\"frequency\": 45, \"value\": \"Boba 3G Baby ...\"}, \"Britax Marathon in Ashley Floral\": {\"frequency\": 19, \"value\": \"Britax Marathon in ...\"}, \"Baby Jogger Car Seat Adapter for City Mini / City Elite\": {\"frequency\": 18, \"value\": \"Baby Jogger Car ...\"}, \"Fisher-Price Zen Collection Cradle Swing\": {\"frequency\": 79, \"value\": \"Fisher-Price Zen ...\"}, \"Star Kids Snack and Play Travel Tray\": {\"frequency\": 116, \"value\": \"Star Kids Snack ...\"}, \"Ocean Wonders Musical Aquarium Crib Attachment\": {\"frequency\": 71, \"value\": \"Ocean Wonders ...\"}, \"BooginHead Pacifier Holder, Pink Polka Dot\": {\"frequency\": 139, \"value\": \"BooginHead ...\"}, \"Custom Fit KidCo Configure Gate - White\": {\"frequency\": 33, \"value\": \"Custom Fit KidCo ...\"}, \"Munchkin 3 Piece Silly Sandwich Cutter Set\": {\"frequency\": 22, \"value\": \"Munchkin 3 Piece ...\"}, \"Boppy Newborn Lounger, Geo\": {\"frequency\": 47, \"value\": \"Boppy Newborn ...\"}, \"Playtex DisneyInsulator Spout Cup, Finding Nemo, 9 Ounce, 2-Count\": {\"frequency\": 19, \"value\": \"Playtex ...\"}, \"Munchkin 2 Pack Mighty Grip Straw Cup, 10 Ounce, Colors May Vary\": {\"frequency\": 33, \"value\": \"Munchkin 2 Pack ...\"}, \"North States Pressure Mount Diamond Mesh Wood Gate\": {\"frequency\": 47, \"value\": \"North States ...\"}, \"American Baby Company 100% Organic Cotton Interlock Fitted Pack N Play Sheet, Natural\": {\"frequency\": 86, \"value\": \"American Baby ...\"}, \"Philips AVENT 3-in-1 Electric Steam Sterilizer\": {\"frequency\": 76, \"value\": \"Philips AVENT ...\"}, \"BABYBJORN Cover for Baby Carrier - City Black\": {\"frequency\": 26, \"value\": \"BABYBJORN Cover ...\"}, \"Dolly Come Ride with Me Seat\": {\"frequency\": 18, \"value\": \"Dolly Come Ride ...\"}, \"Summer Infant Baby Touch Boost Digital Color Video Monitor\": {\"frequency\": 19, \"value\": \"Summer Infant Baby ...\"}, \"Safety 1st Cling Sunshade 21&quot; wide - 2 Pack\": {\"frequency\": 18, \"value\": \"Safety 1st Cling ...\"}, \"The First Years Newborn to Toddler Reclining Feeding Seat\": {\"frequency\": 53, \"value\": \"The First Years ...\"}, \"Kushies Waterproof Bib with Sleeves, Blue Circle, Infant\": {\"frequency\": 24, \"value\": \"Kushies Waterproof ...\"}, \"Yookidoo Stack 'N' Spray Tub Fountain\": {\"frequency\": 51, \"value\": \"Yookidoo Stack 'N' ...\"}, \"Munchie Mug - Top Rated Spill Resistant Snack Cup for Toddlers. Ages 1 to 4 years. Made in AMERICA. - BPA and phthalate free. FDA compliant materials. - Blue Top\": {\"frequency\": 64, \"value\": \"Munchie Mug - Top ...\"}, \"Playtex 3 Pack BPA Free VentAire Wide Bottles, 9 Ounce (Colors may vary)\": {\"frequency\": 78, \"value\": \"Playtex 3 Pack BPA ...\"}, \"Fisher-Price Booster Seat, Rainforest\": {\"frequency\": 82, \"value\": \"Fisher-Price ...\"}, \"Beco Gemini Baby Carrier - Paige\": {\"frequency\": 80, \"value\": \"Beco Gemini Baby ...\"}, \"Regalo Easy Step Walk Thru Gate, White\": {\"frequency\": 375, \"value\": \"Regalo Easy Step ...\"}, \"Summer Infant Lil' Loo Potty, Pink\": {\"frequency\": 65, \"value\": \"Summer Infant Lil' ...\"}, \"Bummis Super Brite Diaper Cover, Pink, 8-16 Pounds\": {\"frequency\": 23, \"value\": \"Bummis Super Brite ...\"}, \"Munchkin Arm and Hammer Nursery Fresheners, 5 Pack, Lavender or Citrus\": {\"frequency\": 72, \"value\": \"Munchkin Arm and ...\"}, \"Lamaze Play &amp; Grow Freddie the Firefly Take Along Toy\": {\"frequency\": 194, \"value\": \"Lamaze Play &amp; ...\"}, \"Carters Super Soft Dot Changing Pad Cover, Chocolate\": {\"frequency\": 47, \"value\": \"Carters Super Soft ...\"}, \"Bumkins Reusable Flannel Wipes, 12 Count, Natural\": {\"frequency\": 37, \"value\": \"Bumkins Reusable ...\"}, \"B.box Essential Sippy Cup in Blue - 6 Oz\": {\"frequency\": 29, \"value\": \"B.box Essential ...\"}, \"JJ Cole Satchel Diaper Bag, Green Arbor\": {\"frequency\": 51, \"value\": \"JJ Cole Satchel ...\"}, \"The First Years Simple &amp; Secure Stair Gate\": {\"frequency\": 26, \"value\": \"The First Years ...\"}, \"Odorless Diaper Pail by Safety 1st\": {\"frequency\": 28, \"value\": \"Odorless Diaper ...\"}, \"Summer Infant Ultra Plush Change Pad Cover, Blue\": {\"frequency\": 104, \"value\": \"Summer Infant ...\"}, \"Summer Infant Swaddleme Pure Love Adjustable Infant Wrap, Alligator\": {\"frequency\": 33, \"value\": \"Summer Infant ...\"}, \"Aquaus Toilet Bidet Handle / Diaper Sprayer with ** BONUS ** Rockin' Green Laundry Detergent and Tooth Tissue sample\": {\"frequency\": 20, \"value\": \"Aquaus Toilet ...\"}, \"Baby B'Air Toddler Flight Vest - Red\": {\"frequency\": 18, \"value\": \"Baby B'Air Toddler ...\"}, \"Medela Contact Nipple Shield - Standard Size (24mm)\": {\"frequency\": 22, \"value\": \"Medela Contact ...\"}, \"Summer Infant Sure and Secure Double Bedrail, Blue\": {\"frequency\": 34, \"value\": \"Summer Infant Sure ...\"}, \"Safety 1st Vantage High Back Booster Car Seat, Nitron\": {\"frequency\": 24, \"value\": \"Safety 1st Vantage ...\"}, \"Lambs &amp; Ivy Nap Mat, Pink Monkey\": {\"frequency\": 42, \"value\": \"Lambs &amp; Ivy ...\"}, \"OXO Tot On-the-Go Wipes Dispenser, Pink\": {\"frequency\": 57, \"value\": \"OXO Tot On-the-Go ...\"}, \"Infantino Squeeze Pouches, 50-Count\": {\"frequency\": 23, \"value\": \"Infantino Squeeze ...\"}, \"HALO SleepSack 100% Wearable Blanket Applique, Elephant, Small\": {\"frequency\": 20, \"value\": \"HALO SleepSack ...\"}, \"Lamaze Play &amp; Grow Jacques the Peacock Take Along Toy\": {\"frequency\": 107, \"value\": \"Lamaze Play &amp; ...\"}, \"Spray Pal - Cloth Diaper Sprayer Splatter Shield\": {\"frequency\": 29, \"value\": \"Spray Pal - Cloth ...\"}, \"Philips AVENT BPA Free Bottle Brush, Blue\": {\"frequency\": 52, \"value\": \"Philips AVENT BPA ...\"}, \"Britax B-Nimble Stroller, Red\": {\"frequency\": 24, \"value\": \"Britax B-Nimble ...\"}, \"Levana Safe N'See Digital Video Baby Monitor with Talk-to-Baby Intercom and Lullaby Control (LV-TW501)\": {\"frequency\": 45, \"value\": \"Levana Safe N'See ...\"}, \"Prince Lionheart Table Edge Guard with 4 Corners, Grey\": {\"frequency\": 84, \"value\": \"Prince Lionheart ...\"}, \"Thermos FOOGO Phases Straw Bottle, Blue/Yellow, 11 Ounce\": {\"frequency\": 66, \"value\": \"Thermos FOOGO ...\"}, \"Philips AVENT BPA Free Natural Medium Flow Nipples, 2-Pack\": {\"frequency\": 20, \"value\": \"Philips AVENT BPA ...\"}, \"Susen Safe Shampoo Shower Bathing Protect Soft Cap Hat for Baby Children Kids (Pink)\": {\"frequency\": 25, \"value\": \"Susen Safe Shampoo ...\"}, \"Thirsties Duo Wrap Diaper Cover with Hook and Loop, Aqua, Size 1\": {\"frequency\": 18, \"value\": \"Thirsties Duo Wrap ...\"}, \"Fisher-Price Zen Collection Gliding Bassinet\": {\"frequency\": 21, \"value\": \"Fisher-Price Zen ...\"}, \"Graco 4 Gallon Cool Mist Humidifier\": {\"frequency\": 33, \"value\": \"Graco 4 Gallon ...\"}, \"Sassy Ring O' Links Rattle Developmental Toy\": {\"frequency\": 50, \"value\": \"Sassy Ring O' ...\"}, \"NUK Hello Kitty Silicone Spout Active Cup, 10 Ounce\": {\"frequency\": 28, \"value\": \"NUK Hello Kitty ...\"}, \"Kid'Sleep Classic, Blue\": {\"frequency\": 78, \"value\": \"Kid'Sleep Classic, ...\"}, \"Graco Contempo Highchair, Rittenhouse\": {\"frequency\": 23, \"value\": \"Graco Contempo ...\"}, \"aden + anais Cozy Muslin Sleeping Bag, Alpha Bit, Small\": {\"frequency\": 34, \"value\": \"aden + anais Cozy ...\"}, \"Cloud B Tranquil Turtle - Aqua\": {\"frequency\": 71, \"value\": \"Cloud B Tranquil ...\"}, \"Safety 1st OnSide Air Protect Convertible Car Seat, Adeline Black\": {\"frequency\": 37, \"value\": \"Safety 1st OnSide ...\"}, \"North States Supergate Stairway Gate\": {\"frequency\": 18, \"value\": \"North States ...\"}, \"Itzbeen Pocket Nanny Baby Care Timer, Blue\": {\"frequency\": 176, \"value\": \"Itzbeen Pocket ...\"}, \"Stork Craft Rochester Stages Crib with Drawer\": {\"frequency\": 22, \"value\": \"Stork Craft ...\"}, \"Mommy's Helper Cushie Traveler\": {\"frequency\": 50, \"value\": \"Mommy's Helper ...\"}, \"Joovy Room&sup2; Portable Playard, Red\": {\"frequency\": 64, \"value\": \"Joovy Room&sup2; ...\"}, \"Medela Pump in Style Advanced Backpack\": {\"frequency\": 58, \"value\": \"Medela Pump in ...\"}, \"Fisher-Price Coco Sorbet Soothing Motions Glider\": {\"frequency\": 51, \"value\": \"Fisher-Price Coco ...\"}, \"ProGradeTM Lever Handle Lock by Safety 1st\": {\"frequency\": 22, \"value\": \"ProGradeTM Lever ...\"}, \"Evenflo Home D&eacute;cor Wood Gate, Natural Oak\": {\"frequency\": 19, \"value\": \"Evenflo Home ...\"}, \"Dr. Brown's 2 Pack Natural Flow Level 2 Standard Nipple\": {\"frequency\": 29, \"value\": \"Dr. Brown's 2 Pack ...\"}, \"Playtex TrainingTime Soft Spout Cup, 6 Ounce, 2 Pack, Color May Vary\": {\"frequency\": 62, \"value\": \"Playtex ...\"}, \"Summer Infant, Ultimate Training Pad - Twin Mattress, 38&quot; x 28&quot;\": {\"frequency\": 22, \"value\": \"Summer Infant, ...\"}, \"Philips AVENT 9 Ounce BPA Free Natural Drinking Cup, 1-Pack, Red\": {\"frequency\": 61, \"value\": \"Philips AVENT 9 ...\"}, \"Nuby Super Spout 2 Pack No Spill Replacement Spouts, Clear\": {\"frequency\": 19, \"value\": \"Nuby Super Spout 2 ...\"}, \"Prince Lionheart Soft Booster Seat in Green\": {\"frequency\": 81, \"value\": \"Prince Lionheart ...\"}, \"Safety 1st Sleepy Baby Nail Clipper\": {\"frequency\": 36, \"value\": \"Safety 1st Sleepy ...\"}, \"Mumi&amp;Bubi Solids Starter Kit, 42 x 1oz Cubes In Two Compact Baby Food Freezer Storage Trays, Plus Free e-Recipes\": {\"frequency\": 69, \"value\": \"Mumi&amp;Bubi ...\"}, \"Chicco Lil Piano Splash Walker\": {\"frequency\": 33, \"value\": \"Chicco Lil Piano ...\"}, \"Motorola MBP26 Wireless 2.4 GHz Video Baby Monitor with 2.4&quot; Color LCD Screen, Infrared Night Vision and Remote Camera Pan and Tilt\": {\"frequency\": 32, \"value\": \"Motorola MBP26 ...\"}, \"Snuza Hero Baby Movement Monitor\": {\"frequency\": 54, \"value\": \"Snuza Hero Baby ...\"}, \"Graco 1 Second Ear Thermometer\": {\"frequency\": 24, \"value\": \"Graco 1 Second Ear ...\"}, \"Sunshine Kids New Radian 80 Convertible Car Seat - SuperCool\": {\"frequency\": 19, \"value\": \"Sunshine Kids New ...\"}, \"Philips AVENT BPA Free Classic Polypropylene Bottle, Opaque, 4 Ounce, 2 Pack\": {\"frequency\": 69, \"value\": \"Philips AVENT BPA ...\"}, \"Boppy Changing Pad Liners 3-Pack - White\": {\"frequency\": 38, \"value\": \"Boppy Changing Pad ...\"}, \"Summer Infant Secure Sight Digital Color Video Monitor\": {\"frequency\": 20, \"value\": \"Summer Infant ...\"}, \"Simple Wishes Honeysuckle Breastmilk Storage Bags, 25-Count\": {\"frequency\": 51, \"value\": \"Simple Wishes ...\"}, \"Luvable Friends Fitted Crib Sheet, Construction\": {\"frequency\": 27, \"value\": \"Luvable Friends ...\"}, \"American Baby Company 100% Cotton Value Jersey Knit Fitted Portable/Mini Sheet, Celery\": {\"frequency\": 125, \"value\": \"American Baby ...\"}, \"aden + anais Classic Muslin Swaddle Blanket, Dino-Roar\": {\"frequency\": 19, \"value\": \"aden + anais ...\"}, \"Born Free 5 oz. BPA-Free Glass Bottle with ActiveFlow Venting Technology and Bonus Silicone Sleeve, 3-Pack\": {\"frequency\": 43, \"value\": \"Born Free 5 oz. ...\"}, \"WubbaNub Brown Puppy\": {\"frequency\": 44, \"value\": \"WubbaNub Brown ...\"}, \"Levana BABYVIEW20 Interference Free Digital Wireless Video Baby Monitor with Night Light Lullaby Camera\": {\"frequency\": 94, \"value\": \"Levana BABYVIEW20 ...\"}, \"Kiddopotamus Dreamsie Sleeper with Sleeves Microfleece Large, Ivory\": {\"frequency\": 21, \"value\": \"Kiddopotamus ...\"}, \"TotShield Stove Guard for Free Standing Gas and Electric Stove\": {\"frequency\": 28, \"value\": \"TotShield Stove ...\"}, \"Playtex Diaper Genie Elite Diaper Disposal Pail, White\": {\"frequency\": 147, \"value\": \"Playtex Diaper ...\"}, \"Recaro Vivo High Back Booster Car Seat, Midnight Desert Micofiber\": {\"frequency\": 24, \"value\": \"Recaro Vivo High ...\"}, \"VTech Communications Safe &amp; Sounds Full Color Video and Audio Monitor\": {\"frequency\": 56, \"value\": \"VTech ...\"}, \"Baby Einstein Musical Motion Activity Jumper, Green\": {\"frequency\": 23, \"value\": \"Baby Einstein ...\"}, \"Regalo Easy Step Extra Wide Walk Thru Gate, White\": {\"frequency\": 18, \"value\": \"Regalo Easy Step ...\"}, \"Dappi Waterproof 100% Nylon Diaper Pants, 2 Pack, White, Small\": {\"frequency\": 46, \"value\": \"Dappi Waterproof ...\"}, \"The First Years Sounds For Silence Nursery Sound Machine\": {\"frequency\": 18, \"value\": \"The First Years ...\"}, \"Vulli Sophie the Giraffe Teether Set of 2\": {\"frequency\": 45, \"value\": \"Vulli Sophie the ...\"}, \"Tiny Love Gymini Bouncer, Blue/Yellow\": {\"frequency\": 30, \"value\": \"Tiny Love Gymini ...\"}, \"The First Years 4 Pack Take And Toss Spill Proof Cups, 10 Ounce, Colors May Vary\": {\"frequency\": 23, \"value\": \"The First Years 4 ...\"}, \"UPPAbaby 2013 G-lite Stroller, Denny Red\": {\"frequency\": 18, \"value\": \"UPPAbaby 2013 ...\"}, \"BRICA By-My-Side Safety Harness Backpack, Blue\": {\"frequency\": 20, \"value\": \"BRICA By-My-Side ...\"}, \"Mommys Helper Juice Box Buddies Holder for Juice Bags and Boxes, Colors May Vary\": {\"frequency\": 19, \"value\": \"Mommys Helper ...\"}, \"Evenflo Exersaucer Mega Circus\": {\"frequency\": 32, \"value\": \"Evenflo Exersaucer ...\"}, \"Fisher-Price Healthy Care Booster Seat, Yellow and Orange\": {\"frequency\": 20, \"value\": \"Fisher-Price ...\"}, \"Munchkin Sesame Street Toddler Fork and Spoon, Elmo\": {\"frequency\": 54, \"value\": \"Munchkin Sesame ...\"}, \"OXO Tot  12 Piece Baby Block Set\": {\"frequency\": 18, \"value\": \"OXO Tot  12 Piece ...\"}, \"Playtex Standard BPA Free Disposable Nurser Liners 4 oz - 100 Count\": {\"frequency\": 18, \"value\": \"Playtex Standard ...\"}, \"Dexbaby Nursery Organizer, White\": {\"frequency\": 41, \"value\": \"Dexbaby Nursery ...\"}, \"Lambs &amp; Ivy Basket, Espresso\": {\"frequency\": 25, \"value\": \"Lambs &amp; Ivy ...\"}, \"Boon Stem Grass and Lawn Drying Rack Accessory,Yellow\": {\"frequency\": 37, \"value\": \"Boon Stem Grass ...\"}, \"Carter's Easy Fit Printed Crib Fitted Sheet, Animal\": {\"frequency\": 47, \"value\": \"Carter's Easy Fit ...\"}, \"Manhattan Toy Snuggle Pod, Peanut\": {\"frequency\": 51, \"value\": \"Manhattan Toy ...\"}, \"phil&amp;teds Traveller Crib, Black\": {\"frequency\": 21, \"value\": \"phil&amp;teds ...\"}, \"Luvable Friends 6 Pack Washcloths, Blue\": {\"frequency\": 27, \"value\": \"Luvable Friends 6 ...\"}, \"Itzy Ritzy Travel Happens Sealed Wet Bag, Avocado Damask\": {\"frequency\": 27, \"value\": \"Itzy Ritzy Travel ...\"}, \"Badger Basket 3 Pack Polka Dot Nesting Trapezoid Shape Folding Baskets, Pink\": {\"frequency\": 20, \"value\": \"Badger Basket 3 ...\"}, \"Munchkin Arm &amp; HammerDiaper Bag Refills, 72-Count\": {\"frequency\": 25, \"value\": \"Munchkin Arm &amp; ...\"}, \"900 MHz Home Connection Monitor\": {\"frequency\": 27, \"value\": \"900 MHz Home ...\"}, \"Kalencom 2-in-1 Potette Plus Red\": {\"frequency\": 169, \"value\": \"Kalencom 2-in-1 ...\"}, \"timi &amp; leslie Charlie 7-Piece Diaper Bag Set, Light Brown\": {\"frequency\": 25, \"value\": \"timi &amp; leslie ...\"}, \"Graco Stanton Convertible Crib, Classic Cherry\": {\"frequency\": 24, \"value\": \"Graco Stanton ...\"}, \"Traffic Light Lamp\": {\"frequency\": 22, \"value\": \"Traffic Light Lamp\"}, \"Mimijumi 8 Ounce Baby Bottle, Very Hungry\": {\"frequency\": 38, \"value\": \"Mimijumi 8 Ounce ...\"}, \"Britax 2 Pack EZ-Cling Sun Shades, Black\": {\"frequency\": 173, \"value\": \"Britax 2 Pack EZ- ...\"}, \"Evenflo Tribute Sport Convertible Car Seat, Daisy Doodle\": {\"frequency\": 33, \"value\": \"Evenflo Tribute ...\"}, \"make my day Silicone Baby Bib, Purple\": {\"frequency\": 30, \"value\": \"make my day ...\"}, \"Britax Roundabout 55 Convertible Car Seat (Previous Version), Onyx\": {\"frequency\": 36, \"value\": \"Britax Roundabout ...\"}, \"Evenflo Big Kid Booster Car Seat - Mercury\": {\"frequency\": 18, \"value\": \"Evenflo Big Kid ...\"}, \"Boppy Bare Naked Pillow\": {\"frequency\": 47, \"value\": \"Boppy Bare Naked ...\"}, \"&quot;A Little Pillow Company&quot; Hypoallergenic TODDLER PILLOW in White - 13&quot;x18&quot; (Ages 2 - 4)\": {\"frequency\": 32, \"value\": \"&quot;A Little ...\"}, \"Joovy Spoon Walker, Greenie\": {\"frequency\": 34, \"value\": \"Joovy Spoon ...\"}, \"Happi Tummi Removable Waistband - Blue\": {\"frequency\": 42, \"value\": \"Happi Tummi ...\"}, \"Mam Nipples Slow Flow, 0+ months, 2 pack\": {\"frequency\": 27, \"value\": \"Mam Nipples Slow ...\"}, \"Exergen Temporal Artery Thermometer MODEL# TAT-2000C\": {\"frequency\": 148, \"value\": \"Exergen Temporal ...\"}, \"Safety Leash for Pedometer - 6 units. Help Prevent Pedometor loss\": {\"frequency\": 33, \"value\": \"Safety Leash for ...\"}, \"Maxi Cosi Pria 70 Convertible Car Seat, Sweet Cerise\": {\"frequency\": 36, \"value\": \"Maxi Cosi Pria 70 ...\"}, \"NUK Ultra Thin Breast Pads, Pack of 2, White, 120-Count\": {\"frequency\": 39, \"value\": \"NUK Ultra Thin ...\"}, \"KidCo Baby Steps Food Mill, with Carrying Case , 1 food mill\": {\"frequency\": 19, \"value\": \"KidCo Baby Steps ...\"}, \"Eddie Bauer Velboa Play Yard Sheet, Ecru\": {\"frequency\": 23, \"value\": \"Eddie Bauer Velboa ...\"}, \"Spasilk 100% Cotton Hooded Terry Bath Towel with 4 Washcloths, Beige\": {\"frequency\": 26, \"value\": \"Spasilk 100% ...\"}, \"BRICA Baby In-Sight Magical Firefly Auto Mirror for in Car Safety\": {\"frequency\": 27, \"value\": \"BRICA Baby In- ...\"}, \"Sunshine Kids Stroller Accessory Buggy Buddy\": {\"frequency\": 152, \"value\": \"Sunshine Kids ...\"}, \"Vulli So'Pure Teether, Sophie the Giraffe\": {\"frequency\": 44, \"value\": \"Vulli So'Pure ...\"}, \"Noodlehead Travel Buddies Neck Pillow - Dog\": {\"frequency\": 26, \"value\": \"Noodlehead Travel ...\"}, \"Pearhead Babyprints Desk Frame, Mahogany\": {\"frequency\": 24, \"value\": \"Pearhead ...\"}, \"Philips AVENT BPA Free Classic Bottle Sealing Discs\": {\"frequency\": 23, \"value\": \"Philips AVENT BPA ...\"}, \"Evenflo Summit Easy Walk-Thru Gate\": {\"frequency\": 38, \"value\": \"Evenflo Summit ...\"}, \"BabyComfyNose Nasal Aspirator (Blue)\": {\"frequency\": 96, \"value\": \"BabyComfyNose ...\"}, \"Medela Quick Clean Breastpump &amp; Accessory Wipes\": {\"frequency\": 23, \"value\": \"Medela Quick Clean ...\"}, \"Gerber Plastic Pants, 18 Months, Fits 24-28 lbs. (4 pairs)\": {\"frequency\": 29, \"value\": \"Gerber Plastic ...\"}, \"Dr. Brown's Standard Dishwashing Basket, Polypropylene\": {\"frequency\": 22, \"value\": \"Dr. Brown's ...\"}, \"Dream On Me Classic 2 in 1 Convertible Stationary Side Crib, Cherry\": {\"frequency\": 38, \"value\": \"Dream On Me ...\"}, \"DaVinci Kalani 4-in-1 Convertible Crib with Toddler Rail, Cherry\": {\"frequency\": 116, \"value\": \"DaVinci Kalani ...\"}, \"Fisher-Price Rainforest Melodies and Lights Deluxe Gym\": {\"frequency\": 232, \"value\": \"Fisher-Price ...\"}, \"Constructive Eating 3 Piece Construction Worksite Utensil Set\": {\"frequency\": 37, \"value\": \"Constructive ...\"}, \"Piyo Piyo Yellow Baby Nail Scissors\": {\"frequency\": 102, \"value\": \"Piyo Piyo Yellow ...\"}, \"North States Supergate Easy Close Metal Gate, White\": {\"frequency\": 171, \"value\": \"North States ...\"}, \"Peace of Mind Two 900 Mhz Baby Receivers, Monitor\": {\"frequency\": 32, \"value\": \"Peace of Mind Two ...\"}, \"Disney Inflatable Bathtub, Pixar Cars\": {\"frequency\": 34, \"value\": \"Disney Inflatable ...\"}, \"Baby Einstein Baby Neptune Ocean Orchestra Musical Toy\": {\"frequency\": 20, \"value\": \"Baby Einstein Baby ...\"}, \"Sassy Go Go Bugs, Styles May Vary\": {\"frequency\": 24, \"value\": \"Sassy Go Go Bugs, ...\"}, \"Graco SimpleSwitch Highchair and Booster, Pasadena\": {\"frequency\": 56, \"value\": \"Graco SimpleSwitch ...\"}, \"aden + anais Rayon from Bamboo Swaddle Blanket 3 Pack, Earthly\": {\"frequency\": 98, \"value\": \"aden + anais Rayon ...\"}, \"Graco Nautilus 3-in-1 Car Seat, Matrix\": {\"frequency\": 419, \"value\": \"Graco Nautilus ...\"}, \"Carters Easy Fit Sateen Crib Fitted Sheet, Ecru\": {\"frequency\": 31, \"value\": \"Carters Easy Fit ...\"}, \"Philips AVENT Comfort Breast Shell Set, 2-Pack\": {\"frequency\": 34, \"value\": \"Philips AVENT ...\"}, \"KidCo Safeway Safety Gate, White\": {\"frequency\": 24, \"value\": \"KidCo Safeway ...\"}, \"TL Care Organic Cotton Nursing Pads, Natural, 6 Count\": {\"frequency\": 134, \"value\": \"TL Care Organic ...\"}, \"Dr. Brown's Natural Flow Wide Neck Newborn Feeding Set\": {\"frequency\": 23, \"value\": \"Dr. Brown's ...\"}, \"Sassy Baby Disposable Diaper Sacks, 200-Count\": {\"frequency\": 98, \"value\": \"Sassy Baby ...\"}, \"Hudson Baby 2 Count Muslin Swaddle Blanket, Blue\": {\"frequency\": 28, \"value\": \"Hudson Baby 2 ...\"}, \"Stork Craft Beatrice 4 Drawer Chest, White\": {\"frequency\": 30, \"value\": \"Stork Craft ...\"}, \"Leachco Back 'N Belly Contoured Body Pillow, Ivory\": {\"frequency\": 283, \"value\": \"Leachco Back 'N ...\"}, \"Baby Vac Nasal Aspirator 2012 Model\": {\"frequency\": 31, \"value\": \"Baby Vac Nasal ...\"}, \"green sprouts 10 Pack Waterproof Absorbent Terry Bibs, Girls\": {\"frequency\": 60, \"value\": \"green sprouts 10 ...\"}, \"Bright Starts Comfort and Harmony Portable Swing, Florabella\": {\"frequency\": 57, \"value\": \"Bright Starts ...\"}, \"Wonderworld Peek-a-boo Ball\": {\"frequency\": 19, \"value\": \"Wonderworld Peek- ...\"}, \"Tiny Love Follow Me Activity Toy, Fred\": {\"frequency\": 39, \"value\": \"Tiny Love Follow ...\"}, \"phil&amp;teds Lobster Highchair, Red\": {\"frequency\": 31, \"value\": \"phil&amp;teds ...\"}, \"Medela Contact Nipple Shield, Small\": {\"frequency\": 20, \"value\": \"Medela Contact ...\"}, \"BOB Sport Utility Single Stroller, Blue\": {\"frequency\": 20, \"value\": \"BOB Sport Utility ...\"}, \"Thirsties Duo All in One Snap, Blackbird, Size One (6-18 lbs)\": {\"frequency\": 27, \"value\": \"Thirsties Duo All ...\"}, \"Munchkin Gone Fishin' Bath Toy\": {\"frequency\": 26, \"value\": \"Munchkin Gone ...\"}, \"Munchkin Caterpillar Spillers Stacking Cups\": {\"frequency\": 27, \"value\": \"Munchkin ...\"}, \"Trumpette Howdy Bouncy Rubber Cow, White\": {\"frequency\": 27, \"value\": \"Trumpette Howdy ...\"}, \"Born Free 5 oz. BPA-Free High-Heat Resistant Classic Bottle with ActiveFlow Venting Technology, 3-Pack\": {\"frequency\": 22, \"value\": \"Born Free 5 oz. ...\"}, \"Cosco High Back Booster, Ava\": {\"frequency\": 19, \"value\": \"Cosco High Back ...\"}, \"The First Years Wave Stroller, Crimson Red\": {\"frequency\": 23, \"value\": \"The First Years ...\"}, \"Leachco Snoogle Mini Compact Side Sleeper, Sage/White dot\": {\"frequency\": 55, \"value\": \"Leachco Snoogle ...\"}, \"Skip Hop Pronto Changer Diaper Bag, Black\": {\"frequency\": 32, \"value\": \"Skip Hop Pronto ...\"}, \"Chicco KeyFit 30 Infant Car Seat, Midori\": {\"frequency\": 117, \"value\": \"Chicco KeyFit 30 ...\"}, \"Little Green Pouch - Reusable Food Pouch - 4pk\": {\"frequency\": 130, \"value\": \"Little Green Pouch ...\"}, \"Munchkin Mozart Magic Cube\": {\"frequency\": 191, \"value\": \"Munchkin Mozart ...\"}, \"Fisher-Price Precious Planet  Blue Sky Jumperoo\": {\"frequency\": 37, \"value\": \"Fisher-Price ...\"}, \"Carters Wrap Me Up Receiving Blanket, 4 Pack, Green\": {\"frequency\": 31, \"value\": \"Carters Wrap Me Up ...\"}, \"BRICA Stretch-to-Fit Window Shade\": {\"frequency\": 47, \"value\": \"BRICA Stretch-to- ...\"}, \"Joovy Caboose Ultralight Stand On Tandem Stroller, Black\": {\"frequency\": 44, \"value\": \"Joovy Caboose ...\"}, \"Saddle Style Soaker Mattress Pad - Will Absorb 6 Cups of Liquid - Made in America (34&quot; X 36&quot;)\": {\"frequency\": 27, \"value\": \"Saddle Style ...\"}, \"Merino Kids Baby Sleep Sack For Babies 0-2 Years, Banbury\": {\"frequency\": 20, \"value\": \"Merino Kids Baby ...\"}, \"HALO Big Kids SleepSack Lightweight Knit Wearable Blanket, Pink, 2-3T\": {\"frequency\": 19, \"value\": \"HALO Big Kids ...\"}, \"Carters Keep Me Dry Flannel Lap Pads, Ecru, 3 Pack\": {\"frequency\": 63, \"value\": \"Carters Keep Me ...\"}, \"North States Supergate Expandable Swing Gate\": {\"frequency\": 25, \"value\": \"North States ...\"}, \"My Brest Friend Inflatable Travel Nursing Pillow in Green Paisley\": {\"frequency\": 21, \"value\": \"My Brest Friend ...\"}, \"Munchkin Lazy Buoys Bathtub Toys\": {\"frequency\": 21, \"value\": \"Munchkin Lazy ...\"}, \"Nuby Paci Cradle Pacifier Box, Colors may vary\": {\"frequency\": 24, \"value\": \"Nuby Paci Cradle ...\"}, \"Roving Cove 16-PIECE EXTRA DENSE Safe Corner Cushion - Value Pack - Oyster; Premium Childproofing Corner Guard - Child Safety Home Safety Furniture and Table Edge Corner Protectors\": {\"frequency\": 22, \"value\": \"Roving Cove ...\"}, \"Tadpoles 36 Sq Ft ABC Floor Mat, Pink/Brown\": {\"frequency\": 35, \"value\": \"Tadpoles 36 Sq Ft ...\"}, \"EZ Squeezees Refillable Food Pouches,sold in pack of 3. 3 pouches each\": {\"frequency\": 20, \"value\": \"EZ Squeezees ...\"}, \"Munchkin 4 Pack Re-Usable Twist Tight Spill Proof Cup, 10 Ounce, Colors May Vary\": {\"frequency\": 23, \"value\": \"Munchkin 4 Pack ...\"}, \"Avent Isis Manual Breast Pump\": {\"frequency\": 112, \"value\": \"Avent Isis Manual ...\"}, \"Philips AVENT Digital Video Baby Monitor\": {\"frequency\": 27, \"value\": \"Philips AVENT ...\"}, \"BABYBJORN Baby Carrier Original, Blue Retro\": {\"frequency\": 25, \"value\": \"BABYBJORN Baby ...\"}, \"Puj Flyte - Compact Infant Bath (White)\": {\"frequency\": 25, \"value\": \"Puj Flyte - ...\"}, \"Boon Fluid -No-Spill Toddler Cup in Orange/Blue\": {\"frequency\": 27, \"value\": \"Boon Fluid -No- ...\"}, \"bumGenius Diaper Sprayer\": {\"frequency\": 35, \"value\": \"bumGenius Diaper ...\"}, \"Britax Second Seat for B-Ready Stroller, Red\": {\"frequency\": 18, \"value\": \"Britax Second Seat ...\"}, \"Basic Comfort Contoured Changing Pad by Summer Infant\": {\"frequency\": 20, \"value\": \"Basic Comfort ...\"}, \"Nuby Silicone Teether with Bristles, Colors May Vary\": {\"frequency\": 38, \"value\": \"Nuby Silicone ...\"}, \"The Art of CureTM *SAFETY KNOTTED* Raw Butterscotch - Certified Baltic Amber Baby Teething Necklace - w/The Art of Cure Jewelry Pouch (SHIPS AND SOLD IN USA)\": {\"frequency\": 23, \"value\": \"The Art of CureTM ...\"}, \"Itzy Ritzy Snack HappensSnack Mini Reusable Snack Bag, Social Circle Pink, 2-Count\": {\"frequency\": 41, \"value\": \"Itzy Ritzy Snack ...\"}, \"North States Superyard Play Yard, Grey, 6 Panel\": {\"frequency\": 281, \"value\": \"North States ...\"}, \"Dr. Brown's Formula Mixing Pitcher\": {\"frequency\": 149, \"value\": \"Dr. Brown's ...\"}, \"Trend Lab Dr. Seuss Wall Clock, ABC\": {\"frequency\": 19, \"value\": \"Trend Lab Dr. ...\"}, \"BRICA Seat Guardian Car Seat Protector\": {\"frequency\": 42, \"value\": \"BRICA Seat ...\"}, \"Baby Einstein Music and Discovery Travel Mirror\": {\"frequency\": 18, \"value\": \"Baby Einstein ...\"}, \"Cloud b Tranquil Turtle Night Light, Ocean\": {\"frequency\": 20, \"value\": \"Cloud b Tranquil ...\"}, \"3 Sprouts Laundry Hamper, Deer\": {\"frequency\": 29, \"value\": \"3 Sprouts Laundry ...\"}, \"Evenflo Compact Fold High Chair, Marianna\": {\"frequency\": 31, \"value\": \"Evenflo Compact ...\"}, \"Kiddopotamus Snuzzler Complete Head and Body Support, Ivory Fleece &amp; Navy Trim\": {\"frequency\": 19, \"value\": \"Kiddopotamus ...\"}, \"Baby Buddy Natural Bath Sponge, Natural\": {\"frequency\": 19, \"value\": \"Baby Buddy Natural ...\"}, \"Kanga Care Wet Bag, Crimson\": {\"frequency\": 35, \"value\": \"Kanga Care Wet ...\"}, \"The HERO Pocket Cloth Diaper (English Periwinkle) by Coqu&iacute; Baby\": {\"frequency\": 18, \"value\": \"The HERO Pocket ...\"}, \"Infantino Cloud Cart Cover, Numbers\": {\"frequency\": 25, \"value\": \"Infantino Cloud ...\"}, \"Munchkin Baby Bath Ball, Colors May Vary\": {\"frequency\": 22, \"value\": \"Munchkin Baby Bath ...\"}, \"My Brest Friend Deluxe Pillow, Light Green\": {\"frequency\": 38, \"value\": \"My Brest Friend ...\"}, \"Comotomo Silicone Baby Teether, Blue\": {\"frequency\": 54, \"value\": \"Comotomo Silicone ...\"}, \"Mommys Helper Safe Plate Electrical Outlet Covers Standard, White\": {\"frequency\": 46, \"value\": \"Mommys Helper Safe ...\"}, \"Sassy Developmental Bath Toy, Catch and Count Net\": {\"frequency\": 29, \"value\": \"Sassy ...\"}, \"Summer Infant Multi-Use Deco Extra Tall Walk-Thru Gate, Bronze\": {\"frequency\": 219, \"value\": \"Summer Infant ...\"}, \"Multi-Purpose Reversible (Bright Colors or Neutral Charcoal) Foam Floor Mats (BIG Tiles 25&quot; x 25&quot; x .53&quot;!!!), Anti-fatigue Mat, for Business, Home, Basement, Workshop, Kitchen, Children's Rooms (Child Safe), Pool Area, Gym and Exercise, Gardens, Garage, Laundry Rooms, Etc.\": {\"frequency\": 19, \"value\": \"Multi-Purpose ...\"}, \"Edushape Edu-Tiles 36 Piece 6x6ft Play Mat, Letters &amp; Numbers Set\": {\"frequency\": 21, \"value\": \"Edushape Edu-Tiles ...\"}, \"Prince Lionheart Faucet Extender, Gumball Green\": {\"frequency\": 31, \"value\": \"Prince Lionheart ...\"}, \"CHILL BABY Mustache Pacifier\": {\"frequency\": 34, \"value\": \"CHILL BABY ...\"}, \"Graco SnugRide Classic Connect 30/35 Infant Car Seat Base, Tan\": {\"frequency\": 42, \"value\": \"Graco SnugRide ...\"}, \"GumDrop Pacifier Full-Term Natural Scent Pink 5 Pack\": {\"frequency\": 28, \"value\": \"GumDrop Pacifier ...\"}, \"OXO Tot Sippy Cup with Bonus Training Lid Set, Green, 7 Ounce\": {\"frequency\": 18, \"value\": \"OXO Tot Sippy Cup ...\"}, \"Naturepedic Waterproof Fitted Crib Pad, 28x52\": {\"frequency\": 19, \"value\": \"Naturepedic ...\"}, \"Bean B Clean Baby Scalp Massaging Brush for Cradle Cap\": {\"frequency\": 28, \"value\": \"Bean B Clean Baby ...\"}, \"Safety 1st Go Hybrid Convertible Booster, Waterloo\": {\"frequency\": 20, \"value\": \"Safety 1st Go ...\"}, \"We Sell Mats Anti-Fatigue 6 Piece Interlocking EVA Foam Flooring Set\": {\"frequency\": 25, \"value\": \"We Sell Mats Anti- ...\"}, \"Skip Hop Wall Decals, Treetop Friends\": {\"frequency\": 18, \"value\": \"Skip Hop Wall ...\"}, \"Britax Parkway SGL Booster Seat, Cardinal\": {\"frequency\": 62, \"value\": \"Britax Parkway SGL ...\"}, \"Wimmer-Ferguson Infant Stim-Mobile\": {\"frequency\": 81, \"value\": \"Wimmer-Ferguson ...\"}, \"EvenFlo SmartSteps Exersaucer Entertainer\": {\"frequency\": 38, \"value\": \"EvenFlo SmartSteps ...\"}, \"Badger Basket Elegance Round Baby Bassinet, White with Ecru Waffle\": {\"frequency\": 21, \"value\": \"Badger Basket ...\"}, \"The Original Tummy Tub Baby Bath - Clear\": {\"frequency\": 23, \"value\": \"The Original Tummy ...\"}, \"Fisher-Price Kick and Play Piano Gym, Discover 'N Grow\": {\"frequency\": 184, \"value\": \"Fisher-Price Kick ...\"}, \"Trend Lab Storage Caddy, Ultrasuede Brown/Pink\": {\"frequency\": 36, \"value\": \"Trend Lab Storage ...\"}, \"Comotomo Baby Bottle, Green/Pink, 5 Ounce, 2-Count\": {\"frequency\": 47, \"value\": \"Comotomo Baby ...\"}, \"Carters Quilted Woven Playard Fitted Sheet, Animal\": {\"frequency\": 31, \"value\": \"Carters Quilted ...\"}, \"Skip Hop Zoo Pack Little Kid Backpack, Dog\": {\"frequency\": 286, \"value\": \"Skip Hop Zoo Pack ...\"}, \"Sunshine Kids Dry Seat Pad, Grey\": {\"frequency\": 28, \"value\": \"Sunshine Kids Dry ...\"}, \"Badger Basket Three Basket Set, Pink\": {\"frequency\": 24, \"value\": \"Badger Basket ...\"}, \"aden + anais 3 Pack Muslin Snap Bib, Jungle Jam\": {\"frequency\": 54, \"value\": \"aden + anais 3 ...\"}, \"CTA Digital 2-in-1 iPotty with Activity Seat for iPad\": {\"frequency\": 57, \"value\": \"CTA Digital 2-in-1 ...\"}, \"BABYBJORN Toilet Trainer - White/Red\": {\"frequency\": 139, \"value\": \"BABYBJORN Toilet ...\"}, \"Safety 1st Sound 'n Lights Activity Walker\": {\"frequency\": 21, \"value\": \"Safety 1st Sound ...\"}, \"EZ-Freeze Cereal on the Go (Colors May Vary)\": {\"frequency\": 27, \"value\": \"EZ-Freeze Cereal ...\"}, \"Carter's Bound Keepsake Memory Book of Baby's First 5 Years, Laguna\": {\"frequency\": 38, \"value\": \"Carter's Bound ...\"}, \"Luvable Friends 4-Pack Flannel Receiving Blankets, Blue\": {\"frequency\": 44, \"value\": \"Luvable Friends ...\"}, \"BABYBJORN Baby Carrier Original, Black, Cotton\": {\"frequency\": 179, \"value\": \"BABYBJORN Baby ...\"}, \"Maxboost Fusion Snap-on iPhone 5S/5 Case - Navy Blue (Fit Fusion Battery Case for iPhone 5S/5)\": {\"frequency\": 37, \"value\": \"Maxboost Fusion ...\"}, \"Levana Oma+ Clip-On Portable Baby Movement Monitor with Vibration Alert and Audible Alarm, White/Purple\": {\"frequency\": 22, \"value\": \"Levana Oma+ Clip- ...\"}, \"Graco Tot Wheels V Mobile Entertainer Center\": {\"frequency\": 29, \"value\": \"Graco Tot Wheels V ...\"}, \"Infantino Twist and Fold Activity Gym, Vintage Boy\": {\"frequency\": 77, \"value\": \"Infantino Twist ...\"}, \"Munchkin Feeding Set, 15 Pack\": {\"frequency\": 36, \"value\": \"Munchkin Feeding ...\"}, \"Plug 'N Outlet Cover\": {\"frequency\": 19, \"value\": \"Plug 'N Outlet ...\"}, \"Hudson Baby Organic Receiving Blanket, Pink\": {\"frequency\": 20, \"value\": \"Hudson Baby ...\"}, \"Dream On Me 3&quot; Foam Playard Mattress, White\": {\"frequency\": 21, \"value\": \"Dream On Me ...\"}, \"Ameda Purely Yours Breast Pump\": {\"frequency\": 68, \"value\": \"Ameda Purely Yours ...\"}, \"Munchkin Twisty Figure 8 Teether\": {\"frequency\": 42, \"value\": \"Munchkin Twisty ...\"}, \"Britax Advocate 70 CS Click &amp; Safe Convertible Car Seat (Previous Version), Onyx\": {\"frequency\": 34, \"value\": \"Britax Advocate 70 ...\"}, \"Munchkin Travel Bottle Warmer, Gray\": {\"frequency\": 26, \"value\": \"Munchkin Travel ...\"}, \"Beaba Babycook Baby Food Maker\": {\"frequency\": 71, \"value\": \"Beaba Babycook ...\"}, \"Sassy Soft Sided Toy Organizer\": {\"frequency\": 24, \"value\": \"Sassy Soft Sided ...\"}, \"BABYBJORN Comfort Carrier - Gray, Organic\": {\"frequency\": 24, \"value\": \"BABYBJORN Comfort ...\"}, \"Luvable Friends Geometric Print Fitted Knit Crib Sheet, Blue\": {\"frequency\": 20, \"value\": \"Luvable Friends ...\"}, \"Dundee Burp Cloths/Diapers - White\": {\"frequency\": 26, \"value\": \"Dundee Burp ...\"}, \"GumDrop Pacifier Full-Term Natural Scent Blue 5 Pack\": {\"frequency\": 22, \"value\": \"GumDrop Pacifier ...\"}, \"Fisher-Price Deluxe Bouncer, My Little Snugabunny\": {\"frequency\": 112, \"value\": \"Fisher-Price ...\"}, \"Dreambaby Retractable Gate, White\": {\"frequency\": 31, \"value\": \"Dreambaby ...\"}, \"Baby Einstein Count and Compose Piano\": {\"frequency\": 48, \"value\": \"Baby Einstein ...\"}, \"Dr. Sears Nibble Tray, Yellow/Green, 12 Months\": {\"frequency\": 21, \"value\": \"Dr. Sears Nibble ...\"}, \"NUK Disney Winnie the Pooh 5 Ounces Learner Cup Silicone Spout, 6+ Months\": {\"frequency\": 24, \"value\": \"NUK Disney Winnie ...\"}, \"Britax 2012 B-Agile Stroller, Red\": {\"frequency\": 81, \"value\": \"Britax 2012 ...\"}, \"Kids Preferred The World of Eric Carle The Very Hungry Caterpillar Toy, Wood Pull\": {\"frequency\": 19, \"value\": \"Kids Preferred The ...\"}, \"HALO SleepSack Micro Fleece Wearable Blanket, Print Boy, Small\": {\"frequency\": 36, \"value\": \"HALO SleepSack ...\"}, \"Bright Starts Bounce Bounce Baby Activity Zone\": {\"frequency\": 46, \"value\": \"Bright Starts ...\"}, \"Moby Wrap Original 100% Cotton Baby Carrier, Red\": {\"frequency\": 200, \"value\": \"Moby Wrap Original ...\"}, \"Lansinoh Manual Breast Pump\": {\"frequency\": 58, \"value\": \"Lansinoh Manual ...\"}, \"Gerber Graduates BPA Free 2 Pack Fun Grips spill Proof Cup, 10 Ounce, Colors May Vary\": {\"frequency\": 45, \"value\": \"Gerber Graduates ...\"}, \"The First Years Jet Stroller, Red/Black\": {\"frequency\": 284, \"value\": \"The First Years ...\"}, \"Dr. Brown's Natural Flow Newborn Feeding Set\": {\"frequency\": 29, \"value\": \"Dr. Brown's ...\"}, \"Lamaze High-Contrast Discovery Shapes Activity Puzzle &amp; Crib Gallery\": {\"frequency\": 29, \"value\": \"Lamaze High- ...\"}, \"Evenflo Position and Lock Wood Gate, Tan\": {\"frequency\": 18, \"value\": \"Evenflo Position ...\"}, \"Britax Marathon 70-G3 Convertible Car Seat, Onyx\": {\"frequency\": 174, \"value\": \"Britax Marathon ...\"}, \"Summer Infant Tiny Diner for Highchairs, Blue\": {\"frequency\": 46, \"value\": \"Summer Infant Tiny ...\"}, \"Moby Wrap UV SPF 50+ 100% Cotton Baby Carrier, Sand\": {\"frequency\": 35, \"value\": \"Moby Wrap UV SPF ...\"}, \"Munchkin 36 Bath Letters and Numbers\": {\"frequency\": 51, \"value\": \"Munchkin 36 Bath ...\"}, \"Lorex BB2411 2.4&quot; Sweet Peek Video Baby Monitor with IR Night Vision and Zoom, White\": {\"frequency\": 29, \"value\": \"Lorex BB2411 ...\"}, \"Zo-li Buzz B. Baby Nail Trimmer\": {\"frequency\": 35, \"value\": \"Zo-li Buzz B. Baby ...\"}, \"Proudbody Deluxe Pregnancy Belly Cast Kit\": {\"frequency\": 22, \"value\": \"Proudbody Deluxe ...\"}, \"Mommy's Helper Car Seat Sun Shade\": {\"frequency\": 45, \"value\": \"Mommy's Helper Car ...\"}, \"The First Years Lanolin Free Nipple Butter, 2 Ounce\": {\"frequency\": 18, \"value\": \"The First Years ...\"}, \"Exergen Temporal Artery Thermometer\": {\"frequency\": 33, \"value\": \"Exergen Temporal ...\"}, \"The First Years Massaging Action Teether\": {\"frequency\": 39, \"value\": \"The First Years ...\"}, \"Skip Hop 20 Piece 70&quot;x56&quot; PlaySpot Floor Mat, Blue/Gold\": {\"frequency\": 39, \"value\": \"Skip Hop 20 Piece ...\"}, \"Prince Lionheart Fireplace Guard with Two Corners\": {\"frequency\": 20, \"value\": \"Prince Lionheart ...\"}, \"Baby Einstein Bendy Ball\": {\"frequency\": 159, \"value\": \"Baby Einstein ...\"}, \"The First Years Ignite Stroller\": {\"frequency\": 218, \"value\": \"The First Years ...\"}, \"Medela Value Pack Bpa-free Feeding Gift Set : New Wide Base Nipple\": {\"frequency\": 22, \"value\": \"Medela Value Pack ...\"}, \"Infantino Sash Mei Tai Carrier Black/Gray\": {\"frequency\": 66, \"value\": \"Infantino Sash Mei ...\"}, \"Joovy Kooper Umbrella Stroller, Yellow\": {\"frequency\": 26, \"value\": \"Joovy Kooper ...\"}, \"Munchkin Diaper Duty Organizer, Colors May Vary\": {\"frequency\": 22, \"value\": \"Munchkin Diaper ...\"}, \"UPPAbaby G-Luxe Stroller, Black Jake\": {\"frequency\": 25, \"value\": \"UPPAbaby G-Luxe ...\"}, \"Planet Wise Reusable Diaper Pail Liner, Avocado\": {\"frequency\": 104, \"value\": \"Planet Wise ...\"}, \"Fisher-Price Space Saver Swing and Seat, Discover'N Grow\": {\"frequency\": 57, \"value\": \"Fisher-Price Space ...\"}, \"Baby Care Play Mat - Pingko Friends (Large)\": {\"frequency\": 87, \"value\": \"Baby Care Play Mat ...\"}, \"American Baby Company Jersey Knit Crib Sheet, Lavender\": {\"frequency\": 55, \"value\": \"American Baby ...\"}, \"Graco Pack 'N Play Playard with Bassinet in Rise and Shine\": {\"frequency\": 199, \"value\": \"Graco Pack 'N Play ...\"}, \"dexbaby Safe Sleeper Convertible Crib Bed Rail, White\": {\"frequency\": 63, \"value\": \"dexbaby Safe ...\"}, \"Graco Pack 'n Play Element Playard, Metropolis\": {\"frequency\": 26, \"value\": \"Graco Pack 'n Play ...\"}, \"Medela Breast Pump Accessory Set\": {\"frequency\": 30, \"value\": \"Medela Breast Pump ...\"}, \"Graco Contempo Highchair, Forecaster\": {\"frequency\": 26, \"value\": \"Graco Contempo ...\"}, \"American Baby Company Heavenly Soft Chenille Fitted Contoured Changing Pad Cover,Ecru\": {\"frequency\": 24, \"value\": \"American Baby ...\"}, \"Prince Lionheart 2 Count Faucet Extender, Gray/Pink\": {\"frequency\": 26, \"value\": \"Prince Lionheart 2 ...\"}, \"Vulli Chan Pie Gnon Natural Rubber Teether - Blue Chan\": {\"frequency\": 71, \"value\": \"Vulli Chan Pie ...\"}, \"Gerber Graduates Kiddy Cutlery 3 Piece Spoon Set\": {\"frequency\": 20, \"value\": \"Gerber Graduates ...\"}, \"Wubbanub Infant Plush Toy Pacifier - Monkey\": {\"frequency\": 85, \"value\": \"Wubbanub Infant ...\"}, \"Evenflo Big Kid DLX Booster Seat - Foxwood\": {\"frequency\": 20, \"value\": \"Evenflo Big Kid ...\"}, \"The First Years On-The-Go Booster Seat, Safari\": {\"frequency\": 18, \"value\": \"The First Years ...\"}, \"Cloud b Twilight Constellation Night Light, Sea Turtle\": {\"frequency\": 138, \"value\": \"Cloud b Twilight ...\"}, \"Dr. Brown's 2 Pack Natural Flow Level 3 Standard Nipple\": {\"frequency\": 23, \"value\": \"Dr. Brown's 2 Pack ...\"}, \"Playtex Embrace Breast Pump System\": {\"frequency\": 22, \"value\": \"Playtex Embrace ...\"}, \"Boppy Pillow with Brocade Slipcover, Black and White\": {\"frequency\": 71, \"value\": \"Boppy Pillow with ...\"}, \"Jolly Jumper Weathershield for Infant Car Seat\": {\"frequency\": 22, \"value\": \"Jolly Jumper ...\"}, \"Nosefrida Baby Nasal Aspirator with 4 filters and 20 Additional Filters\": {\"frequency\": 167, \"value\": \"Nosefrida Baby ...\"}, \"KidCo BabySteps Electric Food Mill - White\": {\"frequency\": 35, \"value\": \"KidCo BabySteps ...\"}, \"Elegant Baby Plush Microfiber Blankie - Pastel Blue\": {\"frequency\": 31, \"value\": \"Elegant Baby Plush ...\"}, \"HALO SleepSack Big Kids Micro-Fleece Wearable Blanket, Red, 2T- 3T\": {\"frequency\": 46, \"value\": \"HALO SleepSack Big ...\"}, \"Gerber Birdseye 10 Count Flatfold Cloth Diapers, White\": {\"frequency\": 45, \"value\": \"Gerber Birdseye 10 ...\"}, \"High Back Full Bucket Toddler Infant Swing Seat - Seat Only, Yellow with SSS logo Sticker\": {\"frequency\": 28, \"value\": \"High Back Full ...\"}, \"Sunshine Kids Ultra Mat - Gray\": {\"frequency\": 23, \"value\": \"Sunshine Kids ...\"}, \"Fisher-Price: Kick &amp; Play Bouncer\": {\"frequency\": 29, \"value\": \"Fisher-Price: Kick ...\"}, \"Safety 1st Simple Step Diaper Pail\": {\"frequency\": 55, \"value\": \"Safety 1st Simple ...\"}, \"Diaper Dekor Plus Diaper Disposal System\": {\"frequency\": 126, \"value\": \"Diaper Dekor Plus ...\"}, \"Safety 1st Swing Shut Toilet Lock\": {\"frequency\": 21, \"value\": \"Safety 1st Swing ...\"}, \"Serta Nightstar Extra Firm Crib Mattress\": {\"frequency\": 21, \"value\": \"Serta Nightstar ...\"}, \"South Shore Savannah Collection Changing Table, Pure White\": {\"frequency\": 61, \"value\": \"South Shore ...\"}, \"Safety 1st Deluxe 4-in-1 Bath Station\": {\"frequency\": 154, \"value\": \"Safety 1st Deluxe ...\"}, \"Goodbyn Bynto Food Container, Red\": {\"frequency\": 22, \"value\": \"Goodbyn Bynto Food ...\"}, \"Carters Easy Fit Jersey Bassinet Fitted Sheet, White\": {\"frequency\": 28, \"value\": \"Carters Easy Fit ...\"}, \"Munchkin Click Lock Re-usable Sippy Cups, 10 Ounce, 8-Count\": {\"frequency\": 21, \"value\": \"Munchkin Click ...\"}, \"Similac SimplySmart Starter Set\": {\"frequency\": 19, \"value\": \"Similac ...\"}, \"Kidco Anti-Tip TV Strap - 2 Pack\": {\"frequency\": 20, \"value\": \"Kidco Anti-Tip TV ...\"}, \"The Shrunks Indoor Toddler Inflatable Travel Bed\": {\"frequency\": 93, \"value\": \"The Shrunks Indoor ...\"}, \"Fisher-Price Booster Seat, Blue/Green/Gray\": {\"frequency\": 489, \"value\": \"Fisher-Price ...\"}, \"Edushape 4&quot; Sensory Balls, Set of 4, Solid\": {\"frequency\": 27, \"value\": \"Edushape 4&quot; ...\"}, \"The First Years  Deluxe Fold and Go Diapering Kit, Black/Gray\": {\"frequency\": 22, \"value\": \"The First Years ...\"}, \"Seventh Generation Chlorine Free Baby Wipes Refill 350ct.\": {\"frequency\": 125, \"value\": \"Seventh Generation ...\"}, \"Playtex Insulator/Playtime Cup, 9 Ounce, 2 Pack, Colors May Vary\": {\"frequency\": 39, \"value\": \"Playtex ...\"}, \"Baby Banana Bendable Training Toothbrush, Toddler\": {\"frequency\": 30, \"value\": \"Baby Banana ...\"}, \"Gerber Graduates BPA Free 4 Pack Bunch-A-Bowls with Lids, Colors May Vary\": {\"frequency\": 41, \"value\": \"Gerber Graduates ...\"}, \"Boogie Snatcher: Infant, Baby Nose Cleaning Tweezers. Cleans Your Infants Nose For Better Sleep!\": {\"frequency\": 22, \"value\": \"Boogie Snatcher: ...\"}, \"Graco Sweet Slumber Sound Machine, White\": {\"frequency\": 109, \"value\": \"Graco Sweet ...\"}, \"Tenergy T-1199BE Universal NiMH Battery Charger\": {\"frequency\": 30, \"value\": \"Tenergy T-1199BE ...\"}, \"The First Years Mickey Mouse 4 Piece Feeding Set\": {\"frequency\": 28, \"value\": \"The First Years ...\"}, \"The Art of CureTM *SAFETY KNOTTED* Raw Multicolored- Certified Baltic Amber Baby Teething Necklace - w/The Art of Cure Jewelry Pouch (SHIPS AND SOLD IN THE USA)\": {\"frequency\": 18, \"value\": \"The Art of CureTM ...\"}, \"Kidco Auto Close HearthGate Black Pet Gate\": {\"frequency\": 22, \"value\": \"Kidco Auto Close ...\"}, \"myBaby Soundspa Lullaby Sound Machine and Projector\": {\"frequency\": 89, \"value\": \"myBaby Soundspa ...\"}, \"Munchkin Wood and Steel Designer Gate, Dark Wood/Silver\": {\"frequency\": 37, \"value\": \"Munchkin Wood and ...\"}, \"Boppy Cottony Cute 2-Sided Slipcover, Polka Stripe Green\": {\"frequency\": 23, \"value\": \"Boppy Cottony Cute ...\"}, \"Mommy's Helper Contoured Cushie Step Up\": {\"frequency\": 114, \"value\": \"Mommy's Helper ...\"}, \"Milkscreen: Home Test to Detect Alcohol in Breast Milk 8 Test Strips\": {\"frequency\": 23, \"value\": \"Milkscreen: Home ...\"}, \"Dream On Me Double Twin Stroller, Pink\": {\"frequency\": 21, \"value\": \"Dream On Me Double ...\"}, \"WallStickersUSA Contemporary Wall Sticker Decal, Tree Branches, Leaves, Lovebirds, and Hearts, X-Large\": {\"frequency\": 21, \"value\": \"WallStickersUSA ...\"}, \"The First Years 2 Pack GumDrop Newborn Pacifier, Blue/Green\": {\"frequency\": 20, \"value\": \"The First Years 2 ...\"}, \"Carters Easy Fit Velour Plush Crib Fitted Sheet, Chocolate\": {\"frequency\": 122, \"value\": \"Carters Easy Fit ...\"}, \"DaVinci Sleepwell Twilight 6-Inch Ultra Firm Deluxe Crib Mattress\": {\"frequency\": 19, \"value\": \"DaVinci Sleepwell ...\"}, \"Celebration Candles 1-21 Year Numbered Birthday Candle, Pink\": {\"frequency\": 21, \"value\": \"Celebration ...\"}, \"Kissa's Pail Liner, White\": {\"frequency\": 49, \"value\": \"Kissa's Pail ...\"}, \"Philips AVENT Isis On The Go Set\": {\"frequency\": 63, \"value\": \"Philips AVENT Isis ...\"}, \"The First Years Stack N Count Cups\": {\"frequency\": 42, \"value\": \"The First Years ...\"}, \"Nuby 10 Pack Hangers, Colors May Vary\": {\"frequency\": 20, \"value\": \"Nuby 10 Pack ...\"}, \"Jeep Shopping Cart and High Chair Cover\": {\"frequency\": 20, \"value\": \"Jeep Shopping Cart ...\"}, \"Prince Lionheart Warmies Wipes Warmer\": {\"frequency\": 30, \"value\": \"Prince Lionheart ...\"}, \"Fisher-Price Baby Papasan Infant Seat Nature's Wonder\": {\"frequency\": 23, \"value\": \"Fisher-Price Baby ...\"}, \"The First Years MiSwivel Feeding Seat, Dot to Dot\": {\"frequency\": 19, \"value\": \"The First Years ...\"}, \"Pognae Baby Carrier (Black)\": {\"frequency\": 23, \"value\": \"Pognae Baby ...\"}, \"Lily's Home Starry Night Projector and Sound Shooter. With 6 Lullabies and 4 Nature Sounds. Large LCD Alarm Clock\": {\"frequency\": 31, \"value\": \"Lily's Home Starry ...\"}, \"Susen Safe Shampoo Shower Bathing Protect Soft Cap Hat for Baby Children Kids (Blue)\": {\"frequency\": 61, \"value\": \"Susen Safe Shampoo ...\"}, \"Prince Lionheart Multi-Purpose Toy Hammock\": {\"frequency\": 33, \"value\": \"Prince Lionheart ...\"}, \"Metal Wall Decor Butterfly Sculpture 29x15\": {\"frequency\": 20, \"value\": \"Metal Wall Decor ...\"}, \"Fisher Price - Aquarium Take-along Swing\": {\"frequency\": 32, \"value\": \"Fisher Price - ...\"}, \"ReSqueeze Reusable Food Pouch (4-pack)\": {\"frequency\": 28, \"value\": \"ReSqueeze Reusable ...\"}, \"Summer Infant Best View Handheld Color Video Monitor, Sliver/White\": {\"frequency\": 37, \"value\": \"Summer Infant Best ...\"}, \"GroVia Cloth Wipes, 12 count\": {\"frequency\": 45, \"value\": \"GroVia Cloth ...\"}, \"4Moms 2014 Mamaroo Classic- Classic Black\": {\"frequency\": 50, \"value\": \"4Moms 2014 Mamaroo ...\"}, \"Baby Jogger 2011 City Mini Double Stroller, Black/Black\": {\"frequency\": 20, \"value\": \"Baby Jogger 2011 ...\"}, \"BABYBJORN Smart Potty - Red\": {\"frequency\": 68, \"value\": \"BABYBJORN Smart ...\"}, \"Britax Vehicle Seat Protector\": {\"frequency\": 37, \"value\": \"Britax Vehicle ...\"}, \"Orbelle 3-6T Toddler Bed, Natural\": {\"frequency\": 69, \"value\": \"Orbelle 3-6T ...\"}, \"Dreambaby Pressure Mount Hallway Gate with Extensions, Black\": {\"frequency\": 33, \"value\": \"Dreambaby Pressure ...\"}, \"Safety 1st Prograde Finger Pinch Preventer (Pack of 2)\": {\"frequency\": 27, \"value\": \"Safety 1st ...\"}, \"Infant Optics DXR-5 2.4 GHz Digital Video Baby Monitor with Night Vision\": {\"frequency\": 561, \"value\": \"Infant Optics ...\"}, \"The World of Eric Carle: The Very Hungry Caterpillar Teether Rattle by Kids Preferred\": {\"frequency\": 18, \"value\": \"The World of Eric ...\"}, \"The First Years 3-in-1 Kickin Coaster Seat, Green/Yellow\": {\"frequency\": 20, \"value\": \"The First Years ...\"}, \"Simple Wishes D Lite Hands Free Breastpump Bra, Soft Pink, Large to Plus Size\": {\"frequency\": 53, \"value\": \"Simple Wishes D ...\"}, \"Arms Reach Co-Sleeper brand Mini Co-Sleeper Bassinet - Natural\": {\"frequency\": 24, \"value\": \"Arms Reach Co- ...\"}, \"Safety 1st 2 Pack Custom Fit All Purpose Strap\": {\"frequency\": 95, \"value\": \"Safety 1st 2 Pack ...\"}, \"Dream On Me 3&quot; Portable Crib Mattress\": {\"frequency\": 66, \"value\": \"Dream On Me ...\"}, \"Prince Lionheart Premium Wipe Warmer\": {\"frequency\": 32, \"value\": \"Prince Lionheart ...\"}, \"Baby Jogger City Mini GT Single Stroller, Shadow/Orange\": {\"frequency\": 49, \"value\": \"Baby Jogger City ...\"}, \"OXO Tot Baby Blocks Freezer Storage Containers 2 Ounce, Set 6, Clear\": {\"frequency\": 93, \"value\": \"OXO Tot Baby ...\"}, \"Summer Infant Metal Expansion Gate, 6 Foot Wide Extra Tall Walk-Thru\": {\"frequency\": 22, \"value\": \"Summer Infant ...\"}, \"PottyCover - Disposable toilet seat covers. (6 individually packaged seat covers in each bag.)\": {\"frequency\": 54, \"value\": \"PottyCover - ...\"}, \"Boppy Infant and Toddler Head Support, Grey\": {\"frequency\": 28, \"value\": \"Boppy Infant and ...\"}, \"Playtex Lil' Gripper/Anytime 9 Ounce Straw Cup, 2 Count, Colors May Vary\": {\"frequency\": 23, \"value\": \"Playtex Lil' ...\"}, \"Lilly Gold Sit 'n Stroll 5-in-1 Combination Car Seat/Stroller\": {\"frequency\": 19, \"value\": \"Lilly Gold Sit 'n ...\"}, \"Graco Affix Backless Youth Booster Seat with Latch System, Sailor\": {\"frequency\": 45, \"value\": \"Graco Affix ...\"}, \"Fisher Price Nesting Action Vehicles\": {\"frequency\": 25, \"value\": \"Fisher Price ...\"}, \"Ju-Ju-Be Be Quick Wristlet Bag, Black and Silver\": {\"frequency\": 23, \"value\": \"Ju-Ju-Be Be Quick ...\"}, \"Safety 1st Outlet Cover with Cord Shortener\": {\"frequency\": 21, \"value\": \"Safety 1st Outlet ...\"}, \"Summer Infant Mother's Touch Deluxe Baby Bather, Blue\": {\"frequency\": 18, \"value\": \"Summer Infant ...\"}, \"BABYBJORN BabySitter Wooden Toy\": {\"frequency\": 27, \"value\": \"BABYBJORN ...\"}, \"Safety 1st Adapter and Plug Cover\": {\"frequency\": 18, \"value\": \"Safety 1st Adapter ...\"}, \"The First Years Hands Free Gate Extension\": {\"frequency\": 23, \"value\": \"The First Years ...\"}, \"Eddie Bauer Harness Buddy, Monkey\": {\"frequency\": 25, \"value\": \"Eddie Bauer ...\"}, \"Stork Craft Portofino 4-in-1 Fixed Side Convertible Crib and Changer, Espresso\": {\"frequency\": 55, \"value\": \"Stork Craft ...\"}, \"Fisher-Price Discover 'n Grow Jumperoo\": {\"frequency\": 33, \"value\": \"Fisher-Price ...\"}, \"TYKE TOTER Front Mount Child Bicycle Seat (Age 2-5 yrs., Weight Limit 45 Lbs.)\": {\"frequency\": 26, \"value\": \"TYKE TOTER Front ...\"}, \"Playtex BPA Free VentAire Wide Bottle Newborn Starter Set (Packaging may vary)\": {\"frequency\": 50, \"value\": \"Playtex BPA Free ...\"}, \"Philips Avent Double Electric Comfort Breast Pump\": {\"frequency\": 29, \"value\": \"Philips Avent ...\"}, \"Lamaze Soft Chime Garden Musical Toy\": {\"frequency\": 34, \"value\": \"Lamaze Soft Chime ...\"}, \"Fisher-Price Royal Stepstool Potty, Blue\": {\"frequency\": 20, \"value\": \"Fisher-Price Royal ...\"}, \"Boon Lawn Countertop Drying Rack, Green\": {\"frequency\": 61, \"value\": \"Boon Lawn ...\"}, \"Britax Parkway SG-2 Booster Car Seat, Pewter Dots\": {\"frequency\": 42, \"value\": \"Britax Parkway ...\"}, \"Boppy Prenatal Sleep Wedge\": {\"frequency\": 53, \"value\": \"Boppy Prenatal ...\"}, \"Disney Princess Castle Dreams 2-Piece Sheet Set\": {\"frequency\": 20, \"value\": \"Disney Princess ...\"}, \"Infantino Activity Triangle\": {\"frequency\": 66, \"value\": \"Infantino Activity ...\"}, \"Superyard Colorplay Ultimate Playard\": {\"frequency\": 20, \"value\": \"Superyard ...\"}, \"Lamaze Tug &amp; Play Activity Knot Take Along Toy\": {\"frequency\": 18, \"value\": \"Lamaze Tug &amp; ...\"}, \"Safety 1st Grip N' Twist Door Knob Cover, 4-Count\": {\"frequency\": 23, \"value\": \"Safety 1st Grip N' ...\"}, \"Munchkin Easy-Close Extra Tall and Wide Metal Gate, Dark Grey\": {\"frequency\": 30, \"value\": \"Munchkin Easy- ...\"}, \"NUK Gerber Graduates Rest Easy Spoons, 5-Count\": {\"frequency\": 18, \"value\": \"NUK Gerber ...\"}, \"Britax Boulevard 70 CS Convertible Car Seat, Biscotti\": {\"frequency\": 34, \"value\": \"Britax Boulevard ...\"}, \"aden + anais Muslin Stroller Blanket, Jungle Jive\": {\"frequency\": 21, \"value\": \"aden + anais ...\"}, \"Graco SnugRider Infant Car Seat Stroller Frame\": {\"frequency\": 87, \"value\": \"Graco SnugRider ...\"}, \"Chicco Ct0.6 Capri Lightweight Stroller, Red\": {\"frequency\": 18, \"value\": \"Chicco Ct0.6 Capri ...\"}, \"Under The Nile Green Bean Toy\": {\"frequency\": 18, \"value\": \"Under The Nile ...\"}, \"Evenflo AMP High Back Car Seat Booster, Pink Angles\": {\"frequency\": 82, \"value\": \"Evenflo AMP High ...\"}, \"BabyMoon Pod - For Head Support &amp; Neck Support (Blue)\": {\"frequency\": 38, \"value\": \"BabyMoon Pod - For ...\"}, \"Motorola Digital Video Baby Monitor with 1.5 Inch Color LCD Screen\": {\"frequency\": 23, \"value\": \"Motorola Digital ...\"}, \"Sassy Bathtime Pals Squirt and Float Toys\": {\"frequency\": 93, \"value\": \"Sassy Bathtime ...\"}, \"OsoCozy 6 Pack Prefolds Unbleached Cloth Diapers, Size 1\": {\"frequency\": 72, \"value\": \"OsoCozy 6 Pack ...\"}, \"OXO Tot Roll Up Bib, Aqua\": {\"frequency\": 38, \"value\": \"OXO Tot Roll Up ...\"}, \"BabySmart Cooshee Booster Seat Classicwith Travel Bag, Onyx\": {\"frequency\": 33, \"value\": \"BabySmart Cooshee ...\"}, \"Crown Crafts The Original NoJo BabySling by Dr. Sears in Black Chambray\": {\"frequency\": 29, \"value\": \"Crown Crafts The ...\"}, \"Lamaze Musical Inchworm\": {\"frequency\": 68, \"value\": \"Lamaze Musical ...\"}, \"Munchkin 'White Hot' Duck Bath Toy\": {\"frequency\": 32, \"value\": \"Munchkin 'White ...\"}, \"Britax Boulevard 70 Convertible Car Seat, Silver Birch\": {\"frequency\": 26, \"value\": \"Britax Boulevard ...\"}, \"Stork Craft Tuscany Glider and Ottoman, Cherry/Beige\": {\"frequency\": 66, \"value\": \"Stork Craft ...\"}, \"Britax Decathlon Convertible Car Seat, Tiffany\": {\"frequency\": 20, \"value\": \"Britax Decathlon ...\"}, \"Luvable Friends Flannel Receiving Blankets, Pink, 5 Pack\": {\"frequency\": 29, \"value\": \"Luvable Friends ...\"}, \"Philips AVENT 8 Ounce Natural Glass Bottle, 1-Pack\": {\"frequency\": 23, \"value\": \"Philips AVENT 8 ...\"}, \"Ameda Purely Yours Ultra Breast Pump\": {\"frequency\": 21, \"value\": \"Ameda Purely Yours ...\"}, \"Squooshi Reusable Food Pouch, Small Lion/Bluebird, 2.5 Ounce, 4-Count\": {\"frequency\": 18, \"value\": \"Squooshi Reusable ...\"}, \"Woombie Air Ventilated Baby Swaddle ~ Choose Size/Color (Big Baby 14-19 lbs, Love Print)\": {\"frequency\": 21, \"value\": \"Woombie Air ...\"}, \"Baby Aspen Let The Fin Begin Terry Shark Robe, Blue, 0-9 Months\": {\"frequency\": 24, \"value\": \"Baby Aspen Let The ...\"}, \"Leachco Snoogle Total Body Pillow\": {\"frequency\": 388, \"value\": \"Leachco Snoogle ...\"}, \"Podee Double Pack Feeding System\": {\"frequency\": 39, \"value\": \"Podee Double Pack ...\"}, \"Philips AVENT Disposable Nursing Pads,  100-Count\": {\"frequency\": 22, \"value\": \"Philips AVENT ...\"}, \"Graco SnugRide Classic Connect 30/35 Infant Car Seat Base, Silver\": {\"frequency\": 24, \"value\": \"Graco SnugRide ...\"}, \"HALO SleepSack 100% Cotton Wearable Blanket, Soft Pink, Small\": {\"frequency\": 121, \"value\": \"HALO SleepSack ...\"}, \"KidCo Bath Toy Organizer Storage Basket\": {\"frequency\": 81, \"value\": \"KidCo Bath Toy ...\"}, \"Bright Starts Rattle and Shake Barbell Rattle, Pretty in Pink\": {\"frequency\": 50, \"value\": \"Bright Starts ...\"}, \"JL Childress Crib Mobile Attachment Clamp, White\": {\"frequency\": 25, \"value\": \"JL Childress Crib ...\"}, \"PumpEase Classic Collection hands-free pumping bra - Verry Cherry - M\": {\"frequency\": 86, \"value\": \"PumpEase Classic ...\"}, \"Philips Avent Express Microwave Sterilizer\": {\"frequency\": 67, \"value\": \"Philips Avent ...\"}, \"Summer Infant SwaddleMe Adjustable Infant Wrap, 3-Pack, Mom &amp; Baby\": {\"frequency\": 77, \"value\": \"Summer Infant ...\"}, \"Summer Infant By Your Side Sleeper Portable Bedding\": {\"frequency\": 29, \"value\": \"Summer Infant By ...\"}, \"The First Years 1 Pack Breastflow Bottle, 9 Ounce\": {\"frequency\": 26, \"value\": \"The First Years 1 ...\"}, \"TUPPERWARE Shape O Ball Toy\": {\"frequency\": 29, \"value\": \"TUPPERWARE Shape O ...\"}, \"ERGObaby Original Doll Carrier, Galaxy Grey\": {\"frequency\": 34, \"value\": \"ERGObaby Original ...\"}, \"Thermos FUNtainer Bottle, Disney Cars, 12 Ounce\": {\"frequency\": 21, \"value\": \"Thermos FUNtainer ...\"}, \"Thermos Foogo Leak-Proof Stainless Steel 10-Ounce Food Jar, Pink\": {\"frequency\": 226, \"value\": \"Thermos Foogo ...\"}, \"BOB Infant Car Seat Adapter for Graco Single Strollers\": {\"frequency\": 19, \"value\": \"BOB Infant Car ...\"}, \"Evenflo Single Breast Pump\": {\"frequency\": 25, \"value\": \"Evenflo Single ...\"}, \"Zoli Gummy Sticks Baby Gum Massagers, Green/Orange\": {\"frequency\": 95, \"value\": \"Zoli Gummy Sticks ...\"}, \"Fisher-Price: Flutterbye Dreams Lullabye Birdies Soother\": {\"frequency\": 34, \"value\": \"Fisher-Price: ...\"}, \"Tiny Love Classic Mobile\": {\"frequency\": 38, \"value\": \"Tiny Love Classic ...\"}, \"Athena Nadia 3 in 1 Crib with Toddler Rail, Cherry\": {\"frequency\": 22, \"value\": \"Athena Nadia 3 in ...\"}, \"Graco Lauren Classic Crib, Espresso\": {\"frequency\": 54, \"value\": \"Graco Lauren ...\"}, \"Cardinal Gates Stairway Special Gate, Black\": {\"frequency\": 27, \"value\": \"Cardinal Gates ...\"}, \"Lamaze Early Development Toy, Sir Prance A Lot\": {\"frequency\": 25, \"value\": \"Lamaze Early ...\"}, \"Philips AVENT Soothie Pacifier, 0-3 Months, 2-Pack, Pink/Purple\": {\"frequency\": 128, \"value\": \"Philips AVENT ...\"}, \"Fisher-Price Rainforest Waterfall Peek-a-Boo Soother\": {\"frequency\": 37, \"value\": \"Fisher-Price ...\"}, \"Prince Lionheart 2 Stage Seatsaver, Black\": {\"frequency\": 86, \"value\": \"Prince Lionheart 2 ...\"}, \"Sassy Developmental Sensory Ball Set - Inspires Touch\": {\"frequency\": 28, \"value\": \"Sassy ...\"}, \"Nuby 3-D Snack Keeper, Monster\": {\"frequency\": 40, \"value\": \"Nuby 3-D Snack ...\"}, \"Baby Jogger 2011 City Mini Single Stroller, Black/Black\": {\"frequency\": 24, \"value\": \"Baby Jogger 2011 ...\"}, \"Britax Stroller Organizer, Black\": {\"frequency\": 97, \"value\": \"Britax Stroller ...\"}, \"Skip Hop Zoo Straw Bottle, Ladybug, 12 Ounce\": {\"frequency\": 59, \"value\": \"Skip Hop Zoo Straw ...\"}, \"Dreambaby Super Toy Hammock and Toy Chain\": {\"frequency\": 33, \"value\": \"Dreambaby Super ...\"}, \"The First Years Clean Air Diaper Disposal System\": {\"frequency\": 29, \"value\": \"The First Years ...\"}, \"Keekaroo Height Right High Chair, Infant Insert and Tray Combo, Natural/Cherry\": {\"frequency\": 31, \"value\": \"Keekaroo Height ...\"}, \"Evenflo SimpleStep Pressure Gate Taupe\": {\"frequency\": 28, \"value\": \"Evenflo SimpleStep ...\"}, \"Skip Hop Dunks Stacking Bath Toy, Blue, Green, Yellow\": {\"frequency\": 23, \"value\": \"Skip Hop Dunks ...\"}, \"Boon Squirt Baby Food Dispensing Spoon in Pink\": {\"frequency\": 34, \"value\": \"Boon Squirt Baby ...\"}, \"Fisher-Price Space Saver High Chair, Pink\": {\"frequency\": 79, \"value\": \"Fisher-Price Space ...\"}, \"Graco DuoGlider Classic Connect Stroller, Dragonfly\": {\"frequency\": 30, \"value\": \"Graco DuoGlider ...\"}, \"Leachco Bath 'N Bumper - Cushioned Bath Tub - Blue Fish\": {\"frequency\": 20, \"value\": \"Leachco Bath 'N ...\"}, \"Summer Infant Duomat\": {\"frequency\": 19, \"value\": \"Summer Infant ...\"}, \"Evenflo 6 Pack Classic Glass Bottle, 4-Ounce\": {\"frequency\": 28, \"value\": \"Evenflo 6 Pack ...\"}, \"Evenflo Triumph Advance LX Convertible Car Seat, Harbortown\": {\"frequency\": 46, \"value\": \"Evenflo Triumph ...\"}, \"BABYBJORN Baby Carrier Active, Black/Red\": {\"frequency\": 41, \"value\": \"BABYBJORN Baby ...\"}, \"Angelcare Bath Support, Blue\": {\"frequency\": 18, \"value\": \"Angelcare Bath ...\"}, \"Fisher-Price Precious Planet Sky Blue High Chair\": {\"frequency\": 42, \"value\": \"Fisher-Price ...\"}, \"Gerber 12-Pack Flatfold Birdseye Cloth Diapers - White\": {\"frequency\": 23, \"value\": \"Gerber 12-Pack ...\"}, \"Philips AVENT BPA Free Classic Polypropylene Essentials Gift Set\": {\"frequency\": 35, \"value\": \"Philips AVENT BPA ...\"}, \"American Baby Company Waterproof Quilted Cotton Portable/Mini Crib Mattress Pad Cover, White\": {\"frequency\": 83, \"value\": \"American Baby ...\"}, \"BRICA Bath Kneeler\": {\"frequency\": 19, \"value\": \"BRICA Bath Kneeler\"}, \"Mommy's Helper Step Up Non-Slip Stepstool Froggie Collection, Green\": {\"frequency\": 27, \"value\": \"Mommy's Helper ...\"}, \"DaVinci Emily 4-in-1 Convertible Crib with Toddler Rail, Cherry\": {\"frequency\": 95, \"value\": \"DaVinci Emily ...\"}, \"Woolzies 3 XL Wool Dryer Balls ,Natural Fabric Softener\": {\"frequency\": 33, \"value\": \"Woolzies 3 XL Wool ...\"}, \"Bright Starts Bounce-A-Bout Activity Center, Neutral\": {\"frequency\": 18, \"value\": \"Bright Starts ...\"}, \"Kiddyloo Toilet Seat Reducer (Blue/Green) - Toddler Potty Training Seat\": {\"frequency\": 22, \"value\": \"Kiddyloo Toilet ...\"}, \"Elegant Baby 6 Piece Bath Squirties Gift Set in Vinyl Zip Bag, City\": {\"frequency\": 19, \"value\": \"Elegant Baby 6 ...\"}, \"Sleepy Wrap Classic Wrap Baby Carrier, Dark Pink, 0-18 Months\": {\"frequency\": 49, \"value\": \"Sleepy Wrap ...\"}, \"Prince Lionheart Dresser Top Diaper Depot\": {\"frequency\": 24, \"value\": \"Prince Lionheart ...\"}, \"Evenflo AMP Graphics No Back Car Seat Booster, Retro Flowers\": {\"frequency\": 30, \"value\": \"Evenflo AMP ...\"}, \"Summer Infant Comfy Bath Sponge\": {\"frequency\": 38, \"value\": \"Summer Infant ...\"}, \"Puj Snug - Ultra Soft Spout Cover (Aqua)\": {\"frequency\": 42, \"value\": \"Puj Snug - Ultra ...\"}}, \"complete\": true, \"num_unique\": 32395, \"progress\": 1.0, \"num_undefined\": 284, \"size\": 183531}, \"ipython\": true, \"selected_variable\": {\"dtype\": \"str\", \"view_component\": \"Categorical\", \"type\": \"SArray\", \"view_file\": \"sarray\", \"descriptives\": {\"rows\": 183531}, \"view_components\": [\"Categorical\"], \"name\": [\"<SArray>\"]}, \"histogram\": null}, e);\n",
       "                });\n",
       "            })();\n",
       "        "
      ]
     },
     "metadata": {},
     "output_type": "display_data"
    }
   ],
   "source": [
    "products['name'].show()"
   ]
  },
  {
   "cell_type": "markdown",
   "metadata": {
    "collapsed": true
   },
   "source": [
    "# Examining the reviews for most-sold product:  'Vulli Sophie the Giraffe Teether'"
   ]
  },
  {
   "cell_type": "code",
   "execution_count": 8,
   "metadata": {
    "collapsed": true
   },
   "outputs": [],
   "source": [
    "giraffe_reviews = products[products['name'] == 'Vulli Sophie the Giraffe Teether']"
   ]
  },
  {
   "cell_type": "code",
   "execution_count": 9,
   "metadata": {
    "collapsed": false
   },
   "outputs": [
    {
     "data": {
      "text/plain": [
       "785"
      ]
     },
     "execution_count": 9,
     "metadata": {},
     "output_type": "execute_result"
    }
   ],
   "source": [
    "len(giraffe_reviews)"
   ]
  },
  {
   "cell_type": "code",
   "execution_count": 10,
   "metadata": {
    "collapsed": false
   },
   "outputs": [
    {
     "data": {
      "application/javascript": [
       "$(\"head\").append($(\"<link/>\").attr({\n",
       "  rel:  \"stylesheet\",\n",
       "  type: \"text/css\",\n",
       "  href: \"//cdnjs.cloudflare.com/ajax/libs/font-awesome/4.1.0/css/font-awesome.min.css\"\n",
       "}));\n",
       "$(\"head\").append($(\"<link/>\").attr({\n",
       "  rel:  \"stylesheet\",\n",
       "  type: \"text/css\",\n",
       "  href: \"//dato.com/files/canvas/1.10.1/css/canvas.css\"\n",
       "}));\n",
       "\n",
       "            (function(){\n",
       "\n",
       "                var e = null;\n",
       "                if (typeof element == 'undefined') {\n",
       "                    var scripts = document.getElementsByTagName('script');\n",
       "                    var thisScriptTag = scripts[scripts.length-1];\n",
       "                    var parentDiv = thisScriptTag.parentNode;\n",
       "                    e = document.createElement('div');\n",
       "                    parentDiv.appendChild(e);\n",
       "                } else {\n",
       "                    e = element[0];\n",
       "                }\n",
       "\n",
       "                if (typeof requirejs !== 'undefined') {\n",
       "                    // disable load timeout; ipython_app.js is large and can take a while to load.\n",
       "                    requirejs.config({waitSeconds: 0});\n",
       "                }\n",
       "\n",
       "                require(['//dato.com/files/canvas/1.10.1/js/ipython_app.js'], function(IPythonApp){\n",
       "                    var app = new IPythonApp();\n",
       "                    app.attachView('sarray','Categorical', {\"sketch\": {\"numeric\": true, \"frequent_items\": {\"1.0\": {\"frequency\": 56, \"value\": 1.0}, \"2.0\": {\"frequency\": 37, \"value\": 2.0}, \"3.0\": {\"frequency\": 62, \"value\": 3.0}, \"4.0\": {\"frequency\": 95, \"value\": 4.0}, \"5.0\": {\"frequency\": 535, \"value\": 5.0}}, \"num_undefined\": 0, \"complete\": true, \"num_unique\": 5, \"size\": 785, \"max\": 5.0, \"std\": 1.226576304850189, \"var\": 1.504489431619944, \"min\": 1.0, \"progress\": 1.0, \"quantile\": [1.0, 1.0, 1.0, 1.0, 1.0, 1.0, 1.0, 1.0, 2.0, 2.0, 2.0, 2.0, 3.0, 3.0, 3.0, 3.0, 3.0, 3.0, 3.0, 3.0, 4.0, 4.0, 4.0, 4.0, 4.0, 4.0, 4.0, 4.0, 4.0, 4.0, 4.0, 4.0, 5.0, 5.0, 5.0, 5.0, 5.0, 5.0, 5.0, 5.0, 5.0, 5.0, 5.0, 5.0, 5.0, 5.0, 5.0, 5.0, 5.0, 5.0, 5.0, 5.0, 5.0, 5.0, 5.0, 5.0, 5.0, 5.0, 5.0, 5.0, 5.0, 5.0, 5.0, 5.0, 5.0, 5.0, 5.0, 5.0, 5.0, 5.0, 5.0, 5.0, 5.0, 5.0, 5.0, 5.0, 5.0, 5.0, 5.0, 5.0, 5.0, 5.0, 5.0, 5.0, 5.0, 5.0, 5.0, 5.0, 5.0, 5.0, 5.0, 5.0, 5.0, 5.0, 5.0, 5.0, 5.0, 5.0, 5.0, 5.0, 5.0], \"median\": 5.0, \"mean\": 4.294267515923567}, \"ipython\": true, \"selected_variable\": {\"dtype\": \"float\", \"view_component\": \"Categorical\", \"type\": \"SArray\", \"view_file\": \"sarray\", \"descriptives\": {\"rows\": 785}, \"view_components\": [\"Numeric\", \"Categorical\"], \"name\": [\"<SArray>\"]}, \"histogram\": {\"complete\": 1, \"progress\": 1.0, \"histogram\": {\"bins\": [56, 0, 0, 37, 0, 62, 0, 0, 95, 0, 0, 535], \"min\": 0.929000000000014, \"max\": 5.076199999999998}, \"min\": 1.0, \"max\": 5.0}}, e);\n",
       "                });\n",
       "            })();\n",
       "        "
      ]
     },
     "metadata": {},
     "output_type": "display_data"
    }
   ],
   "source": [
    "giraffe_reviews['rating'].show(view='Categorical')"
   ]
  },
  {
   "cell_type": "markdown",
   "metadata": {},
   "source": [
    "# Build a sentiment classifier"
   ]
  },
  {
   "cell_type": "code",
   "execution_count": 11,
   "metadata": {
    "collapsed": false
   },
   "outputs": [
    {
     "data": {
      "application/javascript": [
       "$(\"head\").append($(\"<link/>\").attr({\n",
       "  rel:  \"stylesheet\",\n",
       "  type: \"text/css\",\n",
       "  href: \"//cdnjs.cloudflare.com/ajax/libs/font-awesome/4.1.0/css/font-awesome.min.css\"\n",
       "}));\n",
       "$(\"head\").append($(\"<link/>\").attr({\n",
       "  rel:  \"stylesheet\",\n",
       "  type: \"text/css\",\n",
       "  href: \"//dato.com/files/canvas/1.10.1/css/canvas.css\"\n",
       "}));\n",
       "\n",
       "            (function(){\n",
       "\n",
       "                var e = null;\n",
       "                if (typeof element == 'undefined') {\n",
       "                    var scripts = document.getElementsByTagName('script');\n",
       "                    var thisScriptTag = scripts[scripts.length-1];\n",
       "                    var parentDiv = thisScriptTag.parentNode;\n",
       "                    e = document.createElement('div');\n",
       "                    parentDiv.appendChild(e);\n",
       "                } else {\n",
       "                    e = element[0];\n",
       "                }\n",
       "\n",
       "                if (typeof requirejs !== 'undefined') {\n",
       "                    // disable load timeout; ipython_app.js is large and can take a while to load.\n",
       "                    requirejs.config({waitSeconds: 0});\n",
       "                }\n",
       "\n",
       "                require(['//dato.com/files/canvas/1.10.1/js/ipython_app.js'], function(IPythonApp){\n",
       "                    var app = new IPythonApp();\n",
       "                    app.attachView('sarray','Categorical', {\"sketch\": {\"numeric\": true, \"frequent_items\": {\"1.0\": {\"frequency\": 15183, \"value\": 1.0}, \"2.0\": {\"frequency\": 11310, \"value\": 2.0}, \"3.0\": {\"frequency\": 16779, \"value\": 3.0}, \"4.0\": {\"frequency\": 33205, \"value\": 4.0}, \"5.0\": {\"frequency\": 107054, \"value\": 5.0}}, \"num_undefined\": 0, \"complete\": true, \"num_unique\": 5, \"size\": 183531, \"max\": 5.0, \"std\": 1.2850135559617413, \"var\": 1.6512598390054394, \"min\": 1.0, \"progress\": 1.0, \"quantile\": [1.0, 1.0, 1.0, 1.0, 1.0, 1.0, 1.0, 1.0, 1.0, 2.0, 2.0, 2.0, 2.0, 2.0, 2.0, 3.0, 3.0, 3.0, 3.0, 3.0, 3.0, 3.0, 3.0, 3.0, 4.0, 4.0, 4.0, 4.0, 4.0, 4.0, 4.0, 4.0, 4.0, 4.0, 4.0, 4.0, 4.0, 4.0, 4.0, 4.0, 4.0, 4.0, 5.0, 5.0, 5.0, 5.0, 5.0, 5.0, 5.0, 5.0, 5.0, 5.0, 5.0, 5.0, 5.0, 5.0, 5.0, 5.0, 5.0, 5.0, 5.0, 5.0, 5.0, 5.0, 5.0, 5.0, 5.0, 5.0, 5.0, 5.0, 5.0, 5.0, 5.0, 5.0, 5.0, 5.0, 5.0, 5.0, 5.0, 5.0, 5.0, 5.0, 5.0, 5.0, 5.0, 5.0, 5.0, 5.0, 5.0, 5.0, 5.0, 5.0, 5.0, 5.0, 5.0, 5.0, 5.0, 5.0, 5.0, 5.0, 5.0], \"median\": 5.0, \"mean\": 4.1204483166331505}, \"ipython\": true, \"selected_variable\": {\"dtype\": \"float\", \"view_component\": \"Categorical\", \"type\": \"SArray\", \"view_file\": \"sarray\", \"descriptives\": {\"rows\": 183531}, \"view_components\": [\"Numeric\", \"Categorical\"], \"name\": [\"<SArray>\"]}, \"histogram\": {\"complete\": 1, \"progress\": 1.0, \"histogram\": {\"bins\": [15183, 0, 0, 11310, 0, 16779, 0, 0, 33205, 0, 0, 107054], \"min\": 0.992, \"max\": 5.024}, \"min\": 1.0, \"max\": 5.0}}, e);\n",
       "                });\n",
       "            })();\n",
       "        "
      ]
     },
     "metadata": {},
     "output_type": "display_data"
    }
   ],
   "source": [
    "products['rating'].show(view='Categorical')"
   ]
  },
  {
   "cell_type": "markdown",
   "metadata": {},
   "source": [
    "## Define what's a positive and a negative sentiment\n",
    "\n",
    "We will ignore all reviews with rating = 3, since they tend to have a neutral sentiment.  Reviews with a rating of 4 or higher will be considered positive, while the ones with rating of 2 or lower will have a negative sentiment.   "
   ]
  },
  {
   "cell_type": "code",
   "execution_count": 12,
   "metadata": {
    "collapsed": true
   },
   "outputs": [],
   "source": [
    "#ignore all 3* reviews\n",
    "products = products[products['rating'] != 3]"
   ]
  },
  {
   "cell_type": "code",
   "execution_count": 13,
   "metadata": {
    "collapsed": true
   },
   "outputs": [],
   "source": [
    "#positive sentiment = 4* or 5* reviews\n",
    "products['sentiment'] = products['rating'] >=4"
   ]
  },
  {
   "cell_type": "code",
   "execution_count": 14,
   "metadata": {
    "collapsed": false
   },
   "outputs": [
    {
     "data": {
      "text/html": [
       "<div style=\"max-height:1000px;max-width:1500px;overflow:auto;\"><table frame=\"box\" rules=\"cols\">\n",
       "    <tr>\n",
       "        <th style=\"padding-left: 1em; padding-right: 1em; text-align: center\">name</th>\n",
       "        <th style=\"padding-left: 1em; padding-right: 1em; text-align: center\">review</th>\n",
       "        <th style=\"padding-left: 1em; padding-right: 1em; text-align: center\">rating</th>\n",
       "        <th style=\"padding-left: 1em; padding-right: 1em; text-align: center\">word_count</th>\n",
       "        <th style=\"padding-left: 1em; padding-right: 1em; text-align: center\">sentiment</th>\n",
       "    </tr>\n",
       "    <tr>\n",
       "        <td style=\"padding-left: 1em; padding-right: 1em; text-align: center; vertical-align: top\">Planetwise Wipe Pouch</td>\n",
       "        <td style=\"padding-left: 1em; padding-right: 1em; text-align: center; vertical-align: top\">it came early and was not<br>disappointed. i love ...</td>\n",
       "        <td style=\"padding-left: 1em; padding-right: 1em; text-align: center; vertical-align: top\">5.0</td>\n",
       "        <td style=\"padding-left: 1em; padding-right: 1em; text-align: center; vertical-align: top\">{&#x27;moist&#x27;: 1, &#x27;came&#x27;: 1,<br>&#x27;holder.&#x27;: 1, &#x27;i&#x27;: 1, ...</td>\n",
       "        <td style=\"padding-left: 1em; padding-right: 1em; text-align: center; vertical-align: top\">1</td>\n",
       "    </tr>\n",
       "    <tr>\n",
       "        <td style=\"padding-left: 1em; padding-right: 1em; text-align: center; vertical-align: top\">Annas Dream Full Quilt<br>with 2 Shams ...</td>\n",
       "        <td style=\"padding-left: 1em; padding-right: 1em; text-align: center; vertical-align: top\">Very soft and comfortable<br>and warmer than it ...</td>\n",
       "        <td style=\"padding-left: 1em; padding-right: 1em; text-align: center; vertical-align: top\">5.0</td>\n",
       "        <td style=\"padding-left: 1em; padding-right: 1em; text-align: center; vertical-align: top\">{&#x27;this&#x27;: 1, &#x27;anyone&#x27;: 1,<br>&#x27;soft&#x27;: 1, &#x27;than&#x27;: 1, ...</td>\n",
       "        <td style=\"padding-left: 1em; padding-right: 1em; text-align: center; vertical-align: top\">1</td>\n",
       "    </tr>\n",
       "    <tr>\n",
       "        <td style=\"padding-left: 1em; padding-right: 1em; text-align: center; vertical-align: top\">Stop Pacifier Sucking<br>without tears with ...</td>\n",
       "        <td style=\"padding-left: 1em; padding-right: 1em; text-align: center; vertical-align: top\">This is a product well<br>worth the purchase.  I ...</td>\n",
       "        <td style=\"padding-left: 1em; padding-right: 1em; text-align: center; vertical-align: top\">5.0</td>\n",
       "        <td style=\"padding-left: 1em; padding-right: 1em; text-align: center; vertical-align: top\">{&#x27;this&#x27;: 3, &#x27;purchase.&#x27;:<br>1, &#x27;much&#x27;: 1, &#x27;little&#x27;: ...</td>\n",
       "        <td style=\"padding-left: 1em; padding-right: 1em; text-align: center; vertical-align: top\">1</td>\n",
       "    </tr>\n",
       "    <tr>\n",
       "        <td style=\"padding-left: 1em; padding-right: 1em; text-align: center; vertical-align: top\">Stop Pacifier Sucking<br>without tears with ...</td>\n",
       "        <td style=\"padding-left: 1em; padding-right: 1em; text-align: center; vertical-align: top\">All of my kids have cried<br>non-stop when I tried to ...</td>\n",
       "        <td style=\"padding-left: 1em; padding-right: 1em; text-align: center; vertical-align: top\">5.0</td>\n",
       "        <td style=\"padding-left: 1em; padding-right: 1em; text-align: center; vertical-align: top\">{&#x27;this&#x27;: 1, &#x27;pacifier,&#x27;:<br>1, &#x27;have&#x27;: 1, &#x27;for&#x27;: 2, ...</td>\n",
       "        <td style=\"padding-left: 1em; padding-right: 1em; text-align: center; vertical-align: top\">1</td>\n",
       "    </tr>\n",
       "    <tr>\n",
       "        <td style=\"padding-left: 1em; padding-right: 1em; text-align: center; vertical-align: top\">Stop Pacifier Sucking<br>without tears with ...</td>\n",
       "        <td style=\"padding-left: 1em; padding-right: 1em; text-align: center; vertical-align: top\">When the Binky Fairy came<br>to our house, we didn&#x27;t ...</td>\n",
       "        <td style=\"padding-left: 1em; padding-right: 1em; text-align: center; vertical-align: top\">5.0</td>\n",
       "        <td style=\"padding-left: 1em; padding-right: 1em; text-align: center; vertical-align: top\">{&#x27;thumb&#x27;: 1, &#x27;how&#x27;: 1,<br>&#x27;came&#x27;: 1, &#x27;binky&#x27;: 3, ...</td>\n",
       "        <td style=\"padding-left: 1em; padding-right: 1em; text-align: center; vertical-align: top\">1</td>\n",
       "    </tr>\n",
       "    <tr>\n",
       "        <td style=\"padding-left: 1em; padding-right: 1em; text-align: center; vertical-align: top\">A Tale of Baby&#x27;s Days<br>with Peter Rabbit ...</td>\n",
       "        <td style=\"padding-left: 1em; padding-right: 1em; text-align: center; vertical-align: top\">Lovely book, it&#x27;s bound<br>tightly so you may no ...</td>\n",
       "        <td style=\"padding-left: 1em; padding-right: 1em; text-align: center; vertical-align: top\">4.0</td>\n",
       "        <td style=\"padding-left: 1em; padding-right: 1em; text-align: center; vertical-align: top\">{&#x27;be&#x27;: 1, &#x27;so&#x27;: 1,<br>&#x27;alot&#x27;: 1, &#x27;for&#x27;: 1, ...</td>\n",
       "        <td style=\"padding-left: 1em; padding-right: 1em; text-align: center; vertical-align: top\">1</td>\n",
       "    </tr>\n",
       "    <tr>\n",
       "        <td style=\"padding-left: 1em; padding-right: 1em; text-align: center; vertical-align: top\">Baby Tracker&amp;reg; - Daily<br>Childcare Journal, ...</td>\n",
       "        <td style=\"padding-left: 1em; padding-right: 1em; text-align: center; vertical-align: top\">Perfect for new parents.<br>We were able to keep ...</td>\n",
       "        <td style=\"padding-left: 1em; padding-right: 1em; text-align: center; vertical-align: top\">5.0</td>\n",
       "        <td style=\"padding-left: 1em; padding-right: 1em; text-align: center; vertical-align: top\">{&#x27;diaper&#x27;: 1, &#x27;life&#x27;: 1,<br>&#x27;half&#x27;: 1, &#x27;and&#x27;: 2, ...</td>\n",
       "        <td style=\"padding-left: 1em; padding-right: 1em; text-align: center; vertical-align: top\">1</td>\n",
       "    </tr>\n",
       "    <tr>\n",
       "        <td style=\"padding-left: 1em; padding-right: 1em; text-align: center; vertical-align: top\">Baby Tracker&amp;reg; - Daily<br>Childcare Journal, ...</td>\n",
       "        <td style=\"padding-left: 1em; padding-right: 1em; text-align: center; vertical-align: top\">A friend of mine pinned<br>this product on Pinte ...</td>\n",
       "        <td style=\"padding-left: 1em; padding-right: 1em; text-align: center; vertical-align: top\">5.0</td>\n",
       "        <td style=\"padding-left: 1em; padding-right: 1em; text-align: center; vertical-align: top\">{&#x27;this&#x27;: 2, &#x27;diaper&#x27;: 1,<br>&#x27;new&#x27;: 1, &#x27;i&#x27;: 1, ...</td>\n",
       "        <td style=\"padding-left: 1em; padding-right: 1em; text-align: center; vertical-align: top\">1</td>\n",
       "    </tr>\n",
       "    <tr>\n",
       "        <td style=\"padding-left: 1em; padding-right: 1em; text-align: center; vertical-align: top\">Baby Tracker&amp;reg; - Daily<br>Childcare Journal, ...</td>\n",
       "        <td style=\"padding-left: 1em; padding-right: 1em; text-align: center; vertical-align: top\">This has been an easy way<br>for my nanny to record ...</td>\n",
       "        <td style=\"padding-left: 1em; padding-right: 1em; text-align: center; vertical-align: top\">4.0</td>\n",
       "        <td style=\"padding-left: 1em; padding-right: 1em; text-align: center; vertical-align: top\">{&#x27;this&#x27;: 3, &#x27;highly&#x27;: 1,<br>&#x27;have&#x27;: 1, &#x27;for&#x27;: 1, ...</td>\n",
       "        <td style=\"padding-left: 1em; padding-right: 1em; text-align: center; vertical-align: top\">1</td>\n",
       "    </tr>\n",
       "    <tr>\n",
       "        <td style=\"padding-left: 1em; padding-right: 1em; text-align: center; vertical-align: top\">Baby Tracker&amp;reg; - Daily<br>Childcare Journal, ...</td>\n",
       "        <td style=\"padding-left: 1em; padding-right: 1em; text-align: center; vertical-align: top\">I love this journal and<br>our nanny uses it ...</td>\n",
       "        <td style=\"padding-left: 1em; padding-right: 1em; text-align: center; vertical-align: top\">4.0</td>\n",
       "        <td style=\"padding-left: 1em; padding-right: 1em; text-align: center; vertical-align: top\">{&#x27;rush&#x27;: 1, &#x27;quickly&#x27;: 1,<br>&#x27;well&#x27;: 1, &#x27;there&#x27;: 1, ...</td>\n",
       "        <td style=\"padding-left: 1em; padding-right: 1em; text-align: center; vertical-align: top\">1</td>\n",
       "    </tr>\n",
       "</table>\n",
       "[10 rows x 5 columns]<br/>\n",
       "</div>"
      ],
      "text/plain": [
       "Columns:\n",
       "\tname\tstr\n",
       "\treview\tstr\n",
       "\trating\tfloat\n",
       "\tword_count\tdict\n",
       "\tsentiment\tint\n",
       "\n",
       "Rows: 10\n",
       "\n",
       "Data:\n",
       "+-------------------------------+-------------------------------+--------+\n",
       "|              name             |             review            | rating |\n",
       "+-------------------------------+-------------------------------+--------+\n",
       "|     Planetwise Wipe Pouch     | it came early and was not ... |  5.0   |\n",
       "| Annas Dream Full Quilt wit... | Very soft and comfortable ... |  5.0   |\n",
       "| Stop Pacifier Sucking with... | This is a product well wor... |  5.0   |\n",
       "| Stop Pacifier Sucking with... | All of my kids have cried ... |  5.0   |\n",
       "| Stop Pacifier Sucking with... | When the Binky Fairy came ... |  5.0   |\n",
       "| A Tale of Baby's Days with... | Lovely book, it's bound ti... |  4.0   |\n",
       "| Baby Tracker&reg; - Daily ... | Perfect for new parents. W... |  5.0   |\n",
       "| Baby Tracker&reg; - Daily ... | A friend of mine pinned th... |  5.0   |\n",
       "| Baby Tracker&reg; - Daily ... | This has been an easy way ... |  4.0   |\n",
       "| Baby Tracker&reg; - Daily ... | I love this journal and ou... |  4.0   |\n",
       "+-------------------------------+-------------------------------+--------+\n",
       "+-------------------------------+-----------+\n",
       "|           word_count          | sentiment |\n",
       "+-------------------------------+-----------+\n",
       "| {'moist': 1, 'came': 1, 'h... |     1     |\n",
       "| {'this': 1, 'anyone': 1, '... |     1     |\n",
       "| {'this': 3, 'purchase.': 1... |     1     |\n",
       "| {'this': 1, 'pacifier,': 1... |     1     |\n",
       "| {'thumb': 1, 'how': 1, 'ca... |     1     |\n",
       "| {'be': 1, 'so': 1, 'alot':... |     1     |\n",
       "| {'diaper': 1, 'life': 1, '... |     1     |\n",
       "| {'this': 2, 'diaper': 1, '... |     1     |\n",
       "| {'this': 3, 'highly': 1, '... |     1     |\n",
       "| {'rush': 1, 'quickly': 1, ... |     1     |\n",
       "+-------------------------------+-----------+\n",
       "[10 rows x 5 columns]"
      ]
     },
     "execution_count": 14,
     "metadata": {},
     "output_type": "execute_result"
    }
   ],
   "source": [
    "products.head()"
   ]
  },
  {
   "cell_type": "markdown",
   "metadata": {},
   "source": [
    "## Let's train the sentiment classifier"
   ]
  },
  {
   "cell_type": "code",
   "execution_count": 15,
   "metadata": {
    "collapsed": true
   },
   "outputs": [],
   "source": [
    "train_data,test_data = products.random_split(.8, seed=0)"
   ]
  },
  {
   "cell_type": "code",
   "execution_count": 17,
   "metadata": {
    "collapsed": false
   },
   "outputs": [
    {
     "data": {
      "text/html": [
       "<pre>WARNING: The number of feature dimensions in this problem is very large in comparison with the number of examples. Unless an appropriate regularization value is set, this model may not provide accurate predictions for a validation/test set.</pre>"
      ],
      "text/plain": [
       "WARNING: The number of feature dimensions in this problem is very large in comparison with the number of examples. Unless an appropriate regularization value is set, this model may not provide accurate predictions for a validation/test set."
      ]
     },
     "metadata": {},
     "output_type": "display_data"
    },
    {
     "data": {
      "text/html": [
       "<pre>Logistic regression:</pre>"
      ],
      "text/plain": [
       "Logistic regression:"
      ]
     },
     "metadata": {},
     "output_type": "display_data"
    },
    {
     "data": {
      "text/html": [
       "<pre>--------------------------------------------------------</pre>"
      ],
      "text/plain": [
       "--------------------------------------------------------"
      ]
     },
     "metadata": {},
     "output_type": "display_data"
    },
    {
     "data": {
      "text/html": [
       "<pre>Number of examples          : 133448</pre>"
      ],
      "text/plain": [
       "Number of examples          : 133448"
      ]
     },
     "metadata": {},
     "output_type": "display_data"
    },
    {
     "data": {
      "text/html": [
       "<pre>Number of classes           : 2</pre>"
      ],
      "text/plain": [
       "Number of classes           : 2"
      ]
     },
     "metadata": {},
     "output_type": "display_data"
    },
    {
     "data": {
      "text/html": [
       "<pre>Number of feature columns   : 1</pre>"
      ],
      "text/plain": [
       "Number of feature columns   : 1"
      ]
     },
     "metadata": {},
     "output_type": "display_data"
    },
    {
     "data": {
      "text/html": [
       "<pre>Number of unpacked features : 219217</pre>"
      ],
      "text/plain": [
       "Number of unpacked features : 219217"
      ]
     },
     "metadata": {},
     "output_type": "display_data"
    },
    {
     "data": {
      "text/html": [
       "<pre>Number of coefficients    : 219218</pre>"
      ],
      "text/plain": [
       "Number of coefficients    : 219218"
      ]
     },
     "metadata": {},
     "output_type": "display_data"
    },
    {
     "data": {
      "text/html": [
       "<pre>Starting L-BFGS</pre>"
      ],
      "text/plain": [
       "Starting L-BFGS"
      ]
     },
     "metadata": {},
     "output_type": "display_data"
    },
    {
     "data": {
      "text/html": [
       "<pre>--------------------------------------------------------</pre>"
      ],
      "text/plain": [
       "--------------------------------------------------------"
      ]
     },
     "metadata": {},
     "output_type": "display_data"
    },
    {
     "data": {
      "text/html": [
       "<pre>+-----------+----------+-----------+--------------+-------------------+---------------------+</pre>"
      ],
      "text/plain": [
       "+-----------+----------+-----------+--------------+-------------------+---------------------+"
      ]
     },
     "metadata": {},
     "output_type": "display_data"
    },
    {
     "data": {
      "text/html": [
       "<pre>| Iteration | Passes   | Step size | Elapsed Time | Training-accuracy | Validation-accuracy |</pre>"
      ],
      "text/plain": [
       "| Iteration | Passes   | Step size | Elapsed Time | Training-accuracy | Validation-accuracy |"
      ]
     },
     "metadata": {},
     "output_type": "display_data"
    },
    {
     "data": {
      "text/html": [
       "<pre>+-----------+----------+-----------+--------------+-------------------+---------------------+</pre>"
      ],
      "text/plain": [
       "+-----------+----------+-----------+--------------+-------------------+---------------------+"
      ]
     },
     "metadata": {},
     "output_type": "display_data"
    },
    {
     "data": {
      "text/html": [
       "<pre>| 1         | 5        | 0.000002  | 1.376660     | 0.841481          | 0.839989            |</pre>"
      ],
      "text/plain": [
       "| 1         | 5        | 0.000002  | 1.376660     | 0.841481          | 0.839989            |"
      ]
     },
     "metadata": {},
     "output_type": "display_data"
    },
    {
     "data": {
      "text/html": [
       "<pre>| 2         | 9        | 3.000000  | 2.710207     | 0.947425          | 0.894877            |</pre>"
      ],
      "text/plain": [
       "| 2         | 9        | 3.000000  | 2.710207     | 0.947425          | 0.894877            |"
      ]
     },
     "metadata": {},
     "output_type": "display_data"
    },
    {
     "data": {
      "text/html": [
       "<pre>| 3         | 10       | 3.000000  | 3.253650     | 0.923768          | 0.866232            |</pre>"
      ],
      "text/plain": [
       "| 3         | 10       | 3.000000  | 3.253650     | 0.923768          | 0.866232            |"
      ]
     },
     "metadata": {},
     "output_type": "display_data"
    },
    {
     "data": {
      "text/html": [
       "<pre>| 4         | 11       | 3.000000  | 3.766012     | 0.971779          | 0.912743            |</pre>"
      ],
      "text/plain": [
       "| 4         | 11       | 3.000000  | 3.766012     | 0.971779          | 0.912743            |"
      ]
     },
     "metadata": {},
     "output_type": "display_data"
    },
    {
     "data": {
      "text/html": [
       "<pre>| 5         | 12       | 3.000000  | 4.264336     | 0.975511          | 0.908900            |</pre>"
      ],
      "text/plain": [
       "| 5         | 12       | 3.000000  | 4.264336     | 0.975511          | 0.908900            |"
      ]
     },
     "metadata": {},
     "output_type": "display_data"
    },
    {
     "data": {
      "text/html": [
       "<pre>| 6         | 13       | 3.000000  | 4.775698     | 0.899991          | 0.825967            |</pre>"
      ],
      "text/plain": [
       "| 6         | 13       | 3.000000  | 4.775698     | 0.899991          | 0.825967            |"
      ]
     },
     "metadata": {},
     "output_type": "display_data"
    },
    {
     "data": {
      "text/html": [
       "<pre>| 10        | 18       | 1.000000  | 6.940453     | 0.988715          | 0.916256            |</pre>"
      ],
      "text/plain": [
       "| 10        | 18       | 1.000000  | 6.940453     | 0.988715          | 0.916256            |"
      ]
     },
     "metadata": {},
     "output_type": "display_data"
    },
    {
     "data": {
      "text/html": [
       "<pre>+-----------+----------+-----------+--------------+-------------------+---------------------+</pre>"
      ],
      "text/plain": [
       "+-----------+----------+-----------+--------------+-------------------+---------------------+"
      ]
     },
     "metadata": {},
     "output_type": "display_data"
    },
    {
     "data": {
      "text/html": [
       "<pre>TERMINATED: Iteration limit reached.</pre>"
      ],
      "text/plain": [
       "TERMINATED: Iteration limit reached."
      ]
     },
     "metadata": {},
     "output_type": "display_data"
    },
    {
     "data": {
      "text/html": [
       "<pre>This model may not be optimal. To improve it, consider increasing `max_iterations`.</pre>"
      ],
      "text/plain": [
       "This model may not be optimal. To improve it, consider increasing `max_iterations`."
      ]
     },
     "metadata": {},
     "output_type": "display_data"
    }
   ],
   "source": [
    "sentiment_model = graphlab.logistic_classifier.create(train_data,\n",
    "                                                     target='sentiment',\n",
    "                                                     features=['word_count'],\n",
    "                                                     validation_set=test_data)"
   ]
  },
  {
   "cell_type": "markdown",
   "metadata": {},
   "source": [
    "# Evaluate the sentiment model"
   ]
  },
  {
   "cell_type": "code",
   "execution_count": 18,
   "metadata": {
    "collapsed": false
   },
   "outputs": [
    {
     "data": {
      "text/plain": [
       "{'roc_curve': Columns:\n",
       " \tthreshold\tfloat\n",
       " \tfpr\tfloat\n",
       " \ttpr\tfloat\n",
       " \tp\tint\n",
       " \tn\tint\n",
       " \n",
       " Rows: 100001\n",
       " \n",
       " Data:\n",
       " +-----------+--------------------+--------------------+-------+------+\n",
       " | threshold |        fpr         |        tpr         |   p   |  n   |\n",
       " +-----------+--------------------+--------------------+-------+------+\n",
       " |    0.0    |        1.0         |        1.0         | 27976 | 5328 |\n",
       " |   1e-05   | 0.9093468468468469 | 0.9988561624249357 | 27976 | 5328 |\n",
       " |   2e-05   | 0.896021021021021  | 0.9987489276522734 | 27976 | 5328 |\n",
       " |   3e-05   | 0.886448948948949  | 0.9984629682585073 | 27976 | 5328 |\n",
       " |   4e-05   | 0.8796921921921922 | 0.9982842436374035 | 27976 | 5328 |\n",
       " |   5e-05   | 0.8751876876876877 | 0.998212753788962  | 27976 | 5328 |\n",
       " |   6e-05   | 0.8721846846846847 | 0.9981770088647413 | 27976 | 5328 |\n",
       " |   7e-05   | 0.8686186186186187 | 0.9980340291678582 | 27976 | 5328 |\n",
       " |   8e-05   | 0.8646771771771772 | 0.9979982842436375 | 27976 | 5328 |\n",
       " |   9e-05   | 0.8607357357357357 | 0.9979625393194167 | 27976 | 5328 |\n",
       " +-----------+--------------------+--------------------+-------+------+\n",
       " [100001 rows x 5 columns]\n",
       " Note: Only the head of the SFrame is printed.\n",
       " You can use print_rows(num_rows=m, num_columns=n) to print more rows and columns.}"
      ]
     },
     "execution_count": 18,
     "metadata": {},
     "output_type": "execute_result"
    }
   ],
   "source": [
    "sentiment_model.evaluate(test_data, metric='roc_curve')"
   ]
  },
  {
   "cell_type": "code",
   "execution_count": 19,
   "metadata": {
    "collapsed": false
   },
   "outputs": [
    {
     "data": {
      "application/javascript": [
       "$(\"head\").append($(\"<link/>\").attr({\n",
       "  rel:  \"stylesheet\",\n",
       "  type: \"text/css\",\n",
       "  href: \"//cdnjs.cloudflare.com/ajax/libs/font-awesome/4.1.0/css/font-awesome.min.css\"\n",
       "}));\n",
       "$(\"head\").append($(\"<link/>\").attr({\n",
       "  rel:  \"stylesheet\",\n",
       "  type: \"text/css\",\n",
       "  href: \"//dato.com/files/canvas/1.10.1/css/canvas.css\"\n",
       "}));\n",
       "\n",
       "            (function(){\n",
       "\n",
       "                var e = null;\n",
       "                if (typeof element == 'undefined') {\n",
       "                    var scripts = document.getElementsByTagName('script');\n",
       "                    var thisScriptTag = scripts[scripts.length-1];\n",
       "                    var parentDiv = thisScriptTag.parentNode;\n",
       "                    e = document.createElement('div');\n",
       "                    parentDiv.appendChild(e);\n",
       "                } else {\n",
       "                    e = element[0];\n",
       "                }\n",
       "\n",
       "                if (typeof requirejs !== 'undefined') {\n",
       "                    // disable load timeout; ipython_app.js is large and can take a while to load.\n",
       "                    requirejs.config({waitSeconds: 0});\n",
       "                }\n",
       "\n",
       "                require(['//dato.com/files/canvas/1.10.1/js/ipython_app.js'], function(IPythonApp){\n",
       "                    var app = new IPythonApp();\n",
       "                    app.attachView('model','Evaluation', {\"comparison\": null, \"model_type\": \"regression\", \"selected_variable\": {\"type\": \"Model\", \"comparison\": null, \"model_type\": \"regression\", \"name\": [\"sentiment_model\"], \"view_file\": \"model\", \"view_component\": \"Evaluation\", \"attributes\": {\"section_titles\": [\"Schema\", \"Hyperparameters\", \"Training Summary\", \"Settings\", \"Highest Positive Coefficients\", \"Lowest Negative Coefficients\"], \"sections\": [[[\"Number of coefficients\", 219218], [\"Number of examples\", 133448], [\"Number of classes\", 2], [\"Number of feature columns\", 1], [\"Number of unpacked features\", 219217]], [[\"L1 penalty\", 0.0], [\"L2 penalty\", 0.01]], [[\"Solver\", \"lbfgs\"], [\"Solver iterations\", 10], [\"Solver status\", \"TERMINATED: Iteration limit reached.\"], [\"Training time (sec)\", 7.16]], [[\"Log-likelihood\", 4956.6901]], [[\"word_count[pinkjeep]\", 13.5701], [\"word_count[(http://www.amazon.com/review/rhgg6qp7tdnhb/ref=cm_cr_pr_cmt?ie=utf8&asin;=b00318cla0&nodeid;)]\", 12.3088], [\"word_count[label/box.]\", 11.1774], [\"word_count[product.***]\", 11.064], [\"word_count[direct-pumping]\", 11.0531]], [[\"word_count[it.update:after]\", -18.3631], [\"word_count[5months.]\", -16.0906], [\"word_count[oldest.if]\", -15.9315], [\"word_count[maxima.]\", -15.8084], [\"word_count[(160.00)]\", -15.4512]]]}, \"evaluations\": [[\"test_data\", {\"roc_curve\": [{\"threshold\": 0.0, \"p\": 27976, \"tpr\": 1.0, \"n\": 5328, \"fpr\": 1.0}, {\"threshold\": 0.001, \"p\": 27976, \"tpr\": 0.9963897626537032, \"n\": 5328, \"fpr\": 0.7755255255255256}, {\"threshold\": 0.002, \"p\": 27976, \"tpr\": 0.9953531598513011, \"n\": 5328, \"fpr\": 0.7355480480480481}, {\"threshold\": 0.003, \"p\": 27976, \"tpr\": 0.9947454961395482, \"n\": 5328, \"fpr\": 0.7128378378378378}, {\"threshold\": 0.004, \"p\": 27976, \"tpr\": 0.9942808121246783, \"n\": 5328, \"fpr\": 0.6972597597597597}, {\"threshold\": 0.005, \"p\": 27976, \"tpr\": 0.9939233628824707, \"n\": 5328, \"fpr\": 0.6859984984984985}, {\"threshold\": 0.006, \"p\": 27976, \"tpr\": 0.99342293394338, \"n\": 5328, \"fpr\": 0.6762387387387387}, {\"threshold\": 0.007, \"p\": 27976, \"tpr\": 0.9930654847011724, \"n\": 5328, \"fpr\": 0.6657282282282282}, {\"threshold\": 0.008, \"p\": 27976, \"tpr\": 0.9928152702316271, \"n\": 5328, \"fpr\": 0.6554054054054054}, {\"threshold\": 0.009, \"p\": 27976, \"tpr\": 0.9924935659136402, \"n\": 5328, \"fpr\": 0.6480855855855856}, {\"threshold\": 0.01, \"p\": 27976, \"tpr\": 0.9922433514440949, \"n\": 5328, \"fpr\": 0.6394519519519519}, {\"threshold\": 0.011, \"p\": 27976, \"tpr\": 0.9919573920503288, \"n\": 5328, \"fpr\": 0.6325075075075075}, {\"threshold\": 0.012, \"p\": 27976, \"tpr\": 0.991635687732342, \"n\": 5328, \"fpr\": 0.6270645645645646}, {\"threshold\": 0.013, \"p\": 27976, \"tpr\": 0.9913854732627967, \"n\": 5328, \"fpr\": 0.6203078078078078}, {\"threshold\": 0.014, \"p\": 27976, \"tpr\": 0.9911352587932514, \"n\": 5328, \"fpr\": 0.6154279279279279}, {\"threshold\": 0.015, \"p\": 27976, \"tpr\": 0.990885044323706, \"n\": 5328, \"fpr\": 0.6086711711711712}, {\"threshold\": 0.016, \"p\": 27976, \"tpr\": 0.9905633400057192, \"n\": 5328, \"fpr\": 0.603978978978979}, {\"threshold\": 0.017, \"p\": 27976, \"tpr\": 0.9903131255361739, \"n\": 5328, \"fpr\": 0.6002252252252253}, {\"threshold\": 0.018, \"p\": 27976, \"tpr\": 0.9901701458392909, \"n\": 5328, \"fpr\": 0.5953453453453453}, {\"threshold\": 0.019, \"p\": 27976, \"tpr\": 0.9900271661424078, \"n\": 5328, \"fpr\": 0.5904654654654654}, {\"threshold\": 0.02, \"p\": 27976, \"tpr\": 0.9898126965970833, \"n\": 5328, \"fpr\": 0.585960960960961}, {\"threshold\": 0.021, \"p\": 27976, \"tpr\": 0.989705461824421, \"n\": 5328, \"fpr\": 0.5822072072072072}, {\"threshold\": 0.022, \"p\": 27976, \"tpr\": 0.9894552473548756, \"n\": 5328, \"fpr\": 0.5793918918918919}, {\"threshold\": 0.023, \"p\": 27976, \"tpr\": 0.9893480125822133, \"n\": 5328, \"fpr\": 0.5773273273273273}, {\"threshold\": 0.024, \"p\": 27976, \"tpr\": 0.9892050328853302, \"n\": 5328, \"fpr\": 0.5730105105105106}, {\"threshold\": 0.025, \"p\": 27976, \"tpr\": 0.9890263082642264, \"n\": 5328, \"fpr\": 0.5698198198198198}, {\"threshold\": 0.026, \"p\": 27976, \"tpr\": 0.9889190734915642, \"n\": 5328, \"fpr\": 0.5662537537537538}, {\"threshold\": 0.027, \"p\": 27976, \"tpr\": 0.9886688590220188, \"n\": 5328, \"fpr\": 0.5630630630630631}, {\"threshold\": 0.028, \"p\": 27976, \"tpr\": 0.988490134400915, \"n\": 5328, \"fpr\": 0.5602477477477478}, {\"threshold\": 0.029, \"p\": 27976, \"tpr\": 0.988347154704032, \"n\": 5328, \"fpr\": 0.5566816816816816}, {\"threshold\": 0.03, \"p\": 27976, \"tpr\": 0.9880969402344867, \"n\": 5328, \"fpr\": 0.5527402402402403}, {\"threshold\": 0.031, \"p\": 27976, \"tpr\": 0.9879897054618244, \"n\": 5328, \"fpr\": 0.5512387387387387}, {\"threshold\": 0.032, \"p\": 27976, \"tpr\": 0.9877394909922791, \"n\": 5328, \"fpr\": 0.547484984984985}, {\"threshold\": 0.033, \"p\": 27976, \"tpr\": 0.987596511295396, \"n\": 5328, \"fpr\": 0.5433558558558559}, {\"threshold\": 0.034, \"p\": 27976, \"tpr\": 0.9874892765227338, \"n\": 5328, \"fpr\": 0.541478978978979}, {\"threshold\": 0.035, \"p\": 27976, \"tpr\": 0.987453531598513, \"n\": 5328, \"fpr\": 0.5396021021021021}, {\"threshold\": 0.036, \"p\": 27976, \"tpr\": 0.9873462968258507, \"n\": 5328, \"fpr\": 0.5375375375375375}, {\"threshold\": 0.037, \"p\": 27976, \"tpr\": 0.9872748069774092, \"n\": 5328, \"fpr\": 0.5350975975975976}, {\"threshold\": 0.038, \"p\": 27976, \"tpr\": 0.9869173577352016, \"n\": 5328, \"fpr\": 0.5319069069069069}, {\"threshold\": 0.039, \"p\": 27976, \"tpr\": 0.9867028881898771, \"n\": 5328, \"fpr\": 0.5307807807807807}, {\"threshold\": 0.04, \"p\": 27976, \"tpr\": 0.9865956534172148, \"n\": 5328, \"fpr\": 0.5294669669669669}, {\"threshold\": 0.041, \"p\": 27976, \"tpr\": 0.9865241635687733, \"n\": 5328, \"fpr\": 0.5272147147147147}, {\"threshold\": 0.042, \"p\": 27976, \"tpr\": 0.9863811838718902, \"n\": 5328, \"fpr\": 0.5242117117117117}, {\"threshold\": 0.043, \"p\": 27976, \"tpr\": 0.9862024592507864, \"n\": 5328, \"fpr\": 0.5230855855855856}, {\"threshold\": 0.044, \"p\": 27976, \"tpr\": 0.9860952244781241, \"n\": 5328, \"fpr\": 0.5206456456456456}, {\"threshold\": 0.045, \"p\": 27976, \"tpr\": 0.9859522447812411, \"n\": 5328, \"fpr\": 0.5195195195195195}, {\"threshold\": 0.046, \"p\": 27976, \"tpr\": 0.9859164998570203, \"n\": 5328, \"fpr\": 0.5167042042042042}, {\"threshold\": 0.047, \"p\": 27976, \"tpr\": 0.9857020303116958, \"n\": 5328, \"fpr\": 0.5148273273273273}, {\"threshold\": 0.048, \"p\": 27976, \"tpr\": 0.9854875607663712, \"n\": 5328, \"fpr\": 0.512575075075075}, {\"threshold\": 0.049, \"p\": 27976, \"tpr\": 0.9853445810694881, \"n\": 5328, \"fpr\": 0.511448948948949}, {\"threshold\": 0.05, \"p\": 27976, \"tpr\": 0.985201601372605, \"n\": 5328, \"fpr\": 0.5095720720720721}, {\"threshold\": 0.051, \"p\": 27976, \"tpr\": 0.9849871318272805, \"n\": 5328, \"fpr\": 0.5063813813813813}, {\"threshold\": 0.052, \"p\": 27976, \"tpr\": 0.9848441521303974, \"n\": 5328, \"fpr\": 0.5037537537537538}, {\"threshold\": 0.053, \"p\": 27976, \"tpr\": 0.9848084072061767, \"n\": 5328, \"fpr\": 0.5020645645645646}, {\"threshold\": 0.054, \"p\": 27976, \"tpr\": 0.9846296825850729, \"n\": 5328, \"fpr\": 0.5}, {\"threshold\": 0.055, \"p\": 27976, \"tpr\": 0.9845581927366314, \"n\": 5328, \"fpr\": 0.4988738738738739}, {\"threshold\": 0.056, \"p\": 27976, \"tpr\": 0.9845224478124106, \"n\": 5328, \"fpr\": 0.4964339339339339}, {\"threshold\": 0.057, \"p\": 27976, \"tpr\": 0.984307978267086, \"n\": 5328, \"fpr\": 0.49436936936936937}, {\"threshold\": 0.058, \"p\": 27976, \"tpr\": 0.984164998570203, \"n\": 5328, \"fpr\": 0.49211711711711714}, {\"threshold\": 0.059, \"p\": 27976, \"tpr\": 0.98402201887332, \"n\": 5328, \"fpr\": 0.49099099099099097}, {\"threshold\": 0.06, \"p\": 27976, \"tpr\": 0.9839862739490992, \"n\": 5328, \"fpr\": 0.48855105105105107}, {\"threshold\": 0.061, \"p\": 27976, \"tpr\": 0.9838432942522162, \"n\": 5328, \"fpr\": 0.4864864864864865}, {\"threshold\": 0.062, \"p\": 27976, \"tpr\": 0.9838075493279954, \"n\": 5328, \"fpr\": 0.48460960960960964}, {\"threshold\": 0.063, \"p\": 27976, \"tpr\": 0.9837360594795539, \"n\": 5328, \"fpr\": 0.4832957957957958}, {\"threshold\": 0.064, \"p\": 27976, \"tpr\": 0.9835930797826709, \"n\": 5328, \"fpr\": 0.4821696696696697}, {\"threshold\": 0.065, \"p\": 27976, \"tpr\": 0.9835930797826709, \"n\": 5328, \"fpr\": 0.48085585585585583}, {\"threshold\": 0.066, \"p\": 27976, \"tpr\": 0.9835930797826709, \"n\": 5328, \"fpr\": 0.4802927927927928}, {\"threshold\": 0.067, \"p\": 27976, \"tpr\": 0.9835215899342293, \"n\": 5328, \"fpr\": 0.47954204204204204}, {\"threshold\": 0.068, \"p\": 27976, \"tpr\": 0.9833428653131255, \"n\": 5328, \"fpr\": 0.4784159159159159}, {\"threshold\": 0.069, \"p\": 27976, \"tpr\": 0.9833071203889048, \"n\": 5328, \"fpr\": 0.4772897897897898}, {\"threshold\": 0.07, \"p\": 27976, \"tpr\": 0.9832356305404633, \"n\": 5328, \"fpr\": 0.47653903903903905}, {\"threshold\": 0.071, \"p\": 27976, \"tpr\": 0.9831998856162425, \"n\": 5328, \"fpr\": 0.4752252252252252}, {\"threshold\": 0.072, \"p\": 27976, \"tpr\": 0.9831998856162425, \"n\": 5328, \"fpr\": 0.4739114114114114}, {\"threshold\": 0.073, \"p\": 27976, \"tpr\": 0.9831641406920217, \"n\": 5328, \"fpr\": 0.47203453453453453}, {\"threshold\": 0.074, \"p\": 27976, \"tpr\": 0.9830569059193595, \"n\": 5328, \"fpr\": 0.470533033033033}, {\"threshold\": 0.075, \"p\": 27976, \"tpr\": 0.9829496711466972, \"n\": 5328, \"fpr\": 0.46865615615615613}, {\"threshold\": 0.076, \"p\": 27976, \"tpr\": 0.9827709465255934, \"n\": 5328, \"fpr\": 0.4677177177177177}, {\"threshold\": 0.077, \"p\": 27976, \"tpr\": 0.9827352016013726, \"n\": 5328, \"fpr\": 0.4664039039039039}, {\"threshold\": 0.078, \"p\": 27976, \"tpr\": 0.9824492422076065, \"n\": 5328, \"fpr\": 0.46546546546546547}, {\"threshold\": 0.079, \"p\": 27976, \"tpr\": 0.9824492422076065, \"n\": 5328, \"fpr\": 0.46452702702702703}, {\"threshold\": 0.08, \"p\": 27976, \"tpr\": 0.9823420074349443, \"n\": 5328, \"fpr\": 0.4635885885885886}, {\"threshold\": 0.081, \"p\": 27976, \"tpr\": 0.9823062625107235, \"n\": 5328, \"fpr\": 0.46283783783783783}, {\"threshold\": 0.082, \"p\": 27976, \"tpr\": 0.9822705175865027, \"n\": 5328, \"fpr\": 0.46133633633633636}, {\"threshold\": 0.083, \"p\": 27976, \"tpr\": 0.9820560480411782, \"n\": 5328, \"fpr\": 0.45983483483483484}, {\"threshold\": 0.084, \"p\": 27976, \"tpr\": 0.9819845581927367, \"n\": 5328, \"fpr\": 0.45852102102102105}, {\"threshold\": 0.085, \"p\": 27976, \"tpr\": 0.9819845581927367, \"n\": 5328, \"fpr\": 0.45645645645645644}, {\"threshold\": 0.086, \"p\": 27976, \"tpr\": 0.9819488132685159, \"n\": 5328, \"fpr\": 0.455518018018018}, {\"threshold\": 0.087, \"p\": 27976, \"tpr\": 0.9818773234200744, \"n\": 5328, \"fpr\": 0.45401651651651653}, {\"threshold\": 0.088, \"p\": 27976, \"tpr\": 0.9816628538747498, \"n\": 5328, \"fpr\": 0.452515015015015}, {\"threshold\": 0.089, \"p\": 27976, \"tpr\": 0.981484129253646, \"n\": 5328, \"fpr\": 0.4519519519519519}, {\"threshold\": 0.09, \"p\": 27976, \"tpr\": 0.9814126394052045, \"n\": 5328, \"fpr\": 0.4510135135135135}, {\"threshold\": 0.091, \"p\": 27976, \"tpr\": 0.9813768944809838, \"n\": 5328, \"fpr\": 0.45007507507507505}, {\"threshold\": 0.092, \"p\": 27976, \"tpr\": 0.9813768944809838, \"n\": 5328, \"fpr\": 0.44894894894894893}, {\"threshold\": 0.093, \"p\": 27976, \"tpr\": 0.9812339147841006, \"n\": 5328, \"fpr\": 0.44763513513513514}, {\"threshold\": 0.094, \"p\": 27976, \"tpr\": 0.9811624249356591, \"n\": 5328, \"fpr\": 0.4468843843843844}, {\"threshold\": 0.095, \"p\": 27976, \"tpr\": 0.9810551901629968, \"n\": 5328, \"fpr\": 0.44594594594594594}, {\"threshold\": 0.096, \"p\": 27976, \"tpr\": 0.9809479553903345, \"n\": 5328, \"fpr\": 0.4450075075075075}, {\"threshold\": 0.097, \"p\": 27976, \"tpr\": 0.9809122104661138, \"n\": 5328, \"fpr\": 0.44425675675675674}, {\"threshold\": 0.098, \"p\": 27976, \"tpr\": 0.9806977409207892, \"n\": 5328, \"fpr\": 0.443506006006006}, {\"threshold\": 0.099, \"p\": 27976, \"tpr\": 0.9804832713754646, \"n\": 5328, \"fpr\": 0.44256756756756754}, {\"threshold\": 0.1, \"p\": 27976, \"tpr\": 0.9804117815270231, \"n\": 5328, \"fpr\": 0.4416291291291291}, {\"threshold\": 0.101, \"p\": 27976, \"tpr\": 0.9803402916785816, \"n\": 5328, \"fpr\": 0.43975225225225223}, {\"threshold\": 0.102, \"p\": 27976, \"tpr\": 0.9802330569059193, \"n\": 5328, \"fpr\": 0.43825075075075076}, {\"threshold\": 0.103, \"p\": 27976, \"tpr\": 0.9801973119816986, \"n\": 5328, \"fpr\": 0.4375}, {\"threshold\": 0.104, \"p\": 27976, \"tpr\": 0.9800185873605948, \"n\": 5328, \"fpr\": 0.4363738738738739}, {\"threshold\": 0.105, \"p\": 27976, \"tpr\": 0.979839862739491, \"n\": 5328, \"fpr\": 0.4359984984984985}, {\"threshold\": 0.106, \"p\": 27976, \"tpr\": 0.9796968830426079, \"n\": 5328, \"fpr\": 0.43430930930930933}, {\"threshold\": 0.107, \"p\": 27976, \"tpr\": 0.9796611381183872, \"n\": 5328, \"fpr\": 0.43318318318318316}, {\"threshold\": 0.108, \"p\": 27976, \"tpr\": 0.9795896482699457, \"n\": 5328, \"fpr\": 0.43262012012012013}, {\"threshold\": 0.109, \"p\": 27976, \"tpr\": 0.9794109236488419, \"n\": 5328, \"fpr\": 0.431493993993994}, {\"threshold\": 0.11, \"p\": 27976, \"tpr\": 0.9793036888761796, \"n\": 5328, \"fpr\": 0.43074324324324326}, {\"threshold\": 0.111, \"p\": 27976, \"tpr\": 0.9793036888761796, \"n\": 5328, \"fpr\": 0.42924174174174173}, {\"threshold\": 0.112, \"p\": 27976, \"tpr\": 0.9791607091792965, \"n\": 5328, \"fpr\": 0.4286786786786787}, {\"threshold\": 0.113, \"p\": 27976, \"tpr\": 0.9790177294824135, \"n\": 5328, \"fpr\": 0.42792792792792794}, {\"threshold\": 0.114, \"p\": 27976, \"tpr\": 0.9789819845581927, \"n\": 5328, \"fpr\": 0.4271771771771772}, {\"threshold\": 0.115, \"p\": 27976, \"tpr\": 0.9788747497855305, \"n\": 5328, \"fpr\": 0.42567567567567566}, {\"threshold\": 0.116, \"p\": 27976, \"tpr\": 0.9788390048613097, \"n\": 5328, \"fpr\": 0.4247372372372372}, {\"threshold\": 0.117, \"p\": 27976, \"tpr\": 0.9787317700886474, \"n\": 5328, \"fpr\": 0.4241741741741742}, {\"threshold\": 0.118, \"p\": 27976, \"tpr\": 0.9786602802402059, \"n\": 5328, \"fpr\": 0.4239864864864865}, {\"threshold\": 0.119, \"p\": 27976, \"tpr\": 0.9786245353159851, \"n\": 5328, \"fpr\": 0.42323573573573575}, {\"threshold\": 0.12, \"p\": 27976, \"tpr\": 0.9785530454675436, \"n\": 5328, \"fpr\": 0.422484984984985}, {\"threshold\": 0.121, \"p\": 27976, \"tpr\": 0.9783028309979983, \"n\": 5328, \"fpr\": 0.4219219219219219}, {\"threshold\": 0.122, \"p\": 27976, \"tpr\": 0.978195596225336, \"n\": 5328, \"fpr\": 0.4219219219219219}, {\"threshold\": 0.123, \"p\": 27976, \"tpr\": 0.9781241063768945, \"n\": 5328, \"fpr\": 0.42173423423423423}, {\"threshold\": 0.124, \"p\": 27976, \"tpr\": 0.9780168716042322, \"n\": 5328, \"fpr\": 0.4206081081081081}, {\"threshold\": 0.125, \"p\": 27976, \"tpr\": 0.9779811266800115, \"n\": 5328, \"fpr\": 0.42004504504504503}, {\"threshold\": 0.126, \"p\": 27976, \"tpr\": 0.9779811266800115, \"n\": 5328, \"fpr\": 0.4191066066066066}, {\"threshold\": 0.127, \"p\": 27976, \"tpr\": 0.9778024020589077, \"n\": 5328, \"fpr\": 0.41835585585585583}, {\"threshold\": 0.128, \"p\": 27976, \"tpr\": 0.9777666571346869, \"n\": 5328, \"fpr\": 0.4176051051051051}, {\"threshold\": 0.129, \"p\": 27976, \"tpr\": 0.9775879325135831, \"n\": 5328, \"fpr\": 0.41704204204204204}, {\"threshold\": 0.13, \"p\": 27976, \"tpr\": 0.9773734629682586, \"n\": 5328, \"fpr\": 0.4159159159159159}, {\"threshold\": 0.131, \"p\": 27976, \"tpr\": 0.9773377180440378, \"n\": 5328, \"fpr\": 0.41535285285285284}, {\"threshold\": 0.132, \"p\": 27976, \"tpr\": 0.9771947383471548, \"n\": 5328, \"fpr\": 0.41403903903903905}, {\"threshold\": 0.133, \"p\": 27976, \"tpr\": 0.9771232484987132, \"n\": 5328, \"fpr\": 0.41347597597597596}, {\"threshold\": 0.134, \"p\": 27976, \"tpr\": 0.9770160137260508, \"n\": 5328, \"fpr\": 0.41234984984984985}, {\"threshold\": 0.135, \"p\": 27976, \"tpr\": 0.9769087789533886, \"n\": 5328, \"fpr\": 0.41066066066066065}, {\"threshold\": 0.136, \"p\": 27976, \"tpr\": 0.9769087789533886, \"n\": 5328, \"fpr\": 0.4099099099099099}, {\"threshold\": 0.137, \"p\": 27976, \"tpr\": 0.9766585644838433, \"n\": 5328, \"fpr\": 0.40878378378378377}, {\"threshold\": 0.138, \"p\": 27976, \"tpr\": 0.9766228195596225, \"n\": 5328, \"fpr\": 0.40822072072072074}, {\"threshold\": 0.139, \"p\": 27976, \"tpr\": 0.9765870746354017, \"n\": 5328, \"fpr\": 0.4072822822822823}, {\"threshold\": 0.14, \"p\": 27976, \"tpr\": 0.976551329711181, \"n\": 5328, \"fpr\": 0.40709459459459457}, {\"threshold\": 0.141, \"p\": 27976, \"tpr\": 0.9765155847869602, \"n\": 5328, \"fpr\": 0.4069069069069069}, {\"threshold\": 0.142, \"p\": 27976, \"tpr\": 0.9764798398627395, \"n\": 5328, \"fpr\": 0.40615615615615613}, {\"threshold\": 0.143, \"p\": 27976, \"tpr\": 0.9764440949385187, \"n\": 5328, \"fpr\": 0.4052177177177177}, {\"threshold\": 0.144, \"p\": 27976, \"tpr\": 0.9764440949385187, \"n\": 5328, \"fpr\": 0.40484234234234234}, {\"threshold\": 0.145, \"p\": 27976, \"tpr\": 0.9764083500142979, \"n\": 5328, \"fpr\": 0.40315315315315314}, {\"threshold\": 0.146, \"p\": 27976, \"tpr\": 0.9763368601658564, \"n\": 5328, \"fpr\": 0.4024024024024024}, {\"threshold\": 0.147, \"p\": 27976, \"tpr\": 0.9762653703174149, \"n\": 5328, \"fpr\": 0.40127627627627627}, {\"threshold\": 0.148, \"p\": 27976, \"tpr\": 0.9761581355447526, \"n\": 5328, \"fpr\": 0.4010885885885886}, {\"threshold\": 0.149, \"p\": 27976, \"tpr\": 0.9761223906205319, \"n\": 5328, \"fpr\": 0.4005255255255255}, {\"threshold\": 0.15, \"p\": 27976, \"tpr\": 0.9760866456963111, \"n\": 5328, \"fpr\": 0.3999624624624625}, {\"threshold\": 0.151, \"p\": 27976, \"tpr\": 0.9760509007720903, \"n\": 5328, \"fpr\": 0.39883633633633636}, {\"threshold\": 0.152, \"p\": 27976, \"tpr\": 0.9759794109236488, \"n\": 5328, \"fpr\": 0.39883633633633636}, {\"threshold\": 0.153, \"p\": 27976, \"tpr\": 0.9758364312267658, \"n\": 5328, \"fpr\": 0.3982732732732733}, {\"threshold\": 0.154, \"p\": 27976, \"tpr\": 0.9757649413783243, \"n\": 5328, \"fpr\": 0.39714714714714716}, {\"threshold\": 0.155, \"p\": 27976, \"tpr\": 0.9756219616814412, \"n\": 5328, \"fpr\": 0.39677177177177175}, {\"threshold\": 0.156, \"p\": 27976, \"tpr\": 0.9755504718329997, \"n\": 5328, \"fpr\": 0.3962087087087087}, {\"threshold\": 0.157, \"p\": 27976, \"tpr\": 0.9754432370603374, \"n\": 5328, \"fpr\": 0.39602102102102105}, {\"threshold\": 0.158, \"p\": 27976, \"tpr\": 0.9753717472118959, \"n\": 5328, \"fpr\": 0.3952702702702703}, {\"threshold\": 0.159, \"p\": 27976, \"tpr\": 0.9753360022876751, \"n\": 5328, \"fpr\": 0.3950825825825826}, {\"threshold\": 0.16, \"p\": 27976, \"tpr\": 0.9753360022876751, \"n\": 5328, \"fpr\": 0.3945195195195195}, {\"threshold\": 0.161, \"p\": 27976, \"tpr\": 0.9752645124392336, \"n\": 5328, \"fpr\": 0.39376876876876876}, {\"threshold\": 0.162, \"p\": 27976, \"tpr\": 0.9751930225907921, \"n\": 5328, \"fpr\": 0.39320570570570573}, {\"threshold\": 0.163, \"p\": 27976, \"tpr\": 0.9751215327423506, \"n\": 5328, \"fpr\": 0.3928303303303303}, {\"threshold\": 0.164, \"p\": 27976, \"tpr\": 0.9751215327423506, \"n\": 5328, \"fpr\": 0.3918918918918919}, {\"threshold\": 0.165, \"p\": 27976, \"tpr\": 0.9750142979696883, \"n\": 5328, \"fpr\": 0.3911411411411411}, {\"threshold\": 0.166, \"p\": 27976, \"tpr\": 0.9749428081212468, \"n\": 5328, \"fpr\": 0.39076576576576577}, {\"threshold\": 0.167, \"p\": 27976, \"tpr\": 0.9748355733485845, \"n\": 5328, \"fpr\": 0.39039039039039036}, {\"threshold\": 0.168, \"p\": 27976, \"tpr\": 0.974764083500143, \"n\": 5328, \"fpr\": 0.390015015015015}, {\"threshold\": 0.169, \"p\": 27976, \"tpr\": 0.9746568487274807, \"n\": 5328, \"fpr\": 0.38926426426426425}, {\"threshold\": 0.17, \"p\": 27976, \"tpr\": 0.9745496139548184, \"n\": 5328, \"fpr\": 0.38795045045045046}, {\"threshold\": 0.171, \"p\": 27976, \"tpr\": 0.9745496139548184, \"n\": 5328, \"fpr\": 0.38682432432432434}, {\"threshold\": 0.172, \"p\": 27976, \"tpr\": 0.9744781241063769, \"n\": 5328, \"fpr\": 0.38644894894894893}, {\"threshold\": 0.173, \"p\": 27976, \"tpr\": 0.9744781241063769, \"n\": 5328, \"fpr\": 0.3855105105105105}, {\"threshold\": 0.174, \"p\": 27976, \"tpr\": 0.9744066342579354, \"n\": 5328, \"fpr\": 0.3853228228228228}, {\"threshold\": 0.175, \"p\": 27976, \"tpr\": 0.9742636545610524, \"n\": 5328, \"fpr\": 0.38513513513513514}, {\"threshold\": 0.176, \"p\": 27976, \"tpr\": 0.9742279096368316, \"n\": 5328, \"fpr\": 0.3843843843843844}, {\"threshold\": 0.177, \"p\": 27976, \"tpr\": 0.9741921647126108, \"n\": 5328, \"fpr\": 0.38288288288288286}, {\"threshold\": 0.178, \"p\": 27976, \"tpr\": 0.9740849299399486, \"n\": 5328, \"fpr\": 0.38213213213213215}, {\"threshold\": 0.179, \"p\": 27976, \"tpr\": 0.974013440091507, \"n\": 5328, \"fpr\": 0.38175675675675674}, {\"threshold\": 0.18, \"p\": 27976, \"tpr\": 0.9739062053188448, \"n\": 5328, \"fpr\": 0.3808183183183183}, {\"threshold\": 0.181, \"p\": 27976, \"tpr\": 0.9738347154704032, \"n\": 5328, \"fpr\": 0.3802552552552553}, {\"threshold\": 0.182, \"p\": 27976, \"tpr\": 0.9736202459250787, \"n\": 5328, \"fpr\": 0.3795045045045045}, {\"threshold\": 0.183, \"p\": 27976, \"tpr\": 0.9734772662281956, \"n\": 5328, \"fpr\": 0.37875375375375375}, {\"threshold\": 0.184, \"p\": 27976, \"tpr\": 0.9733342865313126, \"n\": 5328, \"fpr\": 0.3783783783783784}, {\"threshold\": 0.185, \"p\": 27976, \"tpr\": 0.9732985416070918, \"n\": 5328, \"fpr\": 0.3778153153153153}, {\"threshold\": 0.186, \"p\": 27976, \"tpr\": 0.9732985416070918, \"n\": 5328, \"fpr\": 0.3768768768768769}, {\"threshold\": 0.187, \"p\": 27976, \"tpr\": 0.9731555619102088, \"n\": 5328, \"fpr\": 0.37575075075075076}, {\"threshold\": 0.188, \"p\": 27976, \"tpr\": 0.973119816985988, \"n\": 5328, \"fpr\": 0.37575075075075076}, {\"threshold\": 0.189, \"p\": 27976, \"tpr\": 0.9730483271375465, \"n\": 5328, \"fpr\": 0.37537537537537535}, {\"threshold\": 0.19, \"p\": 27976, \"tpr\": 0.9729053474406634, \"n\": 5328, \"fpr\": 0.375}, {\"threshold\": 0.191, \"p\": 27976, \"tpr\": 0.9728338575922219, \"n\": 5328, \"fpr\": 0.3744369369369369}, {\"threshold\": 0.192, \"p\": 27976, \"tpr\": 0.9727266228195596, \"n\": 5328, \"fpr\": 0.37424924924924924}, {\"threshold\": 0.193, \"p\": 27976, \"tpr\": 0.972655132971118, \"n\": 5328, \"fpr\": 0.3736861861861862}, {\"threshold\": 0.194, \"p\": 27976, \"tpr\": 0.9725836431226765, \"n\": 5328, \"fpr\": 0.3733108108108108}, {\"threshold\": 0.195, \"p\": 27976, \"tpr\": 0.972512153274235, \"n\": 5328, \"fpr\": 0.37293543543543545}, {\"threshold\": 0.196, \"p\": 27976, \"tpr\": 0.9724406634257935, \"n\": 5328, \"fpr\": 0.37256006006006004}, {\"threshold\": 0.197, \"p\": 27976, \"tpr\": 0.9724049185015727, \"n\": 5328, \"fpr\": 0.37237237237237236}, {\"threshold\": 0.198, \"p\": 27976, \"tpr\": 0.972369173577352, \"n\": 5328, \"fpr\": 0.3721846846846847}, {\"threshold\": 0.199, \"p\": 27976, \"tpr\": 0.9722619388046897, \"n\": 5328, \"fpr\": 0.37180930930930933}, {\"threshold\": 0.2, \"p\": 27976, \"tpr\": 0.9722261938804689, \"n\": 5328, \"fpr\": 0.37105855855855857}, {\"threshold\": 0.201, \"p\": 27976, \"tpr\": 0.9721904489562482, \"n\": 5328, \"fpr\": 0.3704954954954955}, {\"threshold\": 0.202, \"p\": 27976, \"tpr\": 0.9721189591078067, \"n\": 5328, \"fpr\": 0.37012012012012013}, {\"threshold\": 0.203, \"p\": 27976, \"tpr\": 0.9720832141835859, \"n\": 5328, \"fpr\": 0.37012012012012013}, {\"threshold\": 0.204, \"p\": 27976, \"tpr\": 0.9719402344867029, \"n\": 5328, \"fpr\": 0.36955705705705705}, {\"threshold\": 0.205, \"p\": 27976, \"tpr\": 0.9717972547898198, \"n\": 5328, \"fpr\": 0.36843093093093093}, {\"threshold\": 0.206, \"p\": 27976, \"tpr\": 0.9717257649413783, \"n\": 5328, \"fpr\": 0.3674924924924925}, {\"threshold\": 0.207, \"p\": 27976, \"tpr\": 0.9717257649413783, \"n\": 5328, \"fpr\": 0.36711711711711714}, {\"threshold\": 0.208, \"p\": 27976, \"tpr\": 0.971618530168716, \"n\": 5328, \"fpr\": 0.36674174174174173}, {\"threshold\": 0.209, \"p\": 27976, \"tpr\": 0.9715470403202745, \"n\": 5328, \"fpr\": 0.3658033033033033}, {\"threshold\": 0.21, \"p\": 27976, \"tpr\": 0.971475550471833, \"n\": 5328, \"fpr\": 0.3644894894894895}, {\"threshold\": 0.211, \"p\": 27976, \"tpr\": 0.9713683156991707, \"n\": 5328, \"fpr\": 0.3641141141141141}, {\"threshold\": 0.212, \"p\": 27976, \"tpr\": 0.9711538461538461, \"n\": 5328, \"fpr\": 0.3639264264264264}, {\"threshold\": 0.213, \"p\": 27976, \"tpr\": 0.9711181012296254, \"n\": 5328, \"fpr\": 0.3633633633633634}, {\"threshold\": 0.214, \"p\": 27976, \"tpr\": 0.9710108664569631, \"n\": 5328, \"fpr\": 0.362987987987988}, {\"threshold\": 0.215, \"p\": 27976, \"tpr\": 0.9709751215327423, \"n\": 5328, \"fpr\": 0.36242492492492495}, {\"threshold\": 0.216, \"p\": 27976, \"tpr\": 0.9709036316843008, \"n\": 5328, \"fpr\": 0.3614864864864865}, {\"threshold\": 0.217, \"p\": 27976, \"tpr\": 0.9709036316843008, \"n\": 5328, \"fpr\": 0.3611111111111111}, {\"threshold\": 0.218, \"p\": 27976, \"tpr\": 0.9709036316843008, \"n\": 5328, \"fpr\": 0.359984984984985}, {\"threshold\": 0.219, \"p\": 27976, \"tpr\": 0.9708321418358593, \"n\": 5328, \"fpr\": 0.35923423423423423}, {\"threshold\": 0.22, \"p\": 27976, \"tpr\": 0.9707963969116385, \"n\": 5328, \"fpr\": 0.3582957957957958}, {\"threshold\": 0.221, \"p\": 27976, \"tpr\": 0.9706891621389763, \"n\": 5328, \"fpr\": 0.3577327327327327}, {\"threshold\": 0.222, \"p\": 27976, \"tpr\": 0.9706891621389763, \"n\": 5328, \"fpr\": 0.35754504504504503}, {\"threshold\": 0.223, \"p\": 27976, \"tpr\": 0.9704746925936517, \"n\": 5328, \"fpr\": 0.3571696696696697}, {\"threshold\": 0.224, \"p\": 27976, \"tpr\": 0.9704032027452102, \"n\": 5328, \"fpr\": 0.35623123123123124}, {\"threshold\": 0.225, \"p\": 27976, \"tpr\": 0.9703674578209894, \"n\": 5328, \"fpr\": 0.3554804804804805}, {\"threshold\": 0.226, \"p\": 27976, \"tpr\": 0.9702602230483272, \"n\": 5328, \"fpr\": 0.3549174174174174}, {\"threshold\": 0.227, \"p\": 27976, \"tpr\": 0.9700457535030026, \"n\": 5328, \"fpr\": 0.3547297297297297}, {\"threshold\": 0.228, \"p\": 27976, \"tpr\": 0.9699742636545611, \"n\": 5328, \"fpr\": 0.3541666666666667}, {\"threshold\": 0.229, \"p\": 27976, \"tpr\": 0.9699385187303403, \"n\": 5328, \"fpr\": 0.3534159159159159}, {\"threshold\": 0.23, \"p\": 27976, \"tpr\": 0.9699027738061196, \"n\": 5328, \"fpr\": 0.3530405405405405}, {\"threshold\": 0.231, \"p\": 27976, \"tpr\": 0.9697955390334573, \"n\": 5328, \"fpr\": 0.3522897897897898}, {\"threshold\": 0.232, \"p\": 27976, \"tpr\": 0.9697240491850158, \"n\": 5328, \"fpr\": 0.35135135135135137}, {\"threshold\": 0.233, \"p\": 27976, \"tpr\": 0.9696525593365742, \"n\": 5328, \"fpr\": 0.35097597597597596}, {\"threshold\": 0.234, \"p\": 27976, \"tpr\": 0.9696168144123535, \"n\": 5328, \"fpr\": 0.3506006006006006}, {\"threshold\": 0.235, \"p\": 27976, \"tpr\": 0.9696168144123535, \"n\": 5328, \"fpr\": 0.35041291291291293}, {\"threshold\": 0.236, \"p\": 27976, \"tpr\": 0.9695810694881327, \"n\": 5328, \"fpr\": 0.3494744744744745}, {\"threshold\": 0.237, \"p\": 27976, \"tpr\": 0.969545324563912, \"n\": 5328, \"fpr\": 0.3490990990990991}, {\"threshold\": 0.238, \"p\": 27976, \"tpr\": 0.9695095796396912, \"n\": 5328, \"fpr\": 0.34816066066066065}, {\"threshold\": 0.239, \"p\": 27976, \"tpr\": 0.9694738347154704, \"n\": 5328, \"fpr\": 0.3475975975975976}, {\"threshold\": 0.24, \"p\": 27976, \"tpr\": 0.9691878753217044, \"n\": 5328, \"fpr\": 0.3474099099099099}, {\"threshold\": 0.241, \"p\": 27976, \"tpr\": 0.9690806405490421, \"n\": 5328, \"fpr\": 0.3466591591591592}, {\"threshold\": 0.242, \"p\": 27976, \"tpr\": 0.9690091507006006, \"n\": 5328, \"fpr\": 0.34647147147147145}, {\"threshold\": 0.243, \"p\": 27976, \"tpr\": 0.9689019159279383, \"n\": 5328, \"fpr\": 0.3460960960960961}, {\"threshold\": 0.244, \"p\": 27976, \"tpr\": 0.9688304260794968, \"n\": 5328, \"fpr\": 0.34572072072072074}, {\"threshold\": 0.245, \"p\": 27976, \"tpr\": 0.9687231913068344, \"n\": 5328, \"fpr\": 0.3447822822822823}, {\"threshold\": 0.246, \"p\": 27976, \"tpr\": 0.9686517014583929, \"n\": 5328, \"fpr\": 0.34403153153153154}, {\"threshold\": 0.247, \"p\": 27976, \"tpr\": 0.9685802116099513, \"n\": 5328, \"fpr\": 0.34403153153153154}, {\"threshold\": 0.248, \"p\": 27976, \"tpr\": 0.9685444666857306, \"n\": 5328, \"fpr\": 0.34365615615615613}, {\"threshold\": 0.249, \"p\": 27976, \"tpr\": 0.9684729768372891, \"n\": 5328, \"fpr\": 0.3432807807807808}, {\"threshold\": 0.25, \"p\": 27976, \"tpr\": 0.9684372319130683, \"n\": 5328, \"fpr\": 0.34290540540540543}, {\"threshold\": 0.251, \"p\": 27976, \"tpr\": 0.9684014869888475, \"n\": 5328, \"fpr\": 0.34253003003003}, {\"threshold\": 0.252, \"p\": 27976, \"tpr\": 0.9682942522161853, \"n\": 5328, \"fpr\": 0.34234234234234234}, {\"threshold\": 0.253, \"p\": 27976, \"tpr\": 0.9682227623677437, \"n\": 5328, \"fpr\": 0.341966966966967}, {\"threshold\": 0.254, \"p\": 27976, \"tpr\": 0.968187017443523, \"n\": 5328, \"fpr\": 0.3415915915915916}, {\"threshold\": 0.255, \"p\": 27976, \"tpr\": 0.9681512725193022, \"n\": 5328, \"fpr\": 0.34121621621621623}, {\"threshold\": 0.256, \"p\": 27976, \"tpr\": 0.9680797826708607, \"n\": 5328, \"fpr\": 0.34046546546546547}, {\"threshold\": 0.257, \"p\": 27976, \"tpr\": 0.9680440377466399, \"n\": 5328, \"fpr\": 0.3400900900900901}, {\"threshold\": 0.258, \"p\": 27976, \"tpr\": 0.9679725478981984, \"n\": 5328, \"fpr\": 0.3399024024024024}, {\"threshold\": 0.259, \"p\": 27976, \"tpr\": 0.9679368029739777, \"n\": 5328, \"fpr\": 0.33877627627627627}, {\"threshold\": 0.26, \"p\": 27976, \"tpr\": 0.9678653131255361, \"n\": 5328, \"fpr\": 0.3385885885885886}, {\"threshold\": 0.261, \"p\": 27976, \"tpr\": 0.9677938232770946, \"n\": 5328, \"fpr\": 0.3385885885885886}, {\"threshold\": 0.262, \"p\": 27976, \"tpr\": 0.9677938232770946, \"n\": 5328, \"fpr\": 0.33821321321321324}, {\"threshold\": 0.263, \"p\": 27976, \"tpr\": 0.9677223334286531, \"n\": 5328, \"fpr\": 0.33765015015015015}, {\"threshold\": 0.264, \"p\": 27976, \"tpr\": 0.9676508435802116, \"n\": 5328, \"fpr\": 0.3372747747747748}, {\"threshold\": 0.265, \"p\": 27976, \"tpr\": 0.9676150986559908, \"n\": 5328, \"fpr\": 0.3367117117117117}, {\"threshold\": 0.266, \"p\": 27976, \"tpr\": 0.9674721189591078, \"n\": 5328, \"fpr\": 0.33652402402402404}, {\"threshold\": 0.267, \"p\": 27976, \"tpr\": 0.967436374034887, \"n\": 5328, \"fpr\": 0.3355855855855856}, {\"threshold\": 0.268, \"p\": 27976, \"tpr\": 0.9673291392622247, \"n\": 5328, \"fpr\": 0.3352102102102102}, {\"threshold\": 0.269, \"p\": 27976, \"tpr\": 0.9672576494137832, \"n\": 5328, \"fpr\": 0.33483483483483484}, {\"threshold\": 0.27, \"p\": 27976, \"tpr\": 0.9672576494137832, \"n\": 5328, \"fpr\": 0.33464714714714716}, {\"threshold\": 0.271, \"p\": 27976, \"tpr\": 0.9671146697169002, \"n\": 5328, \"fpr\": 0.3344594594594595}, {\"threshold\": 0.272, \"p\": 27976, \"tpr\": 0.9671146697169002, \"n\": 5328, \"fpr\": 0.33352102102102105}, {\"threshold\": 0.273, \"p\": 27976, \"tpr\": 0.9670789247926794, \"n\": 5328, \"fpr\": 0.33295795795795796}, {\"threshold\": 0.274, \"p\": 27976, \"tpr\": 0.9670074349442379, \"n\": 5328, \"fpr\": 0.3323948948948949}, {\"threshold\": 0.275, \"p\": 27976, \"tpr\": 0.9669002001715756, \"n\": 5328, \"fpr\": 0.33183183183183185}, {\"threshold\": 0.276, \"p\": 27976, \"tpr\": 0.9668644552473549, \"n\": 5328, \"fpr\": 0.33145645645645644}, {\"threshold\": 0.277, \"p\": 27976, \"tpr\": 0.9668644552473549, \"n\": 5328, \"fpr\": 0.3310810810810811}, {\"threshold\": 0.278, \"p\": 27976, \"tpr\": 0.9668287103231341, \"n\": 5328, \"fpr\": 0.33070570570570573}, {\"threshold\": 0.279, \"p\": 27976, \"tpr\": 0.9667929653989134, \"n\": 5328, \"fpr\": 0.33014264264264265}, {\"threshold\": 0.28, \"p\": 27976, \"tpr\": 0.9667929653989134, \"n\": 5328, \"fpr\": 0.32995495495495497}, {\"threshold\": 0.281, \"p\": 27976, \"tpr\": 0.9666857306262511, \"n\": 5328, \"fpr\": 0.32957957957957956}, {\"threshold\": 0.282, \"p\": 27976, \"tpr\": 0.9666499857020303, \"n\": 5328, \"fpr\": 0.32957957957957956}, {\"threshold\": 0.283, \"p\": 27976, \"tpr\": 0.966542750929368, \"n\": 5328, \"fpr\": 0.3286411411411411}, {\"threshold\": 0.284, \"p\": 27976, \"tpr\": 0.9664355161567058, \"n\": 5328, \"fpr\": 0.32826576576576577}, {\"threshold\": 0.285, \"p\": 27976, \"tpr\": 0.9663282813840435, \"n\": 5328, \"fpr\": 0.3277027027027027}, {\"threshold\": 0.286, \"p\": 27976, \"tpr\": 0.9662925364598227, \"n\": 5328, \"fpr\": 0.327515015015015}, {\"threshold\": 0.287, \"p\": 27976, \"tpr\": 0.9661495567629397, \"n\": 5328, \"fpr\": 0.3269519519519519}, {\"threshold\": 0.288, \"p\": 27976, \"tpr\": 0.9660423219902774, \"n\": 5328, \"fpr\": 0.3263888888888889}, {\"threshold\": 0.289, \"p\": 27976, \"tpr\": 0.9659350872176151, \"n\": 5328, \"fpr\": 0.3260135135135135}, {\"threshold\": 0.29, \"p\": 27976, \"tpr\": 0.9657921075207321, \"n\": 5328, \"fpr\": 0.32563813813813813}, {\"threshold\": 0.291, \"p\": 27976, \"tpr\": 0.9657206176722906, \"n\": 5328, \"fpr\": 0.32507507507507505}, {\"threshold\": 0.292, \"p\": 27976, \"tpr\": 0.9656133828996283, \"n\": 5328, \"fpr\": 0.3246996996996997}, {\"threshold\": 0.293, \"p\": 27976, \"tpr\": 0.9655418930511868, \"n\": 5328, \"fpr\": 0.3241366366366366}, {\"threshold\": 0.294, \"p\": 27976, \"tpr\": 0.9653989133543037, \"n\": 5328, \"fpr\": 0.3241366366366366}, {\"threshold\": 0.295, \"p\": 27976, \"tpr\": 0.9652916785816414, \"n\": 5328, \"fpr\": 0.32394894894894893}, {\"threshold\": 0.296, \"p\": 27976, \"tpr\": 0.9652559336574207, \"n\": 5328, \"fpr\": 0.3233858858858859}, {\"threshold\": 0.297, \"p\": 27976, \"tpr\": 0.9651844438089792, \"n\": 5328, \"fpr\": 0.32263513513513514}, {\"threshold\": 0.298, \"p\": 27976, \"tpr\": 0.9650772090363169, \"n\": 5328, \"fpr\": 0.32244744744744747}, {\"threshold\": 0.299, \"p\": 27976, \"tpr\": 0.9650414641120961, \"n\": 5328, \"fpr\": 0.3218843843843844}, {\"threshold\": 0.3, \"p\": 27976, \"tpr\": 0.9648984844152131, \"n\": 5328, \"fpr\": 0.3216966966966967}, {\"threshold\": 0.301, \"p\": 27976, \"tpr\": 0.9648627394909923, \"n\": 5328, \"fpr\": 0.32094594594594594}, {\"threshold\": 0.302, \"p\": 27976, \"tpr\": 0.96475550471833, \"n\": 5328, \"fpr\": 0.32075825825825827}, {\"threshold\": 0.303, \"p\": 27976, \"tpr\": 0.96475550471833, \"n\": 5328, \"fpr\": 0.3201951951951952}, {\"threshold\": 0.304, \"p\": 27976, \"tpr\": 0.9646840148698885, \"n\": 5328, \"fpr\": 0.31963213213213215}, {\"threshold\": 0.305, \"p\": 27976, \"tpr\": 0.964612525021447, \"n\": 5328, \"fpr\": 0.31906906906906907}, {\"threshold\": 0.306, \"p\": 27976, \"tpr\": 0.9645052902487846, \"n\": 5328, \"fpr\": 0.318506006006006}, {\"threshold\": 0.307, \"p\": 27976, \"tpr\": 0.9644338004003431, \"n\": 5328, \"fpr\": 0.318506006006006}, {\"threshold\": 0.308, \"p\": 27976, \"tpr\": 0.9644338004003431, \"n\": 5328, \"fpr\": 0.31813063063063063}, {\"threshold\": 0.309, \"p\": 27976, \"tpr\": 0.9644338004003431, \"n\": 5328, \"fpr\": 0.3171921921921922}, {\"threshold\": 0.31, \"p\": 27976, \"tpr\": 0.9642550757792393, \"n\": 5328, \"fpr\": 0.3170045045045045}, {\"threshold\": 0.311, \"p\": 27976, \"tpr\": 0.9642550757792393, \"n\": 5328, \"fpr\": 0.31625375375375375}, {\"threshold\": 0.312, \"p\": 27976, \"tpr\": 0.964147841006577, \"n\": 5328, \"fpr\": 0.3160660660660661}, {\"threshold\": 0.313, \"p\": 27976, \"tpr\": 0.9640406062339147, \"n\": 5328, \"fpr\": 0.31569069069069067}, {\"threshold\": 0.314, \"p\": 27976, \"tpr\": 0.9640406062339147, \"n\": 5328, \"fpr\": 0.31512762762762764}, {\"threshold\": 0.315, \"p\": 27976, \"tpr\": 0.964004861309694, \"n\": 5328, \"fpr\": 0.3140015015015015}, {\"threshold\": 0.316, \"p\": 27976, \"tpr\": 0.963861881612811, \"n\": 5328, \"fpr\": 0.3136261261261261}, {\"threshold\": 0.317, \"p\": 27976, \"tpr\": 0.9637189019159279, \"n\": 5328, \"fpr\": 0.31287537537537535}, {\"threshold\": 0.318, \"p\": 27976, \"tpr\": 0.9636474120674864, \"n\": 5328, \"fpr\": 0.3126876876876877}, {\"threshold\": 0.319, \"p\": 27976, \"tpr\": 0.9635401772948241, \"n\": 5328, \"fpr\": 0.3123123123123123}, {\"threshold\": 0.32, \"p\": 27976, \"tpr\": 0.9634686874463826, \"n\": 5328, \"fpr\": 0.31212462462462465}, {\"threshold\": 0.321, \"p\": 27976, \"tpr\": 0.9633614526737203, \"n\": 5328, \"fpr\": 0.3119369369369369}, {\"threshold\": 0.322, \"p\": 27976, \"tpr\": 0.9631469831283958, \"n\": 5328, \"fpr\": 0.31156156156156156}, {\"threshold\": 0.323, \"p\": 27976, \"tpr\": 0.9631469831283958, \"n\": 5328, \"fpr\": 0.3113738738738739}, {\"threshold\": 0.324, \"p\": 27976, \"tpr\": 0.9630754932799542, \"n\": 5328, \"fpr\": 0.3111861861861862}, {\"threshold\": 0.325, \"p\": 27976, \"tpr\": 0.9630040034315127, \"n\": 5328, \"fpr\": 0.3108108108108108}, {\"threshold\": 0.326, \"p\": 27976, \"tpr\": 0.9628967686588504, \"n\": 5328, \"fpr\": 0.31043543543543545}, {\"threshold\": 0.327, \"p\": 27976, \"tpr\": 0.9628610237346297, \"n\": 5328, \"fpr\": 0.31006006006006004}, {\"threshold\": 0.328, \"p\": 27976, \"tpr\": 0.9628252788104089, \"n\": 5328, \"fpr\": 0.3089339339339339}, {\"threshold\": 0.329, \"p\": 27976, \"tpr\": 0.9627895338861882, \"n\": 5328, \"fpr\": 0.30818318318318316}, {\"threshold\": 0.33, \"p\": 27976, \"tpr\": 0.9627537889619674, \"n\": 5328, \"fpr\": 0.30743243243243246}, {\"threshold\": 0.331, \"p\": 27976, \"tpr\": 0.9627180440377466, \"n\": 5328, \"fpr\": 0.30705705705705705}, {\"threshold\": 0.332, \"p\": 27976, \"tpr\": 0.9626108092650844, \"n\": 5328, \"fpr\": 0.30686936936936937}, {\"threshold\": 0.333, \"p\": 27976, \"tpr\": 0.9625393194166428, \"n\": 5328, \"fpr\": 0.3066816816816817}, {\"threshold\": 0.334, \"p\": 27976, \"tpr\": 0.9625393194166428, \"n\": 5328, \"fpr\": 0.30574324324324326}, {\"threshold\": 0.335, \"p\": 27976, \"tpr\": 0.9625035744924221, \"n\": 5328, \"fpr\": 0.30536786786786785}, {\"threshold\": 0.336, \"p\": 27976, \"tpr\": 0.9624678295682013, \"n\": 5328, \"fpr\": 0.3049924924924925}, {\"threshold\": 0.337, \"p\": 27976, \"tpr\": 0.9623248498713183, \"n\": 5328, \"fpr\": 0.30461711711711714}, {\"threshold\": 0.338, \"p\": 27976, \"tpr\": 0.962217615098656, \"n\": 5328, \"fpr\": 0.30424174174174173}, {\"threshold\": 0.339, \"p\": 27976, \"tpr\": 0.9621818701744352, \"n\": 5328, \"fpr\": 0.3038663663663664}, {\"threshold\": 0.34, \"p\": 27976, \"tpr\": 0.9620388904775522, \"n\": 5328, \"fpr\": 0.30292792792792794}, {\"threshold\": 0.341, \"p\": 27976, \"tpr\": 0.9619674006291107, \"n\": 5328, \"fpr\": 0.30274024024024027}, {\"threshold\": 0.342, \"p\": 27976, \"tpr\": 0.9618601658564484, \"n\": 5328, \"fpr\": 0.3019894894894895}, {\"threshold\": 0.343, \"p\": 27976, \"tpr\": 0.9617529310837861, \"n\": 5328, \"fpr\": 0.3019894894894895}, {\"threshold\": 0.344, \"p\": 27976, \"tpr\": 0.9615384615384616, \"n\": 5328, \"fpr\": 0.30180180180180183}, {\"threshold\": 0.345, \"p\": 27976, \"tpr\": 0.96146697169002, \"n\": 5328, \"fpr\": 0.30123873873873874}, {\"threshold\": 0.346, \"p\": 27976, \"tpr\": 0.9614312267657993, \"n\": 5328, \"fpr\": 0.30105105105105107}, {\"threshold\": 0.347, \"p\": 27976, \"tpr\": 0.9612882470689162, \"n\": 5328, \"fpr\": 0.3003003003003003}, {\"threshold\": 0.348, \"p\": 27976, \"tpr\": 0.9612525021446955, \"n\": 5328, \"fpr\": 0.30011261261261263}, {\"threshold\": 0.349, \"p\": 27976, \"tpr\": 0.961181012296254, \"n\": 5328, \"fpr\": 0.29992492492492495}, {\"threshold\": 0.35, \"p\": 27976, \"tpr\": 0.9611095224478124, \"n\": 5328, \"fpr\": 0.29992492492492495}, {\"threshold\": 0.351, \"p\": 27976, \"tpr\": 0.9610380325993709, \"n\": 5328, \"fpr\": 0.2989864864864865}, {\"threshold\": 0.352, \"p\": 27976, \"tpr\": 0.9610022876751502, \"n\": 5328, \"fpr\": 0.2987987987987988}, {\"threshold\": 0.353, \"p\": 27976, \"tpr\": 0.9608593079782671, \"n\": 5328, \"fpr\": 0.29823573573573575}, {\"threshold\": 0.354, \"p\": 27976, \"tpr\": 0.9607878181298256, \"n\": 5328, \"fpr\": 0.2980480480480481}, {\"threshold\": 0.355, \"p\": 27976, \"tpr\": 0.9606448384329426, \"n\": 5328, \"fpr\": 0.2980480480480481}, {\"threshold\": 0.356, \"p\": 27976, \"tpr\": 0.9606448384329426, \"n\": 5328, \"fpr\": 0.29786036036036034}, {\"threshold\": 0.357, \"p\": 27976, \"tpr\": 0.9605376036602803, \"n\": 5328, \"fpr\": 0.2972972972972973}, {\"threshold\": 0.358, \"p\": 27976, \"tpr\": 0.9604661138118388, \"n\": 5328, \"fpr\": 0.29710960960960964}, {\"threshold\": 0.359, \"p\": 27976, \"tpr\": 0.9603588790391764, \"n\": 5328, \"fpr\": 0.29710960960960964}, {\"threshold\": 0.36, \"p\": 27976, \"tpr\": 0.9603231341149556, \"n\": 5328, \"fpr\": 0.2963588588588589}, {\"threshold\": 0.361, \"p\": 27976, \"tpr\": 0.9602158993422933, \"n\": 5328, \"fpr\": 0.29617117117117114}, {\"threshold\": 0.362, \"p\": 27976, \"tpr\": 0.9601444094938518, \"n\": 5328, \"fpr\": 0.29598348348348347}, {\"threshold\": 0.363, \"p\": 27976, \"tpr\": 0.9600371747211895, \"n\": 5328, \"fpr\": 0.2956081081081081}, {\"threshold\": 0.364, \"p\": 27976, \"tpr\": 0.9600014297969688, \"n\": 5328, \"fpr\": 0.2956081081081081}, {\"threshold\": 0.365, \"p\": 27976, \"tpr\": 0.9599299399485273, \"n\": 5328, \"fpr\": 0.2952327327327327}, {\"threshold\": 0.366, \"p\": 27976, \"tpr\": 0.9598584501000857, \"n\": 5328, \"fpr\": 0.29485735735735735}, {\"threshold\": 0.367, \"p\": 27976, \"tpr\": 0.959822705175865, \"n\": 5328, \"fpr\": 0.294481981981982}, {\"threshold\": 0.368, \"p\": 27976, \"tpr\": 0.9596439805547612, \"n\": 5328, \"fpr\": 0.294481981981982}, {\"threshold\": 0.369, \"p\": 27976, \"tpr\": 0.9594652559336574, \"n\": 5328, \"fpr\": 0.294481981981982}, {\"threshold\": 0.37, \"p\": 27976, \"tpr\": 0.9594295110094366, \"n\": 5328, \"fpr\": 0.29429429429429427}, {\"threshold\": 0.371, \"p\": 27976, \"tpr\": 0.9593222762367744, \"n\": 5328, \"fpr\": 0.29429429429429427}, {\"threshold\": 0.372, \"p\": 27976, \"tpr\": 0.9592507863883328, \"n\": 5328, \"fpr\": 0.2941066066066066}, {\"threshold\": 0.373, \"p\": 27976, \"tpr\": 0.9592507863883328, \"n\": 5328, \"fpr\": 0.29354354354354356}, {\"threshold\": 0.374, \"p\": 27976, \"tpr\": 0.9592507863883328, \"n\": 5328, \"fpr\": 0.29316816816816815}, {\"threshold\": 0.375, \"p\": 27976, \"tpr\": 0.9591435516156706, \"n\": 5328, \"fpr\": 0.2929804804804805}, {\"threshold\": 0.376, \"p\": 27976, \"tpr\": 0.9591435516156706, \"n\": 5328, \"fpr\": 0.2924174174174174}, {\"threshold\": 0.377, \"p\": 27976, \"tpr\": 0.959072061767229, \"n\": 5328, \"fpr\": 0.2922297297297297}, {\"threshold\": 0.378, \"p\": 27976, \"tpr\": 0.958786102373463, \"n\": 5328, \"fpr\": 0.29185435435435436}, {\"threshold\": 0.379, \"p\": 27976, \"tpr\": 0.9587503574492422, \"n\": 5328, \"fpr\": 0.2912912912912913}, {\"threshold\": 0.38, \"p\": 27976, \"tpr\": 0.9586073777523592, \"n\": 5328, \"fpr\": 0.2911036036036036}, {\"threshold\": 0.381, \"p\": 27976, \"tpr\": 0.9585358879039176, \"n\": 5328, \"fpr\": 0.2905405405405405}, {\"threshold\": 0.382, \"p\": 27976, \"tpr\": 0.9584643980554761, \"n\": 5328, \"fpr\": 0.2897897897897898}, {\"threshold\": 0.383, \"p\": 27976, \"tpr\": 0.9582856734343723, \"n\": 5328, \"fpr\": 0.2896021021021021}, {\"threshold\": 0.384, \"p\": 27976, \"tpr\": 0.95817843866171, \"n\": 5328, \"fpr\": 0.2894144144144144}, {\"threshold\": 0.385, \"p\": 27976, \"tpr\": 0.9580712038890478, \"n\": 5328, \"fpr\": 0.2894144144144144}, {\"threshold\": 0.386, \"p\": 27976, \"tpr\": 0.958035458964827, \"n\": 5328, \"fpr\": 0.2882882882882883}, {\"threshold\": 0.387, \"p\": 27976, \"tpr\": 0.958035458964827, \"n\": 5328, \"fpr\": 0.28791291291291293}, {\"threshold\": 0.388, \"p\": 27976, \"tpr\": 0.957892479267944, \"n\": 5328, \"fpr\": 0.2869744744744745}, {\"threshold\": 0.389, \"p\": 27976, \"tpr\": 0.9578209894195024, \"n\": 5328, \"fpr\": 0.28622372372372373}, {\"threshold\": 0.39, \"p\": 27976, \"tpr\": 0.9577494995710609, \"n\": 5328, \"fpr\": 0.28603603603603606}, {\"threshold\": 0.391, \"p\": 27976, \"tpr\": 0.9576780097226194, \"n\": 5328, \"fpr\": 0.28547297297297297}, {\"threshold\": 0.392, \"p\": 27976, \"tpr\": 0.9575707749499571, \"n\": 5328, \"fpr\": 0.2850975975975976}, {\"threshold\": 0.393, \"p\": 27976, \"tpr\": 0.9573563054046326, \"n\": 5328, \"fpr\": 0.28434684684684686}, {\"threshold\": 0.394, \"p\": 27976, \"tpr\": 0.9573205604804118, \"n\": 5328, \"fpr\": 0.28397147147147145}, {\"threshold\": 0.395, \"p\": 27976, \"tpr\": 0.9571775807835288, \"n\": 5328, \"fpr\": 0.28378378378378377}, {\"threshold\": 0.396, \"p\": 27976, \"tpr\": 0.9571060909350873, \"n\": 5328, \"fpr\": 0.2834084084084084}, {\"threshold\": 0.397, \"p\": 27976, \"tpr\": 0.9570346010866457, \"n\": 5328, \"fpr\": 0.28284534534534533}, {\"threshold\": 0.398, \"p\": 27976, \"tpr\": 0.9570346010866457, \"n\": 5328, \"fpr\": 0.28246996996997}, {\"threshold\": 0.399, \"p\": 27976, \"tpr\": 0.9569631112382042, \"n\": 5328, \"fpr\": 0.28246996996997}, {\"threshold\": 0.4, \"p\": 27976, \"tpr\": 0.9568558764655419, \"n\": 5328, \"fpr\": 0.2819069069069069}, {\"threshold\": 0.401, \"p\": 27976, \"tpr\": 0.9567843866171004, \"n\": 5328, \"fpr\": 0.28096846846846846}, {\"threshold\": 0.402, \"p\": 27976, \"tpr\": 0.9566414069202174, \"n\": 5328, \"fpr\": 0.28040540540540543}, {\"threshold\": 0.403, \"p\": 27976, \"tpr\": 0.9565699170717759, \"n\": 5328, \"fpr\": 0.27984234234234234}, {\"threshold\": 0.404, \"p\": 27976, \"tpr\": 0.9565341721475551, \"n\": 5328, \"fpr\": 0.27984234234234234}, {\"threshold\": 0.405, \"p\": 27976, \"tpr\": 0.9565341721475551, \"n\": 5328, \"fpr\": 0.27984234234234234}, {\"threshold\": 0.406, \"p\": 27976, \"tpr\": 0.9564984272233343, \"n\": 5328, \"fpr\": 0.27965465465465467}, {\"threshold\": 0.407, \"p\": 27976, \"tpr\": 0.9564984272233343, \"n\": 5328, \"fpr\": 0.279466966966967}, {\"threshold\": 0.408, \"p\": 27976, \"tpr\": 0.9564269373748928, \"n\": 5328, \"fpr\": 0.2789039039039039}, {\"threshold\": 0.409, \"p\": 27976, \"tpr\": 0.9563554475264513, \"n\": 5328, \"fpr\": 0.27852852852852855}, {\"threshold\": 0.41, \"p\": 27976, \"tpr\": 0.9563554475264513, \"n\": 5328, \"fpr\": 0.2783408408408408}, {\"threshold\": 0.411, \"p\": 27976, \"tpr\": 0.9561052330569059, \"n\": 5328, \"fpr\": 0.27815315315315314}, {\"threshold\": 0.412, \"p\": 27976, \"tpr\": 0.9560694881326851, \"n\": 5328, \"fpr\": 0.2775900900900901}, {\"threshold\": 0.413, \"p\": 27976, \"tpr\": 0.9560694881326851, \"n\": 5328, \"fpr\": 0.2772147147147147}, {\"threshold\": 0.414, \"p\": 27976, \"tpr\": 0.9559979982842436, \"n\": 5328, \"fpr\": 0.2766516516516517}, {\"threshold\": 0.415, \"p\": 27976, \"tpr\": 0.9559622533600228, \"n\": 5328, \"fpr\": 0.2766516516516517}, {\"threshold\": 0.416, \"p\": 27976, \"tpr\": 0.9558907635115813, \"n\": 5328, \"fpr\": 0.27627627627627627}, {\"threshold\": 0.417, \"p\": 27976, \"tpr\": 0.9558550185873605, \"n\": 5328, \"fpr\": 0.27571321321321324}, {\"threshold\": 0.418, \"p\": 27976, \"tpr\": 0.9557477838146983, \"n\": 5328, \"fpr\": 0.27571321321321324}, {\"threshold\": 0.419, \"p\": 27976, \"tpr\": 0.955640549042036, \"n\": 5328, \"fpr\": 0.27533783783783783}, {\"threshold\": 0.42, \"p\": 27976, \"tpr\": 0.9556048041178152, \"n\": 5328, \"fpr\": 0.27533783783783783}, {\"threshold\": 0.421, \"p\": 27976, \"tpr\": 0.9555333142693737, \"n\": 5328, \"fpr\": 0.2749624624624625}, {\"threshold\": 0.422, \"p\": 27976, \"tpr\": 0.9554260794967114, \"n\": 5328, \"fpr\": 0.2747747747747748}, {\"threshold\": 0.423, \"p\": 27976, \"tpr\": 0.9553188447240492, \"n\": 5328, \"fpr\": 0.27458708708708707}, {\"threshold\": 0.424, \"p\": 27976, \"tpr\": 0.9552116099513869, \"n\": 5328, \"fpr\": 0.27458708708708707}, {\"threshold\": 0.425, \"p\": 27976, \"tpr\": 0.9551758650271661, \"n\": 5328, \"fpr\": 0.2743993993993994}, {\"threshold\": 0.426, \"p\": 27976, \"tpr\": 0.9551758650271661, \"n\": 5328, \"fpr\": 0.27383633633633636}, {\"threshold\": 0.427, \"p\": 27976, \"tpr\": 0.9551401201029454, \"n\": 5328, \"fpr\": 0.2732732732732733}, {\"threshold\": 0.428, \"p\": 27976, \"tpr\": 0.9549613954818416, \"n\": 5328, \"fpr\": 0.27233483483483484}, {\"threshold\": 0.429, \"p\": 27976, \"tpr\": 0.9548184157849585, \"n\": 5328, \"fpr\": 0.27177177177177175}, {\"threshold\": 0.43, \"p\": 27976, \"tpr\": 0.954746925936517, \"n\": 5328, \"fpr\": 0.2712087087087087}, {\"threshold\": 0.431, \"p\": 27976, \"tpr\": 0.9546754360880755, \"n\": 5328, \"fpr\": 0.2708333333333333}, {\"threshold\": 0.432, \"p\": 27976, \"tpr\": 0.954603946239634, \"n\": 5328, \"fpr\": 0.2700825825825826}, {\"threshold\": 0.433, \"p\": 27976, \"tpr\": 0.9545324563911924, \"n\": 5328, \"fpr\": 0.2697072072072072}, {\"threshold\": 0.434, \"p\": 27976, \"tpr\": 0.9544967114669717, \"n\": 5328, \"fpr\": 0.2695195195195195}, {\"threshold\": 0.435, \"p\": 27976, \"tpr\": 0.9544967114669717, \"n\": 5328, \"fpr\": 0.26914414414414417}, {\"threshold\": 0.436, \"p\": 27976, \"tpr\": 0.9543894766943094, \"n\": 5328, \"fpr\": 0.26914414414414417}, {\"threshold\": 0.437, \"p\": 27976, \"tpr\": 0.9542822419216471, \"n\": 5328, \"fpr\": 0.26876876876876876}, {\"threshold\": 0.438, \"p\": 27976, \"tpr\": 0.9542464969974264, \"n\": 5328, \"fpr\": 0.26820570570570573}, {\"threshold\": 0.439, \"p\": 27976, \"tpr\": 0.9542107520732056, \"n\": 5328, \"fpr\": 0.26820570570570573}, {\"threshold\": 0.44, \"p\": 27976, \"tpr\": 0.9540677723763226, \"n\": 5328, \"fpr\": 0.26764264264264265}, {\"threshold\": 0.441, \"p\": 27976, \"tpr\": 0.9539605376036603, \"n\": 5328, \"fpr\": 0.26764264264264265}, {\"threshold\": 0.442, \"p\": 27976, \"tpr\": 0.9538175579067772, \"n\": 5328, \"fpr\": 0.26745495495495497}, {\"threshold\": 0.443, \"p\": 27976, \"tpr\": 0.9537818129825565, \"n\": 5328, \"fpr\": 0.2672672672672673}, {\"threshold\": 0.444, \"p\": 27976, \"tpr\": 0.9537818129825565, \"n\": 5328, \"fpr\": 0.26632882882882886}, {\"threshold\": 0.445, \"p\": 27976, \"tpr\": 0.9537460680583357, \"n\": 5328, \"fpr\": 0.26576576576576577}, {\"threshold\": 0.446, \"p\": 27976, \"tpr\": 0.9536388332856734, \"n\": 5328, \"fpr\": 0.26539039039039036}, {\"threshold\": 0.447, \"p\": 27976, \"tpr\": 0.9536030883614527, \"n\": 5328, \"fpr\": 0.265015015015015}, {\"threshold\": 0.448, \"p\": 27976, \"tpr\": 0.9534243637403489, \"n\": 5328, \"fpr\": 0.26482732732732733}, {\"threshold\": 0.449, \"p\": 27976, \"tpr\": 0.9532813840434659, \"n\": 5328, \"fpr\": 0.26463963963963966}, {\"threshold\": 0.45, \"p\": 27976, \"tpr\": 0.9532098941950243, \"n\": 5328, \"fpr\": 0.26407657657657657}, {\"threshold\": 0.451, \"p\": 27976, \"tpr\": 0.953102659422362, \"n\": 5328, \"fpr\": 0.2633258258258258}, {\"threshold\": 0.452, \"p\": 27976, \"tpr\": 0.952959679725479, \"n\": 5328, \"fpr\": 0.2633258258258258}, {\"threshold\": 0.453, \"p\": 27976, \"tpr\": 0.9529239348012583, \"n\": 5328, \"fpr\": 0.2627627627627628}, {\"threshold\": 0.454, \"p\": 27976, \"tpr\": 0.9528524449528167, \"n\": 5328, \"fpr\": 0.2627627627627628}, {\"threshold\": 0.455, \"p\": 27976, \"tpr\": 0.9527809551043752, \"n\": 5328, \"fpr\": 0.26257507507507505}, {\"threshold\": 0.456, \"p\": 27976, \"tpr\": 0.9526737203317129, \"n\": 5328, \"fpr\": 0.26238738738738737}, {\"threshold\": 0.457, \"p\": 27976, \"tpr\": 0.9524949957106091, \"n\": 5328, \"fpr\": 0.2621996996996997}, {\"threshold\": 0.458, \"p\": 27976, \"tpr\": 0.9523162710895053, \"n\": 5328, \"fpr\": 0.262012012012012}, {\"threshold\": 0.459, \"p\": 27976, \"tpr\": 0.9522090363168431, \"n\": 5328, \"fpr\": 0.262012012012012}, {\"threshold\": 0.46, \"p\": 27976, \"tpr\": 0.9520303116957392, \"n\": 5328, \"fpr\": 0.2616366366366366}, {\"threshold\": 0.461, \"p\": 27976, \"tpr\": 0.9519588218472976, \"n\": 5328, \"fpr\": 0.26144894894894893}, {\"threshold\": 0.462, \"p\": 27976, \"tpr\": 0.9517086073777523, \"n\": 5328, \"fpr\": 0.2608858858858859}, {\"threshold\": 0.463, \"p\": 27976, \"tpr\": 0.9516371175293108, \"n\": 5328, \"fpr\": 0.2605105105105105}, {\"threshold\": 0.464, \"p\": 27976, \"tpr\": 0.9515656276808693, \"n\": 5328, \"fpr\": 0.2603228228228228}, {\"threshold\": 0.465, \"p\": 27976, \"tpr\": 0.9514226479839862, \"n\": 5328, \"fpr\": 0.26013513513513514}, {\"threshold\": 0.466, \"p\": 27976, \"tpr\": 0.9513869030597655, \"n\": 5328, \"fpr\": 0.25994744744744747}, {\"threshold\": 0.467, \"p\": 27976, \"tpr\": 0.951315413211324, \"n\": 5328, \"fpr\": 0.25957207207207206}, {\"threshold\": 0.468, \"p\": 27976, \"tpr\": 0.9511366885902202, \"n\": 5328, \"fpr\": 0.2593843843843844}, {\"threshold\": 0.469, \"p\": 27976, \"tpr\": 0.9511009436659994, \"n\": 5328, \"fpr\": 0.2586336336336336}, {\"threshold\": 0.47, \"p\": 27976, \"tpr\": 0.9511009436659994, \"n\": 5328, \"fpr\": 0.25788288288288286}, {\"threshold\": 0.471, \"p\": 27976, \"tpr\": 0.9510651987417786, \"n\": 5328, \"fpr\": 0.25788288288288286}, {\"threshold\": 0.472, \"p\": 27976, \"tpr\": 0.9508864741206748, \"n\": 5328, \"fpr\": 0.25731981981981983}, {\"threshold\": 0.473, \"p\": 27976, \"tpr\": 0.9507434944237918, \"n\": 5328, \"fpr\": 0.25713213213213215}, {\"threshold\": 0.474, \"p\": 27976, \"tpr\": 0.950707749499571, \"n\": 5328, \"fpr\": 0.2561936936936937}, {\"threshold\": 0.475, \"p\": 27976, \"tpr\": 0.9506720045753503, \"n\": 5328, \"fpr\": 0.256006006006006}, {\"threshold\": 0.476, \"p\": 27976, \"tpr\": 0.9504932799542465, \"n\": 5328, \"fpr\": 0.256006006006006}, {\"threshold\": 0.477, \"p\": 27976, \"tpr\": 0.9503860451815842, \"n\": 5328, \"fpr\": 0.2558183183183183}, {\"threshold\": 0.478, \"p\": 27976, \"tpr\": 0.9503145553331427, \"n\": 5328, \"fpr\": 0.25506756756756754}, {\"threshold\": 0.479, \"p\": 27976, \"tpr\": 0.9502430654847012, \"n\": 5328, \"fpr\": 0.25506756756756754}, {\"threshold\": 0.48, \"p\": 27976, \"tpr\": 0.9501000857878181, \"n\": 5328, \"fpr\": 0.2546921921921922}, {\"threshold\": 0.481, \"p\": 27976, \"tpr\": 0.9500285959393766, \"n\": 5328, \"fpr\": 0.2541291291291291}, {\"threshold\": 0.482, \"p\": 27976, \"tpr\": 0.9499928510151558, \"n\": 5328, \"fpr\": 0.2533783783783784}, {\"threshold\": 0.483, \"p\": 27976, \"tpr\": 0.9499213611667143, \"n\": 5328, \"fpr\": 0.25319069069069067}, {\"threshold\": 0.484, \"p\": 27976, \"tpr\": 0.9497068916213898, \"n\": 5328, \"fpr\": 0.2528153153153153}, {\"threshold\": 0.485, \"p\": 27976, \"tpr\": 0.9496354017729483, \"n\": 5328, \"fpr\": 0.25243993993993996}, {\"threshold\": 0.486, \"p\": 27976, \"tpr\": 0.9494924220760652, \"n\": 5328, \"fpr\": 0.25243993993993996}, {\"threshold\": 0.487, \"p\": 27976, \"tpr\": 0.9493136974549614, \"n\": 5328, \"fpr\": 0.25225225225225223}, {\"threshold\": 0.488, \"p\": 27976, \"tpr\": 0.9492779525307407, \"n\": 5328, \"fpr\": 0.2516891891891892}, {\"threshold\": 0.489, \"p\": 27976, \"tpr\": 0.9491707177580784, \"n\": 5328, \"fpr\": 0.2516891891891892}, {\"threshold\": 0.49, \"p\": 27976, \"tpr\": 0.9490992279096369, \"n\": 5328, \"fpr\": 0.25093843843843844}, {\"threshold\": 0.491, \"p\": 27976, \"tpr\": 0.9490634829854161, \"n\": 5328, \"fpr\": 0.2505630630630631}, {\"threshold\": 0.492, \"p\": 27976, \"tpr\": 0.9489562482127538, \"n\": 5328, \"fpr\": 0.25037537537537535}, {\"threshold\": 0.493, \"p\": 27976, \"tpr\": 0.9488847583643123, \"n\": 5328, \"fpr\": 0.25037537537537535}, {\"threshold\": 0.494, \"p\": 27976, \"tpr\": 0.9487417786674293, \"n\": 5328, \"fpr\": 0.25037537537537535}, {\"threshold\": 0.495, \"p\": 27976, \"tpr\": 0.948634543894767, \"n\": 5328, \"fpr\": 0.2501876876876877}, {\"threshold\": 0.496, \"p\": 27976, \"tpr\": 0.9484558192736632, \"n\": 5328, \"fpr\": 0.2501876876876877}, {\"threshold\": 0.497, \"p\": 27976, \"tpr\": 0.9482770946525594, \"n\": 5328, \"fpr\": 0.25}, {\"threshold\": 0.498, \"p\": 27976, \"tpr\": 0.9481341149556763, \"n\": 5328, \"fpr\": 0.24981231231231232}, {\"threshold\": 0.499, \"p\": 27976, \"tpr\": 0.9479553903345725, \"n\": 5328, \"fpr\": 0.24981231231231232}, {\"threshold\": 0.5, \"p\": 27976, \"tpr\": 0.9477766657134686, \"n\": 5328, \"fpr\": 0.24924924924924924}, {\"threshold\": 0.501, \"p\": 27976, \"tpr\": 0.9477051758650271, \"n\": 5328, \"fpr\": 0.24887387387387389}, {\"threshold\": 0.502, \"p\": 27976, \"tpr\": 0.9476694309408064, \"n\": 5328, \"fpr\": 0.2484984984984985}, {\"threshold\": 0.503, \"p\": 27976, \"tpr\": 0.9475621961681441, \"n\": 5328, \"fpr\": 0.24793543543543545}, {\"threshold\": 0.504, \"p\": 27976, \"tpr\": 0.947419216471261, \"n\": 5328, \"fpr\": 0.24756006006006007}, {\"threshold\": 0.505, \"p\": 27976, \"tpr\": 0.947276236774378, \"n\": 5328, \"fpr\": 0.24756006006006007}, {\"threshold\": 0.506, \"p\": 27976, \"tpr\": 0.9472047469259365, \"n\": 5328, \"fpr\": 0.2468093093093093}, {\"threshold\": 0.507, \"p\": 27976, \"tpr\": 0.9470975121532742, \"n\": 5328, \"fpr\": 0.24643393393393392}, {\"threshold\": 0.508, \"p\": 27976, \"tpr\": 0.9469545324563912, \"n\": 5328, \"fpr\": 0.24643393393393392}, {\"threshold\": 0.509, \"p\": 27976, \"tpr\": 0.9468472976837289, \"n\": 5328, \"fpr\": 0.24605855855855857}, {\"threshold\": 0.51, \"p\": 27976, \"tpr\": 0.9468115527595081, \"n\": 5328, \"fpr\": 0.2453078078078078}, {\"threshold\": 0.511, \"p\": 27976, \"tpr\": 0.9466328281384043, \"n\": 5328, \"fpr\": 0.24474474474474475}, {\"threshold\": 0.512, \"p\": 27976, \"tpr\": 0.9465970832141836, \"n\": 5328, \"fpr\": 0.24455705705705705}, {\"threshold\": 0.513, \"p\": 27976, \"tpr\": 0.946525593365742, \"n\": 5328, \"fpr\": 0.2441816816816817}, {\"threshold\": 0.514, \"p\": 27976, \"tpr\": 0.9463468687446382, \"n\": 5328, \"fpr\": 0.2441816816816817}, {\"threshold\": 0.515, \"p\": 27976, \"tpr\": 0.9463111238204175, \"n\": 5328, \"fpr\": 0.24324324324324326}, {\"threshold\": 0.516, \"p\": 27976, \"tpr\": 0.9462753788961967, \"n\": 5328, \"fpr\": 0.24305555555555555}, {\"threshold\": 0.517, \"p\": 27976, \"tpr\": 0.9461681441235344, \"n\": 5328, \"fpr\": 0.24268018018018017}, {\"threshold\": 0.518, \"p\": 27976, \"tpr\": 0.9461681441235344, \"n\": 5328, \"fpr\": 0.24268018018018017}, {\"threshold\": 0.519, \"p\": 27976, \"tpr\": 0.9460966542750929, \"n\": 5328, \"fpr\": 0.24268018018018017}, {\"threshold\": 0.52, \"p\": 27976, \"tpr\": 0.9460609093508722, \"n\": 5328, \"fpr\": 0.2424924924924925}, {\"threshold\": 0.521, \"p\": 27976, \"tpr\": 0.9459894195024307, \"n\": 5328, \"fpr\": 0.24211711711711711}, {\"threshold\": 0.522, \"p\": 27976, \"tpr\": 0.9458106948813269, \"n\": 5328, \"fpr\": 0.24155405405405406}, {\"threshold\": 0.523, \"p\": 27976, \"tpr\": 0.9457034601086646, \"n\": 5328, \"fpr\": 0.24117867867867868}, {\"threshold\": 0.524, \"p\": 27976, \"tpr\": 0.9455962253360023, \"n\": 5328, \"fpr\": 0.24042792792792791}, {\"threshold\": 0.525, \"p\": 27976, \"tpr\": 0.9454532456391193, \"n\": 5328, \"fpr\": 0.23986486486486486}, {\"threshold\": 0.526, \"p\": 27976, \"tpr\": 0.9453817557906777, \"n\": 5328, \"fpr\": 0.23948948948948948}, {\"threshold\": 0.527, \"p\": 27976, \"tpr\": 0.9452387760937947, \"n\": 5328, \"fpr\": 0.2393018018018018}, {\"threshold\": 0.528, \"p\": 27976, \"tpr\": 0.9451315413211324, \"n\": 5328, \"fpr\": 0.23855105105105104}, {\"threshold\": 0.529, \"p\": 27976, \"tpr\": 0.9450243065484701, \"n\": 5328, \"fpr\": 0.23798798798798798}, {\"threshold\": 0.53, \"p\": 27976, \"tpr\": 0.9449528167000286, \"n\": 5328, \"fpr\": 0.2376126126126126}, {\"threshold\": 0.531, \"p\": 27976, \"tpr\": 0.9448098370031456, \"n\": 5328, \"fpr\": 0.2376126126126126}, {\"threshold\": 0.532, \"p\": 27976, \"tpr\": 0.9448098370031456, \"n\": 5328, \"fpr\": 0.23723723723723725}, {\"threshold\": 0.533, \"p\": 27976, \"tpr\": 0.9447740920789248, \"n\": 5328, \"fpr\": 0.23704954954954954}, {\"threshold\": 0.534, \"p\": 27976, \"tpr\": 0.9447026022304833, \"n\": 5328, \"fpr\": 0.23667417417417416}, {\"threshold\": 0.535, \"p\": 27976, \"tpr\": 0.9445238776093795, \"n\": 5328, \"fpr\": 0.23592342342342343}, {\"threshold\": 0.536, \"p\": 27976, \"tpr\": 0.944452387760938, \"n\": 5328, \"fpr\": 0.23573573573573572}, {\"threshold\": 0.537, \"p\": 27976, \"tpr\": 0.9444166428367172, \"n\": 5328, \"fpr\": 0.23554804804804805}, {\"threshold\": 0.538, \"p\": 27976, \"tpr\": 0.9442736631398342, \"n\": 5328, \"fpr\": 0.23554804804804805}, {\"threshold\": 0.539, \"p\": 27976, \"tpr\": 0.9441664283671719, \"n\": 5328, \"fpr\": 0.23536036036036037}, {\"threshold\": 0.54, \"p\": 27976, \"tpr\": 0.9441306834429511, \"n\": 5328, \"fpr\": 0.23517267267267267}, {\"threshold\": 0.541, \"p\": 27976, \"tpr\": 0.9440949385187304, \"n\": 5328, \"fpr\": 0.234984984984985}, {\"threshold\": 0.542, \"p\": 27976, \"tpr\": 0.9439519588218473, \"n\": 5328, \"fpr\": 0.234984984984985}, {\"threshold\": 0.543, \"p\": 27976, \"tpr\": 0.9439162138976266, \"n\": 5328, \"fpr\": 0.2346096096096096}, {\"threshold\": 0.544, \"p\": 27976, \"tpr\": 0.9438447240491851, \"n\": 5328, \"fpr\": 0.23404654654654655}, {\"threshold\": 0.545, \"p\": 27976, \"tpr\": 0.9438089791249643, \"n\": 5328, \"fpr\": 0.23404654654654655}, {\"threshold\": 0.546, \"p\": 27976, \"tpr\": 0.9437017443523019, \"n\": 5328, \"fpr\": 0.2332957957957958}, {\"threshold\": 0.547, \"p\": 27976, \"tpr\": 0.9436302545038604, \"n\": 5328, \"fpr\": 0.23310810810810811}, {\"threshold\": 0.548, \"p\": 27976, \"tpr\": 0.9435587646554189, \"n\": 5328, \"fpr\": 0.2329204204204204}, {\"threshold\": 0.549, \"p\": 27976, \"tpr\": 0.9433800400343151, \"n\": 5328, \"fpr\": 0.23235735735735735}, {\"threshold\": 0.55, \"p\": 27976, \"tpr\": 0.9433085501858736, \"n\": 5328, \"fpr\": 0.23198198198198197}, {\"threshold\": 0.551, \"p\": 27976, \"tpr\": 0.9432013154132113, \"n\": 5328, \"fpr\": 0.23160660660660662}, {\"threshold\": 0.552, \"p\": 27976, \"tpr\": 0.9431298255647698, \"n\": 5328, \"fpr\": 0.23160660660660662}, {\"threshold\": 0.553, \"p\": 27976, \"tpr\": 0.9430583357163282, \"n\": 5328, \"fpr\": 0.23123123123123124}, {\"threshold\": 0.554, \"p\": 27976, \"tpr\": 0.9429868458678867, \"n\": 5328, \"fpr\": 0.23048048048048048}, {\"threshold\": 0.555, \"p\": 27976, \"tpr\": 0.9428796110952244, \"n\": 5328, \"fpr\": 0.2301051051051051}, {\"threshold\": 0.556, \"p\": 27976, \"tpr\": 0.9426651415498999, \"n\": 5328, \"fpr\": 0.22954204204204204}, {\"threshold\": 0.557, \"p\": 27976, \"tpr\": 0.9425221618530168, \"n\": 5328, \"fpr\": 0.22916666666666666}, {\"threshold\": 0.558, \"p\": 27976, \"tpr\": 0.9425221618530168, \"n\": 5328, \"fpr\": 0.2286036036036036}, {\"threshold\": 0.559, \"p\": 27976, \"tpr\": 0.9423791821561338, \"n\": 5328, \"fpr\": 0.2286036036036036}, {\"threshold\": 0.56, \"p\": 27976, \"tpr\": 0.9423791821561338, \"n\": 5328, \"fpr\": 0.2286036036036036}, {\"threshold\": 0.561, \"p\": 27976, \"tpr\": 0.9421647126108093, \"n\": 5328, \"fpr\": 0.22841591591591592}, {\"threshold\": 0.562, \"p\": 27976, \"tpr\": 0.9420217329139262, \"n\": 5328, \"fpr\": 0.22785285285285287}, {\"threshold\": 0.563, \"p\": 27976, \"tpr\": 0.9419502430654847, \"n\": 5328, \"fpr\": 0.22728978978978978}, {\"threshold\": 0.564, \"p\": 27976, \"tpr\": 0.9418787532170432, \"n\": 5328, \"fpr\": 0.2271021021021021}, {\"threshold\": 0.565, \"p\": 27976, \"tpr\": 0.9417000285959394, \"n\": 5328, \"fpr\": 0.22672672672672672}, {\"threshold\": 0.566, \"p\": 27976, \"tpr\": 0.9415927938232771, \"n\": 5328, \"fpr\": 0.22653903903903905}, {\"threshold\": 0.567, \"p\": 27976, \"tpr\": 0.9415927938232771, \"n\": 5328, \"fpr\": 0.22635135135135134}, {\"threshold\": 0.568, \"p\": 27976, \"tpr\": 0.9415570488990563, \"n\": 5328, \"fpr\": 0.22578828828828829}, {\"threshold\": 0.569, \"p\": 27976, \"tpr\": 0.9414140692021733, \"n\": 5328, \"fpr\": 0.2254129129129129}, {\"threshold\": 0.57, \"p\": 27976, \"tpr\": 0.941306834429511, \"n\": 5328, \"fpr\": 0.22522522522522523}, {\"threshold\": 0.571, \"p\": 27976, \"tpr\": 0.9412353445810695, \"n\": 5328, \"fpr\": 0.22522522522522523}, {\"threshold\": 0.572, \"p\": 27976, \"tpr\": 0.941163854732628, \"n\": 5328, \"fpr\": 0.22466216216216217}, {\"threshold\": 0.573, \"p\": 27976, \"tpr\": 0.9410923648841865, \"n\": 5328, \"fpr\": 0.22466216216216217}, {\"threshold\": 0.574, \"p\": 27976, \"tpr\": 0.9409493851873034, \"n\": 5328, \"fpr\": 0.22447447447447447}, {\"threshold\": 0.575, \"p\": 27976, \"tpr\": 0.9408778953388619, \"n\": 5328, \"fpr\": 0.22372372372372373}, {\"threshold\": 0.576, \"p\": 27976, \"tpr\": 0.9406991707177581, \"n\": 5328, \"fpr\": 0.22334834834834835}, {\"threshold\": 0.577, \"p\": 27976, \"tpr\": 0.9405919359450958, \"n\": 5328, \"fpr\": 0.2227852852852853}, {\"threshold\": 0.578, \"p\": 27976, \"tpr\": 0.9405561910208751, \"n\": 5328, \"fpr\": 0.22240990990990991}, {\"threshold\": 0.579, \"p\": 27976, \"tpr\": 0.9403774663997713, \"n\": 5328, \"fpr\": 0.2222222222222222}, {\"threshold\": 0.58, \"p\": 27976, \"tpr\": 0.940270231627109, \"n\": 5328, \"fpr\": 0.2222222222222222}, {\"threshold\": 0.581, \"p\": 27976, \"tpr\": 0.9401629968544467, \"n\": 5328, \"fpr\": 0.22147147147147148}, {\"threshold\": 0.582, \"p\": 27976, \"tpr\": 0.9400200171575637, \"n\": 5328, \"fpr\": 0.22053303303303304}, {\"threshold\": 0.583, \"p\": 27976, \"tpr\": 0.9399485273091222, \"n\": 5328, \"fpr\": 0.22034534534534533}, {\"threshold\": 0.584, \"p\": 27976, \"tpr\": 0.9399127823849014, \"n\": 5328, \"fpr\": 0.22015765765765766}, {\"threshold\": 0.585, \"p\": 27976, \"tpr\": 0.9398412925364599, \"n\": 5328, \"fpr\": 0.21978228228228228}, {\"threshold\": 0.586, \"p\": 27976, \"tpr\": 0.9397698026880184, \"n\": 5328, \"fpr\": 0.2195945945945946}, {\"threshold\": 0.587, \"p\": 27976, \"tpr\": 0.9397340577637976, \"n\": 5328, \"fpr\": 0.21921921921921922}, {\"threshold\": 0.588, \"p\": 27976, \"tpr\": 0.9396983128395768, \"n\": 5328, \"fpr\": 0.21903153153153154}, {\"threshold\": 0.589, \"p\": 27976, \"tpr\": 0.9396268229911353, \"n\": 5328, \"fpr\": 0.21865615615615616}, {\"threshold\": 0.59, \"p\": 27976, \"tpr\": 0.9394480983700314, \"n\": 5328, \"fpr\": 0.21828078078078078}, {\"threshold\": 0.591, \"p\": 27976, \"tpr\": 0.9394480983700314, \"n\": 5328, \"fpr\": 0.2180930930930931}, {\"threshold\": 0.592, \"p\": 27976, \"tpr\": 0.9394123534458106, \"n\": 5328, \"fpr\": 0.2179054054054054}, {\"threshold\": 0.593, \"p\": 27976, \"tpr\": 0.9393051186731484, \"n\": 5328, \"fpr\": 0.21753003003003002}, {\"threshold\": 0.594, \"p\": 27976, \"tpr\": 0.9392336288247068, \"n\": 5328, \"fpr\": 0.21696696696696696}, {\"threshold\": 0.595, \"p\": 27976, \"tpr\": 0.9390906491278238, \"n\": 5328, \"fpr\": 0.21621621621621623}, {\"threshold\": 0.596, \"p\": 27976, \"tpr\": 0.9390191592793823, \"n\": 5328, \"fpr\": 0.21565315315315314}, {\"threshold\": 0.597, \"p\": 27976, \"tpr\": 0.93891192450672, \"n\": 5328, \"fpr\": 0.2152777777777778}, {\"threshold\": 0.598, \"p\": 27976, \"tpr\": 0.9388404346582785, \"n\": 5328, \"fpr\": 0.2147147147147147}, {\"threshold\": 0.599, \"p\": 27976, \"tpr\": 0.938768944809837, \"n\": 5328, \"fpr\": 0.21433933933933935}, {\"threshold\": 0.6, \"p\": 27976, \"tpr\": 0.9386974549613954, \"n\": 5328, \"fpr\": 0.21396396396396397}, {\"threshold\": 0.601, \"p\": 27976, \"tpr\": 0.9385544752645124, \"n\": 5328, \"fpr\": 0.2135885885885886}, {\"threshold\": 0.602, \"p\": 27976, \"tpr\": 0.9384829854160709, \"n\": 5328, \"fpr\": 0.21283783783783783}, {\"threshold\": 0.603, \"p\": 27976, \"tpr\": 0.9384472404918501, \"n\": 5328, \"fpr\": 0.2120870870870871}, {\"threshold\": 0.604, \"p\": 27976, \"tpr\": 0.9384114955676294, \"n\": 5328, \"fpr\": 0.21152402402402404}, {\"threshold\": 0.605, \"p\": 27976, \"tpr\": 0.9382327709465256, \"n\": 5328, \"fpr\": 0.21096096096096095}, {\"threshold\": 0.606, \"p\": 27976, \"tpr\": 0.9380540463254218, \"n\": 5328, \"fpr\": 0.21058558558558557}, {\"threshold\": 0.607, \"p\": 27976, \"tpr\": 0.9379468115527595, \"n\": 5328, \"fpr\": 0.21058558558558557}, {\"threshold\": 0.608, \"p\": 27976, \"tpr\": 0.9378395767800972, \"n\": 5328, \"fpr\": 0.21021021021021022}, {\"threshold\": 0.609, \"p\": 27976, \"tpr\": 0.9376965970832142, \"n\": 5328, \"fpr\": 0.21002252252252251}, {\"threshold\": 0.61, \"p\": 27976, \"tpr\": 0.9376965970832142, \"n\": 5328, \"fpr\": 0.21002252252252251}, {\"threshold\": 0.611, \"p\": 27976, \"tpr\": 0.9375893623105519, \"n\": 5328, \"fpr\": 0.20983483483483484}, {\"threshold\": 0.612, \"p\": 27976, \"tpr\": 0.9374821275378896, \"n\": 5328, \"fpr\": 0.20964714714714713}, {\"threshold\": 0.613, \"p\": 27976, \"tpr\": 0.9373391478410066, \"n\": 5328, \"fpr\": 0.20945945945945946}, {\"threshold\": 0.614, \"p\": 27976, \"tpr\": 0.9372319130683443, \"n\": 5328, \"fpr\": 0.20927177177177178}, {\"threshold\": 0.615, \"p\": 27976, \"tpr\": 0.9370889333714613, \"n\": 5328, \"fpr\": 0.20908408408408408}, {\"threshold\": 0.616, \"p\": 27976, \"tpr\": 0.9369102087503575, \"n\": 5328, \"fpr\": 0.2088963963963964}, {\"threshold\": 0.617, \"p\": 27976, \"tpr\": 0.9367314841292537, \"n\": 5328, \"fpr\": 0.2087087087087087}, {\"threshold\": 0.618, \"p\": 27976, \"tpr\": 0.9365170145839291, \"n\": 5328, \"fpr\": 0.2087087087087087}, {\"threshold\": 0.619, \"p\": 27976, \"tpr\": 0.9363382899628253, \"n\": 5328, \"fpr\": 0.20852102102102102}, {\"threshold\": 0.62, \"p\": 27976, \"tpr\": 0.9362668001143838, \"n\": 5328, \"fpr\": 0.20852102102102102}, {\"threshold\": 0.621, \"p\": 27976, \"tpr\": 0.9360523305690592, \"n\": 5328, \"fpr\": 0.20814564564564564}, {\"threshold\": 0.622, \"p\": 27976, \"tpr\": 0.9358736059479554, \"n\": 5328, \"fpr\": 0.20777027027027026}, {\"threshold\": 0.623, \"p\": 27976, \"tpr\": 0.9358021160995139, \"n\": 5328, \"fpr\": 0.20758258258258258}, {\"threshold\": 0.624, \"p\": 27976, \"tpr\": 0.9356948813268516, \"n\": 5328, \"fpr\": 0.20701951951951952}, {\"threshold\": 0.625, \"p\": 27976, \"tpr\": 0.9355876465541894, \"n\": 5328, \"fpr\": 0.20645645645645647}, {\"threshold\": 0.626, \"p\": 27976, \"tpr\": 0.9354804117815271, \"n\": 5328, \"fpr\": 0.20645645645645647}, {\"threshold\": 0.627, \"p\": 27976, \"tpr\": 0.9353731770088647, \"n\": 5328, \"fpr\": 0.20608108108108109}, {\"threshold\": 0.628, \"p\": 27976, \"tpr\": 0.9351229625393194, \"n\": 5328, \"fpr\": 0.2057057057057057}, {\"threshold\": 0.629, \"p\": 27976, \"tpr\": 0.9349084929939948, \"n\": 5328, \"fpr\": 0.20514264264264265}, {\"threshold\": 0.63, \"p\": 27976, \"tpr\": 0.9346940234486703, \"n\": 5328, \"fpr\": 0.20495495495495494}, {\"threshold\": 0.631, \"p\": 27976, \"tpr\": 0.9343723191306834, \"n\": 5328, \"fpr\": 0.20476726726726727}, {\"threshold\": 0.632, \"p\": 27976, \"tpr\": 0.9343008292822419, \"n\": 5328, \"fpr\": 0.2045795795795796}, {\"threshold\": 0.633, \"p\": 27976, \"tpr\": 0.9341935945095796, \"n\": 5328, \"fpr\": 0.2042042042042042}, {\"threshold\": 0.634, \"p\": 27976, \"tpr\": 0.9340863597369173, \"n\": 5328, \"fpr\": 0.2040165165165165}, {\"threshold\": 0.635, \"p\": 27976, \"tpr\": 0.9339076351158135, \"n\": 5328, \"fpr\": 0.20382882882882883}, {\"threshold\": 0.636, \"p\": 27976, \"tpr\": 0.9337289104947097, \"n\": 5328, \"fpr\": 0.20364114114114115}, {\"threshold\": 0.637, \"p\": 27976, \"tpr\": 0.9336574206462682, \"n\": 5328, \"fpr\": 0.2028903903903904}, {\"threshold\": 0.638, \"p\": 27976, \"tpr\": 0.9335859307978267, \"n\": 5328, \"fpr\": 0.20270270270270271}, {\"threshold\": 0.639, \"p\": 27976, \"tpr\": 0.9333714612525021, \"n\": 5328, \"fpr\": 0.202515015015015}, {\"threshold\": 0.64, \"p\": 27976, \"tpr\": 0.9332999714040606, \"n\": 5328, \"fpr\": 0.202515015015015}, {\"threshold\": 0.641, \"p\": 27976, \"tpr\": 0.9331569917071776, \"n\": 5328, \"fpr\": 0.20195195195195195}, {\"threshold\": 0.642, \"p\": 27976, \"tpr\": 0.9330497569345153, \"n\": 5328, \"fpr\": 0.2013888888888889}, {\"threshold\": 0.643, \"p\": 27976, \"tpr\": 0.9329782670860738, \"n\": 5328, \"fpr\": 0.20101351351351351}, {\"threshold\": 0.644, \"p\": 27976, \"tpr\": 0.932942522161853, \"n\": 5328, \"fpr\": 0.20063813813813813}, {\"threshold\": 0.645, \"p\": 27976, \"tpr\": 0.9328352873891907, \"n\": 5328, \"fpr\": 0.20063813813813813}, {\"threshold\": 0.646, \"p\": 27976, \"tpr\": 0.9327280526165285, \"n\": 5328, \"fpr\": 0.20045045045045046}, {\"threshold\": 0.647, \"p\": 27976, \"tpr\": 0.9326208178438662, \"n\": 5328, \"fpr\": 0.20045045045045046}, {\"threshold\": 0.648, \"p\": 27976, \"tpr\": 0.9325850729196454, \"n\": 5328, \"fpr\": 0.20026276276276275}, {\"threshold\": 0.649, \"p\": 27976, \"tpr\": 0.9323348584501001, \"n\": 5328, \"fpr\": 0.1998873873873874}, {\"threshold\": 0.65, \"p\": 27976, \"tpr\": 0.9320846439805548, \"n\": 5328, \"fpr\": 0.1996996996996997}, {\"threshold\": 0.651, \"p\": 27976, \"tpr\": 0.931905919359451, \"n\": 5328, \"fpr\": 0.19857357357357358}, {\"threshold\": 0.652, \"p\": 27976, \"tpr\": 0.9316914498141264, \"n\": 5328, \"fpr\": 0.19857357357357358}, {\"threshold\": 0.653, \"p\": 27976, \"tpr\": 0.9316199599656849, \"n\": 5328, \"fpr\": 0.1981981981981982}, {\"threshold\": 0.654, \"p\": 27976, \"tpr\": 0.9315127251930226, \"n\": 5328, \"fpr\": 0.19801051051051052}, {\"threshold\": 0.655, \"p\": 27976, \"tpr\": 0.9313697454961396, \"n\": 5328, \"fpr\": 0.19725975975975976}, {\"threshold\": 0.656, \"p\": 27976, \"tpr\": 0.9312267657992565, \"n\": 5328, \"fpr\": 0.19688438438438438}, {\"threshold\": 0.657, \"p\": 27976, \"tpr\": 0.9310837861023734, \"n\": 5328, \"fpr\": 0.196509009009009}, {\"threshold\": 0.658, \"p\": 27976, \"tpr\": 0.9309408064054904, \"n\": 5328, \"fpr\": 0.19594594594594594}, {\"threshold\": 0.659, \"p\": 27976, \"tpr\": 0.9307978267086073, \"n\": 5328, \"fpr\": 0.19575825825825827}, {\"threshold\": 0.66, \"p\": 27976, \"tpr\": 0.9307620817843866, \"n\": 5328, \"fpr\": 0.19557057057057056}, {\"threshold\": 0.661, \"p\": 27976, \"tpr\": 0.9305833571632828, \"n\": 5328, \"fpr\": 0.19519519519519518}, {\"threshold\": 0.662, \"p\": 27976, \"tpr\": 0.9304403774663997, \"n\": 5328, \"fpr\": 0.19519519519519518}, {\"threshold\": 0.663, \"p\": 27976, \"tpr\": 0.9302616528452959, \"n\": 5328, \"fpr\": 0.19481981981981983}, {\"threshold\": 0.664, \"p\": 27976, \"tpr\": 0.9301544180726337, \"n\": 5328, \"fpr\": 0.19481981981981983}, {\"threshold\": 0.665, \"p\": 27976, \"tpr\": 0.9299399485273091, \"n\": 5328, \"fpr\": 0.19463213213213212}, {\"threshold\": 0.666, \"p\": 27976, \"tpr\": 0.9297969688304261, \"n\": 5328, \"fpr\": 0.1938813813813814}, {\"threshold\": 0.667, \"p\": 27976, \"tpr\": 0.929653989133543, \"n\": 5328, \"fpr\": 0.193506006006006}, {\"threshold\": 0.668, \"p\": 27976, \"tpr\": 0.9294752645124392, \"n\": 5328, \"fpr\": 0.19294294294294295}, {\"threshold\": 0.669, \"p\": 27976, \"tpr\": 0.9294037746639977, \"n\": 5328, \"fpr\": 0.19256756756756757}, {\"threshold\": 0.67, \"p\": 27976, \"tpr\": 0.9292607949671147, \"n\": 5328, \"fpr\": 0.19237987987987987}, {\"threshold\": 0.671, \"p\": 27976, \"tpr\": 0.9291535601944524, \"n\": 5328, \"fpr\": 0.1921921921921922}, {\"threshold\": 0.672, \"p\": 27976, \"tpr\": 0.9290463254217901, \"n\": 5328, \"fpr\": 0.1921921921921922}, {\"threshold\": 0.673, \"p\": 27976, \"tpr\": 0.9289390906491278, \"n\": 5328, \"fpr\": 0.1921921921921922}, {\"threshold\": 0.674, \"p\": 27976, \"tpr\": 0.9286888761795825, \"n\": 5328, \"fpr\": 0.19125375375375375}, {\"threshold\": 0.675, \"p\": 27976, \"tpr\": 0.9235773520160138, \"n\": 5328, \"fpr\": 0.18693693693693694}, {\"threshold\": 0.676, \"p\": 27976, \"tpr\": 0.9233628824706892, \"n\": 5328, \"fpr\": 0.18637387387387389}, {\"threshold\": 0.677, \"p\": 27976, \"tpr\": 0.9231484129253646, \"n\": 5328, \"fpr\": 0.18562312312312312}, {\"threshold\": 0.678, \"p\": 27976, \"tpr\": 0.9230411781527024, \"n\": 5328, \"fpr\": 0.18524774774774774}, {\"threshold\": 0.679, \"p\": 27976, \"tpr\": 0.9228981984558192, \"n\": 5328, \"fpr\": 0.18506006006006007}, {\"threshold\": 0.68, \"p\": 27976, \"tpr\": 0.9226837289104947, \"n\": 5328, \"fpr\": 0.18487237237237236}, {\"threshold\": 0.681, \"p\": 27976, \"tpr\": 0.9226479839862739, \"n\": 5328, \"fpr\": 0.18468468468468469}, {\"threshold\": 0.682, \"p\": 27976, \"tpr\": 0.9225050042893909, \"n\": 5328, \"fpr\": 0.1843093093093093}, {\"threshold\": 0.683, \"p\": 27976, \"tpr\": 0.9223977695167286, \"n\": 5328, \"fpr\": 0.18412162162162163}, {\"threshold\": 0.684, \"p\": 27976, \"tpr\": 0.9222905347440663, \"n\": 5328, \"fpr\": 0.18299549549549549}, {\"threshold\": 0.685, \"p\": 27976, \"tpr\": 0.9221475550471833, \"n\": 5328, \"fpr\": 0.1828078078078078}, {\"threshold\": 0.686, \"p\": 27976, \"tpr\": 0.9219688304260795, \"n\": 5328, \"fpr\": 0.18262012012012013}, {\"threshold\": 0.687, \"p\": 27976, \"tpr\": 0.921897340577638, \"n\": 5328, \"fpr\": 0.18205705705705705}, {\"threshold\": 0.688, \"p\": 27976, \"tpr\": 0.9216828710323134, \"n\": 5328, \"fpr\": 0.18093093093093093}, {\"threshold\": 0.689, \"p\": 27976, \"tpr\": 0.9214684014869888, \"n\": 5328, \"fpr\": 0.18018018018018017}, {\"threshold\": 0.69, \"p\": 27976, \"tpr\": 0.921289676865885, \"n\": 5328, \"fpr\": 0.18018018018018017}, {\"threshold\": 0.691, \"p\": 27976, \"tpr\": 0.921146697169002, \"n\": 5328, \"fpr\": 0.17942942942942944}, {\"threshold\": 0.692, \"p\": 27976, \"tpr\": 0.9209679725478982, \"n\": 5328, \"fpr\": 0.17942942942942944}, {\"threshold\": 0.693, \"p\": 27976, \"tpr\": 0.9207177580783529, \"n\": 5328, \"fpr\": 0.17924174174174173}, {\"threshold\": 0.694, \"p\": 27976, \"tpr\": 0.9205390334572491, \"n\": 5328, \"fpr\": 0.17867867867867868}, {\"threshold\": 0.695, \"p\": 27976, \"tpr\": 0.9203603088361453, \"n\": 5328, \"fpr\": 0.17811561561561562}, {\"threshold\": 0.696, \"p\": 27976, \"tpr\": 0.9203245639119245, \"n\": 5328, \"fpr\": 0.17717717717717718}, {\"threshold\": 0.697, \"p\": 27976, \"tpr\": 0.9200028595939377, \"n\": 5328, \"fpr\": 0.17698948948948948}, {\"threshold\": 0.698, \"p\": 27976, \"tpr\": 0.9198598798970546, \"n\": 5328, \"fpr\": 0.17698948948948948}, {\"threshold\": 0.699, \"p\": 27976, \"tpr\": 0.9197883900486131, \"n\": 5328, \"fpr\": 0.17661411411411412}, {\"threshold\": 0.7, \"p\": 27976, \"tpr\": 0.9196811552759508, \"n\": 5328, \"fpr\": 0.17661411411411412}, {\"threshold\": 0.701, \"p\": 27976, \"tpr\": 0.9196096654275093, \"n\": 5328, \"fpr\": 0.17567567567567569}, {\"threshold\": 0.702, \"p\": 27976, \"tpr\": 0.919359450957964, \"n\": 5328, \"fpr\": 0.17567567567567569}, {\"threshold\": 0.703, \"p\": 27976, \"tpr\": 0.919216471261081, \"n\": 5328, \"fpr\": 0.1753003003003003}, {\"threshold\": 0.704, \"p\": 27976, \"tpr\": 0.9191807263368602, \"n\": 5328, \"fpr\": 0.1751126126126126}, {\"threshold\": 0.705, \"p\": 27976, \"tpr\": 0.9191092364884187, \"n\": 5328, \"fpr\": 0.17417417417417416}, {\"threshold\": 0.706, \"p\": 27976, \"tpr\": 0.9188232770946526, \"n\": 5328, \"fpr\": 0.1737987987987988}, {\"threshold\": 0.707, \"p\": 27976, \"tpr\": 0.9185373177008864, \"n\": 5328, \"fpr\": 0.17267267267267267}, {\"threshold\": 0.708, \"p\": 27976, \"tpr\": 0.9183585930797826, \"n\": 5328, \"fpr\": 0.172484984984985}, {\"threshold\": 0.709, \"p\": 27976, \"tpr\": 0.9180726336860165, \"n\": 5328, \"fpr\": 0.1721096096096096}, {\"threshold\": 0.71, \"p\": 27976, \"tpr\": 0.9178224192164712, \"n\": 5328, \"fpr\": 0.1709834834834835}, {\"threshold\": 0.711, \"p\": 27976, \"tpr\": 0.9176436945953674, \"n\": 5328, \"fpr\": 0.1707957957957958}, {\"threshold\": 0.712, \"p\": 27976, \"tpr\": 0.9173934801258221, \"n\": 5328, \"fpr\": 0.1707957957957958}, {\"threshold\": 0.713, \"p\": 27976, \"tpr\": 0.9170717758078353, \"n\": 5328, \"fpr\": 0.1704204204204204}, {\"threshold\": 0.714, \"p\": 27976, \"tpr\": 0.9168930511867315, \"n\": 5328, \"fpr\": 0.16948198198198197}, {\"threshold\": 0.715, \"p\": 27976, \"tpr\": 0.9167143265656277, \"n\": 5328, \"fpr\": 0.16910660660660662}, {\"threshold\": 0.716, \"p\": 27976, \"tpr\": 0.9164998570203031, \"n\": 5328, \"fpr\": 0.16891891891891891}, {\"threshold\": 0.717, \"p\": 27976, \"tpr\": 0.9162496425507578, \"n\": 5328, \"fpr\": 0.16854354354354353}, {\"threshold\": 0.718, \"p\": 27976, \"tpr\": 0.9161066628538748, \"n\": 5328, \"fpr\": 0.16798048048048048}, {\"threshold\": 0.719, \"p\": 27976, \"tpr\": 0.9160351730054332, \"n\": 5328, \"fpr\": 0.1676051051051051}, {\"threshold\": 0.72, \"p\": 27976, \"tpr\": 0.9159994280812125, \"n\": 5328, \"fpr\": 0.16741741741741742}, {\"threshold\": 0.721, \"p\": 27976, \"tpr\": 0.9157849585358879, \"n\": 5328, \"fpr\": 0.16704204204204204}, {\"threshold\": 0.722, \"p\": 27976, \"tpr\": 0.9154632542179011, \"n\": 5328, \"fpr\": 0.1661036036036036}, {\"threshold\": 0.723, \"p\": 27976, \"tpr\": 0.9152845295967973, \"n\": 5328, \"fpr\": 0.16591591591591592}, {\"threshold\": 0.724, \"p\": 27976, \"tpr\": 0.9151058049756935, \"n\": 5328, \"fpr\": 0.16591591591591592}, {\"threshold\": 0.725, \"p\": 27976, \"tpr\": 0.9149628252788105, \"n\": 5328, \"fpr\": 0.16554054054054054}, {\"threshold\": 0.726, \"p\": 27976, \"tpr\": 0.9146411209608236, \"n\": 5328, \"fpr\": 0.16516516516516516}, {\"threshold\": 0.727, \"p\": 27976, \"tpr\": 0.9143909064912782, \"n\": 5328, \"fpr\": 0.16497747747747749}, {\"threshold\": 0.728, \"p\": 27976, \"tpr\": 0.9143194166428367, \"n\": 5328, \"fpr\": 0.16478978978978978}, {\"threshold\": 0.729, \"p\": 27976, \"tpr\": 0.9141764369459536, \"n\": 5328, \"fpr\": 0.1646021021021021}, {\"threshold\": 0.73, \"p\": 27976, \"tpr\": 0.9140334572490706, \"n\": 5328, \"fpr\": 0.16422672672672672}, {\"threshold\": 0.731, \"p\": 27976, \"tpr\": 0.9137474978553045, \"n\": 5328, \"fpr\": 0.16366366366366367}, {\"threshold\": 0.732, \"p\": 27976, \"tpr\": 0.9136045181584215, \"n\": 5328, \"fpr\": 0.1629129129129129}, {\"threshold\": 0.733, \"p\": 27976, \"tpr\": 0.9132470689162139, \"n\": 5328, \"fpr\": 0.16272522522522523}, {\"threshold\": 0.734, \"p\": 27976, \"tpr\": 0.9130683442951101, \"n\": 5328, \"fpr\": 0.16253753753753752}, {\"threshold\": 0.735, \"p\": 27976, \"tpr\": 0.912925364598227, \"n\": 5328, \"fpr\": 0.16234984984984985}, {\"threshold\": 0.736, \"p\": 27976, \"tpr\": 0.9126751501286817, \"n\": 5328, \"fpr\": 0.16216216216216217}, {\"threshold\": 0.737, \"p\": 27976, \"tpr\": 0.9125321704317987, \"n\": 5328, \"fpr\": 0.16216216216216217}, {\"threshold\": 0.738, \"p\": 27976, \"tpr\": 0.9123534458106949, \"n\": 5328, \"fpr\": 0.16159909909909909}, {\"threshold\": 0.739, \"p\": 27976, \"tpr\": 0.9120674864169288, \"n\": 5328, \"fpr\": 0.16103603603603603}, {\"threshold\": 0.74, \"p\": 27976, \"tpr\": 0.9119602516442665, \"n\": 5328, \"fpr\": 0.16066066066066065}, {\"threshold\": 0.741, \"p\": 27976, \"tpr\": 0.9118172719473835, \"n\": 5328, \"fpr\": 0.15990990990990991}, {\"threshold\": 0.742, \"p\": 27976, \"tpr\": 0.9116028024020589, \"n\": 5328, \"fpr\": 0.1597222222222222}, {\"threshold\": 0.743, \"p\": 27976, \"tpr\": 0.9114598227051759, \"n\": 5328, \"fpr\": 0.15915915915915915}, {\"threshold\": 0.744, \"p\": 27976, \"tpr\": 0.9112096082356306, \"n\": 5328, \"fpr\": 0.1585960960960961}, {\"threshold\": 0.745, \"p\": 27976, \"tpr\": 0.9110308836145268, \"n\": 5328, \"fpr\": 0.15840840840840842}, {\"threshold\": 0.746, \"p\": 27976, \"tpr\": 0.9107091792965399, \"n\": 5328, \"fpr\": 0.15822072072072071}, {\"threshold\": 0.747, \"p\": 27976, \"tpr\": 0.9106019445238777, \"n\": 5328, \"fpr\": 0.15784534534534533}, {\"threshold\": 0.748, \"p\": 27976, \"tpr\": 0.91024449528167, \"n\": 5328, \"fpr\": 0.15765765765765766}, {\"threshold\": 0.749, \"p\": 27976, \"tpr\": 0.9099227909636831, \"n\": 5328, \"fpr\": 0.15746996996996998}, {\"threshold\": 0.75, \"p\": 27976, \"tpr\": 0.9097083214183586, \"n\": 5328, \"fpr\": 0.1570945945945946}, {\"threshold\": 0.751, \"p\": 27976, \"tpr\": 0.9095653417214755, \"n\": 5328, \"fpr\": 0.15578078078078078}, {\"threshold\": 0.752, \"p\": 27976, \"tpr\": 0.909350872176151, \"n\": 5328, \"fpr\": 0.1555930930930931}, {\"threshold\": 0.753, \"p\": 27976, \"tpr\": 0.9091006577066056, \"n\": 5328, \"fpr\": 0.15446696696696696}, {\"threshold\": 0.754, \"p\": 27976, \"tpr\": 0.9090291678581641, \"n\": 5328, \"fpr\": 0.15427927927927929}, {\"threshold\": 0.755, \"p\": 27976, \"tpr\": 0.9088504432370603, \"n\": 5328, \"fpr\": 0.15427927927927929}, {\"threshold\": 0.756, \"p\": 27976, \"tpr\": 0.9086359736917358, \"n\": 5328, \"fpr\": 0.1539039039039039}, {\"threshold\": 0.757, \"p\": 27976, \"tpr\": 0.9082785244495282, \"n\": 5328, \"fpr\": 0.15371621621621623}, {\"threshold\": 0.758, \"p\": 27976, \"tpr\": 0.9080283099799829, \"n\": 5328, \"fpr\": 0.15296546546546547}, {\"threshold\": 0.759, \"p\": 27976, \"tpr\": 0.907563625965113, \"n\": 5328, \"fpr\": 0.1524024024024024}, {\"threshold\": 0.76, \"p\": 27976, \"tpr\": 0.9073134114955677, \"n\": 5328, \"fpr\": 0.1522147147147147}, {\"threshold\": 0.761, \"p\": 27976, \"tpr\": 0.9070274521018016, \"n\": 5328, \"fpr\": 0.15183933933933935}, {\"threshold\": 0.762, \"p\": 27976, \"tpr\": 0.906670002859594, \"n\": 5328, \"fpr\": 0.15146396396396397}, {\"threshold\": 0.763, \"p\": 27976, \"tpr\": 0.9065627680869317, \"n\": 5328, \"fpr\": 0.15090090090090091}, {\"threshold\": 0.764, \"p\": 27976, \"tpr\": 0.9061338289962825, \"n\": 5328, \"fpr\": 0.15052552552552553}, {\"threshold\": 0.765, \"p\": 27976, \"tpr\": 0.9058836145267372, \"n\": 5328, \"fpr\": 0.15015015015015015}, {\"threshold\": 0.766, \"p\": 27976, \"tpr\": 0.9057406348298541, \"n\": 5328, \"fpr\": 0.1495870870870871}, {\"threshold\": 0.767, \"p\": 27976, \"tpr\": 0.9054189305118673, \"n\": 5328, \"fpr\": 0.1493993993993994}, {\"threshold\": 0.768, \"p\": 27976, \"tpr\": 0.9052759508149842, \"n\": 5328, \"fpr\": 0.14921171171171171}, {\"threshold\": 0.769, \"p\": 27976, \"tpr\": 0.9049542464969974, \"n\": 5328, \"fpr\": 0.14883633633633633}, {\"threshold\": 0.77, \"p\": 27976, \"tpr\": 0.9047755218758936, \"n\": 5328, \"fpr\": 0.14883633633633633}, {\"threshold\": 0.771, \"p\": 27976, \"tpr\": 0.904418072633686, \"n\": 5328, \"fpr\": 0.14846096096096095}, {\"threshold\": 0.772, \"p\": 27976, \"tpr\": 0.9040963683156992, \"n\": 5328, \"fpr\": 0.14827327327327328}, {\"threshold\": 0.773, \"p\": 27976, \"tpr\": 0.9038104089219331, \"n\": 5328, \"fpr\": 0.14771021021021022}, {\"threshold\": 0.774, \"p\": 27976, \"tpr\": 0.9035959393766085, \"n\": 5328, \"fpr\": 0.14714714714714713}, {\"threshold\": 0.775, \"p\": 27976, \"tpr\": 0.9034172147555047, \"n\": 5328, \"fpr\": 0.14677177177177178}, {\"threshold\": 0.776, \"p\": 27976, \"tpr\": 0.903381469831284, \"n\": 5328, \"fpr\": 0.1462087087087087}, {\"threshold\": 0.777, \"p\": 27976, \"tpr\": 0.9031312553617387, \"n\": 5328, \"fpr\": 0.14545795795795796}, {\"threshold\": 0.778, \"p\": 27976, \"tpr\": 0.9028810408921933, \"n\": 5328, \"fpr\": 0.14527027027027026}, {\"threshold\": 0.779, \"p\": 27976, \"tpr\": 0.902487846725765, \"n\": 5328, \"fpr\": 0.1447072072072072}, {\"threshold\": 0.78, \"p\": 27976, \"tpr\": 0.9022018873319989, \"n\": 5328, \"fpr\": 0.1447072072072072}, {\"threshold\": 0.781, \"p\": 27976, \"tpr\": 0.9020946525593366, \"n\": 5328, \"fpr\": 0.14451951951951952}, {\"threshold\": 0.782, \"p\": 27976, \"tpr\": 0.9017372033171289, \"n\": 5328, \"fpr\": 0.14395645645645647}, {\"threshold\": 0.783, \"p\": 27976, \"tpr\": 0.9015227337718044, \"n\": 5328, \"fpr\": 0.14395645645645647}, {\"threshold\": 0.784, \"p\": 27976, \"tpr\": 0.9012367743780383, \"n\": 5328, \"fpr\": 0.14395645645645647}, {\"threshold\": 0.785, \"p\": 27976, \"tpr\": 0.900986559908493, \"n\": 5328, \"fpr\": 0.14358108108108109}, {\"threshold\": 0.786, \"p\": 27976, \"tpr\": 0.9007363454389476, \"n\": 5328, \"fpr\": 0.14358108108108109}, {\"threshold\": 0.787, \"p\": 27976, \"tpr\": 0.9004146411209608, \"n\": 5328, \"fpr\": 0.14283033033033032}, {\"threshold\": 0.788, \"p\": 27976, \"tpr\": 0.900235916499857, \"n\": 5328, \"fpr\": 0.14245495495495494}, {\"threshold\": 0.789, \"p\": 27976, \"tpr\": 0.8999857020303117, \"n\": 5328, \"fpr\": 0.1415165165165165}, {\"threshold\": 0.79, \"p\": 27976, \"tpr\": 0.8997354875607664, \"n\": 5328, \"fpr\": 0.1415165165165165}, {\"threshold\": 0.791, \"p\": 27976, \"tpr\": 0.8994852730912211, \"n\": 5328, \"fpr\": 0.14132882882882883}, {\"threshold\": 0.792, \"p\": 27976, \"tpr\": 0.8992350586216757, \"n\": 5328, \"fpr\": 0.14076576576576577}, {\"threshold\": 0.793, \"p\": 27976, \"tpr\": 0.8989848441521304, \"n\": 5328, \"fpr\": 0.1403903903903904}, {\"threshold\": 0.794, \"p\": 27976, \"tpr\": 0.8986988847583643, \"n\": 5328, \"fpr\": 0.13982732732732733}, {\"threshold\": 0.795, \"p\": 27976, \"tpr\": 0.898448670288819, \"n\": 5328, \"fpr\": 0.13945195195195195}, {\"threshold\": 0.796, \"p\": 27976, \"tpr\": 0.898162710895053, \"n\": 5328, \"fpr\": 0.1387012012012012}, {\"threshold\": 0.797, \"p\": 27976, \"tpr\": 0.8979482413497284, \"n\": 5328, \"fpr\": 0.13813813813813813}, {\"threshold\": 0.798, \"p\": 27976, \"tpr\": 0.897698026880183, \"n\": 5328, \"fpr\": 0.13776276276276275}, {\"threshold\": 0.799, \"p\": 27976, \"tpr\": 0.8974478124106376, \"n\": 5328, \"fpr\": 0.1371996996996997}, {\"threshold\": 0.8, \"p\": 27976, \"tpr\": 0.8974120674864169, \"n\": 5328, \"fpr\": 0.13701201201201202}, {\"threshold\": 0.801, \"p\": 27976, \"tpr\": 0.89709036316843, \"n\": 5328, \"fpr\": 0.13663663663663664}, {\"threshold\": 0.802, \"p\": 27976, \"tpr\": 0.8967686588504432, \"n\": 5328, \"fpr\": 0.13607357357357358}, {\"threshold\": 0.803, \"p\": 27976, \"tpr\": 0.8964112096082356, \"n\": 5328, \"fpr\": 0.1356981981981982}, {\"threshold\": 0.804, \"p\": 27976, \"tpr\": 0.8959822705175865, \"n\": 5328, \"fpr\": 0.1356981981981982}, {\"threshold\": 0.805, \"p\": 27976, \"tpr\": 0.8956248212753789, \"n\": 5328, \"fpr\": 0.13494744744744744}, {\"threshold\": 0.806, \"p\": 27976, \"tpr\": 0.8954460966542751, \"n\": 5328, \"fpr\": 0.13494744744744744}, {\"threshold\": 0.807, \"p\": 27976, \"tpr\": 0.8952316271089505, \"n\": 5328, \"fpr\": 0.13475975975975976}, {\"threshold\": 0.808, \"p\": 27976, \"tpr\": 0.8950886474120675, \"n\": 5328, \"fpr\": 0.1341966966966967}, {\"threshold\": 0.809, \"p\": 27976, \"tpr\": 0.8945524735487561, \"n\": 5328, \"fpr\": 0.13363363363363365}, {\"threshold\": 0.81, \"p\": 27976, \"tpr\": 0.8941592793823278, \"n\": 5328, \"fpr\": 0.13344594594594594}, {\"threshold\": 0.811, \"p\": 27976, \"tpr\": 0.8938375750643409, \"n\": 5328, \"fpr\": 0.13325825825825827}, {\"threshold\": 0.812, \"p\": 27976, \"tpr\": 0.8936945953674578, \"n\": 5328, \"fpr\": 0.13288288288288289}, {\"threshold\": 0.813, \"p\": 27976, \"tpr\": 0.8934801258221332, \"n\": 5328, \"fpr\": 0.13269519519519518}, {\"threshold\": 0.814, \"p\": 27976, \"tpr\": 0.8930869316557049, \"n\": 5328, \"fpr\": 0.13269519519519518}, {\"threshold\": 0.815, \"p\": 27976, \"tpr\": 0.8926937374892765, \"n\": 5328, \"fpr\": 0.13213213213213212}, {\"threshold\": 0.816, \"p\": 27976, \"tpr\": 0.8925865027166142, \"n\": 5328, \"fpr\": 0.13194444444444445}, {\"threshold\": 0.817, \"p\": 27976, \"tpr\": 0.8922647983986274, \"n\": 5328, \"fpr\": 0.131006006006006}, {\"threshold\": 0.818, \"p\": 27976, \"tpr\": 0.8920145839290821, \"n\": 5328, \"fpr\": 0.131006006006006}, {\"threshold\": 0.819, \"p\": 27976, \"tpr\": 0.891728624535316, \"n\": 5328, \"fpr\": 0.1308183183183183}, {\"threshold\": 0.82, \"p\": 27976, \"tpr\": 0.8910852158993423, \"n\": 5328, \"fpr\": 0.1308183183183183}, {\"threshold\": 0.821, \"p\": 27976, \"tpr\": 0.8907277666571347, \"n\": 5328, \"fpr\": 0.13006756756756757}, {\"threshold\": 0.822, \"p\": 27976, \"tpr\": 0.8902988275664856, \"n\": 5328, \"fpr\": 0.13006756756756757}, {\"threshold\": 0.823, \"p\": 27976, \"tpr\": 0.8899056334000572, \"n\": 5328, \"fpr\": 0.12987987987987987}, {\"threshold\": 0.824, \"p\": 27976, \"tpr\": 0.8895839290820704, \"n\": 5328, \"fpr\": 0.12950450450450451}, {\"threshold\": 0.825, \"p\": 27976, \"tpr\": 0.8891907349156419, \"n\": 5328, \"fpr\": 0.12856606606606608}, {\"threshold\": 0.826, \"p\": 27976, \"tpr\": 0.8886903059765513, \"n\": 5328, \"fpr\": 0.128003003003003}, {\"threshold\": 0.827, \"p\": 27976, \"tpr\": 0.8882971118101229, \"n\": 5328, \"fpr\": 0.12762762762762764}, {\"threshold\": 0.828, \"p\": 27976, \"tpr\": 0.8880468973405776, \"n\": 5328, \"fpr\": 0.12706456456456455}, {\"threshold\": 0.829, \"p\": 27976, \"tpr\": 0.8878324277952531, \"n\": 5328, \"fpr\": 0.1266891891891892}, {\"threshold\": 0.83, \"p\": 27976, \"tpr\": 0.8874749785530455, \"n\": 5328, \"fpr\": 0.1265015015015015}, {\"threshold\": 0.831, \"p\": 27976, \"tpr\": 0.8873319988561624, \"n\": 5328, \"fpr\": 0.12518768768768768}, {\"threshold\": 0.832, \"p\": 27976, \"tpr\": 0.8868673148412926, \"n\": 5328, \"fpr\": 0.12481231231231231}, {\"threshold\": 0.833, \"p\": 27976, \"tpr\": 0.8864741206748642, \"n\": 5328, \"fpr\": 0.12406156156156156}, {\"threshold\": 0.834, \"p\": 27976, \"tpr\": 0.8860094366599943, \"n\": 5328, \"fpr\": 0.12368618618618618}, {\"threshold\": 0.835, \"p\": 27976, \"tpr\": 0.8856877323420075, \"n\": 5328, \"fpr\": 0.12293543543543543}, {\"threshold\": 0.836, \"p\": 27976, \"tpr\": 0.8852230483271375, \"n\": 5328, \"fpr\": 0.12218468468468469}, {\"threshold\": 0.837, \"p\": 27976, \"tpr\": 0.8849728338575922, \"n\": 5328, \"fpr\": 0.1218093093093093}, {\"threshold\": 0.838, \"p\": 27976, \"tpr\": 0.8847941092364884, \"n\": 5328, \"fpr\": 0.12143393393393394}, {\"threshold\": 0.839, \"p\": 27976, \"tpr\": 0.884257935373177, \"n\": 5328, \"fpr\": 0.12143393393393394}, {\"threshold\": 0.84, \"p\": 27976, \"tpr\": 0.8836502716614241, \"n\": 5328, \"fpr\": 0.12068318318318318}, {\"threshold\": 0.841, \"p\": 27976, \"tpr\": 0.8834358021160995, \"n\": 5328, \"fpr\": 0.12030780780780781}, {\"threshold\": 0.842, \"p\": 27976, \"tpr\": 0.8828281384043466, \"n\": 5328, \"fpr\": 0.11974474474474474}, {\"threshold\": 0.843, \"p\": 27976, \"tpr\": 0.882327709465256, \"n\": 5328, \"fpr\": 0.11955705705705706}, {\"threshold\": 0.844, \"p\": 27976, \"tpr\": 0.8816485559050615, \"n\": 5328, \"fpr\": 0.11861861861861862}, {\"threshold\": 0.845, \"p\": 27976, \"tpr\": 0.8813983414355162, \"n\": 5328, \"fpr\": 0.11786786786786786}, {\"threshold\": 0.846, \"p\": 27976, \"tpr\": 0.88111238204175, \"n\": 5328, \"fpr\": 0.11768018018018019}, {\"threshold\": 0.847, \"p\": 27976, \"tpr\": 0.8807906777237632, \"n\": 5328, \"fpr\": 0.1174924924924925}, {\"threshold\": 0.848, \"p\": 27976, \"tpr\": 0.8805404632542179, \"n\": 5328, \"fpr\": 0.11655405405405406}, {\"threshold\": 0.849, \"p\": 27976, \"tpr\": 0.8801115241635687, \"n\": 5328, \"fpr\": 0.11636636636636637}, {\"threshold\": 0.85, \"p\": 27976, \"tpr\": 0.8797183299971404, \"n\": 5328, \"fpr\": 0.11617867867867868}, {\"threshold\": 0.851, \"p\": 27976, \"tpr\": 0.879325135830712, \"n\": 5328, \"fpr\": 0.11599099099099099}, {\"threshold\": 0.852, \"p\": 27976, \"tpr\": 0.8788604518158422, \"n\": 5328, \"fpr\": 0.11580330330330331}, {\"threshold\": 0.853, \"p\": 27976, \"tpr\": 0.878431512725193, \"n\": 5328, \"fpr\": 0.11505255255255255}, {\"threshold\": 0.854, \"p\": 27976, \"tpr\": 0.8780383185587647, \"n\": 5328, \"fpr\": 0.11467717717717718}, {\"threshold\": 0.855, \"p\": 27976, \"tpr\": 0.8773234200743495, \"n\": 5328, \"fpr\": 0.11411411411411411}, {\"threshold\": 0.856, \"p\": 27976, \"tpr\": 0.8767515012868172, \"n\": 5328, \"fpr\": 0.11392642642642643}, {\"threshold\": 0.857, \"p\": 27976, \"tpr\": 0.8765012868172719, \"n\": 5328, \"fpr\": 0.11373873873873874}, {\"threshold\": 0.858, \"p\": 27976, \"tpr\": 0.8761080926508436, \"n\": 5328, \"fpr\": 0.11298798798798798}, {\"threshold\": 0.859, \"p\": 27976, \"tpr\": 0.8755361738633114, \"n\": 5328, \"fpr\": 0.11298798798798798}, {\"threshold\": 0.86, \"p\": 27976, \"tpr\": 0.8750714898484415, \"n\": 5328, \"fpr\": 0.1128003003003003}, {\"threshold\": 0.861, \"p\": 27976, \"tpr\": 0.8748212753788962, \"n\": 5328, \"fpr\": 0.11223723723723723}, {\"threshold\": 0.862, \"p\": 27976, \"tpr\": 0.8744280812124678, \"n\": 5328, \"fpr\": 0.11204954954954954}, {\"threshold\": 0.863, \"p\": 27976, \"tpr\": 0.8740348870460395, \"n\": 5328, \"fpr\": 0.11186186186186187}, {\"threshold\": 0.864, \"p\": 27976, \"tpr\": 0.8737131827280527, \"n\": 5328, \"fpr\": 0.1111111111111111}, {\"threshold\": 0.865, \"p\": 27976, \"tpr\": 0.8731412639405205, \"n\": 5328, \"fpr\": 0.10998498498498499}, {\"threshold\": 0.866, \"p\": 27976, \"tpr\": 0.8724263654561052, \"n\": 5328, \"fpr\": 0.10942192192192192}, {\"threshold\": 0.867, \"p\": 27976, \"tpr\": 0.8720689162138976, \"n\": 5328, \"fpr\": 0.10885885885885886}, {\"threshold\": 0.868, \"p\": 27976, \"tpr\": 0.8715327423505862, \"n\": 5328, \"fpr\": 0.10867117117117117}, {\"threshold\": 0.869, \"p\": 27976, \"tpr\": 0.8712467829568201, \"n\": 5328, \"fpr\": 0.10829579579579579}, {\"threshold\": 0.87, \"p\": 27976, \"tpr\": 0.8707106090935087, \"n\": 5328, \"fpr\": 0.10754504504504504}, {\"threshold\": 0.871, \"p\": 27976, \"tpr\": 0.8704603946239634, \"n\": 5328, \"fpr\": 0.10716966966966968}, {\"threshold\": 0.872, \"p\": 27976, \"tpr\": 0.8699957106090935, \"n\": 5328, \"fpr\": 0.10623123123123124}, {\"threshold\": 0.873, \"p\": 27976, \"tpr\": 0.8693523019731199, \"n\": 5328, \"fpr\": 0.10566816816816817}, {\"threshold\": 0.874, \"p\": 27976, \"tpr\": 0.8689948527309123, \"n\": 5328, \"fpr\": 0.10529279279279279}, {\"threshold\": 0.875, \"p\": 27976, \"tpr\": 0.86842293394338, \"n\": 5328, \"fpr\": 0.10472972972972973}, {\"threshold\": 0.876, \"p\": 27976, \"tpr\": 0.8681012296253932, \"n\": 5328, \"fpr\": 0.10397897897897898}, {\"threshold\": 0.877, \"p\": 27976, \"tpr\": 0.8674578209894195, \"n\": 5328, \"fpr\": 0.10322822822822823}, {\"threshold\": 0.878, \"p\": 27976, \"tpr\": 0.8669573920503288, \"n\": 5328, \"fpr\": 0.1022897897897898}, {\"threshold\": 0.879, \"p\": 27976, \"tpr\": 0.8664569631112382, \"n\": 5328, \"fpr\": 0.10191441441441441}, {\"threshold\": 0.88, \"p\": 27976, \"tpr\": 0.8656705747783815, \"n\": 5328, \"fpr\": 0.10172672672672672}, {\"threshold\": 0.881, \"p\": 27976, \"tpr\": 0.8649199313697455, \"n\": 5328, \"fpr\": 0.10135135135135136}, {\"threshold\": 0.882, \"p\": 27976, \"tpr\": 0.8643480125822133, \"n\": 5328, \"fpr\": 0.10078828828828829}, {\"threshold\": 0.883, \"p\": 27976, \"tpr\": 0.8637403488704604, \"n\": 5328, \"fpr\": 0.10041291291291292}, {\"threshold\": 0.884, \"p\": 27976, \"tpr\": 0.8629897054618244, \"n\": 5328, \"fpr\": 0.09947447447447448}, {\"threshold\": 0.885, \"p\": 27976, \"tpr\": 0.8621318272805262, \"n\": 5328, \"fpr\": 0.0990990990990991}, {\"threshold\": 0.886, \"p\": 27976, \"tpr\": 0.8617386331140978, \"n\": 5328, \"fpr\": 0.09891141141141141}, {\"threshold\": 0.887, \"p\": 27976, \"tpr\": 0.8609522447812411, \"n\": 5328, \"fpr\": 0.09853603603603604}, {\"threshold\": 0.888, \"p\": 27976, \"tpr\": 0.8602730912210466, \"n\": 5328, \"fpr\": 0.09816066066066066}, {\"threshold\": 0.889, \"p\": 27976, \"tpr\": 0.8598441521303974, \"n\": 5328, \"fpr\": 0.09778528528528528}, {\"threshold\": 0.89, \"p\": 27976, \"tpr\": 0.8592364884186445, \"n\": 5328, \"fpr\": 0.09628378378378379}, {\"threshold\": 0.891, \"p\": 27976, \"tpr\": 0.8583071203889048, \"n\": 5328, \"fpr\": 0.0959084084084084}, {\"threshold\": 0.892, \"p\": 27976, \"tpr\": 0.8576637117529311, \"n\": 5328, \"fpr\": 0.09515765765765766}, {\"threshold\": 0.893, \"p\": 27976, \"tpr\": 0.8569488132685159, \"n\": 5328, \"fpr\": 0.09478228228228228}, {\"threshold\": 0.894, \"p\": 27976, \"tpr\": 0.856019445238776, \"n\": 5328, \"fpr\": 0.09384384384384384}, {\"threshold\": 0.895, \"p\": 27976, \"tpr\": 0.8553402916785816, \"n\": 5328, \"fpr\": 0.09346846846846847}, {\"threshold\": 0.896, \"p\": 27976, \"tpr\": 0.8545181584215041, \"n\": 5328, \"fpr\": 0.09346846846846847}, {\"threshold\": 0.897, \"p\": 27976, \"tpr\": 0.8538032599370889, \"n\": 5328, \"fpr\": 0.09328078078078078}, {\"threshold\": 0.898, \"p\": 27976, \"tpr\": 0.853195596225336, \"n\": 5328, \"fpr\": 0.0929054054054054}, {\"threshold\": 0.899, \"p\": 27976, \"tpr\": 0.8524092078924793, \"n\": 5328, \"fpr\": 0.09234234234234234}, {\"threshold\": 0.9, \"p\": 27976, \"tpr\": 0.8517300543322848, \"n\": 5328, \"fpr\": 0.09196696696696696}, {\"threshold\": 0.901, \"p\": 27976, \"tpr\": 0.8510509007720903, \"n\": 5328, \"fpr\": 0.09102852852852852}, {\"threshold\": 0.902, \"p\": 27976, \"tpr\": 0.8503717472118959, \"n\": 5328, \"fpr\": 0.09084084084084085}, {\"threshold\": 0.903, \"p\": 27976, \"tpr\": 0.8500500428939091, \"n\": 5328, \"fpr\": 0.09027777777777778}, {\"threshold\": 0.904, \"p\": 27976, \"tpr\": 0.8492279096368316, \"n\": 5328, \"fpr\": 0.09009009009009009}, {\"threshold\": 0.905, \"p\": 27976, \"tpr\": 0.8486559908492994, \"n\": 5328, \"fpr\": 0.08915165165165165}, {\"threshold\": 0.906, \"p\": 27976, \"tpr\": 0.8477266228195596, \"n\": 5328, \"fpr\": 0.08802552552552552}, {\"threshold\": 0.907, \"p\": 27976, \"tpr\": 0.8468687446382613, \"n\": 5328, \"fpr\": 0.08727477477477477}, {\"threshold\": 0.908, \"p\": 27976, \"tpr\": 0.8458321418358593, \"n\": 5328, \"fpr\": 0.08633633633633633}, {\"threshold\": 0.909, \"p\": 27976, \"tpr\": 0.8447955390334573, \"n\": 5328, \"fpr\": 0.08614864864864864}, {\"threshold\": 0.91, \"p\": 27976, \"tpr\": 0.843937660852159, \"n\": 5328, \"fpr\": 0.08596096096096097}, {\"threshold\": 0.911, \"p\": 27976, \"tpr\": 0.8430082928224192, \"n\": 5328, \"fpr\": 0.0852102102102102}, {\"threshold\": 0.912, \"p\": 27976, \"tpr\": 0.8423291392622247, \"n\": 5328, \"fpr\": 0.08502252252252253}, {\"threshold\": 0.913, \"p\": 27976, \"tpr\": 0.8416142407778096, \"n\": 5328, \"fpr\": 0.08464714714714715}, {\"threshold\": 0.914, \"p\": 27976, \"tpr\": 0.8409350872176151, \"n\": 5328, \"fpr\": 0.08464714714714715}, {\"threshold\": 0.915, \"p\": 27976, \"tpr\": 0.8398269945667716, \"n\": 5328, \"fpr\": 0.08427177177177177}, {\"threshold\": 0.916, \"p\": 27976, \"tpr\": 0.8389333714612525, \"n\": 5328, \"fpr\": 0.08370870870870871}, {\"threshold\": 0.917, \"p\": 27976, \"tpr\": 0.8375393194166428, \"n\": 5328, \"fpr\": 0.08295795795795796}, {\"threshold\": 0.918, \"p\": 27976, \"tpr\": 0.8362525021446955, \"n\": 5328, \"fpr\": 0.08295795795795796}, {\"threshold\": 0.919, \"p\": 27976, \"tpr\": 0.8353588790391764, \"n\": 5328, \"fpr\": 0.08239489489489489}, {\"threshold\": 0.92, \"p\": 27976, \"tpr\": 0.833929082070346, \"n\": 5328, \"fpr\": 0.08164414414414414}, {\"threshold\": 0.921, \"p\": 27976, \"tpr\": 0.8329282241921647, \"n\": 5328, \"fpr\": 0.08126876876876876}, {\"threshold\": 0.922, \"p\": 27976, \"tpr\": 0.8317843866171004, \"n\": 5328, \"fpr\": 0.08033033033033032}, {\"threshold\": 0.923, \"p\": 27976, \"tpr\": 0.830640549042036, \"n\": 5328, \"fpr\": 0.07957957957957958}, {\"threshold\": 0.924, \"p\": 27976, \"tpr\": 0.8297111810122962, \"n\": 5328, \"fpr\": 0.07920420420420421}, {\"threshold\": 0.925, \"p\": 27976, \"tpr\": 0.8289247926794395, \"n\": 5328, \"fpr\": 0.07882882882882883}, {\"threshold\": 0.926, \"p\": 27976, \"tpr\": 0.8276022304832714, \"n\": 5328, \"fpr\": 0.07789039039039039}, {\"threshold\": 0.927, \"p\": 27976, \"tpr\": 0.8264226479839862, \"n\": 5328, \"fpr\": 0.07789039039039039}, {\"threshold\": 0.928, \"p\": 27976, \"tpr\": 0.8254575350300257, \"n\": 5328, \"fpr\": 0.0777027027027027}, {\"threshold\": 0.929, \"p\": 27976, \"tpr\": 0.8240992279096369, \"n\": 5328, \"fpr\": 0.07695195195195195}, {\"threshold\": 0.93, \"p\": 27976, \"tpr\": 0.8228839004861309, \"n\": 5328, \"fpr\": 0.0762012012012012}, {\"threshold\": 0.931, \"p\": 27976, \"tpr\": 0.8213111238204175, \"n\": 5328, \"fpr\": 0.07507507507507508}, {\"threshold\": 0.932, \"p\": 27976, \"tpr\": 0.8199170717758079, \"n\": 5328, \"fpr\": 0.07488738738738739}, {\"threshold\": 0.933, \"p\": 27976, \"tpr\": 0.8187374892765227, \"n\": 5328, \"fpr\": 0.07488738738738739}, {\"threshold\": 0.934, \"p\": 27976, \"tpr\": 0.81720045753503, \"n\": 5328, \"fpr\": 0.0746996996996997}, {\"threshold\": 0.935, \"p\": 27976, \"tpr\": 0.8156634257935373, \"n\": 5328, \"fpr\": 0.07451201201201202}, {\"threshold\": 0.936, \"p\": 27976, \"tpr\": 0.8144480983700314, \"n\": 5328, \"fpr\": 0.07394894894894895}, {\"threshold\": 0.937, \"p\": 27976, \"tpr\": 0.8133400057191879, \"n\": 5328, \"fpr\": 0.07338588588588589}, {\"threshold\": 0.938, \"p\": 27976, \"tpr\": 0.8118744638261367, \"n\": 5328, \"fpr\": 0.07301051051051051}, {\"threshold\": 0.939, \"p\": 27976, \"tpr\": 0.8103374320846439, \"n\": 5328, \"fpr\": 0.07263513513513513}, {\"threshold\": 0.94, \"p\": 27976, \"tpr\": 0.8085144409493852, \"n\": 5328, \"fpr\": 0.07188438438438438}, {\"threshold\": 0.941, \"p\": 27976, \"tpr\": 0.8071918787532171, \"n\": 5328, \"fpr\": 0.07132132132132132}, {\"threshold\": 0.942, \"p\": 27976, \"tpr\": 0.8057620817843866, \"n\": 5328, \"fpr\": 0.07057057057057058}, {\"threshold\": 0.943, \"p\": 27976, \"tpr\": 0.8042250500428939, \"n\": 5328, \"fpr\": 0.07038288288288289}, {\"threshold\": 0.944, \"p\": 27976, \"tpr\": 0.8027952530740635, \"n\": 5328, \"fpr\": 0.06963213213213214}, {\"threshold\": 0.945, \"p\": 27976, \"tpr\": 0.8011867314841292, \"n\": 5328, \"fpr\": 0.06925675675675676}, {\"threshold\": 0.946, \"p\": 27976, \"tpr\": 0.7993279954246497, \"n\": 5328, \"fpr\": 0.06888138138138138}, {\"threshold\": 0.947, \"p\": 27976, \"tpr\": 0.7976479839862739, \"n\": 5328, \"fpr\": 0.06794294294294294}, {\"threshold\": 0.948, \"p\": 27976, \"tpr\": 0.7962539319416643, \"n\": 5328, \"fpr\": 0.06737987987987988}, {\"threshold\": 0.949, \"p\": 27976, \"tpr\": 0.7946096654275093, \"n\": 5328, \"fpr\": 0.06587837837837837}, {\"threshold\": 0.95, \"p\": 27976, \"tpr\": 0.7921432656562768, \"n\": 5328, \"fpr\": 0.06456456456456457}, {\"threshold\": 0.951, \"p\": 27976, \"tpr\": 0.7906062339147841, \"n\": 5328, \"fpr\": 0.06381381381381382}, {\"threshold\": 0.952, \"p\": 27976, \"tpr\": 0.7890334572490706, \"n\": 5328, \"fpr\": 0.06306306306306306}, {\"threshold\": 0.953, \"p\": 27976, \"tpr\": 0.7866385473262797, \"n\": 5328, \"fpr\": 0.0625}, {\"threshold\": 0.954, \"p\": 27976, \"tpr\": 0.7842078924792679, \"n\": 5328, \"fpr\": 0.061936936936936936}, {\"threshold\": 0.955, \"p\": 27976, \"tpr\": 0.7820631970260223, \"n\": 5328, \"fpr\": 0.06118618618618619}, {\"threshold\": 0.956, \"p\": 27976, \"tpr\": 0.7804189305118673, \"n\": 5328, \"fpr\": 0.0609984984984985}, {\"threshold\": 0.957, \"p\": 27976, \"tpr\": 0.7782027452101802, \"n\": 5328, \"fpr\": 0.05987237237237237}, {\"threshold\": 0.958, \"p\": 27976, \"tpr\": 0.776272519302259, \"n\": 5328, \"fpr\": 0.05912162162162162}, {\"threshold\": 0.959, \"p\": 27976, \"tpr\": 0.7734844152130398, \"n\": 5328, \"fpr\": 0.05818318318318318}, {\"threshold\": 0.96, \"p\": 27976, \"tpr\": 0.7710895052902488, \"n\": 5328, \"fpr\": 0.05780780780780781}, {\"threshold\": 0.961, \"p\": 27976, \"tpr\": 0.7685516156705747, \"n\": 5328, \"fpr\": 0.057244744744744745}, {\"threshold\": 0.962, \"p\": 27976, \"tpr\": 0.7664069202173291, \"n\": 5328, \"fpr\": 0.05593093093093093}, {\"threshold\": 0.963, \"p\": 27976, \"tpr\": 0.763440091507006, \"n\": 5328, \"fpr\": 0.05536786786786787}, {\"threshold\": 0.964, \"p\": 27976, \"tpr\": 0.7602230483271375, \"n\": 5328, \"fpr\": 0.05442942942942943}, {\"threshold\": 0.965, \"p\": 27976, \"tpr\": 0.7577209036316843, \"n\": 5328, \"fpr\": 0.053678678678678676}, {\"threshold\": 0.966, \"p\": 27976, \"tpr\": 0.7547540749213612, \"n\": 5328, \"fpr\": 0.05292792792792793}, {\"threshold\": 0.967, \"p\": 27976, \"tpr\": 0.7517157563625965, \"n\": 5328, \"fpr\": 0.052177177177177174}, {\"threshold\": 0.968, \"p\": 27976, \"tpr\": 0.7481770088647413, \"n\": 5328, \"fpr\": 0.05161411411411412}, {\"threshold\": 0.969, \"p\": 27976, \"tpr\": 0.7450314555333143, \"n\": 5328, \"fpr\": 0.051238738738738736}, {\"threshold\": 0.97, \"p\": 27976, \"tpr\": 0.7412782384901344, \"n\": 5328, \"fpr\": 0.050112612612612614}, {\"threshold\": 0.971, \"p\": 27976, \"tpr\": 0.738204175007149, \"n\": 5328, \"fpr\": 0.049174174174174176}, {\"threshold\": 0.972, \"p\": 27976, \"tpr\": 0.734164998570203, \"n\": 5328, \"fpr\": 0.04823573573573574}, {\"threshold\": 0.973, \"p\": 27976, \"tpr\": 0.7306977409207892, \"n\": 5328, \"fpr\": 0.047672672672672674}, {\"threshold\": 0.974, \"p\": 27976, \"tpr\": 0.7262653703174149, \"n\": 5328, \"fpr\": 0.046546546546546545}, {\"threshold\": 0.975, \"p\": 27976, \"tpr\": 0.7218329997140406, \"n\": 5328, \"fpr\": 0.045420420420420424}, {\"threshold\": 0.976, \"p\": 27976, \"tpr\": 0.7173648841864455, \"n\": 5328, \"fpr\": 0.04373123123123123}, {\"threshold\": 0.977, \"p\": 27976, \"tpr\": 0.7127537889619674, \"n\": 5328, \"fpr\": 0.0426051051051051}, {\"threshold\": 0.978, \"p\": 27976, \"tpr\": 0.7083929082070346, \"n\": 5328, \"fpr\": 0.041666666666666664}, {\"threshold\": 0.979, \"p\": 27976, \"tpr\": 0.7033886188161281, \"n\": 5328, \"fpr\": 0.04129129129129129}, {\"threshold\": 0.98, \"p\": 27976, \"tpr\": 0.6974549613954818, \"n\": 5328, \"fpr\": 0.040728228228228226}, {\"threshold\": 0.981, \"p\": 27976, \"tpr\": 0.6917000285959394, \"n\": 5328, \"fpr\": 0.03997747747747748}, {\"threshold\": 0.982, \"p\": 27976, \"tpr\": 0.6851229625393194, \"n\": 5328, \"fpr\": 0.03866366366366367}, {\"threshold\": 0.983, \"p\": 27976, \"tpr\": 0.6791893051186731, \"n\": 5328, \"fpr\": 0.0365990990990991}, {\"threshold\": 0.984, \"p\": 27976, \"tpr\": 0.6718615956534172, \"n\": 5328, \"fpr\": 0.0350975975975976}, {\"threshold\": 0.985, \"p\": 27976, \"tpr\": 0.6642479267943951, \"n\": 5328, \"fpr\": 0.03453453453453453}, {\"threshold\": 0.986, \"p\": 27976, \"tpr\": 0.6559551043751787, \"n\": 5328, \"fpr\": 0.03322072072072072}, {\"threshold\": 0.987, \"p\": 27976, \"tpr\": 0.6466971690020017, \"n\": 5328, \"fpr\": 0.03228228228228228}, {\"threshold\": 0.988, \"p\": 27976, \"tpr\": 0.6373677437803832, \"n\": 5328, \"fpr\": 0.030968468468468468}, {\"threshold\": 0.989, \"p\": 27976, \"tpr\": 0.6274306548470118, \"n\": 5328, \"fpr\": 0.02927927927927928}, {\"threshold\": 0.99, \"p\": 27976, \"tpr\": 0.6158492993994853, \"n\": 5328, \"fpr\": 0.026839339339339338}, {\"threshold\": 0.991, \"p\": 27976, \"tpr\": 0.6035887903917644, \"n\": 5328, \"fpr\": 0.025525525525525526}, {\"threshold\": 0.992, \"p\": 27976, \"tpr\": 0.5895052902487846, \"n\": 5328, \"fpr\": 0.02421171171171171}, {\"threshold\": 0.993, \"p\": 27976, \"tpr\": 0.5742779525307407, \"n\": 5328, \"fpr\": 0.022334834834834835}, {\"threshold\": 0.994, \"p\": 27976, \"tpr\": 0.5570846439805548, \"n\": 5328, \"fpr\": 0.020833333333333332}, {\"threshold\": 0.995, \"p\": 27976, \"tpr\": 0.5346725764941378, \"n\": 5328, \"fpr\": 0.019707207207207207}, {\"threshold\": 0.996, \"p\": 27976, \"tpr\": 0.5075064340863598, \"n\": 5328, \"fpr\": 0.018205705705705705}, {\"threshold\": 0.997, \"p\": 27976, \"tpr\": 0.47419216471261083, \"n\": 5328, \"fpr\": 0.01614114114114114}, {\"threshold\": 0.998, \"p\": 27976, \"tpr\": 0.4294752645124392, \"n\": 5328, \"fpr\": 0.013138138138138139}, {\"threshold\": 0.999, \"p\": 27976, \"tpr\": 0.3602016013726051, \"n\": 5328, \"fpr\": 0.009384384384384385}, {\"threshold\": 1.0, \"p\": 27976, \"tpr\": 0.0, \"n\": 5328, \"fpr\": 0.0}]}]], \"view_components\": [\"Summary\", \"Evaluation\", \"Comparison\"], \"view_params\": {\"model_type\": \"regression\", \"view\": \"Evaluation\"}}, \"ipython\": true, \"view_params\": {\"model_type\": \"regression\", \"view\": \"Evaluation\"}, \"evaluations\": [[\"test_data\", {\"roc_curve\": [{\"threshold\": 0.0, \"p\": 27976, \"tpr\": 1.0, \"n\": 5328, \"fpr\": 1.0}, {\"threshold\": 0.001, \"p\": 27976, \"tpr\": 0.9963897626537032, \"n\": 5328, \"fpr\": 0.7755255255255256}, {\"threshold\": 0.002, \"p\": 27976, \"tpr\": 0.9953531598513011, \"n\": 5328, \"fpr\": 0.7355480480480481}, {\"threshold\": 0.003, \"p\": 27976, \"tpr\": 0.9947454961395482, \"n\": 5328, \"fpr\": 0.7128378378378378}, {\"threshold\": 0.004, \"p\": 27976, \"tpr\": 0.9942808121246783, \"n\": 5328, \"fpr\": 0.6972597597597597}, {\"threshold\": 0.005, \"p\": 27976, \"tpr\": 0.9939233628824707, \"n\": 5328, \"fpr\": 0.6859984984984985}, {\"threshold\": 0.006, \"p\": 27976, \"tpr\": 0.99342293394338, \"n\": 5328, \"fpr\": 0.6762387387387387}, {\"threshold\": 0.007, \"p\": 27976, \"tpr\": 0.9930654847011724, \"n\": 5328, \"fpr\": 0.6657282282282282}, {\"threshold\": 0.008, \"p\": 27976, \"tpr\": 0.9928152702316271, \"n\": 5328, \"fpr\": 0.6554054054054054}, {\"threshold\": 0.009, \"p\": 27976, \"tpr\": 0.9924935659136402, \"n\": 5328, \"fpr\": 0.6480855855855856}, {\"threshold\": 0.01, \"p\": 27976, \"tpr\": 0.9922433514440949, \"n\": 5328, \"fpr\": 0.6394519519519519}, {\"threshold\": 0.011, \"p\": 27976, \"tpr\": 0.9919573920503288, \"n\": 5328, \"fpr\": 0.6325075075075075}, {\"threshold\": 0.012, \"p\": 27976, \"tpr\": 0.991635687732342, \"n\": 5328, \"fpr\": 0.6270645645645646}, {\"threshold\": 0.013, \"p\": 27976, \"tpr\": 0.9913854732627967, \"n\": 5328, \"fpr\": 0.6203078078078078}, {\"threshold\": 0.014, \"p\": 27976, \"tpr\": 0.9911352587932514, \"n\": 5328, \"fpr\": 0.6154279279279279}, {\"threshold\": 0.015, \"p\": 27976, \"tpr\": 0.990885044323706, \"n\": 5328, \"fpr\": 0.6086711711711712}, {\"threshold\": 0.016, \"p\": 27976, \"tpr\": 0.9905633400057192, \"n\": 5328, \"fpr\": 0.603978978978979}, {\"threshold\": 0.017, \"p\": 27976, \"tpr\": 0.9903131255361739, \"n\": 5328, \"fpr\": 0.6002252252252253}, {\"threshold\": 0.018, \"p\": 27976, \"tpr\": 0.9901701458392909, \"n\": 5328, \"fpr\": 0.5953453453453453}, {\"threshold\": 0.019, \"p\": 27976, \"tpr\": 0.9900271661424078, \"n\": 5328, \"fpr\": 0.5904654654654654}, {\"threshold\": 0.02, \"p\": 27976, \"tpr\": 0.9898126965970833, \"n\": 5328, \"fpr\": 0.585960960960961}, {\"threshold\": 0.021, \"p\": 27976, \"tpr\": 0.989705461824421, \"n\": 5328, \"fpr\": 0.5822072072072072}, {\"threshold\": 0.022, \"p\": 27976, \"tpr\": 0.9894552473548756, \"n\": 5328, \"fpr\": 0.5793918918918919}, {\"threshold\": 0.023, \"p\": 27976, \"tpr\": 0.9893480125822133, \"n\": 5328, \"fpr\": 0.5773273273273273}, {\"threshold\": 0.024, \"p\": 27976, \"tpr\": 0.9892050328853302, \"n\": 5328, \"fpr\": 0.5730105105105106}, {\"threshold\": 0.025, \"p\": 27976, \"tpr\": 0.9890263082642264, \"n\": 5328, \"fpr\": 0.5698198198198198}, {\"threshold\": 0.026, \"p\": 27976, \"tpr\": 0.9889190734915642, \"n\": 5328, \"fpr\": 0.5662537537537538}, {\"threshold\": 0.027, \"p\": 27976, \"tpr\": 0.9886688590220188, \"n\": 5328, \"fpr\": 0.5630630630630631}, {\"threshold\": 0.028, \"p\": 27976, \"tpr\": 0.988490134400915, \"n\": 5328, \"fpr\": 0.5602477477477478}, {\"threshold\": 0.029, \"p\": 27976, \"tpr\": 0.988347154704032, \"n\": 5328, \"fpr\": 0.5566816816816816}, {\"threshold\": 0.03, \"p\": 27976, \"tpr\": 0.9880969402344867, \"n\": 5328, \"fpr\": 0.5527402402402403}, {\"threshold\": 0.031, \"p\": 27976, \"tpr\": 0.9879897054618244, \"n\": 5328, \"fpr\": 0.5512387387387387}, {\"threshold\": 0.032, \"p\": 27976, \"tpr\": 0.9877394909922791, \"n\": 5328, \"fpr\": 0.547484984984985}, {\"threshold\": 0.033, \"p\": 27976, \"tpr\": 0.987596511295396, \"n\": 5328, \"fpr\": 0.5433558558558559}, {\"threshold\": 0.034, \"p\": 27976, \"tpr\": 0.9874892765227338, \"n\": 5328, \"fpr\": 0.541478978978979}, {\"threshold\": 0.035, \"p\": 27976, \"tpr\": 0.987453531598513, \"n\": 5328, \"fpr\": 0.5396021021021021}, {\"threshold\": 0.036, \"p\": 27976, \"tpr\": 0.9873462968258507, \"n\": 5328, \"fpr\": 0.5375375375375375}, {\"threshold\": 0.037, \"p\": 27976, \"tpr\": 0.9872748069774092, \"n\": 5328, \"fpr\": 0.5350975975975976}, {\"threshold\": 0.038, \"p\": 27976, \"tpr\": 0.9869173577352016, \"n\": 5328, \"fpr\": 0.5319069069069069}, {\"threshold\": 0.039, \"p\": 27976, \"tpr\": 0.9867028881898771, \"n\": 5328, \"fpr\": 0.5307807807807807}, {\"threshold\": 0.04, \"p\": 27976, \"tpr\": 0.9865956534172148, \"n\": 5328, \"fpr\": 0.5294669669669669}, {\"threshold\": 0.041, \"p\": 27976, \"tpr\": 0.9865241635687733, \"n\": 5328, \"fpr\": 0.5272147147147147}, {\"threshold\": 0.042, \"p\": 27976, \"tpr\": 0.9863811838718902, \"n\": 5328, \"fpr\": 0.5242117117117117}, {\"threshold\": 0.043, \"p\": 27976, \"tpr\": 0.9862024592507864, \"n\": 5328, \"fpr\": 0.5230855855855856}, {\"threshold\": 0.044, \"p\": 27976, \"tpr\": 0.9860952244781241, \"n\": 5328, \"fpr\": 0.5206456456456456}, {\"threshold\": 0.045, \"p\": 27976, \"tpr\": 0.9859522447812411, \"n\": 5328, \"fpr\": 0.5195195195195195}, {\"threshold\": 0.046, \"p\": 27976, \"tpr\": 0.9859164998570203, \"n\": 5328, \"fpr\": 0.5167042042042042}, {\"threshold\": 0.047, \"p\": 27976, \"tpr\": 0.9857020303116958, \"n\": 5328, \"fpr\": 0.5148273273273273}, {\"threshold\": 0.048, \"p\": 27976, \"tpr\": 0.9854875607663712, \"n\": 5328, \"fpr\": 0.512575075075075}, {\"threshold\": 0.049, \"p\": 27976, \"tpr\": 0.9853445810694881, \"n\": 5328, \"fpr\": 0.511448948948949}, {\"threshold\": 0.05, \"p\": 27976, \"tpr\": 0.985201601372605, \"n\": 5328, \"fpr\": 0.5095720720720721}, {\"threshold\": 0.051, \"p\": 27976, \"tpr\": 0.9849871318272805, \"n\": 5328, \"fpr\": 0.5063813813813813}, {\"threshold\": 0.052, \"p\": 27976, \"tpr\": 0.9848441521303974, \"n\": 5328, \"fpr\": 0.5037537537537538}, {\"threshold\": 0.053, \"p\": 27976, \"tpr\": 0.9848084072061767, \"n\": 5328, \"fpr\": 0.5020645645645646}, {\"threshold\": 0.054, \"p\": 27976, \"tpr\": 0.9846296825850729, \"n\": 5328, \"fpr\": 0.5}, {\"threshold\": 0.055, \"p\": 27976, \"tpr\": 0.9845581927366314, \"n\": 5328, \"fpr\": 0.4988738738738739}, {\"threshold\": 0.056, \"p\": 27976, \"tpr\": 0.9845224478124106, \"n\": 5328, \"fpr\": 0.4964339339339339}, {\"threshold\": 0.057, \"p\": 27976, \"tpr\": 0.984307978267086, \"n\": 5328, \"fpr\": 0.49436936936936937}, {\"threshold\": 0.058, \"p\": 27976, \"tpr\": 0.984164998570203, \"n\": 5328, \"fpr\": 0.49211711711711714}, {\"threshold\": 0.059, \"p\": 27976, \"tpr\": 0.98402201887332, \"n\": 5328, \"fpr\": 0.49099099099099097}, {\"threshold\": 0.06, \"p\": 27976, \"tpr\": 0.9839862739490992, \"n\": 5328, \"fpr\": 0.48855105105105107}, {\"threshold\": 0.061, \"p\": 27976, \"tpr\": 0.9838432942522162, \"n\": 5328, \"fpr\": 0.4864864864864865}, {\"threshold\": 0.062, \"p\": 27976, \"tpr\": 0.9838075493279954, \"n\": 5328, \"fpr\": 0.48460960960960964}, {\"threshold\": 0.063, \"p\": 27976, \"tpr\": 0.9837360594795539, \"n\": 5328, \"fpr\": 0.4832957957957958}, {\"threshold\": 0.064, \"p\": 27976, \"tpr\": 0.9835930797826709, \"n\": 5328, \"fpr\": 0.4821696696696697}, {\"threshold\": 0.065, \"p\": 27976, \"tpr\": 0.9835930797826709, \"n\": 5328, \"fpr\": 0.48085585585585583}, {\"threshold\": 0.066, \"p\": 27976, \"tpr\": 0.9835930797826709, \"n\": 5328, \"fpr\": 0.4802927927927928}, {\"threshold\": 0.067, \"p\": 27976, \"tpr\": 0.9835215899342293, \"n\": 5328, \"fpr\": 0.47954204204204204}, {\"threshold\": 0.068, \"p\": 27976, \"tpr\": 0.9833428653131255, \"n\": 5328, \"fpr\": 0.4784159159159159}, {\"threshold\": 0.069, \"p\": 27976, \"tpr\": 0.9833071203889048, \"n\": 5328, \"fpr\": 0.4772897897897898}, {\"threshold\": 0.07, \"p\": 27976, \"tpr\": 0.9832356305404633, \"n\": 5328, \"fpr\": 0.47653903903903905}, {\"threshold\": 0.071, \"p\": 27976, \"tpr\": 0.9831998856162425, \"n\": 5328, \"fpr\": 0.4752252252252252}, {\"threshold\": 0.072, \"p\": 27976, \"tpr\": 0.9831998856162425, \"n\": 5328, \"fpr\": 0.4739114114114114}, {\"threshold\": 0.073, \"p\": 27976, \"tpr\": 0.9831641406920217, \"n\": 5328, \"fpr\": 0.47203453453453453}, {\"threshold\": 0.074, \"p\": 27976, \"tpr\": 0.9830569059193595, \"n\": 5328, \"fpr\": 0.470533033033033}, {\"threshold\": 0.075, \"p\": 27976, \"tpr\": 0.9829496711466972, \"n\": 5328, \"fpr\": 0.46865615615615613}, {\"threshold\": 0.076, \"p\": 27976, \"tpr\": 0.9827709465255934, \"n\": 5328, \"fpr\": 0.4677177177177177}, {\"threshold\": 0.077, \"p\": 27976, \"tpr\": 0.9827352016013726, \"n\": 5328, \"fpr\": 0.4664039039039039}, {\"threshold\": 0.078, \"p\": 27976, \"tpr\": 0.9824492422076065, \"n\": 5328, \"fpr\": 0.46546546546546547}, {\"threshold\": 0.079, \"p\": 27976, \"tpr\": 0.9824492422076065, \"n\": 5328, \"fpr\": 0.46452702702702703}, {\"threshold\": 0.08, \"p\": 27976, \"tpr\": 0.9823420074349443, \"n\": 5328, \"fpr\": 0.4635885885885886}, {\"threshold\": 0.081, \"p\": 27976, \"tpr\": 0.9823062625107235, \"n\": 5328, \"fpr\": 0.46283783783783783}, {\"threshold\": 0.082, \"p\": 27976, \"tpr\": 0.9822705175865027, \"n\": 5328, \"fpr\": 0.46133633633633636}, {\"threshold\": 0.083, \"p\": 27976, \"tpr\": 0.9820560480411782, \"n\": 5328, \"fpr\": 0.45983483483483484}, {\"threshold\": 0.084, \"p\": 27976, \"tpr\": 0.9819845581927367, \"n\": 5328, \"fpr\": 0.45852102102102105}, {\"threshold\": 0.085, \"p\": 27976, \"tpr\": 0.9819845581927367, \"n\": 5328, \"fpr\": 0.45645645645645644}, {\"threshold\": 0.086, \"p\": 27976, \"tpr\": 0.9819488132685159, \"n\": 5328, \"fpr\": 0.455518018018018}, {\"threshold\": 0.087, \"p\": 27976, \"tpr\": 0.9818773234200744, \"n\": 5328, \"fpr\": 0.45401651651651653}, {\"threshold\": 0.088, \"p\": 27976, \"tpr\": 0.9816628538747498, \"n\": 5328, \"fpr\": 0.452515015015015}, {\"threshold\": 0.089, \"p\": 27976, \"tpr\": 0.981484129253646, \"n\": 5328, \"fpr\": 0.4519519519519519}, {\"threshold\": 0.09, \"p\": 27976, \"tpr\": 0.9814126394052045, \"n\": 5328, \"fpr\": 0.4510135135135135}, {\"threshold\": 0.091, \"p\": 27976, \"tpr\": 0.9813768944809838, \"n\": 5328, \"fpr\": 0.45007507507507505}, {\"threshold\": 0.092, \"p\": 27976, \"tpr\": 0.9813768944809838, \"n\": 5328, \"fpr\": 0.44894894894894893}, {\"threshold\": 0.093, \"p\": 27976, \"tpr\": 0.9812339147841006, \"n\": 5328, \"fpr\": 0.44763513513513514}, {\"threshold\": 0.094, \"p\": 27976, \"tpr\": 0.9811624249356591, \"n\": 5328, \"fpr\": 0.4468843843843844}, {\"threshold\": 0.095, \"p\": 27976, \"tpr\": 0.9810551901629968, \"n\": 5328, \"fpr\": 0.44594594594594594}, {\"threshold\": 0.096, \"p\": 27976, \"tpr\": 0.9809479553903345, \"n\": 5328, \"fpr\": 0.4450075075075075}, {\"threshold\": 0.097, \"p\": 27976, \"tpr\": 0.9809122104661138, \"n\": 5328, \"fpr\": 0.44425675675675674}, {\"threshold\": 0.098, \"p\": 27976, \"tpr\": 0.9806977409207892, \"n\": 5328, \"fpr\": 0.443506006006006}, {\"threshold\": 0.099, \"p\": 27976, \"tpr\": 0.9804832713754646, \"n\": 5328, \"fpr\": 0.44256756756756754}, {\"threshold\": 0.1, \"p\": 27976, \"tpr\": 0.9804117815270231, \"n\": 5328, \"fpr\": 0.4416291291291291}, {\"threshold\": 0.101, \"p\": 27976, \"tpr\": 0.9803402916785816, \"n\": 5328, \"fpr\": 0.43975225225225223}, {\"threshold\": 0.102, \"p\": 27976, \"tpr\": 0.9802330569059193, \"n\": 5328, \"fpr\": 0.43825075075075076}, {\"threshold\": 0.103, \"p\": 27976, \"tpr\": 0.9801973119816986, \"n\": 5328, \"fpr\": 0.4375}, {\"threshold\": 0.104, \"p\": 27976, \"tpr\": 0.9800185873605948, \"n\": 5328, \"fpr\": 0.4363738738738739}, {\"threshold\": 0.105, \"p\": 27976, \"tpr\": 0.979839862739491, \"n\": 5328, \"fpr\": 0.4359984984984985}, {\"threshold\": 0.106, \"p\": 27976, \"tpr\": 0.9796968830426079, \"n\": 5328, \"fpr\": 0.43430930930930933}, {\"threshold\": 0.107, \"p\": 27976, \"tpr\": 0.9796611381183872, \"n\": 5328, \"fpr\": 0.43318318318318316}, {\"threshold\": 0.108, \"p\": 27976, \"tpr\": 0.9795896482699457, \"n\": 5328, \"fpr\": 0.43262012012012013}, {\"threshold\": 0.109, \"p\": 27976, \"tpr\": 0.9794109236488419, \"n\": 5328, \"fpr\": 0.431493993993994}, {\"threshold\": 0.11, \"p\": 27976, \"tpr\": 0.9793036888761796, \"n\": 5328, \"fpr\": 0.43074324324324326}, {\"threshold\": 0.111, \"p\": 27976, \"tpr\": 0.9793036888761796, \"n\": 5328, \"fpr\": 0.42924174174174173}, {\"threshold\": 0.112, \"p\": 27976, \"tpr\": 0.9791607091792965, \"n\": 5328, \"fpr\": 0.4286786786786787}, {\"threshold\": 0.113, \"p\": 27976, \"tpr\": 0.9790177294824135, \"n\": 5328, \"fpr\": 0.42792792792792794}, {\"threshold\": 0.114, \"p\": 27976, \"tpr\": 0.9789819845581927, \"n\": 5328, \"fpr\": 0.4271771771771772}, {\"threshold\": 0.115, \"p\": 27976, \"tpr\": 0.9788747497855305, \"n\": 5328, \"fpr\": 0.42567567567567566}, {\"threshold\": 0.116, \"p\": 27976, \"tpr\": 0.9788390048613097, \"n\": 5328, \"fpr\": 0.4247372372372372}, {\"threshold\": 0.117, \"p\": 27976, \"tpr\": 0.9787317700886474, \"n\": 5328, \"fpr\": 0.4241741741741742}, {\"threshold\": 0.118, \"p\": 27976, \"tpr\": 0.9786602802402059, \"n\": 5328, \"fpr\": 0.4239864864864865}, {\"threshold\": 0.119, \"p\": 27976, \"tpr\": 0.9786245353159851, \"n\": 5328, \"fpr\": 0.42323573573573575}, {\"threshold\": 0.12, \"p\": 27976, \"tpr\": 0.9785530454675436, \"n\": 5328, \"fpr\": 0.422484984984985}, {\"threshold\": 0.121, \"p\": 27976, \"tpr\": 0.9783028309979983, \"n\": 5328, \"fpr\": 0.4219219219219219}, {\"threshold\": 0.122, \"p\": 27976, \"tpr\": 0.978195596225336, \"n\": 5328, \"fpr\": 0.4219219219219219}, {\"threshold\": 0.123, \"p\": 27976, \"tpr\": 0.9781241063768945, \"n\": 5328, \"fpr\": 0.42173423423423423}, {\"threshold\": 0.124, \"p\": 27976, \"tpr\": 0.9780168716042322, \"n\": 5328, \"fpr\": 0.4206081081081081}, {\"threshold\": 0.125, \"p\": 27976, \"tpr\": 0.9779811266800115, \"n\": 5328, \"fpr\": 0.42004504504504503}, {\"threshold\": 0.126, \"p\": 27976, \"tpr\": 0.9779811266800115, \"n\": 5328, \"fpr\": 0.4191066066066066}, {\"threshold\": 0.127, \"p\": 27976, \"tpr\": 0.9778024020589077, \"n\": 5328, \"fpr\": 0.41835585585585583}, {\"threshold\": 0.128, \"p\": 27976, \"tpr\": 0.9777666571346869, \"n\": 5328, \"fpr\": 0.4176051051051051}, {\"threshold\": 0.129, \"p\": 27976, \"tpr\": 0.9775879325135831, \"n\": 5328, \"fpr\": 0.41704204204204204}, {\"threshold\": 0.13, \"p\": 27976, \"tpr\": 0.9773734629682586, \"n\": 5328, \"fpr\": 0.4159159159159159}, {\"threshold\": 0.131, \"p\": 27976, \"tpr\": 0.9773377180440378, \"n\": 5328, \"fpr\": 0.41535285285285284}, {\"threshold\": 0.132, \"p\": 27976, \"tpr\": 0.9771947383471548, \"n\": 5328, \"fpr\": 0.41403903903903905}, {\"threshold\": 0.133, \"p\": 27976, \"tpr\": 0.9771232484987132, \"n\": 5328, \"fpr\": 0.41347597597597596}, {\"threshold\": 0.134, \"p\": 27976, \"tpr\": 0.9770160137260508, \"n\": 5328, \"fpr\": 0.41234984984984985}, {\"threshold\": 0.135, \"p\": 27976, \"tpr\": 0.9769087789533886, \"n\": 5328, \"fpr\": 0.41066066066066065}, {\"threshold\": 0.136, \"p\": 27976, \"tpr\": 0.9769087789533886, \"n\": 5328, \"fpr\": 0.4099099099099099}, {\"threshold\": 0.137, \"p\": 27976, \"tpr\": 0.9766585644838433, \"n\": 5328, \"fpr\": 0.40878378378378377}, {\"threshold\": 0.138, \"p\": 27976, \"tpr\": 0.9766228195596225, \"n\": 5328, \"fpr\": 0.40822072072072074}, {\"threshold\": 0.139, \"p\": 27976, \"tpr\": 0.9765870746354017, \"n\": 5328, \"fpr\": 0.4072822822822823}, {\"threshold\": 0.14, \"p\": 27976, \"tpr\": 0.976551329711181, \"n\": 5328, \"fpr\": 0.40709459459459457}, {\"threshold\": 0.141, \"p\": 27976, \"tpr\": 0.9765155847869602, \"n\": 5328, \"fpr\": 0.4069069069069069}, {\"threshold\": 0.142, \"p\": 27976, \"tpr\": 0.9764798398627395, \"n\": 5328, \"fpr\": 0.40615615615615613}, {\"threshold\": 0.143, \"p\": 27976, \"tpr\": 0.9764440949385187, \"n\": 5328, \"fpr\": 0.4052177177177177}, {\"threshold\": 0.144, \"p\": 27976, \"tpr\": 0.9764440949385187, \"n\": 5328, \"fpr\": 0.40484234234234234}, {\"threshold\": 0.145, \"p\": 27976, \"tpr\": 0.9764083500142979, \"n\": 5328, \"fpr\": 0.40315315315315314}, {\"threshold\": 0.146, \"p\": 27976, \"tpr\": 0.9763368601658564, \"n\": 5328, \"fpr\": 0.4024024024024024}, {\"threshold\": 0.147, \"p\": 27976, \"tpr\": 0.9762653703174149, \"n\": 5328, \"fpr\": 0.40127627627627627}, {\"threshold\": 0.148, \"p\": 27976, \"tpr\": 0.9761581355447526, \"n\": 5328, \"fpr\": 0.4010885885885886}, {\"threshold\": 0.149, \"p\": 27976, \"tpr\": 0.9761223906205319, \"n\": 5328, \"fpr\": 0.4005255255255255}, {\"threshold\": 0.15, \"p\": 27976, \"tpr\": 0.9760866456963111, \"n\": 5328, \"fpr\": 0.3999624624624625}, {\"threshold\": 0.151, \"p\": 27976, \"tpr\": 0.9760509007720903, \"n\": 5328, \"fpr\": 0.39883633633633636}, {\"threshold\": 0.152, \"p\": 27976, \"tpr\": 0.9759794109236488, \"n\": 5328, \"fpr\": 0.39883633633633636}, {\"threshold\": 0.153, \"p\": 27976, \"tpr\": 0.9758364312267658, \"n\": 5328, \"fpr\": 0.3982732732732733}, {\"threshold\": 0.154, \"p\": 27976, \"tpr\": 0.9757649413783243, \"n\": 5328, \"fpr\": 0.39714714714714716}, {\"threshold\": 0.155, \"p\": 27976, \"tpr\": 0.9756219616814412, \"n\": 5328, \"fpr\": 0.39677177177177175}, {\"threshold\": 0.156, \"p\": 27976, \"tpr\": 0.9755504718329997, \"n\": 5328, \"fpr\": 0.3962087087087087}, {\"threshold\": 0.157, \"p\": 27976, \"tpr\": 0.9754432370603374, \"n\": 5328, \"fpr\": 0.39602102102102105}, {\"threshold\": 0.158, \"p\": 27976, \"tpr\": 0.9753717472118959, \"n\": 5328, \"fpr\": 0.3952702702702703}, {\"threshold\": 0.159, \"p\": 27976, \"tpr\": 0.9753360022876751, \"n\": 5328, \"fpr\": 0.3950825825825826}, {\"threshold\": 0.16, \"p\": 27976, \"tpr\": 0.9753360022876751, \"n\": 5328, \"fpr\": 0.3945195195195195}, {\"threshold\": 0.161, \"p\": 27976, \"tpr\": 0.9752645124392336, \"n\": 5328, \"fpr\": 0.39376876876876876}, {\"threshold\": 0.162, \"p\": 27976, \"tpr\": 0.9751930225907921, \"n\": 5328, \"fpr\": 0.39320570570570573}, {\"threshold\": 0.163, \"p\": 27976, \"tpr\": 0.9751215327423506, \"n\": 5328, \"fpr\": 0.3928303303303303}, {\"threshold\": 0.164, \"p\": 27976, \"tpr\": 0.9751215327423506, \"n\": 5328, \"fpr\": 0.3918918918918919}, {\"threshold\": 0.165, \"p\": 27976, \"tpr\": 0.9750142979696883, \"n\": 5328, \"fpr\": 0.3911411411411411}, {\"threshold\": 0.166, \"p\": 27976, \"tpr\": 0.9749428081212468, \"n\": 5328, \"fpr\": 0.39076576576576577}, {\"threshold\": 0.167, \"p\": 27976, \"tpr\": 0.9748355733485845, \"n\": 5328, \"fpr\": 0.39039039039039036}, {\"threshold\": 0.168, \"p\": 27976, \"tpr\": 0.974764083500143, \"n\": 5328, \"fpr\": 0.390015015015015}, {\"threshold\": 0.169, \"p\": 27976, \"tpr\": 0.9746568487274807, \"n\": 5328, \"fpr\": 0.38926426426426425}, {\"threshold\": 0.17, \"p\": 27976, \"tpr\": 0.9745496139548184, \"n\": 5328, \"fpr\": 0.38795045045045046}, {\"threshold\": 0.171, \"p\": 27976, \"tpr\": 0.9745496139548184, \"n\": 5328, \"fpr\": 0.38682432432432434}, {\"threshold\": 0.172, \"p\": 27976, \"tpr\": 0.9744781241063769, \"n\": 5328, \"fpr\": 0.38644894894894893}, {\"threshold\": 0.173, \"p\": 27976, \"tpr\": 0.9744781241063769, \"n\": 5328, \"fpr\": 0.3855105105105105}, {\"threshold\": 0.174, \"p\": 27976, \"tpr\": 0.9744066342579354, \"n\": 5328, \"fpr\": 0.3853228228228228}, {\"threshold\": 0.175, \"p\": 27976, \"tpr\": 0.9742636545610524, \"n\": 5328, \"fpr\": 0.38513513513513514}, {\"threshold\": 0.176, \"p\": 27976, \"tpr\": 0.9742279096368316, \"n\": 5328, \"fpr\": 0.3843843843843844}, {\"threshold\": 0.177, \"p\": 27976, \"tpr\": 0.9741921647126108, \"n\": 5328, \"fpr\": 0.38288288288288286}, {\"threshold\": 0.178, \"p\": 27976, \"tpr\": 0.9740849299399486, \"n\": 5328, \"fpr\": 0.38213213213213215}, {\"threshold\": 0.179, \"p\": 27976, \"tpr\": 0.974013440091507, \"n\": 5328, \"fpr\": 0.38175675675675674}, {\"threshold\": 0.18, \"p\": 27976, \"tpr\": 0.9739062053188448, \"n\": 5328, \"fpr\": 0.3808183183183183}, {\"threshold\": 0.181, \"p\": 27976, \"tpr\": 0.9738347154704032, \"n\": 5328, \"fpr\": 0.3802552552552553}, {\"threshold\": 0.182, \"p\": 27976, \"tpr\": 0.9736202459250787, \"n\": 5328, \"fpr\": 0.3795045045045045}, {\"threshold\": 0.183, \"p\": 27976, \"tpr\": 0.9734772662281956, \"n\": 5328, \"fpr\": 0.37875375375375375}, {\"threshold\": 0.184, \"p\": 27976, \"tpr\": 0.9733342865313126, \"n\": 5328, \"fpr\": 0.3783783783783784}, {\"threshold\": 0.185, \"p\": 27976, \"tpr\": 0.9732985416070918, \"n\": 5328, \"fpr\": 0.3778153153153153}, {\"threshold\": 0.186, \"p\": 27976, \"tpr\": 0.9732985416070918, \"n\": 5328, \"fpr\": 0.3768768768768769}, {\"threshold\": 0.187, \"p\": 27976, \"tpr\": 0.9731555619102088, \"n\": 5328, \"fpr\": 0.37575075075075076}, {\"threshold\": 0.188, \"p\": 27976, \"tpr\": 0.973119816985988, \"n\": 5328, \"fpr\": 0.37575075075075076}, {\"threshold\": 0.189, \"p\": 27976, \"tpr\": 0.9730483271375465, \"n\": 5328, \"fpr\": 0.37537537537537535}, {\"threshold\": 0.19, \"p\": 27976, \"tpr\": 0.9729053474406634, \"n\": 5328, \"fpr\": 0.375}, {\"threshold\": 0.191, \"p\": 27976, \"tpr\": 0.9728338575922219, \"n\": 5328, \"fpr\": 0.3744369369369369}, {\"threshold\": 0.192, \"p\": 27976, \"tpr\": 0.9727266228195596, \"n\": 5328, \"fpr\": 0.37424924924924924}, {\"threshold\": 0.193, \"p\": 27976, \"tpr\": 0.972655132971118, \"n\": 5328, \"fpr\": 0.3736861861861862}, {\"threshold\": 0.194, \"p\": 27976, \"tpr\": 0.9725836431226765, \"n\": 5328, \"fpr\": 0.3733108108108108}, {\"threshold\": 0.195, \"p\": 27976, \"tpr\": 0.972512153274235, \"n\": 5328, \"fpr\": 0.37293543543543545}, {\"threshold\": 0.196, \"p\": 27976, \"tpr\": 0.9724406634257935, \"n\": 5328, \"fpr\": 0.37256006006006004}, {\"threshold\": 0.197, \"p\": 27976, \"tpr\": 0.9724049185015727, \"n\": 5328, \"fpr\": 0.37237237237237236}, {\"threshold\": 0.198, \"p\": 27976, \"tpr\": 0.972369173577352, \"n\": 5328, \"fpr\": 0.3721846846846847}, {\"threshold\": 0.199, \"p\": 27976, \"tpr\": 0.9722619388046897, \"n\": 5328, \"fpr\": 0.37180930930930933}, {\"threshold\": 0.2, \"p\": 27976, \"tpr\": 0.9722261938804689, \"n\": 5328, \"fpr\": 0.37105855855855857}, {\"threshold\": 0.201, \"p\": 27976, \"tpr\": 0.9721904489562482, \"n\": 5328, \"fpr\": 0.3704954954954955}, {\"threshold\": 0.202, \"p\": 27976, \"tpr\": 0.9721189591078067, \"n\": 5328, \"fpr\": 0.37012012012012013}, {\"threshold\": 0.203, \"p\": 27976, \"tpr\": 0.9720832141835859, \"n\": 5328, \"fpr\": 0.37012012012012013}, {\"threshold\": 0.204, \"p\": 27976, \"tpr\": 0.9719402344867029, \"n\": 5328, \"fpr\": 0.36955705705705705}, {\"threshold\": 0.205, \"p\": 27976, \"tpr\": 0.9717972547898198, \"n\": 5328, \"fpr\": 0.36843093093093093}, {\"threshold\": 0.206, \"p\": 27976, \"tpr\": 0.9717257649413783, \"n\": 5328, \"fpr\": 0.3674924924924925}, {\"threshold\": 0.207, \"p\": 27976, \"tpr\": 0.9717257649413783, \"n\": 5328, \"fpr\": 0.36711711711711714}, {\"threshold\": 0.208, \"p\": 27976, \"tpr\": 0.971618530168716, \"n\": 5328, \"fpr\": 0.36674174174174173}, {\"threshold\": 0.209, \"p\": 27976, \"tpr\": 0.9715470403202745, \"n\": 5328, \"fpr\": 0.3658033033033033}, {\"threshold\": 0.21, \"p\": 27976, \"tpr\": 0.971475550471833, \"n\": 5328, \"fpr\": 0.3644894894894895}, {\"threshold\": 0.211, \"p\": 27976, \"tpr\": 0.9713683156991707, \"n\": 5328, \"fpr\": 0.3641141141141141}, {\"threshold\": 0.212, \"p\": 27976, \"tpr\": 0.9711538461538461, \"n\": 5328, \"fpr\": 0.3639264264264264}, {\"threshold\": 0.213, \"p\": 27976, \"tpr\": 0.9711181012296254, \"n\": 5328, \"fpr\": 0.3633633633633634}, {\"threshold\": 0.214, \"p\": 27976, \"tpr\": 0.9710108664569631, \"n\": 5328, \"fpr\": 0.362987987987988}, {\"threshold\": 0.215, \"p\": 27976, \"tpr\": 0.9709751215327423, \"n\": 5328, \"fpr\": 0.36242492492492495}, {\"threshold\": 0.216, \"p\": 27976, \"tpr\": 0.9709036316843008, \"n\": 5328, \"fpr\": 0.3614864864864865}, {\"threshold\": 0.217, \"p\": 27976, \"tpr\": 0.9709036316843008, \"n\": 5328, \"fpr\": 0.3611111111111111}, {\"threshold\": 0.218, \"p\": 27976, \"tpr\": 0.9709036316843008, \"n\": 5328, \"fpr\": 0.359984984984985}, {\"threshold\": 0.219, \"p\": 27976, \"tpr\": 0.9708321418358593, \"n\": 5328, \"fpr\": 0.35923423423423423}, {\"threshold\": 0.22, \"p\": 27976, \"tpr\": 0.9707963969116385, \"n\": 5328, \"fpr\": 0.3582957957957958}, {\"threshold\": 0.221, \"p\": 27976, \"tpr\": 0.9706891621389763, \"n\": 5328, \"fpr\": 0.3577327327327327}, {\"threshold\": 0.222, \"p\": 27976, \"tpr\": 0.9706891621389763, \"n\": 5328, \"fpr\": 0.35754504504504503}, {\"threshold\": 0.223, \"p\": 27976, \"tpr\": 0.9704746925936517, \"n\": 5328, \"fpr\": 0.3571696696696697}, {\"threshold\": 0.224, \"p\": 27976, \"tpr\": 0.9704032027452102, \"n\": 5328, \"fpr\": 0.35623123123123124}, {\"threshold\": 0.225, \"p\": 27976, \"tpr\": 0.9703674578209894, \"n\": 5328, \"fpr\": 0.3554804804804805}, {\"threshold\": 0.226, \"p\": 27976, \"tpr\": 0.9702602230483272, \"n\": 5328, \"fpr\": 0.3549174174174174}, {\"threshold\": 0.227, \"p\": 27976, \"tpr\": 0.9700457535030026, \"n\": 5328, \"fpr\": 0.3547297297297297}, {\"threshold\": 0.228, \"p\": 27976, \"tpr\": 0.9699742636545611, \"n\": 5328, \"fpr\": 0.3541666666666667}, {\"threshold\": 0.229, \"p\": 27976, \"tpr\": 0.9699385187303403, \"n\": 5328, \"fpr\": 0.3534159159159159}, {\"threshold\": 0.23, \"p\": 27976, \"tpr\": 0.9699027738061196, \"n\": 5328, \"fpr\": 0.3530405405405405}, {\"threshold\": 0.231, \"p\": 27976, \"tpr\": 0.9697955390334573, \"n\": 5328, \"fpr\": 0.3522897897897898}, {\"threshold\": 0.232, \"p\": 27976, \"tpr\": 0.9697240491850158, \"n\": 5328, \"fpr\": 0.35135135135135137}, {\"threshold\": 0.233, \"p\": 27976, \"tpr\": 0.9696525593365742, \"n\": 5328, \"fpr\": 0.35097597597597596}, {\"threshold\": 0.234, \"p\": 27976, \"tpr\": 0.9696168144123535, \"n\": 5328, \"fpr\": 0.3506006006006006}, {\"threshold\": 0.235, \"p\": 27976, \"tpr\": 0.9696168144123535, \"n\": 5328, \"fpr\": 0.35041291291291293}, {\"threshold\": 0.236, \"p\": 27976, \"tpr\": 0.9695810694881327, \"n\": 5328, \"fpr\": 0.3494744744744745}, {\"threshold\": 0.237, \"p\": 27976, \"tpr\": 0.969545324563912, \"n\": 5328, \"fpr\": 0.3490990990990991}, {\"threshold\": 0.238, \"p\": 27976, \"tpr\": 0.9695095796396912, \"n\": 5328, \"fpr\": 0.34816066066066065}, {\"threshold\": 0.239, \"p\": 27976, \"tpr\": 0.9694738347154704, \"n\": 5328, \"fpr\": 0.3475975975975976}, {\"threshold\": 0.24, \"p\": 27976, \"tpr\": 0.9691878753217044, \"n\": 5328, \"fpr\": 0.3474099099099099}, {\"threshold\": 0.241, \"p\": 27976, \"tpr\": 0.9690806405490421, \"n\": 5328, \"fpr\": 0.3466591591591592}, {\"threshold\": 0.242, \"p\": 27976, \"tpr\": 0.9690091507006006, \"n\": 5328, \"fpr\": 0.34647147147147145}, {\"threshold\": 0.243, \"p\": 27976, \"tpr\": 0.9689019159279383, \"n\": 5328, \"fpr\": 0.3460960960960961}, {\"threshold\": 0.244, \"p\": 27976, \"tpr\": 0.9688304260794968, \"n\": 5328, \"fpr\": 0.34572072072072074}, {\"threshold\": 0.245, \"p\": 27976, \"tpr\": 0.9687231913068344, \"n\": 5328, \"fpr\": 0.3447822822822823}, {\"threshold\": 0.246, \"p\": 27976, \"tpr\": 0.9686517014583929, \"n\": 5328, \"fpr\": 0.34403153153153154}, {\"threshold\": 0.247, \"p\": 27976, \"tpr\": 0.9685802116099513, \"n\": 5328, \"fpr\": 0.34403153153153154}, {\"threshold\": 0.248, \"p\": 27976, \"tpr\": 0.9685444666857306, \"n\": 5328, \"fpr\": 0.34365615615615613}, {\"threshold\": 0.249, \"p\": 27976, \"tpr\": 0.9684729768372891, \"n\": 5328, \"fpr\": 0.3432807807807808}, {\"threshold\": 0.25, \"p\": 27976, \"tpr\": 0.9684372319130683, \"n\": 5328, \"fpr\": 0.34290540540540543}, {\"threshold\": 0.251, \"p\": 27976, \"tpr\": 0.9684014869888475, \"n\": 5328, \"fpr\": 0.34253003003003}, {\"threshold\": 0.252, \"p\": 27976, \"tpr\": 0.9682942522161853, \"n\": 5328, \"fpr\": 0.34234234234234234}, {\"threshold\": 0.253, \"p\": 27976, \"tpr\": 0.9682227623677437, \"n\": 5328, \"fpr\": 0.341966966966967}, {\"threshold\": 0.254, \"p\": 27976, \"tpr\": 0.968187017443523, \"n\": 5328, \"fpr\": 0.3415915915915916}, {\"threshold\": 0.255, \"p\": 27976, \"tpr\": 0.9681512725193022, \"n\": 5328, \"fpr\": 0.34121621621621623}, {\"threshold\": 0.256, \"p\": 27976, \"tpr\": 0.9680797826708607, \"n\": 5328, \"fpr\": 0.34046546546546547}, {\"threshold\": 0.257, \"p\": 27976, \"tpr\": 0.9680440377466399, \"n\": 5328, \"fpr\": 0.3400900900900901}, {\"threshold\": 0.258, \"p\": 27976, \"tpr\": 0.9679725478981984, \"n\": 5328, \"fpr\": 0.3399024024024024}, {\"threshold\": 0.259, \"p\": 27976, \"tpr\": 0.9679368029739777, \"n\": 5328, \"fpr\": 0.33877627627627627}, {\"threshold\": 0.26, \"p\": 27976, \"tpr\": 0.9678653131255361, \"n\": 5328, \"fpr\": 0.3385885885885886}, {\"threshold\": 0.261, \"p\": 27976, \"tpr\": 0.9677938232770946, \"n\": 5328, \"fpr\": 0.3385885885885886}, {\"threshold\": 0.262, \"p\": 27976, \"tpr\": 0.9677938232770946, \"n\": 5328, \"fpr\": 0.33821321321321324}, {\"threshold\": 0.263, \"p\": 27976, \"tpr\": 0.9677223334286531, \"n\": 5328, \"fpr\": 0.33765015015015015}, {\"threshold\": 0.264, \"p\": 27976, \"tpr\": 0.9676508435802116, \"n\": 5328, \"fpr\": 0.3372747747747748}, {\"threshold\": 0.265, \"p\": 27976, \"tpr\": 0.9676150986559908, \"n\": 5328, \"fpr\": 0.3367117117117117}, {\"threshold\": 0.266, \"p\": 27976, \"tpr\": 0.9674721189591078, \"n\": 5328, \"fpr\": 0.33652402402402404}, {\"threshold\": 0.267, \"p\": 27976, \"tpr\": 0.967436374034887, \"n\": 5328, \"fpr\": 0.3355855855855856}, {\"threshold\": 0.268, \"p\": 27976, \"tpr\": 0.9673291392622247, \"n\": 5328, \"fpr\": 0.3352102102102102}, {\"threshold\": 0.269, \"p\": 27976, \"tpr\": 0.9672576494137832, \"n\": 5328, \"fpr\": 0.33483483483483484}, {\"threshold\": 0.27, \"p\": 27976, \"tpr\": 0.9672576494137832, \"n\": 5328, \"fpr\": 0.33464714714714716}, {\"threshold\": 0.271, \"p\": 27976, \"tpr\": 0.9671146697169002, \"n\": 5328, \"fpr\": 0.3344594594594595}, {\"threshold\": 0.272, \"p\": 27976, \"tpr\": 0.9671146697169002, \"n\": 5328, \"fpr\": 0.33352102102102105}, {\"threshold\": 0.273, \"p\": 27976, \"tpr\": 0.9670789247926794, \"n\": 5328, \"fpr\": 0.33295795795795796}, {\"threshold\": 0.274, \"p\": 27976, \"tpr\": 0.9670074349442379, \"n\": 5328, \"fpr\": 0.3323948948948949}, {\"threshold\": 0.275, \"p\": 27976, \"tpr\": 0.9669002001715756, \"n\": 5328, \"fpr\": 0.33183183183183185}, {\"threshold\": 0.276, \"p\": 27976, \"tpr\": 0.9668644552473549, \"n\": 5328, \"fpr\": 0.33145645645645644}, {\"threshold\": 0.277, \"p\": 27976, \"tpr\": 0.9668644552473549, \"n\": 5328, \"fpr\": 0.3310810810810811}, {\"threshold\": 0.278, \"p\": 27976, \"tpr\": 0.9668287103231341, \"n\": 5328, \"fpr\": 0.33070570570570573}, {\"threshold\": 0.279, \"p\": 27976, \"tpr\": 0.9667929653989134, \"n\": 5328, \"fpr\": 0.33014264264264265}, {\"threshold\": 0.28, \"p\": 27976, \"tpr\": 0.9667929653989134, \"n\": 5328, \"fpr\": 0.32995495495495497}, {\"threshold\": 0.281, \"p\": 27976, \"tpr\": 0.9666857306262511, \"n\": 5328, \"fpr\": 0.32957957957957956}, {\"threshold\": 0.282, \"p\": 27976, \"tpr\": 0.9666499857020303, \"n\": 5328, \"fpr\": 0.32957957957957956}, {\"threshold\": 0.283, \"p\": 27976, \"tpr\": 0.966542750929368, \"n\": 5328, \"fpr\": 0.3286411411411411}, {\"threshold\": 0.284, \"p\": 27976, \"tpr\": 0.9664355161567058, \"n\": 5328, \"fpr\": 0.32826576576576577}, {\"threshold\": 0.285, \"p\": 27976, \"tpr\": 0.9663282813840435, \"n\": 5328, \"fpr\": 0.3277027027027027}, {\"threshold\": 0.286, \"p\": 27976, \"tpr\": 0.9662925364598227, \"n\": 5328, \"fpr\": 0.327515015015015}, {\"threshold\": 0.287, \"p\": 27976, \"tpr\": 0.9661495567629397, \"n\": 5328, \"fpr\": 0.3269519519519519}, {\"threshold\": 0.288, \"p\": 27976, \"tpr\": 0.9660423219902774, \"n\": 5328, \"fpr\": 0.3263888888888889}, {\"threshold\": 0.289, \"p\": 27976, \"tpr\": 0.9659350872176151, \"n\": 5328, \"fpr\": 0.3260135135135135}, {\"threshold\": 0.29, \"p\": 27976, \"tpr\": 0.9657921075207321, \"n\": 5328, \"fpr\": 0.32563813813813813}, {\"threshold\": 0.291, \"p\": 27976, \"tpr\": 0.9657206176722906, \"n\": 5328, \"fpr\": 0.32507507507507505}, {\"threshold\": 0.292, \"p\": 27976, \"tpr\": 0.9656133828996283, \"n\": 5328, \"fpr\": 0.3246996996996997}, {\"threshold\": 0.293, \"p\": 27976, \"tpr\": 0.9655418930511868, \"n\": 5328, \"fpr\": 0.3241366366366366}, {\"threshold\": 0.294, \"p\": 27976, \"tpr\": 0.9653989133543037, \"n\": 5328, \"fpr\": 0.3241366366366366}, {\"threshold\": 0.295, \"p\": 27976, \"tpr\": 0.9652916785816414, \"n\": 5328, \"fpr\": 0.32394894894894893}, {\"threshold\": 0.296, \"p\": 27976, \"tpr\": 0.9652559336574207, \"n\": 5328, \"fpr\": 0.3233858858858859}, {\"threshold\": 0.297, \"p\": 27976, \"tpr\": 0.9651844438089792, \"n\": 5328, \"fpr\": 0.32263513513513514}, {\"threshold\": 0.298, \"p\": 27976, \"tpr\": 0.9650772090363169, \"n\": 5328, \"fpr\": 0.32244744744744747}, {\"threshold\": 0.299, \"p\": 27976, \"tpr\": 0.9650414641120961, \"n\": 5328, \"fpr\": 0.3218843843843844}, {\"threshold\": 0.3, \"p\": 27976, \"tpr\": 0.9648984844152131, \"n\": 5328, \"fpr\": 0.3216966966966967}, {\"threshold\": 0.301, \"p\": 27976, \"tpr\": 0.9648627394909923, \"n\": 5328, \"fpr\": 0.32094594594594594}, {\"threshold\": 0.302, \"p\": 27976, \"tpr\": 0.96475550471833, \"n\": 5328, \"fpr\": 0.32075825825825827}, {\"threshold\": 0.303, \"p\": 27976, \"tpr\": 0.96475550471833, \"n\": 5328, \"fpr\": 0.3201951951951952}, {\"threshold\": 0.304, \"p\": 27976, \"tpr\": 0.9646840148698885, \"n\": 5328, \"fpr\": 0.31963213213213215}, {\"threshold\": 0.305, \"p\": 27976, \"tpr\": 0.964612525021447, \"n\": 5328, \"fpr\": 0.31906906906906907}, {\"threshold\": 0.306, \"p\": 27976, \"tpr\": 0.9645052902487846, \"n\": 5328, \"fpr\": 0.318506006006006}, {\"threshold\": 0.307, \"p\": 27976, \"tpr\": 0.9644338004003431, \"n\": 5328, \"fpr\": 0.318506006006006}, {\"threshold\": 0.308, \"p\": 27976, \"tpr\": 0.9644338004003431, \"n\": 5328, \"fpr\": 0.31813063063063063}, {\"threshold\": 0.309, \"p\": 27976, \"tpr\": 0.9644338004003431, \"n\": 5328, \"fpr\": 0.3171921921921922}, {\"threshold\": 0.31, \"p\": 27976, \"tpr\": 0.9642550757792393, \"n\": 5328, \"fpr\": 0.3170045045045045}, {\"threshold\": 0.311, \"p\": 27976, \"tpr\": 0.9642550757792393, \"n\": 5328, \"fpr\": 0.31625375375375375}, {\"threshold\": 0.312, \"p\": 27976, \"tpr\": 0.964147841006577, \"n\": 5328, \"fpr\": 0.3160660660660661}, {\"threshold\": 0.313, \"p\": 27976, \"tpr\": 0.9640406062339147, \"n\": 5328, \"fpr\": 0.31569069069069067}, {\"threshold\": 0.314, \"p\": 27976, \"tpr\": 0.9640406062339147, \"n\": 5328, \"fpr\": 0.31512762762762764}, {\"threshold\": 0.315, \"p\": 27976, \"tpr\": 0.964004861309694, \"n\": 5328, \"fpr\": 0.3140015015015015}, {\"threshold\": 0.316, \"p\": 27976, \"tpr\": 0.963861881612811, \"n\": 5328, \"fpr\": 0.3136261261261261}, {\"threshold\": 0.317, \"p\": 27976, \"tpr\": 0.9637189019159279, \"n\": 5328, \"fpr\": 0.31287537537537535}, {\"threshold\": 0.318, \"p\": 27976, \"tpr\": 0.9636474120674864, \"n\": 5328, \"fpr\": 0.3126876876876877}, {\"threshold\": 0.319, \"p\": 27976, \"tpr\": 0.9635401772948241, \"n\": 5328, \"fpr\": 0.3123123123123123}, {\"threshold\": 0.32, \"p\": 27976, \"tpr\": 0.9634686874463826, \"n\": 5328, \"fpr\": 0.31212462462462465}, {\"threshold\": 0.321, \"p\": 27976, \"tpr\": 0.9633614526737203, \"n\": 5328, \"fpr\": 0.3119369369369369}, {\"threshold\": 0.322, \"p\": 27976, \"tpr\": 0.9631469831283958, \"n\": 5328, \"fpr\": 0.31156156156156156}, {\"threshold\": 0.323, \"p\": 27976, \"tpr\": 0.9631469831283958, \"n\": 5328, \"fpr\": 0.3113738738738739}, {\"threshold\": 0.324, \"p\": 27976, \"tpr\": 0.9630754932799542, \"n\": 5328, \"fpr\": 0.3111861861861862}, {\"threshold\": 0.325, \"p\": 27976, \"tpr\": 0.9630040034315127, \"n\": 5328, \"fpr\": 0.3108108108108108}, {\"threshold\": 0.326, \"p\": 27976, \"tpr\": 0.9628967686588504, \"n\": 5328, \"fpr\": 0.31043543543543545}, {\"threshold\": 0.327, \"p\": 27976, \"tpr\": 0.9628610237346297, \"n\": 5328, \"fpr\": 0.31006006006006004}, {\"threshold\": 0.328, \"p\": 27976, \"tpr\": 0.9628252788104089, \"n\": 5328, \"fpr\": 0.3089339339339339}, {\"threshold\": 0.329, \"p\": 27976, \"tpr\": 0.9627895338861882, \"n\": 5328, \"fpr\": 0.30818318318318316}, {\"threshold\": 0.33, \"p\": 27976, \"tpr\": 0.9627537889619674, \"n\": 5328, \"fpr\": 0.30743243243243246}, {\"threshold\": 0.331, \"p\": 27976, \"tpr\": 0.9627180440377466, \"n\": 5328, \"fpr\": 0.30705705705705705}, {\"threshold\": 0.332, \"p\": 27976, \"tpr\": 0.9626108092650844, \"n\": 5328, \"fpr\": 0.30686936936936937}, {\"threshold\": 0.333, \"p\": 27976, \"tpr\": 0.9625393194166428, \"n\": 5328, \"fpr\": 0.3066816816816817}, {\"threshold\": 0.334, \"p\": 27976, \"tpr\": 0.9625393194166428, \"n\": 5328, \"fpr\": 0.30574324324324326}, {\"threshold\": 0.335, \"p\": 27976, \"tpr\": 0.9625035744924221, \"n\": 5328, \"fpr\": 0.30536786786786785}, {\"threshold\": 0.336, \"p\": 27976, \"tpr\": 0.9624678295682013, \"n\": 5328, \"fpr\": 0.3049924924924925}, {\"threshold\": 0.337, \"p\": 27976, \"tpr\": 0.9623248498713183, \"n\": 5328, \"fpr\": 0.30461711711711714}, {\"threshold\": 0.338, \"p\": 27976, \"tpr\": 0.962217615098656, \"n\": 5328, \"fpr\": 0.30424174174174173}, {\"threshold\": 0.339, \"p\": 27976, \"tpr\": 0.9621818701744352, \"n\": 5328, \"fpr\": 0.3038663663663664}, {\"threshold\": 0.34, \"p\": 27976, \"tpr\": 0.9620388904775522, \"n\": 5328, \"fpr\": 0.30292792792792794}, {\"threshold\": 0.341, \"p\": 27976, \"tpr\": 0.9619674006291107, \"n\": 5328, \"fpr\": 0.30274024024024027}, {\"threshold\": 0.342, \"p\": 27976, \"tpr\": 0.9618601658564484, \"n\": 5328, \"fpr\": 0.3019894894894895}, {\"threshold\": 0.343, \"p\": 27976, \"tpr\": 0.9617529310837861, \"n\": 5328, \"fpr\": 0.3019894894894895}, {\"threshold\": 0.344, \"p\": 27976, \"tpr\": 0.9615384615384616, \"n\": 5328, \"fpr\": 0.30180180180180183}, {\"threshold\": 0.345, \"p\": 27976, \"tpr\": 0.96146697169002, \"n\": 5328, \"fpr\": 0.30123873873873874}, {\"threshold\": 0.346, \"p\": 27976, \"tpr\": 0.9614312267657993, \"n\": 5328, \"fpr\": 0.30105105105105107}, {\"threshold\": 0.347, \"p\": 27976, \"tpr\": 0.9612882470689162, \"n\": 5328, \"fpr\": 0.3003003003003003}, {\"threshold\": 0.348, \"p\": 27976, \"tpr\": 0.9612525021446955, \"n\": 5328, \"fpr\": 0.30011261261261263}, {\"threshold\": 0.349, \"p\": 27976, \"tpr\": 0.961181012296254, \"n\": 5328, \"fpr\": 0.29992492492492495}, {\"threshold\": 0.35, \"p\": 27976, \"tpr\": 0.9611095224478124, \"n\": 5328, \"fpr\": 0.29992492492492495}, {\"threshold\": 0.351, \"p\": 27976, \"tpr\": 0.9610380325993709, \"n\": 5328, \"fpr\": 0.2989864864864865}, {\"threshold\": 0.352, \"p\": 27976, \"tpr\": 0.9610022876751502, \"n\": 5328, \"fpr\": 0.2987987987987988}, {\"threshold\": 0.353, \"p\": 27976, \"tpr\": 0.9608593079782671, \"n\": 5328, \"fpr\": 0.29823573573573575}, {\"threshold\": 0.354, \"p\": 27976, \"tpr\": 0.9607878181298256, \"n\": 5328, \"fpr\": 0.2980480480480481}, {\"threshold\": 0.355, \"p\": 27976, \"tpr\": 0.9606448384329426, \"n\": 5328, \"fpr\": 0.2980480480480481}, {\"threshold\": 0.356, \"p\": 27976, \"tpr\": 0.9606448384329426, \"n\": 5328, \"fpr\": 0.29786036036036034}, {\"threshold\": 0.357, \"p\": 27976, \"tpr\": 0.9605376036602803, \"n\": 5328, \"fpr\": 0.2972972972972973}, {\"threshold\": 0.358, \"p\": 27976, \"tpr\": 0.9604661138118388, \"n\": 5328, \"fpr\": 0.29710960960960964}, {\"threshold\": 0.359, \"p\": 27976, \"tpr\": 0.9603588790391764, \"n\": 5328, \"fpr\": 0.29710960960960964}, {\"threshold\": 0.36, \"p\": 27976, \"tpr\": 0.9603231341149556, \"n\": 5328, \"fpr\": 0.2963588588588589}, {\"threshold\": 0.361, \"p\": 27976, \"tpr\": 0.9602158993422933, \"n\": 5328, \"fpr\": 0.29617117117117114}, {\"threshold\": 0.362, \"p\": 27976, \"tpr\": 0.9601444094938518, \"n\": 5328, \"fpr\": 0.29598348348348347}, {\"threshold\": 0.363, \"p\": 27976, \"tpr\": 0.9600371747211895, \"n\": 5328, \"fpr\": 0.2956081081081081}, {\"threshold\": 0.364, \"p\": 27976, \"tpr\": 0.9600014297969688, \"n\": 5328, \"fpr\": 0.2956081081081081}, {\"threshold\": 0.365, \"p\": 27976, \"tpr\": 0.9599299399485273, \"n\": 5328, \"fpr\": 0.2952327327327327}, {\"threshold\": 0.366, \"p\": 27976, \"tpr\": 0.9598584501000857, \"n\": 5328, \"fpr\": 0.29485735735735735}, {\"threshold\": 0.367, \"p\": 27976, \"tpr\": 0.959822705175865, \"n\": 5328, \"fpr\": 0.294481981981982}, {\"threshold\": 0.368, \"p\": 27976, \"tpr\": 0.9596439805547612, \"n\": 5328, \"fpr\": 0.294481981981982}, {\"threshold\": 0.369, \"p\": 27976, \"tpr\": 0.9594652559336574, \"n\": 5328, \"fpr\": 0.294481981981982}, {\"threshold\": 0.37, \"p\": 27976, \"tpr\": 0.9594295110094366, \"n\": 5328, \"fpr\": 0.29429429429429427}, {\"threshold\": 0.371, \"p\": 27976, \"tpr\": 0.9593222762367744, \"n\": 5328, \"fpr\": 0.29429429429429427}, {\"threshold\": 0.372, \"p\": 27976, \"tpr\": 0.9592507863883328, \"n\": 5328, \"fpr\": 0.2941066066066066}, {\"threshold\": 0.373, \"p\": 27976, \"tpr\": 0.9592507863883328, \"n\": 5328, \"fpr\": 0.29354354354354356}, {\"threshold\": 0.374, \"p\": 27976, \"tpr\": 0.9592507863883328, \"n\": 5328, \"fpr\": 0.29316816816816815}, {\"threshold\": 0.375, \"p\": 27976, \"tpr\": 0.9591435516156706, \"n\": 5328, \"fpr\": 0.2929804804804805}, {\"threshold\": 0.376, \"p\": 27976, \"tpr\": 0.9591435516156706, \"n\": 5328, \"fpr\": 0.2924174174174174}, {\"threshold\": 0.377, \"p\": 27976, \"tpr\": 0.959072061767229, \"n\": 5328, \"fpr\": 0.2922297297297297}, {\"threshold\": 0.378, \"p\": 27976, \"tpr\": 0.958786102373463, \"n\": 5328, \"fpr\": 0.29185435435435436}, {\"threshold\": 0.379, \"p\": 27976, \"tpr\": 0.9587503574492422, \"n\": 5328, \"fpr\": 0.2912912912912913}, {\"threshold\": 0.38, \"p\": 27976, \"tpr\": 0.9586073777523592, \"n\": 5328, \"fpr\": 0.2911036036036036}, {\"threshold\": 0.381, \"p\": 27976, \"tpr\": 0.9585358879039176, \"n\": 5328, \"fpr\": 0.2905405405405405}, {\"threshold\": 0.382, \"p\": 27976, \"tpr\": 0.9584643980554761, \"n\": 5328, \"fpr\": 0.2897897897897898}, {\"threshold\": 0.383, \"p\": 27976, \"tpr\": 0.9582856734343723, \"n\": 5328, \"fpr\": 0.2896021021021021}, {\"threshold\": 0.384, \"p\": 27976, \"tpr\": 0.95817843866171, \"n\": 5328, \"fpr\": 0.2894144144144144}, {\"threshold\": 0.385, \"p\": 27976, \"tpr\": 0.9580712038890478, \"n\": 5328, \"fpr\": 0.2894144144144144}, {\"threshold\": 0.386, \"p\": 27976, \"tpr\": 0.958035458964827, \"n\": 5328, \"fpr\": 0.2882882882882883}, {\"threshold\": 0.387, \"p\": 27976, \"tpr\": 0.958035458964827, \"n\": 5328, \"fpr\": 0.28791291291291293}, {\"threshold\": 0.388, \"p\": 27976, \"tpr\": 0.957892479267944, \"n\": 5328, \"fpr\": 0.2869744744744745}, {\"threshold\": 0.389, \"p\": 27976, \"tpr\": 0.9578209894195024, \"n\": 5328, \"fpr\": 0.28622372372372373}, {\"threshold\": 0.39, \"p\": 27976, \"tpr\": 0.9577494995710609, \"n\": 5328, \"fpr\": 0.28603603603603606}, {\"threshold\": 0.391, \"p\": 27976, \"tpr\": 0.9576780097226194, \"n\": 5328, \"fpr\": 0.28547297297297297}, {\"threshold\": 0.392, \"p\": 27976, \"tpr\": 0.9575707749499571, \"n\": 5328, \"fpr\": 0.2850975975975976}, {\"threshold\": 0.393, \"p\": 27976, \"tpr\": 0.9573563054046326, \"n\": 5328, \"fpr\": 0.28434684684684686}, {\"threshold\": 0.394, \"p\": 27976, \"tpr\": 0.9573205604804118, \"n\": 5328, \"fpr\": 0.28397147147147145}, {\"threshold\": 0.395, \"p\": 27976, \"tpr\": 0.9571775807835288, \"n\": 5328, \"fpr\": 0.28378378378378377}, {\"threshold\": 0.396, \"p\": 27976, \"tpr\": 0.9571060909350873, \"n\": 5328, \"fpr\": 0.2834084084084084}, {\"threshold\": 0.397, \"p\": 27976, \"tpr\": 0.9570346010866457, \"n\": 5328, \"fpr\": 0.28284534534534533}, {\"threshold\": 0.398, \"p\": 27976, \"tpr\": 0.9570346010866457, \"n\": 5328, \"fpr\": 0.28246996996997}, {\"threshold\": 0.399, \"p\": 27976, \"tpr\": 0.9569631112382042, \"n\": 5328, \"fpr\": 0.28246996996997}, {\"threshold\": 0.4, \"p\": 27976, \"tpr\": 0.9568558764655419, \"n\": 5328, \"fpr\": 0.2819069069069069}, {\"threshold\": 0.401, \"p\": 27976, \"tpr\": 0.9567843866171004, \"n\": 5328, \"fpr\": 0.28096846846846846}, {\"threshold\": 0.402, \"p\": 27976, \"tpr\": 0.9566414069202174, \"n\": 5328, \"fpr\": 0.28040540540540543}, {\"threshold\": 0.403, \"p\": 27976, \"tpr\": 0.9565699170717759, \"n\": 5328, \"fpr\": 0.27984234234234234}, {\"threshold\": 0.404, \"p\": 27976, \"tpr\": 0.9565341721475551, \"n\": 5328, \"fpr\": 0.27984234234234234}, {\"threshold\": 0.405, \"p\": 27976, \"tpr\": 0.9565341721475551, \"n\": 5328, \"fpr\": 0.27984234234234234}, {\"threshold\": 0.406, \"p\": 27976, \"tpr\": 0.9564984272233343, \"n\": 5328, \"fpr\": 0.27965465465465467}, {\"threshold\": 0.407, \"p\": 27976, \"tpr\": 0.9564984272233343, \"n\": 5328, \"fpr\": 0.279466966966967}, {\"threshold\": 0.408, \"p\": 27976, \"tpr\": 0.9564269373748928, \"n\": 5328, \"fpr\": 0.2789039039039039}, {\"threshold\": 0.409, \"p\": 27976, \"tpr\": 0.9563554475264513, \"n\": 5328, \"fpr\": 0.27852852852852855}, {\"threshold\": 0.41, \"p\": 27976, \"tpr\": 0.9563554475264513, \"n\": 5328, \"fpr\": 0.2783408408408408}, {\"threshold\": 0.411, \"p\": 27976, \"tpr\": 0.9561052330569059, \"n\": 5328, \"fpr\": 0.27815315315315314}, {\"threshold\": 0.412, \"p\": 27976, \"tpr\": 0.9560694881326851, \"n\": 5328, \"fpr\": 0.2775900900900901}, {\"threshold\": 0.413, \"p\": 27976, \"tpr\": 0.9560694881326851, \"n\": 5328, \"fpr\": 0.2772147147147147}, {\"threshold\": 0.414, \"p\": 27976, \"tpr\": 0.9559979982842436, \"n\": 5328, \"fpr\": 0.2766516516516517}, {\"threshold\": 0.415, \"p\": 27976, \"tpr\": 0.9559622533600228, \"n\": 5328, \"fpr\": 0.2766516516516517}, {\"threshold\": 0.416, \"p\": 27976, \"tpr\": 0.9558907635115813, \"n\": 5328, \"fpr\": 0.27627627627627627}, {\"threshold\": 0.417, \"p\": 27976, \"tpr\": 0.9558550185873605, \"n\": 5328, \"fpr\": 0.27571321321321324}, {\"threshold\": 0.418, \"p\": 27976, \"tpr\": 0.9557477838146983, \"n\": 5328, \"fpr\": 0.27571321321321324}, {\"threshold\": 0.419, \"p\": 27976, \"tpr\": 0.955640549042036, \"n\": 5328, \"fpr\": 0.27533783783783783}, {\"threshold\": 0.42, \"p\": 27976, \"tpr\": 0.9556048041178152, \"n\": 5328, \"fpr\": 0.27533783783783783}, {\"threshold\": 0.421, \"p\": 27976, \"tpr\": 0.9555333142693737, \"n\": 5328, \"fpr\": 0.2749624624624625}, {\"threshold\": 0.422, \"p\": 27976, \"tpr\": 0.9554260794967114, \"n\": 5328, \"fpr\": 0.2747747747747748}, {\"threshold\": 0.423, \"p\": 27976, \"tpr\": 0.9553188447240492, \"n\": 5328, \"fpr\": 0.27458708708708707}, {\"threshold\": 0.424, \"p\": 27976, \"tpr\": 0.9552116099513869, \"n\": 5328, \"fpr\": 0.27458708708708707}, {\"threshold\": 0.425, \"p\": 27976, \"tpr\": 0.9551758650271661, \"n\": 5328, \"fpr\": 0.2743993993993994}, {\"threshold\": 0.426, \"p\": 27976, \"tpr\": 0.9551758650271661, \"n\": 5328, \"fpr\": 0.27383633633633636}, {\"threshold\": 0.427, \"p\": 27976, \"tpr\": 0.9551401201029454, \"n\": 5328, \"fpr\": 0.2732732732732733}, {\"threshold\": 0.428, \"p\": 27976, \"tpr\": 0.9549613954818416, \"n\": 5328, \"fpr\": 0.27233483483483484}, {\"threshold\": 0.429, \"p\": 27976, \"tpr\": 0.9548184157849585, \"n\": 5328, \"fpr\": 0.27177177177177175}, {\"threshold\": 0.43, \"p\": 27976, \"tpr\": 0.954746925936517, \"n\": 5328, \"fpr\": 0.2712087087087087}, {\"threshold\": 0.431, \"p\": 27976, \"tpr\": 0.9546754360880755, \"n\": 5328, \"fpr\": 0.2708333333333333}, {\"threshold\": 0.432, \"p\": 27976, \"tpr\": 0.954603946239634, \"n\": 5328, \"fpr\": 0.2700825825825826}, {\"threshold\": 0.433, \"p\": 27976, \"tpr\": 0.9545324563911924, \"n\": 5328, \"fpr\": 0.2697072072072072}, {\"threshold\": 0.434, \"p\": 27976, \"tpr\": 0.9544967114669717, \"n\": 5328, \"fpr\": 0.2695195195195195}, {\"threshold\": 0.435, \"p\": 27976, \"tpr\": 0.9544967114669717, \"n\": 5328, \"fpr\": 0.26914414414414417}, {\"threshold\": 0.436, \"p\": 27976, \"tpr\": 0.9543894766943094, \"n\": 5328, \"fpr\": 0.26914414414414417}, {\"threshold\": 0.437, \"p\": 27976, \"tpr\": 0.9542822419216471, \"n\": 5328, \"fpr\": 0.26876876876876876}, {\"threshold\": 0.438, \"p\": 27976, \"tpr\": 0.9542464969974264, \"n\": 5328, \"fpr\": 0.26820570570570573}, {\"threshold\": 0.439, \"p\": 27976, \"tpr\": 0.9542107520732056, \"n\": 5328, \"fpr\": 0.26820570570570573}, {\"threshold\": 0.44, \"p\": 27976, \"tpr\": 0.9540677723763226, \"n\": 5328, \"fpr\": 0.26764264264264265}, {\"threshold\": 0.441, \"p\": 27976, \"tpr\": 0.9539605376036603, \"n\": 5328, \"fpr\": 0.26764264264264265}, {\"threshold\": 0.442, \"p\": 27976, \"tpr\": 0.9538175579067772, \"n\": 5328, \"fpr\": 0.26745495495495497}, {\"threshold\": 0.443, \"p\": 27976, \"tpr\": 0.9537818129825565, \"n\": 5328, \"fpr\": 0.2672672672672673}, {\"threshold\": 0.444, \"p\": 27976, \"tpr\": 0.9537818129825565, \"n\": 5328, \"fpr\": 0.26632882882882886}, {\"threshold\": 0.445, \"p\": 27976, \"tpr\": 0.9537460680583357, \"n\": 5328, \"fpr\": 0.26576576576576577}, {\"threshold\": 0.446, \"p\": 27976, \"tpr\": 0.9536388332856734, \"n\": 5328, \"fpr\": 0.26539039039039036}, {\"threshold\": 0.447, \"p\": 27976, \"tpr\": 0.9536030883614527, \"n\": 5328, \"fpr\": 0.265015015015015}, {\"threshold\": 0.448, \"p\": 27976, \"tpr\": 0.9534243637403489, \"n\": 5328, \"fpr\": 0.26482732732732733}, {\"threshold\": 0.449, \"p\": 27976, \"tpr\": 0.9532813840434659, \"n\": 5328, \"fpr\": 0.26463963963963966}, {\"threshold\": 0.45, \"p\": 27976, \"tpr\": 0.9532098941950243, \"n\": 5328, \"fpr\": 0.26407657657657657}, {\"threshold\": 0.451, \"p\": 27976, \"tpr\": 0.953102659422362, \"n\": 5328, \"fpr\": 0.2633258258258258}, {\"threshold\": 0.452, \"p\": 27976, \"tpr\": 0.952959679725479, \"n\": 5328, \"fpr\": 0.2633258258258258}, {\"threshold\": 0.453, \"p\": 27976, \"tpr\": 0.9529239348012583, \"n\": 5328, \"fpr\": 0.2627627627627628}, {\"threshold\": 0.454, \"p\": 27976, \"tpr\": 0.9528524449528167, \"n\": 5328, \"fpr\": 0.2627627627627628}, {\"threshold\": 0.455, \"p\": 27976, \"tpr\": 0.9527809551043752, \"n\": 5328, \"fpr\": 0.26257507507507505}, {\"threshold\": 0.456, \"p\": 27976, \"tpr\": 0.9526737203317129, \"n\": 5328, \"fpr\": 0.26238738738738737}, {\"threshold\": 0.457, \"p\": 27976, \"tpr\": 0.9524949957106091, \"n\": 5328, \"fpr\": 0.2621996996996997}, {\"threshold\": 0.458, \"p\": 27976, \"tpr\": 0.9523162710895053, \"n\": 5328, \"fpr\": 0.262012012012012}, {\"threshold\": 0.459, \"p\": 27976, \"tpr\": 0.9522090363168431, \"n\": 5328, \"fpr\": 0.262012012012012}, {\"threshold\": 0.46, \"p\": 27976, \"tpr\": 0.9520303116957392, \"n\": 5328, \"fpr\": 0.2616366366366366}, {\"threshold\": 0.461, \"p\": 27976, \"tpr\": 0.9519588218472976, \"n\": 5328, \"fpr\": 0.26144894894894893}, {\"threshold\": 0.462, \"p\": 27976, \"tpr\": 0.9517086073777523, \"n\": 5328, \"fpr\": 0.2608858858858859}, {\"threshold\": 0.463, \"p\": 27976, \"tpr\": 0.9516371175293108, \"n\": 5328, \"fpr\": 0.2605105105105105}, {\"threshold\": 0.464, \"p\": 27976, \"tpr\": 0.9515656276808693, \"n\": 5328, \"fpr\": 0.2603228228228228}, {\"threshold\": 0.465, \"p\": 27976, \"tpr\": 0.9514226479839862, \"n\": 5328, \"fpr\": 0.26013513513513514}, {\"threshold\": 0.466, \"p\": 27976, \"tpr\": 0.9513869030597655, \"n\": 5328, \"fpr\": 0.25994744744744747}, {\"threshold\": 0.467, \"p\": 27976, \"tpr\": 0.951315413211324, \"n\": 5328, \"fpr\": 0.25957207207207206}, {\"threshold\": 0.468, \"p\": 27976, \"tpr\": 0.9511366885902202, \"n\": 5328, \"fpr\": 0.2593843843843844}, {\"threshold\": 0.469, \"p\": 27976, \"tpr\": 0.9511009436659994, \"n\": 5328, \"fpr\": 0.2586336336336336}, {\"threshold\": 0.47, \"p\": 27976, \"tpr\": 0.9511009436659994, \"n\": 5328, \"fpr\": 0.25788288288288286}, {\"threshold\": 0.471, \"p\": 27976, \"tpr\": 0.9510651987417786, \"n\": 5328, \"fpr\": 0.25788288288288286}, {\"threshold\": 0.472, \"p\": 27976, \"tpr\": 0.9508864741206748, \"n\": 5328, \"fpr\": 0.25731981981981983}, {\"threshold\": 0.473, \"p\": 27976, \"tpr\": 0.9507434944237918, \"n\": 5328, \"fpr\": 0.25713213213213215}, {\"threshold\": 0.474, \"p\": 27976, \"tpr\": 0.950707749499571, \"n\": 5328, \"fpr\": 0.2561936936936937}, {\"threshold\": 0.475, \"p\": 27976, \"tpr\": 0.9506720045753503, \"n\": 5328, \"fpr\": 0.256006006006006}, {\"threshold\": 0.476, \"p\": 27976, \"tpr\": 0.9504932799542465, \"n\": 5328, \"fpr\": 0.256006006006006}, {\"threshold\": 0.477, \"p\": 27976, \"tpr\": 0.9503860451815842, \"n\": 5328, \"fpr\": 0.2558183183183183}, {\"threshold\": 0.478, \"p\": 27976, \"tpr\": 0.9503145553331427, \"n\": 5328, \"fpr\": 0.25506756756756754}, {\"threshold\": 0.479, \"p\": 27976, \"tpr\": 0.9502430654847012, \"n\": 5328, \"fpr\": 0.25506756756756754}, {\"threshold\": 0.48, \"p\": 27976, \"tpr\": 0.9501000857878181, \"n\": 5328, \"fpr\": 0.2546921921921922}, {\"threshold\": 0.481, \"p\": 27976, \"tpr\": 0.9500285959393766, \"n\": 5328, \"fpr\": 0.2541291291291291}, {\"threshold\": 0.482, \"p\": 27976, \"tpr\": 0.9499928510151558, \"n\": 5328, \"fpr\": 0.2533783783783784}, {\"threshold\": 0.483, \"p\": 27976, \"tpr\": 0.9499213611667143, \"n\": 5328, \"fpr\": 0.25319069069069067}, {\"threshold\": 0.484, \"p\": 27976, \"tpr\": 0.9497068916213898, \"n\": 5328, \"fpr\": 0.2528153153153153}, {\"threshold\": 0.485, \"p\": 27976, \"tpr\": 0.9496354017729483, \"n\": 5328, \"fpr\": 0.25243993993993996}, {\"threshold\": 0.486, \"p\": 27976, \"tpr\": 0.9494924220760652, \"n\": 5328, \"fpr\": 0.25243993993993996}, {\"threshold\": 0.487, \"p\": 27976, \"tpr\": 0.9493136974549614, \"n\": 5328, \"fpr\": 0.25225225225225223}, {\"threshold\": 0.488, \"p\": 27976, \"tpr\": 0.9492779525307407, \"n\": 5328, \"fpr\": 0.2516891891891892}, {\"threshold\": 0.489, \"p\": 27976, \"tpr\": 0.9491707177580784, \"n\": 5328, \"fpr\": 0.2516891891891892}, {\"threshold\": 0.49, \"p\": 27976, \"tpr\": 0.9490992279096369, \"n\": 5328, \"fpr\": 0.25093843843843844}, {\"threshold\": 0.491, \"p\": 27976, \"tpr\": 0.9490634829854161, \"n\": 5328, \"fpr\": 0.2505630630630631}, {\"threshold\": 0.492, \"p\": 27976, \"tpr\": 0.9489562482127538, \"n\": 5328, \"fpr\": 0.25037537537537535}, {\"threshold\": 0.493, \"p\": 27976, \"tpr\": 0.9488847583643123, \"n\": 5328, \"fpr\": 0.25037537537537535}, {\"threshold\": 0.494, \"p\": 27976, \"tpr\": 0.9487417786674293, \"n\": 5328, \"fpr\": 0.25037537537537535}, {\"threshold\": 0.495, \"p\": 27976, \"tpr\": 0.948634543894767, \"n\": 5328, \"fpr\": 0.2501876876876877}, {\"threshold\": 0.496, \"p\": 27976, \"tpr\": 0.9484558192736632, \"n\": 5328, \"fpr\": 0.2501876876876877}, {\"threshold\": 0.497, \"p\": 27976, \"tpr\": 0.9482770946525594, \"n\": 5328, \"fpr\": 0.25}, {\"threshold\": 0.498, \"p\": 27976, \"tpr\": 0.9481341149556763, \"n\": 5328, \"fpr\": 0.24981231231231232}, {\"threshold\": 0.499, \"p\": 27976, \"tpr\": 0.9479553903345725, \"n\": 5328, \"fpr\": 0.24981231231231232}, {\"threshold\": 0.5, \"p\": 27976, \"tpr\": 0.9477766657134686, \"n\": 5328, \"fpr\": 0.24924924924924924}, {\"threshold\": 0.501, \"p\": 27976, \"tpr\": 0.9477051758650271, \"n\": 5328, \"fpr\": 0.24887387387387389}, {\"threshold\": 0.502, \"p\": 27976, \"tpr\": 0.9476694309408064, \"n\": 5328, \"fpr\": 0.2484984984984985}, {\"threshold\": 0.503, \"p\": 27976, \"tpr\": 0.9475621961681441, \"n\": 5328, \"fpr\": 0.24793543543543545}, {\"threshold\": 0.504, \"p\": 27976, \"tpr\": 0.947419216471261, \"n\": 5328, \"fpr\": 0.24756006006006007}, {\"threshold\": 0.505, \"p\": 27976, \"tpr\": 0.947276236774378, \"n\": 5328, \"fpr\": 0.24756006006006007}, {\"threshold\": 0.506, \"p\": 27976, \"tpr\": 0.9472047469259365, \"n\": 5328, \"fpr\": 0.2468093093093093}, {\"threshold\": 0.507, \"p\": 27976, \"tpr\": 0.9470975121532742, \"n\": 5328, \"fpr\": 0.24643393393393392}, {\"threshold\": 0.508, \"p\": 27976, \"tpr\": 0.9469545324563912, \"n\": 5328, \"fpr\": 0.24643393393393392}, {\"threshold\": 0.509, \"p\": 27976, \"tpr\": 0.9468472976837289, \"n\": 5328, \"fpr\": 0.24605855855855857}, {\"threshold\": 0.51, \"p\": 27976, \"tpr\": 0.9468115527595081, \"n\": 5328, \"fpr\": 0.2453078078078078}, {\"threshold\": 0.511, \"p\": 27976, \"tpr\": 0.9466328281384043, \"n\": 5328, \"fpr\": 0.24474474474474475}, {\"threshold\": 0.512, \"p\": 27976, \"tpr\": 0.9465970832141836, \"n\": 5328, \"fpr\": 0.24455705705705705}, {\"threshold\": 0.513, \"p\": 27976, \"tpr\": 0.946525593365742, \"n\": 5328, \"fpr\": 0.2441816816816817}, {\"threshold\": 0.514, \"p\": 27976, \"tpr\": 0.9463468687446382, \"n\": 5328, \"fpr\": 0.2441816816816817}, {\"threshold\": 0.515, \"p\": 27976, \"tpr\": 0.9463111238204175, \"n\": 5328, \"fpr\": 0.24324324324324326}, {\"threshold\": 0.516, \"p\": 27976, \"tpr\": 0.9462753788961967, \"n\": 5328, \"fpr\": 0.24305555555555555}, {\"threshold\": 0.517, \"p\": 27976, \"tpr\": 0.9461681441235344, \"n\": 5328, \"fpr\": 0.24268018018018017}, {\"threshold\": 0.518, \"p\": 27976, \"tpr\": 0.9461681441235344, \"n\": 5328, \"fpr\": 0.24268018018018017}, {\"threshold\": 0.519, \"p\": 27976, \"tpr\": 0.9460966542750929, \"n\": 5328, \"fpr\": 0.24268018018018017}, {\"threshold\": 0.52, \"p\": 27976, \"tpr\": 0.9460609093508722, \"n\": 5328, \"fpr\": 0.2424924924924925}, {\"threshold\": 0.521, \"p\": 27976, \"tpr\": 0.9459894195024307, \"n\": 5328, \"fpr\": 0.24211711711711711}, {\"threshold\": 0.522, \"p\": 27976, \"tpr\": 0.9458106948813269, \"n\": 5328, \"fpr\": 0.24155405405405406}, {\"threshold\": 0.523, \"p\": 27976, \"tpr\": 0.9457034601086646, \"n\": 5328, \"fpr\": 0.24117867867867868}, {\"threshold\": 0.524, \"p\": 27976, \"tpr\": 0.9455962253360023, \"n\": 5328, \"fpr\": 0.24042792792792791}, {\"threshold\": 0.525, \"p\": 27976, \"tpr\": 0.9454532456391193, \"n\": 5328, \"fpr\": 0.23986486486486486}, {\"threshold\": 0.526, \"p\": 27976, \"tpr\": 0.9453817557906777, \"n\": 5328, \"fpr\": 0.23948948948948948}, {\"threshold\": 0.527, \"p\": 27976, \"tpr\": 0.9452387760937947, \"n\": 5328, \"fpr\": 0.2393018018018018}, {\"threshold\": 0.528, \"p\": 27976, \"tpr\": 0.9451315413211324, \"n\": 5328, \"fpr\": 0.23855105105105104}, {\"threshold\": 0.529, \"p\": 27976, \"tpr\": 0.9450243065484701, \"n\": 5328, \"fpr\": 0.23798798798798798}, {\"threshold\": 0.53, \"p\": 27976, \"tpr\": 0.9449528167000286, \"n\": 5328, \"fpr\": 0.2376126126126126}, {\"threshold\": 0.531, \"p\": 27976, \"tpr\": 0.9448098370031456, \"n\": 5328, \"fpr\": 0.2376126126126126}, {\"threshold\": 0.532, \"p\": 27976, \"tpr\": 0.9448098370031456, \"n\": 5328, \"fpr\": 0.23723723723723725}, {\"threshold\": 0.533, \"p\": 27976, \"tpr\": 0.9447740920789248, \"n\": 5328, \"fpr\": 0.23704954954954954}, {\"threshold\": 0.534, \"p\": 27976, \"tpr\": 0.9447026022304833, \"n\": 5328, \"fpr\": 0.23667417417417416}, {\"threshold\": 0.535, \"p\": 27976, \"tpr\": 0.9445238776093795, \"n\": 5328, \"fpr\": 0.23592342342342343}, {\"threshold\": 0.536, \"p\": 27976, \"tpr\": 0.944452387760938, \"n\": 5328, \"fpr\": 0.23573573573573572}, {\"threshold\": 0.537, \"p\": 27976, \"tpr\": 0.9444166428367172, \"n\": 5328, \"fpr\": 0.23554804804804805}, {\"threshold\": 0.538, \"p\": 27976, \"tpr\": 0.9442736631398342, \"n\": 5328, \"fpr\": 0.23554804804804805}, {\"threshold\": 0.539, \"p\": 27976, \"tpr\": 0.9441664283671719, \"n\": 5328, \"fpr\": 0.23536036036036037}, {\"threshold\": 0.54, \"p\": 27976, \"tpr\": 0.9441306834429511, \"n\": 5328, \"fpr\": 0.23517267267267267}, {\"threshold\": 0.541, \"p\": 27976, \"tpr\": 0.9440949385187304, \"n\": 5328, \"fpr\": 0.234984984984985}, {\"threshold\": 0.542, \"p\": 27976, \"tpr\": 0.9439519588218473, \"n\": 5328, \"fpr\": 0.234984984984985}, {\"threshold\": 0.543, \"p\": 27976, \"tpr\": 0.9439162138976266, \"n\": 5328, \"fpr\": 0.2346096096096096}, {\"threshold\": 0.544, \"p\": 27976, \"tpr\": 0.9438447240491851, \"n\": 5328, \"fpr\": 0.23404654654654655}, {\"threshold\": 0.545, \"p\": 27976, \"tpr\": 0.9438089791249643, \"n\": 5328, \"fpr\": 0.23404654654654655}, {\"threshold\": 0.546, \"p\": 27976, \"tpr\": 0.9437017443523019, \"n\": 5328, \"fpr\": 0.2332957957957958}, {\"threshold\": 0.547, \"p\": 27976, \"tpr\": 0.9436302545038604, \"n\": 5328, \"fpr\": 0.23310810810810811}, {\"threshold\": 0.548, \"p\": 27976, \"tpr\": 0.9435587646554189, \"n\": 5328, \"fpr\": 0.2329204204204204}, {\"threshold\": 0.549, \"p\": 27976, \"tpr\": 0.9433800400343151, \"n\": 5328, \"fpr\": 0.23235735735735735}, {\"threshold\": 0.55, \"p\": 27976, \"tpr\": 0.9433085501858736, \"n\": 5328, \"fpr\": 0.23198198198198197}, {\"threshold\": 0.551, \"p\": 27976, \"tpr\": 0.9432013154132113, \"n\": 5328, \"fpr\": 0.23160660660660662}, {\"threshold\": 0.552, \"p\": 27976, \"tpr\": 0.9431298255647698, \"n\": 5328, \"fpr\": 0.23160660660660662}, {\"threshold\": 0.553, \"p\": 27976, \"tpr\": 0.9430583357163282, \"n\": 5328, \"fpr\": 0.23123123123123124}, {\"threshold\": 0.554, \"p\": 27976, \"tpr\": 0.9429868458678867, \"n\": 5328, \"fpr\": 0.23048048048048048}, {\"threshold\": 0.555, \"p\": 27976, \"tpr\": 0.9428796110952244, \"n\": 5328, \"fpr\": 0.2301051051051051}, {\"threshold\": 0.556, \"p\": 27976, \"tpr\": 0.9426651415498999, \"n\": 5328, \"fpr\": 0.22954204204204204}, {\"threshold\": 0.557, \"p\": 27976, \"tpr\": 0.9425221618530168, \"n\": 5328, \"fpr\": 0.22916666666666666}, {\"threshold\": 0.558, \"p\": 27976, \"tpr\": 0.9425221618530168, \"n\": 5328, \"fpr\": 0.2286036036036036}, {\"threshold\": 0.559, \"p\": 27976, \"tpr\": 0.9423791821561338, \"n\": 5328, \"fpr\": 0.2286036036036036}, {\"threshold\": 0.56, \"p\": 27976, \"tpr\": 0.9423791821561338, \"n\": 5328, \"fpr\": 0.2286036036036036}, {\"threshold\": 0.561, \"p\": 27976, \"tpr\": 0.9421647126108093, \"n\": 5328, \"fpr\": 0.22841591591591592}, {\"threshold\": 0.562, \"p\": 27976, \"tpr\": 0.9420217329139262, \"n\": 5328, \"fpr\": 0.22785285285285287}, {\"threshold\": 0.563, \"p\": 27976, \"tpr\": 0.9419502430654847, \"n\": 5328, \"fpr\": 0.22728978978978978}, {\"threshold\": 0.564, \"p\": 27976, \"tpr\": 0.9418787532170432, \"n\": 5328, \"fpr\": 0.2271021021021021}, {\"threshold\": 0.565, \"p\": 27976, \"tpr\": 0.9417000285959394, \"n\": 5328, \"fpr\": 0.22672672672672672}, {\"threshold\": 0.566, \"p\": 27976, \"tpr\": 0.9415927938232771, \"n\": 5328, \"fpr\": 0.22653903903903905}, {\"threshold\": 0.567, \"p\": 27976, \"tpr\": 0.9415927938232771, \"n\": 5328, \"fpr\": 0.22635135135135134}, {\"threshold\": 0.568, \"p\": 27976, \"tpr\": 0.9415570488990563, \"n\": 5328, \"fpr\": 0.22578828828828829}, {\"threshold\": 0.569, \"p\": 27976, \"tpr\": 0.9414140692021733, \"n\": 5328, \"fpr\": 0.2254129129129129}, {\"threshold\": 0.57, \"p\": 27976, \"tpr\": 0.941306834429511, \"n\": 5328, \"fpr\": 0.22522522522522523}, {\"threshold\": 0.571, \"p\": 27976, \"tpr\": 0.9412353445810695, \"n\": 5328, \"fpr\": 0.22522522522522523}, {\"threshold\": 0.572, \"p\": 27976, \"tpr\": 0.941163854732628, \"n\": 5328, \"fpr\": 0.22466216216216217}, {\"threshold\": 0.573, \"p\": 27976, \"tpr\": 0.9410923648841865, \"n\": 5328, \"fpr\": 0.22466216216216217}, {\"threshold\": 0.574, \"p\": 27976, \"tpr\": 0.9409493851873034, \"n\": 5328, \"fpr\": 0.22447447447447447}, {\"threshold\": 0.575, \"p\": 27976, \"tpr\": 0.9408778953388619, \"n\": 5328, \"fpr\": 0.22372372372372373}, {\"threshold\": 0.576, \"p\": 27976, \"tpr\": 0.9406991707177581, \"n\": 5328, \"fpr\": 0.22334834834834835}, {\"threshold\": 0.577, \"p\": 27976, \"tpr\": 0.9405919359450958, \"n\": 5328, \"fpr\": 0.2227852852852853}, {\"threshold\": 0.578, \"p\": 27976, \"tpr\": 0.9405561910208751, \"n\": 5328, \"fpr\": 0.22240990990990991}, {\"threshold\": 0.579, \"p\": 27976, \"tpr\": 0.9403774663997713, \"n\": 5328, \"fpr\": 0.2222222222222222}, {\"threshold\": 0.58, \"p\": 27976, \"tpr\": 0.940270231627109, \"n\": 5328, \"fpr\": 0.2222222222222222}, {\"threshold\": 0.581, \"p\": 27976, \"tpr\": 0.9401629968544467, \"n\": 5328, \"fpr\": 0.22147147147147148}, {\"threshold\": 0.582, \"p\": 27976, \"tpr\": 0.9400200171575637, \"n\": 5328, \"fpr\": 0.22053303303303304}, {\"threshold\": 0.583, \"p\": 27976, \"tpr\": 0.9399485273091222, \"n\": 5328, \"fpr\": 0.22034534534534533}, {\"threshold\": 0.584, \"p\": 27976, \"tpr\": 0.9399127823849014, \"n\": 5328, \"fpr\": 0.22015765765765766}, {\"threshold\": 0.585, \"p\": 27976, \"tpr\": 0.9398412925364599, \"n\": 5328, \"fpr\": 0.21978228228228228}, {\"threshold\": 0.586, \"p\": 27976, \"tpr\": 0.9397698026880184, \"n\": 5328, \"fpr\": 0.2195945945945946}, {\"threshold\": 0.587, \"p\": 27976, \"tpr\": 0.9397340577637976, \"n\": 5328, \"fpr\": 0.21921921921921922}, {\"threshold\": 0.588, \"p\": 27976, \"tpr\": 0.9396983128395768, \"n\": 5328, \"fpr\": 0.21903153153153154}, {\"threshold\": 0.589, \"p\": 27976, \"tpr\": 0.9396268229911353, \"n\": 5328, \"fpr\": 0.21865615615615616}, {\"threshold\": 0.59, \"p\": 27976, \"tpr\": 0.9394480983700314, \"n\": 5328, \"fpr\": 0.21828078078078078}, {\"threshold\": 0.591, \"p\": 27976, \"tpr\": 0.9394480983700314, \"n\": 5328, \"fpr\": 0.2180930930930931}, {\"threshold\": 0.592, \"p\": 27976, \"tpr\": 0.9394123534458106, \"n\": 5328, \"fpr\": 0.2179054054054054}, {\"threshold\": 0.593, \"p\": 27976, \"tpr\": 0.9393051186731484, \"n\": 5328, \"fpr\": 0.21753003003003002}, {\"threshold\": 0.594, \"p\": 27976, \"tpr\": 0.9392336288247068, \"n\": 5328, \"fpr\": 0.21696696696696696}, {\"threshold\": 0.595, \"p\": 27976, \"tpr\": 0.9390906491278238, \"n\": 5328, \"fpr\": 0.21621621621621623}, {\"threshold\": 0.596, \"p\": 27976, \"tpr\": 0.9390191592793823, \"n\": 5328, \"fpr\": 0.21565315315315314}, {\"threshold\": 0.597, \"p\": 27976, \"tpr\": 0.93891192450672, \"n\": 5328, \"fpr\": 0.2152777777777778}, {\"threshold\": 0.598, \"p\": 27976, \"tpr\": 0.9388404346582785, \"n\": 5328, \"fpr\": 0.2147147147147147}, {\"threshold\": 0.599, \"p\": 27976, \"tpr\": 0.938768944809837, \"n\": 5328, \"fpr\": 0.21433933933933935}, {\"threshold\": 0.6, \"p\": 27976, \"tpr\": 0.9386974549613954, \"n\": 5328, \"fpr\": 0.21396396396396397}, {\"threshold\": 0.601, \"p\": 27976, \"tpr\": 0.9385544752645124, \"n\": 5328, \"fpr\": 0.2135885885885886}, {\"threshold\": 0.602, \"p\": 27976, \"tpr\": 0.9384829854160709, \"n\": 5328, \"fpr\": 0.21283783783783783}, {\"threshold\": 0.603, \"p\": 27976, \"tpr\": 0.9384472404918501, \"n\": 5328, \"fpr\": 0.2120870870870871}, {\"threshold\": 0.604, \"p\": 27976, \"tpr\": 0.9384114955676294, \"n\": 5328, \"fpr\": 0.21152402402402404}, {\"threshold\": 0.605, \"p\": 27976, \"tpr\": 0.9382327709465256, \"n\": 5328, \"fpr\": 0.21096096096096095}, {\"threshold\": 0.606, \"p\": 27976, \"tpr\": 0.9380540463254218, \"n\": 5328, \"fpr\": 0.21058558558558557}, {\"threshold\": 0.607, \"p\": 27976, \"tpr\": 0.9379468115527595, \"n\": 5328, \"fpr\": 0.21058558558558557}, {\"threshold\": 0.608, \"p\": 27976, \"tpr\": 0.9378395767800972, \"n\": 5328, \"fpr\": 0.21021021021021022}, {\"threshold\": 0.609, \"p\": 27976, \"tpr\": 0.9376965970832142, \"n\": 5328, \"fpr\": 0.21002252252252251}, {\"threshold\": 0.61, \"p\": 27976, \"tpr\": 0.9376965970832142, \"n\": 5328, \"fpr\": 0.21002252252252251}, {\"threshold\": 0.611, \"p\": 27976, \"tpr\": 0.9375893623105519, \"n\": 5328, \"fpr\": 0.20983483483483484}, {\"threshold\": 0.612, \"p\": 27976, \"tpr\": 0.9374821275378896, \"n\": 5328, \"fpr\": 0.20964714714714713}, {\"threshold\": 0.613, \"p\": 27976, \"tpr\": 0.9373391478410066, \"n\": 5328, \"fpr\": 0.20945945945945946}, {\"threshold\": 0.614, \"p\": 27976, \"tpr\": 0.9372319130683443, \"n\": 5328, \"fpr\": 0.20927177177177178}, {\"threshold\": 0.615, \"p\": 27976, \"tpr\": 0.9370889333714613, \"n\": 5328, \"fpr\": 0.20908408408408408}, {\"threshold\": 0.616, \"p\": 27976, \"tpr\": 0.9369102087503575, \"n\": 5328, \"fpr\": 0.2088963963963964}, {\"threshold\": 0.617, \"p\": 27976, \"tpr\": 0.9367314841292537, \"n\": 5328, \"fpr\": 0.2087087087087087}, {\"threshold\": 0.618, \"p\": 27976, \"tpr\": 0.9365170145839291, \"n\": 5328, \"fpr\": 0.2087087087087087}, {\"threshold\": 0.619, \"p\": 27976, \"tpr\": 0.9363382899628253, \"n\": 5328, \"fpr\": 0.20852102102102102}, {\"threshold\": 0.62, \"p\": 27976, \"tpr\": 0.9362668001143838, \"n\": 5328, \"fpr\": 0.20852102102102102}, {\"threshold\": 0.621, \"p\": 27976, \"tpr\": 0.9360523305690592, \"n\": 5328, \"fpr\": 0.20814564564564564}, {\"threshold\": 0.622, \"p\": 27976, \"tpr\": 0.9358736059479554, \"n\": 5328, \"fpr\": 0.20777027027027026}, {\"threshold\": 0.623, \"p\": 27976, \"tpr\": 0.9358021160995139, \"n\": 5328, \"fpr\": 0.20758258258258258}, {\"threshold\": 0.624, \"p\": 27976, \"tpr\": 0.9356948813268516, \"n\": 5328, \"fpr\": 0.20701951951951952}, {\"threshold\": 0.625, \"p\": 27976, \"tpr\": 0.9355876465541894, \"n\": 5328, \"fpr\": 0.20645645645645647}, {\"threshold\": 0.626, \"p\": 27976, \"tpr\": 0.9354804117815271, \"n\": 5328, \"fpr\": 0.20645645645645647}, {\"threshold\": 0.627, \"p\": 27976, \"tpr\": 0.9353731770088647, \"n\": 5328, \"fpr\": 0.20608108108108109}, {\"threshold\": 0.628, \"p\": 27976, \"tpr\": 0.9351229625393194, \"n\": 5328, \"fpr\": 0.2057057057057057}, {\"threshold\": 0.629, \"p\": 27976, \"tpr\": 0.9349084929939948, \"n\": 5328, \"fpr\": 0.20514264264264265}, {\"threshold\": 0.63, \"p\": 27976, \"tpr\": 0.9346940234486703, \"n\": 5328, \"fpr\": 0.20495495495495494}, {\"threshold\": 0.631, \"p\": 27976, \"tpr\": 0.9343723191306834, \"n\": 5328, \"fpr\": 0.20476726726726727}, {\"threshold\": 0.632, \"p\": 27976, \"tpr\": 0.9343008292822419, \"n\": 5328, \"fpr\": 0.2045795795795796}, {\"threshold\": 0.633, \"p\": 27976, \"tpr\": 0.9341935945095796, \"n\": 5328, \"fpr\": 0.2042042042042042}, {\"threshold\": 0.634, \"p\": 27976, \"tpr\": 0.9340863597369173, \"n\": 5328, \"fpr\": 0.2040165165165165}, {\"threshold\": 0.635, \"p\": 27976, \"tpr\": 0.9339076351158135, \"n\": 5328, \"fpr\": 0.20382882882882883}, {\"threshold\": 0.636, \"p\": 27976, \"tpr\": 0.9337289104947097, \"n\": 5328, \"fpr\": 0.20364114114114115}, {\"threshold\": 0.637, \"p\": 27976, \"tpr\": 0.9336574206462682, \"n\": 5328, \"fpr\": 0.2028903903903904}, {\"threshold\": 0.638, \"p\": 27976, \"tpr\": 0.9335859307978267, \"n\": 5328, \"fpr\": 0.20270270270270271}, {\"threshold\": 0.639, \"p\": 27976, \"tpr\": 0.9333714612525021, \"n\": 5328, \"fpr\": 0.202515015015015}, {\"threshold\": 0.64, \"p\": 27976, \"tpr\": 0.9332999714040606, \"n\": 5328, \"fpr\": 0.202515015015015}, {\"threshold\": 0.641, \"p\": 27976, \"tpr\": 0.9331569917071776, \"n\": 5328, \"fpr\": 0.20195195195195195}, {\"threshold\": 0.642, \"p\": 27976, \"tpr\": 0.9330497569345153, \"n\": 5328, \"fpr\": 0.2013888888888889}, {\"threshold\": 0.643, \"p\": 27976, \"tpr\": 0.9329782670860738, \"n\": 5328, \"fpr\": 0.20101351351351351}, {\"threshold\": 0.644, \"p\": 27976, \"tpr\": 0.932942522161853, \"n\": 5328, \"fpr\": 0.20063813813813813}, {\"threshold\": 0.645, \"p\": 27976, \"tpr\": 0.9328352873891907, \"n\": 5328, \"fpr\": 0.20063813813813813}, {\"threshold\": 0.646, \"p\": 27976, \"tpr\": 0.9327280526165285, \"n\": 5328, \"fpr\": 0.20045045045045046}, {\"threshold\": 0.647, \"p\": 27976, \"tpr\": 0.9326208178438662, \"n\": 5328, \"fpr\": 0.20045045045045046}, {\"threshold\": 0.648, \"p\": 27976, \"tpr\": 0.9325850729196454, \"n\": 5328, \"fpr\": 0.20026276276276275}, {\"threshold\": 0.649, \"p\": 27976, \"tpr\": 0.9323348584501001, \"n\": 5328, \"fpr\": 0.1998873873873874}, {\"threshold\": 0.65, \"p\": 27976, \"tpr\": 0.9320846439805548, \"n\": 5328, \"fpr\": 0.1996996996996997}, {\"threshold\": 0.651, \"p\": 27976, \"tpr\": 0.931905919359451, \"n\": 5328, \"fpr\": 0.19857357357357358}, {\"threshold\": 0.652, \"p\": 27976, \"tpr\": 0.9316914498141264, \"n\": 5328, \"fpr\": 0.19857357357357358}, {\"threshold\": 0.653, \"p\": 27976, \"tpr\": 0.9316199599656849, \"n\": 5328, \"fpr\": 0.1981981981981982}, {\"threshold\": 0.654, \"p\": 27976, \"tpr\": 0.9315127251930226, \"n\": 5328, \"fpr\": 0.19801051051051052}, {\"threshold\": 0.655, \"p\": 27976, \"tpr\": 0.9313697454961396, \"n\": 5328, \"fpr\": 0.19725975975975976}, {\"threshold\": 0.656, \"p\": 27976, \"tpr\": 0.9312267657992565, \"n\": 5328, \"fpr\": 0.19688438438438438}, {\"threshold\": 0.657, \"p\": 27976, \"tpr\": 0.9310837861023734, \"n\": 5328, \"fpr\": 0.196509009009009}, {\"threshold\": 0.658, \"p\": 27976, \"tpr\": 0.9309408064054904, \"n\": 5328, \"fpr\": 0.19594594594594594}, {\"threshold\": 0.659, \"p\": 27976, \"tpr\": 0.9307978267086073, \"n\": 5328, \"fpr\": 0.19575825825825827}, {\"threshold\": 0.66, \"p\": 27976, \"tpr\": 0.9307620817843866, \"n\": 5328, \"fpr\": 0.19557057057057056}, {\"threshold\": 0.661, \"p\": 27976, \"tpr\": 0.9305833571632828, \"n\": 5328, \"fpr\": 0.19519519519519518}, {\"threshold\": 0.662, \"p\": 27976, \"tpr\": 0.9304403774663997, \"n\": 5328, \"fpr\": 0.19519519519519518}, {\"threshold\": 0.663, \"p\": 27976, \"tpr\": 0.9302616528452959, \"n\": 5328, \"fpr\": 0.19481981981981983}, {\"threshold\": 0.664, \"p\": 27976, \"tpr\": 0.9301544180726337, \"n\": 5328, \"fpr\": 0.19481981981981983}, {\"threshold\": 0.665, \"p\": 27976, \"tpr\": 0.9299399485273091, \"n\": 5328, \"fpr\": 0.19463213213213212}, {\"threshold\": 0.666, \"p\": 27976, \"tpr\": 0.9297969688304261, \"n\": 5328, \"fpr\": 0.1938813813813814}, {\"threshold\": 0.667, \"p\": 27976, \"tpr\": 0.929653989133543, \"n\": 5328, \"fpr\": 0.193506006006006}, {\"threshold\": 0.668, \"p\": 27976, \"tpr\": 0.9294752645124392, \"n\": 5328, \"fpr\": 0.19294294294294295}, {\"threshold\": 0.669, \"p\": 27976, \"tpr\": 0.9294037746639977, \"n\": 5328, \"fpr\": 0.19256756756756757}, {\"threshold\": 0.67, \"p\": 27976, \"tpr\": 0.9292607949671147, \"n\": 5328, \"fpr\": 0.19237987987987987}, {\"threshold\": 0.671, \"p\": 27976, \"tpr\": 0.9291535601944524, \"n\": 5328, \"fpr\": 0.1921921921921922}, {\"threshold\": 0.672, \"p\": 27976, \"tpr\": 0.9290463254217901, \"n\": 5328, \"fpr\": 0.1921921921921922}, {\"threshold\": 0.673, \"p\": 27976, \"tpr\": 0.9289390906491278, \"n\": 5328, \"fpr\": 0.1921921921921922}, {\"threshold\": 0.674, \"p\": 27976, \"tpr\": 0.9286888761795825, \"n\": 5328, \"fpr\": 0.19125375375375375}, {\"threshold\": 0.675, \"p\": 27976, \"tpr\": 0.9235773520160138, \"n\": 5328, \"fpr\": 0.18693693693693694}, {\"threshold\": 0.676, \"p\": 27976, \"tpr\": 0.9233628824706892, \"n\": 5328, \"fpr\": 0.18637387387387389}, {\"threshold\": 0.677, \"p\": 27976, \"tpr\": 0.9231484129253646, \"n\": 5328, \"fpr\": 0.18562312312312312}, {\"threshold\": 0.678, \"p\": 27976, \"tpr\": 0.9230411781527024, \"n\": 5328, \"fpr\": 0.18524774774774774}, {\"threshold\": 0.679, \"p\": 27976, \"tpr\": 0.9228981984558192, \"n\": 5328, \"fpr\": 0.18506006006006007}, {\"threshold\": 0.68, \"p\": 27976, \"tpr\": 0.9226837289104947, \"n\": 5328, \"fpr\": 0.18487237237237236}, {\"threshold\": 0.681, \"p\": 27976, \"tpr\": 0.9226479839862739, \"n\": 5328, \"fpr\": 0.18468468468468469}, {\"threshold\": 0.682, \"p\": 27976, \"tpr\": 0.9225050042893909, \"n\": 5328, \"fpr\": 0.1843093093093093}, {\"threshold\": 0.683, \"p\": 27976, \"tpr\": 0.9223977695167286, \"n\": 5328, \"fpr\": 0.18412162162162163}, {\"threshold\": 0.684, \"p\": 27976, \"tpr\": 0.9222905347440663, \"n\": 5328, \"fpr\": 0.18299549549549549}, {\"threshold\": 0.685, \"p\": 27976, \"tpr\": 0.9221475550471833, \"n\": 5328, \"fpr\": 0.1828078078078078}, {\"threshold\": 0.686, \"p\": 27976, \"tpr\": 0.9219688304260795, \"n\": 5328, \"fpr\": 0.18262012012012013}, {\"threshold\": 0.687, \"p\": 27976, \"tpr\": 0.921897340577638, \"n\": 5328, \"fpr\": 0.18205705705705705}, {\"threshold\": 0.688, \"p\": 27976, \"tpr\": 0.9216828710323134, \"n\": 5328, \"fpr\": 0.18093093093093093}, {\"threshold\": 0.689, \"p\": 27976, \"tpr\": 0.9214684014869888, \"n\": 5328, \"fpr\": 0.18018018018018017}, {\"threshold\": 0.69, \"p\": 27976, \"tpr\": 0.921289676865885, \"n\": 5328, \"fpr\": 0.18018018018018017}, {\"threshold\": 0.691, \"p\": 27976, \"tpr\": 0.921146697169002, \"n\": 5328, \"fpr\": 0.17942942942942944}, {\"threshold\": 0.692, \"p\": 27976, \"tpr\": 0.9209679725478982, \"n\": 5328, \"fpr\": 0.17942942942942944}, {\"threshold\": 0.693, \"p\": 27976, \"tpr\": 0.9207177580783529, \"n\": 5328, \"fpr\": 0.17924174174174173}, {\"threshold\": 0.694, \"p\": 27976, \"tpr\": 0.9205390334572491, \"n\": 5328, \"fpr\": 0.17867867867867868}, {\"threshold\": 0.695, \"p\": 27976, \"tpr\": 0.9203603088361453, \"n\": 5328, \"fpr\": 0.17811561561561562}, {\"threshold\": 0.696, \"p\": 27976, \"tpr\": 0.9203245639119245, \"n\": 5328, \"fpr\": 0.17717717717717718}, {\"threshold\": 0.697, \"p\": 27976, \"tpr\": 0.9200028595939377, \"n\": 5328, \"fpr\": 0.17698948948948948}, {\"threshold\": 0.698, \"p\": 27976, \"tpr\": 0.9198598798970546, \"n\": 5328, \"fpr\": 0.17698948948948948}, {\"threshold\": 0.699, \"p\": 27976, \"tpr\": 0.9197883900486131, \"n\": 5328, \"fpr\": 0.17661411411411412}, {\"threshold\": 0.7, \"p\": 27976, \"tpr\": 0.9196811552759508, \"n\": 5328, \"fpr\": 0.17661411411411412}, {\"threshold\": 0.701, \"p\": 27976, \"tpr\": 0.9196096654275093, \"n\": 5328, \"fpr\": 0.17567567567567569}, {\"threshold\": 0.702, \"p\": 27976, \"tpr\": 0.919359450957964, \"n\": 5328, \"fpr\": 0.17567567567567569}, {\"threshold\": 0.703, \"p\": 27976, \"tpr\": 0.919216471261081, \"n\": 5328, \"fpr\": 0.1753003003003003}, {\"threshold\": 0.704, \"p\": 27976, \"tpr\": 0.9191807263368602, \"n\": 5328, \"fpr\": 0.1751126126126126}, {\"threshold\": 0.705, \"p\": 27976, \"tpr\": 0.9191092364884187, \"n\": 5328, \"fpr\": 0.17417417417417416}, {\"threshold\": 0.706, \"p\": 27976, \"tpr\": 0.9188232770946526, \"n\": 5328, \"fpr\": 0.1737987987987988}, {\"threshold\": 0.707, \"p\": 27976, \"tpr\": 0.9185373177008864, \"n\": 5328, \"fpr\": 0.17267267267267267}, {\"threshold\": 0.708, \"p\": 27976, \"tpr\": 0.9183585930797826, \"n\": 5328, \"fpr\": 0.172484984984985}, {\"threshold\": 0.709, \"p\": 27976, \"tpr\": 0.9180726336860165, \"n\": 5328, \"fpr\": 0.1721096096096096}, {\"threshold\": 0.71, \"p\": 27976, \"tpr\": 0.9178224192164712, \"n\": 5328, \"fpr\": 0.1709834834834835}, {\"threshold\": 0.711, \"p\": 27976, \"tpr\": 0.9176436945953674, \"n\": 5328, \"fpr\": 0.1707957957957958}, {\"threshold\": 0.712, \"p\": 27976, \"tpr\": 0.9173934801258221, \"n\": 5328, \"fpr\": 0.1707957957957958}, {\"threshold\": 0.713, \"p\": 27976, \"tpr\": 0.9170717758078353, \"n\": 5328, \"fpr\": 0.1704204204204204}, {\"threshold\": 0.714, \"p\": 27976, \"tpr\": 0.9168930511867315, \"n\": 5328, \"fpr\": 0.16948198198198197}, {\"threshold\": 0.715, \"p\": 27976, \"tpr\": 0.9167143265656277, \"n\": 5328, \"fpr\": 0.16910660660660662}, {\"threshold\": 0.716, \"p\": 27976, \"tpr\": 0.9164998570203031, \"n\": 5328, \"fpr\": 0.16891891891891891}, {\"threshold\": 0.717, \"p\": 27976, \"tpr\": 0.9162496425507578, \"n\": 5328, \"fpr\": 0.16854354354354353}, {\"threshold\": 0.718, \"p\": 27976, \"tpr\": 0.9161066628538748, \"n\": 5328, \"fpr\": 0.16798048048048048}, {\"threshold\": 0.719, \"p\": 27976, \"tpr\": 0.9160351730054332, \"n\": 5328, \"fpr\": 0.1676051051051051}, {\"threshold\": 0.72, \"p\": 27976, \"tpr\": 0.9159994280812125, \"n\": 5328, \"fpr\": 0.16741741741741742}, {\"threshold\": 0.721, \"p\": 27976, \"tpr\": 0.9157849585358879, \"n\": 5328, \"fpr\": 0.16704204204204204}, {\"threshold\": 0.722, \"p\": 27976, \"tpr\": 0.9154632542179011, \"n\": 5328, \"fpr\": 0.1661036036036036}, {\"threshold\": 0.723, \"p\": 27976, \"tpr\": 0.9152845295967973, \"n\": 5328, \"fpr\": 0.16591591591591592}, {\"threshold\": 0.724, \"p\": 27976, \"tpr\": 0.9151058049756935, \"n\": 5328, \"fpr\": 0.16591591591591592}, {\"threshold\": 0.725, \"p\": 27976, \"tpr\": 0.9149628252788105, \"n\": 5328, \"fpr\": 0.16554054054054054}, {\"threshold\": 0.726, \"p\": 27976, \"tpr\": 0.9146411209608236, \"n\": 5328, \"fpr\": 0.16516516516516516}, {\"threshold\": 0.727, \"p\": 27976, \"tpr\": 0.9143909064912782, \"n\": 5328, \"fpr\": 0.16497747747747749}, {\"threshold\": 0.728, \"p\": 27976, \"tpr\": 0.9143194166428367, \"n\": 5328, \"fpr\": 0.16478978978978978}, {\"threshold\": 0.729, \"p\": 27976, \"tpr\": 0.9141764369459536, \"n\": 5328, \"fpr\": 0.1646021021021021}, {\"threshold\": 0.73, \"p\": 27976, \"tpr\": 0.9140334572490706, \"n\": 5328, \"fpr\": 0.16422672672672672}, {\"threshold\": 0.731, \"p\": 27976, \"tpr\": 0.9137474978553045, \"n\": 5328, \"fpr\": 0.16366366366366367}, {\"threshold\": 0.732, \"p\": 27976, \"tpr\": 0.9136045181584215, \"n\": 5328, \"fpr\": 0.1629129129129129}, {\"threshold\": 0.733, \"p\": 27976, \"tpr\": 0.9132470689162139, \"n\": 5328, \"fpr\": 0.16272522522522523}, {\"threshold\": 0.734, \"p\": 27976, \"tpr\": 0.9130683442951101, \"n\": 5328, \"fpr\": 0.16253753753753752}, {\"threshold\": 0.735, \"p\": 27976, \"tpr\": 0.912925364598227, \"n\": 5328, \"fpr\": 0.16234984984984985}, {\"threshold\": 0.736, \"p\": 27976, \"tpr\": 0.9126751501286817, \"n\": 5328, \"fpr\": 0.16216216216216217}, {\"threshold\": 0.737, \"p\": 27976, \"tpr\": 0.9125321704317987, \"n\": 5328, \"fpr\": 0.16216216216216217}, {\"threshold\": 0.738, \"p\": 27976, \"tpr\": 0.9123534458106949, \"n\": 5328, \"fpr\": 0.16159909909909909}, {\"threshold\": 0.739, \"p\": 27976, \"tpr\": 0.9120674864169288, \"n\": 5328, \"fpr\": 0.16103603603603603}, {\"threshold\": 0.74, \"p\": 27976, \"tpr\": 0.9119602516442665, \"n\": 5328, \"fpr\": 0.16066066066066065}, {\"threshold\": 0.741, \"p\": 27976, \"tpr\": 0.9118172719473835, \"n\": 5328, \"fpr\": 0.15990990990990991}, {\"threshold\": 0.742, \"p\": 27976, \"tpr\": 0.9116028024020589, \"n\": 5328, \"fpr\": 0.1597222222222222}, {\"threshold\": 0.743, \"p\": 27976, \"tpr\": 0.9114598227051759, \"n\": 5328, \"fpr\": 0.15915915915915915}, {\"threshold\": 0.744, \"p\": 27976, \"tpr\": 0.9112096082356306, \"n\": 5328, \"fpr\": 0.1585960960960961}, {\"threshold\": 0.745, \"p\": 27976, \"tpr\": 0.9110308836145268, \"n\": 5328, \"fpr\": 0.15840840840840842}, {\"threshold\": 0.746, \"p\": 27976, \"tpr\": 0.9107091792965399, \"n\": 5328, \"fpr\": 0.15822072072072071}, {\"threshold\": 0.747, \"p\": 27976, \"tpr\": 0.9106019445238777, \"n\": 5328, \"fpr\": 0.15784534534534533}, {\"threshold\": 0.748, \"p\": 27976, \"tpr\": 0.91024449528167, \"n\": 5328, \"fpr\": 0.15765765765765766}, {\"threshold\": 0.749, \"p\": 27976, \"tpr\": 0.9099227909636831, \"n\": 5328, \"fpr\": 0.15746996996996998}, {\"threshold\": 0.75, \"p\": 27976, \"tpr\": 0.9097083214183586, \"n\": 5328, \"fpr\": 0.1570945945945946}, {\"threshold\": 0.751, \"p\": 27976, \"tpr\": 0.9095653417214755, \"n\": 5328, \"fpr\": 0.15578078078078078}, {\"threshold\": 0.752, \"p\": 27976, \"tpr\": 0.909350872176151, \"n\": 5328, \"fpr\": 0.1555930930930931}, {\"threshold\": 0.753, \"p\": 27976, \"tpr\": 0.9091006577066056, \"n\": 5328, \"fpr\": 0.15446696696696696}, {\"threshold\": 0.754, \"p\": 27976, \"tpr\": 0.9090291678581641, \"n\": 5328, \"fpr\": 0.15427927927927929}, {\"threshold\": 0.755, \"p\": 27976, \"tpr\": 0.9088504432370603, \"n\": 5328, \"fpr\": 0.15427927927927929}, {\"threshold\": 0.756, \"p\": 27976, \"tpr\": 0.9086359736917358, \"n\": 5328, \"fpr\": 0.1539039039039039}, {\"threshold\": 0.757, \"p\": 27976, \"tpr\": 0.9082785244495282, \"n\": 5328, \"fpr\": 0.15371621621621623}, {\"threshold\": 0.758, \"p\": 27976, \"tpr\": 0.9080283099799829, \"n\": 5328, \"fpr\": 0.15296546546546547}, {\"threshold\": 0.759, \"p\": 27976, \"tpr\": 0.907563625965113, \"n\": 5328, \"fpr\": 0.1524024024024024}, {\"threshold\": 0.76, \"p\": 27976, \"tpr\": 0.9073134114955677, \"n\": 5328, \"fpr\": 0.1522147147147147}, {\"threshold\": 0.761, \"p\": 27976, \"tpr\": 0.9070274521018016, \"n\": 5328, \"fpr\": 0.15183933933933935}, {\"threshold\": 0.762, \"p\": 27976, \"tpr\": 0.906670002859594, \"n\": 5328, \"fpr\": 0.15146396396396397}, {\"threshold\": 0.763, \"p\": 27976, \"tpr\": 0.9065627680869317, \"n\": 5328, \"fpr\": 0.15090090090090091}, {\"threshold\": 0.764, \"p\": 27976, \"tpr\": 0.9061338289962825, \"n\": 5328, \"fpr\": 0.15052552552552553}, {\"threshold\": 0.765, \"p\": 27976, \"tpr\": 0.9058836145267372, \"n\": 5328, \"fpr\": 0.15015015015015015}, {\"threshold\": 0.766, \"p\": 27976, \"tpr\": 0.9057406348298541, \"n\": 5328, \"fpr\": 0.1495870870870871}, {\"threshold\": 0.767, \"p\": 27976, \"tpr\": 0.9054189305118673, \"n\": 5328, \"fpr\": 0.1493993993993994}, {\"threshold\": 0.768, \"p\": 27976, \"tpr\": 0.9052759508149842, \"n\": 5328, \"fpr\": 0.14921171171171171}, {\"threshold\": 0.769, \"p\": 27976, \"tpr\": 0.9049542464969974, \"n\": 5328, \"fpr\": 0.14883633633633633}, {\"threshold\": 0.77, \"p\": 27976, \"tpr\": 0.9047755218758936, \"n\": 5328, \"fpr\": 0.14883633633633633}, {\"threshold\": 0.771, \"p\": 27976, \"tpr\": 0.904418072633686, \"n\": 5328, \"fpr\": 0.14846096096096095}, {\"threshold\": 0.772, \"p\": 27976, \"tpr\": 0.9040963683156992, \"n\": 5328, \"fpr\": 0.14827327327327328}, {\"threshold\": 0.773, \"p\": 27976, \"tpr\": 0.9038104089219331, \"n\": 5328, \"fpr\": 0.14771021021021022}, {\"threshold\": 0.774, \"p\": 27976, \"tpr\": 0.9035959393766085, \"n\": 5328, \"fpr\": 0.14714714714714713}, {\"threshold\": 0.775, \"p\": 27976, \"tpr\": 0.9034172147555047, \"n\": 5328, \"fpr\": 0.14677177177177178}, {\"threshold\": 0.776, \"p\": 27976, \"tpr\": 0.903381469831284, \"n\": 5328, \"fpr\": 0.1462087087087087}, {\"threshold\": 0.777, \"p\": 27976, \"tpr\": 0.9031312553617387, \"n\": 5328, \"fpr\": 0.14545795795795796}, {\"threshold\": 0.778, \"p\": 27976, \"tpr\": 0.9028810408921933, \"n\": 5328, \"fpr\": 0.14527027027027026}, {\"threshold\": 0.779, \"p\": 27976, \"tpr\": 0.902487846725765, \"n\": 5328, \"fpr\": 0.1447072072072072}, {\"threshold\": 0.78, \"p\": 27976, \"tpr\": 0.9022018873319989, \"n\": 5328, \"fpr\": 0.1447072072072072}, {\"threshold\": 0.781, \"p\": 27976, \"tpr\": 0.9020946525593366, \"n\": 5328, \"fpr\": 0.14451951951951952}, {\"threshold\": 0.782, \"p\": 27976, \"tpr\": 0.9017372033171289, \"n\": 5328, \"fpr\": 0.14395645645645647}, {\"threshold\": 0.783, \"p\": 27976, \"tpr\": 0.9015227337718044, \"n\": 5328, \"fpr\": 0.14395645645645647}, {\"threshold\": 0.784, \"p\": 27976, \"tpr\": 0.9012367743780383, \"n\": 5328, \"fpr\": 0.14395645645645647}, {\"threshold\": 0.785, \"p\": 27976, \"tpr\": 0.900986559908493, \"n\": 5328, \"fpr\": 0.14358108108108109}, {\"threshold\": 0.786, \"p\": 27976, \"tpr\": 0.9007363454389476, \"n\": 5328, \"fpr\": 0.14358108108108109}, {\"threshold\": 0.787, \"p\": 27976, \"tpr\": 0.9004146411209608, \"n\": 5328, \"fpr\": 0.14283033033033032}, {\"threshold\": 0.788, \"p\": 27976, \"tpr\": 0.900235916499857, \"n\": 5328, \"fpr\": 0.14245495495495494}, {\"threshold\": 0.789, \"p\": 27976, \"tpr\": 0.8999857020303117, \"n\": 5328, \"fpr\": 0.1415165165165165}, {\"threshold\": 0.79, \"p\": 27976, \"tpr\": 0.8997354875607664, \"n\": 5328, \"fpr\": 0.1415165165165165}, {\"threshold\": 0.791, \"p\": 27976, \"tpr\": 0.8994852730912211, \"n\": 5328, \"fpr\": 0.14132882882882883}, {\"threshold\": 0.792, \"p\": 27976, \"tpr\": 0.8992350586216757, \"n\": 5328, \"fpr\": 0.14076576576576577}, {\"threshold\": 0.793, \"p\": 27976, \"tpr\": 0.8989848441521304, \"n\": 5328, \"fpr\": 0.1403903903903904}, {\"threshold\": 0.794, \"p\": 27976, \"tpr\": 0.8986988847583643, \"n\": 5328, \"fpr\": 0.13982732732732733}, {\"threshold\": 0.795, \"p\": 27976, \"tpr\": 0.898448670288819, \"n\": 5328, \"fpr\": 0.13945195195195195}, {\"threshold\": 0.796, \"p\": 27976, \"tpr\": 0.898162710895053, \"n\": 5328, \"fpr\": 0.1387012012012012}, {\"threshold\": 0.797, \"p\": 27976, \"tpr\": 0.8979482413497284, \"n\": 5328, \"fpr\": 0.13813813813813813}, {\"threshold\": 0.798, \"p\": 27976, \"tpr\": 0.897698026880183, \"n\": 5328, \"fpr\": 0.13776276276276275}, {\"threshold\": 0.799, \"p\": 27976, \"tpr\": 0.8974478124106376, \"n\": 5328, \"fpr\": 0.1371996996996997}, {\"threshold\": 0.8, \"p\": 27976, \"tpr\": 0.8974120674864169, \"n\": 5328, \"fpr\": 0.13701201201201202}, {\"threshold\": 0.801, \"p\": 27976, \"tpr\": 0.89709036316843, \"n\": 5328, \"fpr\": 0.13663663663663664}, {\"threshold\": 0.802, \"p\": 27976, \"tpr\": 0.8967686588504432, \"n\": 5328, \"fpr\": 0.13607357357357358}, {\"threshold\": 0.803, \"p\": 27976, \"tpr\": 0.8964112096082356, \"n\": 5328, \"fpr\": 0.1356981981981982}, {\"threshold\": 0.804, \"p\": 27976, \"tpr\": 0.8959822705175865, \"n\": 5328, \"fpr\": 0.1356981981981982}, {\"threshold\": 0.805, \"p\": 27976, \"tpr\": 0.8956248212753789, \"n\": 5328, \"fpr\": 0.13494744744744744}, {\"threshold\": 0.806, \"p\": 27976, \"tpr\": 0.8954460966542751, \"n\": 5328, \"fpr\": 0.13494744744744744}, {\"threshold\": 0.807, \"p\": 27976, \"tpr\": 0.8952316271089505, \"n\": 5328, \"fpr\": 0.13475975975975976}, {\"threshold\": 0.808, \"p\": 27976, \"tpr\": 0.8950886474120675, \"n\": 5328, \"fpr\": 0.1341966966966967}, {\"threshold\": 0.809, \"p\": 27976, \"tpr\": 0.8945524735487561, \"n\": 5328, \"fpr\": 0.13363363363363365}, {\"threshold\": 0.81, \"p\": 27976, \"tpr\": 0.8941592793823278, \"n\": 5328, \"fpr\": 0.13344594594594594}, {\"threshold\": 0.811, \"p\": 27976, \"tpr\": 0.8938375750643409, \"n\": 5328, \"fpr\": 0.13325825825825827}, {\"threshold\": 0.812, \"p\": 27976, \"tpr\": 0.8936945953674578, \"n\": 5328, \"fpr\": 0.13288288288288289}, {\"threshold\": 0.813, \"p\": 27976, \"tpr\": 0.8934801258221332, \"n\": 5328, \"fpr\": 0.13269519519519518}, {\"threshold\": 0.814, \"p\": 27976, \"tpr\": 0.8930869316557049, \"n\": 5328, \"fpr\": 0.13269519519519518}, {\"threshold\": 0.815, \"p\": 27976, \"tpr\": 0.8926937374892765, \"n\": 5328, \"fpr\": 0.13213213213213212}, {\"threshold\": 0.816, \"p\": 27976, \"tpr\": 0.8925865027166142, \"n\": 5328, \"fpr\": 0.13194444444444445}, {\"threshold\": 0.817, \"p\": 27976, \"tpr\": 0.8922647983986274, \"n\": 5328, \"fpr\": 0.131006006006006}, {\"threshold\": 0.818, \"p\": 27976, \"tpr\": 0.8920145839290821, \"n\": 5328, \"fpr\": 0.131006006006006}, {\"threshold\": 0.819, \"p\": 27976, \"tpr\": 0.891728624535316, \"n\": 5328, \"fpr\": 0.1308183183183183}, {\"threshold\": 0.82, \"p\": 27976, \"tpr\": 0.8910852158993423, \"n\": 5328, \"fpr\": 0.1308183183183183}, {\"threshold\": 0.821, \"p\": 27976, \"tpr\": 0.8907277666571347, \"n\": 5328, \"fpr\": 0.13006756756756757}, {\"threshold\": 0.822, \"p\": 27976, \"tpr\": 0.8902988275664856, \"n\": 5328, \"fpr\": 0.13006756756756757}, {\"threshold\": 0.823, \"p\": 27976, \"tpr\": 0.8899056334000572, \"n\": 5328, \"fpr\": 0.12987987987987987}, {\"threshold\": 0.824, \"p\": 27976, \"tpr\": 0.8895839290820704, \"n\": 5328, \"fpr\": 0.12950450450450451}, {\"threshold\": 0.825, \"p\": 27976, \"tpr\": 0.8891907349156419, \"n\": 5328, \"fpr\": 0.12856606606606608}, {\"threshold\": 0.826, \"p\": 27976, \"tpr\": 0.8886903059765513, \"n\": 5328, \"fpr\": 0.128003003003003}, {\"threshold\": 0.827, \"p\": 27976, \"tpr\": 0.8882971118101229, \"n\": 5328, \"fpr\": 0.12762762762762764}, {\"threshold\": 0.828, \"p\": 27976, \"tpr\": 0.8880468973405776, \"n\": 5328, \"fpr\": 0.12706456456456455}, {\"threshold\": 0.829, \"p\": 27976, \"tpr\": 0.8878324277952531, \"n\": 5328, \"fpr\": 0.1266891891891892}, {\"threshold\": 0.83, \"p\": 27976, \"tpr\": 0.8874749785530455, \"n\": 5328, \"fpr\": 0.1265015015015015}, {\"threshold\": 0.831, \"p\": 27976, \"tpr\": 0.8873319988561624, \"n\": 5328, \"fpr\": 0.12518768768768768}, {\"threshold\": 0.832, \"p\": 27976, \"tpr\": 0.8868673148412926, \"n\": 5328, \"fpr\": 0.12481231231231231}, {\"threshold\": 0.833, \"p\": 27976, \"tpr\": 0.8864741206748642, \"n\": 5328, \"fpr\": 0.12406156156156156}, {\"threshold\": 0.834, \"p\": 27976, \"tpr\": 0.8860094366599943, \"n\": 5328, \"fpr\": 0.12368618618618618}, {\"threshold\": 0.835, \"p\": 27976, \"tpr\": 0.8856877323420075, \"n\": 5328, \"fpr\": 0.12293543543543543}, {\"threshold\": 0.836, \"p\": 27976, \"tpr\": 0.8852230483271375, \"n\": 5328, \"fpr\": 0.12218468468468469}, {\"threshold\": 0.837, \"p\": 27976, \"tpr\": 0.8849728338575922, \"n\": 5328, \"fpr\": 0.1218093093093093}, {\"threshold\": 0.838, \"p\": 27976, \"tpr\": 0.8847941092364884, \"n\": 5328, \"fpr\": 0.12143393393393394}, {\"threshold\": 0.839, \"p\": 27976, \"tpr\": 0.884257935373177, \"n\": 5328, \"fpr\": 0.12143393393393394}, {\"threshold\": 0.84, \"p\": 27976, \"tpr\": 0.8836502716614241, \"n\": 5328, \"fpr\": 0.12068318318318318}, {\"threshold\": 0.841, \"p\": 27976, \"tpr\": 0.8834358021160995, \"n\": 5328, \"fpr\": 0.12030780780780781}, {\"threshold\": 0.842, \"p\": 27976, \"tpr\": 0.8828281384043466, \"n\": 5328, \"fpr\": 0.11974474474474474}, {\"threshold\": 0.843, \"p\": 27976, \"tpr\": 0.882327709465256, \"n\": 5328, \"fpr\": 0.11955705705705706}, {\"threshold\": 0.844, \"p\": 27976, \"tpr\": 0.8816485559050615, \"n\": 5328, \"fpr\": 0.11861861861861862}, {\"threshold\": 0.845, \"p\": 27976, \"tpr\": 0.8813983414355162, \"n\": 5328, \"fpr\": 0.11786786786786786}, {\"threshold\": 0.846, \"p\": 27976, \"tpr\": 0.88111238204175, \"n\": 5328, \"fpr\": 0.11768018018018019}, {\"threshold\": 0.847, \"p\": 27976, \"tpr\": 0.8807906777237632, \"n\": 5328, \"fpr\": 0.1174924924924925}, {\"threshold\": 0.848, \"p\": 27976, \"tpr\": 0.8805404632542179, \"n\": 5328, \"fpr\": 0.11655405405405406}, {\"threshold\": 0.849, \"p\": 27976, \"tpr\": 0.8801115241635687, \"n\": 5328, \"fpr\": 0.11636636636636637}, {\"threshold\": 0.85, \"p\": 27976, \"tpr\": 0.8797183299971404, \"n\": 5328, \"fpr\": 0.11617867867867868}, {\"threshold\": 0.851, \"p\": 27976, \"tpr\": 0.879325135830712, \"n\": 5328, \"fpr\": 0.11599099099099099}, {\"threshold\": 0.852, \"p\": 27976, \"tpr\": 0.8788604518158422, \"n\": 5328, \"fpr\": 0.11580330330330331}, {\"threshold\": 0.853, \"p\": 27976, \"tpr\": 0.878431512725193, \"n\": 5328, \"fpr\": 0.11505255255255255}, {\"threshold\": 0.854, \"p\": 27976, \"tpr\": 0.8780383185587647, \"n\": 5328, \"fpr\": 0.11467717717717718}, {\"threshold\": 0.855, \"p\": 27976, \"tpr\": 0.8773234200743495, \"n\": 5328, \"fpr\": 0.11411411411411411}, {\"threshold\": 0.856, \"p\": 27976, \"tpr\": 0.8767515012868172, \"n\": 5328, \"fpr\": 0.11392642642642643}, {\"threshold\": 0.857, \"p\": 27976, \"tpr\": 0.8765012868172719, \"n\": 5328, \"fpr\": 0.11373873873873874}, {\"threshold\": 0.858, \"p\": 27976, \"tpr\": 0.8761080926508436, \"n\": 5328, \"fpr\": 0.11298798798798798}, {\"threshold\": 0.859, \"p\": 27976, \"tpr\": 0.8755361738633114, \"n\": 5328, \"fpr\": 0.11298798798798798}, {\"threshold\": 0.86, \"p\": 27976, \"tpr\": 0.8750714898484415, \"n\": 5328, \"fpr\": 0.1128003003003003}, {\"threshold\": 0.861, \"p\": 27976, \"tpr\": 0.8748212753788962, \"n\": 5328, \"fpr\": 0.11223723723723723}, {\"threshold\": 0.862, \"p\": 27976, \"tpr\": 0.8744280812124678, \"n\": 5328, \"fpr\": 0.11204954954954954}, {\"threshold\": 0.863, \"p\": 27976, \"tpr\": 0.8740348870460395, \"n\": 5328, \"fpr\": 0.11186186186186187}, {\"threshold\": 0.864, \"p\": 27976, \"tpr\": 0.8737131827280527, \"n\": 5328, \"fpr\": 0.1111111111111111}, {\"threshold\": 0.865, \"p\": 27976, \"tpr\": 0.8731412639405205, \"n\": 5328, \"fpr\": 0.10998498498498499}, {\"threshold\": 0.866, \"p\": 27976, \"tpr\": 0.8724263654561052, \"n\": 5328, \"fpr\": 0.10942192192192192}, {\"threshold\": 0.867, \"p\": 27976, \"tpr\": 0.8720689162138976, \"n\": 5328, \"fpr\": 0.10885885885885886}, {\"threshold\": 0.868, \"p\": 27976, \"tpr\": 0.8715327423505862, \"n\": 5328, \"fpr\": 0.10867117117117117}, {\"threshold\": 0.869, \"p\": 27976, \"tpr\": 0.8712467829568201, \"n\": 5328, \"fpr\": 0.10829579579579579}, {\"threshold\": 0.87, \"p\": 27976, \"tpr\": 0.8707106090935087, \"n\": 5328, \"fpr\": 0.10754504504504504}, {\"threshold\": 0.871, \"p\": 27976, \"tpr\": 0.8704603946239634, \"n\": 5328, \"fpr\": 0.10716966966966968}, {\"threshold\": 0.872, \"p\": 27976, \"tpr\": 0.8699957106090935, \"n\": 5328, \"fpr\": 0.10623123123123124}, {\"threshold\": 0.873, \"p\": 27976, \"tpr\": 0.8693523019731199, \"n\": 5328, \"fpr\": 0.10566816816816817}, {\"threshold\": 0.874, \"p\": 27976, \"tpr\": 0.8689948527309123, \"n\": 5328, \"fpr\": 0.10529279279279279}, {\"threshold\": 0.875, \"p\": 27976, \"tpr\": 0.86842293394338, \"n\": 5328, \"fpr\": 0.10472972972972973}, {\"threshold\": 0.876, \"p\": 27976, \"tpr\": 0.8681012296253932, \"n\": 5328, \"fpr\": 0.10397897897897898}, {\"threshold\": 0.877, \"p\": 27976, \"tpr\": 0.8674578209894195, \"n\": 5328, \"fpr\": 0.10322822822822823}, {\"threshold\": 0.878, \"p\": 27976, \"tpr\": 0.8669573920503288, \"n\": 5328, \"fpr\": 0.1022897897897898}, {\"threshold\": 0.879, \"p\": 27976, \"tpr\": 0.8664569631112382, \"n\": 5328, \"fpr\": 0.10191441441441441}, {\"threshold\": 0.88, \"p\": 27976, \"tpr\": 0.8656705747783815, \"n\": 5328, \"fpr\": 0.10172672672672672}, {\"threshold\": 0.881, \"p\": 27976, \"tpr\": 0.8649199313697455, \"n\": 5328, \"fpr\": 0.10135135135135136}, {\"threshold\": 0.882, \"p\": 27976, \"tpr\": 0.8643480125822133, \"n\": 5328, \"fpr\": 0.10078828828828829}, {\"threshold\": 0.883, \"p\": 27976, \"tpr\": 0.8637403488704604, \"n\": 5328, \"fpr\": 0.10041291291291292}, {\"threshold\": 0.884, \"p\": 27976, \"tpr\": 0.8629897054618244, \"n\": 5328, \"fpr\": 0.09947447447447448}, {\"threshold\": 0.885, \"p\": 27976, \"tpr\": 0.8621318272805262, \"n\": 5328, \"fpr\": 0.0990990990990991}, {\"threshold\": 0.886, \"p\": 27976, \"tpr\": 0.8617386331140978, \"n\": 5328, \"fpr\": 0.09891141141141141}, {\"threshold\": 0.887, \"p\": 27976, \"tpr\": 0.8609522447812411, \"n\": 5328, \"fpr\": 0.09853603603603604}, {\"threshold\": 0.888, \"p\": 27976, \"tpr\": 0.8602730912210466, \"n\": 5328, \"fpr\": 0.09816066066066066}, {\"threshold\": 0.889, \"p\": 27976, \"tpr\": 0.8598441521303974, \"n\": 5328, \"fpr\": 0.09778528528528528}, {\"threshold\": 0.89, \"p\": 27976, \"tpr\": 0.8592364884186445, \"n\": 5328, \"fpr\": 0.09628378378378379}, {\"threshold\": 0.891, \"p\": 27976, \"tpr\": 0.8583071203889048, \"n\": 5328, \"fpr\": 0.0959084084084084}, {\"threshold\": 0.892, \"p\": 27976, \"tpr\": 0.8576637117529311, \"n\": 5328, \"fpr\": 0.09515765765765766}, {\"threshold\": 0.893, \"p\": 27976, \"tpr\": 0.8569488132685159, \"n\": 5328, \"fpr\": 0.09478228228228228}, {\"threshold\": 0.894, \"p\": 27976, \"tpr\": 0.856019445238776, \"n\": 5328, \"fpr\": 0.09384384384384384}, {\"threshold\": 0.895, \"p\": 27976, \"tpr\": 0.8553402916785816, \"n\": 5328, \"fpr\": 0.09346846846846847}, {\"threshold\": 0.896, \"p\": 27976, \"tpr\": 0.8545181584215041, \"n\": 5328, \"fpr\": 0.09346846846846847}, {\"threshold\": 0.897, \"p\": 27976, \"tpr\": 0.8538032599370889, \"n\": 5328, \"fpr\": 0.09328078078078078}, {\"threshold\": 0.898, \"p\": 27976, \"tpr\": 0.853195596225336, \"n\": 5328, \"fpr\": 0.0929054054054054}, {\"threshold\": 0.899, \"p\": 27976, \"tpr\": 0.8524092078924793, \"n\": 5328, \"fpr\": 0.09234234234234234}, {\"threshold\": 0.9, \"p\": 27976, \"tpr\": 0.8517300543322848, \"n\": 5328, \"fpr\": 0.09196696696696696}, {\"threshold\": 0.901, \"p\": 27976, \"tpr\": 0.8510509007720903, \"n\": 5328, \"fpr\": 0.09102852852852852}, {\"threshold\": 0.902, \"p\": 27976, \"tpr\": 0.8503717472118959, \"n\": 5328, \"fpr\": 0.09084084084084085}, {\"threshold\": 0.903, \"p\": 27976, \"tpr\": 0.8500500428939091, \"n\": 5328, \"fpr\": 0.09027777777777778}, {\"threshold\": 0.904, \"p\": 27976, \"tpr\": 0.8492279096368316, \"n\": 5328, \"fpr\": 0.09009009009009009}, {\"threshold\": 0.905, \"p\": 27976, \"tpr\": 0.8486559908492994, \"n\": 5328, \"fpr\": 0.08915165165165165}, {\"threshold\": 0.906, \"p\": 27976, \"tpr\": 0.8477266228195596, \"n\": 5328, \"fpr\": 0.08802552552552552}, {\"threshold\": 0.907, \"p\": 27976, \"tpr\": 0.8468687446382613, \"n\": 5328, \"fpr\": 0.08727477477477477}, {\"threshold\": 0.908, \"p\": 27976, \"tpr\": 0.8458321418358593, \"n\": 5328, \"fpr\": 0.08633633633633633}, {\"threshold\": 0.909, \"p\": 27976, \"tpr\": 0.8447955390334573, \"n\": 5328, \"fpr\": 0.08614864864864864}, {\"threshold\": 0.91, \"p\": 27976, \"tpr\": 0.843937660852159, \"n\": 5328, \"fpr\": 0.08596096096096097}, {\"threshold\": 0.911, \"p\": 27976, \"tpr\": 0.8430082928224192, \"n\": 5328, \"fpr\": 0.0852102102102102}, {\"threshold\": 0.912, \"p\": 27976, \"tpr\": 0.8423291392622247, \"n\": 5328, \"fpr\": 0.08502252252252253}, {\"threshold\": 0.913, \"p\": 27976, \"tpr\": 0.8416142407778096, \"n\": 5328, \"fpr\": 0.08464714714714715}, {\"threshold\": 0.914, \"p\": 27976, \"tpr\": 0.8409350872176151, \"n\": 5328, \"fpr\": 0.08464714714714715}, {\"threshold\": 0.915, \"p\": 27976, \"tpr\": 0.8398269945667716, \"n\": 5328, \"fpr\": 0.08427177177177177}, {\"threshold\": 0.916, \"p\": 27976, \"tpr\": 0.8389333714612525, \"n\": 5328, \"fpr\": 0.08370870870870871}, {\"threshold\": 0.917, \"p\": 27976, \"tpr\": 0.8375393194166428, \"n\": 5328, \"fpr\": 0.08295795795795796}, {\"threshold\": 0.918, \"p\": 27976, \"tpr\": 0.8362525021446955, \"n\": 5328, \"fpr\": 0.08295795795795796}, {\"threshold\": 0.919, \"p\": 27976, \"tpr\": 0.8353588790391764, \"n\": 5328, \"fpr\": 0.08239489489489489}, {\"threshold\": 0.92, \"p\": 27976, \"tpr\": 0.833929082070346, \"n\": 5328, \"fpr\": 0.08164414414414414}, {\"threshold\": 0.921, \"p\": 27976, \"tpr\": 0.8329282241921647, \"n\": 5328, \"fpr\": 0.08126876876876876}, {\"threshold\": 0.922, \"p\": 27976, \"tpr\": 0.8317843866171004, \"n\": 5328, \"fpr\": 0.08033033033033032}, {\"threshold\": 0.923, \"p\": 27976, \"tpr\": 0.830640549042036, \"n\": 5328, \"fpr\": 0.07957957957957958}, {\"threshold\": 0.924, \"p\": 27976, \"tpr\": 0.8297111810122962, \"n\": 5328, \"fpr\": 0.07920420420420421}, {\"threshold\": 0.925, \"p\": 27976, \"tpr\": 0.8289247926794395, \"n\": 5328, \"fpr\": 0.07882882882882883}, {\"threshold\": 0.926, \"p\": 27976, \"tpr\": 0.8276022304832714, \"n\": 5328, \"fpr\": 0.07789039039039039}, {\"threshold\": 0.927, \"p\": 27976, \"tpr\": 0.8264226479839862, \"n\": 5328, \"fpr\": 0.07789039039039039}, {\"threshold\": 0.928, \"p\": 27976, \"tpr\": 0.8254575350300257, \"n\": 5328, \"fpr\": 0.0777027027027027}, {\"threshold\": 0.929, \"p\": 27976, \"tpr\": 0.8240992279096369, \"n\": 5328, \"fpr\": 0.07695195195195195}, {\"threshold\": 0.93, \"p\": 27976, \"tpr\": 0.8228839004861309, \"n\": 5328, \"fpr\": 0.0762012012012012}, {\"threshold\": 0.931, \"p\": 27976, \"tpr\": 0.8213111238204175, \"n\": 5328, \"fpr\": 0.07507507507507508}, {\"threshold\": 0.932, \"p\": 27976, \"tpr\": 0.8199170717758079, \"n\": 5328, \"fpr\": 0.07488738738738739}, {\"threshold\": 0.933, \"p\": 27976, \"tpr\": 0.8187374892765227, \"n\": 5328, \"fpr\": 0.07488738738738739}, {\"threshold\": 0.934, \"p\": 27976, \"tpr\": 0.81720045753503, \"n\": 5328, \"fpr\": 0.0746996996996997}, {\"threshold\": 0.935, \"p\": 27976, \"tpr\": 0.8156634257935373, \"n\": 5328, \"fpr\": 0.07451201201201202}, {\"threshold\": 0.936, \"p\": 27976, \"tpr\": 0.8144480983700314, \"n\": 5328, \"fpr\": 0.07394894894894895}, {\"threshold\": 0.937, \"p\": 27976, \"tpr\": 0.8133400057191879, \"n\": 5328, \"fpr\": 0.07338588588588589}, {\"threshold\": 0.938, \"p\": 27976, \"tpr\": 0.8118744638261367, \"n\": 5328, \"fpr\": 0.07301051051051051}, {\"threshold\": 0.939, \"p\": 27976, \"tpr\": 0.8103374320846439, \"n\": 5328, \"fpr\": 0.07263513513513513}, {\"threshold\": 0.94, \"p\": 27976, \"tpr\": 0.8085144409493852, \"n\": 5328, \"fpr\": 0.07188438438438438}, {\"threshold\": 0.941, \"p\": 27976, \"tpr\": 0.8071918787532171, \"n\": 5328, \"fpr\": 0.07132132132132132}, {\"threshold\": 0.942, \"p\": 27976, \"tpr\": 0.8057620817843866, \"n\": 5328, \"fpr\": 0.07057057057057058}, {\"threshold\": 0.943, \"p\": 27976, \"tpr\": 0.8042250500428939, \"n\": 5328, \"fpr\": 0.07038288288288289}, {\"threshold\": 0.944, \"p\": 27976, \"tpr\": 0.8027952530740635, \"n\": 5328, \"fpr\": 0.06963213213213214}, {\"threshold\": 0.945, \"p\": 27976, \"tpr\": 0.8011867314841292, \"n\": 5328, \"fpr\": 0.06925675675675676}, {\"threshold\": 0.946, \"p\": 27976, \"tpr\": 0.7993279954246497, \"n\": 5328, \"fpr\": 0.06888138138138138}, {\"threshold\": 0.947, \"p\": 27976, \"tpr\": 0.7976479839862739, \"n\": 5328, \"fpr\": 0.06794294294294294}, {\"threshold\": 0.948, \"p\": 27976, \"tpr\": 0.7962539319416643, \"n\": 5328, \"fpr\": 0.06737987987987988}, {\"threshold\": 0.949, \"p\": 27976, \"tpr\": 0.7946096654275093, \"n\": 5328, \"fpr\": 0.06587837837837837}, {\"threshold\": 0.95, \"p\": 27976, \"tpr\": 0.7921432656562768, \"n\": 5328, \"fpr\": 0.06456456456456457}, {\"threshold\": 0.951, \"p\": 27976, \"tpr\": 0.7906062339147841, \"n\": 5328, \"fpr\": 0.06381381381381382}, {\"threshold\": 0.952, \"p\": 27976, \"tpr\": 0.7890334572490706, \"n\": 5328, \"fpr\": 0.06306306306306306}, {\"threshold\": 0.953, \"p\": 27976, \"tpr\": 0.7866385473262797, \"n\": 5328, \"fpr\": 0.0625}, {\"threshold\": 0.954, \"p\": 27976, \"tpr\": 0.7842078924792679, \"n\": 5328, \"fpr\": 0.061936936936936936}, {\"threshold\": 0.955, \"p\": 27976, \"tpr\": 0.7820631970260223, \"n\": 5328, \"fpr\": 0.06118618618618619}, {\"threshold\": 0.956, \"p\": 27976, \"tpr\": 0.7804189305118673, \"n\": 5328, \"fpr\": 0.0609984984984985}, {\"threshold\": 0.957, \"p\": 27976, \"tpr\": 0.7782027452101802, \"n\": 5328, \"fpr\": 0.05987237237237237}, {\"threshold\": 0.958, \"p\": 27976, \"tpr\": 0.776272519302259, \"n\": 5328, \"fpr\": 0.05912162162162162}, {\"threshold\": 0.959, \"p\": 27976, \"tpr\": 0.7734844152130398, \"n\": 5328, \"fpr\": 0.05818318318318318}, {\"threshold\": 0.96, \"p\": 27976, \"tpr\": 0.7710895052902488, \"n\": 5328, \"fpr\": 0.05780780780780781}, {\"threshold\": 0.961, \"p\": 27976, \"tpr\": 0.7685516156705747, \"n\": 5328, \"fpr\": 0.057244744744744745}, {\"threshold\": 0.962, \"p\": 27976, \"tpr\": 0.7664069202173291, \"n\": 5328, \"fpr\": 0.05593093093093093}, {\"threshold\": 0.963, \"p\": 27976, \"tpr\": 0.763440091507006, \"n\": 5328, \"fpr\": 0.05536786786786787}, {\"threshold\": 0.964, \"p\": 27976, \"tpr\": 0.7602230483271375, \"n\": 5328, \"fpr\": 0.05442942942942943}, {\"threshold\": 0.965, \"p\": 27976, \"tpr\": 0.7577209036316843, \"n\": 5328, \"fpr\": 0.053678678678678676}, {\"threshold\": 0.966, \"p\": 27976, \"tpr\": 0.7547540749213612, \"n\": 5328, \"fpr\": 0.05292792792792793}, {\"threshold\": 0.967, \"p\": 27976, \"tpr\": 0.7517157563625965, \"n\": 5328, \"fpr\": 0.052177177177177174}, {\"threshold\": 0.968, \"p\": 27976, \"tpr\": 0.7481770088647413, \"n\": 5328, \"fpr\": 0.05161411411411412}, {\"threshold\": 0.969, \"p\": 27976, \"tpr\": 0.7450314555333143, \"n\": 5328, \"fpr\": 0.051238738738738736}, {\"threshold\": 0.97, \"p\": 27976, \"tpr\": 0.7412782384901344, \"n\": 5328, \"fpr\": 0.050112612612612614}, {\"threshold\": 0.971, \"p\": 27976, \"tpr\": 0.738204175007149, \"n\": 5328, \"fpr\": 0.049174174174174176}, {\"threshold\": 0.972, \"p\": 27976, \"tpr\": 0.734164998570203, \"n\": 5328, \"fpr\": 0.04823573573573574}, {\"threshold\": 0.973, \"p\": 27976, \"tpr\": 0.7306977409207892, \"n\": 5328, \"fpr\": 0.047672672672672674}, {\"threshold\": 0.974, \"p\": 27976, \"tpr\": 0.7262653703174149, \"n\": 5328, \"fpr\": 0.046546546546546545}, {\"threshold\": 0.975, \"p\": 27976, \"tpr\": 0.7218329997140406, \"n\": 5328, \"fpr\": 0.045420420420420424}, {\"threshold\": 0.976, \"p\": 27976, \"tpr\": 0.7173648841864455, \"n\": 5328, \"fpr\": 0.04373123123123123}, {\"threshold\": 0.977, \"p\": 27976, \"tpr\": 0.7127537889619674, \"n\": 5328, \"fpr\": 0.0426051051051051}, {\"threshold\": 0.978, \"p\": 27976, \"tpr\": 0.7083929082070346, \"n\": 5328, \"fpr\": 0.041666666666666664}, {\"threshold\": 0.979, \"p\": 27976, \"tpr\": 0.7033886188161281, \"n\": 5328, \"fpr\": 0.04129129129129129}, {\"threshold\": 0.98, \"p\": 27976, \"tpr\": 0.6974549613954818, \"n\": 5328, \"fpr\": 0.040728228228228226}, {\"threshold\": 0.981, \"p\": 27976, \"tpr\": 0.6917000285959394, \"n\": 5328, \"fpr\": 0.03997747747747748}, {\"threshold\": 0.982, \"p\": 27976, \"tpr\": 0.6851229625393194, \"n\": 5328, \"fpr\": 0.03866366366366367}, {\"threshold\": 0.983, \"p\": 27976, \"tpr\": 0.6791893051186731, \"n\": 5328, \"fpr\": 0.0365990990990991}, {\"threshold\": 0.984, \"p\": 27976, \"tpr\": 0.6718615956534172, \"n\": 5328, \"fpr\": 0.0350975975975976}, {\"threshold\": 0.985, \"p\": 27976, \"tpr\": 0.6642479267943951, \"n\": 5328, \"fpr\": 0.03453453453453453}, {\"threshold\": 0.986, \"p\": 27976, \"tpr\": 0.6559551043751787, \"n\": 5328, \"fpr\": 0.03322072072072072}, {\"threshold\": 0.987, \"p\": 27976, \"tpr\": 0.6466971690020017, \"n\": 5328, \"fpr\": 0.03228228228228228}, {\"threshold\": 0.988, \"p\": 27976, \"tpr\": 0.6373677437803832, \"n\": 5328, \"fpr\": 0.030968468468468468}, {\"threshold\": 0.989, \"p\": 27976, \"tpr\": 0.6274306548470118, \"n\": 5328, \"fpr\": 0.02927927927927928}, {\"threshold\": 0.99, \"p\": 27976, \"tpr\": 0.6158492993994853, \"n\": 5328, \"fpr\": 0.026839339339339338}, {\"threshold\": 0.991, \"p\": 27976, \"tpr\": 0.6035887903917644, \"n\": 5328, \"fpr\": 0.025525525525525526}, {\"threshold\": 0.992, \"p\": 27976, \"tpr\": 0.5895052902487846, \"n\": 5328, \"fpr\": 0.02421171171171171}, {\"threshold\": 0.993, \"p\": 27976, \"tpr\": 0.5742779525307407, \"n\": 5328, \"fpr\": 0.022334834834834835}, {\"threshold\": 0.994, \"p\": 27976, \"tpr\": 0.5570846439805548, \"n\": 5328, \"fpr\": 0.020833333333333332}, {\"threshold\": 0.995, \"p\": 27976, \"tpr\": 0.5346725764941378, \"n\": 5328, \"fpr\": 0.019707207207207207}, {\"threshold\": 0.996, \"p\": 27976, \"tpr\": 0.5075064340863598, \"n\": 5328, \"fpr\": 0.018205705705705705}, {\"threshold\": 0.997, \"p\": 27976, \"tpr\": 0.47419216471261083, \"n\": 5328, \"fpr\": 0.01614114114114114}, {\"threshold\": 0.998, \"p\": 27976, \"tpr\": 0.4294752645124392, \"n\": 5328, \"fpr\": 0.013138138138138139}, {\"threshold\": 0.999, \"p\": 27976, \"tpr\": 0.3602016013726051, \"n\": 5328, \"fpr\": 0.009384384384384385}, {\"threshold\": 1.0, \"p\": 27976, \"tpr\": 0.0, \"n\": 5328, \"fpr\": 0.0}]}]], \"attributes\": {\"section_titles\": [\"Schema\", \"Hyperparameters\", \"Training Summary\", \"Settings\", \"Highest Positive Coefficients\", \"Lowest Negative Coefficients\"], \"sections\": [[[\"Number of coefficients\", 219218], [\"Number of examples\", 133448], [\"Number of classes\", 2], [\"Number of feature columns\", 1], [\"Number of unpacked features\", 219217]], [[\"L1 penalty\", 0.0], [\"L2 penalty\", 0.01]], [[\"Solver\", \"lbfgs\"], [\"Solver iterations\", 10], [\"Solver status\", \"TERMINATED: Iteration limit reached.\"], [\"Training time (sec)\", 7.16]], [[\"Log-likelihood\", 4956.6901]], [[\"word_count[pinkjeep]\", 13.5701], [\"word_count[(http://www.amazon.com/review/rhgg6qp7tdnhb/ref=cm_cr_pr_cmt?ie=utf8&asin;=b00318cla0&nodeid;)]\", 12.3088], [\"word_count[label/box.]\", 11.1774], [\"word_count[product.***]\", 11.064], [\"word_count[direct-pumping]\", 11.0531]], [[\"word_count[it.update:after]\", -18.3631], [\"word_count[5months.]\", -16.0906], [\"word_count[oldest.if]\", -15.9315], [\"word_count[maxima.]\", -15.8084], [\"word_count[(160.00)]\", -15.4512]]]}}, e);\n",
       "                });\n",
       "            })();\n",
       "        "
      ]
     },
     "metadata": {},
     "output_type": "display_data"
    }
   ],
   "source": [
    "sentiment_model.show(view='Evaluation')"
   ]
  },
  {
   "cell_type": "markdown",
   "metadata": {},
   "source": [
    "# Applying the learned model to understand sentiment for Giraffe"
   ]
  },
  {
   "cell_type": "code",
   "execution_count": 20,
   "metadata": {
    "collapsed": true
   },
   "outputs": [],
   "source": [
    "giraffe_reviews['predicted_sentiment'] = sentiment_model.predict(giraffe_reviews, output_type='probability')"
   ]
  },
  {
   "cell_type": "code",
   "execution_count": 21,
   "metadata": {
    "collapsed": false
   },
   "outputs": [
    {
     "data": {
      "text/html": [
       "<div style=\"max-height:1000px;max-width:1500px;overflow:auto;\"><table frame=\"box\" rules=\"cols\">\n",
       "    <tr>\n",
       "        <th style=\"padding-left: 1em; padding-right: 1em; text-align: center\">name</th>\n",
       "        <th style=\"padding-left: 1em; padding-right: 1em; text-align: center\">review</th>\n",
       "        <th style=\"padding-left: 1em; padding-right: 1em; text-align: center\">rating</th>\n",
       "        <th style=\"padding-left: 1em; padding-right: 1em; text-align: center\">word_count</th>\n",
       "        <th style=\"padding-left: 1em; padding-right: 1em; text-align: center\">predicted_sentiment</th>\n",
       "    </tr>\n",
       "    <tr>\n",
       "        <td style=\"padding-left: 1em; padding-right: 1em; text-align: center; vertical-align: top\">Vulli Sophie the Giraffe<br>Teether ...</td>\n",
       "        <td style=\"padding-left: 1em; padding-right: 1em; text-align: center; vertical-align: top\">He likes chewing on all<br>the parts especially the ...</td>\n",
       "        <td style=\"padding-left: 1em; padding-right: 1em; text-align: center; vertical-align: top\">5.0</td>\n",
       "        <td style=\"padding-left: 1em; padding-right: 1em; text-align: center; vertical-align: top\">{&#x27;great&#x27;: 1, &#x27;helped&#x27;: 1,<br>&#x27;ears!&#x27;: 1, &#x27;purchase!&#x27;: ...</td>\n",
       "        <td style=\"padding-left: 1em; padding-right: 1em; text-align: center; vertical-align: top\">0.9995130235210922</td>\n",
       "    </tr>\n",
       "    <tr>\n",
       "        <td style=\"padding-left: 1em; padding-right: 1em; text-align: center; vertical-align: top\">Vulli Sophie the Giraffe<br>Teether ...</td>\n",
       "        <td style=\"padding-left: 1em; padding-right: 1em; text-align: center; vertical-align: top\">My son loves this toy and<br>fits great in the diaper ...</td>\n",
       "        <td style=\"padding-left: 1em; padding-right: 1em; text-align: center; vertical-align: top\">5.0</td>\n",
       "        <td style=\"padding-left: 1em; padding-right: 1em; text-align: center; vertical-align: top\">{&#x27;this&#x27;: 1, &#x27;diaper&#x27;: 1,<br>&#x27;great&#x27;: 1, &#x27;getting&#x27; ...</td>\n",
       "        <td style=\"padding-left: 1em; padding-right: 1em; text-align: center; vertical-align: top\">0.9993206783057708</td>\n",
       "    </tr>\n",
       "    <tr>\n",
       "        <td style=\"padding-left: 1em; padding-right: 1em; text-align: center; vertical-align: top\">Vulli Sophie the Giraffe<br>Teether ...</td>\n",
       "        <td style=\"padding-left: 1em; padding-right: 1em; text-align: center; vertical-align: top\">There really should be a<br>large warning on the  ...</td>\n",
       "        <td style=\"padding-left: 1em; padding-right: 1em; text-align: center; vertical-align: top\">1.0</td>\n",
       "        <td style=\"padding-left: 1em; padding-right: 1em; text-align: center; vertical-align: top\">{&#x27;this&#x27;: 1, &#x27;box.&#x27;: 1,<br>&#x27;repeated&#x27;: 1, &#x27;so&#x27;: 1, ...</td>\n",
       "        <td style=\"padding-left: 1em; padding-right: 1em; text-align: center; vertical-align: top\">0.01355881168697714</td>\n",
       "    </tr>\n",
       "    <tr>\n",
       "        <td style=\"padding-left: 1em; padding-right: 1em; text-align: center; vertical-align: top\">Vulli Sophie the Giraffe<br>Teether ...</td>\n",
       "        <td style=\"padding-left: 1em; padding-right: 1em; text-align: center; vertical-align: top\">All the moms in my moms&#x27;<br>group got Sophie for ...</td>\n",
       "        <td style=\"padding-left: 1em; padding-right: 1em; text-align: center; vertical-align: top\">5.0</td>\n",
       "        <td style=\"padding-left: 1em; padding-right: 1em; text-align: center; vertical-align: top\">{&#x27;this&#x27;: 1, &#x27;something&#x27;:<br>1, &#x27;so&#x27;: 1, &#x27;have&#x27;: 1, ...</td>\n",
       "        <td style=\"padding-left: 1em; padding-right: 1em; text-align: center; vertical-align: top\">0.995769474147639</td>\n",
       "    </tr>\n",
       "    <tr>\n",
       "        <td style=\"padding-left: 1em; padding-right: 1em; text-align: center; vertical-align: top\">Vulli Sophie the Giraffe<br>Teether ...</td>\n",
       "        <td style=\"padding-left: 1em; padding-right: 1em; text-align: center; vertical-align: top\">I was a little skeptical<br>on whether Sophie was ...</td>\n",
       "        <td style=\"padding-left: 1em; padding-right: 1em; text-align: center; vertical-align: top\">5.0</td>\n",
       "        <td style=\"padding-left: 1em; padding-right: 1em; text-align: center; vertical-align: top\">{&#x27;this&#x27;: 1, &#x27;he&#x27;: 2,<br>&#x27;are&#x27;: 1, &#x27;everything&#x27;: ...</td>\n",
       "        <td style=\"padding-left: 1em; padding-right: 1em; text-align: center; vertical-align: top\">0.6623744156733844</td>\n",
       "    </tr>\n",
       "    <tr>\n",
       "        <td style=\"padding-left: 1em; padding-right: 1em; text-align: center; vertical-align: top\">Vulli Sophie the Giraffe<br>Teether ...</td>\n",
       "        <td style=\"padding-left: 1em; padding-right: 1em; text-align: center; vertical-align: top\">I have been reading about<br>Sophie and was going  ...</td>\n",
       "        <td style=\"padding-left: 1em; padding-right: 1em; text-align: center; vertical-align: top\">5.0</td>\n",
       "        <td style=\"padding-left: 1em; padding-right: 1em; text-align: center; vertical-align: top\">{&#x27;pack&#x27;: 1, &#x27;so&#x27;: 1,<br>&#x27;have&#x27;: 1, &#x27;sophie&#x27;: 3, ...</td>\n",
       "        <td style=\"padding-left: 1em; padding-right: 1em; text-align: center; vertical-align: top\">0.9999971481859539</td>\n",
       "    </tr>\n",
       "    <tr>\n",
       "        <td style=\"padding-left: 1em; padding-right: 1em; text-align: center; vertical-align: top\">Vulli Sophie the Giraffe<br>Teether ...</td>\n",
       "        <td style=\"padding-left: 1em; padding-right: 1em; text-align: center; vertical-align: top\">My neice loves her sophie<br>and has spent hours ...</td>\n",
       "        <td style=\"padding-left: 1em; padding-right: 1em; text-align: center; vertical-align: top\">5.0</td>\n",
       "        <td style=\"padding-left: 1em; padding-right: 1em; text-align: center; vertical-align: top\">{&#x27;chewing,&#x27;: 1, &#x27;forth&#x27;:<br>1, &#x27;sophie&#x27;: 1, &#x27;sque ...</td>\n",
       "        <td style=\"padding-left: 1em; padding-right: 1em; text-align: center; vertical-align: top\">0.9891909895355775</td>\n",
       "    </tr>\n",
       "    <tr>\n",
       "        <td style=\"padding-left: 1em; padding-right: 1em; text-align: center; vertical-align: top\">Vulli Sophie the Giraffe<br>Teether ...</td>\n",
       "        <td style=\"padding-left: 1em; padding-right: 1em; text-align: center; vertical-align: top\">What a friendly face!<br>And those mesmerizing ...</td>\n",
       "        <td style=\"padding-left: 1em; padding-right: 1em; text-align: center; vertical-align: top\">5.0</td>\n",
       "        <td style=\"padding-left: 1em; padding-right: 1em; text-align: center; vertical-align: top\">{&#x27;the&#x27;: 1, &#x27;sweet.&#x27;: 1,<br>&#x27;be&#x27;: 1, &#x27;so&#x27;: 1, ...</td>\n",
       "        <td style=\"padding-left: 1em; padding-right: 1em; text-align: center; vertical-align: top\">0.9995635184126087</td>\n",
       "    </tr>\n",
       "    <tr>\n",
       "        <td style=\"padding-left: 1em; padding-right: 1em; text-align: center; vertical-align: top\">Vulli Sophie the Giraffe<br>Teether ...</td>\n",
       "        <td style=\"padding-left: 1em; padding-right: 1em; text-align: center; vertical-align: top\">We got this just for my<br>son to chew on instea ...</td>\n",
       "        <td style=\"padding-left: 1em; padding-right: 1em; text-align: center; vertical-align: top\">5.0</td>\n",
       "        <td style=\"padding-left: 1em; padding-right: 1em; text-align: center; vertical-align: top\">{&#x27;cram&#x27;: 1, &#x27;this&#x27;: 1,<br>&#x27;toxic.&#x27;: 1, &#x27;new&#x27;: 1, ...</td>\n",
       "        <td style=\"padding-left: 1em; padding-right: 1em; text-align: center; vertical-align: top\">0.9701605427250727</td>\n",
       "    </tr>\n",
       "    <tr>\n",
       "        <td style=\"padding-left: 1em; padding-right: 1em; text-align: center; vertical-align: top\">Vulli Sophie the Giraffe<br>Teether ...</td>\n",
       "        <td style=\"padding-left: 1em; padding-right: 1em; text-align: center; vertical-align: top\">My baby seems to like<br>this toy, but I could ...</td>\n",
       "        <td style=\"padding-left: 1em; padding-right: 1em; text-align: center; vertical-align: top\">3.0</td>\n",
       "        <td style=\"padding-left: 1em; padding-right: 1em; text-align: center; vertical-align: top\">{&#x27;this&#x27;: 2, &#x27;how&#x27;: 2,<br>&#x27;have&#x27;: 2, &#x27;teeth&#x27;: 1, ...</td>\n",
       "        <td style=\"padding-left: 1em; padding-right: 1em; text-align: center; vertical-align: top\">0.1953676445880198</td>\n",
       "    </tr>\n",
       "</table>\n",
       "[10 rows x 5 columns]<br/>\n",
       "</div>"
      ],
      "text/plain": [
       "Columns:\n",
       "\tname\tstr\n",
       "\treview\tstr\n",
       "\trating\tfloat\n",
       "\tword_count\tdict\n",
       "\tpredicted_sentiment\tfloat\n",
       "\n",
       "Rows: 10\n",
       "\n",
       "Data:\n",
       "+-------------------------------+-------------------------------+--------+\n",
       "|              name             |             review            | rating |\n",
       "+-------------------------------+-------------------------------+--------+\n",
       "| Vulli Sophie the Giraffe T... | He likes chewing on all th... |  5.0   |\n",
       "| Vulli Sophie the Giraffe T... | My son loves this toy and ... |  5.0   |\n",
       "| Vulli Sophie the Giraffe T... | There really should be a l... |  1.0   |\n",
       "| Vulli Sophie the Giraffe T... | All the moms in my moms' g... |  5.0   |\n",
       "| Vulli Sophie the Giraffe T... | I was a little skeptical o... |  5.0   |\n",
       "| Vulli Sophie the Giraffe T... | I have been reading about ... |  5.0   |\n",
       "| Vulli Sophie the Giraffe T... | My neice loves her sophie ... |  5.0   |\n",
       "| Vulli Sophie the Giraffe T... | What a friendly face!  And... |  5.0   |\n",
       "| Vulli Sophie the Giraffe T... | We got this just for my so... |  5.0   |\n",
       "| Vulli Sophie the Giraffe T... | My baby seems to like this... |  3.0   |\n",
       "+-------------------------------+-------------------------------+--------+\n",
       "+-------------------------------+---------------------+\n",
       "|           word_count          | predicted_sentiment |\n",
       "+-------------------------------+---------------------+\n",
       "| {'great': 1, 'helped': 1, ... |  0.9995130235210922 |\n",
       "| {'this': 1, 'diaper': 1, '... |  0.9993206783057708 |\n",
       "| {'this': 1, 'box.': 1, 're... | 0.01355881168697714 |\n",
       "| {'this': 1, 'something': 1... |  0.995769474147639  |\n",
       "| {'this': 1, 'he': 2, 'are'... |  0.6623744156733844 |\n",
       "| {'pack': 1, 'so': 1, 'have... |  0.9999971481859539 |\n",
       "| {'chewing,': 1, 'forth': 1... |  0.9891909895355775 |\n",
       "| {'the': 1, 'sweet.': 1, 'b... |  0.9995635184126087 |\n",
       "| {'cram': 1, 'this': 1, 'to... |  0.9701605427250727 |\n",
       "| {'this': 2, 'how': 2, 'hav... |  0.1953676445880198 |\n",
       "+-------------------------------+---------------------+\n",
       "[10 rows x 5 columns]"
      ]
     },
     "execution_count": 21,
     "metadata": {},
     "output_type": "execute_result"
    }
   ],
   "source": [
    "giraffe_reviews.head()"
   ]
  },
  {
   "cell_type": "markdown",
   "metadata": {},
   "source": [
    "## Sort the reviews based on the predicted sentiment and explore"
   ]
  },
  {
   "cell_type": "code",
   "execution_count": 22,
   "metadata": {
    "collapsed": true
   },
   "outputs": [],
   "source": [
    "giraffe_reviews = giraffe_reviews.sort('predicted_sentiment', ascending=False)"
   ]
  },
  {
   "cell_type": "code",
   "execution_count": 23,
   "metadata": {
    "collapsed": false
   },
   "outputs": [
    {
     "data": {
      "text/html": [
       "<div style=\"max-height:1000px;max-width:1500px;overflow:auto;\"><table frame=\"box\" rules=\"cols\">\n",
       "    <tr>\n",
       "        <th style=\"padding-left: 1em; padding-right: 1em; text-align: center\">name</th>\n",
       "        <th style=\"padding-left: 1em; padding-right: 1em; text-align: center\">review</th>\n",
       "        <th style=\"padding-left: 1em; padding-right: 1em; text-align: center\">rating</th>\n",
       "        <th style=\"padding-left: 1em; padding-right: 1em; text-align: center\">word_count</th>\n",
       "        <th style=\"padding-left: 1em; padding-right: 1em; text-align: center\">predicted_sentiment</th>\n",
       "    </tr>\n",
       "    <tr>\n",
       "        <td style=\"padding-left: 1em; padding-right: 1em; text-align: center; vertical-align: top\">Vulli Sophie the Giraffe<br>Teether ...</td>\n",
       "        <td style=\"padding-left: 1em; padding-right: 1em; text-align: center; vertical-align: top\">Sophie, oh Sophie, your<br>time has come. My ...</td>\n",
       "        <td style=\"padding-left: 1em; padding-right: 1em; text-align: center; vertical-align: top\">5.0</td>\n",
       "        <td style=\"padding-left: 1em; padding-right: 1em; text-align: center; vertical-align: top\">{&#x27;how&#x27;: 2, &#x27;much&#x27;: 1,<br>&#x27;nose&#x27;: 1, &#x27;few&#x27;: 1, ...</td>\n",
       "        <td style=\"padding-left: 1em; padding-right: 1em; text-align: center; vertical-align: top\">1.0</td>\n",
       "    </tr>\n",
       "    <tr>\n",
       "        <td style=\"padding-left: 1em; padding-right: 1em; text-align: center; vertical-align: top\">Vulli Sophie the Giraffe<br>Teether ...</td>\n",
       "        <td style=\"padding-left: 1em; padding-right: 1em; text-align: center; vertical-align: top\">I&#x27;m not sure why Sophie<br>is such a hit with the ...</td>\n",
       "        <td style=\"padding-left: 1em; padding-right: 1em; text-align: center; vertical-align: top\">4.0</td>\n",
       "        <td style=\"padding-left: 1em; padding-right: 1em; text-align: center; vertical-align: top\">{&#x27;loves&#x27;: 2, &#x27;quality&#x27;:<br>1, &#x27;pile&#x27;: 1, &#x27;pleasa ...</td>\n",
       "        <td style=\"padding-left: 1em; padding-right: 1em; text-align: center; vertical-align: top\">0.9999999997027544</td>\n",
       "    </tr>\n",
       "    <tr>\n",
       "        <td style=\"padding-left: 1em; padding-right: 1em; text-align: center; vertical-align: top\">Vulli Sophie the Giraffe<br>Teether ...</td>\n",
       "        <td style=\"padding-left: 1em; padding-right: 1em; text-align: center; vertical-align: top\">I&#x27;ll be honest...I bought<br>this toy because all the ...</td>\n",
       "        <td style=\"padding-left: 1em; padding-right: 1em; text-align: center; vertical-align: top\">4.0</td>\n",
       "        <td style=\"padding-left: 1em; padding-right: 1em; text-align: center; vertical-align: top\">{&#x27;toy&#x27;: 3, &#x27;hooves&#x27;: 1,<br>&#x27;earned&#x27;: 1, &#x27;keepsake&#x27;: ...</td>\n",
       "        <td style=\"padding-left: 1em; padding-right: 1em; text-align: center; vertical-align: top\">0.9999999993924809</td>\n",
       "    </tr>\n",
       "    <tr>\n",
       "        <td style=\"padding-left: 1em; padding-right: 1em; text-align: center; vertical-align: top\">Vulli Sophie the Giraffe<br>Teether ...</td>\n",
       "        <td style=\"padding-left: 1em; padding-right: 1em; text-align: center; vertical-align: top\">We got this little<br>giraffe as a gift from a ...</td>\n",
       "        <td style=\"padding-left: 1em; padding-right: 1em; text-align: center; vertical-align: top\">5.0</td>\n",
       "        <td style=\"padding-left: 1em; padding-right: 1em; text-align: center; vertical-align: top\">{&#x27;quality&#x27;: 1, &#x27;sure&#x27;: 1,<br>&#x27;imaginable,&#x27;: 1, &#x27;ne ...</td>\n",
       "        <td style=\"padding-left: 1em; padding-right: 1em; text-align: center; vertical-align: top\">0.9999999991897695</td>\n",
       "    </tr>\n",
       "    <tr>\n",
       "        <td style=\"padding-left: 1em; padding-right: 1em; text-align: center; vertical-align: top\">Vulli Sophie the Giraffe<br>Teether ...</td>\n",
       "        <td style=\"padding-left: 1em; padding-right: 1em; text-align: center; vertical-align: top\">As a mother of 16month<br>old twins; I bought ...</td>\n",
       "        <td style=\"padding-left: 1em; padding-right: 1em; text-align: center; vertical-align: top\">5.0</td>\n",
       "        <td style=\"padding-left: 1em; padding-right: 1em; text-align: center; vertical-align: top\">{&#x27;found,&#x27;: 1, &#x27;much&#x27;: 1,<br>&#x27;stretching,&#x27;: 1, &#x27;can&#x27;: ...</td>\n",
       "        <td style=\"padding-left: 1em; padding-right: 1em; text-align: center; vertical-align: top\">0.9999999986567458</td>\n",
       "    </tr>\n",
       "    <tr>\n",
       "        <td style=\"padding-left: 1em; padding-right: 1em; text-align: center; vertical-align: top\">Vulli Sophie the Giraffe<br>Teether ...</td>\n",
       "        <td style=\"padding-left: 1em; padding-right: 1em; text-align: center; vertical-align: top\">Sophie the Giraffe is the<br>perfect teething toy. ...</td>\n",
       "        <td style=\"padding-left: 1em; padding-right: 1em; text-align: center; vertical-align: top\">5.0</td>\n",
       "        <td style=\"padding-left: 1em; padding-right: 1em; text-align: center; vertical-align: top\">{&#x27;new&#x27;: 1, &#x27;few&#x27;: 1,<br>&#x27;downside&#x27;: 1, &#x27;still&#x27;: ...</td>\n",
       "        <td style=\"padding-left: 1em; padding-right: 1em; text-align: center; vertical-align: top\">0.9999999971078298</td>\n",
       "    </tr>\n",
       "    <tr>\n",
       "        <td style=\"padding-left: 1em; padding-right: 1em; text-align: center; vertical-align: top\">Vulli Sophie the Giraffe<br>Teether ...</td>\n",
       "        <td style=\"padding-left: 1em; padding-right: 1em; text-align: center; vertical-align: top\">Sophie la giraffe is<br>absolutely the best toy ...</td>\n",
       "        <td style=\"padding-left: 1em; padding-right: 1em; text-align: center; vertical-align: top\">5.0</td>\n",
       "        <td style=\"padding-left: 1em; padding-right: 1em; text-align: center; vertical-align: top\">{&#x27;this&#x27;: 2, &#x27;know&#x27;: 1,<br>&#x27;much&#x27;: 1, &#x27;and&#x27;: 5, ...</td>\n",
       "        <td style=\"padding-left: 1em; padding-right: 1em; text-align: center; vertical-align: top\">0.9999999955894878</td>\n",
       "    </tr>\n",
       "    <tr>\n",
       "        <td style=\"padding-left: 1em; padding-right: 1em; text-align: center; vertical-align: top\">Vulli Sophie the Giraffe<br>Teether ...</td>\n",
       "        <td style=\"padding-left: 1em; padding-right: 1em; text-align: center; vertical-align: top\">My 5-mos old son took to<br>this immediately. The ...</td>\n",
       "        <td style=\"padding-left: 1em; padding-right: 1em; text-align: center; vertical-align: top\">5.0</td>\n",
       "        <td style=\"padding-left: 1em; padding-right: 1em; text-align: center; vertical-align: top\">{&#x27;car&#x27;: 1, &#x27;this&#x27;: 3,<br>&#x27;lol...&#x27;: 1, &#x27;sure&#x27;: 1, ...</td>\n",
       "        <td style=\"padding-left: 1em; padding-right: 1em; text-align: center; vertical-align: top\">0.9999999955729006</td>\n",
       "    </tr>\n",
       "    <tr>\n",
       "        <td style=\"padding-left: 1em; padding-right: 1em; text-align: center; vertical-align: top\">Vulli Sophie the Giraffe<br>Teether ...</td>\n",
       "        <td style=\"padding-left: 1em; padding-right: 1em; text-align: center; vertical-align: top\">My nephews and my four<br>kids all had Sophie in ...</td>\n",
       "        <td style=\"padding-left: 1em; padding-right: 1em; text-align: center; vertical-align: top\">5.0</td>\n",
       "        <td style=\"padding-left: 1em; padding-right: 1em; text-align: center; vertical-align: top\">{&#x27;toy!&#x27;: 2, &#x27;and&#x27;: 4,<br>&#x27;sophie&#x27;: 2, &#x27;for&#x27;: 1, ...</td>\n",
       "        <td style=\"padding-left: 1em; padding-right: 1em; text-align: center; vertical-align: top\">0.99999998952692</td>\n",
       "    </tr>\n",
       "    <tr>\n",
       "        <td style=\"padding-left: 1em; padding-right: 1em; text-align: center; vertical-align: top\">Vulli Sophie the Giraffe<br>Teether ...</td>\n",
       "        <td style=\"padding-left: 1em; padding-right: 1em; text-align: center; vertical-align: top\">Never thought I&#x27;d see my<br>son French kissing a ...</td>\n",
       "        <td style=\"padding-left: 1em; padding-right: 1em; text-align: center; vertical-align: top\">5.0</td>\n",
       "        <td style=\"padding-left: 1em; padding-right: 1em; text-align: center; vertical-align: top\">{&#x27;nose&#x27;: 1, &#x27;so&#x27;: 1, &#x27;2&#x27;:<br>1, &#x27;squeezes&#x27;: 1, ...</td>\n",
       "        <td style=\"padding-left: 1em; padding-right: 1em; text-align: center; vertical-align: top\">0.9999999850689071</td>\n",
       "    </tr>\n",
       "</table>\n",
       "[10 rows x 5 columns]<br/>\n",
       "</div>"
      ],
      "text/plain": [
       "Columns:\n",
       "\tname\tstr\n",
       "\treview\tstr\n",
       "\trating\tfloat\n",
       "\tword_count\tdict\n",
       "\tpredicted_sentiment\tfloat\n",
       "\n",
       "Rows: 10\n",
       "\n",
       "Data:\n",
       "+-------------------------------+-------------------------------+--------+\n",
       "|              name             |             review            | rating |\n",
       "+-------------------------------+-------------------------------+--------+\n",
       "| Vulli Sophie the Giraffe T... | Sophie, oh Sophie, your ti... |  5.0   |\n",
       "| Vulli Sophie the Giraffe T... | I'm not sure why Sophie is... |  4.0   |\n",
       "| Vulli Sophie the Giraffe T... | I'll be honest...I bought ... |  4.0   |\n",
       "| Vulli Sophie the Giraffe T... | We got this little giraffe... |  5.0   |\n",
       "| Vulli Sophie the Giraffe T... | As a mother of 16month old... |  5.0   |\n",
       "| Vulli Sophie the Giraffe T... | Sophie the Giraffe is the ... |  5.0   |\n",
       "| Vulli Sophie the Giraffe T... | Sophie la giraffe is absol... |  5.0   |\n",
       "| Vulli Sophie the Giraffe T... | My 5-mos old son took to t... |  5.0   |\n",
       "| Vulli Sophie the Giraffe T... | My nephews and my four kid... |  5.0   |\n",
       "| Vulli Sophie the Giraffe T... | Never thought I'd see my s... |  5.0   |\n",
       "+-------------------------------+-------------------------------+--------+\n",
       "+-------------------------------+---------------------+\n",
       "|           word_count          | predicted_sentiment |\n",
       "+-------------------------------+---------------------+\n",
       "| {'how': 2, 'much': 1, 'nos... |         1.0         |\n",
       "| {'loves': 2, 'quality': 1,... |  0.9999999997027544 |\n",
       "| {'toy': 3, 'hooves': 1, 'e... |  0.9999999993924809 |\n",
       "| {'quality': 1, 'sure': 1, ... |  0.9999999991897695 |\n",
       "| {'found,': 1, 'much': 1, '... |  0.9999999986567458 |\n",
       "| {'new': 1, 'few': 1, 'down... |  0.9999999971078298 |\n",
       "| {'this': 2, 'know': 1, 'mu... |  0.9999999955894878 |\n",
       "| {'car': 1, 'this': 3, 'lol... |  0.9999999955729006 |\n",
       "| {'toy!': 2, 'and': 4, 'sop... |   0.99999998952692  |\n",
       "| {'nose': 1, 'so': 1, '2': ... |  0.9999999850689071 |\n",
       "+-------------------------------+---------------------+\n",
       "[10 rows x 5 columns]"
      ]
     },
     "execution_count": 23,
     "metadata": {},
     "output_type": "execute_result"
    }
   ],
   "source": [
    "giraffe_reviews.head()"
   ]
  },
  {
   "cell_type": "markdown",
   "metadata": {},
   "source": [
    "## Most positive reviews for the giraffe"
   ]
  },
  {
   "cell_type": "code",
   "execution_count": 24,
   "metadata": {
    "collapsed": false
   },
   "outputs": [
    {
     "data": {
      "text/plain": [
       "\"Sophie, oh Sophie, your time has come. My granddaughter, Violet is 5 months old and starting to teeth. What joy little Sophie brings to Violet. Sophie is made of a very pliable rubber that is sturdy but not tough. It is quite easy for Violet to twist Sophie into unheard of positions to get Sophie into her mouth. The little nose and hooves fit perfectly into small mouths, and the drooling has purpose. The paint on Sophie is food quality.Sophie was born in 1961 in France. The maker had wondered why there was nothing available for babies and made Sophie from the finest rubber, phthalate-free on St Sophie's Day, thus the name was born. Since that time millions of Sophie's populate the world. She is soft and for babies little hands easy to grasp. Violet especially loves the bumpy head and horns of Sophie. Sophie has a long neck that easy to grasp and twist. She has lovely, sizable spots that attract Violet's attention. Sophie has happy little squeaks that bring squeals of delight from Violet. She is able to make Sophie squeak and that brings much joy. Sophie's smooth skin is soothing to Violet's little gums. Sophie is 7 inches tall and is the exact correct size for babies to hold and love.As you well know the first thing babies grasp, goes into their mouths- how wonderful to have a toy that stimulates all of the senses and helps with the issue of teething. Sophie is small enough to fit into any size pocket or bag. Sophie is the perfect find for babies from a few months to a year old. How wonderful to hear the giggles and laughs that emanate from babies who find Sophie irresistible. Viva La Sophie!Highly Recommended.  prisrob 12-11-09\""
      ]
     },
     "execution_count": 24,
     "metadata": {},
     "output_type": "execute_result"
    }
   ],
   "source": [
    "giraffe_reviews[0]['review']"
   ]
  },
  {
   "cell_type": "code",
   "execution_count": 25,
   "metadata": {
    "collapsed": false
   },
   "outputs": [
    {
     "data": {
      "text/plain": [
       "\"I'm not sure why Sophie is such a hit with the little ones, but my 7 month old baby girl is one of her adoring fans.  The rubber is softer and more pleasant to handle, and my daughter has enjoyed chewing on her legs and the nubs on her head even before she started teething.  She also loves the squeak that Sophie makes when you squeeze her.  Not sure what it is but if Sophie is amongst a pile of her other toys, my daughter will more often than not reach for Sophie.  And I have the peace of mind of knowing that only edible and safe paints and materials have been used to make Sophie, as opposed to Bright Starts and other baby toys made in China.  Now that the research is out on phthalates and other toxic substances in baby toys, I think it's more important than ever to find good quality toys that are also safe for our babies to handle and put in their mouths.  Sophie is a must-have for every new mom in my opinion.  Even if your kid is one of the few that can take or leave her, it's worth a try.  Vulli, the makers of Sophie, also make natural rubber teething rings that my daughter loves as well.\""
      ]
     },
     "execution_count": 25,
     "metadata": {},
     "output_type": "execute_result"
    }
   ],
   "source": [
    "giraffe_reviews[1]['review']"
   ]
  },
  {
   "cell_type": "markdown",
   "metadata": {},
   "source": [
    "## Show most negative reviews for giraffe"
   ]
  },
  {
   "cell_type": "code",
   "execution_count": 26,
   "metadata": {
    "collapsed": false
   },
   "outputs": [
    {
     "data": {
      "text/plain": [
       "\"My son (now 2.5) LOVED his Sophie, and I bought one for every baby shower I've gone to. Now, my daughter (6 months) just today nearly choked on it and I will never give it to her again. Had I not been within hearing range it could have been fatal. The strange sound she was making caught my attention and when I went to her and found the front curved leg shoved well down her throat and her face a purply/blue I panicked. I pulled it out and she vomited all over the carpet before screaming her head off. I can't believe how my opinion of this toy has changed from a must-have to a must-not-use. Please don't disregard any of the choking hazard comments, they are not over exaggerated!\""
      ]
     },
     "execution_count": 26,
     "metadata": {},
     "output_type": "execute_result"
    }
   ],
   "source": [
    "giraffe_reviews[-1]['review']"
   ]
  },
  {
   "cell_type": "code",
   "execution_count": 27,
   "metadata": {
    "collapsed": false
   },
   "outputs": [
    {
     "data": {
      "text/plain": [
       "\"This children's toy is nostalgic and very cute. However, there is a distinct rubber smell and a very odd taste, yes I tried it, that my baby did not enjoy. Also, if it is soiled it is extremely difficult to clean as the rubber is a kind of porus material and does not clean well. The final thing is the squeaking device inside which stopped working after the first couple of days. I returned this item feeling I had overpaid for a toy that was defective and did not meet my expectations. Please do not be swayed by the cute packaging and hype surounding it as I was. One more thing, I was given a full refund from Amazon without any problem.\""
      ]
     },
     "execution_count": 27,
     "metadata": {},
     "output_type": "execute_result"
    }
   ],
   "source": [
    "giraffe_reviews[-2]['review']"
   ]
  },
  {
   "cell_type": "markdown",
   "metadata": {
    "collapsed": true
   },
   "source": [
    "# C13 - Assignment"
   ]
  },
  {
   "cell_type": "code",
   "execution_count": 28,
   "metadata": {
    "collapsed": true
   },
   "outputs": [],
   "source": [
    "selected_words = ['awesome', 'great', 'fantastic', 'amazing', 'love', 'horrible', 'bad', 'terrible', 'awful', 'wow', 'hate']"
   ]
  },
  {
   "cell_type": "markdown",
   "metadata": {},
   "source": [
    "## Task #1"
   ]
  },
  {
   "cell_type": "code",
   "execution_count": 42,
   "metadata": {
    "collapsed": false
   },
   "outputs": [],
   "source": [
    "sum_dict = {}\n",
    "\n",
    "for word in selected_words:\n",
    "    \n",
    "    def f_count(word_dict):\n",
    "        if word in word_dict:\n",
    "            return word_dict[word]\n",
    "        else:\n",
    "            return 0\n",
    "        \n",
    "    products[word] = products['word_count'].apply(f_count)\n",
    "    sum_dict[word] = products[word].sum()\n"
   ]
  },
  {
   "cell_type": "code",
   "execution_count": 44,
   "metadata": {
    "collapsed": false
   },
   "outputs": [
    {
     "data": {
      "text/html": [
       "<div style=\"max-height:1000px;max-width:1500px;overflow:auto;\"><table frame=\"box\" rules=\"cols\">\n",
       "    <tr>\n",
       "        <th style=\"padding-left: 1em; padding-right: 1em; text-align: center\">name</th>\n",
       "        <th style=\"padding-left: 1em; padding-right: 1em; text-align: center\">review</th>\n",
       "        <th style=\"padding-left: 1em; padding-right: 1em; text-align: center\">rating</th>\n",
       "        <th style=\"padding-left: 1em; padding-right: 1em; text-align: center\">word_count</th>\n",
       "        <th style=\"padding-left: 1em; padding-right: 1em; text-align: center\">sentiment</th>\n",
       "        <th style=\"padding-left: 1em; padding-right: 1em; text-align: center\">awesome</th>\n",
       "    </tr>\n",
       "    <tr>\n",
       "        <td style=\"padding-left: 1em; padding-right: 1em; text-align: center; vertical-align: top\">Planetwise Wipe Pouch</td>\n",
       "        <td style=\"padding-left: 1em; padding-right: 1em; text-align: center; vertical-align: top\">it came early and was not<br>disappointed. i love ...</td>\n",
       "        <td style=\"padding-left: 1em; padding-right: 1em; text-align: center; vertical-align: top\">5.0</td>\n",
       "        <td style=\"padding-left: 1em; padding-right: 1em; text-align: center; vertical-align: top\">{&#x27;moist&#x27;: 1, &#x27;came&#x27;: 1,<br>&#x27;holder.&#x27;: 1, &#x27;i&#x27;: 1, ...</td>\n",
       "        <td style=\"padding-left: 1em; padding-right: 1em; text-align: center; vertical-align: top\">1</td>\n",
       "        <td style=\"padding-left: 1em; padding-right: 1em; text-align: center; vertical-align: top\">0</td>\n",
       "    </tr>\n",
       "    <tr>\n",
       "        <td style=\"padding-left: 1em; padding-right: 1em; text-align: center; vertical-align: top\">Annas Dream Full Quilt<br>with 2 Shams ...</td>\n",
       "        <td style=\"padding-left: 1em; padding-right: 1em; text-align: center; vertical-align: top\">Very soft and comfortable<br>and warmer than it ...</td>\n",
       "        <td style=\"padding-left: 1em; padding-right: 1em; text-align: center; vertical-align: top\">5.0</td>\n",
       "        <td style=\"padding-left: 1em; padding-right: 1em; text-align: center; vertical-align: top\">{&#x27;this&#x27;: 1, &#x27;anyone&#x27;: 1,<br>&#x27;soft&#x27;: 1, &#x27;than&#x27;: 1, ...</td>\n",
       "        <td style=\"padding-left: 1em; padding-right: 1em; text-align: center; vertical-align: top\">1</td>\n",
       "        <td style=\"padding-left: 1em; padding-right: 1em; text-align: center; vertical-align: top\">0</td>\n",
       "    </tr>\n",
       "    <tr>\n",
       "        <td style=\"padding-left: 1em; padding-right: 1em; text-align: center; vertical-align: top\">Stop Pacifier Sucking<br>without tears with ...</td>\n",
       "        <td style=\"padding-left: 1em; padding-right: 1em; text-align: center; vertical-align: top\">This is a product well<br>worth the purchase.  I ...</td>\n",
       "        <td style=\"padding-left: 1em; padding-right: 1em; text-align: center; vertical-align: top\">5.0</td>\n",
       "        <td style=\"padding-left: 1em; padding-right: 1em; text-align: center; vertical-align: top\">{&#x27;this&#x27;: 3, &#x27;purchase.&#x27;:<br>1, &#x27;much&#x27;: 1, &#x27;little&#x27;: ...</td>\n",
       "        <td style=\"padding-left: 1em; padding-right: 1em; text-align: center; vertical-align: top\">1</td>\n",
       "        <td style=\"padding-left: 1em; padding-right: 1em; text-align: center; vertical-align: top\">0</td>\n",
       "    </tr>\n",
       "    <tr>\n",
       "        <td style=\"padding-left: 1em; padding-right: 1em; text-align: center; vertical-align: top\">Stop Pacifier Sucking<br>without tears with ...</td>\n",
       "        <td style=\"padding-left: 1em; padding-right: 1em; text-align: center; vertical-align: top\">All of my kids have cried<br>non-stop when I tried to ...</td>\n",
       "        <td style=\"padding-left: 1em; padding-right: 1em; text-align: center; vertical-align: top\">5.0</td>\n",
       "        <td style=\"padding-left: 1em; padding-right: 1em; text-align: center; vertical-align: top\">{&#x27;this&#x27;: 1, &#x27;pacifier,&#x27;:<br>1, &#x27;have&#x27;: 1, &#x27;for&#x27;: 2, ...</td>\n",
       "        <td style=\"padding-left: 1em; padding-right: 1em; text-align: center; vertical-align: top\">1</td>\n",
       "        <td style=\"padding-left: 1em; padding-right: 1em; text-align: center; vertical-align: top\">0</td>\n",
       "    </tr>\n",
       "    <tr>\n",
       "        <td style=\"padding-left: 1em; padding-right: 1em; text-align: center; vertical-align: top\">Stop Pacifier Sucking<br>without tears with ...</td>\n",
       "        <td style=\"padding-left: 1em; padding-right: 1em; text-align: center; vertical-align: top\">When the Binky Fairy came<br>to our house, we didn&#x27;t ...</td>\n",
       "        <td style=\"padding-left: 1em; padding-right: 1em; text-align: center; vertical-align: top\">5.0</td>\n",
       "        <td style=\"padding-left: 1em; padding-right: 1em; text-align: center; vertical-align: top\">{&#x27;thumb&#x27;: 1, &#x27;how&#x27;: 1,<br>&#x27;came&#x27;: 1, &#x27;binky&#x27;: 3, ...</td>\n",
       "        <td style=\"padding-left: 1em; padding-right: 1em; text-align: center; vertical-align: top\">1</td>\n",
       "        <td style=\"padding-left: 1em; padding-right: 1em; text-align: center; vertical-align: top\">0</td>\n",
       "    </tr>\n",
       "    <tr>\n",
       "        <td style=\"padding-left: 1em; padding-right: 1em; text-align: center; vertical-align: top\">A Tale of Baby&#x27;s Days<br>with Peter Rabbit ...</td>\n",
       "        <td style=\"padding-left: 1em; padding-right: 1em; text-align: center; vertical-align: top\">Lovely book, it&#x27;s bound<br>tightly so you may no ...</td>\n",
       "        <td style=\"padding-left: 1em; padding-right: 1em; text-align: center; vertical-align: top\">4.0</td>\n",
       "        <td style=\"padding-left: 1em; padding-right: 1em; text-align: center; vertical-align: top\">{&#x27;be&#x27;: 1, &#x27;so&#x27;: 1,<br>&#x27;alot&#x27;: 1, &#x27;for&#x27;: 1, ...</td>\n",
       "        <td style=\"padding-left: 1em; padding-right: 1em; text-align: center; vertical-align: top\">1</td>\n",
       "        <td style=\"padding-left: 1em; padding-right: 1em; text-align: center; vertical-align: top\">0</td>\n",
       "    </tr>\n",
       "    <tr>\n",
       "        <td style=\"padding-left: 1em; padding-right: 1em; text-align: center; vertical-align: top\">Baby Tracker&amp;reg; - Daily<br>Childcare Journal, ...</td>\n",
       "        <td style=\"padding-left: 1em; padding-right: 1em; text-align: center; vertical-align: top\">Perfect for new parents.<br>We were able to keep ...</td>\n",
       "        <td style=\"padding-left: 1em; padding-right: 1em; text-align: center; vertical-align: top\">5.0</td>\n",
       "        <td style=\"padding-left: 1em; padding-right: 1em; text-align: center; vertical-align: top\">{&#x27;diaper&#x27;: 1, &#x27;life&#x27;: 1,<br>&#x27;half&#x27;: 1, &#x27;and&#x27;: 2, ...</td>\n",
       "        <td style=\"padding-left: 1em; padding-right: 1em; text-align: center; vertical-align: top\">1</td>\n",
       "        <td style=\"padding-left: 1em; padding-right: 1em; text-align: center; vertical-align: top\">0</td>\n",
       "    </tr>\n",
       "    <tr>\n",
       "        <td style=\"padding-left: 1em; padding-right: 1em; text-align: center; vertical-align: top\">Baby Tracker&amp;reg; - Daily<br>Childcare Journal, ...</td>\n",
       "        <td style=\"padding-left: 1em; padding-right: 1em; text-align: center; vertical-align: top\">A friend of mine pinned<br>this product on Pinte ...</td>\n",
       "        <td style=\"padding-left: 1em; padding-right: 1em; text-align: center; vertical-align: top\">5.0</td>\n",
       "        <td style=\"padding-left: 1em; padding-right: 1em; text-align: center; vertical-align: top\">{&#x27;this&#x27;: 2, &#x27;diaper&#x27;: 1,<br>&#x27;new&#x27;: 1, &#x27;i&#x27;: 1, ...</td>\n",
       "        <td style=\"padding-left: 1em; padding-right: 1em; text-align: center; vertical-align: top\">1</td>\n",
       "        <td style=\"padding-left: 1em; padding-right: 1em; text-align: center; vertical-align: top\">0</td>\n",
       "    </tr>\n",
       "    <tr>\n",
       "        <td style=\"padding-left: 1em; padding-right: 1em; text-align: center; vertical-align: top\">Baby Tracker&amp;reg; - Daily<br>Childcare Journal, ...</td>\n",
       "        <td style=\"padding-left: 1em; padding-right: 1em; text-align: center; vertical-align: top\">This has been an easy way<br>for my nanny to record ...</td>\n",
       "        <td style=\"padding-left: 1em; padding-right: 1em; text-align: center; vertical-align: top\">4.0</td>\n",
       "        <td style=\"padding-left: 1em; padding-right: 1em; text-align: center; vertical-align: top\">{&#x27;this&#x27;: 3, &#x27;highly&#x27;: 1,<br>&#x27;have&#x27;: 1, &#x27;for&#x27;: 1, ...</td>\n",
       "        <td style=\"padding-left: 1em; padding-right: 1em; text-align: center; vertical-align: top\">1</td>\n",
       "        <td style=\"padding-left: 1em; padding-right: 1em; text-align: center; vertical-align: top\">0</td>\n",
       "    </tr>\n",
       "    <tr>\n",
       "        <td style=\"padding-left: 1em; padding-right: 1em; text-align: center; vertical-align: top\">Baby Tracker&amp;reg; - Daily<br>Childcare Journal, ...</td>\n",
       "        <td style=\"padding-left: 1em; padding-right: 1em; text-align: center; vertical-align: top\">I love this journal and<br>our nanny uses it ...</td>\n",
       "        <td style=\"padding-left: 1em; padding-right: 1em; text-align: center; vertical-align: top\">4.0</td>\n",
       "        <td style=\"padding-left: 1em; padding-right: 1em; text-align: center; vertical-align: top\">{&#x27;rush&#x27;: 1, &#x27;quickly&#x27;: 1,<br>&#x27;well&#x27;: 1, &#x27;there&#x27;: 1, ...</td>\n",
       "        <td style=\"padding-left: 1em; padding-right: 1em; text-align: center; vertical-align: top\">1</td>\n",
       "        <td style=\"padding-left: 1em; padding-right: 1em; text-align: center; vertical-align: top\">0</td>\n",
       "    </tr>\n",
       "</table>\n",
       "<table frame=\"box\" rules=\"cols\">\n",
       "    <tr>\n",
       "        <th style=\"padding-left: 1em; padding-right: 1em; text-align: center\">great</th>\n",
       "        <th style=\"padding-left: 1em; padding-right: 1em; text-align: center\">fantastic</th>\n",
       "        <th style=\"padding-left: 1em; padding-right: 1em; text-align: center\">amazing</th>\n",
       "        <th style=\"padding-left: 1em; padding-right: 1em; text-align: center\">love</th>\n",
       "        <th style=\"padding-left: 1em; padding-right: 1em; text-align: center\">horrible</th>\n",
       "        <th style=\"padding-left: 1em; padding-right: 1em; text-align: center\">bad</th>\n",
       "        <th style=\"padding-left: 1em; padding-right: 1em; text-align: center\">terrible</th>\n",
       "        <th style=\"padding-left: 1em; padding-right: 1em; text-align: center\">awful</th>\n",
       "        <th style=\"padding-left: 1em; padding-right: 1em; text-align: center\">wow</th>\n",
       "        <th style=\"padding-left: 1em; padding-right: 1em; text-align: center\">hate</th>\n",
       "    </tr>\n",
       "    <tr>\n",
       "        <td style=\"padding-left: 1em; padding-right: 1em; text-align: center; vertical-align: top\">0</td>\n",
       "        <td style=\"padding-left: 1em; padding-right: 1em; text-align: center; vertical-align: top\">0</td>\n",
       "        <td style=\"padding-left: 1em; padding-right: 1em; text-align: center; vertical-align: top\">0</td>\n",
       "        <td style=\"padding-left: 1em; padding-right: 1em; text-align: center; vertical-align: top\">1</td>\n",
       "        <td style=\"padding-left: 1em; padding-right: 1em; text-align: center; vertical-align: top\">0</td>\n",
       "        <td style=\"padding-left: 1em; padding-right: 1em; text-align: center; vertical-align: top\">0</td>\n",
       "        <td style=\"padding-left: 1em; padding-right: 1em; text-align: center; vertical-align: top\">0</td>\n",
       "        <td style=\"padding-left: 1em; padding-right: 1em; text-align: center; vertical-align: top\">0</td>\n",
       "        <td style=\"padding-left: 1em; padding-right: 1em; text-align: center; vertical-align: top\">0</td>\n",
       "        <td style=\"padding-left: 1em; padding-right: 1em; text-align: center; vertical-align: top\">0</td>\n",
       "    </tr>\n",
       "    <tr>\n",
       "        <td style=\"padding-left: 1em; padding-right: 1em; text-align: center; vertical-align: top\">0</td>\n",
       "        <td style=\"padding-left: 1em; padding-right: 1em; text-align: center; vertical-align: top\">0</td>\n",
       "        <td style=\"padding-left: 1em; padding-right: 1em; text-align: center; vertical-align: top\">0</td>\n",
       "        <td style=\"padding-left: 1em; padding-right: 1em; text-align: center; vertical-align: top\">0</td>\n",
       "        <td style=\"padding-left: 1em; padding-right: 1em; text-align: center; vertical-align: top\">0</td>\n",
       "        <td style=\"padding-left: 1em; padding-right: 1em; text-align: center; vertical-align: top\">0</td>\n",
       "        <td style=\"padding-left: 1em; padding-right: 1em; text-align: center; vertical-align: top\">0</td>\n",
       "        <td style=\"padding-left: 1em; padding-right: 1em; text-align: center; vertical-align: top\">0</td>\n",
       "        <td style=\"padding-left: 1em; padding-right: 1em; text-align: center; vertical-align: top\">0</td>\n",
       "        <td style=\"padding-left: 1em; padding-right: 1em; text-align: center; vertical-align: top\">0</td>\n",
       "    </tr>\n",
       "    <tr>\n",
       "        <td style=\"padding-left: 1em; padding-right: 1em; text-align: center; vertical-align: top\">0</td>\n",
       "        <td style=\"padding-left: 1em; padding-right: 1em; text-align: center; vertical-align: top\">0</td>\n",
       "        <td style=\"padding-left: 1em; padding-right: 1em; text-align: center; vertical-align: top\">0</td>\n",
       "        <td style=\"padding-left: 1em; padding-right: 1em; text-align: center; vertical-align: top\">2</td>\n",
       "        <td style=\"padding-left: 1em; padding-right: 1em; text-align: center; vertical-align: top\">0</td>\n",
       "        <td style=\"padding-left: 1em; padding-right: 1em; text-align: center; vertical-align: top\">0</td>\n",
       "        <td style=\"padding-left: 1em; padding-right: 1em; text-align: center; vertical-align: top\">0</td>\n",
       "        <td style=\"padding-left: 1em; padding-right: 1em; text-align: center; vertical-align: top\">0</td>\n",
       "        <td style=\"padding-left: 1em; padding-right: 1em; text-align: center; vertical-align: top\">0</td>\n",
       "        <td style=\"padding-left: 1em; padding-right: 1em; text-align: center; vertical-align: top\">0</td>\n",
       "    </tr>\n",
       "    <tr>\n",
       "        <td style=\"padding-left: 1em; padding-right: 1em; text-align: center; vertical-align: top\">1</td>\n",
       "        <td style=\"padding-left: 1em; padding-right: 1em; text-align: center; vertical-align: top\">0</td>\n",
       "        <td style=\"padding-left: 1em; padding-right: 1em; text-align: center; vertical-align: top\">0</td>\n",
       "        <td style=\"padding-left: 1em; padding-right: 1em; text-align: center; vertical-align: top\">0</td>\n",
       "        <td style=\"padding-left: 1em; padding-right: 1em; text-align: center; vertical-align: top\">0</td>\n",
       "        <td style=\"padding-left: 1em; padding-right: 1em; text-align: center; vertical-align: top\">0</td>\n",
       "        <td style=\"padding-left: 1em; padding-right: 1em; text-align: center; vertical-align: top\">0</td>\n",
       "        <td style=\"padding-left: 1em; padding-right: 1em; text-align: center; vertical-align: top\">0</td>\n",
       "        <td style=\"padding-left: 1em; padding-right: 1em; text-align: center; vertical-align: top\">0</td>\n",
       "        <td style=\"padding-left: 1em; padding-right: 1em; text-align: center; vertical-align: top\">0</td>\n",
       "    </tr>\n",
       "    <tr>\n",
       "        <td style=\"padding-left: 1em; padding-right: 1em; text-align: center; vertical-align: top\">1</td>\n",
       "        <td style=\"padding-left: 1em; padding-right: 1em; text-align: center; vertical-align: top\">0</td>\n",
       "        <td style=\"padding-left: 1em; padding-right: 1em; text-align: center; vertical-align: top\">0</td>\n",
       "        <td style=\"padding-left: 1em; padding-right: 1em; text-align: center; vertical-align: top\">0</td>\n",
       "        <td style=\"padding-left: 1em; padding-right: 1em; text-align: center; vertical-align: top\">0</td>\n",
       "        <td style=\"padding-left: 1em; padding-right: 1em; text-align: center; vertical-align: top\">0</td>\n",
       "        <td style=\"padding-left: 1em; padding-right: 1em; text-align: center; vertical-align: top\">0</td>\n",
       "        <td style=\"padding-left: 1em; padding-right: 1em; text-align: center; vertical-align: top\">0</td>\n",
       "        <td style=\"padding-left: 1em; padding-right: 1em; text-align: center; vertical-align: top\">0</td>\n",
       "        <td style=\"padding-left: 1em; padding-right: 1em; text-align: center; vertical-align: top\">0</td>\n",
       "    </tr>\n",
       "    <tr>\n",
       "        <td style=\"padding-left: 1em; padding-right: 1em; text-align: center; vertical-align: top\">0</td>\n",
       "        <td style=\"padding-left: 1em; padding-right: 1em; text-align: center; vertical-align: top\">0</td>\n",
       "        <td style=\"padding-left: 1em; padding-right: 1em; text-align: center; vertical-align: top\">0</td>\n",
       "        <td style=\"padding-left: 1em; padding-right: 1em; text-align: center; vertical-align: top\">0</td>\n",
       "        <td style=\"padding-left: 1em; padding-right: 1em; text-align: center; vertical-align: top\">0</td>\n",
       "        <td style=\"padding-left: 1em; padding-right: 1em; text-align: center; vertical-align: top\">0</td>\n",
       "        <td style=\"padding-left: 1em; padding-right: 1em; text-align: center; vertical-align: top\">0</td>\n",
       "        <td style=\"padding-left: 1em; padding-right: 1em; text-align: center; vertical-align: top\">0</td>\n",
       "        <td style=\"padding-left: 1em; padding-right: 1em; text-align: center; vertical-align: top\">0</td>\n",
       "        <td style=\"padding-left: 1em; padding-right: 1em; text-align: center; vertical-align: top\">0</td>\n",
       "    </tr>\n",
       "    <tr>\n",
       "        <td style=\"padding-left: 1em; padding-right: 1em; text-align: center; vertical-align: top\">0</td>\n",
       "        <td style=\"padding-left: 1em; padding-right: 1em; text-align: center; vertical-align: top\">0</td>\n",
       "        <td style=\"padding-left: 1em; padding-right: 1em; text-align: center; vertical-align: top\">0</td>\n",
       "        <td style=\"padding-left: 1em; padding-right: 1em; text-align: center; vertical-align: top\">0</td>\n",
       "        <td style=\"padding-left: 1em; padding-right: 1em; text-align: center; vertical-align: top\">0</td>\n",
       "        <td style=\"padding-left: 1em; padding-right: 1em; text-align: center; vertical-align: top\">0</td>\n",
       "        <td style=\"padding-left: 1em; padding-right: 1em; text-align: center; vertical-align: top\">0</td>\n",
       "        <td style=\"padding-left: 1em; padding-right: 1em; text-align: center; vertical-align: top\">0</td>\n",
       "        <td style=\"padding-left: 1em; padding-right: 1em; text-align: center; vertical-align: top\">0</td>\n",
       "        <td style=\"padding-left: 1em; padding-right: 1em; text-align: center; vertical-align: top\">0</td>\n",
       "    </tr>\n",
       "    <tr>\n",
       "        <td style=\"padding-left: 1em; padding-right: 1em; text-align: center; vertical-align: top\">0</td>\n",
       "        <td style=\"padding-left: 1em; padding-right: 1em; text-align: center; vertical-align: top\">0</td>\n",
       "        <td style=\"padding-left: 1em; padding-right: 1em; text-align: center; vertical-align: top\">0</td>\n",
       "        <td style=\"padding-left: 1em; padding-right: 1em; text-align: center; vertical-align: top\">0</td>\n",
       "        <td style=\"padding-left: 1em; padding-right: 1em; text-align: center; vertical-align: top\">0</td>\n",
       "        <td style=\"padding-left: 1em; padding-right: 1em; text-align: center; vertical-align: top\">0</td>\n",
       "        <td style=\"padding-left: 1em; padding-right: 1em; text-align: center; vertical-align: top\">0</td>\n",
       "        <td style=\"padding-left: 1em; padding-right: 1em; text-align: center; vertical-align: top\">0</td>\n",
       "        <td style=\"padding-left: 1em; padding-right: 1em; text-align: center; vertical-align: top\">0</td>\n",
       "        <td style=\"padding-left: 1em; padding-right: 1em; text-align: center; vertical-align: top\">0</td>\n",
       "    </tr>\n",
       "    <tr>\n",
       "        <td style=\"padding-left: 1em; padding-right: 1em; text-align: center; vertical-align: top\">0</td>\n",
       "        <td style=\"padding-left: 1em; padding-right: 1em; text-align: center; vertical-align: top\">0</td>\n",
       "        <td style=\"padding-left: 1em; padding-right: 1em; text-align: center; vertical-align: top\">0</td>\n",
       "        <td style=\"padding-left: 1em; padding-right: 1em; text-align: center; vertical-align: top\">0</td>\n",
       "        <td style=\"padding-left: 1em; padding-right: 1em; text-align: center; vertical-align: top\">0</td>\n",
       "        <td style=\"padding-left: 1em; padding-right: 1em; text-align: center; vertical-align: top\">0</td>\n",
       "        <td style=\"padding-left: 1em; padding-right: 1em; text-align: center; vertical-align: top\">0</td>\n",
       "        <td style=\"padding-left: 1em; padding-right: 1em; text-align: center; vertical-align: top\">0</td>\n",
       "        <td style=\"padding-left: 1em; padding-right: 1em; text-align: center; vertical-align: top\">0</td>\n",
       "        <td style=\"padding-left: 1em; padding-right: 1em; text-align: center; vertical-align: top\">0</td>\n",
       "    </tr>\n",
       "    <tr>\n",
       "        <td style=\"padding-left: 1em; padding-right: 1em; text-align: center; vertical-align: top\">0</td>\n",
       "        <td style=\"padding-left: 1em; padding-right: 1em; text-align: center; vertical-align: top\">0</td>\n",
       "        <td style=\"padding-left: 1em; padding-right: 1em; text-align: center; vertical-align: top\">0</td>\n",
       "        <td style=\"padding-left: 1em; padding-right: 1em; text-align: center; vertical-align: top\">2</td>\n",
       "        <td style=\"padding-left: 1em; padding-right: 1em; text-align: center; vertical-align: top\">0</td>\n",
       "        <td style=\"padding-left: 1em; padding-right: 1em; text-align: center; vertical-align: top\">0</td>\n",
       "        <td style=\"padding-left: 1em; padding-right: 1em; text-align: center; vertical-align: top\">0</td>\n",
       "        <td style=\"padding-left: 1em; padding-right: 1em; text-align: center; vertical-align: top\">0</td>\n",
       "        <td style=\"padding-left: 1em; padding-right: 1em; text-align: center; vertical-align: top\">0</td>\n",
       "        <td style=\"padding-left: 1em; padding-right: 1em; text-align: center; vertical-align: top\">0</td>\n",
       "    </tr>\n",
       "</table>\n",
       "[10 rows x 16 columns]<br/>\n",
       "</div>"
      ],
      "text/plain": [
       "Columns:\n",
       "\tname\tstr\n",
       "\treview\tstr\n",
       "\trating\tfloat\n",
       "\tword_count\tdict\n",
       "\tsentiment\tint\n",
       "\tawesome\tint\n",
       "\tgreat\tint\n",
       "\tfantastic\tint\n",
       "\tamazing\tint\n",
       "\tlove\tint\n",
       "\thorrible\tint\n",
       "\tbad\tint\n",
       "\tterrible\tint\n",
       "\tawful\tint\n",
       "\twow\tint\n",
       "\thate\tint\n",
       "\n",
       "Rows: 10\n",
       "\n",
       "Data:\n",
       "+-------------------------------+-------------------------------+--------+\n",
       "|              name             |             review            | rating |\n",
       "+-------------------------------+-------------------------------+--------+\n",
       "|     Planetwise Wipe Pouch     | it came early and was not ... |  5.0   |\n",
       "| Annas Dream Full Quilt wit... | Very soft and comfortable ... |  5.0   |\n",
       "| Stop Pacifier Sucking with... | This is a product well wor... |  5.0   |\n",
       "| Stop Pacifier Sucking with... | All of my kids have cried ... |  5.0   |\n",
       "| Stop Pacifier Sucking with... | When the Binky Fairy came ... |  5.0   |\n",
       "| A Tale of Baby's Days with... | Lovely book, it's bound ti... |  4.0   |\n",
       "| Baby Tracker&reg; - Daily ... | Perfect for new parents. W... |  5.0   |\n",
       "| Baby Tracker&reg; - Daily ... | A friend of mine pinned th... |  5.0   |\n",
       "| Baby Tracker&reg; - Daily ... | This has been an easy way ... |  4.0   |\n",
       "| Baby Tracker&reg; - Daily ... | I love this journal and ou... |  4.0   |\n",
       "+-------------------------------+-------------------------------+--------+\n",
       "+-------------------------------+-----------+---------+-------+-----------+---------+\n",
       "|           word_count          | sentiment | awesome | great | fantastic | amazing |\n",
       "+-------------------------------+-----------+---------+-------+-----------+---------+\n",
       "| {'moist': 1, 'came': 1, 'h... |     1     |    0    |   0   |     0     |    0    |\n",
       "| {'this': 1, 'anyone': 1, '... |     1     |    0    |   0   |     0     |    0    |\n",
       "| {'this': 3, 'purchase.': 1... |     1     |    0    |   0   |     0     |    0    |\n",
       "| {'this': 1, 'pacifier,': 1... |     1     |    0    |   1   |     0     |    0    |\n",
       "| {'thumb': 1, 'how': 1, 'ca... |     1     |    0    |   1   |     0     |    0    |\n",
       "| {'be': 1, 'so': 1, 'alot':... |     1     |    0    |   0   |     0     |    0    |\n",
       "| {'diaper': 1, 'life': 1, '... |     1     |    0    |   0   |     0     |    0    |\n",
       "| {'this': 2, 'diaper': 1, '... |     1     |    0    |   0   |     0     |    0    |\n",
       "| {'this': 3, 'highly': 1, '... |     1     |    0    |   0   |     0     |    0    |\n",
       "| {'rush': 1, 'quickly': 1, ... |     1     |    0    |   0   |     0     |    0    |\n",
       "+-------------------------------+-----------+---------+-------+-----------+---------+\n",
       "+------+----------+-----+----------+-------+-----+------+\n",
       "| love | horrible | bad | terrible | awful | wow | hate |\n",
       "+------+----------+-----+----------+-------+-----+------+\n",
       "|  1   |    0     |  0  |    0     |   0   |  0  |  0   |\n",
       "|  0   |    0     |  0  |    0     |   0   |  0  |  0   |\n",
       "|  2   |    0     |  0  |    0     |   0   |  0  |  0   |\n",
       "|  0   |    0     |  0  |    0     |   0   |  0  |  0   |\n",
       "|  0   |    0     |  0  |    0     |   0   |  0  |  0   |\n",
       "|  0   |    0     |  0  |    0     |   0   |  0  |  0   |\n",
       "|  0   |    0     |  0  |    0     |   0   |  0  |  0   |\n",
       "|  0   |    0     |  0  |    0     |   0   |  0  |  0   |\n",
       "|  0   |    0     |  0  |    0     |   0   |  0  |  0   |\n",
       "|  2   |    0     |  0  |    0     |   0   |  0  |  0   |\n",
       "+------+----------+-----+----------+-------+-----+------+\n",
       "[10 rows x 16 columns]"
      ]
     },
     "execution_count": 44,
     "metadata": {},
     "output_type": "execute_result"
    }
   ],
   "source": [
    "products.head()"
   ]
  },
  {
   "cell_type": "code",
   "execution_count": 45,
   "metadata": {
    "collapsed": false
   },
   "outputs": [
    {
     "data": {
      "text/plain": [
       "{'amazing': 1305,\n",
       " 'awesome': 2002,\n",
       " 'awful': 345,\n",
       " 'bad': 3197,\n",
       " 'fantastic': 873,\n",
       " 'great': 42420,\n",
       " 'hate': 1057,\n",
       " 'horrible': 659,\n",
       " 'love': 40277,\n",
       " 'terrible': 673,\n",
       " 'wow': 131}"
      ]
     },
     "execution_count": 45,
     "metadata": {},
     "output_type": "execute_result"
    }
   ],
   "source": [
    "sum_dict"
   ]
  },
  {
   "cell_type": "markdown",
   "metadata": {},
   "source": [
    "## Task #2"
   ]
  },
  {
   "cell_type": "code",
   "execution_count": 74,
   "metadata": {
    "collapsed": false
   },
   "outputs": [
    {
     "data": {
      "text/html": [
       "<pre>Logistic regression:</pre>"
      ],
      "text/plain": [
       "Logistic regression:"
      ]
     },
     "metadata": {},
     "output_type": "display_data"
    },
    {
     "data": {
      "text/html": [
       "<pre>--------------------------------------------------------</pre>"
      ],
      "text/plain": [
       "--------------------------------------------------------"
      ]
     },
     "metadata": {},
     "output_type": "display_data"
    },
    {
     "data": {
      "text/html": [
       "<pre>Number of examples          : 133448</pre>"
      ],
      "text/plain": [
       "Number of examples          : 133448"
      ]
     },
     "metadata": {},
     "output_type": "display_data"
    },
    {
     "data": {
      "text/html": [
       "<pre>Number of classes           : 2</pre>"
      ],
      "text/plain": [
       "Number of classes           : 2"
      ]
     },
     "metadata": {},
     "output_type": "display_data"
    },
    {
     "data": {
      "text/html": [
       "<pre>Number of feature columns   : 11</pre>"
      ],
      "text/plain": [
       "Number of feature columns   : 11"
      ]
     },
     "metadata": {},
     "output_type": "display_data"
    },
    {
     "data": {
      "text/html": [
       "<pre>Number of unpacked features : 11</pre>"
      ],
      "text/plain": [
       "Number of unpacked features : 11"
      ]
     },
     "metadata": {},
     "output_type": "display_data"
    },
    {
     "data": {
      "text/html": [
       "<pre>Number of coefficients    : 12</pre>"
      ],
      "text/plain": [
       "Number of coefficients    : 12"
      ]
     },
     "metadata": {},
     "output_type": "display_data"
    },
    {
     "data": {
      "text/html": [
       "<pre>Starting Newton Method</pre>"
      ],
      "text/plain": [
       "Starting Newton Method"
      ]
     },
     "metadata": {},
     "output_type": "display_data"
    },
    {
     "data": {
      "text/html": [
       "<pre>--------------------------------------------------------</pre>"
      ],
      "text/plain": [
       "--------------------------------------------------------"
      ]
     },
     "metadata": {},
     "output_type": "display_data"
    },
    {
     "data": {
      "text/html": [
       "<pre>+-----------+----------+--------------+-------------------+---------------------+</pre>"
      ],
      "text/plain": [
       "+-----------+----------+--------------+-------------------+---------------------+"
      ]
     },
     "metadata": {},
     "output_type": "display_data"
    },
    {
     "data": {
      "text/html": [
       "<pre>| Iteration | Passes   | Elapsed Time | Training-accuracy | Validation-accuracy |</pre>"
      ],
      "text/plain": [
       "| Iteration | Passes   | Elapsed Time | Training-accuracy | Validation-accuracy |"
      ]
     },
     "metadata": {},
     "output_type": "display_data"
    },
    {
     "data": {
      "text/html": [
       "<pre>+-----------+----------+--------------+-------------------+---------------------+</pre>"
      ],
      "text/plain": [
       "+-----------+----------+--------------+-------------------+---------------------+"
      ]
     },
     "metadata": {},
     "output_type": "display_data"
    },
    {
     "data": {
      "text/html": [
       "<pre>| 1         | 2        | 0.239606     | 0.844299          | 0.842842            |</pre>"
      ],
      "text/plain": [
       "| 1         | 2        | 0.239606     | 0.844299          | 0.842842            |"
      ]
     },
     "metadata": {},
     "output_type": "display_data"
    },
    {
     "data": {
      "text/html": [
       "<pre>| 2         | 3        | 0.382990     | 0.844186          | 0.842842            |</pre>"
      ],
      "text/plain": [
       "| 2         | 3        | 0.382990     | 0.844186          | 0.842842            |"
      ]
     },
     "metadata": {},
     "output_type": "display_data"
    },
    {
     "data": {
      "text/html": [
       "<pre>| 3         | 4        | 0.531384     | 0.844276          | 0.843142            |</pre>"
      ],
      "text/plain": [
       "| 3         | 4        | 0.531384     | 0.844276          | 0.843142            |"
      ]
     },
     "metadata": {},
     "output_type": "display_data"
    },
    {
     "data": {
      "text/html": [
       "<pre>| 4         | 5        | 0.683464     | 0.844269          | 0.843142            |</pre>"
      ],
      "text/plain": [
       "| 4         | 5        | 0.683464     | 0.844269          | 0.843142            |"
      ]
     },
     "metadata": {},
     "output_type": "display_data"
    },
    {
     "data": {
      "text/html": [
       "<pre>| 5         | 6        | 0.834863     | 0.844269          | 0.843142            |</pre>"
      ],
      "text/plain": [
       "| 5         | 6        | 0.834863     | 0.844269          | 0.843142            |"
      ]
     },
     "metadata": {},
     "output_type": "display_data"
    },
    {
     "data": {
      "text/html": [
       "<pre>| 6         | 7        | 0.981253     | 0.844269          | 0.843142            |</pre>"
      ],
      "text/plain": [
       "| 6         | 7        | 0.981253     | 0.844269          | 0.843142            |"
      ]
     },
     "metadata": {},
     "output_type": "display_data"
    },
    {
     "data": {
      "text/html": [
       "<pre>+-----------+----------+--------------+-------------------+---------------------+</pre>"
      ],
      "text/plain": [
       "+-----------+----------+--------------+-------------------+---------------------+"
      ]
     },
     "metadata": {},
     "output_type": "display_data"
    },
    {
     "data": {
      "text/html": [
       "<pre>SUCCESS: Optimal solution found.</pre>"
      ],
      "text/plain": [
       "SUCCESS: Optimal solution found."
      ]
     },
     "metadata": {},
     "output_type": "display_data"
    },
    {
     "data": {
      "text/html": [
       "<pre></pre>"
      ],
      "text/plain": []
     },
     "metadata": {},
     "output_type": "display_data"
    }
   ],
   "source": [
    "selected_words_model = graphlab.logistic_classifier.create(train_data,\n",
    "                                                     target='sentiment',\n",
    "                                                     features=selected_words,\n",
    "                                                     validation_set=test_data)"
   ]
  },
  {
   "cell_type": "code",
   "execution_count": 75,
   "metadata": {
    "collapsed": false
   },
   "outputs": [
    {
     "name": "stdout",
     "output_type": "stream",
     "text": [
      "+-------------+-------+-------+-----------------------+----------------------+\n",
      "|     name    | index | class |         value         |        stderr        |\n",
      "+-------------+-------+-------+-----------------------+----------------------+\n",
      "|   terrible  |  None |   1   |   -2.090499984872608  |  0.0967241912228587  |\n",
      "|   horrible  |  None |   1   |  -1.9965180055878038  | 0.09735841690278443  |\n",
      "|    awful    |  None |   1   |  -1.7646995563132182  | 0.13467980336480187  |\n",
      "|     hate    |  None |   1   |  -1.4091640627563853  |  0.0771983993505609  |\n",
      "|     bad     |  None |   1   |  -0.9858273699287604  | 0.043360300914240736 |\n",
      "|     wow     |  None |   1   | -0.054145012333251856 | 0.27561644941620517  |\n",
      "|    great    |  None |   1   |   0.8839378948979686  | 0.021737952792139033 |\n",
      "|  fantastic  |  None |   1   |   0.8913030903043073  | 0.15453234359087975  |\n",
      "|   amazing   |  None |   1   |   0.8928024225084732  | 0.12798950323089522  |\n",
      "|   awesome   |  None |   1   |   1.0580088887848116  | 0.11086529626544624  |\n",
      "| (intercept) |  None |   1   |   1.3672831522930406  |  0.0086180546782395  |\n",
      "|     love    |  None |   1   |   1.399898343017474   | 0.028714746012434414 |\n",
      "+-------------+-------+-------+-----------------------+----------------------+\n",
      "[12 rows x 5 columns]\n",
      "\n"
     ]
    }
   ],
   "source": [
    "selected_words_model['coefficients'].sort(\"value\").print_rows(20)"
   ]
  },
  {
   "cell_type": "markdown",
   "metadata": {},
   "source": [
    "## Task #3"
   ]
  },
  {
   "cell_type": "code",
   "execution_count": 76,
   "metadata": {
    "collapsed": false
   },
   "outputs": [
    {
     "data": {
      "text/plain": [
       "{'accuracy': 0.916256305548883,\n",
       " 'auc': 0.9446492867438502,\n",
       " 'confusion_matrix': Columns:\n",
       " \ttarget_label\tint\n",
       " \tpredicted_label\tint\n",
       " \tcount\tint\n",
       " \n",
       " Rows: 4\n",
       " \n",
       " Data:\n",
       " +--------------+-----------------+-------+\n",
       " | target_label | predicted_label | count |\n",
       " +--------------+-----------------+-------+\n",
       " |      1       |        0        |  1461 |\n",
       " |      0       |        1        |  1328 |\n",
       " |      0       |        0        |  4000 |\n",
       " |      1       |        1        | 26515 |\n",
       " +--------------+-----------------+-------+\n",
       " [4 rows x 3 columns],\n",
       " 'f1_score': 0.9500349343413533,\n",
       " 'log_loss': 0.26106698432421915,\n",
       " 'precision': 0.9523039902309378,\n",
       " 'recall': 0.9477766657134686,\n",
       " 'roc_curve': Columns:\n",
       " \tthreshold\tfloat\n",
       " \tfpr\tfloat\n",
       " \ttpr\tfloat\n",
       " \tp\tint\n",
       " \tn\tint\n",
       " \n",
       " Rows: 100001\n",
       " \n",
       " Data:\n",
       " +-----------+--------------------+--------------------+-------+------+\n",
       " | threshold |        fpr         |        tpr         |   p   |  n   |\n",
       " +-----------+--------------------+--------------------+-------+------+\n",
       " |    0.0    |        1.0         |        1.0         | 27976 | 5328 |\n",
       " |   1e-05   | 0.9093468468468469 | 0.9988561624249357 | 27976 | 5328 |\n",
       " |   2e-05   | 0.896021021021021  | 0.9987489276522734 | 27976 | 5328 |\n",
       " |   3e-05   | 0.886448948948949  | 0.9984629682585073 | 27976 | 5328 |\n",
       " |   4e-05   | 0.8796921921921922 | 0.9982842436374035 | 27976 | 5328 |\n",
       " |   5e-05   | 0.8751876876876877 | 0.998212753788962  | 27976 | 5328 |\n",
       " |   6e-05   | 0.8721846846846847 | 0.9981770088647413 | 27976 | 5328 |\n",
       " |   7e-05   | 0.8686186186186187 | 0.9980340291678582 | 27976 | 5328 |\n",
       " |   8e-05   | 0.8646771771771772 | 0.9979982842436375 | 27976 | 5328 |\n",
       " |   9e-05   | 0.8607357357357357 | 0.9979625393194167 | 27976 | 5328 |\n",
       " +-----------+--------------------+--------------------+-------+------+\n",
       " [100001 rows x 5 columns]\n",
       " Note: Only the head of the SFrame is printed.\n",
       " You can use print_rows(num_rows=m, num_columns=n) to print more rows and columns.}"
      ]
     },
     "execution_count": 76,
     "metadata": {},
     "output_type": "execute_result"
    }
   ],
   "source": [
    "sentiment_model.evaluate(test_data)"
   ]
  },
  {
   "cell_type": "code",
   "execution_count": 77,
   "metadata": {
    "collapsed": false
   },
   "outputs": [
    {
     "data": {
      "text/plain": [
       "{'accuracy': 0.8431419649291376,\n",
       " 'auc': 0.6648096413721418,\n",
       " 'confusion_matrix': Columns:\n",
       " \ttarget_label\tint\n",
       " \tpredicted_label\tint\n",
       " \tcount\tint\n",
       " \n",
       " Rows: 4\n",
       " \n",
       " Data:\n",
       " +--------------+-----------------+-------+\n",
       " | target_label | predicted_label | count |\n",
       " +--------------+-----------------+-------+\n",
       " |      0       |        0        |  234  |\n",
       " |      1       |        0        |  130  |\n",
       " |      0       |        1        |  5094 |\n",
       " |      1       |        1        | 27846 |\n",
       " +--------------+-----------------+-------+\n",
       " [4 rows x 3 columns],\n",
       " 'f1_score': 0.914242563530107,\n",
       " 'log_loss': 0.405474711036565,\n",
       " 'precision': 0.8453551912568306,\n",
       " 'recall': 0.9953531598513011,\n",
       " 'roc_curve': Columns:\n",
       " \tthreshold\tfloat\n",
       " \tfpr\tfloat\n",
       " \ttpr\tfloat\n",
       " \tp\tint\n",
       " \tn\tint\n",
       " \n",
       " Rows: 100001\n",
       " \n",
       " Data:\n",
       " +-----------+-----+-----+-------+------+\n",
       " | threshold | fpr | tpr |   p   |  n   |\n",
       " +-----------+-----+-----+-------+------+\n",
       " |    0.0    | 1.0 | 1.0 | 27976 | 5328 |\n",
       " |   1e-05   | 1.0 | 1.0 | 27976 | 5328 |\n",
       " |   2e-05   | 1.0 | 1.0 | 27976 | 5328 |\n",
       " |   3e-05   | 1.0 | 1.0 | 27976 | 5328 |\n",
       " |   4e-05   | 1.0 | 1.0 | 27976 | 5328 |\n",
       " |   5e-05   | 1.0 | 1.0 | 27976 | 5328 |\n",
       " |   6e-05   | 1.0 | 1.0 | 27976 | 5328 |\n",
       " |   7e-05   | 1.0 | 1.0 | 27976 | 5328 |\n",
       " |   8e-05   | 1.0 | 1.0 | 27976 | 5328 |\n",
       " |   9e-05   | 1.0 | 1.0 | 27976 | 5328 |\n",
       " +-----------+-----+-----+-------+------+\n",
       " [100001 rows x 5 columns]\n",
       " Note: Only the head of the SFrame is printed.\n",
       " You can use print_rows(num_rows=m, num_columns=n) to print more rows and columns.}"
      ]
     },
     "execution_count": 77,
     "metadata": {},
     "output_type": "execute_result"
    }
   ],
   "source": [
    "selected_words_model.evaluate(test_data)"
   ]
  },
  {
   "cell_type": "code",
   "execution_count": 78,
   "metadata": {
    "collapsed": false
   },
   "outputs": [
    {
     "data": {
      "text/plain": [
       "0.841123344847434"
      ]
     },
     "execution_count": 78,
     "metadata": {},
     "output_type": "execute_result"
    }
   ],
   "source": [
    "products[\"sentiment\"].mean()"
   ]
  },
  {
   "cell_type": "markdown",
   "metadata": {},
   "source": [
    "## Task #4"
   ]
  },
  {
   "cell_type": "code",
   "execution_count": 55,
   "metadata": {
    "collapsed": true
   },
   "outputs": [],
   "source": [
    "diaper_champ_reviews = products[products['name'] == 'Baby Trend Diaper Champ']"
   ]
  },
  {
   "cell_type": "code",
   "execution_count": 56,
   "metadata": {
    "collapsed": false
   },
   "outputs": [
    {
     "data": {
      "text/plain": [
       "298"
      ]
     },
     "execution_count": 56,
     "metadata": {},
     "output_type": "execute_result"
    }
   ],
   "source": [
    "len(diaper_champ_reviews)"
   ]
  },
  {
   "cell_type": "code",
   "execution_count": 62,
   "metadata": {
    "collapsed": true
   },
   "outputs": [],
   "source": [
    "diaper_champ_reviews['predicted_sentiment'] = sentiment_model.predict(diaper_champ_reviews, output_type='probability')"
   ]
  },
  {
   "cell_type": "code",
   "execution_count": 63,
   "metadata": {
    "collapsed": false
   },
   "outputs": [],
   "source": [
    "diaper_champ_reviews = diaper_champ_reviews.sort('predicted_sentiment', ascending=False)"
   ]
  },
  {
   "cell_type": "code",
   "execution_count": 64,
   "metadata": {
    "collapsed": false
   },
   "outputs": [
    {
     "data": {
      "text/html": [
       "<div style=\"max-height:1000px;max-width:1500px;overflow:auto;\"><table frame=\"box\" rules=\"cols\">\n",
       "    <tr>\n",
       "        <th style=\"padding-left: 1em; padding-right: 1em; text-align: center\">name</th>\n",
       "        <th style=\"padding-left: 1em; padding-right: 1em; text-align: center\">review</th>\n",
       "        <th style=\"padding-left: 1em; padding-right: 1em; text-align: center\">rating</th>\n",
       "        <th style=\"padding-left: 1em; padding-right: 1em; text-align: center\">word_count</th>\n",
       "        <th style=\"padding-left: 1em; padding-right: 1em; text-align: center\">sentiment</th>\n",
       "        <th style=\"padding-left: 1em; padding-right: 1em; text-align: center\">awesome</th>\n",
       "    </tr>\n",
       "    <tr>\n",
       "        <td style=\"padding-left: 1em; padding-right: 1em; text-align: center; vertical-align: top\">Baby Trend Diaper Champ</td>\n",
       "        <td style=\"padding-left: 1em; padding-right: 1em; text-align: center; vertical-align: top\">Baby Luke can turn a<br>clean diaper to a dirty ...</td>\n",
       "        <td style=\"padding-left: 1em; padding-right: 1em; text-align: center; vertical-align: top\">5.0</td>\n",
       "        <td style=\"padding-left: 1em; padding-right: 1em; text-align: center; vertical-align: top\">{&#x27;changing&#x27;: 1, &#x27;can&#x27;: 1,<br>&#x27;chanp&#x27;: 1, &#x27;well&#x27;: 1, ...</td>\n",
       "        <td style=\"padding-left: 1em; padding-right: 1em; text-align: center; vertical-align: top\">1</td>\n",
       "        <td style=\"padding-left: 1em; padding-right: 1em; text-align: center; vertical-align: top\">0</td>\n",
       "    </tr>\n",
       "    <tr>\n",
       "        <td style=\"padding-left: 1em; padding-right: 1em; text-align: center; vertical-align: top\">Baby Trend Diaper Champ</td>\n",
       "        <td style=\"padding-left: 1em; padding-right: 1em; text-align: center; vertical-align: top\">I LOOOVE this diaper<br>pail!  Its the easies ...</td>\n",
       "        <td style=\"padding-left: 1em; padding-right: 1em; text-align: center; vertical-align: top\">5.0</td>\n",
       "        <td style=\"padding-left: 1em; padding-right: 1em; text-align: center; vertical-align: top\">{&#x27;put&#x27;: 1, &#x27;how&#x27;: 1,<br>&#x27;much&#x27;: 1, &#x27;top&#x27;: 1, ...</td>\n",
       "        <td style=\"padding-left: 1em; padding-right: 1em; text-align: center; vertical-align: top\">1</td>\n",
       "        <td style=\"padding-left: 1em; padding-right: 1em; text-align: center; vertical-align: top\">0</td>\n",
       "    </tr>\n",
       "    <tr>\n",
       "        <td style=\"padding-left: 1em; padding-right: 1em; text-align: center; vertical-align: top\">Baby Trend Diaper Champ</td>\n",
       "        <td style=\"padding-left: 1em; padding-right: 1em; text-align: center; vertical-align: top\">We researched all of the<br>different types of di ...</td>\n",
       "        <td style=\"padding-left: 1em; padding-right: 1em; text-align: center; vertical-align: top\">4.0</td>\n",
       "        <td style=\"padding-left: 1em; padding-right: 1em; text-align: center; vertical-align: top\">{&#x27;sure&#x27;: 1, &#x27;so&#x27;: 1,<br>&#x27;changing&#x27;: 1, &#x27;bad&#x27;: 1, ...</td>\n",
       "        <td style=\"padding-left: 1em; padding-right: 1em; text-align: center; vertical-align: top\">1</td>\n",
       "        <td style=\"padding-left: 1em; padding-right: 1em; text-align: center; vertical-align: top\">0</td>\n",
       "    </tr>\n",
       "    <tr>\n",
       "        <td style=\"padding-left: 1em; padding-right: 1em; text-align: center; vertical-align: top\">Baby Trend Diaper Champ</td>\n",
       "        <td style=\"padding-left: 1em; padding-right: 1em; text-align: center; vertical-align: top\">My baby is now 8 months<br>and the can has been ...</td>\n",
       "        <td style=\"padding-left: 1em; padding-right: 1em; text-align: center; vertical-align: top\">5.0</td>\n",
       "        <td style=\"padding-left: 1em; padding-right: 1em; text-align: center; vertical-align: top\">{&#x27;entry.&#x27;: 1, &#x27;much&#x27;: 1,<br>&#x27;sure&#x27;: 1, &#x27;extremely&#x27;: ...</td>\n",
       "        <td style=\"padding-left: 1em; padding-right: 1em; text-align: center; vertical-align: top\">1</td>\n",
       "        <td style=\"padding-left: 1em; padding-right: 1em; text-align: center; vertical-align: top\">0</td>\n",
       "    </tr>\n",
       "    <tr>\n",
       "        <td style=\"padding-left: 1em; padding-right: 1em; text-align: center; vertical-align: top\">Baby Trend Diaper Champ</td>\n",
       "        <td style=\"padding-left: 1em; padding-right: 1em; text-align: center; vertical-align: top\">This is absolutely, by<br>far, the best diaper  ...</td>\n",
       "        <td style=\"padding-left: 1em; padding-right: 1em; text-align: center; vertical-align: top\">5.0</td>\n",
       "        <td style=\"padding-left: 1em; padding-right: 1em; text-align: center; vertical-align: top\">{&#x27;who&#x27;: 1, &#x27;much&#x27;: 1,<br>&#x27;new&#x27;: 1, &#x27;praises&#x27;: 1, ...</td>\n",
       "        <td style=\"padding-left: 1em; padding-right: 1em; text-align: center; vertical-align: top\">1</td>\n",
       "        <td style=\"padding-left: 1em; padding-right: 1em; text-align: center; vertical-align: top\">0</td>\n",
       "    </tr>\n",
       "    <tr>\n",
       "        <td style=\"padding-left: 1em; padding-right: 1em; text-align: center; vertical-align: top\">Baby Trend Diaper Champ</td>\n",
       "        <td style=\"padding-left: 1em; padding-right: 1em; text-align: center; vertical-align: top\">Diaper Champ or Diaper<br>Genie? That was my ...</td>\n",
       "        <td style=\"padding-left: 1em; padding-right: 1em; text-align: center; vertical-align: top\">5.0</td>\n",
       "        <td style=\"padding-left: 1em; padding-right: 1em; text-align: center; vertical-align: top\">{&#x27;this&#x27;: 1, &#x27;can&#x27;: 1,<br>&#x27;runs&#x27;: 1, &#x27;bags.&#x27;: 1, ...</td>\n",
       "        <td style=\"padding-left: 1em; padding-right: 1em; text-align: center; vertical-align: top\">1</td>\n",
       "        <td style=\"padding-left: 1em; padding-right: 1em; text-align: center; vertical-align: top\">0</td>\n",
       "    </tr>\n",
       "    <tr>\n",
       "        <td style=\"padding-left: 1em; padding-right: 1em; text-align: center; vertical-align: top\">Baby Trend Diaper Champ</td>\n",
       "        <td style=\"padding-left: 1em; padding-right: 1em; text-align: center; vertical-align: top\">Wow!  This is fabulous.<br>It was a toss-up between ...</td>\n",
       "        <td style=\"padding-left: 1em; padding-right: 1em; text-align: center; vertical-align: top\">5.0</td>\n",
       "        <td style=\"padding-left: 1em; padding-right: 1em; text-align: center; vertical-align: top\">{&#x27;plain&#x27;: 1, &#x27;this&#x27;: 3,<br>&#x27;ours.&#x27;: 1, &#x27;kitchen&#x27; ...</td>\n",
       "        <td style=\"padding-left: 1em; padding-right: 1em; text-align: center; vertical-align: top\">1</td>\n",
       "        <td style=\"padding-left: 1em; padding-right: 1em; text-align: center; vertical-align: top\">0</td>\n",
       "    </tr>\n",
       "    <tr>\n",
       "        <td style=\"padding-left: 1em; padding-right: 1em; text-align: center; vertical-align: top\">Baby Trend Diaper Champ</td>\n",
       "        <td style=\"padding-left: 1em; padding-right: 1em; text-align: center; vertical-align: top\">I originally put this<br>item on my baby registry ...</td>\n",
       "        <td style=\"padding-left: 1em; padding-right: 1em; text-align: center; vertical-align: top\">5.0</td>\n",
       "        <td style=\"padding-left: 1em; padding-right: 1em; text-align: center; vertical-align: top\">{&#x27;how&#x27;: 1, &#x27;sure&#x27;: 1,<br>&#x27;so&#x27;: 2, &#x27;2&#x27;: 1, &#x27;sti ...</td>\n",
       "        <td style=\"padding-left: 1em; padding-right: 1em; text-align: center; vertical-align: top\">1</td>\n",
       "        <td style=\"padding-left: 1em; padding-right: 1em; text-align: center; vertical-align: top\">0</td>\n",
       "    </tr>\n",
       "    <tr>\n",
       "        <td style=\"padding-left: 1em; padding-right: 1em; text-align: center; vertical-align: top\">Baby Trend Diaper Champ</td>\n",
       "        <td style=\"padding-left: 1em; padding-right: 1em; text-align: center; vertical-align: top\">Two girlfriends and two<br>family members put me ...</td>\n",
       "        <td style=\"padding-left: 1em; padding-right: 1em; text-align: center; vertical-align: top\">5.0</td>\n",
       "        <td style=\"padding-left: 1em; padding-right: 1em; text-align: center; vertical-align: top\">{&#x27;using&#x27;: 1, &#x27;about&#x27;: 2,<br>&#x27;locks&#x27;: 1, &#x27;so&#x27;: 2,  ...</td>\n",
       "        <td style=\"padding-left: 1em; padding-right: 1em; text-align: center; vertical-align: top\">1</td>\n",
       "        <td style=\"padding-left: 1em; padding-right: 1em; text-align: center; vertical-align: top\">0</td>\n",
       "    </tr>\n",
       "    <tr>\n",
       "        <td style=\"padding-left: 1em; padding-right: 1em; text-align: center; vertical-align: top\">Baby Trend Diaper Champ</td>\n",
       "        <td style=\"padding-left: 1em; padding-right: 1em; text-align: center; vertical-align: top\">I am one of those super-<br>critical shoppers who ...</td>\n",
       "        <td style=\"padding-left: 1em; padding-right: 1em; text-align: center; vertical-align: top\">5.0</td>\n",
       "        <td style=\"padding-left: 1em; padding-right: 1em; text-align: center; vertical-align: top\">{&#x27;much&#x27;: 1, &#x27;new&#x27;: 1,<br>&#x27;so&#x27;: 5, &quot;day--it&#x27;s&quot;: 1, ...</td>\n",
       "        <td style=\"padding-left: 1em; padding-right: 1em; text-align: center; vertical-align: top\">1</td>\n",
       "        <td style=\"padding-left: 1em; padding-right: 1em; text-align: center; vertical-align: top\">0</td>\n",
       "    </tr>\n",
       "</table>\n",
       "<table frame=\"box\" rules=\"cols\">\n",
       "    <tr>\n",
       "        <th style=\"padding-left: 1em; padding-right: 1em; text-align: center\">great</th>\n",
       "        <th style=\"padding-left: 1em; padding-right: 1em; text-align: center\">fantastic</th>\n",
       "        <th style=\"padding-left: 1em; padding-right: 1em; text-align: center\">amazing</th>\n",
       "        <th style=\"padding-left: 1em; padding-right: 1em; text-align: center\">love</th>\n",
       "        <th style=\"padding-left: 1em; padding-right: 1em; text-align: center\">horrible</th>\n",
       "        <th style=\"padding-left: 1em; padding-right: 1em; text-align: center\">bad</th>\n",
       "        <th style=\"padding-left: 1em; padding-right: 1em; text-align: center\">terrible</th>\n",
       "        <th style=\"padding-left: 1em; padding-right: 1em; text-align: center\">awful</th>\n",
       "        <th style=\"padding-left: 1em; padding-right: 1em; text-align: center\">wow</th>\n",
       "        <th style=\"padding-left: 1em; padding-right: 1em; text-align: center\">hate</th>\n",
       "        <th style=\"padding-left: 1em; padding-right: 1em; text-align: center\">predicted_sentiment</th>\n",
       "    </tr>\n",
       "    <tr>\n",
       "        <td style=\"padding-left: 1em; padding-right: 1em; text-align: center; vertical-align: top\">0</td>\n",
       "        <td style=\"padding-left: 1em; padding-right: 1em; text-align: center; vertical-align: top\">0</td>\n",
       "        <td style=\"padding-left: 1em; padding-right: 1em; text-align: center; vertical-align: top\">0</td>\n",
       "        <td style=\"padding-left: 1em; padding-right: 1em; text-align: center; vertical-align: top\">0</td>\n",
       "        <td style=\"padding-left: 1em; padding-right: 1em; text-align: center; vertical-align: top\">0</td>\n",
       "        <td style=\"padding-left: 1em; padding-right: 1em; text-align: center; vertical-align: top\">0</td>\n",
       "        <td style=\"padding-left: 1em; padding-right: 1em; text-align: center; vertical-align: top\">0</td>\n",
       "        <td style=\"padding-left: 1em; padding-right: 1em; text-align: center; vertical-align: top\">0</td>\n",
       "        <td style=\"padding-left: 1em; padding-right: 1em; text-align: center; vertical-align: top\">0</td>\n",
       "        <td style=\"padding-left: 1em; padding-right: 1em; text-align: center; vertical-align: top\">0</td>\n",
       "        <td style=\"padding-left: 1em; padding-right: 1em; text-align: center; vertical-align: top\">0.9999999372669541</td>\n",
       "    </tr>\n",
       "    <tr>\n",
       "        <td style=\"padding-left: 1em; padding-right: 1em; text-align: center; vertical-align: top\">0</td>\n",
       "        <td style=\"padding-left: 1em; padding-right: 1em; text-align: center; vertical-align: top\">0</td>\n",
       "        <td style=\"padding-left: 1em; padding-right: 1em; text-align: center; vertical-align: top\">0</td>\n",
       "        <td style=\"padding-left: 1em; padding-right: 1em; text-align: center; vertical-align: top\">1</td>\n",
       "        <td style=\"padding-left: 1em; padding-right: 1em; text-align: center; vertical-align: top\">0</td>\n",
       "        <td style=\"padding-left: 1em; padding-right: 1em; text-align: center; vertical-align: top\">0</td>\n",
       "        <td style=\"padding-left: 1em; padding-right: 1em; text-align: center; vertical-align: top\">0</td>\n",
       "        <td style=\"padding-left: 1em; padding-right: 1em; text-align: center; vertical-align: top\">0</td>\n",
       "        <td style=\"padding-left: 1em; padding-right: 1em; text-align: center; vertical-align: top\">0</td>\n",
       "        <td style=\"padding-left: 1em; padding-right: 1em; text-align: center; vertical-align: top\">0</td>\n",
       "        <td style=\"padding-left: 1em; padding-right: 1em; text-align: center; vertical-align: top\">0.9999999174063996</td>\n",
       "    </tr>\n",
       "    <tr>\n",
       "        <td style=\"padding-left: 1em; padding-right: 1em; text-align: center; vertical-align: top\">0</td>\n",
       "        <td style=\"padding-left: 1em; padding-right: 1em; text-align: center; vertical-align: top\">0</td>\n",
       "        <td style=\"padding-left: 1em; padding-right: 1em; text-align: center; vertical-align: top\">0</td>\n",
       "        <td style=\"padding-left: 1em; padding-right: 1em; text-align: center; vertical-align: top\">0</td>\n",
       "        <td style=\"padding-left: 1em; padding-right: 1em; text-align: center; vertical-align: top\">0</td>\n",
       "        <td style=\"padding-left: 1em; padding-right: 1em; text-align: center; vertical-align: top\">1</td>\n",
       "        <td style=\"padding-left: 1em; padding-right: 1em; text-align: center; vertical-align: top\">0</td>\n",
       "        <td style=\"padding-left: 1em; padding-right: 1em; text-align: center; vertical-align: top\">0</td>\n",
       "        <td style=\"padding-left: 1em; padding-right: 1em; text-align: center; vertical-align: top\">0</td>\n",
       "        <td style=\"padding-left: 1em; padding-right: 1em; text-align: center; vertical-align: top\">0</td>\n",
       "        <td style=\"padding-left: 1em; padding-right: 1em; text-align: center; vertical-align: top\">0.9999998995086888</td>\n",
       "    </tr>\n",
       "    <tr>\n",
       "        <td style=\"padding-left: 1em; padding-right: 1em; text-align: center; vertical-align: top\">2</td>\n",
       "        <td style=\"padding-left: 1em; padding-right: 1em; text-align: center; vertical-align: top\">0</td>\n",
       "        <td style=\"padding-left: 1em; padding-right: 1em; text-align: center; vertical-align: top\">0</td>\n",
       "        <td style=\"padding-left: 1em; padding-right: 1em; text-align: center; vertical-align: top\">0</td>\n",
       "        <td style=\"padding-left: 1em; padding-right: 1em; text-align: center; vertical-align: top\">0</td>\n",
       "        <td style=\"padding-left: 1em; padding-right: 1em; text-align: center; vertical-align: top\">1</td>\n",
       "        <td style=\"padding-left: 1em; padding-right: 1em; text-align: center; vertical-align: top\">0</td>\n",
       "        <td style=\"padding-left: 1em; padding-right: 1em; text-align: center; vertical-align: top\">0</td>\n",
       "        <td style=\"padding-left: 1em; padding-right: 1em; text-align: center; vertical-align: top\">0</td>\n",
       "        <td style=\"padding-left: 1em; padding-right: 1em; text-align: center; vertical-align: top\">0</td>\n",
       "        <td style=\"padding-left: 1em; padding-right: 1em; text-align: center; vertical-align: top\">0.9999998361817682</td>\n",
       "    </tr>\n",
       "    <tr>\n",
       "        <td style=\"padding-left: 1em; padding-right: 1em; text-align: center; vertical-align: top\">0</td>\n",
       "        <td style=\"padding-left: 1em; padding-right: 1em; text-align: center; vertical-align: top\">0</td>\n",
       "        <td style=\"padding-left: 1em; padding-right: 1em; text-align: center; vertical-align: top\">0</td>\n",
       "        <td style=\"padding-left: 1em; padding-right: 1em; text-align: center; vertical-align: top\">2</td>\n",
       "        <td style=\"padding-left: 1em; padding-right: 1em; text-align: center; vertical-align: top\">0</td>\n",
       "        <td style=\"padding-left: 1em; padding-right: 1em; text-align: center; vertical-align: top\">0</td>\n",
       "        <td style=\"padding-left: 1em; padding-right: 1em; text-align: center; vertical-align: top\">0</td>\n",
       "        <td style=\"padding-left: 1em; padding-right: 1em; text-align: center; vertical-align: top\">0</td>\n",
       "        <td style=\"padding-left: 1em; padding-right: 1em; text-align: center; vertical-align: top\">0</td>\n",
       "        <td style=\"padding-left: 1em; padding-right: 1em; text-align: center; vertical-align: top\">0</td>\n",
       "        <td style=\"padding-left: 1em; padding-right: 1em; text-align: center; vertical-align: top\">0.9999998247452163</td>\n",
       "    </tr>\n",
       "    <tr>\n",
       "        <td style=\"padding-left: 1em; padding-right: 1em; text-align: center; vertical-align: top\">0</td>\n",
       "        <td style=\"padding-left: 1em; padding-right: 1em; text-align: center; vertical-align: top\">0</td>\n",
       "        <td style=\"padding-left: 1em; padding-right: 1em; text-align: center; vertical-align: top\">0</td>\n",
       "        <td style=\"padding-left: 1em; padding-right: 1em; text-align: center; vertical-align: top\">0</td>\n",
       "        <td style=\"padding-left: 1em; padding-right: 1em; text-align: center; vertical-align: top\">0</td>\n",
       "        <td style=\"padding-left: 1em; padding-right: 1em; text-align: center; vertical-align: top\">0</td>\n",
       "        <td style=\"padding-left: 1em; padding-right: 1em; text-align: center; vertical-align: top\">0</td>\n",
       "        <td style=\"padding-left: 1em; padding-right: 1em; text-align: center; vertical-align: top\">0</td>\n",
       "        <td style=\"padding-left: 1em; padding-right: 1em; text-align: center; vertical-align: top\">0</td>\n",
       "        <td style=\"padding-left: 1em; padding-right: 1em; text-align: center; vertical-align: top\">0</td>\n",
       "        <td style=\"padding-left: 1em; padding-right: 1em; text-align: center; vertical-align: top\">0.9999997593154595</td>\n",
       "    </tr>\n",
       "    <tr>\n",
       "        <td style=\"padding-left: 1em; padding-right: 1em; text-align: center; vertical-align: top\">0</td>\n",
       "        <td style=\"padding-left: 1em; padding-right: 1em; text-align: center; vertical-align: top\">0</td>\n",
       "        <td style=\"padding-left: 1em; padding-right: 1em; text-align: center; vertical-align: top\">0</td>\n",
       "        <td style=\"padding-left: 1em; padding-right: 1em; text-align: center; vertical-align: top\">0</td>\n",
       "        <td style=\"padding-left: 1em; padding-right: 1em; text-align: center; vertical-align: top\">0</td>\n",
       "        <td style=\"padding-left: 1em; padding-right: 1em; text-align: center; vertical-align: top\">0</td>\n",
       "        <td style=\"padding-left: 1em; padding-right: 1em; text-align: center; vertical-align: top\">0</td>\n",
       "        <td style=\"padding-left: 1em; padding-right: 1em; text-align: center; vertical-align: top\">0</td>\n",
       "        <td style=\"padding-left: 1em; padding-right: 1em; text-align: center; vertical-align: top\">0</td>\n",
       "        <td style=\"padding-left: 1em; padding-right: 1em; text-align: center; vertical-align: top\">0</td>\n",
       "        <td style=\"padding-left: 1em; padding-right: 1em; text-align: center; vertical-align: top\">0.9999996921105206</td>\n",
       "    </tr>\n",
       "    <tr>\n",
       "        <td style=\"padding-left: 1em; padding-right: 1em; text-align: center; vertical-align: top\">0</td>\n",
       "        <td style=\"padding-left: 1em; padding-right: 1em; text-align: center; vertical-align: top\">0</td>\n",
       "        <td style=\"padding-left: 1em; padding-right: 1em; text-align: center; vertical-align: top\">0</td>\n",
       "        <td style=\"padding-left: 1em; padding-right: 1em; text-align: center; vertical-align: top\">0</td>\n",
       "        <td style=\"padding-left: 1em; padding-right: 1em; text-align: center; vertical-align: top\">0</td>\n",
       "        <td style=\"padding-left: 1em; padding-right: 1em; text-align: center; vertical-align: top\">0</td>\n",
       "        <td style=\"padding-left: 1em; padding-right: 1em; text-align: center; vertical-align: top\">0</td>\n",
       "        <td style=\"padding-left: 1em; padding-right: 1em; text-align: center; vertical-align: top\">0</td>\n",
       "        <td style=\"padding-left: 1em; padding-right: 1em; text-align: center; vertical-align: top\">0</td>\n",
       "        <td style=\"padding-left: 1em; padding-right: 1em; text-align: center; vertical-align: top\">0</td>\n",
       "        <td style=\"padding-left: 1em; padding-right: 1em; text-align: center; vertical-align: top\">0.9999996424880316</td>\n",
       "    </tr>\n",
       "    <tr>\n",
       "        <td style=\"padding-left: 1em; padding-right: 1em; text-align: center; vertical-align: top\">0</td>\n",
       "        <td style=\"padding-left: 1em; padding-right: 1em; text-align: center; vertical-align: top\">0</td>\n",
       "        <td style=\"padding-left: 1em; padding-right: 1em; text-align: center; vertical-align: top\">0</td>\n",
       "        <td style=\"padding-left: 1em; padding-right: 1em; text-align: center; vertical-align: top\">0</td>\n",
       "        <td style=\"padding-left: 1em; padding-right: 1em; text-align: center; vertical-align: top\">1</td>\n",
       "        <td style=\"padding-left: 1em; padding-right: 1em; text-align: center; vertical-align: top\">0</td>\n",
       "        <td style=\"padding-left: 1em; padding-right: 1em; text-align: center; vertical-align: top\">0</td>\n",
       "        <td style=\"padding-left: 1em; padding-right: 1em; text-align: center; vertical-align: top\">0</td>\n",
       "        <td style=\"padding-left: 1em; padding-right: 1em; text-align: center; vertical-align: top\">0</td>\n",
       "        <td style=\"padding-left: 1em; padding-right: 1em; text-align: center; vertical-align: top\">0</td>\n",
       "        <td style=\"padding-left: 1em; padding-right: 1em; text-align: center; vertical-align: top\">0.9999996045038924</td>\n",
       "    </tr>\n",
       "    <tr>\n",
       "        <td style=\"padding-left: 1em; padding-right: 1em; text-align: center; vertical-align: top\">0</td>\n",
       "        <td style=\"padding-left: 1em; padding-right: 1em; text-align: center; vertical-align: top\">0</td>\n",
       "        <td style=\"padding-left: 1em; padding-right: 1em; text-align: center; vertical-align: top\">0</td>\n",
       "        <td style=\"padding-left: 1em; padding-right: 1em; text-align: center; vertical-align: top\">1</td>\n",
       "        <td style=\"padding-left: 1em; padding-right: 1em; text-align: center; vertical-align: top\">0</td>\n",
       "        <td style=\"padding-left: 1em; padding-right: 1em; text-align: center; vertical-align: top\">0</td>\n",
       "        <td style=\"padding-left: 1em; padding-right: 1em; text-align: center; vertical-align: top\">0</td>\n",
       "        <td style=\"padding-left: 1em; padding-right: 1em; text-align: center; vertical-align: top\">0</td>\n",
       "        <td style=\"padding-left: 1em; padding-right: 1em; text-align: center; vertical-align: top\">0</td>\n",
       "        <td style=\"padding-left: 1em; padding-right: 1em; text-align: center; vertical-align: top\">0</td>\n",
       "        <td style=\"padding-left: 1em; padding-right: 1em; text-align: center; vertical-align: top\">0.9999994868042269</td>\n",
       "    </tr>\n",
       "</table>\n",
       "[10 rows x 17 columns]<br/>\n",
       "</div>"
      ],
      "text/plain": [
       "Columns:\n",
       "\tname\tstr\n",
       "\treview\tstr\n",
       "\trating\tfloat\n",
       "\tword_count\tdict\n",
       "\tsentiment\tint\n",
       "\tawesome\tint\n",
       "\tgreat\tint\n",
       "\tfantastic\tint\n",
       "\tamazing\tint\n",
       "\tlove\tint\n",
       "\thorrible\tint\n",
       "\tbad\tint\n",
       "\tterrible\tint\n",
       "\tawful\tint\n",
       "\twow\tint\n",
       "\thate\tint\n",
       "\tpredicted_sentiment\tfloat\n",
       "\n",
       "Rows: 10\n",
       "\n",
       "Data:\n",
       "+-------------------------+-------------------------------+--------+\n",
       "|           name          |             review            | rating |\n",
       "+-------------------------+-------------------------------+--------+\n",
       "| Baby Trend Diaper Champ | Baby Luke can turn a clean... |  5.0   |\n",
       "| Baby Trend Diaper Champ | I LOOOVE this diaper pail!... |  5.0   |\n",
       "| Baby Trend Diaper Champ | We researched all of the d... |  4.0   |\n",
       "| Baby Trend Diaper Champ | My baby is now 8 months an... |  5.0   |\n",
       "| Baby Trend Diaper Champ | This is absolutely, by far... |  5.0   |\n",
       "| Baby Trend Diaper Champ | Diaper Champ or Diaper Gen... |  5.0   |\n",
       "| Baby Trend Diaper Champ | Wow!  This is fabulous.  I... |  5.0   |\n",
       "| Baby Trend Diaper Champ | I originally put this item... |  5.0   |\n",
       "| Baby Trend Diaper Champ | Two girlfriends and two fa... |  5.0   |\n",
       "| Baby Trend Diaper Champ | I am one of those super-cr... |  5.0   |\n",
       "+-------------------------+-------------------------------+--------+\n",
       "+-------------------------------+-----------+---------+-------+-----------+---------+\n",
       "|           word_count          | sentiment | awesome | great | fantastic | amazing |\n",
       "+-------------------------------+-----------+---------+-------+-----------+---------+\n",
       "| {'changing': 1, 'can': 1, ... |     1     |    0    |   0   |     0     |    0    |\n",
       "| {'put': 1, 'how': 1, 'much... |     1     |    0    |   0   |     0     |    0    |\n",
       "| {'sure': 1, 'so': 1, 'chan... |     1     |    0    |   0   |     0     |    0    |\n",
       "| {'entry.': 1, 'much': 1, '... |     1     |    0    |   2   |     0     |    0    |\n",
       "| {'who': 1, 'much': 1, 'new... |     1     |    0    |   0   |     0     |    0    |\n",
       "| {'this': 1, 'can': 1, 'run... |     1     |    0    |   0   |     0     |    0    |\n",
       "| {'plain': 1, 'this': 3, 'o... |     1     |    0    |   0   |     0     |    0    |\n",
       "| {'how': 1, 'sure': 1, 'so'... |     1     |    0    |   0   |     0     |    0    |\n",
       "| {'using': 1, 'about': 2, '... |     1     |    0    |   0   |     0     |    0    |\n",
       "| {'much': 1, 'new': 1, 'so'... |     1     |    0    |   0   |     0     |    0    |\n",
       "+-------------------------------+-----------+---------+-------+-----------+---------+\n",
       "+------+----------+-----+----------+-------+-----+------+---------------------+\n",
       "| love | horrible | bad | terrible | awful | wow | hate | predicted_sentiment |\n",
       "+------+----------+-----+----------+-------+-----+------+---------------------+\n",
       "|  0   |    0     |  0  |    0     |   0   |  0  |  0   |  0.9999999372669541 |\n",
       "|  1   |    0     |  0  |    0     |   0   |  0  |  0   |  0.9999999174063996 |\n",
       "|  0   |    0     |  1  |    0     |   0   |  0  |  0   |  0.9999998995086888 |\n",
       "|  0   |    0     |  1  |    0     |   0   |  0  |  0   |  0.9999998361817682 |\n",
       "|  2   |    0     |  0  |    0     |   0   |  0  |  0   |  0.9999998247452163 |\n",
       "|  0   |    0     |  0  |    0     |   0   |  0  |  0   |  0.9999997593154595 |\n",
       "|  0   |    0     |  0  |    0     |   0   |  0  |  0   |  0.9999996921105206 |\n",
       "|  0   |    0     |  0  |    0     |   0   |  0  |  0   |  0.9999996424880316 |\n",
       "|  0   |    1     |  0  |    0     |   0   |  0  |  0   |  0.9999996045038924 |\n",
       "|  1   |    0     |  0  |    0     |   0   |  0  |  0   |  0.9999994868042269 |\n",
       "+------+----------+-----+----------+-------+-----+------+---------------------+\n",
       "[10 rows x 17 columns]"
      ]
     },
     "execution_count": 64,
     "metadata": {},
     "output_type": "execute_result"
    }
   ],
   "source": [
    "diaper_champ_reviews.head()"
   ]
  },
  {
   "cell_type": "code",
   "execution_count": 65,
   "metadata": {
    "collapsed": false
   },
   "outputs": [
    {
     "data": {
      "text/plain": [
       "dtype: float\n",
       "Rows: 1\n",
       "[0.796940851290671]"
      ]
     },
     "execution_count": 65,
     "metadata": {},
     "output_type": "execute_result"
    }
   ],
   "source": [
    "selected_words_model.predict(diaper_champ_reviews[0:1], output_type='probability')"
   ]
  },
  {
   "cell_type": "code",
   "execution_count": 66,
   "metadata": {
    "collapsed": false
   },
   "outputs": [
    {
     "data": {
      "text/html": [
       "<div style=\"max-height:1000px;max-width:1500px;overflow:auto;\"><table frame=\"box\" rules=\"cols\">\n",
       "    <tr>\n",
       "        <th style=\"padding-left: 1em; padding-right: 1em; text-align: center\">name</th>\n",
       "        <th style=\"padding-left: 1em; padding-right: 1em; text-align: center\">review</th>\n",
       "        <th style=\"padding-left: 1em; padding-right: 1em; text-align: center\">rating</th>\n",
       "        <th style=\"padding-left: 1em; padding-right: 1em; text-align: center\">word_count</th>\n",
       "        <th style=\"padding-left: 1em; padding-right: 1em; text-align: center\">sentiment</th>\n",
       "        <th style=\"padding-left: 1em; padding-right: 1em; text-align: center\">awesome</th>\n",
       "        <th style=\"padding-left: 1em; padding-right: 1em; text-align: center\">great</th>\n",
       "    </tr>\n",
       "    <tr>\n",
       "        <td style=\"padding-left: 1em; padding-right: 1em; text-align: center; vertical-align: top\">Baby Trend Diaper Champ</td>\n",
       "        <td style=\"padding-left: 1em; padding-right: 1em; text-align: center; vertical-align: top\">Baby Luke can turn a<br>clean diaper to a dirty ...</td>\n",
       "        <td style=\"padding-left: 1em; padding-right: 1em; text-align: center; vertical-align: top\">5.0</td>\n",
       "        <td style=\"padding-left: 1em; padding-right: 1em; text-align: center; vertical-align: top\">{&#x27;changing&#x27;: 1, &#x27;can&#x27;: 1,<br>&#x27;chanp&#x27;: 1, &#x27;well&#x27;: 1, ...</td>\n",
       "        <td style=\"padding-left: 1em; padding-right: 1em; text-align: center; vertical-align: top\">1</td>\n",
       "        <td style=\"padding-left: 1em; padding-right: 1em; text-align: center; vertical-align: top\">0</td>\n",
       "        <td style=\"padding-left: 1em; padding-right: 1em; text-align: center; vertical-align: top\">0</td>\n",
       "    </tr>\n",
       "</table>\n",
       "<table frame=\"box\" rules=\"cols\">\n",
       "    <tr>\n",
       "        <th style=\"padding-left: 1em; padding-right: 1em; text-align: center\">fantastic</th>\n",
       "        <th style=\"padding-left: 1em; padding-right: 1em; text-align: center\">amazing</th>\n",
       "        <th style=\"padding-left: 1em; padding-right: 1em; text-align: center\">love</th>\n",
       "        <th style=\"padding-left: 1em; padding-right: 1em; text-align: center\">horrible</th>\n",
       "        <th style=\"padding-left: 1em; padding-right: 1em; text-align: center\">bad</th>\n",
       "        <th style=\"padding-left: 1em; padding-right: 1em; text-align: center\">terrible</th>\n",
       "        <th style=\"padding-left: 1em; padding-right: 1em; text-align: center\">awful</th>\n",
       "        <th style=\"padding-left: 1em; padding-right: 1em; text-align: center\">wow</th>\n",
       "        <th style=\"padding-left: 1em; padding-right: 1em; text-align: center\">hate</th>\n",
       "        <th style=\"padding-left: 1em; padding-right: 1em; text-align: center\">predicted_sentiment</th>\n",
       "    </tr>\n",
       "    <tr>\n",
       "        <td style=\"padding-left: 1em; padding-right: 1em; text-align: center; vertical-align: top\">0</td>\n",
       "        <td style=\"padding-left: 1em; padding-right: 1em; text-align: center; vertical-align: top\">0</td>\n",
       "        <td style=\"padding-left: 1em; padding-right: 1em; text-align: center; vertical-align: top\">0</td>\n",
       "        <td style=\"padding-left: 1em; padding-right: 1em; text-align: center; vertical-align: top\">0</td>\n",
       "        <td style=\"padding-left: 1em; padding-right: 1em; text-align: center; vertical-align: top\">0</td>\n",
       "        <td style=\"padding-left: 1em; padding-right: 1em; text-align: center; vertical-align: top\">0</td>\n",
       "        <td style=\"padding-left: 1em; padding-right: 1em; text-align: center; vertical-align: top\">0</td>\n",
       "        <td style=\"padding-left: 1em; padding-right: 1em; text-align: center; vertical-align: top\">0</td>\n",
       "        <td style=\"padding-left: 1em; padding-right: 1em; text-align: center; vertical-align: top\">0</td>\n",
       "        <td style=\"padding-left: 1em; padding-right: 1em; text-align: center; vertical-align: top\">0.9999999372669541</td>\n",
       "    </tr>\n",
       "</table>\n",
       "[1 rows x 17 columns]<br/>\n",
       "</div>"
      ],
      "text/plain": [
       "Columns:\n",
       "\tname\tstr\n",
       "\treview\tstr\n",
       "\trating\tfloat\n",
       "\tword_count\tdict\n",
       "\tsentiment\tint\n",
       "\tawesome\tint\n",
       "\tgreat\tint\n",
       "\tfantastic\tint\n",
       "\tamazing\tint\n",
       "\tlove\tint\n",
       "\thorrible\tint\n",
       "\tbad\tint\n",
       "\tterrible\tint\n",
       "\tawful\tint\n",
       "\twow\tint\n",
       "\thate\tint\n",
       "\tpredicted_sentiment\tfloat\n",
       "\n",
       "Rows: 1\n",
       "\n",
       "Data:\n",
       "+-------------------------+-------------------------------+--------+\n",
       "|           name          |             review            | rating |\n",
       "+-------------------------+-------------------------------+--------+\n",
       "| Baby Trend Diaper Champ | Baby Luke can turn a clean... |  5.0   |\n",
       "+-------------------------+-------------------------------+--------+\n",
       "+-------------------------------+-----------+---------+-------+-----------+---------+\n",
       "|           word_count          | sentiment | awesome | great | fantastic | amazing |\n",
       "+-------------------------------+-----------+---------+-------+-----------+---------+\n",
       "| {'changing': 1, 'can': 1, ... |     1     |    0    |   0   |     0     |    0    |\n",
       "+-------------------------------+-----------+---------+-------+-----------+---------+\n",
       "+------+----------+-----+----------+-------+-----+------+---------------------+\n",
       "| love | horrible | bad | terrible | awful | wow | hate | predicted_sentiment |\n",
       "+------+----------+-----+----------+-------+-----+------+---------------------+\n",
       "|  0   |    0     |  0  |    0     |   0   |  0  |  0   |  0.9999999372669541 |\n",
       "+------+----------+-----+----------+-------+-----+------+---------------------+\n",
       "[1 rows x 17 columns]"
      ]
     },
     "execution_count": 66,
     "metadata": {},
     "output_type": "execute_result"
    }
   ],
   "source": [
    "diaper_champ_reviews[0:1]"
   ]
  },
  {
   "cell_type": "code",
   "execution_count": 67,
   "metadata": {
    "collapsed": false
   },
   "outputs": [
    {
     "data": {
      "text/plain": [
       "dtype: str\n",
       "Rows: 1\n",
       "['Baby Luke can turn a clean diaper to a dirty diaper in 3 seconds flat. The diaper champ turns the smelly diaper into \"what diaper smell\" in less time than that. I hesitated and wondered what I REALLY needed for the nursery. This is one of the best purchases we made. The champ, the baby bjorn, fluerville diaper bag, and graco pack and play bassinet all vie for the best baby purchase.Great product, easy to use, economical, effective, absolutly fabulous.UpdateI knew that I loved the champ, and useing the diaper genie at a friend\\'s house REALLY reinforced that!! There is no comparison, the chanp is easy and smell free, the genie was difficult to use one handed (which is absolutly vital if you have a little one on a changing pad) and there was a deffinite odor eminating from the genieplus we found that the quick tie garbage bags where the ties are integrated into the bag work really well because there isn\\'t any added bulk around the sealing edge of the champ.']"
      ]
     },
     "execution_count": 67,
     "metadata": {},
     "output_type": "execute_result"
    }
   ],
   "source": [
    "diaper_champ_reviews[0:1][\"review\"]"
   ]
  },
  {
   "cell_type": "code",
   "execution_count": 73,
   "metadata": {
    "collapsed": false
   },
   "outputs": [
    {
     "data": {
      "text/plain": [
       "{'\"what': 1,\n",
       " '(which': 1,\n",
       " '3': 1,\n",
       " 'a': 6,\n",
       " 'absolutly': 2,\n",
       " 'added': 1,\n",
       " 'all': 1,\n",
       " 'and': 6,\n",
       " 'any': 1,\n",
       " 'are': 1,\n",
       " 'around': 1,\n",
       " 'at': 1,\n",
       " 'baby': 3,\n",
       " 'bag': 1,\n",
       " 'bag,': 1,\n",
       " 'bags': 1,\n",
       " 'bassinet': 1,\n",
       " 'because': 1,\n",
       " 'best': 2,\n",
       " 'bjorn,': 1,\n",
       " 'bulk': 1,\n",
       " 'can': 1,\n",
       " 'champ': 1,\n",
       " 'champ,': 2,\n",
       " 'champ.': 1,\n",
       " 'changing': 1,\n",
       " 'chanp': 1,\n",
       " 'clean': 1,\n",
       " 'comparison,': 1,\n",
       " 'deffinite': 1,\n",
       " 'diaper': 7,\n",
       " 'difficult': 1,\n",
       " 'dirty': 1,\n",
       " 'easy': 2,\n",
       " 'economical,': 1,\n",
       " 'edge': 1,\n",
       " 'effective,': 1,\n",
       " 'eminating': 1,\n",
       " 'fabulous.updatei': 1,\n",
       " 'flat.': 1,\n",
       " 'fluerville': 1,\n",
       " 'for': 2,\n",
       " 'found': 1,\n",
       " 'free,': 1,\n",
       " \"friend's\": 1,\n",
       " 'from': 1,\n",
       " 'garbage': 1,\n",
       " 'genie': 2,\n",
       " 'genieplus': 1,\n",
       " 'graco': 1,\n",
       " 'handed': 1,\n",
       " 'have': 1,\n",
       " 'hesitated': 1,\n",
       " 'house': 1,\n",
       " 'i': 3,\n",
       " 'if': 1,\n",
       " 'in': 2,\n",
       " 'integrated': 1,\n",
       " 'into': 2,\n",
       " 'is': 4,\n",
       " \"isn't\": 1,\n",
       " 'knew': 1,\n",
       " 'less': 1,\n",
       " 'little': 1,\n",
       " 'loved': 1,\n",
       " 'luke': 1,\n",
       " 'made.': 1,\n",
       " 'needed': 1,\n",
       " 'no': 1,\n",
       " 'nursery.': 1,\n",
       " 'odor': 1,\n",
       " 'of': 2,\n",
       " 'on': 1,\n",
       " 'one': 3,\n",
       " 'pack': 1,\n",
       " 'pad)': 1,\n",
       " 'play': 1,\n",
       " 'product,': 1,\n",
       " 'purchase.great': 1,\n",
       " 'purchases': 1,\n",
       " 'quick': 1,\n",
       " 'really': 3,\n",
       " 'reinforced': 1,\n",
       " 'sealing': 1,\n",
       " 'seconds': 1,\n",
       " 'smell': 1,\n",
       " 'smell\"': 1,\n",
       " 'smelly': 1,\n",
       " 'than': 1,\n",
       " 'that': 2,\n",
       " 'that!!': 1,\n",
       " 'that.': 1,\n",
       " 'the': 17,\n",
       " 'there': 3,\n",
       " 'this': 1,\n",
       " 'tie': 1,\n",
       " 'ties': 1,\n",
       " 'time': 1,\n",
       " 'to': 3,\n",
       " 'turn': 1,\n",
       " 'turns': 1,\n",
       " 'use': 1,\n",
       " 'use,': 1,\n",
       " 'useing': 1,\n",
       " 'vie': 1,\n",
       " 'vital': 1,\n",
       " 'was': 2,\n",
       " 'we': 2,\n",
       " 'well': 1,\n",
       " 'what': 1,\n",
       " 'where': 1,\n",
       " 'wondered': 1,\n",
       " 'work': 1,\n",
       " 'you': 1}"
      ]
     },
     "execution_count": 73,
     "metadata": {},
     "output_type": "execute_result"
    }
   ],
   "source": [
    "diaper_champ_reviews[0:1][\"word_count\"][0]"
   ]
  },
  {
   "cell_type": "code",
   "execution_count": null,
   "metadata": {
    "collapsed": true
   },
   "outputs": [],
   "source": []
  }
 ],
 "metadata": {
  "kernelspec": {
   "display_name": "Python 3",
   "language": "python",
   "name": "python3"
  },
  "language_info": {
   "codemirror_mode": {
    "name": "ipython",
    "version": 3
   },
   "file_extension": ".py",
   "mimetype": "text/x-python",
   "name": "python",
   "nbconvert_exporter": "python",
   "pygments_lexer": "ipython3",
   "version": "3.5.1"
  }
 },
 "nbformat": 4,
 "nbformat_minor": 0
}
