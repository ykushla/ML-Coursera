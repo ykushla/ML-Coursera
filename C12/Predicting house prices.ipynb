{
 "cells": [
  {
   "cell_type": "markdown",
   "metadata": {},
   "source": [
    "# Fire up graphlab create"
   ]
  },
  {
   "cell_type": "code",
   "execution_count": 2,
   "metadata": {
    "collapsed": false
   },
   "outputs": [],
   "source": [
    "import graphlab"
   ]
  },
  {
   "cell_type": "markdown",
   "metadata": {},
   "source": [
    "# Load some house sales data\n",
    "\n",
    "Dataset is from house sales in King County, the region where the city of Seattle, WA is located."
   ]
  },
  {
   "cell_type": "code",
   "execution_count": 3,
   "metadata": {
    "collapsed": false
   },
   "outputs": [
    {
     "name": "stdout",
     "output_type": "stream",
     "text": [
      "This non-commercial license of GraphLab Create is assigned to ykushla@gmail.com and will expire on May 25, 2017. For commercial licensing options, visit https://dato.com/buy/.\n"
     ]
    },
    {
     "name": "stderr",
     "output_type": "stream",
     "text": [
      "[INFO] graphlab.cython.cy_server: GraphLab Create v1.10.1 started. Logging: C:\\Users\\ykushla\\AppData\\Local\\Temp\\graphlab_server_1466248389.log.0\n"
     ]
    }
   ],
   "source": [
    "sales = graphlab.SFrame('home_data.gl/')"
   ]
  },
  {
   "cell_type": "code",
   "execution_count": 4,
   "metadata": {
    "collapsed": false
   },
   "outputs": [
    {
     "data": {
      "text/html": [
       "<div style=\"max-height:1000px;max-width:1500px;overflow:auto;\"><table frame=\"box\" rules=\"cols\">\n",
       "    <tr>\n",
       "        <th style=\"padding-left: 1em; padding-right: 1em; text-align: center\">id</th>\n",
       "        <th style=\"padding-left: 1em; padding-right: 1em; text-align: center\">date</th>\n",
       "        <th style=\"padding-left: 1em; padding-right: 1em; text-align: center\">price</th>\n",
       "        <th style=\"padding-left: 1em; padding-right: 1em; text-align: center\">bedrooms</th>\n",
       "        <th style=\"padding-left: 1em; padding-right: 1em; text-align: center\">bathrooms</th>\n",
       "        <th style=\"padding-left: 1em; padding-right: 1em; text-align: center\">sqft_living</th>\n",
       "        <th style=\"padding-left: 1em; padding-right: 1em; text-align: center\">sqft_lot</th>\n",
       "        <th style=\"padding-left: 1em; padding-right: 1em; text-align: center\">floors</th>\n",
       "        <th style=\"padding-left: 1em; padding-right: 1em; text-align: center\">waterfront</th>\n",
       "    </tr>\n",
       "    <tr>\n",
       "        <td style=\"padding-left: 1em; padding-right: 1em; text-align: center; vertical-align: top\">7129300520</td>\n",
       "        <td style=\"padding-left: 1em; padding-right: 1em; text-align: center; vertical-align: top\">2014-10-13 00:00:00+00:00</td>\n",
       "        <td style=\"padding-left: 1em; padding-right: 1em; text-align: center; vertical-align: top\">221900</td>\n",
       "        <td style=\"padding-left: 1em; padding-right: 1em; text-align: center; vertical-align: top\">3</td>\n",
       "        <td style=\"padding-left: 1em; padding-right: 1em; text-align: center; vertical-align: top\">1</td>\n",
       "        <td style=\"padding-left: 1em; padding-right: 1em; text-align: center; vertical-align: top\">1180</td>\n",
       "        <td style=\"padding-left: 1em; padding-right: 1em; text-align: center; vertical-align: top\">5650</td>\n",
       "        <td style=\"padding-left: 1em; padding-right: 1em; text-align: center; vertical-align: top\">1</td>\n",
       "        <td style=\"padding-left: 1em; padding-right: 1em; text-align: center; vertical-align: top\">0</td>\n",
       "    </tr>\n",
       "    <tr>\n",
       "        <td style=\"padding-left: 1em; padding-right: 1em; text-align: center; vertical-align: top\">6414100192</td>\n",
       "        <td style=\"padding-left: 1em; padding-right: 1em; text-align: center; vertical-align: top\">2014-12-09 00:00:00+00:00</td>\n",
       "        <td style=\"padding-left: 1em; padding-right: 1em; text-align: center; vertical-align: top\">538000</td>\n",
       "        <td style=\"padding-left: 1em; padding-right: 1em; text-align: center; vertical-align: top\">3</td>\n",
       "        <td style=\"padding-left: 1em; padding-right: 1em; text-align: center; vertical-align: top\">2.25</td>\n",
       "        <td style=\"padding-left: 1em; padding-right: 1em; text-align: center; vertical-align: top\">2570</td>\n",
       "        <td style=\"padding-left: 1em; padding-right: 1em; text-align: center; vertical-align: top\">7242</td>\n",
       "        <td style=\"padding-left: 1em; padding-right: 1em; text-align: center; vertical-align: top\">2</td>\n",
       "        <td style=\"padding-left: 1em; padding-right: 1em; text-align: center; vertical-align: top\">0</td>\n",
       "    </tr>\n",
       "    <tr>\n",
       "        <td style=\"padding-left: 1em; padding-right: 1em; text-align: center; vertical-align: top\">5631500400</td>\n",
       "        <td style=\"padding-left: 1em; padding-right: 1em; text-align: center; vertical-align: top\">2015-02-25 00:00:00+00:00</td>\n",
       "        <td style=\"padding-left: 1em; padding-right: 1em; text-align: center; vertical-align: top\">180000</td>\n",
       "        <td style=\"padding-left: 1em; padding-right: 1em; text-align: center; vertical-align: top\">2</td>\n",
       "        <td style=\"padding-left: 1em; padding-right: 1em; text-align: center; vertical-align: top\">1</td>\n",
       "        <td style=\"padding-left: 1em; padding-right: 1em; text-align: center; vertical-align: top\">770</td>\n",
       "        <td style=\"padding-left: 1em; padding-right: 1em; text-align: center; vertical-align: top\">10000</td>\n",
       "        <td style=\"padding-left: 1em; padding-right: 1em; text-align: center; vertical-align: top\">1</td>\n",
       "        <td style=\"padding-left: 1em; padding-right: 1em; text-align: center; vertical-align: top\">0</td>\n",
       "    </tr>\n",
       "    <tr>\n",
       "        <td style=\"padding-left: 1em; padding-right: 1em; text-align: center; vertical-align: top\">2487200875</td>\n",
       "        <td style=\"padding-left: 1em; padding-right: 1em; text-align: center; vertical-align: top\">2014-12-09 00:00:00+00:00</td>\n",
       "        <td style=\"padding-left: 1em; padding-right: 1em; text-align: center; vertical-align: top\">604000</td>\n",
       "        <td style=\"padding-left: 1em; padding-right: 1em; text-align: center; vertical-align: top\">4</td>\n",
       "        <td style=\"padding-left: 1em; padding-right: 1em; text-align: center; vertical-align: top\">3</td>\n",
       "        <td style=\"padding-left: 1em; padding-right: 1em; text-align: center; vertical-align: top\">1960</td>\n",
       "        <td style=\"padding-left: 1em; padding-right: 1em; text-align: center; vertical-align: top\">5000</td>\n",
       "        <td style=\"padding-left: 1em; padding-right: 1em; text-align: center; vertical-align: top\">1</td>\n",
       "        <td style=\"padding-left: 1em; padding-right: 1em; text-align: center; vertical-align: top\">0</td>\n",
       "    </tr>\n",
       "    <tr>\n",
       "        <td style=\"padding-left: 1em; padding-right: 1em; text-align: center; vertical-align: top\">1954400510</td>\n",
       "        <td style=\"padding-left: 1em; padding-right: 1em; text-align: center; vertical-align: top\">2015-02-18 00:00:00+00:00</td>\n",
       "        <td style=\"padding-left: 1em; padding-right: 1em; text-align: center; vertical-align: top\">510000</td>\n",
       "        <td style=\"padding-left: 1em; padding-right: 1em; text-align: center; vertical-align: top\">3</td>\n",
       "        <td style=\"padding-left: 1em; padding-right: 1em; text-align: center; vertical-align: top\">2</td>\n",
       "        <td style=\"padding-left: 1em; padding-right: 1em; text-align: center; vertical-align: top\">1680</td>\n",
       "        <td style=\"padding-left: 1em; padding-right: 1em; text-align: center; vertical-align: top\">8080</td>\n",
       "        <td style=\"padding-left: 1em; padding-right: 1em; text-align: center; vertical-align: top\">1</td>\n",
       "        <td style=\"padding-left: 1em; padding-right: 1em; text-align: center; vertical-align: top\">0</td>\n",
       "    </tr>\n",
       "    <tr>\n",
       "        <td style=\"padding-left: 1em; padding-right: 1em; text-align: center; vertical-align: top\">7237550310</td>\n",
       "        <td style=\"padding-left: 1em; padding-right: 1em; text-align: center; vertical-align: top\">2014-05-12 00:00:00+00:00</td>\n",
       "        <td style=\"padding-left: 1em; padding-right: 1em; text-align: center; vertical-align: top\">1225000</td>\n",
       "        <td style=\"padding-left: 1em; padding-right: 1em; text-align: center; vertical-align: top\">4</td>\n",
       "        <td style=\"padding-left: 1em; padding-right: 1em; text-align: center; vertical-align: top\">4.5</td>\n",
       "        <td style=\"padding-left: 1em; padding-right: 1em; text-align: center; vertical-align: top\">5420</td>\n",
       "        <td style=\"padding-left: 1em; padding-right: 1em; text-align: center; vertical-align: top\">101930</td>\n",
       "        <td style=\"padding-left: 1em; padding-right: 1em; text-align: center; vertical-align: top\">1</td>\n",
       "        <td style=\"padding-left: 1em; padding-right: 1em; text-align: center; vertical-align: top\">0</td>\n",
       "    </tr>\n",
       "    <tr>\n",
       "        <td style=\"padding-left: 1em; padding-right: 1em; text-align: center; vertical-align: top\">1321400060</td>\n",
       "        <td style=\"padding-left: 1em; padding-right: 1em; text-align: center; vertical-align: top\">2014-06-27 00:00:00+00:00</td>\n",
       "        <td style=\"padding-left: 1em; padding-right: 1em; text-align: center; vertical-align: top\">257500</td>\n",
       "        <td style=\"padding-left: 1em; padding-right: 1em; text-align: center; vertical-align: top\">3</td>\n",
       "        <td style=\"padding-left: 1em; padding-right: 1em; text-align: center; vertical-align: top\">2.25</td>\n",
       "        <td style=\"padding-left: 1em; padding-right: 1em; text-align: center; vertical-align: top\">1715</td>\n",
       "        <td style=\"padding-left: 1em; padding-right: 1em; text-align: center; vertical-align: top\">6819</td>\n",
       "        <td style=\"padding-left: 1em; padding-right: 1em; text-align: center; vertical-align: top\">2</td>\n",
       "        <td style=\"padding-left: 1em; padding-right: 1em; text-align: center; vertical-align: top\">0</td>\n",
       "    </tr>\n",
       "    <tr>\n",
       "        <td style=\"padding-left: 1em; padding-right: 1em; text-align: center; vertical-align: top\">2008000270</td>\n",
       "        <td style=\"padding-left: 1em; padding-right: 1em; text-align: center; vertical-align: top\">2015-01-15 00:00:00+00:00</td>\n",
       "        <td style=\"padding-left: 1em; padding-right: 1em; text-align: center; vertical-align: top\">291850</td>\n",
       "        <td style=\"padding-left: 1em; padding-right: 1em; text-align: center; vertical-align: top\">3</td>\n",
       "        <td style=\"padding-left: 1em; padding-right: 1em; text-align: center; vertical-align: top\">1.5</td>\n",
       "        <td style=\"padding-left: 1em; padding-right: 1em; text-align: center; vertical-align: top\">1060</td>\n",
       "        <td style=\"padding-left: 1em; padding-right: 1em; text-align: center; vertical-align: top\">9711</td>\n",
       "        <td style=\"padding-left: 1em; padding-right: 1em; text-align: center; vertical-align: top\">1</td>\n",
       "        <td style=\"padding-left: 1em; padding-right: 1em; text-align: center; vertical-align: top\">0</td>\n",
       "    </tr>\n",
       "    <tr>\n",
       "        <td style=\"padding-left: 1em; padding-right: 1em; text-align: center; vertical-align: top\">2414600126</td>\n",
       "        <td style=\"padding-left: 1em; padding-right: 1em; text-align: center; vertical-align: top\">2015-04-15 00:00:00+00:00</td>\n",
       "        <td style=\"padding-left: 1em; padding-right: 1em; text-align: center; vertical-align: top\">229500</td>\n",
       "        <td style=\"padding-left: 1em; padding-right: 1em; text-align: center; vertical-align: top\">3</td>\n",
       "        <td style=\"padding-left: 1em; padding-right: 1em; text-align: center; vertical-align: top\">1</td>\n",
       "        <td style=\"padding-left: 1em; padding-right: 1em; text-align: center; vertical-align: top\">1780</td>\n",
       "        <td style=\"padding-left: 1em; padding-right: 1em; text-align: center; vertical-align: top\">7470</td>\n",
       "        <td style=\"padding-left: 1em; padding-right: 1em; text-align: center; vertical-align: top\">1</td>\n",
       "        <td style=\"padding-left: 1em; padding-right: 1em; text-align: center; vertical-align: top\">0</td>\n",
       "    </tr>\n",
       "    <tr>\n",
       "        <td style=\"padding-left: 1em; padding-right: 1em; text-align: center; vertical-align: top\">3793500160</td>\n",
       "        <td style=\"padding-left: 1em; padding-right: 1em; text-align: center; vertical-align: top\">2015-03-12 00:00:00+00:00</td>\n",
       "        <td style=\"padding-left: 1em; padding-right: 1em; text-align: center; vertical-align: top\">323000</td>\n",
       "        <td style=\"padding-left: 1em; padding-right: 1em; text-align: center; vertical-align: top\">3</td>\n",
       "        <td style=\"padding-left: 1em; padding-right: 1em; text-align: center; vertical-align: top\">2.5</td>\n",
       "        <td style=\"padding-left: 1em; padding-right: 1em; text-align: center; vertical-align: top\">1890</td>\n",
       "        <td style=\"padding-left: 1em; padding-right: 1em; text-align: center; vertical-align: top\">6560</td>\n",
       "        <td style=\"padding-left: 1em; padding-right: 1em; text-align: center; vertical-align: top\">2</td>\n",
       "        <td style=\"padding-left: 1em; padding-right: 1em; text-align: center; vertical-align: top\">0</td>\n",
       "    </tr>\n",
       "</table>\n",
       "<table frame=\"box\" rules=\"cols\">\n",
       "    <tr>\n",
       "        <th style=\"padding-left: 1em; padding-right: 1em; text-align: center\">view</th>\n",
       "        <th style=\"padding-left: 1em; padding-right: 1em; text-align: center\">condition</th>\n",
       "        <th style=\"padding-left: 1em; padding-right: 1em; text-align: center\">grade</th>\n",
       "        <th style=\"padding-left: 1em; padding-right: 1em; text-align: center\">sqft_above</th>\n",
       "        <th style=\"padding-left: 1em; padding-right: 1em; text-align: center\">sqft_basement</th>\n",
       "        <th style=\"padding-left: 1em; padding-right: 1em; text-align: center\">yr_built</th>\n",
       "        <th style=\"padding-left: 1em; padding-right: 1em; text-align: center\">yr_renovated</th>\n",
       "        <th style=\"padding-left: 1em; padding-right: 1em; text-align: center\">zipcode</th>\n",
       "        <th style=\"padding-left: 1em; padding-right: 1em; text-align: center\">lat</th>\n",
       "    </tr>\n",
       "    <tr>\n",
       "        <td style=\"padding-left: 1em; padding-right: 1em; text-align: center; vertical-align: top\">0</td>\n",
       "        <td style=\"padding-left: 1em; padding-right: 1em; text-align: center; vertical-align: top\">3</td>\n",
       "        <td style=\"padding-left: 1em; padding-right: 1em; text-align: center; vertical-align: top\">7</td>\n",
       "        <td style=\"padding-left: 1em; padding-right: 1em; text-align: center; vertical-align: top\">1180</td>\n",
       "        <td style=\"padding-left: 1em; padding-right: 1em; text-align: center; vertical-align: top\">0</td>\n",
       "        <td style=\"padding-left: 1em; padding-right: 1em; text-align: center; vertical-align: top\">1955</td>\n",
       "        <td style=\"padding-left: 1em; padding-right: 1em; text-align: center; vertical-align: top\">0</td>\n",
       "        <td style=\"padding-left: 1em; padding-right: 1em; text-align: center; vertical-align: top\">98178</td>\n",
       "        <td style=\"padding-left: 1em; padding-right: 1em; text-align: center; vertical-align: top\">47.51123398</td>\n",
       "    </tr>\n",
       "    <tr>\n",
       "        <td style=\"padding-left: 1em; padding-right: 1em; text-align: center; vertical-align: top\">0</td>\n",
       "        <td style=\"padding-left: 1em; padding-right: 1em; text-align: center; vertical-align: top\">3</td>\n",
       "        <td style=\"padding-left: 1em; padding-right: 1em; text-align: center; vertical-align: top\">7</td>\n",
       "        <td style=\"padding-left: 1em; padding-right: 1em; text-align: center; vertical-align: top\">2170</td>\n",
       "        <td style=\"padding-left: 1em; padding-right: 1em; text-align: center; vertical-align: top\">400</td>\n",
       "        <td style=\"padding-left: 1em; padding-right: 1em; text-align: center; vertical-align: top\">1951</td>\n",
       "        <td style=\"padding-left: 1em; padding-right: 1em; text-align: center; vertical-align: top\">1991</td>\n",
       "        <td style=\"padding-left: 1em; padding-right: 1em; text-align: center; vertical-align: top\">98125</td>\n",
       "        <td style=\"padding-left: 1em; padding-right: 1em; text-align: center; vertical-align: top\">47.72102274</td>\n",
       "    </tr>\n",
       "    <tr>\n",
       "        <td style=\"padding-left: 1em; padding-right: 1em; text-align: center; vertical-align: top\">0</td>\n",
       "        <td style=\"padding-left: 1em; padding-right: 1em; text-align: center; vertical-align: top\">3</td>\n",
       "        <td style=\"padding-left: 1em; padding-right: 1em; text-align: center; vertical-align: top\">6</td>\n",
       "        <td style=\"padding-left: 1em; padding-right: 1em; text-align: center; vertical-align: top\">770</td>\n",
       "        <td style=\"padding-left: 1em; padding-right: 1em; text-align: center; vertical-align: top\">0</td>\n",
       "        <td style=\"padding-left: 1em; padding-right: 1em; text-align: center; vertical-align: top\">1933</td>\n",
       "        <td style=\"padding-left: 1em; padding-right: 1em; text-align: center; vertical-align: top\">0</td>\n",
       "        <td style=\"padding-left: 1em; padding-right: 1em; text-align: center; vertical-align: top\">98028</td>\n",
       "        <td style=\"padding-left: 1em; padding-right: 1em; text-align: center; vertical-align: top\">47.73792661</td>\n",
       "    </tr>\n",
       "    <tr>\n",
       "        <td style=\"padding-left: 1em; padding-right: 1em; text-align: center; vertical-align: top\">0</td>\n",
       "        <td style=\"padding-left: 1em; padding-right: 1em; text-align: center; vertical-align: top\">5</td>\n",
       "        <td style=\"padding-left: 1em; padding-right: 1em; text-align: center; vertical-align: top\">7</td>\n",
       "        <td style=\"padding-left: 1em; padding-right: 1em; text-align: center; vertical-align: top\">1050</td>\n",
       "        <td style=\"padding-left: 1em; padding-right: 1em; text-align: center; vertical-align: top\">910</td>\n",
       "        <td style=\"padding-left: 1em; padding-right: 1em; text-align: center; vertical-align: top\">1965</td>\n",
       "        <td style=\"padding-left: 1em; padding-right: 1em; text-align: center; vertical-align: top\">0</td>\n",
       "        <td style=\"padding-left: 1em; padding-right: 1em; text-align: center; vertical-align: top\">98136</td>\n",
       "        <td style=\"padding-left: 1em; padding-right: 1em; text-align: center; vertical-align: top\">47.52082</td>\n",
       "    </tr>\n",
       "    <tr>\n",
       "        <td style=\"padding-left: 1em; padding-right: 1em; text-align: center; vertical-align: top\">0</td>\n",
       "        <td style=\"padding-left: 1em; padding-right: 1em; text-align: center; vertical-align: top\">3</td>\n",
       "        <td style=\"padding-left: 1em; padding-right: 1em; text-align: center; vertical-align: top\">8</td>\n",
       "        <td style=\"padding-left: 1em; padding-right: 1em; text-align: center; vertical-align: top\">1680</td>\n",
       "        <td style=\"padding-left: 1em; padding-right: 1em; text-align: center; vertical-align: top\">0</td>\n",
       "        <td style=\"padding-left: 1em; padding-right: 1em; text-align: center; vertical-align: top\">1987</td>\n",
       "        <td style=\"padding-left: 1em; padding-right: 1em; text-align: center; vertical-align: top\">0</td>\n",
       "        <td style=\"padding-left: 1em; padding-right: 1em; text-align: center; vertical-align: top\">98074</td>\n",
       "        <td style=\"padding-left: 1em; padding-right: 1em; text-align: center; vertical-align: top\">47.61681228</td>\n",
       "    </tr>\n",
       "    <tr>\n",
       "        <td style=\"padding-left: 1em; padding-right: 1em; text-align: center; vertical-align: top\">0</td>\n",
       "        <td style=\"padding-left: 1em; padding-right: 1em; text-align: center; vertical-align: top\">3</td>\n",
       "        <td style=\"padding-left: 1em; padding-right: 1em; text-align: center; vertical-align: top\">11</td>\n",
       "        <td style=\"padding-left: 1em; padding-right: 1em; text-align: center; vertical-align: top\">3890</td>\n",
       "        <td style=\"padding-left: 1em; padding-right: 1em; text-align: center; vertical-align: top\">1530</td>\n",
       "        <td style=\"padding-left: 1em; padding-right: 1em; text-align: center; vertical-align: top\">2001</td>\n",
       "        <td style=\"padding-left: 1em; padding-right: 1em; text-align: center; vertical-align: top\">0</td>\n",
       "        <td style=\"padding-left: 1em; padding-right: 1em; text-align: center; vertical-align: top\">98053</td>\n",
       "        <td style=\"padding-left: 1em; padding-right: 1em; text-align: center; vertical-align: top\">47.65611835</td>\n",
       "    </tr>\n",
       "    <tr>\n",
       "        <td style=\"padding-left: 1em; padding-right: 1em; text-align: center; vertical-align: top\">0</td>\n",
       "        <td style=\"padding-left: 1em; padding-right: 1em; text-align: center; vertical-align: top\">3</td>\n",
       "        <td style=\"padding-left: 1em; padding-right: 1em; text-align: center; vertical-align: top\">7</td>\n",
       "        <td style=\"padding-left: 1em; padding-right: 1em; text-align: center; vertical-align: top\">1715</td>\n",
       "        <td style=\"padding-left: 1em; padding-right: 1em; text-align: center; vertical-align: top\">0</td>\n",
       "        <td style=\"padding-left: 1em; padding-right: 1em; text-align: center; vertical-align: top\">1995</td>\n",
       "        <td style=\"padding-left: 1em; padding-right: 1em; text-align: center; vertical-align: top\">0</td>\n",
       "        <td style=\"padding-left: 1em; padding-right: 1em; text-align: center; vertical-align: top\">98003</td>\n",
       "        <td style=\"padding-left: 1em; padding-right: 1em; text-align: center; vertical-align: top\">47.30972002</td>\n",
       "    </tr>\n",
       "    <tr>\n",
       "        <td style=\"padding-left: 1em; padding-right: 1em; text-align: center; vertical-align: top\">0</td>\n",
       "        <td style=\"padding-left: 1em; padding-right: 1em; text-align: center; vertical-align: top\">3</td>\n",
       "        <td style=\"padding-left: 1em; padding-right: 1em; text-align: center; vertical-align: top\">7</td>\n",
       "        <td style=\"padding-left: 1em; padding-right: 1em; text-align: center; vertical-align: top\">1060</td>\n",
       "        <td style=\"padding-left: 1em; padding-right: 1em; text-align: center; vertical-align: top\">0</td>\n",
       "        <td style=\"padding-left: 1em; padding-right: 1em; text-align: center; vertical-align: top\">1963</td>\n",
       "        <td style=\"padding-left: 1em; padding-right: 1em; text-align: center; vertical-align: top\">0</td>\n",
       "        <td style=\"padding-left: 1em; padding-right: 1em; text-align: center; vertical-align: top\">98198</td>\n",
       "        <td style=\"padding-left: 1em; padding-right: 1em; text-align: center; vertical-align: top\">47.40949984</td>\n",
       "    </tr>\n",
       "    <tr>\n",
       "        <td style=\"padding-left: 1em; padding-right: 1em; text-align: center; vertical-align: top\">0</td>\n",
       "        <td style=\"padding-left: 1em; padding-right: 1em; text-align: center; vertical-align: top\">3</td>\n",
       "        <td style=\"padding-left: 1em; padding-right: 1em; text-align: center; vertical-align: top\">7</td>\n",
       "        <td style=\"padding-left: 1em; padding-right: 1em; text-align: center; vertical-align: top\">1050</td>\n",
       "        <td style=\"padding-left: 1em; padding-right: 1em; text-align: center; vertical-align: top\">730</td>\n",
       "        <td style=\"padding-left: 1em; padding-right: 1em; text-align: center; vertical-align: top\">1960</td>\n",
       "        <td style=\"padding-left: 1em; padding-right: 1em; text-align: center; vertical-align: top\">0</td>\n",
       "        <td style=\"padding-left: 1em; padding-right: 1em; text-align: center; vertical-align: top\">98146</td>\n",
       "        <td style=\"padding-left: 1em; padding-right: 1em; text-align: center; vertical-align: top\">47.51229381</td>\n",
       "    </tr>\n",
       "    <tr>\n",
       "        <td style=\"padding-left: 1em; padding-right: 1em; text-align: center; vertical-align: top\">0</td>\n",
       "        <td style=\"padding-left: 1em; padding-right: 1em; text-align: center; vertical-align: top\">3</td>\n",
       "        <td style=\"padding-left: 1em; padding-right: 1em; text-align: center; vertical-align: top\">7</td>\n",
       "        <td style=\"padding-left: 1em; padding-right: 1em; text-align: center; vertical-align: top\">1890</td>\n",
       "        <td style=\"padding-left: 1em; padding-right: 1em; text-align: center; vertical-align: top\">0</td>\n",
       "        <td style=\"padding-left: 1em; padding-right: 1em; text-align: center; vertical-align: top\">2003</td>\n",
       "        <td style=\"padding-left: 1em; padding-right: 1em; text-align: center; vertical-align: top\">0</td>\n",
       "        <td style=\"padding-left: 1em; padding-right: 1em; text-align: center; vertical-align: top\">98038</td>\n",
       "        <td style=\"padding-left: 1em; padding-right: 1em; text-align: center; vertical-align: top\">47.36840673</td>\n",
       "    </tr>\n",
       "</table>\n",
       "<table frame=\"box\" rules=\"cols\">\n",
       "    <tr>\n",
       "        <th style=\"padding-left: 1em; padding-right: 1em; text-align: center\">long</th>\n",
       "        <th style=\"padding-left: 1em; padding-right: 1em; text-align: center\">sqft_living15</th>\n",
       "        <th style=\"padding-left: 1em; padding-right: 1em; text-align: center\">sqft_lot15</th>\n",
       "    </tr>\n",
       "    <tr>\n",
       "        <td style=\"padding-left: 1em; padding-right: 1em; text-align: center; vertical-align: top\">-122.25677536</td>\n",
       "        <td style=\"padding-left: 1em; padding-right: 1em; text-align: center; vertical-align: top\">1340.0</td>\n",
       "        <td style=\"padding-left: 1em; padding-right: 1em; text-align: center; vertical-align: top\">5650.0</td>\n",
       "    </tr>\n",
       "    <tr>\n",
       "        <td style=\"padding-left: 1em; padding-right: 1em; text-align: center; vertical-align: top\">-122.3188624</td>\n",
       "        <td style=\"padding-left: 1em; padding-right: 1em; text-align: center; vertical-align: top\">1690.0</td>\n",
       "        <td style=\"padding-left: 1em; padding-right: 1em; text-align: center; vertical-align: top\">7639.0</td>\n",
       "    </tr>\n",
       "    <tr>\n",
       "        <td style=\"padding-left: 1em; padding-right: 1em; text-align: center; vertical-align: top\">-122.23319601</td>\n",
       "        <td style=\"padding-left: 1em; padding-right: 1em; text-align: center; vertical-align: top\">2720.0</td>\n",
       "        <td style=\"padding-left: 1em; padding-right: 1em; text-align: center; vertical-align: top\">8062.0</td>\n",
       "    </tr>\n",
       "    <tr>\n",
       "        <td style=\"padding-left: 1em; padding-right: 1em; text-align: center; vertical-align: top\">-122.39318505</td>\n",
       "        <td style=\"padding-left: 1em; padding-right: 1em; text-align: center; vertical-align: top\">1360.0</td>\n",
       "        <td style=\"padding-left: 1em; padding-right: 1em; text-align: center; vertical-align: top\">5000.0</td>\n",
       "    </tr>\n",
       "    <tr>\n",
       "        <td style=\"padding-left: 1em; padding-right: 1em; text-align: center; vertical-align: top\">-122.04490059</td>\n",
       "        <td style=\"padding-left: 1em; padding-right: 1em; text-align: center; vertical-align: top\">1800.0</td>\n",
       "        <td style=\"padding-left: 1em; padding-right: 1em; text-align: center; vertical-align: top\">7503.0</td>\n",
       "    </tr>\n",
       "    <tr>\n",
       "        <td style=\"padding-left: 1em; padding-right: 1em; text-align: center; vertical-align: top\">-122.00528655</td>\n",
       "        <td style=\"padding-left: 1em; padding-right: 1em; text-align: center; vertical-align: top\">4760.0</td>\n",
       "        <td style=\"padding-left: 1em; padding-right: 1em; text-align: center; vertical-align: top\">101930.0</td>\n",
       "    </tr>\n",
       "    <tr>\n",
       "        <td style=\"padding-left: 1em; padding-right: 1em; text-align: center; vertical-align: top\">-122.32704857</td>\n",
       "        <td style=\"padding-left: 1em; padding-right: 1em; text-align: center; vertical-align: top\">2238.0</td>\n",
       "        <td style=\"padding-left: 1em; padding-right: 1em; text-align: center; vertical-align: top\">6819.0</td>\n",
       "    </tr>\n",
       "    <tr>\n",
       "        <td style=\"padding-left: 1em; padding-right: 1em; text-align: center; vertical-align: top\">-122.31457273</td>\n",
       "        <td style=\"padding-left: 1em; padding-right: 1em; text-align: center; vertical-align: top\">1650.0</td>\n",
       "        <td style=\"padding-left: 1em; padding-right: 1em; text-align: center; vertical-align: top\">9711.0</td>\n",
       "    </tr>\n",
       "    <tr>\n",
       "        <td style=\"padding-left: 1em; padding-right: 1em; text-align: center; vertical-align: top\">-122.33659507</td>\n",
       "        <td style=\"padding-left: 1em; padding-right: 1em; text-align: center; vertical-align: top\">1780.0</td>\n",
       "        <td style=\"padding-left: 1em; padding-right: 1em; text-align: center; vertical-align: top\">8113.0</td>\n",
       "    </tr>\n",
       "    <tr>\n",
       "        <td style=\"padding-left: 1em; padding-right: 1em; text-align: center; vertical-align: top\">-122.0308176</td>\n",
       "        <td style=\"padding-left: 1em; padding-right: 1em; text-align: center; vertical-align: top\">2390.0</td>\n",
       "        <td style=\"padding-left: 1em; padding-right: 1em; text-align: center; vertical-align: top\">7570.0</td>\n",
       "    </tr>\n",
       "</table>\n",
       "[21613 rows x 21 columns]<br/>Note: Only the head of the SFrame is printed.<br/>You can use print_rows(num_rows=m, num_columns=n) to print more rows and columns.\n",
       "</div>"
      ],
      "text/plain": [
       "Columns:\n",
       "\tid\tstr\n",
       "\tdate\tdatetime\n",
       "\tprice\tint\n",
       "\tbedrooms\tstr\n",
       "\tbathrooms\tstr\n",
       "\tsqft_living\tint\n",
       "\tsqft_lot\tint\n",
       "\tfloors\tstr\n",
       "\twaterfront\tint\n",
       "\tview\tint\n",
       "\tcondition\tint\n",
       "\tgrade\tint\n",
       "\tsqft_above\tint\n",
       "\tsqft_basement\tint\n",
       "\tyr_built\tint\n",
       "\tyr_renovated\tint\n",
       "\tzipcode\tstr\n",
       "\tlat\tfloat\n",
       "\tlong\tfloat\n",
       "\tsqft_living15\tfloat\n",
       "\tsqft_lot15\tfloat\n",
       "\n",
       "Rows: 21613\n",
       "\n",
       "Data:\n",
       "+------------+---------------------------+---------+----------+-----------+-------------+\n",
       "|     id     |            date           |  price  | bedrooms | bathrooms | sqft_living |\n",
       "+------------+---------------------------+---------+----------+-----------+-------------+\n",
       "| 7129300520 | 2014-10-13 00:00:00+00:00 |  221900 |    3     |     1     |     1180    |\n",
       "| 6414100192 | 2014-12-09 00:00:00+00:00 |  538000 |    3     |    2.25   |     2570    |\n",
       "| 5631500400 | 2015-02-25 00:00:00+00:00 |  180000 |    2     |     1     |     770     |\n",
       "| 2487200875 | 2014-12-09 00:00:00+00:00 |  604000 |    4     |     3     |     1960    |\n",
       "| 1954400510 | 2015-02-18 00:00:00+00:00 |  510000 |    3     |     2     |     1680    |\n",
       "| 7237550310 | 2014-05-12 00:00:00+00:00 | 1225000 |    4     |    4.5    |     5420    |\n",
       "| 1321400060 | 2014-06-27 00:00:00+00:00 |  257500 |    3     |    2.25   |     1715    |\n",
       "| 2008000270 | 2015-01-15 00:00:00+00:00 |  291850 |    3     |    1.5    |     1060    |\n",
       "| 2414600126 | 2015-04-15 00:00:00+00:00 |  229500 |    3     |     1     |     1780    |\n",
       "| 3793500160 | 2015-03-12 00:00:00+00:00 |  323000 |    3     |    2.5    |     1890    |\n",
       "+------------+---------------------------+---------+----------+-----------+-------------+\n",
       "+----------+--------+------------+------+-----------+-------+------------+---------------+\n",
       "| sqft_lot | floors | waterfront | view | condition | grade | sqft_above | sqft_basement |\n",
       "+----------+--------+------------+------+-----------+-------+------------+---------------+\n",
       "|   5650   |   1    |     0      |  0   |     3     |   7   |    1180    |       0       |\n",
       "|   7242   |   2    |     0      |  0   |     3     |   7   |    2170    |      400      |\n",
       "|  10000   |   1    |     0      |  0   |     3     |   6   |    770     |       0       |\n",
       "|   5000   |   1    |     0      |  0   |     5     |   7   |    1050    |      910      |\n",
       "|   8080   |   1    |     0      |  0   |     3     |   8   |    1680    |       0       |\n",
       "|  101930  |   1    |     0      |  0   |     3     |   11  |    3890    |      1530     |\n",
       "|   6819   |   2    |     0      |  0   |     3     |   7   |    1715    |       0       |\n",
       "|   9711   |   1    |     0      |  0   |     3     |   7   |    1060    |       0       |\n",
       "|   7470   |   1    |     0      |  0   |     3     |   7   |    1050    |      730      |\n",
       "|   6560   |   2    |     0      |  0   |     3     |   7   |    1890    |       0       |\n",
       "+----------+--------+------------+------+-----------+-------+------------+---------------+\n",
       "+----------+--------------+---------+-------------+---------------+---------------+-----+\n",
       "| yr_built | yr_renovated | zipcode |     lat     |      long     | sqft_living15 | ... |\n",
       "+----------+--------------+---------+-------------+---------------+---------------+-----+\n",
       "|   1955   |      0       |  98178  | 47.51123398 | -122.25677536 |     1340.0    | ... |\n",
       "|   1951   |     1991     |  98125  | 47.72102274 |  -122.3188624 |     1690.0    | ... |\n",
       "|   1933   |      0       |  98028  | 47.73792661 | -122.23319601 |     2720.0    | ... |\n",
       "|   1965   |      0       |  98136  |   47.52082  | -122.39318505 |     1360.0    | ... |\n",
       "|   1987   |      0       |  98074  | 47.61681228 | -122.04490059 |     1800.0    | ... |\n",
       "|   2001   |      0       |  98053  | 47.65611835 | -122.00528655 |     4760.0    | ... |\n",
       "|   1995   |      0       |  98003  | 47.30972002 | -122.32704857 |     2238.0    | ... |\n",
       "|   1963   |      0       |  98198  | 47.40949984 | -122.31457273 |     1650.0    | ... |\n",
       "|   1960   |      0       |  98146  | 47.51229381 | -122.33659507 |     1780.0    | ... |\n",
       "|   2003   |      0       |  98038  | 47.36840673 |  -122.0308176 |     2390.0    | ... |\n",
       "+----------+--------------+---------+-------------+---------------+---------------+-----+\n",
       "[21613 rows x 21 columns]\n",
       "Note: Only the head of the SFrame is printed.\n",
       "You can use print_rows(num_rows=m, num_columns=n) to print more rows and columns."
      ]
     },
     "execution_count": 4,
     "metadata": {},
     "output_type": "execute_result"
    }
   ],
   "source": [
    "sales"
   ]
  },
  {
   "cell_type": "markdown",
   "metadata": {},
   "source": [
    "# Exploring the data for housing sales "
   ]
  },
  {
   "cell_type": "markdown",
   "metadata": {},
   "source": [
    "The house price is correlated with the number of square feet of living space."
   ]
  },
  {
   "cell_type": "code",
   "execution_count": 5,
   "metadata": {
    "collapsed": false
   },
   "outputs": [
    {
     "data": {
      "application/javascript": [
       "$(\"head\").append($(\"<link/>\").attr({\n",
       "  rel:  \"stylesheet\",\n",
       "  type: \"text/css\",\n",
       "  href: \"//cdnjs.cloudflare.com/ajax/libs/font-awesome/4.1.0/css/font-awesome.min.css\"\n",
       "}));\n",
       "$(\"head\").append($(\"<link/>\").attr({\n",
       "  rel:  \"stylesheet\",\n",
       "  type: \"text/css\",\n",
       "  href: \"//dato.com/files/canvas/1.10.1/css/canvas.css\"\n",
       "}));\n",
       "\n",
       "            (function(){\n",
       "\n",
       "                var e = null;\n",
       "                if (typeof element == 'undefined') {\n",
       "                    var scripts = document.getElementsByTagName('script');\n",
       "                    var thisScriptTag = scripts[scripts.length-1];\n",
       "                    var parentDiv = thisScriptTag.parentNode;\n",
       "                    e = document.createElement('div');\n",
       "                    parentDiv.appendChild(e);\n",
       "                } else {\n",
       "                    e = element[0];\n",
       "                }\n",
       "\n",
       "                if (typeof requirejs !== 'undefined') {\n",
       "                    // disable load timeout; ipython_app.js is large and can take a while to load.\n",
       "                    requirejs.config({waitSeconds: 0});\n",
       "                }\n",
       "\n",
       "                require(['//dato.com/files/canvas/1.10.1/js/ipython_app.js'], function(IPythonApp){\n",
       "                    var app = new IPythonApp();\n",
       "                    app.attachView('sframe','Plots', {\"data\": [[2570, 439000], [2280, 539500], [1240, 331000], [1580, 520000], [2380, 695000], [1130, 343000], [1210, 310000], [1690, 207000], [1440, 395000], [3090, 751000], [4010, 1646000], [1250, 455000], [1030, 240000], [2481, 309000], [1350, 299000], [2950, 650000], [1260, 305000], [1910, 580000], [1200, 189000], [1500, 529950], [2410, 735000], [1680, 306000], [1540, 357500], [1670, 270000], [2450, 329000], [2080, 800000], [2440, 431000], [2240, 555000], [2130, 325000], [2470, 360000], [1470, 525000], [4270, 997950], [1390, 469000], [1090, 535000], [3720, 1450000], [2870, 850000], [1660, 550000], [1790, 312000], [3045, 414000], [1400, 507250], [2460, 965000], [1120, 750000], [1110, 345000], [1510, 335000], [1370, 203000], [2550, 630000], [2880, 775000], [2130, 955500], [1950, 299000], [2980, 330000], [1020, 310000], [750, 135000], [2370, 735000], [1020, 231750], [2550, 612500], [2080, 300000], [2030, 474950], [3690, 780000], [2580, 700000], [1850, 430000], [1260, 200500], [1250, 225000], [4800, 1975000], [2340, 396000], [3040, 776000], [1070, 543000], [2000, 519000], [2130, 515000], [1700, 161000], [2840, 500000], [4770, 1040000], [4360, 2300000], [3430, 515000], [1670, 456000], [1850, 474950], [2510, 881000], [2420, 640000], [1040, 480000], [1980, 545800], [2720, 790000], [1710, 895000], [2130, 292000], [2250, 349950], [770, 217000], [1400, 658600], [1890, 325000], [2660, 305000], [1320, 279000], [1110, 249000], [2050, 265000], [1680, 425000], [2870, 480000], [1950, 564500], [2160, 550000], [1490, 354901], [2840, 717550], [700, 266000], [1160, 199000], [2440, 720000], [2530, 720000], [1220, 177500], [1210, 160000], [1940, 500000], [1390, 204900], [1920, 625000], [3020, 750000], [1740, 515000], [2590, 779380], [2020, 720000], [1970, 540000], [1830, 323000], [2490, 616000], [3216, 498445], [2320, 445000], [2100, 554990], [3640, 1651000], [1610, 450000], [1700, 334500], [2730, 770000], [2410, 725000], [3680, 770000], [1130, 411500], [2060, 270000], [1970, 540000], [1460, 392137], [2750, 1450000], [2290, 685900], [1180, 425000], [2780, 550000], [2710, 260000], [1270, 416000], [1290, 359950], [2280, 665000], [1710, 579000], [5310, 1050000], [1740, 616000], [1720, 386380], [980, 352500], [1210, 259000], [1650, 752000], [1970, 315000], [1660, 712500], [2320, 568000], [880, 248500], [1320, 455000], [2630, 445000], [1730, 292000], [1710, 287000], [2260, 258000], [1430, 511000], [1070, 95000], [960, 545000], [2420, 945000], [2590, 533000], [1760, 575000], [3610, 425000], [3820, 830000], [2640, 320000], [870, 410000], [1680, 500000], [1770, 279900], [1390, 230000], [1840, 510000], [620, 148000], [1010, 387000], [800, 110000], [1010, 254000], [1670, 349170], [2640, 657000], [1520, 672600], [940, 392000], [2150, 550000], [1240, 290000], [2800, 999000], [2008, 460000], [2390, 415000], [2920, 795000], [1440, 255500], [3030, 902000], [2570, 275000], [1470, 344950], [2180, 555000], [1190, 390000], [2100, 610000], [1090, 220000], [1930, 345500], [2270, 475000], [1820, 385000], [730, 464000], [3370, 480000], [2770, 679000], [1820, 499950], [2880, 439000], [2980, 932800], [3170, 1035000], [1690, 256883], [1000, 715000], [3070, 350000], [1660, 680000], [2300, 258750], [1430, 384000], [2040, 525000], [1420, 349950], [840, 202000], [2370, 348000], [2810, 812500], [2440, 677900], [1920, 625000], [2560, 823000], [1320, 240000], [1820, 239975], [1770, 295000], [3260, 681500], [2860, 289275], [1780, 643000], [1420, 270000], [2320, 360000], [1010, 201700], [920, 265000], [2350, 469995], [2430, 560000], [2341, 640000], [2330, 527000], [2380, 594950], [1040, 270000], [1940, 380000], [1140, 243800], [1520, 330000], [910, 275000], [2620, 550120], [1560, 430000], [1600, 286000], [2940, 315000], [1460, 265000], [2330, 362500], [2700, 552500], [1920, 303500], [1570, 235000], [3530, 995000], [1610, 565000], [1430, 225000], [1430, 195000], [3080, 300000], [1340, 335000], [2120, 490000], [1278, 358000], [2210, 445500], [1660, 235000], [2640, 537000], [4390, 1510000], [1540, 430000], [1250, 165000], [2720, 975000], [860, 227000], [960, 255000], [1940, 392000], [910, 285000], [2400, 333000], [2570, 370000], [1680, 526000], [2730, 980000], [2420, 345000], [3620, 394000], [1740, 315000], [1840, 550000], [3160, 335000], [1390, 328500], [970, 495000], [960, 349810], [1340, 332000], [1160, 422000], [1220, 575000], [1950, 615000], [1040, 258000], [3490, 630000], [2653, 365000], [2880, 1000000], [1860, 280000], [2040, 499000], [1080, 210000], [2720, 594000], [1470, 400000], [1020, 195000], [3210, 770000], [3000, 550000], [2120, 489000], [1460, 207000], [1720, 575000], [2760, 834538], [3020, 775000], [4720, 860000], [2210, 794154], [3160, 545000], [1180, 209950], [2830, 782000], [1463, 390000], [1310, 170000], [2630, 507950], [1180, 289900], [1460, 521000], [1380, 350000], [4160, 1110000], [2770, 1306000], [3070, 1195000], [940, 242500], [1750, 225000], [1510, 340768], [950, 500000], [1150, 480000], [2480, 665000], [2110, 548000], [1510, 624000], [2340, 525000], [1580, 279900], [1870, 348500], [3020, 275000], [2070, 405000], [790, 365000], [980, 329000], [1610, 630000], [1220, 237200], [2630, 610000], [1590, 320000], [1470, 640000], [1930, 435000], [2530, 700000], [1630, 360000], [1110, 190500], [2190, 385000], [2640, 570000], [5840, 2200000], [1570, 765000], [3030, 766950], [2180, 470000], [1370, 257950], [2340, 505000], [1740, 452000], [1410, 335000], [1980, 496752], [1250, 310000], [1130, 239000], [1940, 359000], [2500, 425000], [1550, 320000], [2690, 700000], [1995, 505000], [2475, 329900], [1560, 590000], [3880, 506000], [2840, 525000], [2870, 690700], [1250, 439000], [1900, 315000], [1410, 301500], [1900, 667000], [1210, 364000], [2700, 625000], [1480, 505000], [4980, 1250000], [2632, 349950], [1960, 509000], [1220, 500000], [2940, 590000], [890, 180000], [2050, 329950], [3828, 552900], [2500, 965800], [3200, 785000], [980, 447000], [2220, 490000], [1470, 249900], [1370, 247200], [2200, 585000], [1190, 517500], [2610, 1049000], [3230, 730000], [1540, 529000], [710, 264000], [1590, 323000], [3390, 495000], [1180, 190000], [1560, 545500], [2360, 577000], [1840, 329000], [1270, 348000], [2580, 354000], [1310, 405000], [2640, 678000], [2120, 403950], [2960, 385000], [1550, 345000], [2200, 349900], [2190, 439950], [1350, 595000], [2350, 598850], [1220, 330000], [1680, 575000], [2280, 410000], [3710, 998000], [1960, 355000], [2340, 730000], [1130, 565000], [1010, 350000], [2900, 850000], [1400, 246000], [3600, 1029275], [1290, 450000], [1800, 439000], [3210, 750000], [1410, 274950], [1470, 254000], [1720, 683000], [2710, 570000], [2020, 560000], [4820, 1063000], [2500, 305000], [1790, 615000], [1300, 257500], [2390, 660000], [4670, 1415000], [2300, 420000], [3180, 585000], [1570, 350000], [2280, 380000], [2000, 775000], [1530, 245000], [1720, 521000], [1680, 550000], [2080, 284000], [1620, 425000], [1010, 200000], [1170, 275000], [2970, 499500], [1490, 237000], [2220, 595000], [800, 230000], [1480, 215000], [1040, 600000], [2350, 643403], [1100, 189650], [1800, 360000], [1720, 622200], [2500, 661500], [1390, 258000], [2100, 640000], [1120, 554000], [1320, 345000], [1380, 275900], [3010, 1125000], [1190, 190000], [4030, 890000], [1530, 590000], [2080, 315000], [930, 230000], [1820, 320000], [3770, 1020000], [5300, 2555000], [1510, 239000], [3950, 1420000], [2570, 490000], [2550, 561000], [1720, 508800], [1470, 445000], [2750, 763776], [2430, 524000], [2040, 210500], [2120, 317000], [870, 240000], [2080, 460000], [2140, 525000], [2110, 580000], [1690, 420000], [4110, 1199000], [3010, 530000], [2760, 675000], [4330, 1209000], [1280, 195000], [1620, 219950], [1660, 765000], [1090, 149000], [1230, 360000], [3000, 415000], [1100, 139000], [1940, 315000], [1510, 202500], [2620, 852000], [2410, 648000], [1910, 630100], [1820, 330000], [1310, 300000], [3160, 427500], [1680, 370000], [2930, 750000], [1860, 400000], [3840, 575000], [2600, 840000], [4120, 560000], [2890, 1570000], [740, 250000], [2470, 633100], [2260, 325000], [1490, 475000], [2100, 420000], [4560, 3200000], [1540, 384950], [1480, 285000], [2120, 250000], [1130, 550000], [1860, 310000], [2470, 1325000], [1000, 397000], [1460, 135000], [4030, 950000], [3320, 1100000], [2740, 775000], [2500, 380000], [800, 250000], [3990, 649000], [3110, 755000], [1670, 540000], [2110, 380000], [2230, 280000], [1450, 309000], [1790, 179000], [1860, 495000], [1190, 203000], [2300, 765000], [1970, 350000], [1090, 204000], [4210, 937500], [3430, 829950], [2310, 850000], [1400, 421000], [1010, 160000], [2950, 825750], [1510, 190000], [1920, 415000], [2110, 925000], [1360, 359000], [2600, 359900], [2560, 385000], [2000, 725000], [2360, 615000], [2020, 401000], [1370, 232500], [1460, 465000], [2434, 285000], [1680, 396000], [1860, 380000], [1490, 438500], [2080, 550000], [2100, 491500], [4120, 1300000], [2240, 635000], [2460, 637000], [1770, 381000], [1180, 659000], [2230, 337000], [1180, 343000], [3610, 610000], [4830, 1925000], [710, 215000], [2250, 398500], [3360, 590000], [2850, 608500], [1450, 362500], [2210, 620000], [5270, 782000], [4960, 1355000], [1060, 219000], [3002, 394500], [2490, 590000], [1060, 325000], [1660, 335000], [1180, 816000], [1210, 132825], [1805, 266000], [3720, 864000], [1730, 435000], [2720, 1442500], [1560, 449950], [2320, 375000], [2480, 1387800], [1750, 774900], [4130, 775000], [840, 350000], [3440, 1330000], [1350, 272450], [1770, 370000], [1440, 265000], [990, 275000], [2640, 750000], [1150, 171500], [1670, 715000], [1700, 349950], [2440, 780000], [1300, 312000], [970, 209500], [3310, 419000], [1520, 525000], [1540, 543000], [1830, 433000], [3420, 635000], [560, 249900], [1500, 224000], [3450, 990000], [1270, 260000], [1950, 555000], [2620, 695000], [1950, 565000], [900, 355000], [3450, 685000], [2200, 300000], [2540, 695000], [1750, 758800], [2320, 248000], [1160, 336000], [1970, 265000], [1160, 262500], [2400, 620000], [1510, 360000], [1650, 465000], [3920, 850000], [1760, 605000], [2670, 339950], [1390, 317000], [1430, 375000], [2170, 566000], [1710, 431000], [1140, 450000], [960, 218000], [1260, 245560], [1720, 535000], [1510, 622500], [1070, 350000], [1560, 269000], [2560, 640000], [1650, 485000], [3190, 1650000], [3700, 889950], [3480, 810000], [1450, 375000], [2620, 838400], [970, 515000], [2020, 450000], [3140, 375000], [3030, 599900], [1320, 530000], [2210, 263500], [3070, 725786], [3510, 1255000], [900, 157340], [2000, 755000], [750, 425000], [2180, 235000], [2530, 590000], [1500, 315001], [1240, 403000], [2010, 218000], [3670, 1250000], [1490, 245000], [2070, 653450], [1400, 220000], [3600, 970000], [3050, 563950], [2770, 318700], [910, 533050], [3040, 1735000], [850, 490000], [1740, 339000], [1170, 175000], [1350, 455000], [2510, 664000], [1240, 402000], [2370, 684680], [1120, 552000], [2860, 540000], [1920, 360000], [3390, 350000], [3410, 1405000], [970, 345000], [2370, 400000], [2240, 556000], [2550, 516000], [1630, 320000], [2720, 550000], [1350, 401000], [2250, 350000], [1800, 475000], [2230, 809950], [1350, 240000], [1680, 440000], [2380, 319000], [1610, 243500], [2060, 292000], [2070, 535100], [1660, 658000], [2230, 770000], [2040, 325900], [2800, 770000], [1340, 390000], [1850, 249000], [3410, 1225000], [1910, 630000], [2340, 716500], [1150, 552000], [1940, 423000], [2020, 599950], [3990, 825000], [3450, 1378600], [2280, 500000], [1980, 435000], [1810, 449000], [1320, 342500], [1570, 468000], [3290, 695000], [720, 405000], [2660, 452000], [4910, 1222500], [700, 192000], [2250, 325000], [2330, 585000], [1840, 785200], [3700, 1250000], [1640, 525000], [1800, 420000], [2110, 479000], [2250, 975000], [1210, 439950], [2490, 950000], [2060, 335000], [2170, 1325000], [1270, 449000], [2220, 875000], [1980, 416000], [1300, 240000], [2170, 550000], [2020, 532000], [1230, 375000], [6410, 2725000], [1790, 249950], [1550, 249950], [2840, 535000], [1220, 526000], [700, 367000], [2190, 650000], [1970, 475000], [1480, 239900], [1620, 665000], [1260, 390000], [2200, 376000], [2250, 569000], [1850, 205000], [2750, 1050000], [2490, 630000], [2480, 640000], [4250, 1810000], [2900, 968000], [1620, 385000], [1870, 502000], [2440, 565000], [2640, 1100000], [3670, 569000], [2320, 400000], [1130, 345000], [2060, 560000], [2490, 1155000], [3170, 890776], [910, 265000], [1820, 327500], [3330, 1375000], [2420, 525000], [4560, 1212500], [2010, 319000], [2290, 359950], [2000, 420000], [1870, 205000], [1480, 160000], [1320, 535000], [2120, 300000], [5370, 790000], [970, 219900], [1520, 360000], [3860, 681000], [2400, 523000], [2780, 709000], [1220, 670000], [2090, 460000], [1600, 427000], [2400, 487275], [1770, 355000], [1790, 539000], [2400, 406550], [1590, 454000], [830, 200000], [1190, 455000], [4500, 2340000], [1660, 279000], [2650, 790000], [3000, 2400000], [3310, 829000], [1380, 473000], [1680, 285000], [1070, 325000], [1980, 759000], [1710, 650000], [2000, 500000], [2050, 300000], [2600, 581000], [3020, 630000], [1630, 236000], [960, 299000], [620, 265000], [2480, 583800], [790, 435000], [1860, 326995], [2180, 318000], [3300, 1250000], [2160, 715000], [2070, 343000], [1680, 372500], [2030, 310950], [3070, 900000], [1780, 312000], [2500, 580000], [3840, 556000], [3250, 863500], [1940, 274000], [1550, 290000], [1530, 220000], [2010, 627800], [1230, 740000], [1640, 455000], [1610, 215000], [1440, 410000], [2920, 850000], [1300, 219950], [2190, 1289000], [1490, 365250], [3190, 585000], [1450, 405000], [1840, 525000], [1980, 775000], [2080, 342500], [2020, 689000], [1740, 382000], [2770, 470000], [2420, 325000], [1300, 308000], [2560, 925000], [660, 385000], [5050, 2320000], [1680, 258000], [2105, 330000], [2990, 525000], [3120, 419950], [3610, 549900], [2990, 644500], [1440, 335000], [1640, 716100], [1400, 265000], [1710, 480000], [1070, 241000], [1180, 325000], [2930, 294000], [2070, 329950], [2240, 375000], [1310, 398000], [2120, 892500], [3230, 572115], [2220, 500000], [2390, 845000], [2020, 290000], [1790, 402000], [2495, 267000], [1560, 509000], [2440, 680000], [1910, 390000], [1980, 580000], [2160, 585000], [1180, 209900], [850, 180500], [1820, 469950], [1584, 263000], [2520, 720000], [3960, 1185000], [2720, 739000], [4850, 3000000], [1370, 354800], [1940, 480000], [1590, 274000], [1820, 1010000], [2230, 679950], [2890, 476000], [1470, 432000], [2050, 601002], [1550, 430000], [1720, 339000], [1390, 450000], [2490, 700000], [2700, 665000], [1800, 436000], [2400, 608000], [2030, 750000], [1480, 300000], [2300, 520000], [2150, 339950], [1900, 542000], [5780, 2890000], [2840, 557000], [1600, 400000], [1440, 332500], [1290, 362000], [1480, 255000], [1720, 583500], [2070, 645000], [3810, 920000], [1810, 1247000], [1210, 215000], [1150, 436000], [960, 255000], [3010, 925000], [3560, 843500], [2240, 550000], [1480, 276200], [2080, 500000], [3280, 809950], [1890, 307000], [2770, 285000], [1770, 420000], [1170, 360000], [3400, 815000], [1350, 400000], [2480, 372500], [880, 334550], [2370, 688100], [2280, 345000], [1770, 447500], [1260, 354000], [2460, 635000], [2150, 468000], [1150, 324950], [1270, 346000], [3200, 422000], [1030, 209900], [1270, 415000], [1820, 582000], [1730, 563000], [1390, 354000], [2140, 621500], [960, 175000], [1540, 430000], [900, 146000], [1150, 307000], [1670, 400000], [1070, 147000], [1830, 284000], [1050, 200000], [1000, 305000], [2530, 375000], [990, 280000], [3800, 730000], [2550, 990000], [2500, 475000], [1640, 375000], [2070, 718000], [1580, 729000], [1140, 460000], [760, 415000], [3440, 598992], [3790, 1600000], [2220, 349990], [3810, 1130000], [1630, 448000], [1940, 265000], [2670, 603000], [2970, 469500], [2390, 545000], [2480, 470000], [3460, 746500], [3140, 310000], [3070, 718000], [2280, 653675], [1660, 300000], [1800, 270000], [2620, 950000], [960, 255000], [2180, 480500], [720, 435000], [2000, 677000], [1770, 675000], [1040, 343000], [4700, 1175000], [1190, 320000], [3366, 1300000], [1780, 270000], [2290, 660000], [2070, 560000], [1240, 405000], [3700, 898000]], \"selected_variable\": {\"columns\": [{\"name\": \"id\", \"dtype\": \"str\"}, {\"name\": \"date\", \"dtype\": \"datetime\"}, {\"name\": \"price\", \"dtype\": \"int\"}, {\"name\": \"bedrooms\", \"dtype\": \"str\"}, {\"name\": \"bathrooms\", \"dtype\": \"str\"}, {\"name\": \"sqft_living\", \"dtype\": \"int\"}, {\"name\": \"sqft_lot\", \"dtype\": \"int\"}, {\"name\": \"floors\", \"dtype\": \"str\"}, {\"name\": \"waterfront\", \"dtype\": \"int\"}, {\"name\": \"view\", \"dtype\": \"int\"}, {\"name\": \"condition\", \"dtype\": \"int\"}, {\"name\": \"grade\", \"dtype\": \"int\"}, {\"name\": \"sqft_above\", \"dtype\": \"int\"}, {\"name\": \"sqft_basement\", \"dtype\": \"int\"}, {\"name\": \"yr_built\", \"dtype\": \"int\"}, {\"name\": \"yr_renovated\", \"dtype\": \"int\"}, {\"name\": \"zipcode\", \"dtype\": \"str\"}, {\"name\": \"lat\", \"dtype\": \"float\"}, {\"name\": \"long\", \"dtype\": \"float\"}, {\"name\": \"sqft_living15\", \"dtype\": \"float\"}, {\"name\": \"sqft_lot15\", \"dtype\": \"float\"}], \"column_identifiers\": [\"id\", \"condition\", \"grade\", \"yr_renovated\", \"view\", \"date\", \"sqft_above\", \"sqft_living\", \"zipcode\", \"floors\", \"long\", \"lat\", \"sqft_lot\", \"bedrooms\", \"price\", \"waterfront\", \"sqft_living15\", \"sqft_lot15\", \"sqft_basement\", \"bathrooms\", \"yr_built\"], \"view_components\": [\"Summary\", \"Table\", \"Bar Chart\", \"BoxWhisker Plot\", \"Line Chart\", \"Scatter Plot\", \"Heat Map\", \"Plots\"], \"descriptives\": {\"columns\": 21, \"rows\": 21613}, \"view_file\": \"sframe\", \"view_params\": {\"x\": \"sqft_living\", \"columns\": [\"id\", \"date\", \"price\", \"bedrooms\", \"bathrooms\", \"sqft_living\", \"sqft_lot\", \"floors\", \"waterfront\", \"view\", \"condition\", \"grade\", \"sqft_above\", \"sqft_basement\", \"yr_built\", \"yr_renovated\", \"zipcode\", \"lat\", \"long\", \"sqft_living15\", \"sqft_lot15\"], \"view\": \"Scatter Plot\", \"y\": \"price\"}, \"type\": \"SFrame\", \"view_component\": \"Plots\", \"name\": [\"sales\"]}, \"complete\": 1, \"ipython\": true, \"columns\": [{\"name\": \"id\", \"dtype\": \"str\"}, {\"name\": \"date\", \"dtype\": \"datetime\"}, {\"name\": \"price\", \"dtype\": \"int\"}, {\"name\": \"bedrooms\", \"dtype\": \"str\"}, {\"name\": \"bathrooms\", \"dtype\": \"str\"}, {\"name\": \"sqft_living\", \"dtype\": \"int\"}, {\"name\": \"sqft_lot\", \"dtype\": \"int\"}, {\"name\": \"floors\", \"dtype\": \"str\"}, {\"name\": \"waterfront\", \"dtype\": \"int\"}, {\"name\": \"view\", \"dtype\": \"int\"}, {\"name\": \"condition\", \"dtype\": \"int\"}, {\"name\": \"grade\", \"dtype\": \"int\"}, {\"name\": \"sqft_above\", \"dtype\": \"int\"}, {\"name\": \"sqft_basement\", \"dtype\": \"int\"}, {\"name\": \"yr_built\", \"dtype\": \"int\"}, {\"name\": \"yr_renovated\", \"dtype\": \"int\"}, {\"name\": \"zipcode\", \"dtype\": \"str\"}, {\"name\": \"lat\", \"dtype\": \"float\"}, {\"name\": \"long\", \"dtype\": \"float\"}, {\"name\": \"sqft_living15\", \"dtype\": \"float\"}, {\"name\": \"sqft_lot15\", \"dtype\": \"float\"}], \"progress\": 1.0}, e);\n",
       "                });\n",
       "            })();\n",
       "        "
      ]
     },
     "metadata": {},
     "output_type": "display_data"
    }
   ],
   "source": [
    "graphlab.canvas.set_target('ipynb')\n",
    "sales.show(view=\"Scatter Plot\", x=\"sqft_living\", y=\"price\")"
   ]
  },
  {
   "cell_type": "markdown",
   "metadata": {},
   "source": [
    "# Create a simple regression model of sqft_living to price"
   ]
  },
  {
   "cell_type": "markdown",
   "metadata": {},
   "source": [
    "Split data into training and testing.  \n",
    "We use seed=0 so that everyone running this notebook gets the same results.  In practice, you may set a random seed (or let GraphLab Create pick a random seed for you).  "
   ]
  },
  {
   "cell_type": "code",
   "execution_count": 6,
   "metadata": {
    "collapsed": true
   },
   "outputs": [],
   "source": [
    "train_data,test_data = sales.random_split(.8,seed=0)"
   ]
  },
  {
   "cell_type": "markdown",
   "metadata": {},
   "source": [
    "## Build the regression model using only sqft_living as a feature"
   ]
  },
  {
   "cell_type": "code",
   "execution_count": 7,
   "metadata": {
    "collapsed": false
   },
   "outputs": [
    {
     "data": {
      "text/html": [
       "<pre>Linear regression:</pre>"
      ],
      "text/plain": [
       "Linear regression:"
      ]
     },
     "metadata": {},
     "output_type": "display_data"
    },
    {
     "data": {
      "text/html": [
       "<pre>--------------------------------------------------------</pre>"
      ],
      "text/plain": [
       "--------------------------------------------------------"
      ]
     },
     "metadata": {},
     "output_type": "display_data"
    },
    {
     "data": {
      "text/html": [
       "<pre>Number of examples          : 17384</pre>"
      ],
      "text/plain": [
       "Number of examples          : 17384"
      ]
     },
     "metadata": {},
     "output_type": "display_data"
    },
    {
     "data": {
      "text/html": [
       "<pre>Number of features          : 1</pre>"
      ],
      "text/plain": [
       "Number of features          : 1"
      ]
     },
     "metadata": {},
     "output_type": "display_data"
    },
    {
     "data": {
      "text/html": [
       "<pre>Number of unpacked features : 1</pre>"
      ],
      "text/plain": [
       "Number of unpacked features : 1"
      ]
     },
     "metadata": {},
     "output_type": "display_data"
    },
    {
     "data": {
      "text/html": [
       "<pre>Number of coefficients    : 2</pre>"
      ],
      "text/plain": [
       "Number of coefficients    : 2"
      ]
     },
     "metadata": {},
     "output_type": "display_data"
    },
    {
     "data": {
      "text/html": [
       "<pre>Starting Newton Method</pre>"
      ],
      "text/plain": [
       "Starting Newton Method"
      ]
     },
     "metadata": {},
     "output_type": "display_data"
    },
    {
     "data": {
      "text/html": [
       "<pre>--------------------------------------------------------</pre>"
      ],
      "text/plain": [
       "--------------------------------------------------------"
      ]
     },
     "metadata": {},
     "output_type": "display_data"
    },
    {
     "data": {
      "text/html": [
       "<pre>+-----------+----------+--------------+--------------------+---------------+</pre>"
      ],
      "text/plain": [
       "+-----------+----------+--------------+--------------------+---------------+"
      ]
     },
     "metadata": {},
     "output_type": "display_data"
    },
    {
     "data": {
      "text/html": [
       "<pre>| Iteration | Passes   | Elapsed Time | Training-max_error | Training-rmse |</pre>"
      ],
      "text/plain": [
       "| Iteration | Passes   | Elapsed Time | Training-max_error | Training-rmse |"
      ]
     },
     "metadata": {},
     "output_type": "display_data"
    },
    {
     "data": {
      "text/html": [
       "<pre>+-----------+----------+--------------+--------------------+---------------+</pre>"
      ],
      "text/plain": [
       "+-----------+----------+--------------+--------------------+---------------+"
      ]
     },
     "metadata": {},
     "output_type": "display_data"
    },
    {
     "data": {
      "text/html": [
       "<pre>| 1         | 2        | 1.007432     | 4349521.926170     | 262943.613754 |</pre>"
      ],
      "text/plain": [
       "| 1         | 2        | 1.007432     | 4349521.926170     | 262943.613754 |"
      ]
     },
     "metadata": {},
     "output_type": "display_data"
    },
    {
     "data": {
      "text/html": [
       "<pre>+-----------+----------+--------------+--------------------+---------------+</pre>"
      ],
      "text/plain": [
       "+-----------+----------+--------------+--------------------+---------------+"
      ]
     },
     "metadata": {},
     "output_type": "display_data"
    },
    {
     "data": {
      "text/html": [
       "<pre>SUCCESS: Optimal solution found.</pre>"
      ],
      "text/plain": [
       "SUCCESS: Optimal solution found."
      ]
     },
     "metadata": {},
     "output_type": "display_data"
    },
    {
     "data": {
      "text/html": [
       "<pre></pre>"
      ],
      "text/plain": []
     },
     "metadata": {},
     "output_type": "display_data"
    }
   ],
   "source": [
    "sqft_model = graphlab.linear_regression.create(train_data, target='price', features=['sqft_living'], validation_set=None)"
   ]
  },
  {
   "cell_type": "markdown",
   "metadata": {},
   "source": [
    "# Evaluate the simple model"
   ]
  },
  {
   "cell_type": "code",
   "execution_count": 8,
   "metadata": {
    "collapsed": false
   },
   "outputs": [
    {
     "name": "stdout",
     "output_type": "stream",
     "text": [
      "543054.0425632532\n"
     ]
    }
   ],
   "source": [
    "print(test_data['price'].mean())"
   ]
  },
  {
   "cell_type": "code",
   "execution_count": 9,
   "metadata": {
    "collapsed": false
   },
   "outputs": [
    {
     "name": "stdout",
     "output_type": "stream",
     "text": [
      "{'max_error': 4143550.8825285938, 'rmse': 255191.02870527358}\n"
     ]
    }
   ],
   "source": [
    "print(sqft_model.evaluate(test_data))"
   ]
  },
  {
   "cell_type": "markdown",
   "metadata": {},
   "source": [
    "RMSE of about \\$255,170!"
   ]
  },
  {
   "cell_type": "markdown",
   "metadata": {},
   "source": [
    "# Let's show what our predictions look like"
   ]
  },
  {
   "cell_type": "markdown",
   "metadata": {},
   "source": [
    "Matplotlib is a Python plotting library that is also useful for plotting.  You can install it with:\n",
    "\n",
    "'pip install matplotlib'"
   ]
  },
  {
   "cell_type": "code",
   "execution_count": 10,
   "metadata": {
    "collapsed": false
   },
   "outputs": [],
   "source": [
    "import matplotlib.pyplot as plt\n",
    "%matplotlib inline"
   ]
  },
  {
   "cell_type": "code",
   "execution_count": 11,
   "metadata": {
    "collapsed": false
   },
   "outputs": [
    {
     "data": {
      "text/plain": [
       "[<matplotlib.lines.Line2D at 0x5aee8bceb8>,\n",
       " <matplotlib.lines.Line2D at 0x5aee8c7080>]"
      ]
     },
     "execution_count": 11,
     "metadata": {},
     "output_type": "execute_result"
    },
    {
     "data": {
      "image/png": "[encoded data removed]",
      "text/plain": [
       "<matplotlib.figure.Figure at 0x5aee831ef0>"
      ]
     },
     "metadata": {},
     "output_type": "display_data"
    }
   ],
   "source": [
    "plt.plot(test_data['sqft_living'],test_data['price'],'.',\n",
    "        test_data['sqft_living'],sqft_model.predict(test_data),'-')"
   ]
  },
  {
   "cell_type": "markdown",
   "metadata": {},
   "source": [
    "Above:  blue dots are original data, green line is the prediction from the simple regression.\n",
    "\n",
    "Below: we can view the learned regression coefficients. "
   ]
  },
  {
   "cell_type": "code",
   "execution_count": 12,
   "metadata": {
    "collapsed": false
   },
   "outputs": [
    {
     "data": {
      "text/html": [
       "<div style=\"max-height:1000px;max-width:1500px;overflow:auto;\"><table frame=\"box\" rules=\"cols\">\n",
       "    <tr>\n",
       "        <th style=\"padding-left: 1em; padding-right: 1em; text-align: center\">name</th>\n",
       "        <th style=\"padding-left: 1em; padding-right: 1em; text-align: center\">index</th>\n",
       "        <th style=\"padding-left: 1em; padding-right: 1em; text-align: center\">value</th>\n",
       "        <th style=\"padding-left: 1em; padding-right: 1em; text-align: center\">stderr</th>\n",
       "    </tr>\n",
       "    <tr>\n",
       "        <td style=\"padding-left: 1em; padding-right: 1em; text-align: center; vertical-align: top\">(intercept)</td>\n",
       "        <td style=\"padding-left: 1em; padding-right: 1em; text-align: center; vertical-align: top\">None</td>\n",
       "        <td style=\"padding-left: 1em; padding-right: 1em; text-align: center; vertical-align: top\">-47114.02067021723</td>\n",
       "        <td style=\"padding-left: 1em; padding-right: 1em; text-align: center; vertical-align: top\">4923.344377526265</td>\n",
       "    </tr>\n",
       "    <tr>\n",
       "        <td style=\"padding-left: 1em; padding-right: 1em; text-align: center; vertical-align: top\">sqft_living</td>\n",
       "        <td style=\"padding-left: 1em; padding-right: 1em; text-align: center; vertical-align: top\">None</td>\n",
       "        <td style=\"padding-left: 1em; padding-right: 1em; text-align: center; vertical-align: top\">281.9578501659882</td>\n",
       "        <td style=\"padding-left: 1em; padding-right: 1em; text-align: center; vertical-align: top\">2.1640546532334803</td>\n",
       "    </tr>\n",
       "</table>\n",
       "[2 rows x 4 columns]<br/>\n",
       "</div>"
      ],
      "text/plain": [
       "Columns:\n",
       "\tname\tstr\n",
       "\tindex\tstr\n",
       "\tvalue\tfloat\n",
       "\tstderr\tfloat\n",
       "\n",
       "Rows: 2\n",
       "\n",
       "Data:\n",
       "+-------------+-------+--------------------+--------------------+\n",
       "|     name    | index |       value        |       stderr       |\n",
       "+-------------+-------+--------------------+--------------------+\n",
       "| (intercept) |  None | -47114.02067021723 | 4923.344377526265  |\n",
       "| sqft_living |  None | 281.9578501659882  | 2.1640546532334803 |\n",
       "+-------------+-------+--------------------+--------------------+\n",
       "[2 rows x 4 columns]"
      ]
     },
     "execution_count": 12,
     "metadata": {},
     "output_type": "execute_result"
    }
   ],
   "source": [
    "sqft_model.get('coefficients')"
   ]
  },
  {
   "cell_type": "markdown",
   "metadata": {},
   "source": [
    "# Explore other features in the data\n",
    "\n",
    "To build a more elaborate model, we will explore using more features."
   ]
  },
  {
   "cell_type": "code",
   "execution_count": 13,
   "metadata": {
    "collapsed": true
   },
   "outputs": [],
   "source": [
    "my_features = ['bedrooms', 'bathrooms', 'sqft_living', 'sqft_lot', 'floors', 'zipcode']"
   ]
  },
  {
   "cell_type": "code",
   "execution_count": 14,
   "metadata": {
    "collapsed": false
   },
   "outputs": [
    {
     "data": {
      "application/javascript": [
       "$(\"head\").append($(\"<link/>\").attr({\n",
       "  rel:  \"stylesheet\",\n",
       "  type: \"text/css\",\n",
       "  href: \"//cdnjs.cloudflare.com/ajax/libs/font-awesome/4.1.0/css/font-awesome.min.css\"\n",
       "}));\n",
       "$(\"head\").append($(\"<link/>\").attr({\n",
       "  rel:  \"stylesheet\",\n",
       "  type: \"text/css\",\n",
       "  href: \"//dato.com/files/canvas/1.10.1/css/canvas.css\"\n",
       "}));\n",
       "\n",
       "            (function(){\n",
       "\n",
       "                var e = null;\n",
       "                if (typeof element == 'undefined') {\n",
       "                    var scripts = document.getElementsByTagName('script');\n",
       "                    var thisScriptTag = scripts[scripts.length-1];\n",
       "                    var parentDiv = thisScriptTag.parentNode;\n",
       "                    e = document.createElement('div');\n",
       "                    parentDiv.appendChild(e);\n",
       "                } else {\n",
       "                    e = element[0];\n",
       "                }\n",
       "\n",
       "                if (typeof requirejs !== 'undefined') {\n",
       "                    // disable load timeout; ipython_app.js is large and can take a while to load.\n",
       "                    requirejs.config({waitSeconds: 0});\n",
       "                }\n",
       "\n",
       "                require(['//dato.com/files/canvas/1.10.1/js/ipython_app.js'], function(IPythonApp){\n",
       "                    var app = new IPythonApp();\n",
       "                    app.attachView('sframe','Summary', {\"ipython\": true, \"columns\": [{\"name\": \"bedrooms\", \"dtype\": \"str\"}, {\"name\": \"bathrooms\", \"dtype\": \"str\"}, {\"name\": \"sqft_living\", \"dtype\": \"int\"}, {\"name\": \"sqft_lot\", \"dtype\": \"int\"}, {\"name\": \"floors\", \"dtype\": \"str\"}, {\"name\": \"zipcode\", \"dtype\": \"str\"}], \"selected_variable\": {\"columns\": [{\"name\": \"bedrooms\", \"dtype\": \"str\"}, {\"name\": \"bathrooms\", \"dtype\": \"str\"}, {\"name\": \"sqft_living\", \"dtype\": \"int\"}, {\"name\": \"sqft_lot\", \"dtype\": \"int\"}, {\"name\": \"floors\", \"dtype\": \"str\"}, {\"name\": \"zipcode\", \"dtype\": \"str\"}], \"column_identifiers\": [\"floors\", \"zipcode\", \"bedrooms\", \"sqft_living\", \"sqft_lot\", \"bathrooms\"], \"view_components\": [\"Summary\", \"Table\", \"Bar Chart\", \"BoxWhisker Plot\", \"Line Chart\", \"Scatter Plot\", \"Heat Map\", \"Plots\"], \"descriptives\": {\"columns\": 6, \"rows\": 21613}, \"view_file\": \"sframe\", \"view_params\": {\"x\": null, \"columns\": [\"bedrooms\", \"bathrooms\", \"sqft_living\", \"sqft_lot\", \"floors\", \"zipcode\"], \"view\": null, \"y\": null}, \"type\": \"SFrame\", \"view_component\": \"Summary\", \"name\": [\"<SFrame>\"]}, \"sketch\": {\"floors\": {\"num_undefined\": 0, \"complete\": true, \"frequent_items\": {\"3.5\": {\"value\": \"3.5\", \"frequency\": 8}, \"3\": {\"value\": \"3\", \"frequency\": 613}, \"1.5\": {\"value\": \"1.5\", \"frequency\": 1910}, \"1\": {\"value\": \"1\", \"frequency\": 10680}, \"2.5\": {\"value\": \"2.5\", \"frequency\": 161}, \"2\": {\"value\": \"2\", \"frequency\": 8241}}, \"num_unique\": 6, \"size\": 21613, \"progress\": 1.0, \"numeric\": false}, \"bathrooms\": {\"num_undefined\": 0, \"complete\": true, \"frequent_items\": {\"6.5\": {\"value\": \"6.5\", \"frequency\": 2}, \"8\": {\"value\": \"8\", \"frequency\": 2}, \"3.5\": {\"value\": \"3.5\", \"frequency\": 731}, \"2.75\": {\"value\": \"2.75\", \"frequency\": 1185}, \"0.75\": {\"value\": \"0.75\", \"frequency\": 72}, \"5\": {\"value\": \"5\", \"frequency\": 21}, \"6.75\": {\"value\": \"6.75\", \"frequency\": 2}, \"4.25\": {\"value\": \"4.25\", \"frequency\": 79}, \"0.5\": {\"value\": \"0.5\", \"frequency\": 4}, \"0\": {\"value\": \"0\", \"frequency\": 10}, \"3.25\": {\"value\": \"3.25\", \"frequency\": 589}, \"2.25\": {\"value\": \"2.25\", \"frequency\": 2047}, \"4.75\": {\"value\": \"4.75\", \"frequency\": 23}, \"5.25\": {\"value\": \"5.25\", \"frequency\": 13}, \"5.5\": {\"value\": \"5.5\", \"frequency\": 10}, \"4\": {\"value\": \"4\", \"frequency\": 136}, \"6.25\": {\"value\": \"6.25\", \"frequency\": 2}, \"6\": {\"value\": \"6\", \"frequency\": 6}, \"1.25\": {\"value\": \"1.25\", \"frequency\": 9}, \"3\": {\"value\": \"3\", \"frequency\": 753}, \"7.5\": {\"value\": \"7.5\", \"frequency\": 1}, \"5.75\": {\"value\": \"5.75\", \"frequency\": 4}, \"3.75\": {\"value\": \"3.75\", \"frequency\": 155}, \"2\": {\"value\": \"2\", \"frequency\": 1930}, \"1.75\": {\"value\": \"1.75\", \"frequency\": 3048}, \"7.75\": {\"value\": \"7.75\", \"frequency\": 1}, \"1.5\": {\"value\": \"1.5\", \"frequency\": 1446}, \"4.5\": {\"value\": \"4.5\", \"frequency\": 100}, \"1\": {\"value\": \"1\", \"frequency\": 3852}, \"2.5\": {\"value\": \"2.5\", \"frequency\": 5380}}, \"num_unique\": 30, \"size\": 21613, \"progress\": 1.0, \"numeric\": false}, \"sqft_lot\": {\"std\": 41419.55327262768, \"complete\": true, \"numeric\": true, \"median\": 7617.0, \"quantile\": [520.0, 1007.0, 1180.0, 1302.0, 1486.0, 1799.0, 2166.0, 2513.0, 2867.0, 3075.0, 3330.0, 3568.0, 3717.0, 3852.0, 4000.0, 4023.0, 4125.0, 4269.0, 4411.0, 4506.0, 4650.0, 4800.0, 4876.0, 5000.0, 5000.0, 5043.0, 5120.0, 5225.0, 5375.0, 5500.0, 5612.0, 5750.0, 5866.0, 6000.0, 6000.0, 6120.0, 6250.0, 6360.0, 6498.0, 6603.0, 6744.0, 6886.0, 7000.0, 7132.0, 7200.0, 7214.0, 7280.0, 7350.0, 7470.0, 7524.0, 7617.0, 7700.0, 7797.0, 7880.0, 7992.0, 8069.0, 8144.0, 8250.0, 8364.0, 8424.0, 8521.0, 8640.0, 8775.0, 8913.0, 9015.0, 9168.0, 9337.0, 9497.0, 9600.0, 9684.0, 9800.0, 9950.0, 10089.0, 10246.0, 10450.0, 10677.0, 10900.0, 11210.0, 11502.0, 11894.0, 12184.0, 12558.0, 13044.0, 13503.0, 14197.0, 15000.0, 15704.0, 16643.0, 17986.0, 19501.0, 21340.0, 24054.0, 28300.0, 35000.0, 38009.0, 43560.0, 51354.0, 68257.0, 108366.0, 213879.0, 1651359.0], \"var\": 1715579393.3040423, \"progress\": 1.0, \"mean\": 15106.967565816867, \"num_unique\": 9747, \"num_undefined\": 0, \"frequent_items\": {\"32772\": {\"value\": 32772, \"frequency\": 1}, \"16393\": {\"value\": 16393, \"frequency\": 1}, \"32780\": {\"value\": 32780, \"frequency\": 1}, \"16397\": {\"value\": 16397, \"frequency\": 1}, \"81935\": {\"value\": 81935, \"frequency\": 1}, \"16400\": {\"value\": 16400, \"frequency\": 2}, \"16410\": {\"value\": 16410, \"frequency\": 1}, \"131115\": {\"value\": 131115, \"frequency\": 1}, \"131116\": {\"value\": 131116, \"frequency\": 1}, \"49222\": {\"value\": 49222, \"frequency\": 4}, \"16470\": {\"value\": 16470, \"frequency\": 1}, \"213008\": {\"value\": 213008, \"frequency\": 6}, \"82031\": {\"value\": 82031, \"frequency\": 1}, \"16500\": {\"value\": 16500, \"frequency\": 3}, \"16510\": {\"value\": 16510, \"frequency\": 1}, \"16524\": {\"value\": 16524, \"frequency\": 1}, \"98445\": {\"value\": 98445, \"frequency\": 4}, \"16526\": {\"value\": 16526, \"frequency\": 2}, \"16530\": {\"value\": 16530, \"frequency\": 1}, \"16552\": {\"value\": 16552, \"frequency\": 2}, \"5490\": {\"value\": 5490, \"frequency\": 4}, \"16564\": {\"value\": 16564, \"frequency\": 1}, \"16573\": {\"value\": 16573, \"frequency\": 1}, \"16575\": {\"value\": 16575, \"frequency\": 1}, \"6553\": {\"value\": 6553, \"frequency\": 2}, \"16582\": {\"value\": 16582, \"frequency\": 1}, \"16583\": {\"value\": 16583, \"frequency\": 1}, \"16600\": {\"value\": 16600, \"frequency\": 2}, \"16603\": {\"value\": 16603, \"frequency\": 1}, \"49375\": {\"value\": 49375, \"frequency\": 1}, \"60112\": {\"value\": 60112, \"frequency\": 1}, \"5499\": {\"value\": 5499, \"frequency\": 1}, \"16619\": {\"value\": 16619, \"frequency\": 1}, \"65775\": {\"value\": 65775, \"frequency\": 1}, \"16643\": {\"value\": 16643, \"frequency\": 2}, \"16650\": {\"value\": 16650, \"frequency\": 2}, \"16672\": {\"value\": 16672, \"frequency\": 2}, \"16677\": {\"value\": 16677, \"frequency\": 1}, \"16679\": {\"value\": 16679, \"frequency\": 2}, \"49456\": {\"value\": 49456, \"frequency\": 1}, \"33080\": {\"value\": 33080, \"frequency\": 1}, \"19168\": {\"value\": 19168, \"frequency\": 1}, \"90169\": {\"value\": 90169, \"frequency\": 2}, \"16738\": {\"value\": 16738, \"frequency\": 1}, \"16740\": {\"value\": 16740, \"frequency\": 2}, \"13713\": {\"value\": 13713, \"frequency\": 1}, \"33132\": {\"value\": 33132, \"frequency\": 1}, \"21907\": {\"value\": 21907, \"frequency\": 1}, \"8254\": {\"value\": 8254, \"frequency\": 3}, \"16770\": {\"value\": 16770, \"frequency\": 1}, \"16782\": {\"value\": 16782, \"frequency\": 1}, \"16788\": {\"value\": 16788, \"frequency\": 1}, \"16800\": {\"value\": 16800, \"frequency\": 4}, \"16801\": {\"value\": 16801, \"frequency\": 1}, \"16454\": {\"value\": 16454, \"frequency\": 1}, \"16809\": {\"value\": 16809, \"frequency\": 1}, \"16817\": {\"value\": 16817, \"frequency\": 1}, \"33206\": {\"value\": 33206, \"frequency\": 1}, \"16828\": {\"value\": 16828, \"frequency\": 1}, \"213444\": {\"value\": 213444, \"frequency\": 3}, \"16846\": {\"value\": 16846, \"frequency\": 1}, \"16851\": {\"value\": 16851, \"frequency\": 1}, \"16857\": {\"value\": 16857, \"frequency\": 1}, \"16863\": {\"value\": 16863, \"frequency\": 1}, \"16875\": {\"value\": 16875, \"frequency\": 1}, \"49658\": {\"value\": 49658, \"frequency\": 8}, \"33278\": {\"value\": 33278, \"frequency\": 1}, \"16905\": {\"value\": 16905, \"frequency\": 1}, \"262666\": {\"value\": 262666, \"frequency\": 1}, \"8279\": {\"value\": 8279, \"frequency\": 3}, \"16909\": {\"value\": 16909, \"frequency\": 2}, \"16921\": {\"value\": 16921, \"frequency\": 1}, \"16928\": {\"value\": 16928, \"frequency\": 1}, \"16940\": {\"value\": 16940, \"frequency\": 2}, \"16952\": {\"value\": 16952, \"frequency\": 1}, \"572\": {\"value\": 572, \"frequency\": 1}, \"98881\": {\"value\": 98881, \"frequency\": 2}, \"5559\": {\"value\": 5559, \"frequency\": 3}, \"16980\": {\"value\": 16980, \"frequency\": 1}, \"8292\": {\"value\": 8292, \"frequency\": 1}, \"609\": {\"value\": 609, \"frequency\": 1}, \"16996\": {\"value\": 16996, \"frequency\": 1}, \"17000\": {\"value\": 17000, \"frequency\": 2}, \"17003\": {\"value\": 17003, \"frequency\": 2}, \"30144\": {\"value\": 30144, \"frequency\": 1}, \"649\": {\"value\": 649, \"frequency\": 2}, \"8304\": {\"value\": 8304, \"frequency\": 2}, \"66211\": {\"value\": 66211, \"frequency\": 2}, \"17071\": {\"value\": 17071, \"frequency\": 1}, \"24691\": {\"value\": 24691, \"frequency\": 1}, \"33460\": {\"value\": 33460, \"frequency\": 1}, \"704\": {\"value\": 704, \"frequency\": 1}, \"705\": {\"value\": 705, \"frequency\": 2}, \"33474\": {\"value\": 33474, \"frequency\": 1}, \"711\": {\"value\": 711, \"frequency\": 2}, \"17100\": {\"value\": 17100, \"frequency\": 2}, \"131790\": {\"value\": 131790, \"frequency\": 1}, \"17120\": {\"value\": 17120, \"frequency\": 1}, \"17126\": {\"value\": 17126, \"frequency\": 1}, \"745\": {\"value\": 745, \"frequency\": 2}, \"115434\": {\"value\": 115434, \"frequency\": 3}, \"747\": {\"value\": 747, \"frequency\": 2}, \"17133\": {\"value\": 17133, \"frequency\": 1}, \"750\": {\"value\": 750, \"frequency\": 2}, \"762\": {\"value\": 762, \"frequency\": 1}, \"8320\": {\"value\": 8320, \"frequency\": 7}, \"779\": {\"value\": 779, \"frequency\": 2}, \"780\": {\"value\": 780, \"frequency\": 1}, \"49936\": {\"value\": 49936, \"frequency\": 1}, \"17180\": {\"value\": 17180, \"frequency\": 1}, \"798\": {\"value\": 798, \"frequency\": 1}, \"800\": {\"value\": 800, \"frequency\": 3}, \"17186\": {\"value\": 17186, \"frequency\": 1}, \"17204\": {\"value\": 17204, \"frequency\": 1}, \"17208\": {\"value\": 17208, \"frequency\": 2}, \"825\": {\"value\": 825, \"frequency\": 2}, \"833\": {\"value\": 833, \"frequency\": 1}, \"82764\": {\"value\": 82764, \"frequency\": 2}, \"50002\": {\"value\": 50002, \"frequency\": 1}, \"17235\": {\"value\": 17235, \"frequency\": 1}, \"17239\": {\"value\": 17239, \"frequency\": 1}, \"857\": {\"value\": 857, \"frequency\": 1}, \"33630\": {\"value\": 33630, \"frequency\": 1}, \"864\": {\"value\": 864, \"frequency\": 1}, \"865\": {\"value\": 865, \"frequency\": 3}, \"99170\": {\"value\": 99170, \"frequency\": 1}, \"867\": {\"value\": 867, \"frequency\": 1}, \"874\": {\"value\": 874, \"frequency\": 2}, \"877\": {\"value\": 877, \"frequency\": 2}, \"881\": {\"value\": 881, \"frequency\": 1}, \"43838\": {\"value\": 43838, \"frequency\": 1}, \"213879\": {\"value\": 213879, \"frequency\": 2}, \"889\": {\"value\": 889, \"frequency\": 3}, \"890\": {\"value\": 890, \"frequency\": 1}, \"900\": {\"value\": 900, \"frequency\": 2}, \"902\": {\"value\": 902, \"frequency\": 1}, \"904\": {\"value\": 904, \"frequency\": 2}, \"905\": {\"value\": 905, \"frequency\": 3}, \"912\": {\"value\": 912, \"frequency\": 2}, \"915\": {\"value\": 915, \"frequency\": 3}, \"17300\": {\"value\": 17300, \"frequency\": 2}, \"920\": {\"value\": 920, \"frequency\": 2}, \"923\": {\"value\": 923, \"frequency\": 2}, \"926\": {\"value\": 926, \"frequency\": 2}, \"5616\": {\"value\": 5616, \"frequency\": 2}, \"8347\": {\"value\": 8347, \"frequency\": 2}, \"934\": {\"value\": 934, \"frequency\": 3}, \"936\": {\"value\": 936, \"frequency\": 3}, \"940\": {\"value\": 940, \"frequency\": 2}, \"941\": {\"value\": 941, \"frequency\": 3}, \"50094\": {\"value\": 50094, \"frequency\": 4}, \"17334\": {\"value\": 17334, \"frequency\": 3}, \"951\": {\"value\": 951, \"frequency\": 2}, \"958\": {\"value\": 958, \"frequency\": 2}, \"960\": {\"value\": 960, \"frequency\": 2}, \"17349\": {\"value\": 17349, \"frequency\": 2}, \"17355\": {\"value\": 17355, \"frequency\": 1}, \"972\": {\"value\": 972, \"frequency\": 2}, \"17360\": {\"value\": 17360, \"frequency\": 1}, \"977\": {\"value\": 977, \"frequency\": 2}, \"17362\": {\"value\": 17362, \"frequency\": 1}, \"979\": {\"value\": 979, \"frequency\": 2}, \"980\": {\"value\": 980, \"frequency\": 1}, \"982\": {\"value\": 982, \"frequency\": 1}, \"983\": {\"value\": 983, \"frequency\": 4}, \"987\": {\"value\": 987, \"frequency\": 2}, \"989\": {\"value\": 989, \"frequency\": 3}, \"17380\": {\"value\": 17380, \"frequency\": 1}, \"997\": {\"value\": 997, \"frequency\": 2}, \"998\": {\"value\": 998, \"frequency\": 2}, \"50155\": {\"value\": 50155, \"frequency\": 1}, \"17388\": {\"value\": 17388, \"frequency\": 1}, \"1005\": {\"value\": 1005, \"frequency\": 3}, \"17390\": {\"value\": 17390, \"frequency\": 1}, \"1010\": {\"value\": 1010, \"frequency\": 2}, \"17400\": {\"value\": 17400, \"frequency\": 5}, \"1017\": {\"value\": 1017, \"frequency\": 1}, \"1020\": {\"value\": 1020, \"frequency\": 4}, \"1021\": {\"value\": 1021, \"frequency\": 3}, \"17411\": {\"value\": 17411, \"frequency\": 2}, \"1032\": {\"value\": 1032, \"frequency\": 3}, \"33801\": {\"value\": 33801, \"frequency\": 1}, \"1034\": {\"value\": 1034, \"frequency\": 3}, \"10400\": {\"value\": 10400, \"frequency\": 11}, \"1036\": {\"value\": 1036, \"frequency\": 2}, \"17424\": {\"value\": 17424, \"frequency\": 4}, \"1044\": {\"value\": 1044, \"frequency\": 1}, \"24750\": {\"value\": 24750, \"frequency\": 3}, \"1050\": {\"value\": 1050, \"frequency\": 2}, \"1051\": {\"value\": 1051, \"frequency\": 2}, \"1058\": {\"value\": 1058, \"frequency\": 4}, \"1060\": {\"value\": 1060, \"frequency\": 4}, \"1062\": {\"value\": 1062, \"frequency\": 2}, \"1066\": {\"value\": 1066, \"frequency\": 1}, \"1073\": {\"value\": 1073, \"frequency\": 4}, \"1075\": {\"value\": 1075, \"frequency\": 2}, \"1078\": {\"value\": 1078, \"frequency\": 2}, \"1080\": {\"value\": 1080, \"frequency\": 3}, \"1081\": {\"value\": 1081, \"frequency\": 1}, \"1086\": {\"value\": 1086, \"frequency\": 2}, \"1091\": {\"value\": 1091, \"frequency\": 3}, \"1092\": {\"value\": 1092, \"frequency\": 3}, \"1093\": {\"value\": 1093, \"frequency\": 1}, \"181319\": {\"value\": 181319, \"frequency\": 1}, \"8375\": {\"value\": 8375, \"frequency\": 4}, \"1100\": {\"value\": 1100, \"frequency\": 2}, \"1101\": {\"value\": 1101, \"frequency\": 2}, \"1102\": {\"value\": 1102, \"frequency\": 3}, \"1103\": {\"value\": 1103, \"frequency\": 2}, \"1107\": {\"value\": 1107, \"frequency\": 3}, \"1110\": {\"value\": 1110, \"frequency\": 2}, \"1113\": {\"value\": 1113, \"frequency\": 2}, \"1114\": {\"value\": 1114, \"frequency\": 3}, \"1115\": {\"value\": 1115, \"frequency\": 1}, \"1118\": {\"value\": 1118, \"frequency\": 2}, \"1119\": {\"value\": 1119, \"frequency\": 2}, \"1120\": {\"value\": 1120, \"frequency\": 3}, \"41147\": {\"value\": 41147, \"frequency\": 1}, \"1125\": {\"value\": 1125, \"frequency\": 4}, \"1131\": {\"value\": 1131, \"frequency\": 4}, \"1133\": {\"value\": 1133, \"frequency\": 2}, \"1136\": {\"value\": 1136, \"frequency\": 1}, \"1137\": {\"value\": 1137, \"frequency\": 3}, \"1140\": {\"value\": 1140, \"frequency\": 3}, \"17532\": {\"value\": 17532, \"frequency\": 1}, \"1149\": {\"value\": 1149, \"frequency\": 2}, \"33919\": {\"value\": 33919, \"frequency\": 2}, \"33920\": {\"value\": 33920, \"frequency\": 1}, \"1155\": {\"value\": 1155, \"frequency\": 2}, \"1156\": {\"value\": 1156, \"frequency\": 2}, \"1157\": {\"value\": 1157, \"frequency\": 5}, \"1159\": {\"value\": 1159, \"frequency\": 1}, \"1161\": {\"value\": 1161, \"frequency\": 3}, \"1165\": {\"value\": 1165, \"frequency\": 3}, \"1171\": {\"value\": 1171, \"frequency\": 2}, \"1172\": {\"value\": 1172, \"frequency\": 1}, \"1173\": {\"value\": 1173, \"frequency\": 4}, \"1174\": {\"value\": 1174, \"frequency\": 4}, \"1175\": {\"value\": 1175, \"frequency\": 1}, \"1179\": {\"value\": 1179, \"frequency\": 2}, \"1180\": {\"value\": 1180, \"frequency\": 6}, \"1181\": {\"value\": 1181, \"frequency\": 1}, \"1182\": {\"value\": 1182, \"frequency\": 2}, \"1184\": {\"value\": 1184, \"frequency\": 2}, \"1186\": {\"value\": 1186, \"frequency\": 2}, \"1189\": {\"value\": 1189, \"frequency\": 5}, \"1192\": {\"value\": 1192, \"frequency\": 2}, \"1193\": {\"value\": 1193, \"frequency\": 3}, \"1194\": {\"value\": 1194, \"frequency\": 4}, \"1196\": {\"value\": 1196, \"frequency\": 2}, \"17583\": {\"value\": 17583, \"frequency\": 1}, \"1200\": {\"value\": 1200, \"frequency\": 9}, \"17585\": {\"value\": 17585, \"frequency\": 1}, \"1202\": {\"value\": 1202, \"frequency\": 1}, \"1204\": {\"value\": 1204, \"frequency\": 4}, \"1208\": {\"value\": 1208, \"frequency\": 2}, \"1209\": {\"value\": 1209, \"frequency\": 2}, \"1210\": {\"value\": 1210, \"frequency\": 2}, \"33981\": {\"value\": 33981, \"frequency\": 1}, \"17600\": {\"value\": 17600, \"frequency\": 3}, \"1217\": {\"value\": 1217, \"frequency\": 1}, \"1219\": {\"value\": 1219, \"frequency\": 2}, \"1221\": {\"value\": 1221, \"frequency\": 4}, \"1222\": {\"value\": 1222, \"frequency\": 3}, \"1228\": {\"value\": 1228, \"frequency\": 2}, \"1229\": {\"value\": 1229, \"frequency\": 2}, \"1230\": {\"value\": 1230, \"frequency\": 3}, \"1234\": {\"value\": 1234, \"frequency\": 2}, \"1235\": {\"value\": 1235, \"frequency\": 2}, \"1236\": {\"value\": 1236, \"frequency\": 4}, \"1237\": {\"value\": 1237, \"frequency\": 3}, \"1238\": {\"value\": 1238, \"frequency\": 2}, \"1240\": {\"value\": 1240, \"frequency\": 4}, \"1241\": {\"value\": 1241, \"frequency\": 2}, \"1242\": {\"value\": 1242, \"frequency\": 1}, \"1243\": {\"value\": 1243, \"frequency\": 1}, \"1245\": {\"value\": 1245, \"frequency\": 4}, \"1246\": {\"value\": 1246, \"frequency\": 3}, \"1248\": {\"value\": 1248, \"frequency\": 3}, \"1249\": {\"value\": 1249, \"frequency\": 5}, \"1250\": {\"value\": 1250, \"frequency\": 8}, \"1251\": {\"value\": 1251, \"frequency\": 4}, \"1253\": {\"value\": 1253, \"frequency\": 2}, \"1256\": {\"value\": 1256, \"frequency\": 3}, \"1262\": {\"value\": 1262, \"frequency\": 3}, \"1263\": {\"value\": 1263, \"frequency\": 3}, \"1264\": {\"value\": 1264, \"frequency\": 3}, \"1265\": {\"value\": 1265, \"frequency\": 2}, \"1266\": {\"value\": 1266, \"frequency\": 1}, \"17652\": {\"value\": 17652, \"frequency\": 2}, \"1269\": {\"value\": 1269, \"frequency\": 4}, \"1270\": {\"value\": 1270, \"frequency\": 3}, \"1275\": {\"value\": 1275, \"frequency\": 3}, \"230652\": {\"value\": 230652, \"frequency\": 1}, \"83199\": {\"value\": 83199, \"frequency\": 2}, \"1280\": {\"value\": 1280, \"frequency\": 3}, \"1281\": {\"value\": 1281, \"frequency\": 4}, \"1282\": {\"value\": 1282, \"frequency\": 2}, \"1286\": {\"value\": 1286, \"frequency\": 4}, \"1287\": {\"value\": 1287, \"frequency\": 2}, \"1288\": {\"value\": 1288, \"frequency\": 1}, \"17674\": {\"value\": 17674, \"frequency\": 1}, \"1294\": {\"value\": 1294, \"frequency\": 2}, \"1296\": {\"value\": 1296, \"frequency\": 3}, \"1297\": {\"value\": 1297, \"frequency\": 1}, \"1298\": {\"value\": 1298, \"frequency\": 2}, \"17685\": {\"value\": 17685, \"frequency\": 1}, \"1302\": {\"value\": 1302, \"frequency\": 2}, \"1303\": {\"value\": 1303, \"frequency\": 2}, \"1304\": {\"value\": 1304, \"frequency\": 2}, \"1306\": {\"value\": 1306, \"frequency\": 3}, \"1309\": {\"value\": 1309, \"frequency\": 2}, \"1310\": {\"value\": 1310, \"frequency\": 2}, \"1311\": {\"value\": 1311, \"frequency\": 2}, \"1312\": {\"value\": 1312, \"frequency\": 4}, \"1313\": {\"value\": 1313, \"frequency\": 1}, \"17700\": {\"value\": 17700, \"frequency\": 2}, \"1320\": {\"value\": 1320, \"frequency\": 3}, \"1321\": {\"value\": 1321, \"frequency\": 3}, \"214315\": {\"value\": 214315, \"frequency\": 3}, \"1325\": {\"value\": 1325, \"frequency\": 4}, \"1326\": {\"value\": 1326, \"frequency\": 1}, \"17711\": {\"value\": 17711, \"frequency\": 1}, \"1329\": {\"value\": 1329, \"frequency\": 3}, \"1330\": {\"value\": 1330, \"frequency\": 3}, \"17715\": {\"value\": 17715, \"frequency\": 1}, \"1332\": {\"value\": 1332, \"frequency\": 4}, \"17717\": {\"value\": 17717, \"frequency\": 1}, \"1334\": {\"value\": 1334, \"frequency\": 2}, \"1340\": {\"value\": 1340, \"frequency\": 3}, \"1341\": {\"value\": 1341, \"frequency\": 1}, \"1343\": {\"value\": 1343, \"frequency\": 2}, \"8416\": {\"value\": 8416, \"frequency\": 1}, \"1348\": {\"value\": 1348, \"frequency\": 3}, \"1349\": {\"value\": 1349, \"frequency\": 3}, \"1350\": {\"value\": 1350, \"frequency\": 6}, \"17739\": {\"value\": 17739, \"frequency\": 1}, \"17743\": {\"value\": 17743, \"frequency\": 1}, \"1360\": {\"value\": 1360, \"frequency\": 1}, \"17745\": {\"value\": 17745, \"frequency\": 1}, \"1362\": {\"value\": 1362, \"frequency\": 3}, \"34133\": {\"value\": 34133, \"frequency\": 1}, \"1366\": {\"value\": 1366, \"frequency\": 1}, \"1368\": {\"value\": 1368, \"frequency\": 2}, \"1369\": {\"value\": 1369, \"frequency\": 3}, \"1372\": {\"value\": 1372, \"frequency\": 1}, \"1374\": {\"value\": 1374, \"frequency\": 1}, \"1375\": {\"value\": 1375, \"frequency\": 1}, \"1377\": {\"value\": 1377, \"frequency\": 3}, \"1380\": {\"value\": 1380, \"frequency\": 3}, \"1386\": {\"value\": 1386, \"frequency\": 2}, \"1387\": {\"value\": 1387, \"frequency\": 2}, \"1388\": {\"value\": 1388, \"frequency\": 1}, \"1391\": {\"value\": 1391, \"frequency\": 1}, \"1396\": {\"value\": 1396, \"frequency\": 2}, \"54846\": {\"value\": 54846, \"frequency\": 1}, \"1400\": {\"value\": 1400, \"frequency\": 4}, \"17788\": {\"value\": 17788, \"frequency\": 1}, \"17789\": {\"value\": 17789, \"frequency\": 1}, \"34175\": {\"value\": 34175, \"frequency\": 1}, \"17800\": {\"value\": 17800, \"frequency\": 1}, \"1418\": {\"value\": 1418, \"frequency\": 1}, \"17810\": {\"value\": 17810, \"frequency\": 1}, \"17811\": {\"value\": 17811, \"frequency\": 1}, \"1431\": {\"value\": 1431, \"frequency\": 2}, \"17817\": {\"value\": 17817, \"frequency\": 1}, \"1438\": {\"value\": 1438, \"frequency\": 2}, \"1441\": {\"value\": 1441, \"frequency\": 1}, \"1442\": {\"value\": 1442, \"frequency\": 4}, \"1444\": {\"value\": 1444, \"frequency\": 2}, \"1445\": {\"value\": 1445, \"frequency\": 3}, \"1448\": {\"value\": 1448, \"frequency\": 1}, \"17833\": {\"value\": 17833, \"frequency\": 2}, \"1452\": {\"value\": 1452, \"frequency\": 4}, \"17841\": {\"value\": 17841, \"frequency\": 1}, \"1458\": {\"value\": 1458, \"frequency\": 3}, \"17852\": {\"value\": 17852, \"frequency\": 1}, \"17853\": {\"value\": 17853, \"frequency\": 2}, \"1471\": {\"value\": 1471, \"frequency\": 2}, \"1475\": {\"value\": 1475, \"frequency\": 2}, \"17861\": {\"value\": 17861, \"frequency\": 1}, \"1480\": {\"value\": 1480, \"frequency\": 2}, \"1481\": {\"value\": 1481, \"frequency\": 1}, \"1485\": {\"value\": 1485, \"frequency\": 3}, \"1487\": {\"value\": 1487, \"frequency\": 4}, \"1488\": {\"value\": 1488, \"frequency\": 3}, \"1490\": {\"value\": 1490, \"frequency\": 1}, \"230868\": {\"value\": 230868, \"frequency\": 2}, \"17877\": {\"value\": 17877, \"frequency\": 1}, \"17882\": {\"value\": 17882, \"frequency\": 1}, \"1499\": {\"value\": 1499, \"frequency\": 2}, \"1500\": {\"value\": 1500, \"frequency\": 6}, \"1501\": {\"value\": 1501, \"frequency\": 3}, \"1512\": {\"value\": 1512, \"frequency\": 2}, \"68519\": {\"value\": 68519, \"frequency\": 1}, \"1516\": {\"value\": 1516, \"frequency\": 2}, \"34290\": {\"value\": 34290, \"frequency\": 1}, \"34293\": {\"value\": 34293, \"frequency\": 1}, \"1164794\": {\"value\": 1164794, \"frequency\": 1}, \"1531\": {\"value\": 1531, \"frequency\": 2}, \"17919\": {\"value\": 17919, \"frequency\": 1}, \"1536\": {\"value\": 1536, \"frequency\": 2}, \"1540\": {\"value\": 1540, \"frequency\": 2}, \"1545\": {\"value\": 1545, \"frequency\": 2}, \"17936\": {\"value\": 17936, \"frequency\": 1}, \"1558\": {\"value\": 1558, \"frequency\": 1}, \"1564\": {\"value\": 1564, \"frequency\": 1}, \"1566\": {\"value\": 1566, \"frequency\": 2}, \"34335\": {\"value\": 34335, \"frequency\": 1}, \"1569\": {\"value\": 1569, \"frequency\": 2}, \"1577\": {\"value\": 1577, \"frequency\": 2}, \"1578\": {\"value\": 1578, \"frequency\": 1}, \"1581\": {\"value\": 1581, \"frequency\": 1}, \"1585\": {\"value\": 1585, \"frequency\": 2}, \"1587\": {\"value\": 1587, \"frequency\": 3}, \"1590\": {\"value\": 1590, \"frequency\": 3}, \"1599\": {\"value\": 1599, \"frequency\": 1}, \"1606\": {\"value\": 1606, \"frequency\": 1}, \"1607\": {\"value\": 1607, \"frequency\": 1}, \"1608\": {\"value\": 1608, \"frequency\": 1}, \"1612\": {\"value\": 1612, \"frequency\": 3}, \"1613\": {\"value\": 1613, \"frequency\": 4}, \"1614\": {\"value\": 1614, \"frequency\": 2}, \"18000\": {\"value\": 18000, \"frequency\": 13}, \"18001\": {\"value\": 18001, \"frequency\": 1}, \"1618\": {\"value\": 1618, \"frequency\": 2}, \"1620\": {\"value\": 1620, \"frequency\": 2}, \"1622\": {\"value\": 1622, \"frequency\": 1}, \"1638\": {\"value\": 1638, \"frequency\": 2}, \"1641\": {\"value\": 1641, \"frequency\": 1}, \"1648\": {\"value\": 1648, \"frequency\": 1}, \"1649\": {\"value\": 1649, \"frequency\": 1}, \"542322\": {\"value\": 542322, \"frequency\": 1}, \"1655\": {\"value\": 1655, \"frequency\": 1}, \"1656\": {\"value\": 1656, \"frequency\": 2}, \"1657\": {\"value\": 1657, \"frequency\": 1}, \"18042\": {\"value\": 18042, \"frequency\": 2}, \"1662\": {\"value\": 1662, \"frequency\": 1}, \"1664\": {\"value\": 1664, \"frequency\": 2}, \"18050\": {\"value\": 18050, \"frequency\": 2}, \"18055\": {\"value\": 18055, \"frequency\": 2}, \"1675\": {\"value\": 1675, \"frequency\": 1}, \"1676\": {\"value\": 1676, \"frequency\": 1}, \"1683\": {\"value\": 1683, \"frequency\": 3}, \"1693\": {\"value\": 1693, \"frequency\": 1}, \"27589\": {\"value\": 27589, \"frequency\": 2}, \"1703\": {\"value\": 1703, \"frequency\": 1}, \"1706\": {\"value\": 1706, \"frequency\": 1}, \"1709\": {\"value\": 1709, \"frequency\": 2}, \"1712\": {\"value\": 1712, \"frequency\": 1}, \"18099\": {\"value\": 18099, \"frequency\": 1}, \"1728\": {\"value\": 1728, \"frequency\": 1}, \"34498\": {\"value\": 34498, \"frequency\": 1}, \"34510\": {\"value\": 34510, \"frequency\": 1}, \"18129\": {\"value\": 18129, \"frequency\": 1}, \"1749\": {\"value\": 1749, \"frequency\": 1}, \"1750\": {\"value\": 1750, \"frequency\": 3}, \"1753\": {\"value\": 1753, \"frequency\": 1}, \"1754\": {\"value\": 1754, \"frequency\": 1}, \"1755\": {\"value\": 1755, \"frequency\": 3}, \"34527\": {\"value\": 34527, \"frequency\": 1}, \"1760\": {\"value\": 1760, \"frequency\": 3}, \"1763\": {\"value\": 1763, \"frequency\": 1}, \"18150\": {\"value\": 18150, \"frequency\": 1}, \"1777\": {\"value\": 1777, \"frequency\": 1}, \"1778\": {\"value\": 1778, \"frequency\": 2}, \"1779\": {\"value\": 1779, \"frequency\": 2}, \"18167\": {\"value\": 18167, \"frequency\": 1}, \"132858\": {\"value\": 132858, \"frequency\": 1}, \"34560\": {\"value\": 34560, \"frequency\": 1}, \"1793\": {\"value\": 1793, \"frequency\": 2}, \"1795\": {\"value\": 1795, \"frequency\": 1}, \"1799\": {\"value\": 1799, \"frequency\": 1}, \"18184\": {\"value\": 18184, \"frequency\": 1}, \"1803\": {\"value\": 1803, \"frequency\": 1}, \"1805\": {\"value\": 1805, \"frequency\": 1}, \"50965\": {\"value\": 50965, \"frequency\": 3}, \"18199\": {\"value\": 18199, \"frequency\": 1}, \"18200\": {\"value\": 18200, \"frequency\": 6}, \"1818\": {\"value\": 1818, \"frequency\": 1}, \"1820\": {\"value\": 1820, \"frequency\": 1}, \"1822\": {\"value\": 1822, \"frequency\": 1}, \"1824\": {\"value\": 1824, \"frequency\": 3}, \"1825\": {\"value\": 1825, \"frequency\": 1}, \"1827\": {\"value\": 1827, \"frequency\": 3}, \"1831\": {\"value\": 1831, \"frequency\": 1}, \"67369\": {\"value\": 67369, \"frequency\": 1}, \"1834\": {\"value\": 1834, \"frequency\": 1}, \"18224\": {\"value\": 18224, \"frequency\": 1}, \"18226\": {\"value\": 18226, \"frequency\": 1}, \"1844\": {\"value\": 1844, \"frequency\": 1}, \"1845\": {\"value\": 1845, \"frequency\": 2}, \"1846\": {\"value\": 1846, \"frequency\": 1}, \"1848\": {\"value\": 1848, \"frequency\": 2}, \"1850\": {\"value\": 1850, \"frequency\": 4}, \"1853\": {\"value\": 1853, \"frequency\": 1}, \"1860\": {\"value\": 1860, \"frequency\": 2}, \"18250\": {\"value\": 18250, \"frequency\": 1}, \"18253\": {\"value\": 18253, \"frequency\": 1}, \"1873\": {\"value\": 1873, \"frequency\": 2}, \"18265\": {\"value\": 18265, \"frequency\": 1}, \"100188\": {\"value\": 100188, \"frequency\": 3}, \"1898\": {\"value\": 1898, \"frequency\": 1}, \"60392\": {\"value\": 60392, \"frequency\": 1}, \"18295\": {\"value\": 18295, \"frequency\": 4}, \"18296\": {\"value\": 18296, \"frequency\": 1}, \"1919\": {\"value\": 1919, \"frequency\": 2}, \"18304\": {\"value\": 18304, \"frequency\": 2}, \"34689\": {\"value\": 34689, \"frequency\": 1}, \"18306\": {\"value\": 18306, \"frequency\": 1}, \"1937\": {\"value\": 1937, \"frequency\": 1}, \"1948\": {\"value\": 1948, \"frequency\": 1}, \"1950\": {\"value\": 1950, \"frequency\": 4}, \"18335\": {\"value\": 18335, \"frequency\": 1}, \"1960\": {\"value\": 1960, \"frequency\": 2}, \"1962\": {\"value\": 1962, \"frequency\": 1}, \"1963\": {\"value\": 1963, \"frequency\": 1}, \"1967\": {\"value\": 1967, \"frequency\": 1}, \"1968\": {\"value\": 1968, \"frequency\": 5}, \"1970\": {\"value\": 1970, \"frequency\": 1}, \"18360\": {\"value\": 18360, \"frequency\": 3}, \"18361\": {\"value\": 18361, \"frequency\": 1}, \"18362\": {\"value\": 18362, \"frequency\": 2}, \"67518\": {\"value\": 67518, \"frequency\": 3}, \"1984\": {\"value\": 1984, \"frequency\": 3}, \"1985\": {\"value\": 1985, \"frequency\": 2}, \"1988\": {\"value\": 1988, \"frequency\": 3}, \"1991\": {\"value\": 1991, \"frequency\": 2}, \"40438\": {\"value\": 40438, \"frequency\": 1}, \"1994\": {\"value\": 1994, \"frequency\": 1}, \"2000\": {\"value\": 2000, \"frequency\": 5}, \"2003\": {\"value\": 2003, \"frequency\": 3}, \"3340\": {\"value\": 3340, \"frequency\": 2}, \"18400\": {\"value\": 18400, \"frequency\": 4}, \"2020\": {\"value\": 2020, \"frequency\": 2}, \"51177\": {\"value\": 51177, \"frequency\": 1}, \"2031\": {\"value\": 2031, \"frequency\": 1}, \"2036\": {\"value\": 2036, \"frequency\": 1}, \"2040\": {\"value\": 2040, \"frequency\": 3}, \"41300\": {\"value\": 41300, \"frequency\": 1}, \"2048\": {\"value\": 2048, \"frequency\": 1}, \"2052\": {\"value\": 2052, \"frequency\": 3}, \"2053\": {\"value\": 2053, \"frequency\": 1}, \"2064\": {\"value\": 2064, \"frequency\": 2}, \"8536\": {\"value\": 8536, \"frequency\": 5}, \"18450\": {\"value\": 18450, \"frequency\": 2}, \"2067\": {\"value\": 2067, \"frequency\": 1}, \"2070\": {\"value\": 2070, \"frequency\": 1}, \"2079\": {\"value\": 2079, \"frequency\": 1}, \"34848\": {\"value\": 34848, \"frequency\": 3}, \"34850\": {\"value\": 34850, \"frequency\": 1}, \"2091\": {\"value\": 2091, \"frequency\": 2}, \"2096\": {\"value\": 2096, \"frequency\": 3}, \"18483\": {\"value\": 18483, \"frequency\": 1}, \"2100\": {\"value\": 2100, \"frequency\": 2}, \"34870\": {\"value\": 34870, \"frequency\": 1}, \"155073\": {\"value\": 155073, \"frequency\": 1}, \"2114\": {\"value\": 2114, \"frequency\": 2}, \"18500\": {\"value\": 18500, \"frequency\": 2}, \"18505\": {\"value\": 18505, \"frequency\": 1}, \"246114\": {\"value\": 246114, \"frequency\": 1}, \"2128\": {\"value\": 2128, \"frequency\": 2}, \"8547\": {\"value\": 8547, \"frequency\": 3}, \"2138\": {\"value\": 2138, \"frequency\": 1}, \"18525\": {\"value\": 18525, \"frequency\": 2}, \"2147\": {\"value\": 2147, \"frequency\": 3}, \"2150\": {\"value\": 2150, \"frequency\": 3}, \"18540\": {\"value\": 18540, \"frequency\": 2}, \"2159\": {\"value\": 2159, \"frequency\": 3}, \"2162\": {\"value\": 2162, \"frequency\": 2}, \"2167\": {\"value\": 2167, \"frequency\": 1}, \"34939\": {\"value\": 34939, \"frequency\": 1}, \"2174\": {\"value\": 2174, \"frequency\": 1}, \"34947\": {\"value\": 34947, \"frequency\": 1}, \"18564\": {\"value\": 18564, \"frequency\": 1}, \"18568\": {\"value\": 18568, \"frequency\": 1}, \"2185\": {\"value\": 2185, \"frequency\": 1}, \"2191\": {\"value\": 2191, \"frequency\": 2}, \"2192\": {\"value\": 2192, \"frequency\": 1}, \"215186\": {\"value\": 215186, \"frequency\": 3}, \"5827\": {\"value\": 5827, \"frequency\": 2}, \"2196\": {\"value\": 2196, \"frequency\": 1}, \"18581\": {\"value\": 18581, \"frequency\": 1}, \"2198\": {\"value\": 2198, \"frequency\": 1}, \"2199\": {\"value\": 2199, \"frequency\": 2}, \"2200\": {\"value\": 2200, \"frequency\": 4}, \"34982\": {\"value\": 34982, \"frequency\": 1}, \"2216\": {\"value\": 2216, \"frequency\": 2}, \"2217\": {\"value\": 2217, \"frequency\": 1}, \"2218\": {\"value\": 2218, \"frequency\": 2}, \"34991\": {\"value\": 34991, \"frequency\": 1}, \"2226\": {\"value\": 2226, \"frequency\": 1}, \"8563\": {\"value\": 8563, \"frequency\": 1}, \"18616\": {\"value\": 18616, \"frequency\": 1}, \"35001\": {\"value\": 35001, \"frequency\": 1}, \"35003\": {\"value\": 35003, \"frequency\": 1}, \"2240\": {\"value\": 2240, \"frequency\": 2}, \"100545\": {\"value\": 100545, \"frequency\": 1}, \"2242\": {\"value\": 2242, \"frequency\": 1}, \"35012\": {\"value\": 35012, \"frequency\": 1}, \"35015\": {\"value\": 35015, \"frequency\": 1}, \"35016\": {\"value\": 35016, \"frequency\": 1}, \"2250\": {\"value\": 2250, \"frequency\": 8}, \"35020\": {\"value\": 35020, \"frequency\": 1}, \"35021\": {\"value\": 35021, \"frequency\": 2}, \"17533\": {\"value\": 17533, \"frequency\": 1}, \"18641\": {\"value\": 18641, \"frequency\": 1}, \"35026\": {\"value\": 35026, \"frequency\": 1}, \"2261\": {\"value\": 2261, \"frequency\": 2}, \"2271\": {\"value\": 2271, \"frequency\": 1}, \"2272\": {\"value\": 2272, \"frequency\": 1}, \"41339\": {\"value\": 41339, \"frequency\": 1}, \"2278\": {\"value\": 2278, \"frequency\": 1}, \"2280\": {\"value\": 2280, \"frequency\": 2}, \"2287\": {\"value\": 2287, \"frequency\": 1}, \"18674\": {\"value\": 18674, \"frequency\": 1}, \"35062\": {\"value\": 35062, \"frequency\": 1}, \"2296\": {\"value\": 2296, \"frequency\": 2}, \"2300\": {\"value\": 2300, \"frequency\": 3}, \"35069\": {\"value\": 35069, \"frequency\": 1}, \"35070\": {\"value\": 35070, \"frequency\": 2}, \"35071\": {\"value\": 35071, \"frequency\": 1}, \"2306\": {\"value\": 2306, \"frequency\": 1}, \"2309\": {\"value\": 2309, \"frequency\": 1}, \"18700\": {\"value\": 18700, \"frequency\": 2}, \"100623\": {\"value\": 100623, \"frequency\": 2}, \"35091\": {\"value\": 35091, \"frequency\": 1}, \"2332\": {\"value\": 2332, \"frequency\": 1}, \"35102\": {\"value\": 35102, \"frequency\": 1}, \"52272\": {\"value\": 52272, \"frequency\": 3}, \"2340\": {\"value\": 2340, \"frequency\": 2}, \"18730\": {\"value\": 18730, \"frequency\": 3}, \"84267\": {\"value\": 84267, \"frequency\": 1}, \"2350\": {\"value\": 2350, \"frequency\": 4}, \"35120\": {\"value\": 35120, \"frequency\": 1}, \"2353\": {\"value\": 2353, \"frequency\": 1}, \"35124\": {\"value\": 35124, \"frequency\": 2}, \"14046\": {\"value\": 14046, \"frequency\": 1}, \"24969\": {\"value\": 24969, \"frequency\": 1}, \"2366\": {\"value\": 2366, \"frequency\": 1}, \"2370\": {\"value\": 2370, \"frequency\": 3}, \"2375\": {\"value\": 2375, \"frequency\": 2}, \"100681\": {\"value\": 100681, \"frequency\": 1}, \"2378\": {\"value\": 2378, \"frequency\": 1}, \"2386\": {\"value\": 2386, \"frequency\": 1}, \"2400\": {\"value\": 2400, \"frequency\": 19}, \"35169\": {\"value\": 35169, \"frequency\": 2}, \"2402\": {\"value\": 2402, \"frequency\": 1}, \"8593\": {\"value\": 8593, \"frequency\": 1}, \"2410\": {\"value\": 2410, \"frequency\": 1}, \"35183\": {\"value\": 35183, \"frequency\": 1}, \"18800\": {\"value\": 18800, \"frequency\": 1}, \"67953\": {\"value\": 67953, \"frequency\": 3}, \"18804\": {\"value\": 18804, \"frequency\": 1}, \"2421\": {\"value\": 2421, \"frequency\": 1}, \"35192\": {\"value\": 35192, \"frequency\": 1}, \"35200\": {\"value\": 35200, \"frequency\": 2}, \"2440\": {\"value\": 2440, \"frequency\": 1}, \"18827\": {\"value\": 18827, \"frequency\": 1}, \"2446\": {\"value\": 2446, \"frequency\": 2}, \"35218\": {\"value\": 35218, \"frequency\": 1}, \"2451\": {\"value\": 2451, \"frequency\": 1}, \"18836\": {\"value\": 18836, \"frequency\": 1}, \"35225\": {\"value\": 35225, \"frequency\": 1}, \"2460\": {\"value\": 2460, \"frequency\": 1}, \"35233\": {\"value\": 35233, \"frequency\": 1}, \"35235\": {\"value\": 35235, \"frequency\": 1}, \"35236\": {\"value\": 35236, \"frequency\": 1}, \"2480\": {\"value\": 2480, \"frequency\": 2}, \"2482\": {\"value\": 2482, \"frequency\": 1}, \"35255\": {\"value\": 35255, \"frequency\": 1}, \"117176\": {\"value\": 117176, \"frequency\": 4}, \"38644\": {\"value\": 38644, \"frequency\": 1}, \"2490\": {\"value\": 2490, \"frequency\": 2}, \"2493\": {\"value\": 2493, \"frequency\": 2}, \"2500\": {\"value\": 2500, \"frequency\": 36}, \"35271\": {\"value\": 35271, \"frequency\": 1}, \"35273\": {\"value\": 35273, \"frequency\": 2}, \"2506\": {\"value\": 2506, \"frequency\": 1}, \"2509\": {\"value\": 2509, \"frequency\": 1}, \"2513\": {\"value\": 2513, \"frequency\": 1}, \"18900\": {\"value\": 18900, \"frequency\": 3}, \"18901\": {\"value\": 18901, \"frequency\": 1}, \"35287\": {\"value\": 35287, \"frequency\": 1}, \"2527\": {\"value\": 2527, \"frequency\": 2}, \"35298\": {\"value\": 35298, \"frequency\": 1}, \"100835\": {\"value\": 100835, \"frequency\": 1}, \"2533\": {\"value\": 2533, \"frequency\": 1}, \"2541\": {\"value\": 2541, \"frequency\": 1}, \"25000\": {\"value\": 25000, \"frequency\": 2}, \"35315\": {\"value\": 35315, \"frequency\": 1}, \"2550\": {\"value\": 2550, \"frequency\": 16}, \"18935\": {\"value\": 18935, \"frequency\": 1}, \"2552\": {\"value\": 2552, \"frequency\": 3}, \"2553\": {\"value\": 2553, \"frequency\": 2}, \"2554\": {\"value\": 2554, \"frequency\": 1}, \"2555\": {\"value\": 2555, \"frequency\": 1}, \"2560\": {\"value\": 2560, \"frequency\": 3}, \"2566\": {\"value\": 2566, \"frequency\": 1}, \"2574\": {\"value\": 2574, \"frequency\": 1}, \"2575\": {\"value\": 2575, \"frequency\": 2}, \"2578\": {\"value\": 2578, \"frequency\": 1}, \"2580\": {\"value\": 2580, \"frequency\": 3}, \"2581\": {\"value\": 2581, \"frequency\": 1}, \"84506\": {\"value\": 84506, \"frequency\": 1}, \"2589\": {\"value\": 2589, \"frequency\": 2}, \"35362\": {\"value\": 35362, \"frequency\": 2}, \"2600\": {\"value\": 2600, \"frequency\": 7}, \"2609\": {\"value\": 2609, \"frequency\": 1}, \"51763\": {\"value\": 51763, \"frequency\": 1}, \"2614\": {\"value\": 2614, \"frequency\": 2}, \"19000\": {\"value\": 19000, \"frequency\": 6}, \"2620\": {\"value\": 2620, \"frequency\": 1}, \"2625\": {\"value\": 2625, \"frequency\": 3}, \"2640\": {\"value\": 2640, \"frequency\": 8}, \"19025\": {\"value\": 19025, \"frequency\": 1}, \"199253\": {\"value\": 199253, \"frequency\": 2}, \"2646\": {\"value\": 2646, \"frequency\": 1}, \"19040\": {\"value\": 19040, \"frequency\": 1}, \"133729\": {\"value\": 133729, \"frequency\": 1}, \"150117\": {\"value\": 150117, \"frequency\": 1}, \"35438\": {\"value\": 35438, \"frequency\": 1}, \"2674\": {\"value\": 2674, \"frequency\": 2}, \"2681\": {\"value\": 2681, \"frequency\": 1}, \"51836\": {\"value\": 51836, \"frequency\": 6}, \"2685\": {\"value\": 2685, \"frequency\": 1}, \"2689\": {\"value\": 2689, \"frequency\": 1}, \"117378\": {\"value\": 117378, \"frequency\": 1}, \"2691\": {\"value\": 2691, \"frequency\": 1}, \"2692\": {\"value\": 2692, \"frequency\": 1}, \"19080\": {\"value\": 19080, \"frequency\": 2}, \"2699\": {\"value\": 2699, \"frequency\": 2}, \"2700\": {\"value\": 2700, \"frequency\": 13}, \"2710\": {\"value\": 2710, \"frequency\": 2}, \"2719\": {\"value\": 2719, \"frequency\": 1}, \"2720\": {\"value\": 2720, \"frequency\": 2}, \"2723\": {\"value\": 2723, \"frequency\": 2}, \"19116\": {\"value\": 19116, \"frequency\": 1}, \"5001\": {\"value\": 5001, \"frequency\": 15}, \"2738\": {\"value\": 2738, \"frequency\": 2}, \"2748\": {\"value\": 2748, \"frequency\": 2}, \"2750\": {\"value\": 2750, \"frequency\": 7}, \"2752\": {\"value\": 2752, \"frequency\": 6}, \"2754\": {\"value\": 2754, \"frequency\": 1}, \"19141\": {\"value\": 19141, \"frequency\": 1}, \"2760\": {\"value\": 2760, \"frequency\": 2}, \"35536\": {\"value\": 35536, \"frequency\": 1}, \"2770\": {\"value\": 2770, \"frequency\": 1}, \"2772\": {\"value\": 2772, \"frequency\": 2}, \"2784\": {\"value\": 2784, \"frequency\": 1}, \"2788\": {\"value\": 2788, \"frequency\": 2}, \"2790\": {\"value\": 2790, \"frequency\": 2}, \"19177\": {\"value\": 19177, \"frequency\": 1}, \"2800\": {\"value\": 2800, \"frequency\": 16}, \"2805\": {\"value\": 2805, \"frequency\": 2}, \"2807\": {\"value\": 2807, \"frequency\": 2}, \"2808\": {\"value\": 2808, \"frequency\": 2}, \"19193\": {\"value\": 19193, \"frequency\": 1}, \"2811\": {\"value\": 2811, \"frequency\": 1}, \"150270\": {\"value\": 150270, \"frequency\": 1}, \"2815\": {\"value\": 2815, \"frequency\": 1}, \"19200\": {\"value\": 19200, \"frequency\": 6}, \"2819\": {\"value\": 2819, \"frequency\": 1}, \"2820\": {\"value\": 2820, \"frequency\": 4}, \"2825\": {\"value\": 2825, \"frequency\": 1}, \"150282\": {\"value\": 150282, \"frequency\": 1}, \"2833\": {\"value\": 2833, \"frequency\": 1}, \"2839\": {\"value\": 2839, \"frequency\": 2}, \"248600\": {\"value\": 248600, \"frequency\": 1}, \"68377\": {\"value\": 68377, \"frequency\": 1}, \"2844\": {\"value\": 2844, \"frequency\": 1}, \"35617\": {\"value\": 35617, \"frequency\": 1}, \"2850\": {\"value\": 2850, \"frequency\": 6}, \"35621\": {\"value\": 35621, \"frequency\": 1}, \"2856\": {\"value\": 2856, \"frequency\": 3}, \"2865\": {\"value\": 2865, \"frequency\": 1}, \"2867\": {\"value\": 2867, \"frequency\": 2}, \"35636\": {\"value\": 35636, \"frequency\": 1}, \"2874\": {\"value\": 2874, \"frequency\": 1}, \"2875\": {\"value\": 2875, \"frequency\": 7}, \"2880\": {\"value\": 2880, \"frequency\": 2}, \"2885\": {\"value\": 2885, \"frequency\": 2}, \"19270\": {\"value\": 19270, \"frequency\": 1}, \"2890\": {\"value\": 2890, \"frequency\": 5}, \"2897\": {\"value\": 2897, \"frequency\": 1}, \"2900\": {\"value\": 2900, \"frequency\": 1}, \"19290\": {\"value\": 19290, \"frequency\": 1}, \"2910\": {\"value\": 2910, \"frequency\": 3}, \"35679\": {\"value\": 35679, \"frequency\": 2}, \"920423\": {\"value\": 920423, \"frequency\": 1}, \"35691\": {\"value\": 35691, \"frequency\": 1}, \"117612\": {\"value\": 117612, \"frequency\": 1}, \"3218\": {\"value\": 3218, \"frequency\": 2}, \"2926\": {\"value\": 2926, \"frequency\": 1}, \"2930\": {\"value\": 2930, \"frequency\": 1}, \"5950\": {\"value\": 5950, \"frequency\": 4}, \"2937\": {\"value\": 2937, \"frequency\": 1}, \"68479\": {\"value\": 68479, \"frequency\": 1}, \"2944\": {\"value\": 2944, \"frequency\": 1}, \"35722\": {\"value\": 35722, \"frequency\": 1}, \"2958\": {\"value\": 2958, \"frequency\": 2}, \"2970\": {\"value\": 2970, \"frequency\": 7}, \"2971\": {\"value\": 2971, \"frequency\": 2}, \"2975\": {\"value\": 2975, \"frequency\": 3}, \"2978\": {\"value\": 2978, \"frequency\": 1}, \"2980\": {\"value\": 2980, \"frequency\": 2}, \"2982\": {\"value\": 2982, \"frequency\": 1}, \"2983\": {\"value\": 2983, \"frequency\": 2}, \"35752\": {\"value\": 35752, \"frequency\": 1}, \"35757\": {\"value\": 35757, \"frequency\": 1}, \"2992\": {\"value\": 2992, \"frequency\": 3}, \"35765\": {\"value\": 35765, \"frequency\": 1}, \"3000\": {\"value\": 3000, \"frequency\": 84}, \"19387\": {\"value\": 19387, \"frequency\": 1}, \"3006\": {\"value\": 3006, \"frequency\": 1}, \"3008\": {\"value\": 3008, \"frequency\": 3}, \"3012\": {\"value\": 3012, \"frequency\": 2}, \"35782\": {\"value\": 35782, \"frequency\": 1}, \"3015\": {\"value\": 3015, \"frequency\": 1}, \"19401\": {\"value\": 19401, \"frequency\": 1}, \"84942\": {\"value\": 84942, \"frequency\": 1}, \"3025\": {\"value\": 3025, \"frequency\": 1}, \"3031\": {\"value\": 3031, \"frequency\": 3}, \"3040\": {\"value\": 3040, \"frequency\": 3}, \"3048\": {\"value\": 3048, \"frequency\": 1}, \"3050\": {\"value\": 3050, \"frequency\": 1}, \"19436\": {\"value\": 19436, \"frequency\": 1}, \"19439\": {\"value\": 19439, \"frequency\": 1}, \"3056\": {\"value\": 3056, \"frequency\": 2}, \"3060\": {\"value\": 3060, \"frequency\": 24}, \"19447\": {\"value\": 19447, \"frequency\": 1}, \"3068\": {\"value\": 3068, \"frequency\": 2}, \"5973\": {\"value\": 5973, \"frequency\": 2}, \"3072\": {\"value\": 3072, \"frequency\": 1}, \"3075\": {\"value\": 3075, \"frequency\": 5}, \"3080\": {\"value\": 3080, \"frequency\": 4}, \"3088\": {\"value\": 3088, \"frequency\": 2}, \"3090\": {\"value\": 3090, \"frequency\": 13}, \"3094\": {\"value\": 3094, \"frequency\": 1}, \"3100\": {\"value\": 3100, \"frequency\": 3}, \"3101\": {\"value\": 3101, \"frequency\": 1}, \"52256\": {\"value\": 52256, \"frequency\": 1}, \"35880\": {\"value\": 35880, \"frequency\": 1}, \"19501\": {\"value\": 19501, \"frequency\": 1}, \"3118\": {\"value\": 3118, \"frequency\": 2}, \"3120\": {\"value\": 3120, \"frequency\": 6}, \"3121\": {\"value\": 3121, \"frequency\": 2}, \"3125\": {\"value\": 3125, \"frequency\": 2}, \"3128\": {\"value\": 3128, \"frequency\": 4}, \"19513\": {\"value\": 19513, \"frequency\": 1}, \"3132\": {\"value\": 3132, \"frequency\": 2}, \"3134\": {\"value\": 3134, \"frequency\": 1}, \"3135\": {\"value\": 3135, \"frequency\": 3}, \"3136\": {\"value\": 3136, \"frequency\": 1}, \"3139\": {\"value\": 3139, \"frequency\": 1}, \"3140\": {\"value\": 3140, \"frequency\": 2}, \"3141\": {\"value\": 3141, \"frequency\": 2}, \"3143\": {\"value\": 3143, \"frequency\": 2}, \"14178\": {\"value\": 14178, \"frequency\": 1}, \"3150\": {\"value\": 3150, \"frequency\": 7}, \"478288\": {\"value\": 478288, \"frequency\": 1}, \"19542\": {\"value\": 19542, \"frequency\": 1}, \"3160\": {\"value\": 3160, \"frequency\": 1}, \"19550\": {\"value\": 19550, \"frequency\": 2}, \"3172\": {\"value\": 3172, \"frequency\": 3}, \"3180\": {\"value\": 3180, \"frequency\": 1}, \"3188\": {\"value\": 3188, \"frequency\": 1}, \"101494\": {\"value\": 101494, \"frequency\": 1}, \"3192\": {\"value\": 3192, \"frequency\": 3}, \"3196\": {\"value\": 3196, \"frequency\": 1}, \"3200\": {\"value\": 3200, \"frequency\": 31}, \"3207\": {\"value\": 3207, \"frequency\": 2}, \"19593\": {\"value\": 19593, \"frequency\": 1}, \"3210\": {\"value\": 3210, \"frequency\": 4}, \"3211\": {\"value\": 3211, \"frequency\": 3}, \"19600\": {\"value\": 19600, \"frequency\": 2}, \"19602\": {\"value\": 19602, \"frequency\": 2}, \"3220\": {\"value\": 3220, \"frequency\": 2}, \"19606\": {\"value\": 19606, \"frequency\": 1}, \"35991\": {\"value\": 35991, \"frequency\": 1}, \"3225\": {\"value\": 3225, \"frequency\": 5}, \"35996\": {\"value\": 35996, \"frequency\": 1}, \"3230\": {\"value\": 3230, \"frequency\": 3}, \"3239\": {\"value\": 3239, \"frequency\": 1}, \"3240\": {\"value\": 3240, \"frequency\": 9}, \"3243\": {\"value\": 3243, \"frequency\": 1}, \"3245\": {\"value\": 3245, \"frequency\": 2}, \"3249\": {\"value\": 3249, \"frequency\": 1}, \"3250\": {\"value\": 3250, \"frequency\": 5}, \"19635\": {\"value\": 19635, \"frequency\": 1}, \"3253\": {\"value\": 3253, \"frequency\": 1}, \"3255\": {\"value\": 3255, \"frequency\": 2}, \"3264\": {\"value\": 3264, \"frequency\": 3}, \"36036\": {\"value\": 36036, \"frequency\": 1}, \"3271\": {\"value\": 3271, \"frequency\": 1}, \"3276\": {\"value\": 3276, \"frequency\": 1}, \"3277\": {\"value\": 3277, \"frequency\": 1}, \"19680\": {\"value\": 19680, \"frequency\": 2}, \"3300\": {\"value\": 3300, \"frequency\": 15}, \"11473\": {\"value\": 11473, \"frequency\": 1}, \"20296\": {\"value\": 20296, \"frequency\": 1}, \"434728\": {\"value\": 434728, \"frequency\": 1}, \"3315\": {\"value\": 3315, \"frequency\": 2}, \"19700\": {\"value\": 19700, \"frequency\": 2}, \"36085\": {\"value\": 36085, \"frequency\": 1}, \"3322\": {\"value\": 3322, \"frequency\": 1}, \"3323\": {\"value\": 3323, \"frequency\": 1}, \"19709\": {\"value\": 19709, \"frequency\": 1}, \"3328\": {\"value\": 3328, \"frequency\": 2}, \"3330\": {\"value\": 3330, \"frequency\": 5}, \"3332\": {\"value\": 3332, \"frequency\": 2}, \"3333\": {\"value\": 3333, \"frequency\": 3}, \"216332\": {\"value\": 216332, \"frequency\": 1}, \"3348\": {\"value\": 3348, \"frequency\": 3}, \"3350\": {\"value\": 3350, \"frequency\": 3}, \"216344\": {\"value\": 216344, \"frequency\": 1}, \"3354\": {\"value\": 3354, \"frequency\": 1}, \"3357\": {\"value\": 3357, \"frequency\": 1}, \"118047\": {\"value\": 118047, \"frequency\": 3}, \"3360\": {\"value\": 3360, \"frequency\": 9}, \"3375\": {\"value\": 3375, \"frequency\": 1}, \"3376\": {\"value\": 3376, \"frequency\": 2}, \"14217\": {\"value\": 14217, \"frequency\": 1}, \"3388\": {\"value\": 3388, \"frequency\": 1}, \"3399\": {\"value\": 3399, \"frequency\": 2}, \"3400\": {\"value\": 3400, \"frequency\": 22}, \"3402\": {\"value\": 3402, \"frequency\": 3}, \"36171\": {\"value\": 36171, \"frequency\": 1}, \"3404\": {\"value\": 3404, \"frequency\": 2}, \"3408\": {\"value\": 3408, \"frequency\": 1}, \"3411\": {\"value\": 3411, \"frequency\": 1}, \"3413\": {\"value\": 3413, \"frequency\": 1}, \"36183\": {\"value\": 36183, \"frequency\": 1}, \"19800\": {\"value\": 19800, \"frequency\": 3}, \"3417\": {\"value\": 3417, \"frequency\": 1}, \"3419\": {\"value\": 3419, \"frequency\": 1}, \"3420\": {\"value\": 3420, \"frequency\": 9}, \"22482\": {\"value\": 22482, \"frequency\": 1}, \"3425\": {\"value\": 3425, \"frequency\": 2}, \"3427\": {\"value\": 3427, \"frequency\": 3}, \"36200\": {\"value\": 36200, \"frequency\": 1}, \"3433\": {\"value\": 3433, \"frequency\": 2}, \"3435\": {\"value\": 3435, \"frequency\": 1}, \"3436\": {\"value\": 3436, \"frequency\": 2}, \"19821\": {\"value\": 19821, \"frequency\": 1}, \"3438\": {\"value\": 3438, \"frequency\": 2}, \"3444\": {\"value\": 3444, \"frequency\": 1}, \"3446\": {\"value\": 3446, \"frequency\": 1}, \"3449\": {\"value\": 3449, \"frequency\": 1}, \"36218\": {\"value\": 36218, \"frequency\": 1}, \"3451\": {\"value\": 3451, \"frequency\": 3}, \"6116\": {\"value\": 6116, \"frequency\": 2}, \"3455\": {\"value\": 3455, \"frequency\": 1}, \"36224\": {\"value\": 36224, \"frequency\": 1}, \"85377\": {\"value\": 85377, \"frequency\": 2}, \"19843\": {\"value\": 19843, \"frequency\": 1}, \"19844\": {\"value\": 19844, \"frequency\": 1}, \"3464\": {\"value\": 3464, \"frequency\": 1}, \"19850\": {\"value\": 19850, \"frequency\": 3}, \"3469\": {\"value\": 3469, \"frequency\": 1}, \"3475\": {\"value\": 3475, \"frequency\": 3}, \"19860\": {\"value\": 19860, \"frequency\": 1}, \"36246\": {\"value\": 36246, \"frequency\": 1}, \"3480\": {\"value\": 3480, \"frequency\": 4}, \"19865\": {\"value\": 19865, \"frequency\": 2}, \"3485\": {\"value\": 3485, \"frequency\": 1}, \"36254\": {\"value\": 36254, \"frequency\": 1}, \"3488\": {\"value\": 3488, \"frequency\": 1}, \"50308\": {\"value\": 50308, \"frequency\": 1}, \"19876\": {\"value\": 19876, \"frequency\": 1}, \"3497\": {\"value\": 3497, \"frequency\": 2}, \"3500\": {\"value\": 3500, \"frequency\": 18}, \"216493\": {\"value\": 216493, \"frequency\": 2}, \"3503\": {\"value\": 3503, \"frequency\": 2}, \"3504\": {\"value\": 3504, \"frequency\": 2}, \"3507\": {\"value\": 3507, \"frequency\": 2}, \"36276\": {\"value\": 36276, \"frequency\": 1}, \"3515\": {\"value\": 3515, \"frequency\": 2}, \"3516\": {\"value\": 3516, \"frequency\": 1}, \"19901\": {\"value\": 19901, \"frequency\": 1}, \"3520\": {\"value\": 3520, \"frequency\": 6}, \"3522\": {\"value\": 3522, \"frequency\": 1}, \"3523\": {\"value\": 3523, \"frequency\": 1}, \"3525\": {\"value\": 3525, \"frequency\": 1}, \"3527\": {\"value\": 3527, \"frequency\": 1}, \"3532\": {\"value\": 3532, \"frequency\": 1}, \"3538\": {\"value\": 3538, \"frequency\": 1}, \"3541\": {\"value\": 3541, \"frequency\": 1}, \"3543\": {\"value\": 3543, \"frequency\": 1}, \"3550\": {\"value\": 3550, \"frequency\": 1}, \"3554\": {\"value\": 3554, \"frequency\": 1}, \"52707\": {\"value\": 52707, \"frequency\": 2}, \"3560\": {\"value\": 3560, \"frequency\": 3}, \"3561\": {\"value\": 3561, \"frequency\": 2}, \"3562\": {\"value\": 3562, \"frequency\": 1}, \"3565\": {\"value\": 3565, \"frequency\": 2}, \"3325\": {\"value\": 3325, \"frequency\": 2}, \"3570\": {\"value\": 3570, \"frequency\": 5}, \"3574\": {\"value\": 3574, \"frequency\": 1}, \"3580\": {\"value\": 3580, \"frequency\": 1}, \"19965\": {\"value\": 19965, \"frequency\": 2}, \"3582\": {\"value\": 3582, \"frequency\": 4}, \"19252\": {\"value\": 19252, \"frequency\": 1}, \"3584\": {\"value\": 3584, \"frequency\": 2}, \"3588\": {\"value\": 3588, \"frequency\": 3}, \"3593\": {\"value\": 3593, \"frequency\": 1}, \"19978\": {\"value\": 19978, \"frequency\": 1}, \"183823\": {\"value\": 183823, \"frequency\": 1}, \"3600\": {\"value\": 3600, \"frequency\": 103}, \"3604\": {\"value\": 3604, \"frequency\": 2}, \"19989\": {\"value\": 19989, \"frequency\": 1}, \"19991\": {\"value\": 19991, \"frequency\": 2}, \"3608\": {\"value\": 3608, \"frequency\": 3}, \"199940\": {\"value\": 199940, \"frequency\": 1}, \"3610\": {\"value\": 3610, \"frequency\": 3}, \"19998\": {\"value\": 19998, \"frequency\": 1}, \"36384\": {\"value\": 36384, \"frequency\": 1}, \"20001\": {\"value\": 20001, \"frequency\": 2}, \"20005\": {\"value\": 20005, \"frequency\": 1}, \"3622\": {\"value\": 3622, \"frequency\": 2}, \"3625\": {\"value\": 3625, \"frequency\": 1}, \"101930\": {\"value\": 101930, \"frequency\": 3}, \"3627\": {\"value\": 3627, \"frequency\": 1}, \"20012\": {\"value\": 20012, \"frequency\": 1}, \"3630\": {\"value\": 3630, \"frequency\": 2}, \"36400\": {\"value\": 36400, \"frequency\": 1}, \"20018\": {\"value\": 20018, \"frequency\": 1}, \"20023\": {\"value\": 20023, \"frequency\": 1}, \"3640\": {\"value\": 3640, \"frequency\": 4}, \"2849\": {\"value\": 2849, \"frequency\": 1}, \"20031\": {\"value\": 20031, \"frequency\": 1}, \"3649\": {\"value\": 3649, \"frequency\": 1}, \"3650\": {\"value\": 3650, \"frequency\": 1}, \"20040\": {\"value\": 20040, \"frequency\": 2}, \"3657\": {\"value\": 3657, \"frequency\": 1}, \"3658\": {\"value\": 3658, \"frequency\": 1}, \"3667\": {\"value\": 3667, \"frequency\": 2}, \"3671\": {\"value\": 3671, \"frequency\": 1}, \"3672\": {\"value\": 3672, \"frequency\": 4}, \"3676\": {\"value\": 3676, \"frequency\": 1}, \"36445\": {\"value\": 36445, \"frequency\": 1}, \"20063\": {\"value\": 20063, \"frequency\": 1}, \"3680\": {\"value\": 3680, \"frequency\": 9}, \"20067\": {\"value\": 20067, \"frequency\": 1}, \"3690\": {\"value\": 3690, \"frequency\": 3}, \"3694\": {\"value\": 3694, \"frequency\": 1}, \"36465\": {\"value\": 36465, \"frequency\": 1}, \"3698\": {\"value\": 3698, \"frequency\": 1}, \"3700\": {\"value\": 3700, \"frequency\": 6}, \"36116\": {\"value\": 36116, \"frequency\": 1}, \"3708\": {\"value\": 3708, \"frequency\": 3}, \"3710\": {\"value\": 3710, \"frequency\": 2}, \"3711\": {\"value\": 3711, \"frequency\": 1}, \"3713\": {\"value\": 3713, \"frequency\": 2}, \"20100\": {\"value\": 20100, \"frequency\": 3}, \"3718\": {\"value\": 3718, \"frequency\": 1}, \"6081\": {\"value\": 6081, \"frequency\": 1}, \"3720\": {\"value\": 3720, \"frequency\": 6}, \"3721\": {\"value\": 3721, \"frequency\": 3}, \"85643\": {\"value\": 85643, \"frequency\": 1}, \"69260\": {\"value\": 69260, \"frequency\": 1}, \"3727\": {\"value\": 3727, \"frequency\": 1}, \"3729\": {\"value\": 3729, \"frequency\": 2}, \"3730\": {\"value\": 3730, \"frequency\": 3}, \"52889\": {\"value\": 52889, \"frequency\": 2}, \"3738\": {\"value\": 3738, \"frequency\": 2}, \"3740\": {\"value\": 3740, \"frequency\": 3}, \"14864\": {\"value\": 14864, \"frequency\": 1}, \"3742\": {\"value\": 3742, \"frequency\": 1}, \"20130\": {\"value\": 20130, \"frequency\": 1}, \"3748\": {\"value\": 3748, \"frequency\": 2}, \"3750\": {\"value\": 3750, \"frequency\": 24}, \"3752\": {\"value\": 3752, \"frequency\": 1}, \"3755\": {\"value\": 3755, \"frequency\": 1}, \"3757\": {\"value\": 3757, \"frequency\": 4}, \"3760\": {\"value\": 3760, \"frequency\": 7}, \"3764\": {\"value\": 3764, \"frequency\": 2}, \"20150\": {\"value\": 20150, \"frequency\": 2}, \"20158\": {\"value\": 20158, \"frequency\": 1}, \"3775\": {\"value\": 3775, \"frequency\": 1}, \"3780\": {\"value\": 3780, \"frequency\": 4}, \"3784\": {\"value\": 3784, \"frequency\": 4}, \"216777\": {\"value\": 216777, \"frequency\": 1}, \"36558\": {\"value\": 36558, \"frequency\": 1}, \"3794\": {\"value\": 3794, \"frequency\": 1}, \"3795\": {\"value\": 3795, \"frequency\": 2}, \"3800\": {\"value\": 3800, \"frequency\": 28}, \"52953\": {\"value\": 52953, \"frequency\": 1}, \"20189\": {\"value\": 20189, \"frequency\": 1}, \"85728\": {\"value\": 85728, \"frequency\": 1}, \"3809\": {\"value\": 3809, \"frequency\": 1}, \"3810\": {\"value\": 3810, \"frequency\": 2}, \"25211\": {\"value\": 25211, \"frequency\": 1}, \"3813\": {\"value\": 3813, \"frequency\": 1}, \"69351\": {\"value\": 69351, \"frequency\": 1}, \"3816\": {\"value\": 3816, \"frequency\": 1}, \"36585\": {\"value\": 36585, \"frequency\": 2}, \"3821\": {\"value\": 3821, \"frequency\": 2}, \"3825\": {\"value\": 3825, \"frequency\": 18}, \"3827\": {\"value\": 3827, \"frequency\": 2}, \"3832\": {\"value\": 3832, \"frequency\": 1}, \"36601\": {\"value\": 36601, \"frequency\": 1}, \"3836\": {\"value\": 3836, \"frequency\": 1}, \"3839\": {\"value\": 3839, \"frequency\": 2}, \"3840\": {\"value\": 3840, \"frequency\": 18}, \"3841\": {\"value\": 3841, \"frequency\": 1}, \"3844\": {\"value\": 3844, \"frequency\": 11}, \"3850\": {\"value\": 3850, \"frequency\": 7}, \"3852\": {\"value\": 3852, \"frequency\": 2}, \"3855\": {\"value\": 3855, \"frequency\": 2}, \"20242\": {\"value\": 20242, \"frequency\": 1}, \"3860\": {\"value\": 3860, \"frequency\": 1}, \"6105\": {\"value\": 6105, \"frequency\": 2}, \"3864\": {\"value\": 3864, \"frequency\": 3}, \"167706\": {\"value\": 167706, \"frequency\": 1}, \"20251\": {\"value\": 20251, \"frequency\": 2}, \"3868\": {\"value\": 3868, \"frequency\": 3}, \"3870\": {\"value\": 3870, \"frequency\": 4}, \"3873\": {\"value\": 3873, \"frequency\": 3}, \"3874\": {\"value\": 3874, \"frequency\": 1}, \"3875\": {\"value\": 3875, \"frequency\": 1}, \"3876\": {\"value\": 3876, \"frequency\": 6}, \"69415\": {\"value\": 69415, \"frequency\": 1}, \"3880\": {\"value\": 3880, \"frequency\": 21}, \"3881\": {\"value\": 3881, \"frequency\": 1}, \"3884\": {\"value\": 3884, \"frequency\": 1}, \"3885\": {\"value\": 3885, \"frequency\": 2}, \"85813\": {\"value\": 85813, \"frequency\": 1}, \"20280\": {\"value\": 20280, \"frequency\": 1}, \"3899\": {\"value\": 3899, \"frequency\": 3}, \"3900\": {\"value\": 3900, \"frequency\": 14}, \"3904\": {\"value\": 3904, \"frequency\": 1}, \"3905\": {\"value\": 3905, \"frequency\": 2}, \"3910\": {\"value\": 3910, \"frequency\": 1}, \"36680\": {\"value\": 36680, \"frequency\": 1}, \"3916\": {\"value\": 3916, \"frequency\": 3}, \"20301\": {\"value\": 20301, \"frequency\": 1}, \"3920\": {\"value\": 3920, \"frequency\": 4}, \"3927\": {\"value\": 3927, \"frequency\": 1}, \"22500\": {\"value\": 22500, \"frequency\": 2}, \"3930\": {\"value\": 3930, \"frequency\": 2}, \"3933\": {\"value\": 3933, \"frequency\": 2}, \"36704\": {\"value\": 36704, \"frequency\": 1}, \"3938\": {\"value\": 3938, \"frequency\": 2}, \"3952\": {\"value\": 3952, \"frequency\": 2}, \"3953\": {\"value\": 3953, \"frequency\": 1}, \"3960\": {\"value\": 3960, \"frequency\": 13}, \"3962\": {\"value\": 3962, \"frequency\": 2}, \"3963\": {\"value\": 3963, \"frequency\": 1}, \"107157\": {\"value\": 107157, \"frequency\": 4}, \"3969\": {\"value\": 3969, \"frequency\": 1}, \"3971\": {\"value\": 3971, \"frequency\": 1}, \"74390\": {\"value\": 74390, \"frequency\": 1}, \"3974\": {\"value\": 3974, \"frequency\": 2}, \"3975\": {\"value\": 3975, \"frequency\": 2}, \"3976\": {\"value\": 3976, \"frequency\": 2}, \"118666\": {\"value\": 118666, \"frequency\": 1}, \"3980\": {\"value\": 3980, \"frequency\": 6}, \"3982\": {\"value\": 3982, \"frequency\": 1}, \"3984\": {\"value\": 3984, \"frequency\": 2}, \"3986\": {\"value\": 3986, \"frequency\": 2}, \"3987\": {\"value\": 3987, \"frequency\": 1}, \"3988\": {\"value\": 3988, \"frequency\": 1}, \"6126\": {\"value\": 6126, \"frequency\": 1}, \"3990\": {\"value\": 3990, \"frequency\": 5}, \"53143\": {\"value\": 53143, \"frequency\": 3}, \"20377\": {\"value\": 20377, \"frequency\": 1}, \"36762\": {\"value\": 36762, \"frequency\": 1}, \"3995\": {\"value\": 3995, \"frequency\": 2}, \"3996\": {\"value\": 3996, \"frequency\": 2}, \"3997\": {\"value\": 3997, \"frequency\": 1}, \"3999\": {\"value\": 3999, \"frequency\": 1}, \"4000\": {\"value\": 4000, \"frequency\": 251}, \"4002\": {\"value\": 4002, \"frequency\": 2}, \"4003\": {\"value\": 4003, \"frequency\": 2}, \"4004\": {\"value\": 4004, \"frequency\": 2}, \"4005\": {\"value\": 4005, \"frequency\": 3}, \"4006\": {\"value\": 4006, \"frequency\": 3}, \"4007\": {\"value\": 4007, \"frequency\": 2}, \"4008\": {\"value\": 4008, \"frequency\": 1}, \"4010\": {\"value\": 4010, \"frequency\": 2}, \"4011\": {\"value\": 4011, \"frequency\": 2}, \"4013\": {\"value\": 4013, \"frequency\": 3}, \"8861\": {\"value\": 8861, \"frequency\": 2}, \"20400\": {\"value\": 20400, \"frequency\": 2}, \"24684\": {\"value\": 24684, \"frequency\": 2}, \"4020\": {\"value\": 4020, \"frequency\": 3}, \"217014\": {\"value\": 217014, \"frequency\": 1}, \"4025\": {\"value\": 4025, \"frequency\": 6}, \"20412\": {\"value\": 20412, \"frequency\": 2}, \"4030\": {\"value\": 4030, \"frequency\": 2}, \"4031\": {\"value\": 4031, \"frequency\": 2}, \"4032\": {\"value\": 4032, \"frequency\": 1}, \"4033\": {\"value\": 4033, \"frequency\": 1}, \"22518\": {\"value\": 22518, \"frequency\": 1}, \"4038\": {\"value\": 4038, \"frequency\": 2}, \"20424\": {\"value\": 20424, \"frequency\": 1}, \"4046\": {\"value\": 4046, \"frequency\": 6}, \"4049\": {\"value\": 4049, \"frequency\": 1}, \"4050\": {\"value\": 4050, \"frequency\": 11}, \"4052\": {\"value\": 4052, \"frequency\": 2}, \"4054\": {\"value\": 4054, \"frequency\": 3}, \"4056\": {\"value\": 4056, \"frequency\": 1}, \"4057\": {\"value\": 4057, \"frequency\": 1}, \"4059\": {\"value\": 4059, \"frequency\": 1}, \"4060\": {\"value\": 4060, \"frequency\": 4}, \"20445\": {\"value\": 20445, \"frequency\": 2}, \"102366\": {\"value\": 102366, \"frequency\": 3}, \"36831\": {\"value\": 36831, \"frequency\": 1}, \"4065\": {\"value\": 4065, \"frequency\": 2}, \"4069\": {\"value\": 4069, \"frequency\": 1}, \"4076\": {\"value\": 4076, \"frequency\": 2}, \"4077\": {\"value\": 4077, \"frequency\": 2}, \"315374\": {\"value\": 315374, \"frequency\": 1}, \"36847\": {\"value\": 36847, \"frequency\": 1}, \"4080\": {\"value\": 4080, \"frequency\": 67}, \"20466\": {\"value\": 20466, \"frequency\": 1}, \"4084\": {\"value\": 4084, \"frequency\": 2}, \"4086\": {\"value\": 4086, \"frequency\": 2}, \"4087\": {\"value\": 4087, \"frequency\": 1}, \"4088\": {\"value\": 4088, \"frequency\": 2}, \"4089\": {\"value\": 4089, \"frequency\": 2}, \"4094\": {\"value\": 4094, \"frequency\": 2}, \"4095\": {\"value\": 4095, \"frequency\": 3}, \"4096\": {\"value\": 4096, \"frequency\": 2}, \"4097\": {\"value\": 4097, \"frequency\": 2}, \"53250\": {\"value\": 53250, \"frequency\": 1}, \"4100\": {\"value\": 4100, \"frequency\": 4}, \"4102\": {\"value\": 4102, \"frequency\": 3}, \"6145\": {\"value\": 6145, \"frequency\": 3}, \"4104\": {\"value\": 4104, \"frequency\": 4}, \"4105\": {\"value\": 4105, \"frequency\": 1}, \"4106\": {\"value\": 4106, \"frequency\": 2}, \"4108\": {\"value\": 4108, \"frequency\": 3}, \"4118\": {\"value\": 4118, \"frequency\": 1}, \"134489\": {\"value\": 134489, \"frequency\": 1}, \"4120\": {\"value\": 4120, \"frequency\": 21}, \"4122\": {\"value\": 4122, \"frequency\": 1}, \"4125\": {\"value\": 4125, \"frequency\": 7}, \"4128\": {\"value\": 4128, \"frequency\": 3}, \"4132\": {\"value\": 4132, \"frequency\": 2}, \"4136\": {\"value\": 4136, \"frequency\": 2}, \"4139\": {\"value\": 4139, \"frequency\": 1}, \"20524\": {\"value\": 20524, \"frequency\": 1}, \"4141\": {\"value\": 4141, \"frequency\": 2}, \"20531\": {\"value\": 20531, \"frequency\": 1}, \"4153\": {\"value\": 4153, \"frequency\": 2}, \"4160\": {\"value\": 4160, \"frequency\": 10}, \"44384\": {\"value\": 44384, \"frequency\": 1}, \"4163\": {\"value\": 4163, \"frequency\": 2}, \"4165\": {\"value\": 4165, \"frequency\": 2}, \"4166\": {\"value\": 4166, \"frequency\": 2}, \"4168\": {\"value\": 4168, \"frequency\": 1}, \"4169\": {\"value\": 4169, \"frequency\": 1}, \"4171\": {\"value\": 4171, \"frequency\": 2}, \"4172\": {\"value\": 4172, \"frequency\": 1}, \"4174\": {\"value\": 4174, \"frequency\": 1}, \"4176\": {\"value\": 4176, \"frequency\": 1}, \"4178\": {\"value\": 4178, \"frequency\": 4}, \"4179\": {\"value\": 4179, \"frequency\": 2}, \"4180\": {\"value\": 4180, \"frequency\": 2}, \"4182\": {\"value\": 4182, \"frequency\": 4}, \"4185\": {\"value\": 4185, \"frequency\": 2}, \"20570\": {\"value\": 20570, \"frequency\": 1}, \"4187\": {\"value\": 4187, \"frequency\": 2}, \"4188\": {\"value\": 4188, \"frequency\": 1}, \"4189\": {\"value\": 4189, \"frequency\": 1}, \"4190\": {\"value\": 4190, \"frequency\": 2}, \"4191\": {\"value\": 4191, \"frequency\": 2}, \"4195\": {\"value\": 4195, \"frequency\": 1}, \"4200\": {\"value\": 4200, \"frequency\": 49}, \"4203\": {\"value\": 4203, \"frequency\": 4}, \"20588\": {\"value\": 20588, \"frequency\": 1}, \"4206\": {\"value\": 4206, \"frequency\": 3}, \"3432\": {\"value\": 3432, \"frequency\": 1}, \"4211\": {\"value\": 4211, \"frequency\": 1}, \"4217\": {\"value\": 4217, \"frequency\": 1}, \"4218\": {\"value\": 4218, \"frequency\": 3}, \"4220\": {\"value\": 4220, \"frequency\": 4}, \"4222\": {\"value\": 4222, \"frequency\": 1}, \"4225\": {\"value\": 4225, \"frequency\": 3}, \"4226\": {\"value\": 4226, \"frequency\": 2}, \"4228\": {\"value\": 4228, \"frequency\": 3}, \"118918\": {\"value\": 118918, \"frequency\": 1}, \"4232\": {\"value\": 4232, \"frequency\": 1}, \"4234\": {\"value\": 4234, \"frequency\": 2}, \"4235\": {\"value\": 4235, \"frequency\": 1}, \"20620\": {\"value\": 20620, \"frequency\": 1}, \"4237\": {\"value\": 4237, \"frequency\": 1}, \"4239\": {\"value\": 4239, \"frequency\": 1}, \"53392\": {\"value\": 53392, \"frequency\": 1}, \"37011\": {\"value\": 37011, \"frequency\": 1}, \"4244\": {\"value\": 4244, \"frequency\": 3}, \"4247\": {\"value\": 4247, \"frequency\": 2}, \"4250\": {\"value\": 4250, \"frequency\": 7}, \"4252\": {\"value\": 4252, \"frequency\": 2}, \"4254\": {\"value\": 4254, \"frequency\": 1}, \"37026\": {\"value\": 37026, \"frequency\": 1}, \"4260\": {\"value\": 4260, \"frequency\": 1}, \"4264\": {\"value\": 4264, \"frequency\": 2}, \"37034\": {\"value\": 37034, \"frequency\": 2}, \"4268\": {\"value\": 4268, \"frequency\": 5}, \"4270\": {\"value\": 4270, \"frequency\": 3}, \"4271\": {\"value\": 4271, \"frequency\": 2}, \"4273\": {\"value\": 4273, \"frequency\": 1}, \"37042\": {\"value\": 37042, \"frequency\": 1}, \"4275\": {\"value\": 4275, \"frequency\": 4}, \"20662\": {\"value\": 20662, \"frequency\": 1}, \"4280\": {\"value\": 4280, \"frequency\": 4}, \"4284\": {\"value\": 4284, \"frequency\": 5}, \"4286\": {\"value\": 4286, \"frequency\": 2}, \"4288\": {\"value\": 4288, \"frequency\": 1}, \"37058\": {\"value\": 37058, \"frequency\": 1}, \"6144\": {\"value\": 6144, \"frequency\": 1}, \"4296\": {\"value\": 4296, \"frequency\": 1}, \"4297\": {\"value\": 4297, \"frequency\": 2}, \"69834\": {\"value\": 69834, \"frequency\": 1}, \"4299\": {\"value\": 4299, \"frequency\": 1}, \"4300\": {\"value\": 4300, \"frequency\": 8}, \"4301\": {\"value\": 4301, \"frequency\": 2}, \"4305\": {\"value\": 4305, \"frequency\": 2}, \"4307\": {\"value\": 4307, \"frequency\": 2}, \"4308\": {\"value\": 4308, \"frequency\": 2}, \"197326\": {\"value\": 197326, \"frequency\": 1}, \"4310\": {\"value\": 4310, \"frequency\": 3}, \"20700\": {\"value\": 20700, \"frequency\": 3}, \"4320\": {\"value\": 4320, \"frequency\": 11}, \"4322\": {\"value\": 4322, \"frequency\": 4}, \"4323\": {\"value\": 4323, \"frequency\": 1}, \"4329\": {\"value\": 4329, \"frequency\": 1}, \"4331\": {\"value\": 4331, \"frequency\": 1}, \"4332\": {\"value\": 4332, \"frequency\": 4}, \"4333\": {\"value\": 4333, \"frequency\": 2}, \"4334\": {\"value\": 4334, \"frequency\": 2}, \"20720\": {\"value\": 20720, \"frequency\": 1}, \"4337\": {\"value\": 4337, \"frequency\": 3}, \"4338\": {\"value\": 4338, \"frequency\": 3}, \"4342\": {\"value\": 4342, \"frequency\": 1}, \"4343\": {\"value\": 4343, \"frequency\": 1}, \"4348\": {\"value\": 4348, \"frequency\": 1}, \"20734\": {\"value\": 20734, \"frequency\": 1}, \"4356\": {\"value\": 4356, \"frequency\": 2}, \"4360\": {\"value\": 4360, \"frequency\": 3}, \"4366\": {\"value\": 4366, \"frequency\": 3}, \"4367\": {\"value\": 4367, \"frequency\": 1}, \"4368\": {\"value\": 4368, \"frequency\": 3}, \"4370\": {\"value\": 4370, \"frequency\": 2}, \"4372\": {\"value\": 4372, \"frequency\": 1}, \"20759\": {\"value\": 20759, \"frequency\": 1}, \"4377\": {\"value\": 4377, \"frequency\": 1}, \"4379\": {\"value\": 4379, \"frequency\": 1}, \"4380\": {\"value\": 4380, \"frequency\": 1}, \"217374\": {\"value\": 217374, \"frequency\": 1}, \"4385\": {\"value\": 4385, \"frequency\": 1}, \"4388\": {\"value\": 4388, \"frequency\": 1}, \"4390\": {\"value\": 4390, \"frequency\": 1}, \"4394\": {\"value\": 4394, \"frequency\": 1}, \"4397\": {\"value\": 4397, \"frequency\": 1}, \"4399\": {\"value\": 4399, \"frequency\": 3}, \"4400\": {\"value\": 4400, \"frequency\": 56}, \"28040\": {\"value\": 28040, \"frequency\": 1}, \"4408\": {\"value\": 4408, \"frequency\": 4}, \"4410\": {\"value\": 4410, \"frequency\": 2}, \"4412\": {\"value\": 4412, \"frequency\": 1}, \"3466\": {\"value\": 3466, \"frequency\": 1}, \"4416\": {\"value\": 4416, \"frequency\": 1}, \"4418\": {\"value\": 4418, \"frequency\": 2}, \"4420\": {\"value\": 4420, \"frequency\": 2}, \"20805\": {\"value\": 20805, \"frequency\": 1}, \"53574\": {\"value\": 53574, \"frequency\": 1}, \"4425\": {\"value\": 4425, \"frequency\": 2}, \"53578\": {\"value\": 53578, \"frequency\": 5}, \"20812\": {\"value\": 20812, \"frequency\": 1}, \"4429\": {\"value\": 4429, \"frequency\": 2}, \"4435\": {\"value\": 4435, \"frequency\": 1}, \"28046\": {\"value\": 28046, \"frequency\": 1}, \"4438\": {\"value\": 4438, \"frequency\": 2}, \"4440\": {\"value\": 4440, \"frequency\": 8}, \"4441\": {\"value\": 4441, \"frequency\": 2}, \"4442\": {\"value\": 4442, \"frequency\": 1}, \"4443\": {\"value\": 4443, \"frequency\": 2}, \"4445\": {\"value\": 4445, \"frequency\": 2}, \"4447\": {\"value\": 4447, \"frequency\": 2}, \"4450\": {\"value\": 4450, \"frequency\": 2}, \"4452\": {\"value\": 4452, \"frequency\": 2}, \"4455\": {\"value\": 4455, \"frequency\": 2}, \"4456\": {\"value\": 4456, \"frequency\": 1}, \"4461\": {\"value\": 4461, \"frequency\": 1}, \"4468\": {\"value\": 4468, \"frequency\": 2}, \"4473\": {\"value\": 4473, \"frequency\": 4}, \"4476\": {\"value\": 4476, \"frequency\": 1}, \"4480\": {\"value\": 4480, \"frequency\": 9}, \"4482\": {\"value\": 4482, \"frequency\": 2}, \"20868\": {\"value\": 20868, \"frequency\": 1}, \"4485\": {\"value\": 4485, \"frequency\": 1}, \"4486\": {\"value\": 4486, \"frequency\": 1}, \"4488\": {\"value\": 4488, \"frequency\": 3}, \"20873\": {\"value\": 20873, \"frequency\": 1}, \"37258\": {\"value\": 37258, \"frequency\": 1}, \"4494\": {\"value\": 4494, \"frequency\": 1}, \"4495\": {\"value\": 4495, \"frequency\": 4}, \"4496\": {\"value\": 4496, \"frequency\": 2}, \"19864\": {\"value\": 19864, \"frequency\": 1}, \"4499\": {\"value\": 4499, \"frequency\": 4}, \"4500\": {\"value\": 4500, \"frequency\": 114}, \"4501\": {\"value\": 4501, \"frequency\": 2}, \"4502\": {\"value\": 4502, \"frequency\": 4}, \"4504\": {\"value\": 4504, \"frequency\": 1}, \"4505\": {\"value\": 4505, \"frequency\": 3}, \"37277\": {\"value\": 37277, \"frequency\": 1}, \"20894\": {\"value\": 20894, \"frequency\": 1}, \"4512\": {\"value\": 4512, \"frequency\": 2}, \"4513\": {\"value\": 4513, \"frequency\": 1}, \"4515\": {\"value\": 4515, \"frequency\": 2}, \"4520\": {\"value\": 4520, \"frequency\": 3}, \"4524\": {\"value\": 4524, \"frequency\": 4}, \"4532\": {\"value\": 4532, \"frequency\": 1}, \"4533\": {\"value\": 4533, \"frequency\": 3}, \"4534\": {\"value\": 4534, \"frequency\": 6}, \"4536\": {\"value\": 4536, \"frequency\": 1}, \"4539\": {\"value\": 4539, \"frequency\": 3}, \"4541\": {\"value\": 4541, \"frequency\": 2}, \"4543\": {\"value\": 4543, \"frequency\": 1}, \"4544\": {\"value\": 4544, \"frequency\": 1}, \"4545\": {\"value\": 4545, \"frequency\": 1}, \"4548\": {\"value\": 4548, \"frequency\": 2}, \"4549\": {\"value\": 4549, \"frequency\": 2}, \"4550\": {\"value\": 4550, \"frequency\": 3}, \"4551\": {\"value\": 4551, \"frequency\": 2}, \"4553\": {\"value\": 4553, \"frequency\": 2}, \"4555\": {\"value\": 4555, \"frequency\": 2}, \"4556\": {\"value\": 4556, \"frequency\": 1}, \"37325\": {\"value\": 37325, \"frequency\": 1}, \"4558\": {\"value\": 4558, \"frequency\": 5}, \"4560\": {\"value\": 4560, \"frequency\": 15}, \"4561\": {\"value\": 4561, \"frequency\": 1}, \"20946\": {\"value\": 20946, \"frequency\": 1}, \"4564\": {\"value\": 4564, \"frequency\": 2}, \"4565\": {\"value\": 4565, \"frequency\": 1}, \"4569\": {\"value\": 4569, \"frequency\": 1}, \"4572\": {\"value\": 4572, \"frequency\": 1}, \"4580\": {\"value\": 4580, \"frequency\": 1}, \"4583\": {\"value\": 4583, \"frequency\": 1}, \"4584\": {\"value\": 4584, \"frequency\": 2}, \"4587\": {\"value\": 4587, \"frequency\": 2}, \"4590\": {\"value\": 4590, \"frequency\": 17}, \"4591\": {\"value\": 4591, \"frequency\": 1}, \"4592\": {\"value\": 4592, \"frequency\": 4}, \"11688\": {\"value\": 11688, \"frequency\": 1}, \"20978\": {\"value\": 20978, \"frequency\": 1}, \"70131\": {\"value\": 70131, \"frequency\": 2}, \"4597\": {\"value\": 4597, \"frequency\": 1}, \"4600\": {\"value\": 4600, \"frequency\": 34}, \"4601\": {\"value\": 4601, \"frequency\": 1}, \"4602\": {\"value\": 4602, \"frequency\": 3}, \"8959\": {\"value\": 8959, \"frequency\": 1}, \"37373\": {\"value\": 37373, \"frequency\": 1}, \"4606\": {\"value\": 4606, \"frequency\": 2}, \"4608\": {\"value\": 4608, \"frequency\": 1}, \"4611\": {\"value\": 4611, \"frequency\": 2}, \"4614\": {\"value\": 4614, \"frequency\": 1}, \"21000\": {\"value\": 21000, \"frequency\": 6}, \"4620\": {\"value\": 4620, \"frequency\": 2}, \"4621\": {\"value\": 4621, \"frequency\": 1}, \"4623\": {\"value\": 4623, \"frequency\": 1}, \"4625\": {\"value\": 4625, \"frequency\": 2}, \"4627\": {\"value\": 4627, \"frequency\": 2}, \"4630\": {\"value\": 4630, \"frequency\": 1}, \"4632\": {\"value\": 4632, \"frequency\": 1}, \"4635\": {\"value\": 4635, \"frequency\": 10}, \"4636\": {\"value\": 4636, \"frequency\": 3}, \"6141\": {\"value\": 6141, \"frequency\": 2}, \"4640\": {\"value\": 4640, \"frequency\": 5}, \"55387\": {\"value\": 55387, \"frequency\": 1}, \"4648\": {\"value\": 4648, \"frequency\": 2}, \"4649\": {\"value\": 4649, \"frequency\": 1}, \"4650\": {\"value\": 4650, \"frequency\": 10}, \"4652\": {\"value\": 4652, \"frequency\": 2}, \"4653\": {\"value\": 4653, \"frequency\": 1}, \"21043\": {\"value\": 21043, \"frequency\": 2}, \"4662\": {\"value\": 4662, \"frequency\": 1}, \"37431\": {\"value\": 37431, \"frequency\": 1}, \"21050\": {\"value\": 21050, \"frequency\": 1}, \"4667\": {\"value\": 4667, \"frequency\": 4}, \"4668\": {\"value\": 4668, \"frequency\": 2}, \"4670\": {\"value\": 4670, \"frequency\": 2}, \"4673\": {\"value\": 4673, \"frequency\": 1}, \"13249\": {\"value\": 13249, \"frequency\": 1}, \"4675\": {\"value\": 4675, \"frequency\": 4}, \"4676\": {\"value\": 4676, \"frequency\": 1}, \"4680\": {\"value\": 4680, \"frequency\": 5}, \"4683\": {\"value\": 4683, \"frequency\": 2}, \"4684\": {\"value\": 4684, \"frequency\": 2}, \"4687\": {\"value\": 4687, \"frequency\": 1}, \"4688\": {\"value\": 4688, \"frequency\": 2}, \"21074\": {\"value\": 21074, \"frequency\": 1}, \"4692\": {\"value\": 4692, \"frequency\": 2}, \"37461\": {\"value\": 37461, \"frequency\": 1}, \"4694\": {\"value\": 4694, \"frequency\": 3}, \"4697\": {\"value\": 4697, \"frequency\": 2}, \"4698\": {\"value\": 4698, \"frequency\": 3}, \"4700\": {\"value\": 4700, \"frequency\": 13}, \"4704\": {\"value\": 4704, \"frequency\": 2}, \"19899\": {\"value\": 19899, \"frequency\": 1}, \"4708\": {\"value\": 4708, \"frequency\": 2}, \"4712\": {\"value\": 4712, \"frequency\": 1}, \"4713\": {\"value\": 4713, \"frequency\": 1}, \"86636\": {\"value\": 86636, \"frequency\": 1}, \"39639\": {\"value\": 39639, \"frequency\": 3}, \"3517\": {\"value\": 3517, \"frequency\": 2}, \"4720\": {\"value\": 4720, \"frequency\": 6}, \"4721\": {\"value\": 4721, \"frequency\": 1}, \"4724\": {\"value\": 4724, \"frequency\": 1}, \"4725\": {\"value\": 4725, \"frequency\": 10}, \"4727\": {\"value\": 4727, \"frequency\": 1}, \"4729\": {\"value\": 4729, \"frequency\": 2}, \"4730\": {\"value\": 4730, \"frequency\": 3}, \"37500\": {\"value\": 37500, \"frequency\": 1}, \"4736\": {\"value\": 4736, \"frequency\": 3}, \"4740\": {\"value\": 4740, \"frequency\": 2}, \"4743\": {\"value\": 4743, \"frequency\": 2}, \"4745\": {\"value\": 4745, \"frequency\": 2}, \"4746\": {\"value\": 4746, \"frequency\": 1}, \"4750\": {\"value\": 4750, \"frequency\": 27}, \"4751\": {\"value\": 4751, \"frequency\": 3}, \"21138\": {\"value\": 21138, \"frequency\": 1}, \"4755\": {\"value\": 4755, \"frequency\": 3}, \"4759\": {\"value\": 4759, \"frequency\": 1}, \"4760\": {\"value\": 4760, \"frequency\": 10}, \"4762\": {\"value\": 4762, \"frequency\": 1}, \"4764\": {\"value\": 4764, \"frequency\": 1}, \"37533\": {\"value\": 37533, \"frequency\": 1}, \"4770\": {\"value\": 4770, \"frequency\": 4}, \"4774\": {\"value\": 4774, \"frequency\": 3}, \"4776\": {\"value\": 4776, \"frequency\": 1}, \"4777\": {\"value\": 4777, \"frequency\": 4}, \"4780\": {\"value\": 4780, \"frequency\": 4}, \"4781\": {\"value\": 4781, \"frequency\": 2}, \"3978\": {\"value\": 3978, \"frequency\": 2}, \"4788\": {\"value\": 4788, \"frequency\": 3}, \"4789\": {\"value\": 4789, \"frequency\": 1}, \"4797\": {\"value\": 4797, \"frequency\": 2}, \"21183\": {\"value\": 21183, \"frequency\": 2}, \"4800\": {\"value\": 4800, \"frequency\": 120}, \"4802\": {\"value\": 4802, \"frequency\": 2}, \"4804\": {\"value\": 4804, \"frequency\": 1}, \"4805\": {\"value\": 4805, \"frequency\": 2}, \"21190\": {\"value\": 21190, \"frequency\": 1}, \"217800\": {\"value\": 217800, \"frequency\": 15}, \"4812\": {\"value\": 4812, \"frequency\": 1}, \"4815\": {\"value\": 4815, \"frequency\": 5}, \"4818\": {\"value\": 4818, \"frequency\": 2}, \"4822\": {\"value\": 4822, \"frequency\": 1}, \"4823\": {\"value\": 4823, \"frequency\": 1}, \"21208\": {\"value\": 21208, \"frequency\": 1}, \"4828\": {\"value\": 4828, \"frequency\": 2}, \"4830\": {\"value\": 4830, \"frequency\": 1}, \"4831\": {\"value\": 4831, \"frequency\": 2}, \"4833\": {\"value\": 4833, \"frequency\": 1}, \"4836\": {\"value\": 4836, \"frequency\": 2}, \"4838\": {\"value\": 4838, \"frequency\": 6}, \"37607\": {\"value\": 37607, \"frequency\": 1}, \"4840\": {\"value\": 4840, \"frequency\": 10}, \"4841\": {\"value\": 4841, \"frequency\": 2}, \"4842\": {\"value\": 4842, \"frequency\": 1}, \"4845\": {\"value\": 4845, \"frequency\": 1}, \"37616\": {\"value\": 37616, \"frequency\": 1}, \"4850\": {\"value\": 4850, \"frequency\": 7}, \"21235\": {\"value\": 21235, \"frequency\": 1}, \"4855\": {\"value\": 4855, \"frequency\": 1}, \"4857\": {\"value\": 4857, \"frequency\": 2}, \"4859\": {\"value\": 4859, \"frequency\": 2}, \"4860\": {\"value\": 4860, \"frequency\": 2}, \"54014\": {\"value\": 54014, \"frequency\": 5}, \"4864\": {\"value\": 4864, \"frequency\": 1}, \"4865\": {\"value\": 4865, \"frequency\": 1}, \"4866\": {\"value\": 4866, \"frequency\": 2}, \"4871\": {\"value\": 4871, \"frequency\": 2}, \"37642\": {\"value\": 37642, \"frequency\": 1}, \"4875\": {\"value\": 4875, \"frequency\": 10}, \"4876\": {\"value\": 4876, \"frequency\": 2}, \"21262\": {\"value\": 21262, \"frequency\": 1}, \"4879\": {\"value\": 4879, \"frequency\": 1}, \"4880\": {\"value\": 4880, \"frequency\": 5}, \"4882\": {\"value\": 4882, \"frequency\": 1}, \"4886\": {\"value\": 4886, \"frequency\": 1}, \"4887\": {\"value\": 4887, \"frequency\": 2}, \"4888\": {\"value\": 4888, \"frequency\": 2}, \"4895\": {\"value\": 4895, \"frequency\": 2}, \"54048\": {\"value\": 54048, \"frequency\": 1}, \"4900\": {\"value\": 4900, \"frequency\": 8}, \"4903\": {\"value\": 4903, \"frequency\": 2}, \"4904\": {\"value\": 4904, \"frequency\": 2}, \"4905\": {\"value\": 4905, \"frequency\": 3}, \"185130\": {\"value\": 185130, \"frequency\": 2}, \"4910\": {\"value\": 4910, \"frequency\": 1}, \"4912\": {\"value\": 4912, \"frequency\": 2}, \"4913\": {\"value\": 4913, \"frequency\": 2}, \"21300\": {\"value\": 21300, \"frequency\": 1}, \"21303\": {\"value\": 21303, \"frequency\": 3}, \"4920\": {\"value\": 4920, \"frequency\": 12}, \"4922\": {\"value\": 4922, \"frequency\": 1}, \"4923\": {\"value\": 4923, \"frequency\": 2}, \"4924\": {\"value\": 4924, \"frequency\": 3}, \"21312\": {\"value\": 21312, \"frequency\": 1}, \"4930\": {\"value\": 4930, \"frequency\": 3}, \"4932\": {\"value\": 4932, \"frequency\": 1}, \"103237\": {\"value\": 103237, \"frequency\": 2}, \"4936\": {\"value\": 4936, \"frequency\": 1}, \"4940\": {\"value\": 4940, \"frequency\": 1}, \"4941\": {\"value\": 4941, \"frequency\": 1}, \"4942\": {\"value\": 4942, \"frequency\": 1}, \"4944\": {\"value\": 4944, \"frequency\": 3}, \"4945\": {\"value\": 4945, \"frequency\": 5}, \"4947\": {\"value\": 4947, \"frequency\": 3}, \"4948\": {\"value\": 4948, \"frequency\": 2}, \"4949\": {\"value\": 4949, \"frequency\": 2}, \"4950\": {\"value\": 4950, \"frequency\": 15}, \"21336\": {\"value\": 21336, \"frequency\": 1}, \"4954\": {\"value\": 4954, \"frequency\": 1}, \"4957\": {\"value\": 4957, \"frequency\": 1}, \"4958\": {\"value\": 4958, \"frequency\": 1}, \"4959\": {\"value\": 4959, \"frequency\": 2}, \"4960\": {\"value\": 4960, \"frequency\": 8}, \"4961\": {\"value\": 4961, \"frequency\": 3}, \"4964\": {\"value\": 4964, \"frequency\": 2}, \"4972\": {\"value\": 4972, \"frequency\": 2}, \"21357\": {\"value\": 21357, \"frequency\": 1}, \"4975\": {\"value\": 4975, \"frequency\": 2}, \"4976\": {\"value\": 4976, \"frequency\": 2}, \"4977\": {\"value\": 4977, \"frequency\": 1}, \"4978\": {\"value\": 4978, \"frequency\": 3}, \"4979\": {\"value\": 4979, \"frequency\": 1}, \"4980\": {\"value\": 4980, \"frequency\": 6}, \"4984\": {\"value\": 4984, \"frequency\": 2}, \"4988\": {\"value\": 4988, \"frequency\": 1}, \"4990\": {\"value\": 4990, \"frequency\": 2}, \"4992\": {\"value\": 4992, \"frequency\": 2}, \"4995\": {\"value\": 4995, \"frequency\": 2}, \"4997\": {\"value\": 4997, \"frequency\": 3}, \"4998\": {\"value\": 4998, \"frequency\": 1}, \"5000\": {\"value\": 5000, \"frequency\": 358}, \"37769\": {\"value\": 37769, \"frequency\": 1}, \"5002\": {\"value\": 5002, \"frequency\": 6}, \"5004\": {\"value\": 5004, \"frequency\": 2}, \"5005\": {\"value\": 5005, \"frequency\": 3}, \"5008\": {\"value\": 5008, \"frequency\": 3}, \"5009\": {\"value\": 5009, \"frequency\": 2}, \"5010\": {\"value\": 5010, \"frequency\": 2}, \"5011\": {\"value\": 5011, \"frequency\": 1}, \"5012\": {\"value\": 5012, \"frequency\": 3}, \"5013\": {\"value\": 5013, \"frequency\": 3}, \"5014\": {\"value\": 5014, \"frequency\": 1}, \"21399\": {\"value\": 21399, \"frequency\": 1}, \"21400\": {\"value\": 21400, \"frequency\": 1}, \"5017\": {\"value\": 5017, \"frequency\": 1}, \"5022\": {\"value\": 5022, \"frequency\": 1}, \"5024\": {\"value\": 5024, \"frequency\": 3}, \"5025\": {\"value\": 5025, \"frequency\": 5}, \"5026\": {\"value\": 5026, \"frequency\": 4}, \"5027\": {\"value\": 5027, \"frequency\": 4}, \"5028\": {\"value\": 5028, \"frequency\": 1}, \"5029\": {\"value\": 5029, \"frequency\": 4}, \"5030\": {\"value\": 5030, \"frequency\": 3}, \"70567\": {\"value\": 70567, \"frequency\": 3}, \"37800\": {\"value\": 37800, \"frequency\": 2}, \"37801\": {\"value\": 37801, \"frequency\": 1}, \"5034\": {\"value\": 5034, \"frequency\": 2}, \"5036\": {\"value\": 5036, \"frequency\": 1}, \"5038\": {\"value\": 5038, \"frequency\": 3}, \"5040\": {\"value\": 5040, \"frequency\": 29}, \"9032\": {\"value\": 9032, \"frequency\": 1}, \"5043\": {\"value\": 5043, \"frequency\": 5}, \"5044\": {\"value\": 5044, \"frequency\": 1}, \"5048\": {\"value\": 5048, \"frequency\": 2}, \"5050\": {\"value\": 5050, \"frequency\": 9}, \"5053\": {\"value\": 5053, \"frequency\": 1}, \"5054\": {\"value\": 5054, \"frequency\": 3}, \"5055\": {\"value\": 5055, \"frequency\": 1}, \"5058\": {\"value\": 5058, \"frequency\": 1}, \"5060\": {\"value\": 5060, \"frequency\": 9}, \"5064\": {\"value\": 5064, \"frequency\": 1}, \"5065\": {\"value\": 5065, \"frequency\": 2}, \"5067\": {\"value\": 5067, \"frequency\": 1}, \"5070\": {\"value\": 5070, \"frequency\": 5}, \"5071\": {\"value\": 5071, \"frequency\": 3}, \"5072\": {\"value\": 5072, \"frequency\": 1}, \"37843\": {\"value\": 37843, \"frequency\": 1}, \"5077\": {\"value\": 5077, \"frequency\": 3}, \"103382\": {\"value\": 103382, \"frequency\": 1}, \"5080\": {\"value\": 5080, \"frequency\": 17}, \"5085\": {\"value\": 5085, \"frequency\": 3}, \"5086\": {\"value\": 5086, \"frequency\": 2}, \"5087\": {\"value\": 5087, \"frequency\": 1}, \"5088\": {\"value\": 5088, \"frequency\": 2}, \"5089\": {\"value\": 5089, \"frequency\": 2}, \"5091\": {\"value\": 5091, \"frequency\": 2}, \"5093\": {\"value\": 5093, \"frequency\": 1}, \"5096\": {\"value\": 5096, \"frequency\": 3}, \"5097\": {\"value\": 5097, \"frequency\": 2}, \"5100\": {\"value\": 5100, \"frequency\": 78}, \"21485\": {\"value\": 21485, \"frequency\": 1}, \"5102\": {\"value\": 5102, \"frequency\": 5}, \"5105\": {\"value\": 5105, \"frequency\": 3}, \"5106\": {\"value\": 5106, \"frequency\": 2}, \"5107\": {\"value\": 5107, \"frequency\": 2}, \"5108\": {\"value\": 5108, \"frequency\": 2}, \"5109\": {\"value\": 5109, \"frequency\": 1}, \"5110\": {\"value\": 5110, \"frequency\": 4}, \"5111\": {\"value\": 5111, \"frequency\": 5}, \"5112\": {\"value\": 5112, \"frequency\": 2}, \"5115\": {\"value\": 5115, \"frequency\": 2}, \"5116\": {\"value\": 5116, \"frequency\": 1}, \"5120\": {\"value\": 5120, \"frequency\": 27}, \"5122\": {\"value\": 5122, \"frequency\": 1}, \"5125\": {\"value\": 5125, \"frequency\": 4}, \"5128\": {\"value\": 5128, \"frequency\": 2}, \"21514\": {\"value\": 21514, \"frequency\": 1}, \"5131\": {\"value\": 5131, \"frequency\": 2}, \"37904\": {\"value\": 37904, \"frequency\": 1}, \"5137\": {\"value\": 5137, \"frequency\": 2}, \"250905\": {\"value\": 250905, \"frequency\": 1}, \"5146\": {\"value\": 5146, \"frequency\": 4}, \"5149\": {\"value\": 5149, \"frequency\": 1}, \"5150\": {\"value\": 5150, \"frequency\": 18}, \"5156\": {\"value\": 5156, \"frequency\": 3}, \"44550\": {\"value\": 44550, \"frequency\": 1}, \"5159\": {\"value\": 5159, \"frequency\": 1}, \"5160\": {\"value\": 5160, \"frequency\": 9}, \"5163\": {\"value\": 5163, \"frequency\": 1}, \"5167\": {\"value\": 5167, \"frequency\": 1}, \"5170\": {\"value\": 5170, \"frequency\": 2}, \"5171\": {\"value\": 5171, \"frequency\": 2}, \"5175\": {\"value\": 5175, \"frequency\": 8}, \"21562\": {\"value\": 21562, \"frequency\": 2}, \"5185\": {\"value\": 5185, \"frequency\": 4}, \"5192\": {\"value\": 5192, \"frequency\": 2}, \"5194\": {\"value\": 5194, \"frequency\": 1}, \"87117\": {\"value\": 87117, \"frequency\": 1}, \"5200\": {\"value\": 5200, \"frequency\": 64}, \"5202\": {\"value\": 5202, \"frequency\": 4}, \"5203\": {\"value\": 5203, \"frequency\": 2}, \"5207\": {\"value\": 5207, \"frequency\": 1}, \"5210\": {\"value\": 5210, \"frequency\": 2}, \"5211\": {\"value\": 5211, \"frequency\": 1}, \"5212\": {\"value\": 5212, \"frequency\": 1}, \"37981\": {\"value\": 37981, \"frequency\": 1}, \"5214\": {\"value\": 5214, \"frequency\": 1}, \"21600\": {\"value\": 21600, \"frequency\": 2}, \"5217\": {\"value\": 5217, \"frequency\": 3}, \"5220\": {\"value\": 5220, \"frequency\": 4}, \"5222\": {\"value\": 5222, \"frequency\": 2}, \"5223\": {\"value\": 5223, \"frequency\": 1}, \"5225\": {\"value\": 5225, \"frequency\": 6}, \"5226\": {\"value\": 5226, \"frequency\": 1}, \"54380\": {\"value\": 54380, \"frequency\": 1}, \"5232\": {\"value\": 5232, \"frequency\": 1}, \"5233\": {\"value\": 5233, \"frequency\": 1}, \"5236\": {\"value\": 5236, \"frequency\": 3}, \"5238\": {\"value\": 5238, \"frequency\": 3}, \"5240\": {\"value\": 5240, \"frequency\": 8}, \"38009\": {\"value\": 38009, \"frequency\": 1}, \"218235\": {\"value\": 218235, \"frequency\": 2}, \"5244\": {\"value\": 5244, \"frequency\": 2}, \"21630\": {\"value\": 21630, \"frequency\": 1}, \"5247\": {\"value\": 5247, \"frequency\": 1}, \"38016\": {\"value\": 38016, \"frequency\": 1}, \"5249\": {\"value\": 5249, \"frequency\": 3}, \"5250\": {\"value\": 5250, \"frequency\": 32}, \"5252\": {\"value\": 5252, \"frequency\": 1}, \"5257\": {\"value\": 5257, \"frequency\": 3}, \"5258\": {\"value\": 5258, \"frequency\": 2}, \"5259\": {\"value\": 5259, \"frequency\": 1}, \"5260\": {\"value\": 5260, \"frequency\": 4}, \"5262\": {\"value\": 5262, \"frequency\": 1}, \"5264\": {\"value\": 5264, \"frequency\": 2}, \"5265\": {\"value\": 5265, \"frequency\": 4}, \"21650\": {\"value\": 21650, \"frequency\": 1}, \"5267\": {\"value\": 5267, \"frequency\": 4}, \"38038\": {\"value\": 38038, \"frequency\": 1}, \"28185\": {\"value\": 28185, \"frequency\": 2}, \"5280\": {\"value\": 5280, \"frequency\": 15}, \"5283\": {\"value\": 5283, \"frequency\": 2}, \"349351\": {\"value\": 349351, \"frequency\": 1}, \"5289\": {\"value\": 5289, \"frequency\": 2}, \"87213\": {\"value\": 87213, \"frequency\": 1}, \"5298\": {\"value\": 5298, \"frequency\": 3}, \"5300\": {\"value\": 5300, \"frequency\": 11}, \"3614\": {\"value\": 3614, \"frequency\": 1}, \"5304\": {\"value\": 5304, \"frequency\": 3}, \"5306\": {\"value\": 5306, \"frequency\": 2}, \"5307\": {\"value\": 5307, \"frequency\": 1}, \"5310\": {\"value\": 5310, \"frequency\": 3}, \"20000\": {\"value\": 20000, \"frequency\": 12}, \"5316\": {\"value\": 5316, \"frequency\": 1}, \"1268\": {\"value\": 1268, \"frequency\": 2}, \"52769\": {\"value\": 52769, \"frequency\": 1}, \"5321\": {\"value\": 5321, \"frequency\": 2}, \"5322\": {\"value\": 5322, \"frequency\": 1}, \"5326\": {\"value\": 5326, \"frequency\": 1}, \"21712\": {\"value\": 21712, \"frequency\": 1}, \"5330\": {\"value\": 5330, \"frequency\": 1}, \"5332\": {\"value\": 5332, \"frequency\": 1}, \"5335\": {\"value\": 5335, \"frequency\": 2}, \"5337\": {\"value\": 5337, \"frequency\": 1}, \"5338\": {\"value\": 5338, \"frequency\": 3}, \"5339\": {\"value\": 5339, \"frequency\": 2}, \"5340\": {\"value\": 5340, \"frequency\": 3}, \"5341\": {\"value\": 5341, \"frequency\": 1}, \"5344\": {\"value\": 5344, \"frequency\": 2}, \"5346\": {\"value\": 5346, \"frequency\": 1}, \"5349\": {\"value\": 5349, \"frequency\": 2}, \"5350\": {\"value\": 5350, \"frequency\": 10}, \"5353\": {\"value\": 5353, \"frequency\": 3}, \"5354\": {\"value\": 5354, \"frequency\": 2}, \"5355\": {\"value\": 5355, \"frequency\": 3}, \"5356\": {\"value\": 5356, \"frequency\": 1}, \"38125\": {\"value\": 38125, \"frequency\": 1}, \"5360\": {\"value\": 5360, \"frequency\": 2}, \"5362\": {\"value\": 5362, \"frequency\": 1}, \"25470\": {\"value\": 25470, \"frequency\": 1}, \"5366\": {\"value\": 5366, \"frequency\": 1}, \"8362\": {\"value\": 8362, \"frequency\": 2}, \"103672\": {\"value\": 103672, \"frequency\": 3}, \"5371\": {\"value\": 5371, \"frequency\": 1}, \"5372\": {\"value\": 5372, \"frequency\": 1}, \"3626\": {\"value\": 3626, \"frequency\": 1}, \"5374\": {\"value\": 5374, \"frequency\": 1}, \"5375\": {\"value\": 5375, \"frequency\": 7}, \"5376\": {\"value\": 5376, \"frequency\": 3}, \"5377\": {\"value\": 5377, \"frequency\": 1}, \"5378\": {\"value\": 5378, \"frequency\": 1}, \"5379\": {\"value\": 5379, \"frequency\": 3}, \"5382\": {\"value\": 5382, \"frequency\": 1}, \"5386\": {\"value\": 5386, \"frequency\": 1}, \"5390\": {\"value\": 5390, \"frequency\": 3}, \"5393\": {\"value\": 5393, \"frequency\": 3}, \"5395\": {\"value\": 5395, \"frequency\": 4}, \"21780\": {\"value\": 21780, \"frequency\": 9}, \"21781\": {\"value\": 21781, \"frequency\": 3}, \"5398\": {\"value\": 5398, \"frequency\": 3}, \"5400\": {\"value\": 5400, \"frequency\": 54}, \"5401\": {\"value\": 5401, \"frequency\": 3}, \"5402\": {\"value\": 5402, \"frequency\": 3}, \"54557\": {\"value\": 54557, \"frequency\": 1}, \"5408\": {\"value\": 5408, \"frequency\": 2}, \"3632\": {\"value\": 3632, \"frequency\": 1}, \"21794\": {\"value\": 21794, \"frequency\": 1}, \"5411\": {\"value\": 5411, \"frequency\": 1}, \"234788\": {\"value\": 234788, \"frequency\": 1}, \"5413\": {\"value\": 5413, \"frequency\": 9}, \"5414\": {\"value\": 5414, \"frequency\": 2}, \"5416\": {\"value\": 5416, \"frequency\": 2}, \"5418\": {\"value\": 5418, \"frequency\": 1}, \"5419\": {\"value\": 5419, \"frequency\": 1}, \"5420\": {\"value\": 5420, \"frequency\": 2}, \"5421\": {\"value\": 5421, \"frequency\": 2}, \"21806\": {\"value\": 21806, \"frequency\": 1}, \"5423\": {\"value\": 5423, \"frequency\": 2}, \"5424\": {\"value\": 5424, \"frequency\": 1}, \"21810\": {\"value\": 21810, \"frequency\": 1}, \"5427\": {\"value\": 5427, \"frequency\": 1}, \"5428\": {\"value\": 5428, \"frequency\": 2}, \"5432\": {\"value\": 5432, \"frequency\": 2}, \"5434\": {\"value\": 5434, \"frequency\": 2}, \"5438\": {\"value\": 5438, \"frequency\": 1}, \"5439\": {\"value\": 5439, \"frequency\": 1}, \"5440\": {\"value\": 5440, \"frequency\": 5}, \"5444\": {\"value\": 5444, \"frequency\": 2}, \"5445\": {\"value\": 5445, \"frequency\": 3}, \"5449\": {\"value\": 5449, \"frequency\": 2}, \"21834\": {\"value\": 21834, \"frequency\": 1}, \"5451\": {\"value\": 5451, \"frequency\": 1}, \"5453\": {\"value\": 5453, \"frequency\": 3}, \"5454\": {\"value\": 5454, \"frequency\": 1}, \"5455\": {\"value\": 5455, \"frequency\": 2}, \"5457\": {\"value\": 5457, \"frequency\": 2}, \"5458\": {\"value\": 5458, \"frequency\": 1}, \"5460\": {\"value\": 5460, \"frequency\": 6}, \"71002\": {\"value\": 71002, \"frequency\": 1}, \"5467\": {\"value\": 5467, \"frequency\": 1}, \"17640\": {\"value\": 17640, \"frequency\": 1}, \"5472\": {\"value\": 5472, \"frequency\": 3}, \"5479\": {\"value\": 5479, \"frequency\": 1}, \"218472\": {\"value\": 218472, \"frequency\": 1}, \"5484\": {\"value\": 5484, \"frequency\": 1}, \"5488\": {\"value\": 5488, \"frequency\": 3}, \"5489\": {\"value\": 5489, \"frequency\": 1}, \"38258\": {\"value\": 38258, \"frequency\": 1}, \"5493\": {\"value\": 5493, \"frequency\": 1}, \"5496\": {\"value\": 5496, \"frequency\": 1}, \"21883\": {\"value\": 21883, \"frequency\": 2}, \"5500\": {\"value\": 5500, \"frequency\": 73}, \"5502\": {\"value\": 5502, \"frequency\": 2}, \"5504\": {\"value\": 5504, \"frequency\": 1}, \"5505\": {\"value\": 5505, \"frequency\": 2}, \"21890\": {\"value\": 21890, \"frequency\": 1}, \"5508\": {\"value\": 5508, \"frequency\": 4}, \"5510\": {\"value\": 5510, \"frequency\": 4}, \"5511\": {\"value\": 5511, \"frequency\": 4}, \"5512\": {\"value\": 5512, \"frequency\": 3}, \"5520\": {\"value\": 5520, \"frequency\": 7}, \"5522\": {\"value\": 5522, \"frequency\": 1}, \"5523\": {\"value\": 5523, \"frequency\": 1}, \"5525\": {\"value\": 5525, \"frequency\": 7}, \"5526\": {\"value\": 5526, \"frequency\": 1}, \"5527\": {\"value\": 5527, \"frequency\": 3}, \"5534\": {\"value\": 5534, \"frequency\": 2}, \"5535\": {\"value\": 5535, \"frequency\": 1}, \"5539\": {\"value\": 5539, \"frequency\": 4}, \"5540\": {\"value\": 5540, \"frequency\": 1}, \"5544\": {\"value\": 5544, \"frequency\": 3}, \"21929\": {\"value\": 21929, \"frequency\": 1}, \"5546\": {\"value\": 5546, \"frequency\": 3}, \"5550\": {\"value\": 5550, \"frequency\": 2}, \"21937\": {\"value\": 21937, \"frequency\": 1}, \"14915\": {\"value\": 14915, \"frequency\": 1}, \"5555\": {\"value\": 5555, \"frequency\": 2}, \"20041\": {\"value\": 20041, \"frequency\": 1}, \"5560\": {\"value\": 5560, \"frequency\": 1}, \"5562\": {\"value\": 5562, \"frequency\": 3}, \"38332\": {\"value\": 38332, \"frequency\": 1}, \"5568\": {\"value\": 5568, \"frequency\": 2}, \"5569\": {\"value\": 5569, \"frequency\": 1}, \"5570\": {\"value\": 5570, \"frequency\": 2}, \"5572\": {\"value\": 5572, \"frequency\": 2}, \"87497\": {\"value\": 87497, \"frequency\": 1}, \"5580\": {\"value\": 5580, \"frequency\": 4}, \"5581\": {\"value\": 5581, \"frequency\": 2}, \"38350\": {\"value\": 38350, \"frequency\": 1}, \"5584\": {\"value\": 5584, \"frequency\": 1}, \"5589\": {\"value\": 5589, \"frequency\": 2}, \"5593\": {\"value\": 5593, \"frequency\": 1}, \"5595\": {\"value\": 5595, \"frequency\": 2}, \"21980\": {\"value\": 21980, \"frequency\": 1}, \"5600\": {\"value\": 5600, \"frequency\": 27}, \"5606\": {\"value\": 5606, \"frequency\": 1}, \"5607\": {\"value\": 5607, \"frequency\": 2}, \"5608\": {\"value\": 5608, \"frequency\": 3}, \"5610\": {\"value\": 5610, \"frequency\": 3}, \"5612\": {\"value\": 5612, \"frequency\": 6}, \"39165\": {\"value\": 39165, \"frequency\": 1}, \"22000\": {\"value\": 22000, \"frequency\": 6}, \"5618\": {\"value\": 5618, \"frequency\": 2}, \"5625\": {\"value\": 5625, \"frequency\": 4}, \"5629\": {\"value\": 5629, \"frequency\": 1}, \"5632\": {\"value\": 5632, \"frequency\": 1}, \"5635\": {\"value\": 5635, \"frequency\": 2}, \"8371\": {\"value\": 8371, \"frequency\": 1}, \"5639\": {\"value\": 5639, \"frequency\": 3}, \"5640\": {\"value\": 5640, \"frequency\": 1}, \"9132\": {\"value\": 9132, \"frequency\": 2}, \"5643\": {\"value\": 5643, \"frequency\": 2}, \"38412\": {\"value\": 38412, \"frequency\": 1}, \"5647\": {\"value\": 5647, \"frequency\": 2}, \"5648\": {\"value\": 5648, \"frequency\": 1}, \"5650\": {\"value\": 5650, \"frequency\": 23}, \"942\": {\"value\": 942, \"frequency\": 3}, \"5657\": {\"value\": 5657, \"frequency\": 1}, \"5658\": {\"value\": 5658, \"frequency\": 1}, \"5660\": {\"value\": 5660, \"frequency\": 1}, \"5662\": {\"value\": 5662, \"frequency\": 1}, \"5664\": {\"value\": 5664, \"frequency\": 4}, \"5665\": {\"value\": 5665, \"frequency\": 3}, \"5668\": {\"value\": 5668, \"frequency\": 1}, \"5669\": {\"value\": 5669, \"frequency\": 3}, \"5670\": {\"value\": 5670, \"frequency\": 5}, \"5671\": {\"value\": 5671, \"frequency\": 1}, \"5674\": {\"value\": 5674, \"frequency\": 2}, \"88327\": {\"value\": 88327, \"frequency\": 1}, \"5677\": {\"value\": 5677, \"frequency\": 2}, \"3677\": {\"value\": 3677, \"frequency\": 3}, \"5680\": {\"value\": 5680, \"frequency\": 5}, \"5682\": {\"value\": 5682, \"frequency\": 1}, \"5684\": {\"value\": 5684, \"frequency\": 2}, \"28254\": {\"value\": 28254, \"frequency\": 1}, \"235063\": {\"value\": 235063, \"frequency\": 1}, \"22072\": {\"value\": 22072, \"frequency\": 1}, \"5692\": {\"value\": 5692, \"frequency\": 2}, \"5694\": {\"value\": 5694, \"frequency\": 1}, \"5695\": {\"value\": 5695, \"frequency\": 1}, \"22081\": {\"value\": 22081, \"frequency\": 2}, \"5700\": {\"value\": 5700, \"frequency\": 30}, \"5701\": {\"value\": 5701, \"frequency\": 6}, \"5702\": {\"value\": 5702, \"frequency\": 2}, \"5703\": {\"value\": 5703, \"frequency\": 2}, \"22089\": {\"value\": 22089, \"frequency\": 1}, \"5706\": {\"value\": 5706, \"frequency\": 3}, \"5710\": {\"value\": 5710, \"frequency\": 2}, \"5712\": {\"value\": 5712, \"frequency\": 1}, \"5715\": {\"value\": 5715, \"frequency\": 3}, \"22100\": {\"value\": 22100, \"frequency\": 3}, \"5717\": {\"value\": 5717, \"frequency\": 2}, \"5719\": {\"value\": 5719, \"frequency\": 1}, \"5720\": {\"value\": 5720, \"frequency\": 9}, \"5721\": {\"value\": 5721, \"frequency\": 1}, \"5722\": {\"value\": 5722, \"frequency\": 3}, \"5724\": {\"value\": 5724, \"frequency\": 2}, \"22111\": {\"value\": 22111, \"frequency\": 1}, \"38500\": {\"value\": 38500, \"frequency\": 1}, \"5733\": {\"value\": 5733, \"frequency\": 2}, \"5734\": {\"value\": 5734, \"frequency\": 1}, \"5735\": {\"value\": 5735, \"frequency\": 2}, \"5737\": {\"value\": 5737, \"frequency\": 3}, \"38509\": {\"value\": 38509, \"frequency\": 1}, \"5742\": {\"value\": 5742, \"frequency\": 2}, \"5743\": {\"value\": 5743, \"frequency\": 1}, \"5746\": {\"value\": 5746, \"frequency\": 1}, \"5750\": {\"value\": 5750, \"frequency\": 61}, \"5751\": {\"value\": 5751, \"frequency\": 2}, \"5752\": {\"value\": 5752, \"frequency\": 3}, \"5753\": {\"value\": 5753, \"frequency\": 3}, \"5754\": {\"value\": 5754, \"frequency\": 3}, \"5756\": {\"value\": 5756, \"frequency\": 4}, \"5757\": {\"value\": 5757, \"frequency\": 3}, \"5758\": {\"value\": 5758, \"frequency\": 3}, \"5759\": {\"value\": 5759, \"frequency\": 2}, \"5760\": {\"value\": 5760, \"frequency\": 13}, \"5761\": {\"value\": 5761, \"frequency\": 1}, \"5762\": {\"value\": 5762, \"frequency\": 1}, \"5763\": {\"value\": 5763, \"frequency\": 2}, \"5764\": {\"value\": 5764, \"frequency\": 2}, \"5765\": {\"value\": 5765, \"frequency\": 2}, \"5770\": {\"value\": 5770, \"frequency\": 1}, \"5772\": {\"value\": 5772, \"frequency\": 2}, \"5773\": {\"value\": 5773, \"frequency\": 2}, \"5775\": {\"value\": 5775, \"frequency\": 2}, \"38546\": {\"value\": 38546, \"frequency\": 1}, \"5785\": {\"value\": 5785, \"frequency\": 1}, \"5790\": {\"value\": 5790, \"frequency\": 2}, \"5791\": {\"value\": 5791, \"frequency\": 1}, \"5795\": {\"value\": 5795, \"frequency\": 2}, \"5796\": {\"value\": 5796, \"frequency\": 1}, \"5797\": {\"value\": 5797, \"frequency\": 3}, \"5799\": {\"value\": 5799, \"frequency\": 2}, \"5800\": {\"value\": 5800, \"frequency\": 19}, \"5802\": {\"value\": 5802, \"frequency\": 2}, \"5803\": {\"value\": 5803, \"frequency\": 2}, \"104108\": {\"value\": 104108, \"frequency\": 2}, \"5805\": {\"value\": 5805, \"frequency\": 3}, \"5806\": {\"value\": 5806, \"frequency\": 1}, \"5808\": {\"value\": 5808, \"frequency\": 2}, \"5809\": {\"value\": 5809, \"frequency\": 2}, \"5810\": {\"value\": 5810, \"frequency\": 1}, \"22814\": {\"value\": 22814, \"frequency\": 1}, \"5817\": {\"value\": 5817, \"frequency\": 2}, \"5820\": {\"value\": 5820, \"frequency\": 4}, \"5823\": {\"value\": 5823, \"frequency\": 2}, \"5824\": {\"value\": 5824, \"frequency\": 3}, \"5825\": {\"value\": 5825, \"frequency\": 1}, \"29597\": {\"value\": 29597, \"frequency\": 1}, \"5829\": {\"value\": 5829, \"frequency\": 1}, \"5831\": {\"value\": 5831, \"frequency\": 3}, \"5832\": {\"value\": 5832, \"frequency\": 1}, \"33740\": {\"value\": 33740, \"frequency\": 1}, \"5835\": {\"value\": 5835, \"frequency\": 2}, \"5840\": {\"value\": 5840, \"frequency\": 3}, \"5846\": {\"value\": 5846, \"frequency\": 1}, \"38615\": {\"value\": 38615, \"frequency\": 1}, \"235224\": {\"value\": 235224, \"frequency\": 1}, \"5850\": {\"value\": 5850, \"frequency\": 12}, \"5854\": {\"value\": 5854, \"frequency\": 2}, \"5857\": {\"value\": 5857, \"frequency\": 3}, \"5858\": {\"value\": 5858, \"frequency\": 2}, \"5863\": {\"value\": 5863, \"frequency\": 1}, \"5864\": {\"value\": 5864, \"frequency\": 2}, \"5866\": {\"value\": 5866, \"frequency\": 3}, \"5868\": {\"value\": 5868, \"frequency\": 3}, \"38639\": {\"value\": 38639, \"frequency\": 1}, \"5875\": {\"value\": 5875, \"frequency\": 2}, \"5876\": {\"value\": 5876, \"frequency\": 2}, \"36478\": {\"value\": 36478, \"frequency\": 1}, \"5880\": {\"value\": 5880, \"frequency\": 9}, \"22267\": {\"value\": 22267, \"frequency\": 1}, \"5885\": {\"value\": 5885, \"frequency\": 2}, \"5889\": {\"value\": 5889, \"frequency\": 2}, \"17366\": {\"value\": 17366, \"frequency\": 1}, \"5898\": {\"value\": 5898, \"frequency\": 1}, \"5899\": {\"value\": 5899, \"frequency\": 3}, \"5900\": {\"value\": 5900, \"frequency\": 8}, \"5901\": {\"value\": 5901, \"frequency\": 1}, \"5906\": {\"value\": 5906, \"frequency\": 1}, \"5909\": {\"value\": 5909, \"frequency\": 3}, \"5910\": {\"value\": 5910, \"frequency\": 1}, \"5913\": {\"value\": 5913, \"frequency\": 2}, \"5920\": {\"value\": 5920, \"frequency\": 2}, \"5921\": {\"value\": 5921, \"frequency\": 1}, \"5922\": {\"value\": 5922, \"frequency\": 3}, \"5925\": {\"value\": 5925, \"frequency\": 1}, \"5926\": {\"value\": 5926, \"frequency\": 1}, \"5929\": {\"value\": 5929, \"frequency\": 4}, \"5930\": {\"value\": 5930, \"frequency\": 2}, \"5934\": {\"value\": 5934, \"frequency\": 3}, \"5936\": {\"value\": 5936, \"frequency\": 2}, \"5937\": {\"value\": 5937, \"frequency\": 1}, \"5940\": {\"value\": 5940, \"frequency\": 7}, \"22326\": {\"value\": 22326, \"frequency\": 2}, \"5948\": {\"value\": 5948, \"frequency\": 1}, \"22334\": {\"value\": 22334, \"frequency\": 1}, \"5954\": {\"value\": 5954, \"frequency\": 3}, \"20384\": {\"value\": 20384, \"frequency\": 1}, \"5956\": {\"value\": 5956, \"frequency\": 1}, \"5959\": {\"value\": 5959, \"frequency\": 2}, \"5960\": {\"value\": 5960, \"frequency\": 3}, \"5962\": {\"value\": 5962, \"frequency\": 1}, \"5963\": {\"value\": 5963, \"frequency\": 1}, \"5967\": {\"value\": 5967, \"frequency\": 1}, \"5969\": {\"value\": 5969, \"frequency\": 4}, \"5970\": {\"value\": 5970, \"frequency\": 1}, \"120661\": {\"value\": 120661, \"frequency\": 1}, \"5974\": {\"value\": 5974, \"frequency\": 4}, \"5978\": {\"value\": 5978, \"frequency\": 4}, \"5979\": {\"value\": 5979, \"frequency\": 2}, \"5980\": {\"value\": 5980, \"frequency\": 3}, \"22370\": {\"value\": 22370, \"frequency\": 1}, \"5992\": {\"value\": 5992, \"frequency\": 3}, \"5994\": {\"value\": 5994, \"frequency\": 1}, \"5995\": {\"value\": 5995, \"frequency\": 3}, \"5999\": {\"value\": 5999, \"frequency\": 3}, \"6000\": {\"value\": 6000, \"frequency\": 290}, \"6001\": {\"value\": 6001, \"frequency\": 1}, \"6002\": {\"value\": 6002, \"frequency\": 4}, \"6003\": {\"value\": 6003, \"frequency\": 2}, \"6005\": {\"value\": 6005, \"frequency\": 4}, \"6007\": {\"value\": 6007, \"frequency\": 1}, \"6009\": {\"value\": 6009, \"frequency\": 2}, \"6010\": {\"value\": 6010, \"frequency\": 4}, \"6014\": {\"value\": 6014, \"frequency\": 3}, \"6015\": {\"value\": 6015, \"frequency\": 2}, \"6017\": {\"value\": 6017, \"frequency\": 3}, \"6018\": {\"value\": 6018, \"frequency\": 2}, \"6020\": {\"value\": 6020, \"frequency\": 1}, \"6021\": {\"value\": 6021, \"frequency\": 2}, \"6023\": {\"value\": 6023, \"frequency\": 2}, \"6025\": {\"value\": 6025, \"frequency\": 2}, \"22410\": {\"value\": 22410, \"frequency\": 1}, \"6027\": {\"value\": 6027, \"frequency\": 1}, \"6030\": {\"value\": 6030, \"frequency\": 4}, \"6031\": {\"value\": 6031, \"frequency\": 5}, \"6032\": {\"value\": 6032, \"frequency\": 2}, \"6033\": {\"value\": 6033, \"frequency\": 1}, \"6034\": {\"value\": 6034, \"frequency\": 4}, \"6037\": {\"value\": 6037, \"frequency\": 4}, \"6038\": {\"value\": 6038, \"frequency\": 1}, \"6041\": {\"value\": 6041, \"frequency\": 2}, \"6045\": {\"value\": 6045, \"frequency\": 2}, \"6046\": {\"value\": 6046, \"frequency\": 1}, \"6049\": {\"value\": 6049, \"frequency\": 2}, \"6050\": {\"value\": 6050, \"frequency\": 14}, \"6052\": {\"value\": 6052, \"frequency\": 2}, \"6054\": {\"value\": 6054, \"frequency\": 2}, \"6060\": {\"value\": 6060, \"frequency\": 6}, \"6061\": {\"value\": 6061, \"frequency\": 1}, \"6064\": {\"value\": 6064, \"frequency\": 1}, \"87991\": {\"value\": 87991, \"frequency\": 2}, \"6073\": {\"value\": 6073, \"frequency\": 1}, \"6074\": {\"value\": 6074, \"frequency\": 1}, \"6075\": {\"value\": 6075, \"frequency\": 3}, \"6078\": {\"value\": 6078, \"frequency\": 1}, \"11936\": {\"value\": 11936, \"frequency\": 1}, \"6082\": {\"value\": 6082, \"frequency\": 2}, \"6083\": {\"value\": 6083, \"frequency\": 2}, \"6090\": {\"value\": 6090, \"frequency\": 4}, \"6092\": {\"value\": 6092, \"frequency\": 3}, \"6093\": {\"value\": 6093, \"frequency\": 2}, \"6095\": {\"value\": 6095, \"frequency\": 3}, \"1016\": {\"value\": 1016, \"frequency\": 1}, \"6098\": {\"value\": 6098, \"frequency\": 3}, \"6099\": {\"value\": 6099, \"frequency\": 5}, \"6100\": {\"value\": 6100, \"frequency\": 5}, \"38869\": {\"value\": 38869, \"frequency\": 1}, \"22486\": {\"value\": 22486, \"frequency\": 1}, \"22489\": {\"value\": 22489, \"frequency\": 1}, \"22863\": {\"value\": 22863, \"frequency\": 1}, \"6108\": {\"value\": 6108, \"frequency\": 1}, \"6110\": {\"value\": 6110, \"frequency\": 4}, \"6111\": {\"value\": 6111, \"frequency\": 1}, \"219106\": {\"value\": 219106, \"frequency\": 2}, \"38884\": {\"value\": 38884, \"frequency\": 1}, \"6117\": {\"value\": 6117, \"frequency\": 3}, \"6120\": {\"value\": 6120, \"frequency\": 39}, \"6122\": {\"value\": 6122, \"frequency\": 2}, \"6124\": {\"value\": 6124, \"frequency\": 2}, \"6125\": {\"value\": 6125, \"frequency\": 3}, \"24700\": {\"value\": 24700, \"frequency\": 2}, \"6127\": {\"value\": 6127, \"frequency\": 2}, \"6129\": {\"value\": 6129, \"frequency\": 1}, \"6130\": {\"value\": 6130, \"frequency\": 2}, \"6131\": {\"value\": 6131, \"frequency\": 1}, \"6132\": {\"value\": 6132, \"frequency\": 3}, \"6134\": {\"value\": 6134, \"frequency\": 4}, \"6135\": {\"value\": 6135, \"frequency\": 1}, \"6137\": {\"value\": 6137, \"frequency\": 3}, \"6138\": {\"value\": 6138, \"frequency\": 2}, \"6139\": {\"value\": 6139, \"frequency\": 2}, \"11946\": {\"value\": 11946, \"frequency\": 1}, \"137214\": {\"value\": 137214, \"frequency\": 1}, \"6143\": {\"value\": 6143, \"frequency\": 2}, \"38912\": {\"value\": 38912, \"frequency\": 1}, \"22529\": {\"value\": 22529, \"frequency\": 1}, \"6150\": {\"value\": 6150, \"frequency\": 13}, \"6156\": {\"value\": 6156, \"frequency\": 1}, \"6158\": {\"value\": 6158, \"frequency\": 1}, \"6160\": {\"value\": 6160, \"frequency\": 4}, \"6161\": {\"value\": 6161, \"frequency\": 1}, \"6162\": {\"value\": 6162, \"frequency\": 1}, \"22547\": {\"value\": 22547, \"frequency\": 1}, \"6164\": {\"value\": 6164, \"frequency\": 2}, \"6166\": {\"value\": 6166, \"frequency\": 1}, \"6168\": {\"value\": 6168, \"frequency\": 1}, \"55321\": {\"value\": 55321, \"frequency\": 3}, \"6172\": {\"value\": 6172, \"frequency\": 1}, \"6174\": {\"value\": 6174, \"frequency\": 3}, \"6175\": {\"value\": 6175, \"frequency\": 4}, \"6178\": {\"value\": 6178, \"frequency\": 2}, \"6180\": {\"value\": 6180, \"frequency\": 19}, \"6181\": {\"value\": 6181, \"frequency\": 2}, \"6183\": {\"value\": 6183, \"frequency\": 2}, \"268329\": {\"value\": 268329, \"frequency\": 1}, \"6186\": {\"value\": 6186, \"frequency\": 2}, \"6187\": {\"value\": 6187, \"frequency\": 3}, \"6191\": {\"value\": 6191, \"frequency\": 1}, \"6192\": {\"value\": 6192, \"frequency\": 1}, \"6194\": {\"value\": 6194, \"frequency\": 2}, \"6195\": {\"value\": 6195, \"frequency\": 2}, \"6197\": {\"value\": 6197, \"frequency\": 2}, \"6200\": {\"value\": 6200, \"frequency\": 22}, \"6202\": {\"value\": 6202, \"frequency\": 3}, \"6205\": {\"value\": 6205, \"frequency\": 2}, \"6206\": {\"value\": 6206, \"frequency\": 1}, \"6207\": {\"value\": 6207, \"frequency\": 2}, \"22594\": {\"value\": 22594, \"frequency\": 1}, \"6212\": {\"value\": 6212, \"frequency\": 1}, \"6213\": {\"value\": 6213, \"frequency\": 1}, \"6214\": {\"value\": 6214, \"frequency\": 2}, \"38985\": {\"value\": 38985, \"frequency\": 1}, \"6218\": {\"value\": 6218, \"frequency\": 2}, \"6219\": {\"value\": 6219, \"frequency\": 1}, \"6220\": {\"value\": 6220, \"frequency\": 3}, \"6222\": {\"value\": 6222, \"frequency\": 3}, \"6223\": {\"value\": 6223, \"frequency\": 2}, \"6224\": {\"value\": 6224, \"frequency\": 3}, \"6225\": {\"value\": 6225, \"frequency\": 1}, \"6228\": {\"value\": 6228, \"frequency\": 1}, \"6232\": {\"value\": 6232, \"frequency\": 4}, \"6233\": {\"value\": 6233, \"frequency\": 2}, \"6235\": {\"value\": 6235, \"frequency\": 1}, \"6236\": {\"value\": 6236, \"frequency\": 2}, \"104544\": {\"value\": 104544, \"frequency\": 1}, \"1040\": {\"value\": 1040, \"frequency\": 1}, \"6250\": {\"value\": 6250, \"frequency\": 50}, \"6255\": {\"value\": 6255, \"frequency\": 1}, \"6256\": {\"value\": 6256, \"frequency\": 2}, \"6258\": {\"value\": 6258, \"frequency\": 2}, \"6260\": {\"value\": 6260, \"frequency\": 3}, \"3774\": {\"value\": 3774, \"frequency\": 3}, \"6263\": {\"value\": 6263, \"frequency\": 3}, \"6265\": {\"value\": 6265, \"frequency\": 2}, \"22651\": {\"value\": 22651, \"frequency\": 2}, \"6269\": {\"value\": 6269, \"frequency\": 1}, \"6270\": {\"value\": 6270, \"frequency\": 2}, \"6271\": {\"value\": 6271, \"frequency\": 1}, \"6272\": {\"value\": 6272, \"frequency\": 2}, \"6273\": {\"value\": 6273, \"frequency\": 1}, \"6278\": {\"value\": 6278, \"frequency\": 3}, \"6280\": {\"value\": 6280, \"frequency\": 2}, \"39049\": {\"value\": 39049, \"frequency\": 1}, \"6282\": {\"value\": 6282, \"frequency\": 2}, \"6288\": {\"value\": 6288, \"frequency\": 2}, \"6290\": {\"value\": 6290, \"frequency\": 1}, \"6291\": {\"value\": 6291, \"frequency\": 1}, \"6294\": {\"value\": 6294, \"frequency\": 2}, \"6298\": {\"value\": 6298, \"frequency\": 2}, \"6300\": {\"value\": 6300, \"frequency\": 32}, \"6302\": {\"value\": 6302, \"frequency\": 2}, \"6305\": {\"value\": 6305, \"frequency\": 2}, \"6308\": {\"value\": 6308, \"frequency\": 1}, \"6315\": {\"value\": 6315, \"frequency\": 5}, \"6317\": {\"value\": 6317, \"frequency\": 1}, \"6318\": {\"value\": 6318, \"frequency\": 2}, \"22703\": {\"value\": 22703, \"frequency\": 2}, \"6320\": {\"value\": 6320, \"frequency\": 5}, \"6322\": {\"value\": 6322, \"frequency\": 2}, \"6324\": {\"value\": 6324, \"frequency\": 3}, \"6325\": {\"value\": 6325, \"frequency\": 3}, \"6326\": {\"value\": 6326, \"frequency\": 2}, \"6327\": {\"value\": 6327, \"frequency\": 3}, \"6328\": {\"value\": 6328, \"frequency\": 1}, \"39098\": {\"value\": 39098, \"frequency\": 1}, \"6332\": {\"value\": 6332, \"frequency\": 2}, \"6334\": {\"value\": 6334, \"frequency\": 2}, \"6337\": {\"value\": 6337, \"frequency\": 2}, \"6344\": {\"value\": 6344, \"frequency\": 1}, \"6345\": {\"value\": 6345, \"frequency\": 3}, \"6349\": {\"value\": 6349, \"frequency\": 1}, \"6350\": {\"value\": 6350, \"frequency\": 17}, \"6353\": {\"value\": 6353, \"frequency\": 1}, \"6355\": {\"value\": 6355, \"frequency\": 2}, \"6356\": {\"value\": 6356, \"frequency\": 1}, \"6360\": {\"value\": 6360, \"frequency\": 20}, \"6364\": {\"value\": 6364, \"frequency\": 1}, \"6366\": {\"value\": 6366, \"frequency\": 2}, \"6369\": {\"value\": 6369, \"frequency\": 2}, \"6371\": {\"value\": 6371, \"frequency\": 4}, \"6372\": {\"value\": 6372, \"frequency\": 1}, \"6375\": {\"value\": 6375, \"frequency\": 7}, \"6377\": {\"value\": 6377, \"frequency\": 1}, \"6380\": {\"value\": 6380, \"frequency\": 31}, \"39150\": {\"value\": 39150, \"frequency\": 1}, \"6383\": {\"value\": 6383, \"frequency\": 2}, \"6384\": {\"value\": 6384, \"frequency\": 2}, \"6386\": {\"value\": 6386, \"frequency\": 2}, \"118483\": {\"value\": 118483, \"frequency\": 1}, \"6388\": {\"value\": 6388, \"frequency\": 1}, \"6389\": {\"value\": 6389, \"frequency\": 2}, \"6390\": {\"value\": 6390, \"frequency\": 2}, \"39160\": {\"value\": 39160, \"frequency\": 1}, \"6394\": {\"value\": 6394, \"frequency\": 2}, \"6396\": {\"value\": 6396, \"frequency\": 3}, \"6397\": {\"value\": 6397, \"frequency\": 1}, \"6398\": {\"value\": 6398, \"frequency\": 2}, \"6400\": {\"value\": 6400, \"frequency\": 23}, \"6402\": {\"value\": 6402, \"frequency\": 1}, \"50405\": {\"value\": 50405, \"frequency\": 1}, \"6405\": {\"value\": 6405, \"frequency\": 4}, \"6407\": {\"value\": 6407, \"frequency\": 1}, \"6408\": {\"value\": 6408, \"frequency\": 1}, \"6413\": {\"value\": 6413, \"frequency\": 4}, \"22798\": {\"value\": 22798, \"frequency\": 1}, \"6420\": {\"value\": 6420, \"frequency\": 7}, \"39189\": {\"value\": 39189, \"frequency\": 1}, \"39190\": {\"value\": 39190, \"frequency\": 1}, \"3801\": {\"value\": 3801, \"frequency\": 1}, \"6426\": {\"value\": 6426, \"frequency\": 3}, \"6430\": {\"value\": 6430, \"frequency\": 1}, \"6435\": {\"value\": 6435, \"frequency\": 3}, \"6439\": {\"value\": 6439, \"frequency\": 2}, \"6440\": {\"value\": 6440, \"frequency\": 5}, \"6443\": {\"value\": 6443, \"frequency\": 1}, \"6448\": {\"value\": 6448, \"frequency\": 2}, \"6449\": {\"value\": 6449, \"frequency\": 1}, \"6450\": {\"value\": 6450, \"frequency\": 10}, \"6459\": {\"value\": 6459, \"frequency\": 1}, \"6460\": {\"value\": 6460, \"frequency\": 4}, \"77536\": {\"value\": 77536, \"frequency\": 2}, \"6466\": {\"value\": 6466, \"frequency\": 1}, \"6474\": {\"value\": 6474, \"frequency\": 3}, \"22860\": {\"value\": 22860, \"frequency\": 1}, \"8399\": {\"value\": 8399, \"frequency\": 2}, \"6479\": {\"value\": 6479, \"frequency\": 2}, \"6480\": {\"value\": 6480, \"frequency\": 15}, \"47502\": {\"value\": 47502, \"frequency\": 1}, \"50233\": {\"value\": 50233, \"frequency\": 1}, \"6488\": {\"value\": 6488, \"frequency\": 1}, \"6490\": {\"value\": 6490, \"frequency\": 2}, \"6491\": {\"value\": 6491, \"frequency\": 1}, \"6495\": {\"value\": 6495, \"frequency\": 2}, \"383328\": {\"value\": 383328, \"frequency\": 2}, \"6497\": {\"value\": 6497, \"frequency\": 2}, \"6499\": {\"value\": 6499, \"frequency\": 2}, \"6500\": {\"value\": 6500, \"frequency\": 40}, \"6504\": {\"value\": 6504, \"frequency\": 3}, \"88426\": {\"value\": 88426, \"frequency\": 3}, \"36583\": {\"value\": 36583, \"frequency\": 1}, \"6508\": {\"value\": 6508, \"frequency\": 2}, \"6509\": {\"value\": 6509, \"frequency\": 2}, \"6510\": {\"value\": 6510, \"frequency\": 2}, \"6515\": {\"value\": 6515, \"frequency\": 2}, \"6516\": {\"value\": 6516, \"frequency\": 3}, \"6519\": {\"value\": 6519, \"frequency\": 1}, \"6527\": {\"value\": 6527, \"frequency\": 3}, \"6530\": {\"value\": 6530, \"frequency\": 3}, \"6533\": {\"value\": 6533, \"frequency\": 2}, \"6534\": {\"value\": 6534, \"frequency\": 3}, \"6536\": {\"value\": 6536, \"frequency\": 3}, \"6537\": {\"value\": 6537, \"frequency\": 2}, \"6540\": {\"value\": 6540, \"frequency\": 4}, \"57000\": {\"value\": 57000, \"frequency\": 1}, \"6545\": {\"value\": 6545, \"frequency\": 1}, \"6549\": {\"value\": 6549, \"frequency\": 2}, \"6550\": {\"value\": 6550, \"frequency\": 9}, \"6551\": {\"value\": 6551, \"frequency\": 4}, \"6552\": {\"value\": 6552, \"frequency\": 5}, \"17476\": {\"value\": 17476, \"frequency\": 1}, \"6554\": {\"value\": 6554, \"frequency\": 3}, \"6555\": {\"value\": 6555, \"frequency\": 3}, \"6556\": {\"value\": 6556, \"frequency\": 2}, \"6557\": {\"value\": 6557, \"frequency\": 2}, \"6558\": {\"value\": 6558, \"frequency\": 2}, \"6560\": {\"value\": 6560, \"frequency\": 1}, \"6561\": {\"value\": 6561, \"frequency\": 2}, \"6564\": {\"value\": 6564, \"frequency\": 1}, \"6565\": {\"value\": 6565, \"frequency\": 3}, \"6566\": {\"value\": 6566, \"frequency\": 2}, \"6567\": {\"value\": 6567, \"frequency\": 2}, \"6568\": {\"value\": 6568, \"frequency\": 1}, \"39324\": {\"value\": 39324, \"frequency\": 1}, \"6572\": {\"value\": 6572, \"frequency\": 2}, \"6574\": {\"value\": 6574, \"frequency\": 1}, \"6576\": {\"value\": 6576, \"frequency\": 1}, \"6578\": {\"value\": 6578, \"frequency\": 1}, \"6583\": {\"value\": 6583, \"frequency\": 2}, \"6587\": {\"value\": 6587, \"frequency\": 2}, \"6590\": {\"value\": 6590, \"frequency\": 2}, \"6591\": {\"value\": 6591, \"frequency\": 1}, \"6597\": {\"value\": 6597, \"frequency\": 1}, \"6598\": {\"value\": 6598, \"frequency\": 1}, \"6600\": {\"value\": 6600, \"frequency\": 52}, \"6601\": {\"value\": 6601, \"frequency\": 1}, \"39370\": {\"value\": 39370, \"frequency\": 1}, \"6603\": {\"value\": 6603, \"frequency\": 2}, \"6604\": {\"value\": 6604, \"frequency\": 4}, \"6605\": {\"value\": 6605, \"frequency\": 2}, \"6607\": {\"value\": 6607, \"frequency\": 2}, \"6610\": {\"value\": 6610, \"frequency\": 1}, \"6611\": {\"value\": 6611, \"frequency\": 1}, \"6612\": {\"value\": 6612, \"frequency\": 3}, \"6613\": {\"value\": 6613, \"frequency\": 1}, \"6615\": {\"value\": 6615, \"frequency\": 2}, \"23000\": {\"value\": 23000, \"frequency\": 2}, \"17487\": {\"value\": 17487, \"frequency\": 1}, \"6620\": {\"value\": 6620, \"frequency\": 3}, \"6621\": {\"value\": 6621, \"frequency\": 2}, \"6624\": {\"value\": 6624, \"frequency\": 1}, \"6625\": {\"value\": 6625, \"frequency\": 6}, \"6628\": {\"value\": 6628, \"frequency\": 3}, \"6630\": {\"value\": 6630, \"frequency\": 3}, \"6634\": {\"value\": 6634, \"frequency\": 4}, \"6635\": {\"value\": 6635, \"frequency\": 2}, \"6642\": {\"value\": 6642, \"frequency\": 2}, \"6650\": {\"value\": 6650, \"frequency\": 10}, \"6651\": {\"value\": 6651, \"frequency\": 2}, \"6653\": {\"value\": 6653, \"frequency\": 3}, \"6654\": {\"value\": 6654, \"frequency\": 4}, \"6655\": {\"value\": 6655, \"frequency\": 3}, \"6656\": {\"value\": 6656, \"frequency\": 2}, \"6657\": {\"value\": 6657, \"frequency\": 1}, \"6658\": {\"value\": 6658, \"frequency\": 2}, \"6659\": {\"value\": 6659, \"frequency\": 1}, \"6660\": {\"value\": 6660, \"frequency\": 5}, \"39430\": {\"value\": 39430, \"frequency\": 1}, \"6663\": {\"value\": 6663, \"frequency\": 2}, \"6664\": {\"value\": 6664, \"frequency\": 3}, \"6666\": {\"value\": 6666, \"frequency\": 3}, \"6675\": {\"value\": 6675, \"frequency\": 4}, \"6676\": {\"value\": 6676, \"frequency\": 1}, \"6677\": {\"value\": 6677, \"frequency\": 2}, \"39446\": {\"value\": 39446, \"frequency\": 1}, \"6680\": {\"value\": 6680, \"frequency\": 1}, \"6682\": {\"value\": 6682, \"frequency\": 1}, \"6685\": {\"value\": 6685, \"frequency\": 6}, \"6686\": {\"value\": 6686, \"frequency\": 1}, \"6687\": {\"value\": 6687, \"frequency\": 3}, \"6688\": {\"value\": 6688, \"frequency\": 2}, \"6690\": {\"value\": 6690, \"frequency\": 1}, \"39460\": {\"value\": 39460, \"frequency\": 1}, \"6695\": {\"value\": 6695, \"frequency\": 3}, \"6696\": {\"value\": 6696, \"frequency\": 1}, \"6697\": {\"value\": 6697, \"frequency\": 1}, \"6698\": {\"value\": 6698, \"frequency\": 2}, \"6699\": {\"value\": 6699, \"frequency\": 2}, \"6700\": {\"value\": 6700, \"frequency\": 8}, \"23085\": {\"value\": 23085, \"frequency\": 1}, \"6702\": {\"value\": 6702, \"frequency\": 1}, \"42077\": {\"value\": 42077, \"frequency\": 1}, \"6705\": {\"value\": 6705, \"frequency\": 2}, \"39478\": {\"value\": 39478, \"frequency\": 1}, \"55867\": {\"value\": 55867, \"frequency\": 1}, \"23100\": {\"value\": 23100, \"frequency\": 2}, \"6717\": {\"value\": 6717, \"frequency\": 2}, \"6718\": {\"value\": 6718, \"frequency\": 1}, \"23103\": {\"value\": 23103, \"frequency\": 1}, \"6720\": {\"value\": 6720, \"frequency\": 16}, \"33888\": {\"value\": 33888, \"frequency\": 1}, \"7316\": {\"value\": 7316, \"frequency\": 3}, \"6725\": {\"value\": 6725, \"frequency\": 2}, \"6726\": {\"value\": 6726, \"frequency\": 1}, \"25697\": {\"value\": 25697, \"frequency\": 1}, \"6728\": {\"value\": 6728, \"frequency\": 1}, \"208652\": {\"value\": 208652, \"frequency\": 1}, \"6730\": {\"value\": 6730, \"frequency\": 1}, \"6731\": {\"value\": 6731, \"frequency\": 6}, \"6732\": {\"value\": 6732, \"frequency\": 2}, \"6733\": {\"value\": 6733, \"frequency\": 2}, \"6736\": {\"value\": 6736, \"frequency\": 1}, \"6737\": {\"value\": 6737, \"frequency\": 1}, \"6738\": {\"value\": 6738, \"frequency\": 4}, \"6739\": {\"value\": 6739, \"frequency\": 1}, \"6740\": {\"value\": 6740, \"frequency\": 2}, \"6742\": {\"value\": 6742, \"frequency\": 1}, \"6743\": {\"value\": 6743, \"frequency\": 2}, \"6744\": {\"value\": 6744, \"frequency\": 2}, \"6750\": {\"value\": 6750, \"frequency\": 26}, \"6752\": {\"value\": 6752, \"frequency\": 3}, \"6753\": {\"value\": 6753, \"frequency\": 1}, \"6754\": {\"value\": 6754, \"frequency\": 1}, \"6755\": {\"value\": 6755, \"frequency\": 3}, \"6757\": {\"value\": 6757, \"frequency\": 1}, \"219542\": {\"value\": 219542, \"frequency\": 3}, \"6760\": {\"value\": 6760, \"frequency\": 4}, \"6765\": {\"value\": 6765, \"frequency\": 4}, \"6766\": {\"value\": 6766, \"frequency\": 3}, \"6768\": {\"value\": 6768, \"frequency\": 2}, \"6770\": {\"value\": 6770, \"frequency\": 3}, \"6771\": {\"value\": 6771, \"frequency\": 5}, \"72309\": {\"value\": 72309, \"frequency\": 3}, \"6774\": {\"value\": 6774, \"frequency\": 2}, \"6775\": {\"value\": 6775, \"frequency\": 5}, \"6776\": {\"value\": 6776, \"frequency\": 3}, \"6778\": {\"value\": 6778, \"frequency\": 1}, \"6780\": {\"value\": 6780, \"frequency\": 3}, \"533610\": {\"value\": 533610, \"frequency\": 1}, \"6783\": {\"value\": 6783, \"frequency\": 3}, \"6785\": {\"value\": 6785, \"frequency\": 1}, \"6788\": {\"value\": 6788, \"frequency\": 3}, \"6791\": {\"value\": 6791, \"frequency\": 1}, \"6800\": {\"value\": 6800, \"frequency\": 16}, \"6802\": {\"value\": 6802, \"frequency\": 1}, \"6804\": {\"value\": 6804, \"frequency\": 2}, \"6807\": {\"value\": 6807, \"frequency\": 3}, \"6809\": {\"value\": 6809, \"frequency\": 1}, \"6810\": {\"value\": 6810, \"frequency\": 1}, \"6811\": {\"value\": 6811, \"frequency\": 2}, \"3866\": {\"value\": 3866, \"frequency\": 1}, \"23200\": {\"value\": 23200, \"frequency\": 1}, \"203425\": {\"value\": 203425, \"frequency\": 2}, \"6818\": {\"value\": 6818, \"frequency\": 2}, \"6819\": {\"value\": 6819, \"frequency\": 1}, \"6820\": {\"value\": 6820, \"frequency\": 6}, \"6824\": {\"value\": 6824, \"frequency\": 1}, \"6825\": {\"value\": 6825, \"frequency\": 7}, \"6826\": {\"value\": 6826, \"frequency\": 2}, \"6828\": {\"value\": 6828, \"frequency\": 2}, \"9330\": {\"value\": 9330, \"frequency\": 1}, \"6830\": {\"value\": 6830, \"frequency\": 1}, \"6832\": {\"value\": 6832, \"frequency\": 1}, \"6834\": {\"value\": 6834, \"frequency\": 1}, \"6835\": {\"value\": 6835, \"frequency\": 1}, \"6837\": {\"value\": 6837, \"frequency\": 2}, \"6838\": {\"value\": 6838, \"frequency\": 2}, \"6840\": {\"value\": 6840, \"frequency\": 11}, \"6602\": {\"value\": 6602, \"frequency\": 1}, \"6848\": {\"value\": 6848, \"frequency\": 2}, \"6850\": {\"value\": 6850, \"frequency\": 2}, \"8957\": {\"value\": 8957, \"frequency\": 1}, \"6852\": {\"value\": 6852, \"frequency\": 1}, \"6853\": {\"value\": 6853, \"frequency\": 1}, \"6856\": {\"value\": 6856, \"frequency\": 2}, \"6858\": {\"value\": 6858, \"frequency\": 1}, \"6859\": {\"value\": 6859, \"frequency\": 1}, \"6860\": {\"value\": 6860, \"frequency\": 2}, \"6862\": {\"value\": 6862, \"frequency\": 2}, \"6865\": {\"value\": 6865, \"frequency\": 2}, \"6867\": {\"value\": 6867, \"frequency\": 3}, \"6870\": {\"value\": 6870, \"frequency\": 1}, \"6871\": {\"value\": 6871, \"frequency\": 2}, \"39640\": {\"value\": 39640, \"frequency\": 1}, \"6874\": {\"value\": 6874, \"frequency\": 4}, \"6875\": {\"value\": 6875, \"frequency\": 6}, \"6879\": {\"value\": 6879, \"frequency\": 1}, \"6880\": {\"value\": 6880, \"frequency\": 1}, \"6885\": {\"value\": 6885, \"frequency\": 1}, \"6886\": {\"value\": 6886, \"frequency\": 1}, \"6887\": {\"value\": 6887, \"frequency\": 2}, \"6890\": {\"value\": 6890, \"frequency\": 2}, \"6893\": {\"value\": 6893, \"frequency\": 2}, \"6895\": {\"value\": 6895, \"frequency\": 2}, \"6897\": {\"value\": 6897, \"frequency\": 1}, \"6900\": {\"value\": 6900, \"frequency\": 18}, \"6901\": {\"value\": 6901, \"frequency\": 1}, \"6903\": {\"value\": 6903, \"frequency\": 2}, \"6906\": {\"value\": 6906, \"frequency\": 4}, \"6908\": {\"value\": 6908, \"frequency\": 3}, \"6909\": {\"value\": 6909, \"frequency\": 2}, \"6911\": {\"value\": 6911, \"frequency\": 2}, \"1152\": {\"value\": 1152, \"frequency\": 1}, \"6916\": {\"value\": 6916, \"frequency\": 1}, \"6918\": {\"value\": 6918, \"frequency\": 1}, \"6920\": {\"value\": 6920, \"frequency\": 1}, \"6921\": {\"value\": 6921, \"frequency\": 1}, \"6923\": {\"value\": 6923, \"frequency\": 2}, \"6924\": {\"value\": 6924, \"frequency\": 2}, \"6930\": {\"value\": 6930, \"frequency\": 9}, \"6933\": {\"value\": 6933, \"frequency\": 1}, \"6936\": {\"value\": 6936, \"frequency\": 1}, \"23321\": {\"value\": 23321, \"frequency\": 1}, \"6938\": {\"value\": 6938, \"frequency\": 1}, \"6941\": {\"value\": 6941, \"frequency\": 1}, \"6944\": {\"value\": 6944, \"frequency\": 1}, \"6947\": {\"value\": 6947, \"frequency\": 4}, \"6957\": {\"value\": 6957, \"frequency\": 1}, \"6960\": {\"value\": 6960, \"frequency\": 5}, \"6964\": {\"value\": 6964, \"frequency\": 1}, \"6967\": {\"value\": 6967, \"frequency\": 3}, \"6969\": {\"value\": 6969, \"frequency\": 5}, \"6970\": {\"value\": 6970, \"frequency\": 2}, \"6973\": {\"value\": 6973, \"frequency\": 2}, \"6975\": {\"value\": 6975, \"frequency\": 4}, \"23361\": {\"value\": 23361, \"frequency\": 1}, \"6978\": {\"value\": 6978, \"frequency\": 4}, \"6980\": {\"value\": 6980, \"frequency\": 2}, \"5688\": {\"value\": 5688, \"frequency\": 2}, \"6984\": {\"value\": 6984, \"frequency\": 2}, \"6985\": {\"value\": 6985, \"frequency\": 3}, \"219978\": {\"value\": 219978, \"frequency\": 4}, \"6988\": {\"value\": 6988, \"frequency\": 3}, \"88909\": {\"value\": 88909, \"frequency\": 1}, \"6990\": {\"value\": 6990, \"frequency\": 1}, \"6991\": {\"value\": 6991, \"frequency\": 1}, \"6992\": {\"value\": 6992, \"frequency\": 2}, \"3896\": {\"value\": 3896, \"frequency\": 1}, \"6994\": {\"value\": 6994, \"frequency\": 2}, \"7000\": {\"value\": 7000, \"frequency\": 76}, \"7003\": {\"value\": 7003, \"frequency\": 1}, \"7004\": {\"value\": 7004, \"frequency\": 3}, \"7005\": {\"value\": 7005, \"frequency\": 2}, \"7006\": {\"value\": 7006, \"frequency\": 1}, \"7007\": {\"value\": 7007, \"frequency\": 3}, \"7012\": {\"value\": 7012, \"frequency\": 1}, \"138085\": {\"value\": 138085, \"frequency\": 1}, \"7014\": {\"value\": 7014, \"frequency\": 3}, \"7015\": {\"value\": 7015, \"frequency\": 4}, \"23400\": {\"value\": 23400, \"frequency\": 3}, \"7020\": {\"value\": 7020, \"frequency\": 12}, \"7023\": {\"value\": 7023, \"frequency\": 1}, \"7027\": {\"value\": 7027, \"frequency\": 1}, \"7029\": {\"value\": 7029, \"frequency\": 2}, \"7030\": {\"value\": 7030, \"frequency\": 5}, \"7034\": {\"value\": 7034, \"frequency\": 2}, \"7035\": {\"value\": 7035, \"frequency\": 4}, \"56192\": {\"value\": 56192, \"frequency\": 4}, \"7043\": {\"value\": 7043, \"frequency\": 1}, \"7047\": {\"value\": 7047, \"frequency\": 2}, \"7048\": {\"value\": 7048, \"frequency\": 2}, \"7050\": {\"value\": 7050, \"frequency\": 3}, \"7051\": {\"value\": 7051, \"frequency\": 2}, \"7054\": {\"value\": 7054, \"frequency\": 2}, \"7056\": {\"value\": 7056, \"frequency\": 4}, \"7062\": {\"value\": 7062, \"frequency\": 3}, \"7064\": {\"value\": 7064, \"frequency\": 2}, \"7066\": {\"value\": 7066, \"frequency\": 3}, \"7068\": {\"value\": 7068, \"frequency\": 2}, \"7069\": {\"value\": 7069, \"frequency\": 2}, \"7070\": {\"value\": 7070, \"frequency\": 2}, \"7071\": {\"value\": 7071, \"frequency\": 2}, \"7074\": {\"value\": 7074, \"frequency\": 1}, \"7076\": {\"value\": 7076, \"frequency\": 3}, \"7078\": {\"value\": 7078, \"frequency\": 1}, \"39848\": {\"value\": 39848, \"frequency\": 2}, \"7081\": {\"value\": 7081, \"frequency\": 4}, \"7084\": {\"value\": 7084, \"frequency\": 2}, \"7085\": {\"value\": 7085, \"frequency\": 3}, \"7087\": {\"value\": 7087, \"frequency\": 1}, \"7089\": {\"value\": 7089, \"frequency\": 2}, \"7091\": {\"value\": 7091, \"frequency\": 2}, \"7095\": {\"value\": 7095, \"frequency\": 3}, \"7098\": {\"value\": 7098, \"frequency\": 2}, \"7100\": {\"value\": 7100, \"frequency\": 6}, \"7102\": {\"value\": 7102, \"frequency\": 6}, \"7104\": {\"value\": 7104, \"frequency\": 3}, \"17568\": {\"value\": 17568, \"frequency\": 1}, \"7107\": {\"value\": 7107, \"frequency\": 2}, \"7108\": {\"value\": 7108, \"frequency\": 2}, \"7110\": {\"value\": 7110, \"frequency\": 7}, \"7111\": {\"value\": 7111, \"frequency\": 3}, \"7112\": {\"value\": 7112, \"frequency\": 3}, \"7114\": {\"value\": 7114, \"frequency\": 1}, \"7115\": {\"value\": 7115, \"frequency\": 1}, \"7117\": {\"value\": 7117, \"frequency\": 1}, \"7119\": {\"value\": 7119, \"frequency\": 2}, \"7120\": {\"value\": 7120, \"frequency\": 5}, \"7123\": {\"value\": 7123, \"frequency\": 2}, \"7125\": {\"value\": 7125, \"frequency\": 9}, \"7126\": {\"value\": 7126, \"frequency\": 1}, \"7128\": {\"value\": 7128, \"frequency\": 6}, \"7129\": {\"value\": 7129, \"frequency\": 2}, \"7130\": {\"value\": 7130, \"frequency\": 2}, \"7131\": {\"value\": 7131, \"frequency\": 2}, \"7133\": {\"value\": 7133, \"frequency\": 1}, \"7134\": {\"value\": 7134, \"frequency\": 3}, \"7135\": {\"value\": 7135, \"frequency\": 1}, \"7136\": {\"value\": 7136, \"frequency\": 2}, \"7137\": {\"value\": 7137, \"frequency\": 2}, \"23522\": {\"value\": 23522, \"frequency\": 4}, \"7140\": {\"value\": 7140, \"frequency\": 19}, \"7143\": {\"value\": 7143, \"frequency\": 1}, \"7144\": {\"value\": 7144, \"frequency\": 1}, \"7145\": {\"value\": 7145, \"frequency\": 2}, \"7147\": {\"value\": 7147, \"frequency\": 1}, \"7148\": {\"value\": 7148, \"frequency\": 1}, \"7149\": {\"value\": 7149, \"frequency\": 2}, \"7150\": {\"value\": 7150, \"frequency\": 9}, \"7153\": {\"value\": 7153, \"frequency\": 3}, \"7155\": {\"value\": 7155, \"frequency\": 3}, \"7156\": {\"value\": 7156, \"frequency\": 2}, \"7157\": {\"value\": 7157, \"frequency\": 2}, \"7161\": {\"value\": 7161, \"frequency\": 2}, \"7163\": {\"value\": 7163, \"frequency\": 3}, \"39932\": {\"value\": 39932, \"frequency\": 1}, \"7171\": {\"value\": 7171, \"frequency\": 3}, \"7172\": {\"value\": 7172, \"frequency\": 2}, \"7173\": {\"value\": 7173, \"frequency\": 3}, \"7175\": {\"value\": 7175, \"frequency\": 2}, \"7176\": {\"value\": 7176, \"frequency\": 1}, \"6240\": {\"value\": 6240, \"frequency\": 16}, \"7178\": {\"value\": 7178, \"frequency\": 2}, \"7180\": {\"value\": 7180, \"frequency\": 1}, \"23568\": {\"value\": 23568, \"frequency\": 1}, \"7187\": {\"value\": 7187, \"frequency\": 7}, \"7190\": {\"value\": 7190, \"frequency\": 1}, \"7191\": {\"value\": 7191, \"frequency\": 3}, \"7192\": {\"value\": 7192, \"frequency\": 2}, \"7193\": {\"value\": 7193, \"frequency\": 1}, \"7194\": {\"value\": 7194, \"frequency\": 7}, \"7198\": {\"value\": 7198, \"frequency\": 4}, \"7199\": {\"value\": 7199, \"frequency\": 7}, \"7200\": {\"value\": 7200, \"frequency\": 220}, \"7201\": {\"value\": 7201, \"frequency\": 8}, \"7202\": {\"value\": 7202, \"frequency\": 6}, \"7203\": {\"value\": 7203, \"frequency\": 7}, \"7204\": {\"value\": 7204, \"frequency\": 4}, \"7205\": {\"value\": 7205, \"frequency\": 6}, \"1201\": {\"value\": 1201, \"frequency\": 4}, \"7208\": {\"value\": 7208, \"frequency\": 8}, \"72745\": {\"value\": 72745, \"frequency\": 1}, \"7210\": {\"value\": 7210, \"frequency\": 38}, \"7213\": {\"value\": 7213, \"frequency\": 2}, \"7214\": {\"value\": 7214, \"frequency\": 3}, \"7215\": {\"value\": 7215, \"frequency\": 5}, \"7216\": {\"value\": 7216, \"frequency\": 5}, \"7218\": {\"value\": 7218, \"frequency\": 2}, \"7220\": {\"value\": 7220, \"frequency\": 5}, \"7221\": {\"value\": 7221, \"frequency\": 4}, \"7222\": {\"value\": 7222, \"frequency\": 2}, \"7223\": {\"value\": 7223, \"frequency\": 2}, \"7224\": {\"value\": 7224, \"frequency\": 2}, \"7225\": {\"value\": 7225, \"frequency\": 7}, \"7226\": {\"value\": 7226, \"frequency\": 3}, \"7227\": {\"value\": 7227, \"frequency\": 3}, \"7228\": {\"value\": 7228, \"frequency\": 2}, \"7229\": {\"value\": 7229, \"frequency\": 3}, \"7230\": {\"value\": 7230, \"frequency\": 5}, \"7231\": {\"value\": 7231, \"frequency\": 3}, \"7232\": {\"value\": 7232, \"frequency\": 7}, \"40003\": {\"value\": 40003, \"frequency\": 1}, \"7236\": {\"value\": 7236, \"frequency\": 5}, \"7237\": {\"value\": 7237, \"frequency\": 1}, \"7238\": {\"value\": 7238, \"frequency\": 2}, \"7240\": {\"value\": 7240, \"frequency\": 1}, \"7241\": {\"value\": 7241, \"frequency\": 1}, \"7242\": {\"value\": 7242, \"frequency\": 7}, \"3867\": {\"value\": 3867, \"frequency\": 2}, \"7245\": {\"value\": 7245, \"frequency\": 17}, \"7246\": {\"value\": 7246, \"frequency\": 2}, \"7247\": {\"value\": 7247, \"frequency\": 2}, \"7250\": {\"value\": 7250, \"frequency\": 14}, \"7251\": {\"value\": 7251, \"frequency\": 4}, \"203860\": {\"value\": 203860, \"frequency\": 1}, \"7253\": {\"value\": 7253, \"frequency\": 1}, \"7254\": {\"value\": 7254, \"frequency\": 3}, \"7255\": {\"value\": 7255, \"frequency\": 1}, \"7258\": {\"value\": 7258, \"frequency\": 3}, \"7259\": {\"value\": 7259, \"frequency\": 1}, \"7260\": {\"value\": 7260, \"frequency\": 17}, \"7261\": {\"value\": 7261, \"frequency\": 2}, \"7262\": {\"value\": 7262, \"frequency\": 1}, \"7264\": {\"value\": 7264, \"frequency\": 4}, \"7265\": {\"value\": 7265, \"frequency\": 2}, \"7266\": {\"value\": 7266, \"frequency\": 3}, \"7267\": {\"value\": 7267, \"frequency\": 2}, \"7268\": {\"value\": 7268, \"frequency\": 3}, \"7270\": {\"value\": 7270, \"frequency\": 2}, \"40039\": {\"value\": 40039, \"frequency\": 1}, \"7272\": {\"value\": 7272, \"frequency\": 2}, \"7275\": {\"value\": 7275, \"frequency\": 6}, \"7276\": {\"value\": 7276, \"frequency\": 5}, \"7277\": {\"value\": 7277, \"frequency\": 3}, \"7278\": {\"value\": 7278, \"frequency\": 1}, \"1213\": {\"value\": 1213, \"frequency\": 4}, \"7280\": {\"value\": 7280, \"frequency\": 17}, \"7281\": {\"value\": 7281, \"frequency\": 1}, \"7282\": {\"value\": 7282, \"frequency\": 3}, \"7283\": {\"value\": 7283, \"frequency\": 1}, \"23669\": {\"value\": 23669, \"frequency\": 1}, \"7286\": {\"value\": 7286, \"frequency\": 1}, \"7287\": {\"value\": 7287, \"frequency\": 2}, \"7290\": {\"value\": 7290, \"frequency\": 5}, \"7291\": {\"value\": 7291, \"frequency\": 2}, \"7292\": {\"value\": 7292, \"frequency\": 5}, \"7293\": {\"value\": 7293, \"frequency\": 2}, \"7294\": {\"value\": 7294, \"frequency\": 3}, \"7296\": {\"value\": 7296, \"frequency\": 2}, \"7297\": {\"value\": 7297, \"frequency\": 2}, \"7298\": {\"value\": 7298, \"frequency\": 1}, \"7299\": {\"value\": 7299, \"frequency\": 1}, \"7300\": {\"value\": 7300, \"frequency\": 17}, \"6678\": {\"value\": 6678, \"frequency\": 3}, \"7302\": {\"value\": 7302, \"frequency\": 1}, \"7303\": {\"value\": 7303, \"frequency\": 3}, \"7304\": {\"value\": 7304, \"frequency\": 2}, \"7306\": {\"value\": 7306, \"frequency\": 2}, \"7307\": {\"value\": 7307, \"frequency\": 2}, \"7308\": {\"value\": 7308, \"frequency\": 2}, \"7309\": {\"value\": 7309, \"frequency\": 2}, \"7311\": {\"value\": 7311, \"frequency\": 2}, \"7312\": {\"value\": 7312, \"frequency\": 4}, \"7313\": {\"value\": 7313, \"frequency\": 5}, \"7314\": {\"value\": 7314, \"frequency\": 9}, \"7315\": {\"value\": 7315, \"frequency\": 2}, \"220308\": {\"value\": 220308, \"frequency\": 1}, \"12142\": {\"value\": 12142, \"frequency\": 2}, \"7318\": {\"value\": 7318, \"frequency\": 2}, \"7320\": {\"value\": 7320, \"frequency\": 11}, \"7322\": {\"value\": 7322, \"frequency\": 1}, \"7323\": {\"value\": 7323, \"frequency\": 1}, \"7324\": {\"value\": 7324, \"frequency\": 3}, \"7326\": {\"value\": 7326, \"frequency\": 2}, \"7328\": {\"value\": 7328, \"frequency\": 1}, \"40097\": {\"value\": 40097, \"frequency\": 1}, \"7330\": {\"value\": 7330, \"frequency\": 2}, \"7331\": {\"value\": 7331, \"frequency\": 1}, \"23716\": {\"value\": 23716, \"frequency\": 1}, \"7333\": {\"value\": 7333, \"frequency\": 2}, \"7334\": {\"value\": 7334, \"frequency\": 4}, \"7335\": {\"value\": 7335, \"frequency\": 1}, \"7336\": {\"value\": 7336, \"frequency\": 3}, \"7338\": {\"value\": 7338, \"frequency\": 2}, \"23723\": {\"value\": 23723, \"frequency\": 1}, \"7341\": {\"value\": 7341, \"frequency\": 2}, \"26977\": {\"value\": 26977, \"frequency\": 1}, \"7344\": {\"value\": 7344, \"frequency\": 7}, \"7345\": {\"value\": 7345, \"frequency\": 5}, \"7347\": {\"value\": 7347, \"frequency\": 2}, \"7349\": {\"value\": 7349, \"frequency\": 2}, \"122038\": {\"value\": 122038, \"frequency\": 1}, \"7352\": {\"value\": 7352, \"frequency\": 2}, \"7355\": {\"value\": 7355, \"frequency\": 2}, \"7360\": {\"value\": 7360, \"frequency\": 2}, \"7361\": {\"value\": 7361, \"frequency\": 2}, \"7364\": {\"value\": 7364, \"frequency\": 2}, \"7370\": {\"value\": 7370, \"frequency\": 5}, \"12151\": {\"value\": 12151, \"frequency\": 1}, \"7372\": {\"value\": 7372, \"frequency\": 3}, \"7373\": {\"value\": 7373, \"frequency\": 2}, \"7374\": {\"value\": 7374, \"frequency\": 1}, \"7375\": {\"value\": 7375, \"frequency\": 3}, \"7376\": {\"value\": 7376, \"frequency\": 1}, \"7378\": {\"value\": 7378, \"frequency\": 2}, \"7379\": {\"value\": 7379, \"frequency\": 2}, \"7380\": {\"value\": 7380, \"frequency\": 5}, \"7384\": {\"value\": 7384, \"frequency\": 5}, \"7386\": {\"value\": 7386, \"frequency\": 2}, \"7388\": {\"value\": 7388, \"frequency\": 2}, \"7389\": {\"value\": 7389, \"frequency\": 3}, \"42800\": {\"value\": 42800, \"frequency\": 1}, \"7392\": {\"value\": 7392, \"frequency\": 4}, \"7394\": {\"value\": 7394, \"frequency\": 1}, \"7395\": {\"value\": 7395, \"frequency\": 1}, \"7396\": {\"value\": 7396, \"frequency\": 1}, \"23781\": {\"value\": 23781, \"frequency\": 1}, \"7399\": {\"value\": 7399, \"frequency\": 3}, \"7400\": {\"value\": 7400, \"frequency\": 16}, \"7403\": {\"value\": 7403, \"frequency\": 3}, \"7405\": {\"value\": 7405, \"frequency\": 3}, \"7410\": {\"value\": 7410, \"frequency\": 8}, \"7412\": {\"value\": 7412, \"frequency\": 6}, \"7414\": {\"value\": 7414, \"frequency\": 3}, \"7415\": {\"value\": 7415, \"frequency\": 4}, \"7416\": {\"value\": 7416, \"frequency\": 7}, \"7417\": {\"value\": 7417, \"frequency\": 4}, \"7419\": {\"value\": 7419, \"frequency\": 4}, \"7420\": {\"value\": 7420, \"frequency\": 9}, \"7421\": {\"value\": 7421, \"frequency\": 1}, \"7423\": {\"value\": 7423, \"frequency\": 2}, \"7425\": {\"value\": 7425, \"frequency\": 3}, \"7426\": {\"value\": 7426, \"frequency\": 1}, \"7427\": {\"value\": 7427, \"frequency\": 1}, \"7434\": {\"value\": 7434, \"frequency\": 5}, \"7435\": {\"value\": 7435, \"frequency\": 2}, \"7439\": {\"value\": 7439, \"frequency\": 4}, \"7440\": {\"value\": 7440, \"frequency\": 14}, \"9432\": {\"value\": 9432, \"frequency\": 1}, \"7442\": {\"value\": 7442, \"frequency\": 1}, \"7447\": {\"value\": 7447, \"frequency\": 3}, \"7448\": {\"value\": 7448, \"frequency\": 1}, \"7450\": {\"value\": 7450, \"frequency\": 3}, \"6703\": {\"value\": 6703, \"frequency\": 1}, \"7452\": {\"value\": 7452, \"frequency\": 2}, \"7453\": {\"value\": 7453, \"frequency\": 1}, \"7455\": {\"value\": 7455, \"frequency\": 5}, \"7456\": {\"value\": 7456, \"frequency\": 1}, \"7458\": {\"value\": 7458, \"frequency\": 1}, \"7460\": {\"value\": 7460, \"frequency\": 2}, \"25800\": {\"value\": 25800, \"frequency\": 1}, \"7464\": {\"value\": 7464, \"frequency\": 1}, \"7465\": {\"value\": 7465, \"frequency\": 3}, \"7467\": {\"value\": 7467, \"frequency\": 3}, \"7469\": {\"value\": 7469, \"frequency\": 1}, \"7470\": {\"value\": 7470, \"frequency\": 3}, \"7473\": {\"value\": 7473, \"frequency\": 3}, \"7475\": {\"value\": 7475, \"frequency\": 10}, \"7476\": {\"value\": 7476, \"frequency\": 2}, \"17630\": {\"value\": 17630, \"frequency\": 1}, \"7479\": {\"value\": 7479, \"frequency\": 2}, \"7480\": {\"value\": 7480, \"frequency\": 11}, \"40250\": {\"value\": 40250, \"frequency\": 2}, \"7484\": {\"value\": 7484, \"frequency\": 2}, \"7485\": {\"value\": 7485, \"frequency\": 2}, \"7486\": {\"value\": 7486, \"frequency\": 2}, \"7488\": {\"value\": 7488, \"frequency\": 4}, \"7489\": {\"value\": 7489, \"frequency\": 2}, \"7490\": {\"value\": 7490, \"frequency\": 7}, \"7491\": {\"value\": 7491, \"frequency\": 3}, \"7492\": {\"value\": 7492, \"frequency\": 2}, \"6710\": {\"value\": 6710, \"frequency\": 6}, \"7494\": {\"value\": 7494, \"frequency\": 2}, \"7495\": {\"value\": 7495, \"frequency\": 2}, \"7500\": {\"value\": 7500, \"frequency\": 119}, \"7501\": {\"value\": 7501, \"frequency\": 1}, \"7503\": {\"value\": 7503, \"frequency\": 2}, \"7504\": {\"value\": 7504, \"frequency\": 1}, \"7505\": {\"value\": 7505, \"frequency\": 2}, \"7506\": {\"value\": 7506, \"frequency\": 2}, \"17635\": {\"value\": 17635, \"frequency\": 1}, \"7508\": {\"value\": 7508, \"frequency\": 4}, \"7509\": {\"value\": 7509, \"frequency\": 1}, \"40278\": {\"value\": 40278, \"frequency\": 1}, \"7512\": {\"value\": 7512, \"frequency\": 1}, \"7513\": {\"value\": 7513, \"frequency\": 1}, \"23899\": {\"value\": 23899, \"frequency\": 1}, \"7517\": {\"value\": 7517, \"frequency\": 2}, \"7519\": {\"value\": 7519, \"frequency\": 3}, \"7520\": {\"value\": 7520, \"frequency\": 5}, \"7521\": {\"value\": 7521, \"frequency\": 2}, \"6715\": {\"value\": 6715, \"frequency\": 1}, \"7524\": {\"value\": 7524, \"frequency\": 2}, \"7526\": {\"value\": 7526, \"frequency\": 4}, \"7528\": {\"value\": 7528, \"frequency\": 1}, \"7533\": {\"value\": 7533, \"frequency\": 2}, \"7535\": {\"value\": 7535, \"frequency\": 2}, \"7537\": {\"value\": 7537, \"frequency\": 1}, \"7538\": {\"value\": 7538, \"frequency\": 3}, \"28563\": {\"value\": 28563, \"frequency\": 1}, \"7540\": {\"value\": 7540, \"frequency\": 6}, \"7541\": {\"value\": 7541, \"frequency\": 1}, \"7544\": {\"value\": 7544, \"frequency\": 1}, \"7545\": {\"value\": 7545, \"frequency\": 1}, \"7546\": {\"value\": 7546, \"frequency\": 1}, \"6719\": {\"value\": 6719, \"frequency\": 1}, \"7549\": {\"value\": 7549, \"frequency\": 2}, \"7550\": {\"value\": 7550, \"frequency\": 2}, \"40319\": {\"value\": 40319, \"frequency\": 1}, \"7552\": {\"value\": 7552, \"frequency\": 5}, \"7553\": {\"value\": 7553, \"frequency\": 2}, \"7555\": {\"value\": 7555, \"frequency\": 3}, \"7559\": {\"value\": 7559, \"frequency\": 1}, \"7560\": {\"value\": 7560, \"frequency\": 48}, \"7561\": {\"value\": 7561, \"frequency\": 2}, \"7562\": {\"value\": 7562, \"frequency\": 1}, \"7565\": {\"value\": 7565, \"frequency\": 2}, \"7566\": {\"value\": 7566, \"frequency\": 4}, \"7567\": {\"value\": 7567, \"frequency\": 2}, \"7569\": {\"value\": 7569, \"frequency\": 2}, \"23954\": {\"value\": 23954, \"frequency\": 1}, \"7571\": {\"value\": 7571, \"frequency\": 1}, \"7572\": {\"value\": 7572, \"frequency\": 1}, \"7573\": {\"value\": 7573, \"frequency\": 3}, \"7575\": {\"value\": 7575, \"frequency\": 9}, \"7576\": {\"value\": 7576, \"frequency\": 1}, \"7577\": {\"value\": 7577, \"frequency\": 2}, \"7579\": {\"value\": 7579, \"frequency\": 1}, \"7580\": {\"value\": 7580, \"frequency\": 1}, \"7582\": {\"value\": 7582, \"frequency\": 2}, \"7583\": {\"value\": 7583, \"frequency\": 1}, \"7584\": {\"value\": 7584, \"frequency\": 2}, \"7585\": {\"value\": 7585, \"frequency\": 2}, \"7586\": {\"value\": 7586, \"frequency\": 1}, \"7587\": {\"value\": 7587, \"frequency\": 2}, \"7588\": {\"value\": 7588, \"frequency\": 1}, \"7589\": {\"value\": 7589, \"frequency\": 3}, \"7590\": {\"value\": 7590, \"frequency\": 8}, \"7598\": {\"value\": 7598, \"frequency\": 3}, \"7599\": {\"value\": 7599, \"frequency\": 4}, \"7600\": {\"value\": 7600, \"frequency\": 12}, \"7601\": {\"value\": 7601, \"frequency\": 3}, \"7603\": {\"value\": 7603, \"frequency\": 1}, \"7604\": {\"value\": 7604, \"frequency\": 1}, \"7605\": {\"value\": 7605, \"frequency\": 3}, \"7606\": {\"value\": 7606, \"frequency\": 2}, \"7607\": {\"value\": 7607, \"frequency\": 2}, \"7609\": {\"value\": 7609, \"frequency\": 3}, \"23994\": {\"value\": 23994, \"frequency\": 1}, \"7614\": {\"value\": 7614, \"frequency\": 2}, \"73151\": {\"value\": 73151, \"frequency\": 1}, \"24000\": {\"value\": 24000, \"frequency\": 1}, \"7617\": {\"value\": 7617, \"frequency\": 3}, \"40386\": {\"value\": 40386, \"frequency\": 1}, \"7620\": {\"value\": 7620, \"frequency\": 30}, \"7623\": {\"value\": 7623, \"frequency\": 2}, \"7625\": {\"value\": 7625, \"frequency\": 3}, \"7626\": {\"value\": 7626, \"frequency\": 2}, \"7630\": {\"value\": 7630, \"frequency\": 4}, \"7631\": {\"value\": 7631, \"frequency\": 1}, \"7632\": {\"value\": 7632, \"frequency\": 5}, \"7633\": {\"value\": 7633, \"frequency\": 2}, \"7634\": {\"value\": 7634, \"frequency\": 3}, \"7636\": {\"value\": 7636, \"frequency\": 3}, \"7639\": {\"value\": 7639, \"frequency\": 2}, \"7640\": {\"value\": 7640, \"frequency\": 1}, \"7641\": {\"value\": 7641, \"frequency\": 3}, \"7642\": {\"value\": 7642, \"frequency\": 4}, \"7643\": {\"value\": 7643, \"frequency\": 1}, \"7644\": {\"value\": 7644, \"frequency\": 3}, \"7645\": {\"value\": 7645, \"frequency\": 2}, \"7647\": {\"value\": 7647, \"frequency\": 2}, \"7649\": {\"value\": 7649, \"frequency\": 2}, \"7650\": {\"value\": 7650, \"frequency\": 23}, \"7651\": {\"value\": 7651, \"frequency\": 2}, \"1276\": {\"value\": 1276, \"frequency\": 3}, \"7658\": {\"value\": 7658, \"frequency\": 2}, \"7660\": {\"value\": 7660, \"frequency\": 3}, \"7665\": {\"value\": 7665, \"frequency\": 6}, \"7667\": {\"value\": 7667, \"frequency\": 4}, \"7668\": {\"value\": 7668, \"frequency\": 2}, \"7669\": {\"value\": 7669, \"frequency\": 1}, \"7670\": {\"value\": 7670, \"frequency\": 3}, \"7672\": {\"value\": 7672, \"frequency\": 1}, \"7673\": {\"value\": 7673, \"frequency\": 2}, \"155130\": {\"value\": 155130, \"frequency\": 1}, \"1279\": {\"value\": 1279, \"frequency\": 4}, \"7679\": {\"value\": 7679, \"frequency\": 3}, \"7680\": {\"value\": 7680, \"frequency\": 27}, \"17664\": {\"value\": 17664, \"frequency\": 1}, \"7683\": {\"value\": 7683, \"frequency\": 3}, \"7684\": {\"value\": 7684, \"frequency\": 2}, \"7685\": {\"value\": 7685, \"frequency\": 1}, \"7686\": {\"value\": 7686, \"frequency\": 5}, \"7688\": {\"value\": 7688, \"frequency\": 2}, \"24074\": {\"value\": 24074, \"frequency\": 1}, \"7692\": {\"value\": 7692, \"frequency\": 1}, \"7693\": {\"value\": 7693, \"frequency\": 3}, \"7694\": {\"value\": 7694, \"frequency\": 4}, \"7695\": {\"value\": 7695, \"frequency\": 2}, \"7697\": {\"value\": 7697, \"frequency\": 4}, \"7698\": {\"value\": 7698, \"frequency\": 2}, \"7700\": {\"value\": 7700, \"frequency\": 66}, \"7701\": {\"value\": 7701, \"frequency\": 3}, \"40471\": {\"value\": 40471, \"frequency\": 1}, \"7705\": {\"value\": 7705, \"frequency\": 1}, \"7708\": {\"value\": 7708, \"frequency\": 3}, \"7709\": {\"value\": 7709, \"frequency\": 1}, \"7710\": {\"value\": 7710, \"frequency\": 3}, \"7712\": {\"value\": 7712, \"frequency\": 2}, \"7713\": {\"value\": 7713, \"frequency\": 2}, \"7716\": {\"value\": 7716, \"frequency\": 2}, \"7719\": {\"value\": 7719, \"frequency\": 2}, \"7720\": {\"value\": 7720, \"frequency\": 2}, \"7722\": {\"value\": 7722, \"frequency\": 2}, \"7724\": {\"value\": 7724, \"frequency\": 2}, \"843309\": {\"value\": 843309, \"frequency\": 1}, \"7727\": {\"value\": 7727, \"frequency\": 2}, \"7728\": {\"value\": 7728, \"frequency\": 2}, \"7730\": {\"value\": 7730, \"frequency\": 3}, \"7731\": {\"value\": 7731, \"frequency\": 1}, \"7733\": {\"value\": 7733, \"frequency\": 3}, \"7735\": {\"value\": 7735, \"frequency\": 6}, \"7737\": {\"value\": 7737, \"frequency\": 2}, \"7738\": {\"value\": 7738, \"frequency\": 3}, \"24123\": {\"value\": 24123, \"frequency\": 1}, \"7740\": {\"value\": 7740, \"frequency\": 16}, \"7741\": {\"value\": 7741, \"frequency\": 2}, \"40510\": {\"value\": 40510, \"frequency\": 2}, \"7744\": {\"value\": 7744, \"frequency\": 1}, \"7745\": {\"value\": 7745, \"frequency\": 1}, \"7746\": {\"value\": 7746, \"frequency\": 2}, \"7749\": {\"value\": 7749, \"frequency\": 3}, \"7750\": {\"value\": 7750, \"frequency\": 5}, \"7752\": {\"value\": 7752, \"frequency\": 2}, \"7753\": {\"value\": 7753, \"frequency\": 2}, \"7754\": {\"value\": 7754, \"frequency\": 3}, \"7755\": {\"value\": 7755, \"frequency\": 2}, \"7757\": {\"value\": 7757, \"frequency\": 4}, \"7759\": {\"value\": 7759, \"frequency\": 2}, \"7760\": {\"value\": 7760, \"frequency\": 2}, \"25870\": {\"value\": 25870, \"frequency\": 1}, \"7767\": {\"value\": 7767, \"frequency\": 1}, \"7769\": {\"value\": 7769, \"frequency\": 1}, \"7770\": {\"value\": 7770, \"frequency\": 9}, \"7771\": {\"value\": 7771, \"frequency\": 1}, \"7772\": {\"value\": 7772, \"frequency\": 2}, \"7775\": {\"value\": 7775, \"frequency\": 3}, \"7778\": {\"value\": 7778, \"frequency\": 3}, \"7780\": {\"value\": 7780, \"frequency\": 1}, \"7781\": {\"value\": 7781, \"frequency\": 2}, \"24166\": {\"value\": 24166, \"frequency\": 1}, \"7785\": {\"value\": 7785, \"frequency\": 1}, \"171626\": {\"value\": 171626, \"frequency\": 1}, \"7787\": {\"value\": 7787, \"frequency\": 1}, \"7788\": {\"value\": 7788, \"frequency\": 1}, \"7789\": {\"value\": 7789, \"frequency\": 1}, \"7790\": {\"value\": 7790, \"frequency\": 2}, \"7793\": {\"value\": 7793, \"frequency\": 1}, \"7794\": {\"value\": 7794, \"frequency\": 2}, \"7797\": {\"value\": 7797, \"frequency\": 2}, \"7799\": {\"value\": 7799, \"frequency\": 1}, \"7800\": {\"value\": 7800, \"frequency\": 69}, \"24186\": {\"value\": 24186, \"frequency\": 1}, \"7803\": {\"value\": 7803, \"frequency\": 3}, \"7807\": {\"value\": 7807, \"frequency\": 5}, \"7808\": {\"value\": 7808, \"frequency\": 2}, \"7809\": {\"value\": 7809, \"frequency\": 2}, \"7810\": {\"value\": 7810, \"frequency\": 5}, \"7811\": {\"value\": 7811, \"frequency\": 2}, \"4079\": {\"value\": 4079, \"frequency\": 2}, \"7819\": {\"value\": 7819, \"frequency\": 3}, \"7820\": {\"value\": 7820, \"frequency\": 3}, \"7821\": {\"value\": 7821, \"frequency\": 3}, \"7826\": {\"value\": 7826, \"frequency\": 3}, \"7827\": {\"value\": 7827, \"frequency\": 1}, \"7828\": {\"value\": 7828, \"frequency\": 3}, \"7829\": {\"value\": 7829, \"frequency\": 1}, \"7830\": {\"value\": 7830, \"frequency\": 5}, \"7831\": {\"value\": 7831, \"frequency\": 1}, \"40600\": {\"value\": 40600, \"frequency\": 1}, \"7834\": {\"value\": 7834, \"frequency\": 1}, \"7836\": {\"value\": 7836, \"frequency\": 1}, \"7838\": {\"value\": 7838, \"frequency\": 4}, \"7840\": {\"value\": 7840, \"frequency\": 7}, \"7843\": {\"value\": 7843, \"frequency\": 1}, \"7844\": {\"value\": 7844, \"frequency\": 1}, \"7845\": {\"value\": 7845, \"frequency\": 2}, \"7847\": {\"value\": 7847, \"frequency\": 1}, \"7848\": {\"value\": 7848, \"frequency\": 2}, \"7850\": {\"value\": 7850, \"frequency\": 5}, \"7851\": {\"value\": 7851, \"frequency\": 2}, \"7853\": {\"value\": 7853, \"frequency\": 2}, \"7854\": {\"value\": 7854, \"frequency\": 5}, \"4040\": {\"value\": 4040, \"frequency\": 5}, \"7859\": {\"value\": 7859, \"frequency\": 2}, \"7860\": {\"value\": 7860, \"frequency\": 3}, \"7861\": {\"value\": 7861, \"frequency\": 3}, \"7862\": {\"value\": 7862, \"frequency\": 2}, \"7863\": {\"value\": 7863, \"frequency\": 2}, \"7865\": {\"value\": 7865, \"frequency\": 2}, \"7866\": {\"value\": 7866, \"frequency\": 2}, \"40635\": {\"value\": 40635, \"frequency\": 1}, \"7869\": {\"value\": 7869, \"frequency\": 1}, \"6773\": {\"value\": 6773, \"frequency\": 3}, \"7873\": {\"value\": 7873, \"frequency\": 1}, \"40642\": {\"value\": 40642, \"frequency\": 1}, \"7875\": {\"value\": 7875, \"frequency\": 19}, \"7876\": {\"value\": 7876, \"frequency\": 2}, \"7877\": {\"value\": 7877, \"frequency\": 3}, \"7879\": {\"value\": 7879, \"frequency\": 1}, \"7880\": {\"value\": 7880, \"frequency\": 2}, \"45004\": {\"value\": 45004, \"frequency\": 1}, \"7882\": {\"value\": 7882, \"frequency\": 1}, \"7884\": {\"value\": 7884, \"frequency\": 3}, \"7885\": {\"value\": 7885, \"frequency\": 2}, \"7886\": {\"value\": 7886, \"frequency\": 1}, \"23160\": {\"value\": 23160, \"frequency\": 1}, \"7890\": {\"value\": 7890, \"frequency\": 1}, \"7896\": {\"value\": 7896, \"frequency\": 2}, \"7897\": {\"value\": 7897, \"frequency\": 3}, \"7898\": {\"value\": 7898, \"frequency\": 1}, \"7900\": {\"value\": 7900, \"frequency\": 8}, \"7901\": {\"value\": 7901, \"frequency\": 1}, \"7902\": {\"value\": 7902, \"frequency\": 3}, \"7903\": {\"value\": 7903, \"frequency\": 2}, \"7904\": {\"value\": 7904, \"frequency\": 7}, \"7905\": {\"value\": 7905, \"frequency\": 1}, \"7906\": {\"value\": 7906, \"frequency\": 2}, \"7910\": {\"value\": 7910, \"frequency\": 6}, \"57063\": {\"value\": 57063, \"frequency\": 6}, \"7912\": {\"value\": 7912, \"frequency\": 4}, \"7913\": {\"value\": 7913, \"frequency\": 1}, \"7914\": {\"value\": 7914, \"frequency\": 1}, \"7916\": {\"value\": 7916, \"frequency\": 3}, \"7917\": {\"value\": 7917, \"frequency\": 1}, \"6781\": {\"value\": 6781, \"frequency\": 1}, \"7920\": {\"value\": 7920, \"frequency\": 25}, \"7923\": {\"value\": 7923, \"frequency\": 2}, \"7924\": {\"value\": 7924, \"frequency\": 2}, \"7927\": {\"value\": 7927, \"frequency\": 1}, \"7928\": {\"value\": 7928, \"frequency\": 2}, \"7929\": {\"value\": 7929, \"frequency\": 1}, \"7930\": {\"value\": 7930, \"frequency\": 9}, \"7931\": {\"value\": 7931, \"frequency\": 2}, \"24318\": {\"value\": 24318, \"frequency\": 1}, \"7936\": {\"value\": 7936, \"frequency\": 6}, \"40705\": {\"value\": 40705, \"frequency\": 1}, \"36817\": {\"value\": 36817, \"frequency\": 1}, \"17707\": {\"value\": 17707, \"frequency\": 2}, \"7941\": {\"value\": 7941, \"frequency\": 2}, \"7942\": {\"value\": 7942, \"frequency\": 2}, \"6163\": {\"value\": 6163, \"frequency\": 1}, \"7944\": {\"value\": 7944, \"frequency\": 2}, \"7945\": {\"value\": 7945, \"frequency\": 3}, \"7947\": {\"value\": 7947, \"frequency\": 3}, \"7950\": {\"value\": 7950, \"frequency\": 8}, \"17709\": {\"value\": 17709, \"frequency\": 1}, \"7952\": {\"value\": 7952, \"frequency\": 2}, \"7953\": {\"value\": 7953, \"frequency\": 3}, \"7955\": {\"value\": 7955, \"frequency\": 2}, \"7956\": {\"value\": 7956, \"frequency\": 2}, \"7957\": {\"value\": 7957, \"frequency\": 4}, \"7958\": {\"value\": 7958, \"frequency\": 3}, \"20441\": {\"value\": 20441, \"frequency\": 1}, \"39000\": {\"value\": 39000, \"frequency\": 2}, \"7961\": {\"value\": 7961, \"frequency\": 2}, \"7962\": {\"value\": 7962, \"frequency\": 1}, \"50479\": {\"value\": 50479, \"frequency\": 1}, \"7964\": {\"value\": 7964, \"frequency\": 2}, \"7965\": {\"value\": 7965, \"frequency\": 4}, \"7969\": {\"value\": 7969, \"frequency\": 3}, \"7972\": {\"value\": 7972, \"frequency\": 2}, \"7973\": {\"value\": 7973, \"frequency\": 2}, \"7975\": {\"value\": 7975, \"frequency\": 3}, \"7977\": {\"value\": 7977, \"frequency\": 1}, \"7980\": {\"value\": 7980, \"frequency\": 18}, \"7982\": {\"value\": 7982, \"frequency\": 2}, \"7983\": {\"value\": 7983, \"frequency\": 1}, \"7984\": {\"value\": 7984, \"frequency\": 2}, \"7986\": {\"value\": 7986, \"frequency\": 2}, \"1331\": {\"value\": 1331, \"frequency\": 2}, \"20446\": {\"value\": 20446, \"frequency\": 1}, \"7991\": {\"value\": 7991, \"frequency\": 2}, \"7992\": {\"value\": 7992, \"frequency\": 5}, \"7995\": {\"value\": 7995, \"frequency\": 3}, \"7998\": {\"value\": 7998, \"frequency\": 2}, \"1333\": {\"value\": 1333, \"frequency\": 2}, \"8000\": {\"value\": 8000, \"frequency\": 76}, \"8001\": {\"value\": 8001, \"frequency\": 3}, \"8004\": {\"value\": 8004, \"frequency\": 3}, \"8005\": {\"value\": 8005, \"frequency\": 3}, \"8006\": {\"value\": 8006, \"frequency\": 1}, \"8008\": {\"value\": 8008, \"frequency\": 2}, \"8009\": {\"value\": 8009, \"frequency\": 2}, \"8010\": {\"value\": 8010, \"frequency\": 2}, \"8011\": {\"value\": 8011, \"frequency\": 1}, \"8015\": {\"value\": 8015, \"frequency\": 2}, \"8018\": {\"value\": 8018, \"frequency\": 2}, \"8022\": {\"value\": 8022, \"frequency\": 3}, \"8023\": {\"value\": 8023, \"frequency\": 1}, \"8025\": {\"value\": 8025, \"frequency\": 3}, \"237402\": {\"value\": 237402, \"frequency\": 2}, \"8027\": {\"value\": 8027, \"frequency\": 2}, \"8028\": {\"value\": 8028, \"frequency\": 2}, \"8029\": {\"value\": 8029, \"frequency\": 2}, \"8030\": {\"value\": 8030, \"frequency\": 5}, \"8034\": {\"value\": 8034, \"frequency\": 3}, \"8036\": {\"value\": 8036, \"frequency\": 4}, \"8038\": {\"value\": 8038, \"frequency\": 1}, \"8039\": {\"value\": 8039, \"frequency\": 1}, \"8040\": {\"value\": 8040, \"frequency\": 15}, \"9532\": {\"value\": 9532, \"frequency\": 1}, \"8043\": {\"value\": 8043, \"frequency\": 2}, \"40816\": {\"value\": 40816, \"frequency\": 1}, \"8049\": {\"value\": 8049, \"frequency\": 4}, \"8050\": {\"value\": 8050, \"frequency\": 16}, \"8051\": {\"value\": 8051, \"frequency\": 1}, \"8055\": {\"value\": 8055, \"frequency\": 2}, \"8056\": {\"value\": 8056, \"frequency\": 3}, \"8057\": {\"value\": 8057, \"frequency\": 2}, \"8058\": {\"value\": 8058, \"frequency\": 4}, \"8060\": {\"value\": 8060, \"frequency\": 4}, \"8062\": {\"value\": 8062, \"frequency\": 2}, \"8063\": {\"value\": 8063, \"frequency\": 3}, \"8064\": {\"value\": 8064, \"frequency\": 5}, \"8065\": {\"value\": 8065, \"frequency\": 4}, \"8067\": {\"value\": 8067, \"frequency\": 2}, \"8068\": {\"value\": 8068, \"frequency\": 1}, \"368517\": {\"value\": 368517, \"frequency\": 1}, \"8072\": {\"value\": 8072, \"frequency\": 2}, \"8073\": {\"value\": 8073, \"frequency\": 3}, \"8075\": {\"value\": 8075, \"frequency\": 6}, \"8076\": {\"value\": 8076, \"frequency\": 4}, \"8078\": {\"value\": 8078, \"frequency\": 2}, \"8080\": {\"value\": 8080, \"frequency\": 1}, \"4078\": {\"value\": 4078, \"frequency\": 1}, \"8086\": {\"value\": 8086, \"frequency\": 4}, \"8088\": {\"value\": 8088, \"frequency\": 2}, \"8089\": {\"value\": 8089, \"frequency\": 1}, \"8091\": {\"value\": 8091, \"frequency\": 2}, \"8092\": {\"value\": 8092, \"frequency\": 2}, \"8093\": {\"value\": 8093, \"frequency\": 3}, \"8095\": {\"value\": 8095, \"frequency\": 3}, \"8097\": {\"value\": 8097, \"frequency\": 2}, \"8098\": {\"value\": 8098, \"frequency\": 2}, \"8100\": {\"value\": 8100, \"frequency\": 72}, \"8101\": {\"value\": 8101, \"frequency\": 1}, \"8102\": {\"value\": 8102, \"frequency\": 5}, \"8103\": {\"value\": 8103, \"frequency\": 1}, \"8106\": {\"value\": 8106, \"frequency\": 1}, \"8107\": {\"value\": 8107, \"frequency\": 2}, \"8108\": {\"value\": 8108, \"frequency\": 2}, \"1361\": {\"value\": 1361, \"frequency\": 3}, \"8111\": {\"value\": 8111, \"frequency\": 3}, \"8112\": {\"value\": 8112, \"frequency\": 2}, \"8113\": {\"value\": 8113, \"frequency\": 3}, \"8114\": {\"value\": 8114, \"frequency\": 5}, \"110579\": {\"value\": 110579, \"frequency\": 1}, \"8116\": {\"value\": 8116, \"frequency\": 4}, \"8117\": {\"value\": 8117, \"frequency\": 2}, \"8118\": {\"value\": 8118, \"frequency\": 3}, \"40887\": {\"value\": 40887, \"frequency\": 1}, \"8120\": {\"value\": 8120, \"frequency\": 6}, \"8122\": {\"value\": 8122, \"frequency\": 2}, \"204732\": {\"value\": 204732, \"frequency\": 1}, \"8125\": {\"value\": 8125, \"frequency\": 9}, \"8126\": {\"value\": 8126, \"frequency\": 3}, \"8127\": {\"value\": 8127, \"frequency\": 2}, \"8128\": {\"value\": 8128, \"frequency\": 1}, \"8130\": {\"value\": 8130, \"frequency\": 3}, \"8131\": {\"value\": 8131, \"frequency\": 2}, \"8132\": {\"value\": 8132, \"frequency\": 1}, \"8134\": {\"value\": 8134, \"frequency\": 2}, \"8136\": {\"value\": 8136, \"frequency\": 4}, \"9548\": {\"value\": 9548, \"frequency\": 2}, \"8138\": {\"value\": 8138, \"frequency\": 2}, \"8140\": {\"value\": 8140, \"frequency\": 6}, \"8142\": {\"value\": 8142, \"frequency\": 3}, \"8144\": {\"value\": 8144, \"frequency\": 2}, \"8145\": {\"value\": 8145, \"frequency\": 3}, \"8147\": {\"value\": 8147, \"frequency\": 4}, \"8148\": {\"value\": 8148, \"frequency\": 3}, \"8149\": {\"value\": 8149, \"frequency\": 6}, \"8150\": {\"value\": 8150, \"frequency\": 2}, \"8151\": {\"value\": 8151, \"frequency\": 2}, \"8153\": {\"value\": 8153, \"frequency\": 2}, \"8154\": {\"value\": 8154, \"frequency\": 2}, \"8155\": {\"value\": 8155, \"frequency\": 3}, \"8157\": {\"value\": 8157, \"frequency\": 1}, \"8158\": {\"value\": 8158, \"frequency\": 3}, \"8159\": {\"value\": 8159, \"frequency\": 2}, \"8160\": {\"value\": 8160, \"frequency\": 19}, \"8162\": {\"value\": 8162, \"frequency\": 3}, \"8163\": {\"value\": 8163, \"frequency\": 4}, \"8164\": {\"value\": 8164, \"frequency\": 4}, \"8165\": {\"value\": 8165, \"frequency\": 5}, \"8167\": {\"value\": 8167, \"frequency\": 2}, \"8169\": {\"value\": 8169, \"frequency\": 2}, \"8170\": {\"value\": 8170, \"frequency\": 3}, \"8171\": {\"value\": 8171, \"frequency\": 2}, \"8173\": {\"value\": 8173, \"frequency\": 3}, \"8174\": {\"value\": 8174, \"frequency\": 3}, \"8175\": {\"value\": 8175, \"frequency\": 4}, \"31400\": {\"value\": 31400, \"frequency\": 1}, \"40946\": {\"value\": 40946, \"frequency\": 4}, \"8182\": {\"value\": 8182, \"frequency\": 3}, \"8183\": {\"value\": 8183, \"frequency\": 1}, \"8184\": {\"value\": 8184, \"frequency\": 7}, \"8185\": {\"value\": 8185, \"frequency\": 1}, \"8187\": {\"value\": 8187, \"frequency\": 3}, \"8188\": {\"value\": 8188, \"frequency\": 2}, \"8190\": {\"value\": 8190, \"frequency\": 9}, \"8192\": {\"value\": 8192, \"frequency\": 1}, \"8193\": {\"value\": 8193, \"frequency\": 1}, \"57346\": {\"value\": 57346, \"frequency\": 1}, \"8195\": {\"value\": 8195, \"frequency\": 2}, \"8200\": {\"value\": 8200, \"frequency\": 11}, \"8201\": {\"value\": 8201, \"frequency\": 2}, \"8203\": {\"value\": 8203, \"frequency\": 1}, \"8208\": {\"value\": 8208, \"frequency\": 4}, \"8215\": {\"value\": 8215, \"frequency\": 4}, \"8219\": {\"value\": 8219, \"frequency\": 1}, \"8220\": {\"value\": 8220, \"frequency\": 6}, \"8223\": {\"value\": 8223, \"frequency\": 4}, \"8225\": {\"value\": 8225, \"frequency\": 3}, \"8227\": {\"value\": 8227, \"frequency\": 3}, \"57381\": {\"value\": 57381, \"frequency\": 1}, \"8230\": {\"value\": 8230, \"frequency\": 3}, \"8232\": {\"value\": 8232, \"frequency\": 2}, \"8234\": {\"value\": 8234, \"frequency\": 4}, \"8235\": {\"value\": 8235, \"frequency\": 2}, \"8236\": {\"value\": 8236, \"frequency\": 1}, \"8239\": {\"value\": 8239, \"frequency\": 3}, \"8240\": {\"value\": 8240, \"frequency\": 8}, \"8245\": {\"value\": 8245, \"frequency\": 1}, \"8247\": {\"value\": 8247, \"frequency\": 1}, \"8248\": {\"value\": 8248, \"frequency\": 1}, \"8249\": {\"value\": 8249, \"frequency\": 1}, \"8250\": {\"value\": 8250, \"frequency\": 34}, \"8251\": {\"value\": 8251, \"frequency\": 2}, \"8252\": {\"value\": 8252, \"frequency\": 3}, \"41022\": {\"value\": 41022, \"frequency\": 1}, \"8255\": {\"value\": 8255, \"frequency\": 2}, \"8256\": {\"value\": 8256, \"frequency\": 2}, \"8261\": {\"value\": 8261, \"frequency\": 3}, \"8262\": {\"value\": 8262, \"frequency\": 1}, \"8263\": {\"value\": 8263, \"frequency\": 1}, \"8266\": {\"value\": 8266, \"frequency\": 2}, \"8268\": {\"value\": 8268, \"frequency\": 2}, \"8270\": {\"value\": 8270, \"frequency\": 2}, \"8272\": {\"value\": 8272, \"frequency\": 2}, \"41041\": {\"value\": 41041, \"frequency\": 1}, \"8276\": {\"value\": 8276, \"frequency\": 4}, \"24663\": {\"value\": 24663, \"frequency\": 1}, \"8280\": {\"value\": 8280, \"frequency\": 7}, \"8281\": {\"value\": 8281, \"frequency\": 4}, \"8282\": {\"value\": 8282, \"frequency\": 4}, \"8284\": {\"value\": 8284, \"frequency\": 4}, \"8287\": {\"value\": 8287, \"frequency\": 2}, \"8288\": {\"value\": 8288, \"frequency\": 1}, \"8289\": {\"value\": 8289, \"frequency\": 1}, \"8290\": {\"value\": 8290, \"frequency\": 4}, \"8291\": {\"value\": 8291, \"frequency\": 1}, \"221284\": {\"value\": 221284, \"frequency\": 1}, \"8295\": {\"value\": 8295, \"frequency\": 1}, \"8296\": {\"value\": 8296, \"frequency\": 3}, \"8298\": {\"value\": 8298, \"frequency\": 1}, \"8300\": {\"value\": 8300, \"frequency\": 6}, \"8301\": {\"value\": 8301, \"frequency\": 5}, \"8302\": {\"value\": 8302, \"frequency\": 1}, \"8303\": {\"value\": 8303, \"frequency\": 3}, \"41072\": {\"value\": 41072, \"frequency\": 1}, \"8306\": {\"value\": 8306, \"frequency\": 2}, \"8307\": {\"value\": 8307, \"frequency\": 2}, \"8308\": {\"value\": 8308, \"frequency\": 5}, \"8311\": {\"value\": 8311, \"frequency\": 1}, \"8313\": {\"value\": 8313, \"frequency\": 2}, \"8314\": {\"value\": 8314, \"frequency\": 2}, \"8315\": {\"value\": 8315, \"frequency\": 2}, \"8316\": {\"value\": 8316, \"frequency\": 9}, \"139392\": {\"value\": 139392, \"frequency\": 2}, \"8321\": {\"value\": 8321, \"frequency\": 2}, \"8322\": {\"value\": 8322, \"frequency\": 1}, \"8325\": {\"value\": 8325, \"frequency\": 5}, \"8327\": {\"value\": 8327, \"frequency\": 2}, \"8329\": {\"value\": 8329, \"frequency\": 2}, \"8331\": {\"value\": 8331, \"frequency\": 2}, \"8335\": {\"value\": 8335, \"frequency\": 1}, \"8336\": {\"value\": 8336, \"frequency\": 4}, \"8338\": {\"value\": 8338, \"frequency\": 2}, \"8340\": {\"value\": 8340, \"frequency\": 2}, \"8341\": {\"value\": 8341, \"frequency\": 1}, \"8342\": {\"value\": 8342, \"frequency\": 3}, \"8346\": {\"value\": 8346, \"frequency\": 2}, \"57499\": {\"value\": 57499, \"frequency\": 7}, \"8350\": {\"value\": 8350, \"frequency\": 1}, \"8352\": {\"value\": 8352, \"frequency\": 1}, \"8353\": {\"value\": 8353, \"frequency\": 1}, \"8354\": {\"value\": 8354, \"frequency\": 2}, \"8355\": {\"value\": 8355, \"frequency\": 1}, \"8360\": {\"value\": 8360, \"frequency\": 3}, \"8361\": {\"value\": 8361, \"frequency\": 1}, \"57514\": {\"value\": 57514, \"frequency\": 1}, \"8364\": {\"value\": 8364, \"frequency\": 5}, \"8366\": {\"value\": 8366, \"frequency\": 4}, \"8370\": {\"value\": 8370, \"frequency\": 4}, \"24755\": {\"value\": 24755, \"frequency\": 1}, \"8372\": {\"value\": 8372, \"frequency\": 4}, \"8374\": {\"value\": 8374, \"frequency\": 2}, \"24759\": {\"value\": 24759, \"frequency\": 1}, \"8376\": {\"value\": 8376, \"frequency\": 2}, \"8378\": {\"value\": 8378, \"frequency\": 5}, \"8379\": {\"value\": 8379, \"frequency\": 2}, \"8380\": {\"value\": 8380, \"frequency\": 1}, \"8382\": {\"value\": 8382, \"frequency\": 4}, \"8384\": {\"value\": 8384, \"frequency\": 6}, \"8385\": {\"value\": 8385, \"frequency\": 2}, \"8387\": {\"value\": 8387, \"frequency\": 1}, \"24773\": {\"value\": 24773, \"frequency\": 1}, \"8390\": {\"value\": 8390, \"frequency\": 2}, \"8391\": {\"value\": 8391, \"frequency\": 2}, \"8392\": {\"value\": 8392, \"frequency\": 2}, \"8395\": {\"value\": 8395, \"frequency\": 4}, \"8396\": {\"value\": 8396, \"frequency\": 1}, \"8398\": {\"value\": 8398, \"frequency\": 2}, \"41167\": {\"value\": 41167, \"frequency\": 1}, \"8400\": {\"value\": 8400, \"frequency\": 111}, \"8401\": {\"value\": 8401, \"frequency\": 3}, \"8402\": {\"value\": 8402, \"frequency\": 2}, \"8403\": {\"value\": 8403, \"frequency\": 1}, \"8404\": {\"value\": 8404, \"frequency\": 3}, \"8406\": {\"value\": 8406, \"frequency\": 1}, \"8407\": {\"value\": 8407, \"frequency\": 1}, \"8409\": {\"value\": 8409, \"frequency\": 2}, \"8410\": {\"value\": 8410, \"frequency\": 6}, \"8412\": {\"value\": 8412, \"frequency\": 4}, \"8414\": {\"value\": 8414, \"frequency\": 3}, \"8415\": {\"value\": 8415, \"frequency\": 2}, \"24800\": {\"value\": 24800, \"frequency\": 1}, \"106722\": {\"value\": 106722, \"frequency\": 2}, \"8423\": {\"value\": 8423, \"frequency\": 2}, \"8424\": {\"value\": 8424, \"frequency\": 8}, \"8426\": {\"value\": 8426, \"frequency\": 3}, \"8428\": {\"value\": 8428, \"frequency\": 1}, \"8429\": {\"value\": 8429, \"frequency\": 2}, \"8430\": {\"value\": 8430, \"frequency\": 1}, \"8432\": {\"value\": 8432, \"frequency\": 4}, \"57587\": {\"value\": 57587, \"frequency\": 1}, \"8436\": {\"value\": 8436, \"frequency\": 3}, \"8437\": {\"value\": 8437, \"frequency\": 1}, \"8438\": {\"value\": 8438, \"frequency\": 3}, \"8440\": {\"value\": 8440, \"frequency\": 2}, \"24825\": {\"value\": 24825, \"frequency\": 1}, \"8442\": {\"value\": 8442, \"frequency\": 6}, \"1407\": {\"value\": 1407, \"frequency\": 5}, \"8444\": {\"value\": 8444, \"frequency\": 1}, \"24829\": {\"value\": 24829, \"frequency\": 2}, \"8446\": {\"value\": 8446, \"frequency\": 1}, \"8447\": {\"value\": 8447, \"frequency\": 2}, \"8448\": {\"value\": 8448, \"frequency\": 6}, \"8449\": {\"value\": 8449, \"frequency\": 3}, \"8450\": {\"value\": 8450, \"frequency\": 14}, \"8451\": {\"value\": 8451, \"frequency\": 3}, \"8453\": {\"value\": 8453, \"frequency\": 1}, \"8454\": {\"value\": 8454, \"frequency\": 2}, \"8455\": {\"value\": 8455, \"frequency\": 1}, \"8457\": {\"value\": 8457, \"frequency\": 1}, \"8458\": {\"value\": 8458, \"frequency\": 3}, \"8459\": {\"value\": 8459, \"frequency\": 2}, \"8460\": {\"value\": 8460, \"frequency\": 2}, \"6872\": {\"value\": 6872, \"frequency\": 2}, \"8467\": {\"value\": 8467, \"frequency\": 2}, \"8468\": {\"value\": 8468, \"frequency\": 1}, \"8469\": {\"value\": 8469, \"frequency\": 2}, \"8470\": {\"value\": 8470, \"frequency\": 13}, \"8471\": {\"value\": 8471, \"frequency\": 1}, \"8474\": {\"value\": 8474, \"frequency\": 3}, \"8475\": {\"value\": 8475, \"frequency\": 4}, \"8476\": {\"value\": 8476, \"frequency\": 2}, \"8479\": {\"value\": 8479, \"frequency\": 1}, \"8480\": {\"value\": 8480, \"frequency\": 7}, \"8481\": {\"value\": 8481, \"frequency\": 2}, \"41250\": {\"value\": 41250, \"frequency\": 2}, \"8484\": {\"value\": 8484, \"frequency\": 1}, \"8487\": {\"value\": 8487, \"frequency\": 3}, \"8490\": {\"value\": 8490, \"frequency\": 2}, \"8491\": {\"value\": 8491, \"frequency\": 2}, \"8494\": {\"value\": 8494, \"frequency\": 3}, \"41263\": {\"value\": 41263, \"frequency\": 1}, \"8497\": {\"value\": 8497, \"frequency\": 1}, \"8498\": {\"value\": 8498, \"frequency\": 3}, \"8499\": {\"value\": 8499, \"frequency\": 2}, \"8500\": {\"value\": 8500, \"frequency\": 19}, \"8501\": {\"value\": 8501, \"frequency\": 3}, \"8503\": {\"value\": 8503, \"frequency\": 1}, \"8504\": {\"value\": 8504, \"frequency\": 8}, \"8505\": {\"value\": 8505, \"frequency\": 14}, \"41275\": {\"value\": 41275, \"frequency\": 1}, \"8509\": {\"value\": 8509, \"frequency\": 3}, \"8510\": {\"value\": 8510, \"frequency\": 2}, \"8511\": {\"value\": 8511, \"frequency\": 2}, \"8512\": {\"value\": 8512, \"frequency\": 4}, \"8514\": {\"value\": 8514, \"frequency\": 2}, \"74052\": {\"value\": 74052, \"frequency\": 4}, \"8517\": {\"value\": 8517, \"frequency\": 1}, \"8518\": {\"value\": 8518, \"frequency\": 3}, \"8519\": {\"value\": 8519, \"frequency\": 2}, \"8520\": {\"value\": 8520, \"frequency\": 6}, \"8521\": {\"value\": 8521, \"frequency\": 3}, \"8526\": {\"value\": 8526, \"frequency\": 2}, \"8528\": {\"value\": 8528, \"frequency\": 5}, \"8529\": {\"value\": 8529, \"frequency\": 2}, \"8530\": {\"value\": 8530, \"frequency\": 2}, \"8532\": {\"value\": 8532, \"frequency\": 2}, \"8534\": {\"value\": 8534, \"frequency\": 1}, \"24920\": {\"value\": 24920, \"frequency\": 1}, \"8540\": {\"value\": 8540, \"frequency\": 8}, \"8541\": {\"value\": 8541, \"frequency\": 2}, \"8544\": {\"value\": 8544, \"frequency\": 2}, \"8545\": {\"value\": 8545, \"frequency\": 3}, \"24931\": {\"value\": 24931, \"frequency\": 1}, \"8548\": {\"value\": 8548, \"frequency\": 3}, \"8549\": {\"value\": 8549, \"frequency\": 3}, \"8550\": {\"value\": 8550, \"frequency\": 6}, \"8555\": {\"value\": 8555, \"frequency\": 2}, \"8556\": {\"value\": 8556, \"frequency\": 3}, \"41325\": {\"value\": 41325, \"frequency\": 1}, \"8558\": {\"value\": 8558, \"frequency\": 3}, \"8560\": {\"value\": 8560, \"frequency\": 11}, \"8561\": {\"value\": 8561, \"frequency\": 1}, \"1427\": {\"value\": 1427, \"frequency\": 1}, \"8564\": {\"value\": 8564, \"frequency\": 2}, \"8565\": {\"value\": 8565, \"frequency\": 1}, \"8570\": {\"value\": 8570, \"frequency\": 3}, \"8571\": {\"value\": 8571, \"frequency\": 4}, \"8572\": {\"value\": 8572, \"frequency\": 3}, \"8573\": {\"value\": 8573, \"frequency\": 2}, \"8576\": {\"value\": 8576, \"frequency\": 2}, \"8577\": {\"value\": 8577, \"frequency\": 1}, \"41346\": {\"value\": 41346, \"frequency\": 1}, \"8579\": {\"value\": 8579, \"frequency\": 2}, \"8580\": {\"value\": 8580, \"frequency\": 19}, \"8581\": {\"value\": 8581, \"frequency\": 3}, \"8584\": {\"value\": 8584, \"frequency\": 2}, \"8585\": {\"value\": 8585, \"frequency\": 1}, \"8586\": {\"value\": 8586, \"frequency\": 1}, \"8588\": {\"value\": 8588, \"frequency\": 1}, \"8592\": {\"value\": 8592, \"frequency\": 2}, \"57745\": {\"value\": 57745, \"frequency\": 1}, \"8600\": {\"value\": 8600, \"frequency\": 7}, \"8601\": {\"value\": 8601, \"frequency\": 3}, \"8603\": {\"value\": 8603, \"frequency\": 1}, \"8610\": {\"value\": 8610, \"frequency\": 5}, \"8611\": {\"value\": 8611, \"frequency\": 2}, \"8612\": {\"value\": 8612, \"frequency\": 2}, \"8613\": {\"value\": 8613, \"frequency\": 2}, \"8615\": {\"value\": 8615, \"frequency\": 1}, \"8616\": {\"value\": 8616, \"frequency\": 1}, \"189852\": {\"value\": 189852, \"frequency\": 1}, \"25002\": {\"value\": 25002, \"frequency\": 1}, \"8620\": {\"value\": 8620, \"frequency\": 1}, \"8621\": {\"value\": 8621, \"frequency\": 2}, \"8622\": {\"value\": 8622, \"frequency\": 4}, \"8624\": {\"value\": 8624, \"frequency\": 2}, \"8625\": {\"value\": 8625, \"frequency\": 17}, \"8626\": {\"value\": 8626, \"frequency\": 1}, \"8628\": {\"value\": 8628, \"frequency\": 2}, \"8629\": {\"value\": 8629, \"frequency\": 1}, \"8630\": {\"value\": 8630, \"frequency\": 2}, \"8631\": {\"value\": 8631, \"frequency\": 2}, \"8632\": {\"value\": 8632, \"frequency\": 2}, \"8636\": {\"value\": 8636, \"frequency\": 8}, \"8640\": {\"value\": 8640, \"frequency\": 16}, \"8641\": {\"value\": 8641, \"frequency\": 2}, \"8642\": {\"value\": 8642, \"frequency\": 3}, \"8645\": {\"value\": 8645, \"frequency\": 8}, \"8648\": {\"value\": 8648, \"frequency\": 1}, \"8653\": {\"value\": 8653, \"frequency\": 3}, \"172497\": {\"value\": 172497, \"frequency\": 1}, \"8658\": {\"value\": 8658, \"frequency\": 2}, \"8659\": {\"value\": 8659, \"frequency\": 2}, \"8660\": {\"value\": 8660, \"frequency\": 2}, \"8661\": {\"value\": 8661, \"frequency\": 2}, \"8662\": {\"value\": 8662, \"frequency\": 1}, \"8663\": {\"value\": 8663, \"frequency\": 1}, \"8666\": {\"value\": 8666, \"frequency\": 2}, \"8667\": {\"value\": 8667, \"frequency\": 3}, \"8670\": {\"value\": 8670, \"frequency\": 2}, \"8676\": {\"value\": 8676, \"frequency\": 2}, \"8677\": {\"value\": 8677, \"frequency\": 1}, \"8678\": {\"value\": 8678, \"frequency\": 1}, \"8679\": {\"value\": 8679, \"frequency\": 1}, \"8680\": {\"value\": 8680, \"frequency\": 6}, \"8681\": {\"value\": 8681, \"frequency\": 1}, \"8682\": {\"value\": 8682, \"frequency\": 3}, \"8683\": {\"value\": 8683, \"frequency\": 1}, \"8684\": {\"value\": 8684, \"frequency\": 2}, \"8685\": {\"value\": 8685, \"frequency\": 3}, \"8686\": {\"value\": 8686, \"frequency\": 2}, \"8688\": {\"value\": 8688, \"frequency\": 1}, \"99752\": {\"value\": 99752, \"frequency\": 2}, \"8690\": {\"value\": 8690, \"frequency\": 5}, \"36947\": {\"value\": 36947, \"frequency\": 1}, \"8694\": {\"value\": 8694, \"frequency\": 1}, \"8697\": {\"value\": 8697, \"frequency\": 2}, \"8698\": {\"value\": 8698, \"frequency\": 2}, \"8700\": {\"value\": 8700, \"frequency\": 15}, \"8701\": {\"value\": 8701, \"frequency\": 2}, \"8702\": {\"value\": 8702, \"frequency\": 1}, \"8706\": {\"value\": 8706, \"frequency\": 3}, \"8708\": {\"value\": 8708, \"frequency\": 1}, \"8709\": {\"value\": 8709, \"frequency\": 2}, \"8710\": {\"value\": 8710, \"frequency\": 7}, \"8711\": {\"value\": 8711, \"frequency\": 2}, \"8712\": {\"value\": 8712, \"frequency\": 7}, \"130680\": {\"value\": 130680, \"frequency\": 2}, \"8717\": {\"value\": 8717, \"frequency\": 1}, \"8719\": {\"value\": 8719, \"frequency\": 1}, \"8720\": {\"value\": 8720, \"frequency\": 3}, \"8721\": {\"value\": 8721, \"frequency\": 2}, \"8722\": {\"value\": 8722, \"frequency\": 2}, \"8725\": {\"value\": 8725, \"frequency\": 2}, \"8726\": {\"value\": 8726, \"frequency\": 2}, \"8729\": {\"value\": 8729, \"frequency\": 1}, \"8732\": {\"value\": 8732, \"frequency\": 1}, \"8734\": {\"value\": 8734, \"frequency\": 3}, \"8736\": {\"value\": 8736, \"frequency\": 1}, \"8737\": {\"value\": 8737, \"frequency\": 3}, \"8738\": {\"value\": 8738, \"frequency\": 3}, \"8740\": {\"value\": 8740, \"frequency\": 2}, \"8744\": {\"value\": 8744, \"frequency\": 1}, \"8746\": {\"value\": 8746, \"frequency\": 1}, \"8748\": {\"value\": 8748, \"frequency\": 1}, \"8749\": {\"value\": 8749, \"frequency\": 1}, \"8750\": {\"value\": 8750, \"frequency\": 19}, \"8755\": {\"value\": 8755, \"frequency\": 5}, \"8760\": {\"value\": 8760, \"frequency\": 5}, \"9652\": {\"value\": 9652, \"frequency\": 6}, \"8763\": {\"value\": 8763, \"frequency\": 2}, \"25150\": {\"value\": 25150, \"frequency\": 1}, \"8767\": {\"value\": 8767, \"frequency\": 3}, \"8770\": {\"value\": 8770, \"frequency\": 2}, \"8771\": {\"value\": 8771, \"frequency\": 1}, \"8773\": {\"value\": 8773, \"frequency\": 1}, \"8775\": {\"value\": 8775, \"frequency\": 14}, \"8778\": {\"value\": 8778, \"frequency\": 3}, \"8779\": {\"value\": 8779, \"frequency\": 1}, \"8780\": {\"value\": 8780, \"frequency\": 1}, \"8784\": {\"value\": 8784, \"frequency\": 1}, \"9656\": {\"value\": 9656, \"frequency\": 6}, \"8786\": {\"value\": 8786, \"frequency\": 3}, \"25175\": {\"value\": 25175, \"frequency\": 1}, \"8792\": {\"value\": 8792, \"frequency\": 2}, \"8793\": {\"value\": 8793, \"frequency\": 1}, \"8797\": {\"value\": 8797, \"frequency\": 3}, \"8798\": {\"value\": 8798, \"frequency\": 1}, \"8800\": {\"value\": 8800, \"frequency\": 42}, \"8801\": {\"value\": 8801, \"frequency\": 1}, \"8809\": {\"value\": 8809, \"frequency\": 1}, \"8811\": {\"value\": 8811, \"frequency\": 1}, \"8813\": {\"value\": 8813, \"frequency\": 2}, \"8814\": {\"value\": 8814, \"frequency\": 2}, \"8816\": {\"value\": 8816, \"frequency\": 2}, \"8817\": {\"value\": 8817, \"frequency\": 3}, \"8819\": {\"value\": 8819, \"frequency\": 1}, \"8820\": {\"value\": 8820, \"frequency\": 12}, \"74358\": {\"value\": 74358, \"frequency\": 1}, \"8823\": {\"value\": 8823, \"frequency\": 1}, \"8827\": {\"value\": 8827, \"frequency\": 1}, \"8828\": {\"value\": 8828, \"frequency\": 1}, \"8829\": {\"value\": 8829, \"frequency\": 1}, \"41600\": {\"value\": 41600, \"frequency\": 1}, \"8834\": {\"value\": 8834, \"frequency\": 1}, \"8835\": {\"value\": 8835, \"frequency\": 1}, \"8837\": {\"value\": 8837, \"frequency\": 2}, \"57990\": {\"value\": 57990, \"frequency\": 1}, \"8840\": {\"value\": 8840, \"frequency\": 5}, \"8841\": {\"value\": 8841, \"frequency\": 1}, \"8846\": {\"value\": 8846, \"frequency\": 1}, \"8848\": {\"value\": 8848, \"frequency\": 2}, \"8850\": {\"value\": 8850, \"frequency\": 3}, \"17859\": {\"value\": 17859, \"frequency\": 4}, \"8853\": {\"value\": 8853, \"frequency\": 3}, \"8854\": {\"value\": 8854, \"frequency\": 1}, \"8856\": {\"value\": 8856, \"frequency\": 5}, \"42436\": {\"value\": 42436, \"frequency\": 1}, \"8858\": {\"value\": 8858, \"frequency\": 1}, \"8860\": {\"value\": 8860, \"frequency\": 1}, \"25245\": {\"value\": 25245, \"frequency\": 1}, \"8862\": {\"value\": 8862, \"frequency\": 2}, \"8863\": {\"value\": 8863, \"frequency\": 2}, \"8864\": {\"value\": 8864, \"frequency\": 1}, \"8865\": {\"value\": 8865, \"frequency\": 2}, \"8866\": {\"value\": 8866, \"frequency\": 1}, \"8867\": {\"value\": 8867, \"frequency\": 3}, \"8868\": {\"value\": 8868, \"frequency\": 2}, \"8872\": {\"value\": 8872, \"frequency\": 1}, \"8874\": {\"value\": 8874, \"frequency\": 3}, \"8875\": {\"value\": 8875, \"frequency\": 3}, \"8876\": {\"value\": 8876, \"frequency\": 2}, \"8879\": {\"value\": 8879, \"frequency\": 3}, \"8880\": {\"value\": 8880, \"frequency\": 2}, \"17864\": {\"value\": 17864, \"frequency\": 1}, \"8882\": {\"value\": 8882, \"frequency\": 1}, \"8886\": {\"value\": 8886, \"frequency\": 2}, \"8887\": {\"value\": 8887, \"frequency\": 1}, \"41656\": {\"value\": 41656, \"frequency\": 1}, \"8890\": {\"value\": 8890, \"frequency\": 3}, \"8891\": {\"value\": 8891, \"frequency\": 1}, \"8892\": {\"value\": 8892, \"frequency\": 2}, \"8893\": {\"value\": 8893, \"frequency\": 2}, \"41664\": {\"value\": 41664, \"frequency\": 1}, \"8897\": {\"value\": 8897, \"frequency\": 2}, \"8900\": {\"value\": 8900, \"frequency\": 4}, \"8901\": {\"value\": 8901, \"frequency\": 1}, \"8904\": {\"value\": 8904, \"frequency\": 1}, \"8906\": {\"value\": 8906, \"frequency\": 7}, \"8909\": {\"value\": 8909, \"frequency\": 2}, \"8910\": {\"value\": 8910, \"frequency\": 9}, \"8913\": {\"value\": 8913, \"frequency\": 2}, \"8914\": {\"value\": 8914, \"frequency\": 1}, \"8917\": {\"value\": 8917, \"frequency\": 1}, \"8919\": {\"value\": 8919, \"frequency\": 1}, \"8920\": {\"value\": 8920, \"frequency\": 2}, \"8921\": {\"value\": 8921, \"frequency\": 2}, \"8924\": {\"value\": 8924, \"frequency\": 2}, \"8925\": {\"value\": 8925, \"frequency\": 13}, \"8930\": {\"value\": 8930, \"frequency\": 1}, \"15142\": {\"value\": 15142, \"frequency\": 1}, \"8935\": {\"value\": 8935, \"frequency\": 1}, \"8936\": {\"value\": 8936, \"frequency\": 2}, \"8937\": {\"value\": 8937, \"frequency\": 2}, \"8938\": {\"value\": 8938, \"frequency\": 2}, \"8941\": {\"value\": 8941, \"frequency\": 2}, \"8944\": {\"value\": 8944, \"frequency\": 2}, \"8947\": {\"value\": 8947, \"frequency\": 2}, \"8950\": {\"value\": 8950, \"frequency\": 2}, \"8951\": {\"value\": 8951, \"frequency\": 1}, \"8955\": {\"value\": 8955, \"frequency\": 2}, \"8956\": {\"value\": 8956, \"frequency\": 1}, \"25341\": {\"value\": 25341, \"frequency\": 1}, \"74495\": {\"value\": 74495, \"frequency\": 1}, \"8960\": {\"value\": 8960, \"frequency\": 12}, \"8961\": {\"value\": 8961, \"frequency\": 1}, \"8967\": {\"value\": 8967, \"frequency\": 1}, \"8968\": {\"value\": 8968, \"frequency\": 4}, \"4663\": {\"value\": 4663, \"frequency\": 1}, \"8970\": {\"value\": 8970, \"frequency\": 6}, \"8971\": {\"value\": 8971, \"frequency\": 1}, \"8976\": {\"value\": 8976, \"frequency\": 4}, \"8980\": {\"value\": 8980, \"frequency\": 1}, \"107290\": {\"value\": 107290, \"frequency\": 1}, \"8990\": {\"value\": 8990, \"frequency\": 3}, \"8991\": {\"value\": 8991, \"frequency\": 2}, \"8993\": {\"value\": 8993, \"frequency\": 1}, \"8994\": {\"value\": 8994, \"frequency\": 2}, \"8996\": {\"value\": 8996, \"frequency\": 2}, \"9000\": {\"value\": 9000, \"frequency\": 93}, \"9001\": {\"value\": 9001, \"frequency\": 2}, \"9002\": {\"value\": 9002, \"frequency\": 2}, \"9003\": {\"value\": 9003, \"frequency\": 3}, \"9005\": {\"value\": 9005, \"frequency\": 1}, \"9009\": {\"value\": 9009, \"frequency\": 2}, \"9010\": {\"value\": 9010, \"frequency\": 3}, \"9011\": {\"value\": 9011, \"frequency\": 1}, \"9012\": {\"value\": 9012, \"frequency\": 1}, \"9015\": {\"value\": 9015, \"frequency\": 3}, \"4119\": {\"value\": 4119, \"frequency\": 1}, \"123710\": {\"value\": 123710, \"frequency\": 2}, \"9023\": {\"value\": 9023, \"frequency\": 2}, \"9024\": {\"value\": 9024, \"frequency\": 1}, \"9025\": {\"value\": 9025, \"frequency\": 1}, \"9030\": {\"value\": 9030, \"frequency\": 5}, \"41800\": {\"value\": 41800, \"frequency\": 1}, \"4236\": {\"value\": 4236, \"frequency\": 1}, \"9035\": {\"value\": 9035, \"frequency\": 2}, \"9040\": {\"value\": 9040, \"frequency\": 3}, \"9041\": {\"value\": 9041, \"frequency\": 3}, \"9044\": {\"value\": 9044, \"frequency\": 2}, \"9045\": {\"value\": 9045, \"frequency\": 2}, \"9048\": {\"value\": 9048, \"frequency\": 2}, \"9049\": {\"value\": 9049, \"frequency\": 1}, \"9050\": {\"value\": 9050, \"frequency\": 1}, \"9053\": {\"value\": 9053, \"frequency\": 2}, \"9055\": {\"value\": 9055, \"frequency\": 2}, \"4240\": {\"value\": 4240, \"frequency\": 13}, \"9058\": {\"value\": 9058, \"frequency\": 1}, \"9065\": {\"value\": 9065, \"frequency\": 2}, \"9066\": {\"value\": 9066, \"frequency\": 2}, \"9067\": {\"value\": 9067, \"frequency\": 1}, \"9072\": {\"value\": 9072, \"frequency\": 5}, \"9075\": {\"value\": 9075, \"frequency\": 4}, \"9077\": {\"value\": 9077, \"frequency\": 2}, \"9078\": {\"value\": 9078, \"frequency\": 1}, \"9079\": {\"value\": 9079, \"frequency\": 1}, \"9081\": {\"value\": 9081, \"frequency\": 1}, \"9083\": {\"value\": 9083, \"frequency\": 3}, \"9084\": {\"value\": 9084, \"frequency\": 2}, \"9085\": {\"value\": 9085, \"frequency\": 3}, \"9086\": {\"value\": 9086, \"frequency\": 2}, \"9087\": {\"value\": 9087, \"frequency\": 3}, \"9088\": {\"value\": 9088, \"frequency\": 2}, \"9090\": {\"value\": 9090, \"frequency\": 2}, \"9091\": {\"value\": 9091, \"frequency\": 1}, \"9095\": {\"value\": 9095, \"frequency\": 1}, \"9097\": {\"value\": 9097, \"frequency\": 2}, \"9099\": {\"value\": 9099, \"frequency\": 2}, \"9100\": {\"value\": 9100, \"frequency\": 16}, \"9102\": {\"value\": 9102, \"frequency\": 3}, \"9103\": {\"value\": 9103, \"frequency\": 1}, \"9104\": {\"value\": 9104, \"frequency\": 1}, \"9112\": {\"value\": 9112, \"frequency\": 6}, \"9115\": {\"value\": 9115, \"frequency\": 1}, \"25500\": {\"value\": 25500, \"frequency\": 2}, \"9119\": {\"value\": 9119, \"frequency\": 1}, \"9120\": {\"value\": 9120, \"frequency\": 7}, \"9123\": {\"value\": 9123, \"frequency\": 1}, \"9125\": {\"value\": 9125, \"frequency\": 2}, \"9126\": {\"value\": 9126, \"frequency\": 4}, \"9130\": {\"value\": 9130, \"frequency\": 3}, \"41900\": {\"value\": 41900, \"frequency\": 1}, \"9133\": {\"value\": 9133, \"frequency\": 1}, \"9134\": {\"value\": 9134, \"frequency\": 2}, \"9135\": {\"value\": 9135, \"frequency\": 6}, \"9136\": {\"value\": 9136, \"frequency\": 3}, \"9137\": {\"value\": 9137, \"frequency\": 1}, \"9138\": {\"value\": 9138, \"frequency\": 1}, \"9139\": {\"value\": 9139, \"frequency\": 2}, \"9140\": {\"value\": 9140, \"frequency\": 3}, \"9143\": {\"value\": 9143, \"frequency\": 2}, \"9145\": {\"value\": 9145, \"frequency\": 2}, \"9146\": {\"value\": 9146, \"frequency\": 2}, \"9147\": {\"value\": 9147, \"frequency\": 5}, \"9148\": {\"value\": 9148, \"frequency\": 2}, \"9150\": {\"value\": 9150, \"frequency\": 7}, \"9153\": {\"value\": 9153, \"frequency\": 2}, \"9154\": {\"value\": 9154, \"frequency\": 1}, \"9155\": {\"value\": 9155, \"frequency\": 1}, \"9157\": {\"value\": 9157, \"frequency\": 2}, \"9158\": {\"value\": 9158, \"frequency\": 2}, \"9160\": {\"value\": 9160, \"frequency\": 2}, \"9162\": {\"value\": 9162, \"frequency\": 2}, \"9163\": {\"value\": 9163, \"frequency\": 7}, \"222156\": {\"value\": 222156, \"frequency\": 2}, \"9165\": {\"value\": 9165, \"frequency\": 1}, \"9170\": {\"value\": 9170, \"frequency\": 3}, \"9176\": {\"value\": 9176, \"frequency\": 2}, \"9177\": {\"value\": 9177, \"frequency\": 1}, \"9180\": {\"value\": 9180, \"frequency\": 3}, \"9182\": {\"value\": 9182, \"frequency\": 2}, \"9187\": {\"value\": 9187, \"frequency\": 2}, \"9188\": {\"value\": 9188, \"frequency\": 1}, \"58341\": {\"value\": 58341, \"frequency\": 1}, \"9191\": {\"value\": 9191, \"frequency\": 1}, \"9192\": {\"value\": 9192, \"frequency\": 1}, \"9194\": {\"value\": 9194, \"frequency\": 1}, \"9195\": {\"value\": 9195, \"frequency\": 3}, \"9196\": {\"value\": 9196, \"frequency\": 1}, \"9198\": {\"value\": 9198, \"frequency\": 3}, \"9199\": {\"value\": 9199, \"frequency\": 2}, \"9200\": {\"value\": 9200, \"frequency\": 13}, \"9202\": {\"value\": 9202, \"frequency\": 2}, \"9205\": {\"value\": 9205, \"frequency\": 2}, \"9206\": {\"value\": 9206, \"frequency\": 1}, \"9207\": {\"value\": 9207, \"frequency\": 1}, \"9209\": {\"value\": 9209, \"frequency\": 2}, \"9210\": {\"value\": 9210, \"frequency\": 3}, \"9211\": {\"value\": 9211, \"frequency\": 2}, \"9215\": {\"value\": 9215, \"frequency\": 1}, \"9216\": {\"value\": 9216, \"frequency\": 3}, \"9219\": {\"value\": 9219, \"frequency\": 1}, \"9220\": {\"value\": 9220, \"frequency\": 3}, \"9223\": {\"value\": 9223, \"frequency\": 1}, \"9225\": {\"value\": 9225, \"frequency\": 7}, \"9226\": {\"value\": 9226, \"frequency\": 2}, \"9730\": {\"value\": 9730, \"frequency\": 3}, \"9230\": {\"value\": 9230, \"frequency\": 2}, \"9231\": {\"value\": 9231, \"frequency\": 2}, \"42000\": {\"value\": 42000, \"frequency\": 1}, \"39768\": {\"value\": 39768, \"frequency\": 1}, \"9234\": {\"value\": 9234, \"frequency\": 2}, \"9235\": {\"value\": 9235, \"frequency\": 2}, \"9238\": {\"value\": 9238, \"frequency\": 3}, \"9239\": {\"value\": 9239, \"frequency\": 3}, \"9240\": {\"value\": 9240, \"frequency\": 12}, \"9241\": {\"value\": 9241, \"frequency\": 1}, \"9242\": {\"value\": 9242, \"frequency\": 1}, \"9244\": {\"value\": 9244, \"frequency\": 2}, \"9247\": {\"value\": 9247, \"frequency\": 2}, \"9248\": {\"value\": 9248, \"frequency\": 4}, \"9250\": {\"value\": 9250, \"frequency\": 4}, \"9253\": {\"value\": 9253, \"frequency\": 2}, \"25641\": {\"value\": 25641, \"frequency\": 1}, \"9261\": {\"value\": 9261, \"frequency\": 2}, \"189486\": {\"value\": 189486, \"frequency\": 3}, \"9263\": {\"value\": 9263, \"frequency\": 2}, \"9266\": {\"value\": 9266, \"frequency\": 2}, \"9268\": {\"value\": 9268, \"frequency\": 1}, \"9270\": {\"value\": 9270, \"frequency\": 3}, \"9272\": {\"value\": 9272, \"frequency\": 2}, \"9273\": {\"value\": 9273, \"frequency\": 4}, \"9276\": {\"value\": 9276, \"frequency\": 1}, \"25661\": {\"value\": 25661, \"frequency\": 1}, \"9282\": {\"value\": 9282, \"frequency\": 5}, \"9288\": {\"value\": 9288, \"frequency\": 2}, \"107593\": {\"value\": 107593, \"frequency\": 1}, \"9292\": {\"value\": 9292, \"frequency\": 2}, \"9295\": {\"value\": 9295, \"frequency\": 1}, \"9296\": {\"value\": 9296, \"frequency\": 1}, \"9298\": {\"value\": 9298, \"frequency\": 1}, \"9299\": {\"value\": 9299, \"frequency\": 1}, \"9300\": {\"value\": 9300, \"frequency\": 11}, \"9301\": {\"value\": 9301, \"frequency\": 2}, \"9307\": {\"value\": 9307, \"frequency\": 1}, \"9309\": {\"value\": 9309, \"frequency\": 1}, \"9310\": {\"value\": 9310, \"frequency\": 3}, \"9312\": {\"value\": 9312, \"frequency\": 2}, \"9313\": {\"value\": 9313, \"frequency\": 1}, \"9314\": {\"value\": 9314, \"frequency\": 2}, \"9315\": {\"value\": 9315, \"frequency\": 4}, \"25700\": {\"value\": 25700, \"frequency\": 1}, \"9318\": {\"value\": 9318, \"frequency\": 1}, \"9320\": {\"value\": 9320, \"frequency\": 2}, \"9322\": {\"value\": 9322, \"frequency\": 2}, \"9323\": {\"value\": 9323, \"frequency\": 2}, \"9324\": {\"value\": 9324, \"frequency\": 1}, \"9328\": {\"value\": 9328, \"frequency\": 3}, \"25714\": {\"value\": 25714, \"frequency\": 1}, \"9331\": {\"value\": 9331, \"frequency\": 1}, \"9333\": {\"value\": 9333, \"frequency\": 1}, \"9339\": {\"value\": 9339, \"frequency\": 2}, \"9342\": {\"value\": 9342, \"frequency\": 1}, \"9344\": {\"value\": 9344, \"frequency\": 1}, \"12480\": {\"value\": 12480, \"frequency\": 2}, \"9346\": {\"value\": 9346, \"frequency\": 2}, \"25732\": {\"value\": 25732, \"frequency\": 1}, \"9349\": {\"value\": 9349, \"frequency\": 1}, \"9350\": {\"value\": 9350, \"frequency\": 11}, \"9351\": {\"value\": 9351, \"frequency\": 1}, \"9353\": {\"value\": 9353, \"frequency\": 1}, \"9354\": {\"value\": 9354, \"frequency\": 2}, \"4290\": {\"value\": 4290, \"frequency\": 6}, \"9359\": {\"value\": 9359, \"frequency\": 1}, \"9360\": {\"value\": 9360, \"frequency\": 10}, \"9361\": {\"value\": 9361, \"frequency\": 1}, \"9362\": {\"value\": 9362, \"frequency\": 3}, \"9364\": {\"value\": 9364, \"frequency\": 2}, \"9367\": {\"value\": 9367, \"frequency\": 1}, \"25752\": {\"value\": 25752, \"frequency\": 1}, \"9370\": {\"value\": 9370, \"frequency\": 3}, \"9373\": {\"value\": 9373, \"frequency\": 2}, \"9374\": {\"value\": 9374, \"frequency\": 4}, \"9375\": {\"value\": 9375, \"frequency\": 11}, \"9377\": {\"value\": 9377, \"frequency\": 2}, \"9378\": {\"value\": 9378, \"frequency\": 1}, \"9380\": {\"value\": 9380, \"frequency\": 5}, \"9384\": {\"value\": 9384, \"frequency\": 2}, \"9385\": {\"value\": 9385, \"frequency\": 2}, \"9389\": {\"value\": 9389, \"frequency\": 2}, \"9391\": {\"value\": 9391, \"frequency\": 2}, \"9396\": {\"value\": 9396, \"frequency\": 1}, \"9397\": {\"value\": 9397, \"frequency\": 1}, \"9400\": {\"value\": 9400, \"frequency\": 8}, \"9401\": {\"value\": 9401, \"frequency\": 1}, \"9403\": {\"value\": 9403, \"frequency\": 2}, \"9409\": {\"value\": 9409, \"frequency\": 1}, \"42180\": {\"value\": 42180, \"frequency\": 2}, \"9414\": {\"value\": 9414, \"frequency\": 2}, \"9415\": {\"value\": 9415, \"frequency\": 2}, \"9416\": {\"value\": 9416, \"frequency\": 2}, \"9417\": {\"value\": 9417, \"frequency\": 3}, \"9420\": {\"value\": 9420, \"frequency\": 2}, \"20685\": {\"value\": 20685, \"frequency\": 1}, \"9425\": {\"value\": 9425, \"frequency\": 3}, \"9426\": {\"value\": 9426, \"frequency\": 2}, \"9427\": {\"value\": 9427, \"frequency\": 2}, \"9430\": {\"value\": 9430, \"frequency\": 2}, \"42200\": {\"value\": 42200, \"frequency\": 1}, \"9435\": {\"value\": 9435, \"frequency\": 2}, \"9436\": {\"value\": 9436, \"frequency\": 1}, \"9440\": {\"value\": 9440, \"frequency\": 2}, \"9448\": {\"value\": 9448, \"frequency\": 2}, \"9450\": {\"value\": 9450, \"frequency\": 19}, \"9451\": {\"value\": 9451, \"frequency\": 2}, \"9452\": {\"value\": 9452, \"frequency\": 2}, \"9453\": {\"value\": 9453, \"frequency\": 2}, \"9460\": {\"value\": 9460, \"frequency\": 6}, \"9464\": {\"value\": 9464, \"frequency\": 1}, \"9465\": {\"value\": 9465, \"frequency\": 2}, \"9466\": {\"value\": 9466, \"frequency\": 2}, \"9467\": {\"value\": 9467, \"frequency\": 1}, \"9471\": {\"value\": 9471, \"frequency\": 2}, \"9472\": {\"value\": 9472, \"frequency\": 2}, \"9473\": {\"value\": 9473, \"frequency\": 3}, \"9477\": {\"value\": 9477, \"frequency\": 2}, \"9478\": {\"value\": 9478, \"frequency\": 1}, \"9480\": {\"value\": 9480, \"frequency\": 6}, \"9484\": {\"value\": 9484, \"frequency\": 2}, \"42253\": {\"value\": 42253, \"frequency\": 1}, \"9486\": {\"value\": 9486, \"frequency\": 3}, \"9487\": {\"value\": 9487, \"frequency\": 1}, \"9488\": {\"value\": 9488, \"frequency\": 3}, \"9492\": {\"value\": 9492, \"frequency\": 2}, \"9493\": {\"value\": 9493, \"frequency\": 1}, \"9496\": {\"value\": 9496, \"frequency\": 1}, \"9497\": {\"value\": 9497, \"frequency\": 3}, \"9500\": {\"value\": 9500, \"frequency\": 14}, \"9503\": {\"value\": 9503, \"frequency\": 1}, \"9505\": {\"value\": 9505, \"frequency\": 1}, \"9512\": {\"value\": 9512, \"frequency\": 2}, \"9514\": {\"value\": 9514, \"frequency\": 3}, \"9516\": {\"value\": 9516, \"frequency\": 3}, \"9517\": {\"value\": 9517, \"frequency\": 2}, \"9519\": {\"value\": 9519, \"frequency\": 3}, \"9520\": {\"value\": 9520, \"frequency\": 8}, \"9523\": {\"value\": 9523, \"frequency\": 2}, \"9525\": {\"value\": 9525, \"frequency\": 11}, \"9526\": {\"value\": 9526, \"frequency\": 1}, \"9527\": {\"value\": 9527, \"frequency\": 2}, \"9528\": {\"value\": 9528, \"frequency\": 2}, \"9529\": {\"value\": 9529, \"frequency\": 2}, \"9530\": {\"value\": 9530, \"frequency\": 1}, \"156988\": {\"value\": 156988, \"frequency\": 1}, \"9535\": {\"value\": 9535, \"frequency\": 2}, \"9537\": {\"value\": 9537, \"frequency\": 1}, \"9538\": {\"value\": 9538, \"frequency\": 1}, \"9540\": {\"value\": 9540, \"frequency\": 3}, \"9542\": {\"value\": 9542, \"frequency\": 2}, \"9545\": {\"value\": 9545, \"frequency\": 2}, \"9546\": {\"value\": 9546, \"frequency\": 2}, \"9547\": {\"value\": 9547, \"frequency\": 2}, \"42316\": {\"value\": 42316, \"frequency\": 1}, \"9549\": {\"value\": 9549, \"frequency\": 2}, \"9550\": {\"value\": 9550, \"frequency\": 3}, \"9552\": {\"value\": 9552, \"frequency\": 1}, \"9554\": {\"value\": 9554, \"frequency\": 1}, \"9555\": {\"value\": 9555, \"frequency\": 1}, \"91476\": {\"value\": 91476, \"frequency\": 2}, \"9557\": {\"value\": 9557, \"frequency\": 1}, \"58712\": {\"value\": 58712, \"frequency\": 1}, \"9563\": {\"value\": 9563, \"frequency\": 2}, \"9565\": {\"value\": 9565, \"frequency\": 1}, \"9566\": {\"value\": 9566, \"frequency\": 3}, \"9567\": {\"value\": 9567, \"frequency\": 1}, \"9568\": {\"value\": 9568, \"frequency\": 2}, \"9569\": {\"value\": 9569, \"frequency\": 1}, \"9570\": {\"value\": 9570, \"frequency\": 4}, \"9571\": {\"value\": 9571, \"frequency\": 1}, \"25958\": {\"value\": 25958, \"frequency\": 1}, \"9576\": {\"value\": 9576, \"frequency\": 5}, \"9578\": {\"value\": 9578, \"frequency\": 1}, \"9579\": {\"value\": 9579, \"frequency\": 3}, \"9580\": {\"value\": 9580, \"frequency\": 2}, \"9583\": {\"value\": 9583, \"frequency\": 9}, \"9585\": {\"value\": 9585, \"frequency\": 1}, \"9586\": {\"value\": 9586, \"frequency\": 1}, \"9588\": {\"value\": 9588, \"frequency\": 3}, \"9592\": {\"value\": 9592, \"frequency\": 1}, \"9593\": {\"value\": 9593, \"frequency\": 1}, \"9594\": {\"value\": 9594, \"frequency\": 2}, \"75132\": {\"value\": 75132, \"frequency\": 1}, \"9597\": {\"value\": 9597, \"frequency\": 2}, \"9598\": {\"value\": 9598, \"frequency\": 2}, \"9599\": {\"value\": 9599, \"frequency\": 3}, \"9600\": {\"value\": 9600, \"frequency\": 109}, \"9601\": {\"value\": 9601, \"frequency\": 6}, \"9602\": {\"value\": 9602, \"frequency\": 2}, \"9603\": {\"value\": 9603, \"frequency\": 6}, \"9604\": {\"value\": 9604, \"frequency\": 2}, \"9605\": {\"value\": 9605, \"frequency\": 4}, \"9606\": {\"value\": 9606, \"frequency\": 4}, \"9608\": {\"value\": 9608, \"frequency\": 2}, \"9610\": {\"value\": 9610, \"frequency\": 4}, \"9611\": {\"value\": 9611, \"frequency\": 2}, \"9612\": {\"value\": 9612, \"frequency\": 7}, \"9614\": {\"value\": 9614, \"frequency\": 3}, \"435600\": {\"value\": 435600, \"frequency\": 6}, \"9620\": {\"value\": 9620, \"frequency\": 7}, \"320917\": {\"value\": 320917, \"frequency\": 1}, \"9622\": {\"value\": 9622, \"frequency\": 2}, \"9623\": {\"value\": 9623, \"frequency\": 2}, \"9624\": {\"value\": 9624, \"frequency\": 5}, \"9625\": {\"value\": 9625, \"frequency\": 3}, \"9627\": {\"value\": 9627, \"frequency\": 2}, \"9628\": {\"value\": 9628, \"frequency\": 2}, \"9629\": {\"value\": 9629, \"frequency\": 4}, \"9630\": {\"value\": 9630, \"frequency\": 5}, \"42399\": {\"value\": 42399, \"frequency\": 1}, \"9633\": {\"value\": 9633, \"frequency\": 1}, \"9635\": {\"value\": 9635, \"frequency\": 2}, \"9636\": {\"value\": 9636, \"frequency\": 4}, \"9638\": {\"value\": 9638, \"frequency\": 4}, \"9639\": {\"value\": 9639, \"frequency\": 2}, \"9643\": {\"value\": 9643, \"frequency\": 3}, \"9644\": {\"value\": 9644, \"frequency\": 1}, \"9645\": {\"value\": 9645, \"frequency\": 3}, \"9646\": {\"value\": 9646, \"frequency\": 1}, \"9647\": {\"value\": 9647, \"frequency\": 2}, \"9648\": {\"value\": 9648, \"frequency\": 3}, \"9650\": {\"value\": 9650, \"frequency\": 3}, \"26036\": {\"value\": 26036, \"frequency\": 1}, \"9653\": {\"value\": 9653, \"frequency\": 4}, \"9654\": {\"value\": 9654, \"frequency\": 2}, \"9655\": {\"value\": 9655, \"frequency\": 2}, \"26040\": {\"value\": 26040, \"frequency\": 1}, \"9658\": {\"value\": 9658, \"frequency\": 1}, \"9660\": {\"value\": 9660, \"frequency\": 4}, \"9663\": {\"value\": 9663, \"frequency\": 2}, \"9665\": {\"value\": 9665, \"frequency\": 1}, \"26051\": {\"value\": 26051, \"frequency\": 1}, \"9668\": {\"value\": 9668, \"frequency\": 2}, \"12534\": {\"value\": 12534, \"frequency\": 1}, \"9670\": {\"value\": 9670, \"frequency\": 2}, \"26055\": {\"value\": 26055, \"frequency\": 1}, \"9672\": {\"value\": 9672, \"frequency\": 4}, \"99916\": {\"value\": 99916, \"frequency\": 1}, \"9674\": {\"value\": 9674, \"frequency\": 2}, \"9675\": {\"value\": 9675, \"frequency\": 3}, \"9676\": {\"value\": 9676, \"frequency\": 1}, \"9678\": {\"value\": 9678, \"frequency\": 1}, \"9679\": {\"value\": 9679, \"frequency\": 1}, \"9680\": {\"value\": 9680, \"frequency\": 10}, \"9681\": {\"value\": 9681, \"frequency\": 1}, \"9682\": {\"value\": 9682, \"frequency\": 3}, \"9684\": {\"value\": 9684, \"frequency\": 2}, \"9685\": {\"value\": 9685, \"frequency\": 1}, \"9686\": {\"value\": 9686, \"frequency\": 2}, \"9687\": {\"value\": 9687, \"frequency\": 3}, \"9689\": {\"value\": 9689, \"frequency\": 2}, \"9690\": {\"value\": 9690, \"frequency\": 5}, \"9694\": {\"value\": 9694, \"frequency\": 1}, \"9696\": {\"value\": 9696, \"frequency\": 2}, \"9697\": {\"value\": 9697, \"frequency\": 3}, \"9700\": {\"value\": 9700, \"frequency\": 2}, \"9701\": {\"value\": 9701, \"frequency\": 3}, \"9702\": {\"value\": 9702, \"frequency\": 2}, \"9703\": {\"value\": 9703, \"frequency\": 2}, \"9704\": {\"value\": 9704, \"frequency\": 1}, \"9705\": {\"value\": 9705, \"frequency\": 2}, \"9706\": {\"value\": 9706, \"frequency\": 2}, \"9708\": {\"value\": 9708, \"frequency\": 1}, \"9711\": {\"value\": 9711, \"frequency\": 3}, \"7080\": {\"value\": 7080, \"frequency\": 7}, \"9714\": {\"value\": 9714, \"frequency\": 3}, \"9715\": {\"value\": 9715, \"frequency\": 3}, \"4350\": {\"value\": 4350, \"frequency\": 7}, \"9719\": {\"value\": 9719, \"frequency\": 3}, \"9720\": {\"value\": 9720, \"frequency\": 12}, \"42580\": {\"value\": 42580, \"frequency\": 1}, \"9725\": {\"value\": 9725, \"frequency\": 3}, \"9727\": {\"value\": 9727, \"frequency\": 2}, \"9729\": {\"value\": 9729, \"frequency\": 1}, \"26114\": {\"value\": 26114, \"frequency\": 1}, \"9732\": {\"value\": 9732, \"frequency\": 3}, \"9736\": {\"value\": 9736, \"frequency\": 3}, \"9737\": {\"value\": 9737, \"frequency\": 1}, \"9740\": {\"value\": 9740, \"frequency\": 1}, \"9743\": {\"value\": 9743, \"frequency\": 2}, \"9747\": {\"value\": 9747, \"frequency\": 2}, \"9748\": {\"value\": 9748, \"frequency\": 3}, \"9750\": {\"value\": 9750, \"frequency\": 43}, \"9751\": {\"value\": 9751, \"frequency\": 2}, \"9752\": {\"value\": 9752, \"frequency\": 5}, \"9753\": {\"value\": 9753, \"frequency\": 4}, \"9760\": {\"value\": 9760, \"frequency\": 6}, \"91681\": {\"value\": 91681, \"frequency\": 1}, \"9764\": {\"value\": 9764, \"frequency\": 2}, \"9765\": {\"value\": 9765, \"frequency\": 1}, \"9769\": {\"value\": 9769, \"frequency\": 1}, \"9773\": {\"value\": 9773, \"frequency\": 2}, \"9774\": {\"value\": 9774, \"frequency\": 2}, \"9775\": {\"value\": 9775, \"frequency\": 10}, \"9778\": {\"value\": 9778, \"frequency\": 2}, \"9779\": {\"value\": 9779, \"frequency\": 3}, \"9780\": {\"value\": 9780, \"frequency\": 4}, \"9781\": {\"value\": 9781, \"frequency\": 1}, \"9784\": {\"value\": 9784, \"frequency\": 2}, \"9786\": {\"value\": 9786, \"frequency\": 3}, \"9791\": {\"value\": 9791, \"frequency\": 1}, \"9792\": {\"value\": 9792, \"frequency\": 2}, \"9793\": {\"value\": 9793, \"frequency\": 2}, \"9794\": {\"value\": 9794, \"frequency\": 1}, \"9796\": {\"value\": 9796, \"frequency\": 2}, \"9798\": {\"value\": 9798, \"frequency\": 3}, \"9800\": {\"value\": 9800, \"frequency\": 20}, \"9804\": {\"value\": 9804, \"frequency\": 4}, \"9806\": {\"value\": 9806, \"frequency\": 1}, \"9812\": {\"value\": 9812, \"frequency\": 4}, \"9813\": {\"value\": 9813, \"frequency\": 1}, \"9816\": {\"value\": 9816, \"frequency\": 1}, \"9822\": {\"value\": 9822, \"frequency\": 3}, \"9824\": {\"value\": 9824, \"frequency\": 2}, \"9825\": {\"value\": 9825, \"frequency\": 9}, \"9826\": {\"value\": 9826, \"frequency\": 2}, \"9827\": {\"value\": 9827, \"frequency\": 5}, \"9828\": {\"value\": 9828, \"frequency\": 2}, \"9830\": {\"value\": 9830, \"frequency\": 3}, \"9838\": {\"value\": 9838, \"frequency\": 1}, \"9839\": {\"value\": 9839, \"frequency\": 1}, \"9840\": {\"value\": 9840, \"frequency\": 5}, \"9844\": {\"value\": 9844, \"frequency\": 1}, \"9846\": {\"value\": 9846, \"frequency\": 1}, \"9847\": {\"value\": 9847, \"frequency\": 2}, \"9848\": {\"value\": 9848, \"frequency\": 3}, \"9850\": {\"value\": 9850, \"frequency\": 1}, \"9855\": {\"value\": 9855, \"frequency\": 2}, \"9856\": {\"value\": 9856, \"frequency\": 3}, \"23488\": {\"value\": 23488, \"frequency\": 1}, \"7105\": {\"value\": 7105, \"frequency\": 1}, \"9864\": {\"value\": 9864, \"frequency\": 2}, \"206474\": {\"value\": 206474, \"frequency\": 2}, \"4375\": {\"value\": 4375, \"frequency\": 2}, \"9869\": {\"value\": 9869, \"frequency\": 2}, \"9870\": {\"value\": 9870, \"frequency\": 3}, \"9871\": {\"value\": 9871, \"frequency\": 1}, \"206480\": {\"value\": 206480, \"frequency\": 1}, \"9874\": {\"value\": 9874, \"frequency\": 3}, \"9875\": {\"value\": 9875, \"frequency\": 3}, \"9876\": {\"value\": 9876, \"frequency\": 1}, \"9877\": {\"value\": 9877, \"frequency\": 2}, \"9879\": {\"value\": 9879, \"frequency\": 2}, \"9880\": {\"value\": 9880, \"frequency\": 4}, \"9882\": {\"value\": 9882, \"frequency\": 2}, \"9886\": {\"value\": 9886, \"frequency\": 3}, \"9887\": {\"value\": 9887, \"frequency\": 2}, \"9888\": {\"value\": 9888, \"frequency\": 1}, \"9889\": {\"value\": 9889, \"frequency\": 2}, \"9892\": {\"value\": 9892, \"frequency\": 1}, \"9897\": {\"value\": 9897, \"frequency\": 2}, \"9898\": {\"value\": 9898, \"frequency\": 3}, \"105415\": {\"value\": 105415, \"frequency\": 1}, \"9900\": {\"value\": 9900, \"frequency\": 29}, \"1650\": {\"value\": 1650, \"frequency\": 3}, \"9903\": {\"value\": 9903, \"frequency\": 1}, \"9904\": {\"value\": 9904, \"frequency\": 1}, \"59058\": {\"value\": 59058, \"frequency\": 1}, \"9907\": {\"value\": 9907, \"frequency\": 2}, \"9908\": {\"value\": 9908, \"frequency\": 1}, \"9912\": {\"value\": 9912, \"frequency\": 2}, \"9914\": {\"value\": 9914, \"frequency\": 2}, \"9915\": {\"value\": 9915, \"frequency\": 1}, \"26300\": {\"value\": 26300, \"frequency\": 1}, \"9917\": {\"value\": 9917, \"frequency\": 1}, \"9920\": {\"value\": 9920, \"frequency\": 6}, \"9921\": {\"value\": 9921, \"frequency\": 2}, \"9926\": {\"value\": 9926, \"frequency\": 2}, \"9935\": {\"value\": 9935, \"frequency\": 2}, \"9936\": {\"value\": 9936, \"frequency\": 2}, \"9938\": {\"value\": 9938, \"frequency\": 2}, \"26326\": {\"value\": 26326, \"frequency\": 1}, \"9948\": {\"value\": 9948, \"frequency\": 2}, \"1658\": {\"value\": 1658, \"frequency\": 1}, \"9950\": {\"value\": 9950, \"frequency\": 2}, \"9952\": {\"value\": 9952, \"frequency\": 1}, \"26337\": {\"value\": 26337, \"frequency\": 1}, \"9954\": {\"value\": 9954, \"frequency\": 1}, \"9956\": {\"value\": 9956, \"frequency\": 1}, \"9957\": {\"value\": 9957, \"frequency\": 3}, \"9959\": {\"value\": 9959, \"frequency\": 1}, \"9960\": {\"value\": 9960, \"frequency\": 2}, \"9964\": {\"value\": 9964, \"frequency\": 1}, \"42733\": {\"value\": 42733, \"frequency\": 2}, \"9966\": {\"value\": 9966, \"frequency\": 2}, \"9969\": {\"value\": 9969, \"frequency\": 1}, \"9972\": {\"value\": 9972, \"frequency\": 4}, \"9975\": {\"value\": 9975, \"frequency\": 4}, \"9976\": {\"value\": 9976, \"frequency\": 1}, \"9984\": {\"value\": 9984, \"frequency\": 1}, \"501376\": {\"value\": 501376, \"frequency\": 1}, \"9990\": {\"value\": 9990, \"frequency\": 5}, \"91911\": {\"value\": 91911, \"frequency\": 2}, \"9993\": {\"value\": 9993, \"frequency\": 1}, \"9994\": {\"value\": 9994, \"frequency\": 3}, \"9996\": {\"value\": 9996, \"frequency\": 2}, \"9997\": {\"value\": 9997, \"frequency\": 2}, \"9998\": {\"value\": 9998, \"frequency\": 1}, \"10000\": {\"value\": 10000, \"frequency\": 46}, \"42769\": {\"value\": 42769, \"frequency\": 1}, \"10002\": {\"value\": 10002, \"frequency\": 1}, \"10003\": {\"value\": 10003, \"frequency\": 2}, \"10005\": {\"value\": 10005, \"frequency\": 7}, \"42775\": {\"value\": 42775, \"frequency\": 1}, \"10016\": {\"value\": 10016, \"frequency\": 2}, \"10018\": {\"value\": 10018, \"frequency\": 7}, \"10021\": {\"value\": 10021, \"frequency\": 1}, \"10022\": {\"value\": 10022, \"frequency\": 1}, \"10023\": {\"value\": 10023, \"frequency\": 2}, \"10026\": {\"value\": 10026, \"frequency\": 2}, \"10030\": {\"value\": 10030, \"frequency\": 2}, \"10031\": {\"value\": 10031, \"frequency\": 2}, \"10032\": {\"value\": 10032, \"frequency\": 3}, \"10035\": {\"value\": 10035, \"frequency\": 2}, \"10037\": {\"value\": 10037, \"frequency\": 1}, \"10043\": {\"value\": 10043, \"frequency\": 2}, \"10047\": {\"value\": 10047, \"frequency\": 1}, \"10049\": {\"value\": 10049, \"frequency\": 1}, \"10050\": {\"value\": 10050, \"frequency\": 11}, \"10051\": {\"value\": 10051, \"frequency\": 4}, \"10052\": {\"value\": 10052, \"frequency\": 2}, \"10061\": {\"value\": 10061, \"frequency\": 1}, \"10062\": {\"value\": 10062, \"frequency\": 2}, \"10064\": {\"value\": 10064, \"frequency\": 3}, \"10070\": {\"value\": 10070, \"frequency\": 2}, \"10074\": {\"value\": 10074, \"frequency\": 1}, \"10075\": {\"value\": 10075, \"frequency\": 2}, \"26460\": {\"value\": 26460, \"frequency\": 1}, \"10078\": {\"value\": 10078, \"frequency\": 3}, \"10079\": {\"value\": 10079, \"frequency\": 4}, \"10080\": {\"value\": 10080, \"frequency\": 9}, \"10083\": {\"value\": 10083, \"frequency\": 1}, \"10086\": {\"value\": 10086, \"frequency\": 2}, \"59241\": {\"value\": 59241, \"frequency\": 1}, \"59242\": {\"value\": 59242, \"frequency\": 1}, \"10092\": {\"value\": 10092, \"frequency\": 2}, \"10094\": {\"value\": 10094, \"frequency\": 2}, \"10096\": {\"value\": 10096, \"frequency\": 1}, \"10098\": {\"value\": 10098, \"frequency\": 2}, \"10100\": {\"value\": 10100, \"frequency\": 4}, \"26487\": {\"value\": 26487, \"frequency\": 1}, \"10105\": {\"value\": 10105, \"frequency\": 1}, \"10109\": {\"value\": 10109, \"frequency\": 1}, \"10111\": {\"value\": 10111, \"frequency\": 2}, \"10112\": {\"value\": 10112, \"frequency\": 1}, \"10115\": {\"value\": 10115, \"frequency\": 2}, \"26500\": {\"value\": 26500, \"frequency\": 2}, \"10117\": {\"value\": 10117, \"frequency\": 3}, \"10119\": {\"value\": 10119, \"frequency\": 1}, \"10120\": {\"value\": 10120, \"frequency\": 2}, \"10122\": {\"value\": 10122, \"frequency\": 1}, \"10123\": {\"value\": 10123, \"frequency\": 1}, \"10125\": {\"value\": 10125, \"frequency\": 25}, \"10126\": {\"value\": 10126, \"frequency\": 2}, \"50529\": {\"value\": 50529, \"frequency\": 2}, \"190357\": {\"value\": 190357, \"frequency\": 1}, \"10136\": {\"value\": 10136, \"frequency\": 2}, \"10137\": {\"value\": 10137, \"frequency\": 3}, \"10139\": {\"value\": 10139, \"frequency\": 2}, \"10140\": {\"value\": 10140, \"frequency\": 5}, \"403365\": {\"value\": 403365, \"frequency\": 1}, \"10150\": {\"value\": 10150, \"frequency\": 4}, \"10152\": {\"value\": 10152, \"frequency\": 2}, \"10155\": {\"value\": 10155, \"frequency\": 4}, \"10160\": {\"value\": 10160, \"frequency\": 7}, \"10165\": {\"value\": 10165, \"frequency\": 1}, \"10168\": {\"value\": 10168, \"frequency\": 1}, \"10170\": {\"value\": 10170, \"frequency\": 2}, \"10171\": {\"value\": 10171, \"frequency\": 1}, \"4426\": {\"value\": 4426, \"frequency\": 1}, \"10175\": {\"value\": 10175, \"frequency\": 1}, \"10176\": {\"value\": 10176, \"frequency\": 2}, \"10179\": {\"value\": 10179, \"frequency\": 2}, \"10181\": {\"value\": 10181, \"frequency\": 1}, \"10182\": {\"value\": 10182, \"frequency\": 2}, \"10183\": {\"value\": 10183, \"frequency\": 5}, \"10184\": {\"value\": 10184, \"frequency\": 1}, \"10185\": {\"value\": 10185, \"frequency\": 1}, \"10186\": {\"value\": 10186, \"frequency\": 2}, \"10187\": {\"value\": 10187, \"frequency\": 1}, \"10189\": {\"value\": 10189, \"frequency\": 3}, \"10190\": {\"value\": 10190, \"frequency\": 3}, \"10192\": {\"value\": 10192, \"frequency\": 1}, \"10196\": {\"value\": 10196, \"frequency\": 2}, \"10200\": {\"value\": 10200, \"frequency\": 30}, \"10202\": {\"value\": 10202, \"frequency\": 5}, \"10204\": {\"value\": 10204, \"frequency\": 1}, \"10205\": {\"value\": 10205, \"frequency\": 1}, \"10210\": {\"value\": 10210, \"frequency\": 1}, \"10212\": {\"value\": 10212, \"frequency\": 2}, \"10215\": {\"value\": 10215, \"frequency\": 3}, \"10221\": {\"value\": 10221, \"frequency\": 2}, \"10223\": {\"value\": 10223, \"frequency\": 2}, \"10225\": {\"value\": 10225, \"frequency\": 1}, \"10227\": {\"value\": 10227, \"frequency\": 3}, \"10228\": {\"value\": 10228, \"frequency\": 1}, \"10229\": {\"value\": 10229, \"frequency\": 2}, \"42998\": {\"value\": 42998, \"frequency\": 1}, \"79993\": {\"value\": 79993, \"frequency\": 1}, \"10235\": {\"value\": 10235, \"frequency\": 1}, \"10236\": {\"value\": 10236, \"frequency\": 1}, \"10240\": {\"value\": 10240, \"frequency\": 6}, \"10244\": {\"value\": 10244, \"frequency\": 1}, \"10245\": {\"value\": 10245, \"frequency\": 2}, \"10246\": {\"value\": 10246, \"frequency\": 1}, \"10247\": {\"value\": 10247, \"frequency\": 1}, \"10248\": {\"value\": 10248, \"frequency\": 2}, \"43017\": {\"value\": 43017, \"frequency\": 1}, \"10250\": {\"value\": 10250, \"frequency\": 4}, \"9901\": {\"value\": 9901, \"frequency\": 1}, \"10256\": {\"value\": 10256, \"frequency\": 1}, \"10257\": {\"value\": 10257, \"frequency\": 1}, \"75794\": {\"value\": 75794, \"frequency\": 3}, \"10259\": {\"value\": 10259, \"frequency\": 1}, \"10260\": {\"value\": 10260, \"frequency\": 8}, \"10270\": {\"value\": 10270, \"frequency\": 3}, \"10271\": {\"value\": 10271, \"frequency\": 1}, \"10275\": {\"value\": 10275, \"frequency\": 4}, \"10277\": {\"value\": 10277, \"frequency\": 2}, \"10280\": {\"value\": 10280, \"frequency\": 2}, \"10281\": {\"value\": 10281, \"frequency\": 1}, \"10289\": {\"value\": 10289, \"frequency\": 2}, \"10290\": {\"value\": 10290, \"frequency\": 3}, \"10291\": {\"value\": 10291, \"frequency\": 2}, \"10292\": {\"value\": 10292, \"frequency\": 3}, \"10296\": {\"value\": 10296, \"frequency\": 3}, \"10297\": {\"value\": 10297, \"frequency\": 2}, \"10299\": {\"value\": 10299, \"frequency\": 1}, \"10300\": {\"value\": 10300, \"frequency\": 11}, \"206910\": {\"value\": 206910, \"frequency\": 2}, \"10306\": {\"value\": 10306, \"frequency\": 1}, \"10308\": {\"value\": 10308, \"frequency\": 2}, \"10312\": {\"value\": 10312, \"frequency\": 1}, \"10317\": {\"value\": 10317, \"frequency\": 1}, \"10319\": {\"value\": 10319, \"frequency\": 3}, \"43088\": {\"value\": 43088, \"frequency\": 1}, \"10321\": {\"value\": 10321, \"frequency\": 1}, \"10323\": {\"value\": 10323, \"frequency\": 1}, \"10327\": {\"value\": 10327, \"frequency\": 2}, \"10330\": {\"value\": 10330, \"frequency\": 3}, \"10331\": {\"value\": 10331, \"frequency\": 1}, \"43101\": {\"value\": 43101, \"frequency\": 1}, \"10335\": {\"value\": 10335, \"frequency\": 3}, \"10336\": {\"value\": 10336, \"frequency\": 2}, \"7184\": {\"value\": 7184, \"frequency\": 4}, \"10341\": {\"value\": 10341, \"frequency\": 1}, \"9916\": {\"value\": 9916, \"frequency\": 4}, \"10350\": {\"value\": 10350, \"frequency\": 13}, \"10351\": {\"value\": 10351, \"frequency\": 1}, \"75889\": {\"value\": 75889, \"frequency\": 1}, \"43123\": {\"value\": 43123, \"frequency\": 1}, \"43124\": {\"value\": 43124, \"frequency\": 2}, \"10358\": {\"value\": 10358, \"frequency\": 3}, \"10359\": {\"value\": 10359, \"frequency\": 1}, \"10360\": {\"value\": 10360, \"frequency\": 4}, \"10361\": {\"value\": 10361, \"frequency\": 2}, \"10362\": {\"value\": 10362, \"frequency\": 1}, \"10367\": {\"value\": 10367, \"frequency\": 1}, \"10368\": {\"value\": 10368, \"frequency\": 2}, \"10369\": {\"value\": 10369, \"frequency\": 2}, \"10370\": {\"value\": 10370, \"frequency\": 2}, \"10372\": {\"value\": 10372, \"frequency\": 1}, \"10375\": {\"value\": 10375, \"frequency\": 4}, \"10379\": {\"value\": 10379, \"frequency\": 1}, \"1730\": {\"value\": 1730, \"frequency\": 2}, \"10382\": {\"value\": 10382, \"frequency\": 1}, \"10384\": {\"value\": 10384, \"frequency\": 2}, \"223377\": {\"value\": 223377, \"frequency\": 1}, \"10392\": {\"value\": 10392, \"frequency\": 1}, \"10395\": {\"value\": 10395, \"frequency\": 1}, \"26784\": {\"value\": 26784, \"frequency\": 1}, \"10403\": {\"value\": 10403, \"frequency\": 3}, \"10404\": {\"value\": 10404, \"frequency\": 2}, \"10409\": {\"value\": 10409, \"frequency\": 2}, \"10410\": {\"value\": 10410, \"frequency\": 1}, \"10414\": {\"value\": 10414, \"frequency\": 1}, \"10416\": {\"value\": 10416, \"frequency\": 3}, \"157875\": {\"value\": 157875, \"frequency\": 1}, \"10422\": {\"value\": 10422, \"frequency\": 1}, \"10423\": {\"value\": 10423, \"frequency\": 3}, \"10424\": {\"value\": 10424, \"frequency\": 2}, \"10425\": {\"value\": 10425, \"frequency\": 1}, \"10426\": {\"value\": 10426, \"frequency\": 2}, \"92347\": {\"value\": 92347, \"frequency\": 2}, \"10428\": {\"value\": 10428, \"frequency\": 1}, \"10431\": {\"value\": 10431, \"frequency\": 1}, \"10433\": {\"value\": 10433, \"frequency\": 1}, \"59586\": {\"value\": 59586, \"frequency\": 1}, \"10440\": {\"value\": 10440, \"frequency\": 4}, \"10443\": {\"value\": 10443, \"frequency\": 1}, \"10447\": {\"value\": 10447, \"frequency\": 1}, \"43216\": {\"value\": 43216, \"frequency\": 1}, \"10450\": {\"value\": 10450, \"frequency\": 9}, \"10451\": {\"value\": 10451, \"frequency\": 1}, \"10454\": {\"value\": 10454, \"frequency\": 8}, \"10455\": {\"value\": 10455, \"frequency\": 3}, \"10459\": {\"value\": 10459, \"frequency\": 2}, \"10460\": {\"value\": 10460, \"frequency\": 2}, \"10463\": {\"value\": 10463, \"frequency\": 1}, \"10464\": {\"value\": 10464, \"frequency\": 3}, \"223462\": {\"value\": 223462, \"frequency\": 3}, \"34513\": {\"value\": 34513, \"frequency\": 1}, \"53628\": {\"value\": 53628, \"frequency\": 1}, \"10474\": {\"value\": 10474, \"frequency\": 1}, \"7207\": {\"value\": 7207, \"frequency\": 5}, \"10477\": {\"value\": 10477, \"frequency\": 1}, \"26862\": {\"value\": 26862, \"frequency\": 1}, \"10480\": {\"value\": 10480, \"frequency\": 3}, \"10481\": {\"value\": 10481, \"frequency\": 2}, \"7209\": {\"value\": 7209, \"frequency\": 4}, \"10488\": {\"value\": 10488, \"frequency\": 3}, \"10489\": {\"value\": 10489, \"frequency\": 2}, \"10490\": {\"value\": 10490, \"frequency\": 2}, \"10491\": {\"value\": 10491, \"frequency\": 1}, \"10492\": {\"value\": 10492, \"frequency\": 2}, \"10500\": {\"value\": 10500, \"frequency\": 31}, \"10501\": {\"value\": 10501, \"frequency\": 1}, \"10505\": {\"value\": 10505, \"frequency\": 2}, \"10506\": {\"value\": 10506, \"frequency\": 1}, \"10507\": {\"value\": 10507, \"frequency\": 1}, \"10510\": {\"value\": 10510, \"frequency\": 1}, \"10513\": {\"value\": 10513, \"frequency\": 2}, \"10514\": {\"value\": 10514, \"frequency\": 1}, \"10517\": {\"value\": 10517, \"frequency\": 1}, \"10519\": {\"value\": 10519, \"frequency\": 2}, \"10521\": {\"value\": 10521, \"frequency\": 2}, \"10523\": {\"value\": 10523, \"frequency\": 2}, \"59677\": {\"value\": 59677, \"frequency\": 4}, \"10530\": {\"value\": 10530, \"frequency\": 6}, \"10532\": {\"value\": 10532, \"frequency\": 1}, \"20870\": {\"value\": 20870, \"frequency\": 1}, \"10534\": {\"value\": 10534, \"frequency\": 1}, \"10536\": {\"value\": 10536, \"frequency\": 1}, \"10541\": {\"value\": 10541, \"frequency\": 1}, \"10542\": {\"value\": 10542, \"frequency\": 1}, \"10545\": {\"value\": 10545, \"frequency\": 1}, \"10548\": {\"value\": 10548, \"frequency\": 2}, \"10550\": {\"value\": 10550, \"frequency\": 2}, \"10560\": {\"value\": 10560, \"frequency\": 2}, \"18144\": {\"value\": 18144, \"frequency\": 1}, \"43332\": {\"value\": 43332, \"frequency\": 1}, \"9953\": {\"value\": 9953, \"frequency\": 1}, \"10572\": {\"value\": 10572, \"frequency\": 2}, \"10573\": {\"value\": 10573, \"frequency\": 2}, \"10574\": {\"value\": 10574, \"frequency\": 2}, \"10575\": {\"value\": 10575, \"frequency\": 2}, \"10576\": {\"value\": 10576, \"frequency\": 3}, \"10577\": {\"value\": 10577, \"frequency\": 1}, \"10578\": {\"value\": 10578, \"frequency\": 2}, \"10583\": {\"value\": 10583, \"frequency\": 2}, \"10584\": {\"value\": 10584, \"frequency\": 4}, \"10585\": {\"value\": 10585, \"frequency\": 2}, \"10588\": {\"value\": 10588, \"frequency\": 4}, \"10590\": {\"value\": 10590, \"frequency\": 1}, \"37264\": {\"value\": 37264, \"frequency\": 1}, \"108900\": {\"value\": 108900, \"frequency\": 8}, \"4497\": {\"value\": 4497, \"frequency\": 2}, \"10600\": {\"value\": 10600, \"frequency\": 2}, \"10603\": {\"value\": 10603, \"frequency\": 2}, \"26989\": {\"value\": 26989, \"frequency\": 1}, \"10608\": {\"value\": 10608, \"frequency\": 2}, \"43377\": {\"value\": 43377, \"frequency\": 1}, \"10613\": {\"value\": 10613, \"frequency\": 1}, \"10615\": {\"value\": 10615, \"frequency\": 1}, \"43386\": {\"value\": 43386, \"frequency\": 1}, \"27003\": {\"value\": 27003, \"frequency\": 1}, \"10620\": {\"value\": 10620, \"frequency\": 1}, \"27007\": {\"value\": 27007, \"frequency\": 3}, \"10625\": {\"value\": 10625, \"frequency\": 4}, \"10628\": {\"value\": 10628, \"frequency\": 1}, \"10630\": {\"value\": 10630, \"frequency\": 1}, \"10637\": {\"value\": 10637, \"frequency\": 2}, \"10639\": {\"value\": 10639, \"frequency\": 1}, \"10640\": {\"value\": 10640, \"frequency\": 2}, \"10642\": {\"value\": 10642, \"frequency\": 1}, \"10648\": {\"value\": 10648, \"frequency\": 1}, \"10650\": {\"value\": 10650, \"frequency\": 5}, \"10655\": {\"value\": 10655, \"frequency\": 2}, \"10656\": {\"value\": 10656, \"frequency\": 1}, \"27042\": {\"value\": 27042, \"frequency\": 1}, \"10660\": {\"value\": 10660, \"frequency\": 3}, \"10661\": {\"value\": 10661, \"frequency\": 1}, \"37169\": {\"value\": 37169, \"frequency\": 1}, \"10664\": {\"value\": 10664, \"frequency\": 1}, \"10666\": {\"value\": 10666, \"frequency\": 1}, \"4510\": {\"value\": 4510, \"frequency\": 2}, \"23625\": {\"value\": 23625, \"frequency\": 1}, \"10685\": {\"value\": 10685, \"frequency\": 1}, \"10687\": {\"value\": 10687, \"frequency\": 1}, \"27072\": {\"value\": 27072, \"frequency\": 1}, \"10689\": {\"value\": 10689, \"frequency\": 1}, \"76230\": {\"value\": 76230, \"frequency\": 2}, \"10696\": {\"value\": 10696, \"frequency\": 1}, \"10697\": {\"value\": 10697, \"frequency\": 1}, \"26359\": {\"value\": 26359, \"frequency\": 1}, \"10701\": {\"value\": 10701, \"frequency\": 1}, \"10702\": {\"value\": 10702, \"frequency\": 1}, \"10703\": {\"value\": 10703, \"frequency\": 1}, \"10707\": {\"value\": 10707, \"frequency\": 1}, \"9673\": {\"value\": 9673, \"frequency\": 1}, \"40014\": {\"value\": 40014, \"frequency\": 1}, \"10710\": {\"value\": 10710, \"frequency\": 2}, \"10711\": {\"value\": 10711, \"frequency\": 1}, \"10716\": {\"value\": 10716, \"frequency\": 2}, \"10720\": {\"value\": 10720, \"frequency\": 7}, \"10722\": {\"value\": 10722, \"frequency\": 1}, \"10723\": {\"value\": 10723, \"frequency\": 5}, \"10725\": {\"value\": 10725, \"frequency\": 3}, \"10726\": {\"value\": 10726, \"frequency\": 4}, \"10730\": {\"value\": 10730, \"frequency\": 2}, \"10731\": {\"value\": 10731, \"frequency\": 1}, \"10733\": {\"value\": 10733, \"frequency\": 2}, \"207346\": {\"value\": 207346, \"frequency\": 1}, \"10739\": {\"value\": 10739, \"frequency\": 2}, \"10744\": {\"value\": 10744, \"frequency\": 2}, \"7252\": {\"value\": 7252, \"frequency\": 3}, \"10750\": {\"value\": 10750, \"frequency\": 2}, \"10752\": {\"value\": 10752, \"frequency\": 2}, \"10753\": {\"value\": 10753, \"frequency\": 1}, \"10754\": {\"value\": 10754, \"frequency\": 2}, \"10757\": {\"value\": 10757, \"frequency\": 3}, \"10760\": {\"value\": 10760, \"frequency\": 2}, \"10762\": {\"value\": 10762, \"frequency\": 2}, \"10763\": {\"value\": 10763, \"frequency\": 2}, \"10764\": {\"value\": 10764, \"frequency\": 1}, \"10766\": {\"value\": 10766, \"frequency\": 3}, \"10769\": {\"value\": 10769, \"frequency\": 1}, \"26000\": {\"value\": 26000, \"frequency\": 2}, \"10780\": {\"value\": 10780, \"frequency\": 2}, \"43560\": {\"value\": 43560, \"frequency\": 21}, \"10794\": {\"value\": 10794, \"frequency\": 3}, \"10796\": {\"value\": 10796, \"frequency\": 2}, \"10798\": {\"value\": 10798, \"frequency\": 2}, \"10800\": {\"value\": 10800, \"frequency\": 44}, \"1800\": {\"value\": 1800, \"frequency\": 9}, \"43575\": {\"value\": 43575, \"frequency\": 1}, \"20917\": {\"value\": 20917, \"frequency\": 1}, \"10816\": {\"value\": 10816, \"frequency\": 2}, \"10819\": {\"value\": 10819, \"frequency\": 2}, \"10824\": {\"value\": 10824, \"frequency\": 1}, \"10827\": {\"value\": 10827, \"frequency\": 2}, \"27215\": {\"value\": 27215, \"frequency\": 1}, \"10841\": {\"value\": 10841, \"frequency\": 1}, \"10843\": {\"value\": 10843, \"frequency\": 1}, \"10844\": {\"value\": 10844, \"frequency\": 1}, \"10850\": {\"value\": 10850, \"frequency\": 3}, \"387684\": {\"value\": 387684, \"frequency\": 1}, \"10853\": {\"value\": 10853, \"frequency\": 1}, \"10855\": {\"value\": 10855, \"frequency\": 1}, \"10860\": {\"value\": 10860, \"frequency\": 3}, \"10866\": {\"value\": 10866, \"frequency\": 2}, \"10869\": {\"value\": 10869, \"frequency\": 1}, \"10873\": {\"value\": 10873, \"frequency\": 1}, \"10875\": {\"value\": 10875, \"frequency\": 8}, \"27260\": {\"value\": 27260, \"frequency\": 1}, \"43645\": {\"value\": 43645, \"frequency\": 1}, \"43647\": {\"value\": 43647, \"frequency\": 1}, \"10880\": {\"value\": 10880, \"frequency\": 6}, \"10881\": {\"value\": 10881, \"frequency\": 1}, \"10890\": {\"value\": 10890, \"frequency\": 9}, \"10891\": {\"value\": 10891, \"frequency\": 1}, \"10893\": {\"value\": 10893, \"frequency\": 1}, \"10900\": {\"value\": 10900, \"frequency\": 4}, \"10905\": {\"value\": 10905, \"frequency\": 1}, \"10911\": {\"value\": 10911, \"frequency\": 1}, \"10914\": {\"value\": 10914, \"frequency\": 1}, \"10920\": {\"value\": 10920, \"frequency\": 9}, \"10925\": {\"value\": 10925, \"frequency\": 3}, \"27311\": {\"value\": 27311, \"frequency\": 1}, \"10928\": {\"value\": 10928, \"frequency\": 1}, \"10929\": {\"value\": 10929, \"frequency\": 2}, \"105587\": {\"value\": 105587, \"frequency\": 1}, \"43700\": {\"value\": 43700, \"frequency\": 1}, \"10935\": {\"value\": 10935, \"frequency\": 1}, \"43710\": {\"value\": 43710, \"frequency\": 1}, \"10943\": {\"value\": 10943, \"frequency\": 1}, \"10945\": {\"value\": 10945, \"frequency\": 1}, \"10946\": {\"value\": 10946, \"frequency\": 1}, \"10948\": {\"value\": 10948, \"frequency\": 1}, \"10949\": {\"value\": 10949, \"frequency\": 1}, \"10950\": {\"value\": 10950, \"frequency\": 4}, \"10951\": {\"value\": 10951, \"frequency\": 1}, \"10954\": {\"value\": 10954, \"frequency\": 2}, \"10956\": {\"value\": 10956, \"frequency\": 2}, \"10958\": {\"value\": 10958, \"frequency\": 1}, \"10960\": {\"value\": 10960, \"frequency\": 3}, \"10962\": {\"value\": 10962, \"frequency\": 3}, \"43733\": {\"value\": 43733, \"frequency\": 1}, \"10968\": {\"value\": 10968, \"frequency\": 3}, \"10969\": {\"value\": 10969, \"frequency\": 1}, \"10970\": {\"value\": 10970, \"frequency\": 1}, \"60123\": {\"value\": 60123, \"frequency\": 1}, \"10983\": {\"value\": 10983, \"frequency\": 1}, \"10986\": {\"value\": 10986, \"frequency\": 1}, \"11000\": {\"value\": 11000, \"frequency\": 12}, \"9289\": {\"value\": 9289, \"frequency\": 1}, \"191228\": {\"value\": 191228, \"frequency\": 1}, \"23680\": {\"value\": 23680, \"frequency\": 1}, \"11010\": {\"value\": 11010, \"frequency\": 1}, \"11012\": {\"value\": 11012, \"frequency\": 1}, \"11017\": {\"value\": 11017, \"frequency\": 1}, \"11018\": {\"value\": 11018, \"frequency\": 1}, \"11019\": {\"value\": 11019, \"frequency\": 1}, \"11025\": {\"value\": 11025, \"frequency\": 1}, \"11026\": {\"value\": 11026, \"frequency\": 1}, \"11824\": {\"value\": 11824, \"frequency\": 2}, \"109336\": {\"value\": 109336, \"frequency\": 1}, \"11034\": {\"value\": 11034, \"frequency\": 3}, \"11040\": {\"value\": 11040, \"frequency\": 3}, \"11041\": {\"value\": 11041, \"frequency\": 2}, \"27427\": {\"value\": 27427, \"frequency\": 1}, \"11044\": {\"value\": 11044, \"frequency\": 1}, \"11049\": {\"value\": 11049, \"frequency\": 2}, \"11050\": {\"value\": 11050, \"frequency\": 5}, \"43821\": {\"value\": 43821, \"frequency\": 1}, \"11054\": {\"value\": 11054, \"frequency\": 2}, \"11056\": {\"value\": 11056, \"frequency\": 2}, \"27441\": {\"value\": 27441, \"frequency\": 2}, \"11060\": {\"value\": 11060, \"frequency\": 4}, \"11070\": {\"value\": 11070, \"frequency\": 4}, \"11072\": {\"value\": 11072, \"frequency\": 1}, \"43847\": {\"value\": 43847, \"frequency\": 1}, \"11080\": {\"value\": 11080, \"frequency\": 1}, \"11086\": {\"value\": 11086, \"frequency\": 1}, \"11090\": {\"value\": 11090, \"frequency\": 2}, \"11092\": {\"value\": 11092, \"frequency\": 1}, \"11096\": {\"value\": 11096, \"frequency\": 2}, \"11098\": {\"value\": 11098, \"frequency\": 1}, \"11100\": {\"value\": 11100, \"frequency\": 7}, \"158558\": {\"value\": 158558, \"frequency\": 2}, \"11108\": {\"value\": 11108, \"frequency\": 2}, \"11111\": {\"value\": 11111, \"frequency\": 2}, \"11118\": {\"value\": 11118, \"frequency\": 1}, \"11120\": {\"value\": 11120, \"frequency\": 4}, \"76665\": {\"value\": 76665, \"frequency\": 2}, \"11130\": {\"value\": 11130, \"frequency\": 2}, \"11132\": {\"value\": 11132, \"frequency\": 1}, \"11137\": {\"value\": 11137, \"frequency\": 1}, \"12779\": {\"value\": 12779, \"frequency\": 1}, \"11141\": {\"value\": 11141, \"frequency\": 1}, \"27540\": {\"value\": 27540, \"frequency\": 1}, \"11160\": {\"value\": 11160, \"frequency\": 1}, \"11165\": {\"value\": 11165, \"frequency\": 3}, \"11171\": {\"value\": 11171, \"frequency\": 2}, \"11172\": {\"value\": 11172, \"frequency\": 2}, \"11173\": {\"value\": 11173, \"frequency\": 2}, \"11175\": {\"value\": 11175, \"frequency\": 1}, \"11180\": {\"value\": 11180, \"frequency\": 5}, \"43950\": {\"value\": 43950, \"frequency\": 1}, \"37363\": {\"value\": 37363, \"frequency\": 1}, \"11189\": {\"value\": 11189, \"frequency\": 1}, \"11193\": {\"value\": 11193, \"frequency\": 3}, \"11198\": {\"value\": 11198, \"frequency\": 1}, \"11200\": {\"value\": 11200, \"frequency\": 21}, \"11201\": {\"value\": 11201, \"frequency\": 2}, \"27586\": {\"value\": 27586, \"frequency\": 1}, \"11204\": {\"value\": 11204, \"frequency\": 1}, \"11205\": {\"value\": 11205, \"frequency\": 2}, \"27591\": {\"value\": 27591, \"frequency\": 1}, \"11210\": {\"value\": 11210, \"frequency\": 2}, \"40098\": {\"value\": 40098, \"frequency\": 1}, \"11214\": {\"value\": 11214, \"frequency\": 3}, \"11220\": {\"value\": 11220, \"frequency\": 1}, \"11224\": {\"value\": 11224, \"frequency\": 1}, \"11225\": {\"value\": 11225, \"frequency\": 3}, \"43995\": {\"value\": 43995, \"frequency\": 6}, \"11230\": {\"value\": 11230, \"frequency\": 1}, \"11233\": {\"value\": 11233, \"frequency\": 1}, \"11234\": {\"value\": 11234, \"frequency\": 3}, \"17832\": {\"value\": 17832, \"frequency\": 1}, \"11240\": {\"value\": 11240, \"frequency\": 2}, \"11242\": {\"value\": 11242, \"frequency\": 1}, \"11245\": {\"value\": 11245, \"frequency\": 1}, \"27631\": {\"value\": 27631, \"frequency\": 1}, \"11249\": {\"value\": 11249, \"frequency\": 1}, \"11250\": {\"value\": 11250, \"frequency\": 24}, \"11254\": {\"value\": 11254, \"frequency\": 1}, \"40106\": {\"value\": 40106, \"frequency\": 1}, \"11276\": {\"value\": 11276, \"frequency\": 1}, \"11287\": {\"value\": 11287, \"frequency\": 1}, \"93218\": {\"value\": 93218, \"frequency\": 2}, \"11300\": {\"value\": 11300, \"frequency\": 1}, \"11305\": {\"value\": 11305, \"frequency\": 2}, \"11307\": {\"value\": 11307, \"frequency\": 1}, \"11310\": {\"value\": 11310, \"frequency\": 1}, \"11312\": {\"value\": 11312, \"frequency\": 1}, \"60467\": {\"value\": 60467, \"frequency\": 1}, \"27702\": {\"value\": 27702, \"frequency\": 1}, \"11319\": {\"value\": 11319, \"frequency\": 1}, \"1468\": {\"value\": 1468, \"frequency\": 2}, \"11325\": {\"value\": 11325, \"frequency\": 7}, \"11331\": {\"value\": 11331, \"frequency\": 1}, \"7350\": {\"value\": 7350, \"frequency\": 64}, \"11334\": {\"value\": 11334, \"frequency\": 1}, \"11337\": {\"value\": 11337, \"frequency\": 1}, \"11340\": {\"value\": 11340, \"frequency\": 11}, \"224334\": {\"value\": 224334, \"frequency\": 1}, \"11343\": {\"value\": 11343, \"frequency\": 1}, \"11349\": {\"value\": 11349, \"frequency\": 1}, \"11350\": {\"value\": 11350, \"frequency\": 3}, \"11356\": {\"value\": 11356, \"frequency\": 1}, \"11360\": {\"value\": 11360, \"frequency\": 1}, \"11364\": {\"value\": 11364, \"frequency\": 1}, \"11370\": {\"value\": 11370, \"frequency\": 1}, \"11371\": {\"value\": 11371, \"frequency\": 1}, \"11375\": {\"value\": 11375, \"frequency\": 4}, \"11380\": {\"value\": 11380, \"frequency\": 2}, \"11383\": {\"value\": 11383, \"frequency\": 1}, \"10090\": {\"value\": 10090, \"frequency\": 1}, \"11390\": {\"value\": 11390, \"frequency\": 1}, \"11393\": {\"value\": 11393, \"frequency\": 3}, \"60548\": {\"value\": 60548, \"frequency\": 3}, \"11400\": {\"value\": 11400, \"frequency\": 10}, \"11403\": {\"value\": 11403, \"frequency\": 1}, \"11407\": {\"value\": 11407, \"frequency\": 2}, \"11410\": {\"value\": 11410, \"frequency\": 2}, \"11411\": {\"value\": 11411, \"frequency\": 1}, \"273556\": {\"value\": 273556, \"frequency\": 2}, \"11413\": {\"value\": 11413, \"frequency\": 1}, \"11422\": {\"value\": 11422, \"frequency\": 2}, \"11424\": {\"value\": 11424, \"frequency\": 1}, \"11430\": {\"value\": 11430, \"frequency\": 2}, \"27820\": {\"value\": 27820, \"frequency\": 1}, \"11440\": {\"value\": 11440, \"frequency\": 3}, \"11444\": {\"value\": 11444, \"frequency\": 1}, \"11448\": {\"value\": 11448, \"frequency\": 2}, \"16748\": {\"value\": 16748, \"frequency\": 1}, \"224442\": {\"value\": 224442, \"frequency\": 2}, \"11452\": {\"value\": 11452, \"frequency\": 1}, \"11453\": {\"value\": 11453, \"frequency\": 1}, \"11454\": {\"value\": 11454, \"frequency\": 3}, \"11455\": {\"value\": 11455, \"frequency\": 2}, \"11456\": {\"value\": 11456, \"frequency\": 1}, \"11457\": {\"value\": 11457, \"frequency\": 1}, \"40139\": {\"value\": 40139, \"frequency\": 1}, \"11466\": {\"value\": 11466, \"frequency\": 2}, \"11468\": {\"value\": 11468, \"frequency\": 1}, \"11470\": {\"value\": 11470, \"frequency\": 1}, \"34680\": {\"value\": 34680, \"frequency\": 1}, \"11475\": {\"value\": 11475, \"frequency\": 4}, \"11479\": {\"value\": 11479, \"frequency\": 1}, \"11480\": {\"value\": 11480, \"frequency\": 2}, \"11481\": {\"value\": 11481, \"frequency\": 2}, \"11500\": {\"value\": 11500, \"frequency\": 10}, \"89298\": {\"value\": 89298, \"frequency\": 4}, \"11505\": {\"value\": 11505, \"frequency\": 2}, \"11511\": {\"value\": 11511, \"frequency\": 1}, \"11520\": {\"value\": 11520, \"frequency\": 4}, \"1920\": {\"value\": 1920, \"frequency\": 3}, \"11523\": {\"value\": 11523, \"frequency\": 1}, \"11525\": {\"value\": 11525, \"frequency\": 1}, \"11530\": {\"value\": 11530, \"frequency\": 2}, \"11536\": {\"value\": 11536, \"frequency\": 3}, \"11542\": {\"value\": 11542, \"frequency\": 2}, \"10116\": {\"value\": 10116, \"frequency\": 1}, \"11547\": {\"value\": 11547, \"frequency\": 2}, \"11550\": {\"value\": 11550, \"frequency\": 2}, \"11562\": {\"value\": 11562, \"frequency\": 2}, \"27951\": {\"value\": 27951, \"frequency\": 1}, \"60720\": {\"value\": 60720, \"frequency\": 1}, \"11570\": {\"value\": 11570, \"frequency\": 1}, \"20590\": {\"value\": 20590, \"frequency\": 1}, \"11575\": {\"value\": 11575, \"frequency\": 1}, \"11576\": {\"value\": 11576, \"frequency\": 2}, \"11579\": {\"value\": 11579, \"frequency\": 1}, \"175421\": {\"value\": 175421, \"frequency\": 1}, \"11583\": {\"value\": 11583, \"frequency\": 2}, \"11584\": {\"value\": 11584, \"frequency\": 1}, \"11585\": {\"value\": 11585, \"frequency\": 3}, \"11588\": {\"value\": 11588, \"frequency\": 1}, \"11590\": {\"value\": 11590, \"frequency\": 1}, \"11592\": {\"value\": 11592, \"frequency\": 1}, \"11595\": {\"value\": 11595, \"frequency\": 1}, \"11599\": {\"value\": 11599, \"frequency\": 1}, \"11600\": {\"value\": 11600, \"frequency\": 5}, \"11603\": {\"value\": 11603, \"frequency\": 2}, \"11610\": {\"value\": 11610, \"frequency\": 2}, \"11612\": {\"value\": 11612, \"frequency\": 2}, \"28000\": {\"value\": 28000, \"frequency\": 3}, \"11618\": {\"value\": 11618, \"frequency\": 1}, \"11620\": {\"value\": 11620, \"frequency\": 1}, \"28005\": {\"value\": 28005, \"frequency\": 1}, \"28008\": {\"value\": 28008, \"frequency\": 2}, \"11625\": {\"value\": 11625, \"frequency\": 3}, \"28014\": {\"value\": 28014, \"frequency\": 1}, \"11632\": {\"value\": 11632, \"frequency\": 2}, \"28025\": {\"value\": 28025, \"frequency\": 1}, \"11645\": {\"value\": 11645, \"frequency\": 1}, \"10133\": {\"value\": 10133, \"frequency\": 1}, \"11650\": {\"value\": 11650, \"frequency\": 1}, \"11651\": {\"value\": 11651, \"frequency\": 2}, \"11652\": {\"value\": 11652, \"frequency\": 3}, \"28037\": {\"value\": 28037, \"frequency\": 1}, \"11656\": {\"value\": 11656, \"frequency\": 2}, \"11659\": {\"value\": 11659, \"frequency\": 1}, \"11662\": {\"value\": 11662, \"frequency\": 2}, \"44431\": {\"value\": 44431, \"frequency\": 7}, \"11664\": {\"value\": 11664, \"frequency\": 1}, \"11665\": {\"value\": 11665, \"frequency\": 1}, \"28052\": {\"value\": 28052, \"frequency\": 1}, \"11675\": {\"value\": 11675, \"frequency\": 2}, \"11676\": {\"value\": 11676, \"frequency\": 1}, \"60840\": {\"value\": 60840, \"frequency\": 1}, \"11690\": {\"value\": 11690, \"frequency\": 2}, \"28078\": {\"value\": 28078, \"frequency\": 1}, \"11700\": {\"value\": 11700, \"frequency\": 9}, \"7482\": {\"value\": 7482, \"frequency\": 5}, \"12875\": {\"value\": 12875, \"frequency\": 2}, \"11725\": {\"value\": 11725, \"frequency\": 1}, \"11727\": {\"value\": 11727, \"frequency\": 2}, \"11730\": {\"value\": 11730, \"frequency\": 2}, \"142803\": {\"value\": 142803, \"frequency\": 1}, \"11733\": {\"value\": 11733, \"frequency\": 1}, \"11740\": {\"value\": 11740, \"frequency\": 2}, \"11744\": {\"value\": 11744, \"frequency\": 1}, \"11745\": {\"value\": 11745, \"frequency\": 3}, \"11750\": {\"value\": 11750, \"frequency\": 3}, \"11757\": {\"value\": 11757, \"frequency\": 1}, \"11761\": {\"value\": 11761, \"frequency\": 2}, \"11765\": {\"value\": 11765, \"frequency\": 2}, \"11769\": {\"value\": 11769, \"frequency\": 1}, \"11774\": {\"value\": 11774, \"frequency\": 2}, \"11775\": {\"value\": 11775, \"frequency\": 2}, \"11780\": {\"value\": 11780, \"frequency\": 3}, \"11782\": {\"value\": 11782, \"frequency\": 1}, \"23809\": {\"value\": 23809, \"frequency\": 1}, \"11788\": {\"value\": 11788, \"frequency\": 1}, \"28176\": {\"value\": 28176, \"frequency\": 1}, \"11793\": {\"value\": 11793, \"frequency\": 2}, \"11795\": {\"value\": 11795, \"frequency\": 2}, \"11798\": {\"value\": 11798, \"frequency\": 1}, \"11800\": {\"value\": 11800, \"frequency\": 4}, \"11801\": {\"value\": 11801, \"frequency\": 1}, \"108464\": {\"value\": 108464, \"frequency\": 3}, \"11816\": {\"value\": 11816, \"frequency\": 1}, \"11817\": {\"value\": 11817, \"frequency\": 1}, \"241200\": {\"value\": 241200, \"frequency\": 1}, \"60984\": {\"value\": 60984, \"frequency\": 4}, \"11834\": {\"value\": 11834, \"frequency\": 1}, \"11835\": {\"value\": 11835, \"frequency\": 2}, \"40202\": {\"value\": 40202, \"frequency\": 1}, \"11843\": {\"value\": 11843, \"frequency\": 2}, \"11850\": {\"value\": 11850, \"frequency\": 1}, \"11856\": {\"value\": 11856, \"frequency\": 2}, \"11857\": {\"value\": 11857, \"frequency\": 1}, \"11858\": {\"value\": 11858, \"frequency\": 1}, \"28243\": {\"value\": 28243, \"frequency\": 1}, \"11866\": {\"value\": 11866, \"frequency\": 1}, \"11867\": {\"value\": 11867, \"frequency\": 1}, \"11870\": {\"value\": 11870, \"frequency\": 1}, \"11872\": {\"value\": 11872, \"frequency\": 1}, \"11875\": {\"value\": 11875, \"frequency\": 4}, \"11877\": {\"value\": 11877, \"frequency\": 2}, \"11880\": {\"value\": 11880, \"frequency\": 6}, \"11884\": {\"value\": 11884, \"frequency\": 3}, \"21096\": {\"value\": 21096, \"frequency\": 1}, \"11890\": {\"value\": 11890, \"frequency\": 1}, \"11894\": {\"value\": 11894, \"frequency\": 2}, \"11895\": {\"value\": 11895, \"frequency\": 1}, \"11897\": {\"value\": 11897, \"frequency\": 1}, \"11900\": {\"value\": 11900, \"frequency\": 13}, \"9671\": {\"value\": 9671, \"frequency\": 1}, \"21100\": {\"value\": 21100, \"frequency\": 1}, \"11914\": {\"value\": 11914, \"frequency\": 3}, \"28300\": {\"value\": 28300, \"frequency\": 2}, \"11920\": {\"value\": 11920, \"frequency\": 2}, \"11925\": {\"value\": 11925, \"frequency\": 2}, \"11928\": {\"value\": 11928, \"frequency\": 1}, \"11931\": {\"value\": 11931, \"frequency\": 1}, \"11934\": {\"value\": 11934, \"frequency\": 1}, \"11935\": {\"value\": 11935, \"frequency\": 2}, \"306848\": {\"value\": 306848, \"frequency\": 1}, \"11937\": {\"value\": 11937, \"frequency\": 1}, \"7451\": {\"value\": 7451, \"frequency\": 1}, \"241322\": {\"value\": 241322, \"frequency\": 1}, \"11947\": {\"value\": 11947, \"frequency\": 1}, \"11951\": {\"value\": 11951, \"frequency\": 1}, \"11960\": {\"value\": 11960, \"frequency\": 2}, \"11970\": {\"value\": 11970, \"frequency\": 3}, \"11972\": {\"value\": 11972, \"frequency\": 1}, \"11975\": {\"value\": 11975, \"frequency\": 2}, \"11985\": {\"value\": 11985, \"frequency\": 3}, \"11986\": {\"value\": 11986, \"frequency\": 1}, \"11996\": {\"value\": 11996, \"frequency\": 1}, \"11997\": {\"value\": 11997, \"frequency\": 2}, \"12000\": {\"value\": 12000, \"frequency\": 42}, \"12001\": {\"value\": 12001, \"frequency\": 1}, \"12005\": {\"value\": 12005, \"frequency\": 2}, \"12007\": {\"value\": 12007, \"frequency\": 1}, \"12013\": {\"value\": 12013, \"frequency\": 2}, \"12017\": {\"value\": 12017, \"frequency\": 1}, \"28405\": {\"value\": 28405, \"frequency\": 1}, \"12026\": {\"value\": 12026, \"frequency\": 1}, \"12028\": {\"value\": 12028, \"frequency\": 2}, \"12030\": {\"value\": 12030, \"frequency\": 1}, \"12032\": {\"value\": 12032, \"frequency\": 2}, \"12033\": {\"value\": 12033, \"frequency\": 1}, \"12036\": {\"value\": 12036, \"frequency\": 1}, \"12040\": {\"value\": 12040, \"frequency\": 2}, \"12042\": {\"value\": 12042, \"frequency\": 3}, \"12044\": {\"value\": 12044, \"frequency\": 1}, \"12047\": {\"value\": 12047, \"frequency\": 2}, \"12051\": {\"value\": 12051, \"frequency\": 1}, \"12056\": {\"value\": 12056, \"frequency\": 2}, \"12058\": {\"value\": 12058, \"frequency\": 1}, \"12060\": {\"value\": 12060, \"frequency\": 1}, \"12063\": {\"value\": 12063, \"frequency\": 2}, \"12067\": {\"value\": 12067, \"frequency\": 1}, \"12070\": {\"value\": 12070, \"frequency\": 3}, \"126759\": {\"value\": 126759, \"frequency\": 1}, \"239580\": {\"value\": 239580, \"frequency\": 1}, \"1493\": {\"value\": 1493, \"frequency\": 3}, \"12075\": {\"value\": 12075, \"frequency\": 2}, \"12080\": {\"value\": 12080, \"frequency\": 3}, \"12085\": {\"value\": 12085, \"frequency\": 1}, \"56628\": {\"value\": 56628, \"frequency\": 3}, \"12090\": {\"value\": 12090, \"frequency\": 2}, \"12091\": {\"value\": 12091, \"frequency\": 2}, \"12092\": {\"value\": 12092, \"frequency\": 4}, \"53898\": {\"value\": 53898, \"frequency\": 1}, \"12094\": {\"value\": 12094, \"frequency\": 2}, \"12095\": {\"value\": 12095, \"frequency\": 1}, \"2016\": {\"value\": 2016, \"frequency\": 1}, \"44866\": {\"value\": 44866, \"frequency\": 4}, \"44867\": {\"value\": 44867, \"frequency\": 1}, \"12100\": {\"value\": 12100, \"frequency\": 6}, \"12103\": {\"value\": 12103, \"frequency\": 2}, \"12106\": {\"value\": 12106, \"frequency\": 1}, \"12110\": {\"value\": 12110, \"frequency\": 1}, \"257875\": {\"value\": 257875, \"frequency\": 2}, \"12120\": {\"value\": 12120, \"frequency\": 1}, \"12125\": {\"value\": 12125, \"frequency\": 1}, \"208737\": {\"value\": 208737, \"frequency\": 1}, \"28516\": {\"value\": 28516, \"frequency\": 1}, \"12134\": {\"value\": 12134, \"frequency\": 1}, \"12138\": {\"value\": 12138, \"frequency\": 1}, \"12141\": {\"value\": 12141, \"frequency\": 1}, \"175982\": {\"value\": 175982, \"frequency\": 1}, \"12145\": {\"value\": 12145, \"frequency\": 2}, \"28531\": {\"value\": 28531, \"frequency\": 1}, \"23870\": {\"value\": 23870, \"frequency\": 1}, \"12150\": {\"value\": 12150, \"frequency\": 4}, \"28535\": {\"value\": 28535, \"frequency\": 1}, \"12155\": {\"value\": 12155, \"frequency\": 3}, \"12160\": {\"value\": 12160, \"frequency\": 3}, \"12164\": {\"value\": 12164, \"frequency\": 2}, \"40259\": {\"value\": 40259, \"frequency\": 1}, \"12184\": {\"value\": 12184, \"frequency\": 1}, \"12193\": {\"value\": 12193, \"frequency\": 1}, \"12196\": {\"value\": 12196, \"frequency\": 8}, \"12197\": {\"value\": 12197, \"frequency\": 2}, \"12199\": {\"value\": 12199, \"frequency\": 1}, \"12200\": {\"value\": 12200, \"frequency\": 1}, \"12201\": {\"value\": 12201, \"frequency\": 1}, \"35868\": {\"value\": 35868, \"frequency\": 1}, \"12208\": {\"value\": 12208, \"frequency\": 1}, \"12212\": {\"value\": 12212, \"frequency\": 1}, \"28600\": {\"value\": 28600, \"frequency\": 2}, \"12220\": {\"value\": 12220, \"frequency\": 3}, \"10230\": {\"value\": 10230, \"frequency\": 5}, \"12231\": {\"value\": 12231, \"frequency\": 4}, \"12233\": {\"value\": 12233, \"frequency\": 1}, \"12236\": {\"value\": 12236, \"frequency\": 2}, \"12238\": {\"value\": 12238, \"frequency\": 1}, \"23885\": {\"value\": 23885, \"frequency\": 1}, \"12240\": {\"value\": 12240, \"frequency\": 3}, \"12243\": {\"value\": 12243, \"frequency\": 1}, \"12245\": {\"value\": 12245, \"frequency\": 1}, \"12247\": {\"value\": 12247, \"frequency\": 2}, \"12250\": {\"value\": 12250, \"frequency\": 3}, \"12252\": {\"value\": 12252, \"frequency\": 2}, \"12253\": {\"value\": 12253, \"frequency\": 1}, \"61419\": {\"value\": 61419, \"frequency\": 5}, \"12275\": {\"value\": 12275, \"frequency\": 1}, \"12278\": {\"value\": 12278, \"frequency\": 1}, \"12282\": {\"value\": 12282, \"frequency\": 3}, \"12283\": {\"value\": 12283, \"frequency\": 1}, \"12285\": {\"value\": 12285, \"frequency\": 2}, \"7510\": {\"value\": 7510, \"frequency\": 3}, \"389126\": {\"value\": 389126, \"frequency\": 1}, \"12300\": {\"value\": 12300, \"frequency\": 1}, \"12305\": {\"value\": 12305, \"frequency\": 2}, \"28703\": {\"value\": 28703, \"frequency\": 2}, \"12320\": {\"value\": 12320, \"frequency\": 2}, \"12327\": {\"value\": 12327, \"frequency\": 2}, \"12330\": {\"value\": 12330, \"frequency\": 1}, \"45100\": {\"value\": 45100, \"frequency\": 1}, \"28717\": {\"value\": 28717, \"frequency\": 1}, \"28718\": {\"value\": 28718, \"frequency\": 1}, \"110642\": {\"value\": 110642, \"frequency\": 1}, \"12342\": {\"value\": 12342, \"frequency\": 1}, \"12349\": {\"value\": 12349, \"frequency\": 2}, \"12350\": {\"value\": 12350, \"frequency\": 7}, \"45133\": {\"value\": 45133, \"frequency\": 1}, \"28750\": {\"value\": 28750, \"frequency\": 2}, \"12368\": {\"value\": 12368, \"frequency\": 2}, \"12375\": {\"value\": 12375, \"frequency\": 2}, \"12377\": {\"value\": 12377, \"frequency\": 1}, \"10255\": {\"value\": 10255, \"frequency\": 1}, \"94300\": {\"value\": 94300, \"frequency\": 1}, \"12381\": {\"value\": 12381, \"frequency\": 2}, \"12384\": {\"value\": 12384, \"frequency\": 3}, \"12385\": {\"value\": 12385, \"frequency\": 1}, \"12394\": {\"value\": 12394, \"frequency\": 1}, \"12408\": {\"value\": 12408, \"frequency\": 3}, \"159865\": {\"value\": 159865, \"frequency\": 3}, \"12413\": {\"value\": 12413, \"frequency\": 1}, \"12415\": {\"value\": 12415, \"frequency\": 2}, \"12420\": {\"value\": 12420, \"frequency\": 4}, \"12426\": {\"value\": 12426, \"frequency\": 2}, \"12430\": {\"value\": 12430, \"frequency\": 2}, \"12431\": {\"value\": 12431, \"frequency\": 1}, \"12436\": {\"value\": 12436, \"frequency\": 1}, \"12443\": {\"value\": 12443, \"frequency\": 2}, \"12447\": {\"value\": 12447, \"frequency\": 1}, \"290980\": {\"value\": 290980, \"frequency\": 1}, \"12462\": {\"value\": 12462, \"frequency\": 1}, \"12463\": {\"value\": 12463, \"frequency\": 1}, \"45234\": {\"value\": 45234, \"frequency\": 1}, \"12473\": {\"value\": 12473, \"frequency\": 1}, \"12476\": {\"value\": 12476, \"frequency\": 2}, \"12478\": {\"value\": 12478, \"frequency\": 1}, \"209088\": {\"value\": 209088, \"frequency\": 2}, \"12491\": {\"value\": 12491, \"frequency\": 1}, \"40312\": {\"value\": 40312, \"frequency\": 1}, \"12500\": {\"value\": 12500, \"frequency\": 22}, \"12508\": {\"value\": 12508, \"frequency\": 1}, \"105850\": {\"value\": 105850, \"frequency\": 2}, \"12511\": {\"value\": 12511, \"frequency\": 1}, \"12519\": {\"value\": 12519, \"frequency\": 2}, \"12522\": {\"value\": 12522, \"frequency\": 2}, \"12523\": {\"value\": 12523, \"frequency\": 2}, \"12527\": {\"value\": 12527, \"frequency\": 2}, \"12528\": {\"value\": 12528, \"frequency\": 3}, \"45302\": {\"value\": 45302, \"frequency\": 4}, \"12540\": {\"value\": 12540, \"frequency\": 3}, \"12555\": {\"value\": 12555, \"frequency\": 1}, \"12558\": {\"value\": 12558, \"frequency\": 3}, \"12560\": {\"value\": 12560, \"frequency\": 1}, \"12573\": {\"value\": 12573, \"frequency\": 1}, \"18480\": {\"value\": 18480, \"frequency\": 2}, \"176418\": {\"value\": 176418, \"frequency\": 1}, \"12591\": {\"value\": 12591, \"frequency\": 1}, \"12596\": {\"value\": 12596, \"frequency\": 1}, \"12600\": {\"value\": 12600, \"frequency\": 8}, \"965\": {\"value\": 965, \"frequency\": 2}, \"94525\": {\"value\": 94525, \"frequency\": 4}, \"12607\": {\"value\": 12607, \"frequency\": 1}, \"12611\": {\"value\": 12611, \"frequency\": 1}, \"12614\": {\"value\": 12614, \"frequency\": 1}, \"21217\": {\"value\": 21217, \"frequency\": 1}, \"12616\": {\"value\": 12616, \"frequency\": 2}, \"12625\": {\"value\": 12625, \"frequency\": 2}, \"12626\": {\"value\": 12626, \"frequency\": 2}, \"12632\": {\"value\": 12632, \"frequency\": 2}, \"12633\": {\"value\": 12633, \"frequency\": 1}, \"12648\": {\"value\": 12648, \"frequency\": 1}, \"12650\": {\"value\": 12650, \"frequency\": 1}, \"36974\": {\"value\": 36974, \"frequency\": 1}, \"10302\": {\"value\": 10302, \"frequency\": 1}, \"35500\": {\"value\": 35500, \"frequency\": 1}, \"40341\": {\"value\": 40341, \"frequency\": 1}, \"12672\": {\"value\": 12672, \"frequency\": 2}, \"12675\": {\"value\": 12675, \"frequency\": 2}, \"12676\": {\"value\": 12676, \"frequency\": 1}, \"12682\": {\"value\": 12682, \"frequency\": 2}, \"12686\": {\"value\": 12686, \"frequency\": 1}, \"12687\": {\"value\": 12687, \"frequency\": 1}, \"12688\": {\"value\": 12688, \"frequency\": 2}, \"78225\": {\"value\": 78225, \"frequency\": 1}, \"12690\": {\"value\": 12690, \"frequency\": 3}, \"29078\": {\"value\": 29078, \"frequency\": 1}, \"12696\": {\"value\": 12696, \"frequency\": 2}, \"12700\": {\"value\": 12700, \"frequency\": 2}, \"12705\": {\"value\": 12705, \"frequency\": 2}, \"12714\": {\"value\": 12714, \"frequency\": 2}, \"12719\": {\"value\": 12719, \"frequency\": 1}, \"12720\": {\"value\": 12720, \"frequency\": 1}, \"37522\": {\"value\": 37522, \"frequency\": 1}, \"29111\": {\"value\": 29111, \"frequency\": 1}, \"12728\": {\"value\": 12728, \"frequency\": 1}, \"12733\": {\"value\": 12733, \"frequency\": 1}, \"12741\": {\"value\": 12741, \"frequency\": 1}, \"12745\": {\"value\": 12745, \"frequency\": 1}, \"12746\": {\"value\": 12746, \"frequency\": 1}, \"45517\": {\"value\": 45517, \"frequency\": 1}, \"12750\": {\"value\": 12750, \"frequency\": 10}, \"12753\": {\"value\": 12753, \"frequency\": 3}, \"12763\": {\"value\": 12763, \"frequency\": 1}, \"12765\": {\"value\": 12765, \"frequency\": 1}, \"45535\": {\"value\": 45535, \"frequency\": 1}, \"45537\": {\"value\": 45537, \"frequency\": 1}, \"111078\": {\"value\": 111078, \"frequency\": 2}, \"12775\": {\"value\": 12775, \"frequency\": 1}, \"12776\": {\"value\": 12776, \"frequency\": 1}, \"12778\": {\"value\": 12778, \"frequency\": 1}, \"29163\": {\"value\": 29163, \"frequency\": 2}, \"29170\": {\"value\": 29170, \"frequency\": 1}, \"43091\": {\"value\": 43091, \"frequency\": 1}, \"4862\": {\"value\": 4862, \"frequency\": 3}, \"12793\": {\"value\": 12793, \"frequency\": 3}, \"12796\": {\"value\": 12796, \"frequency\": 1}, \"12811\": {\"value\": 12811, \"frequency\": 1}, \"12813\": {\"value\": 12813, \"frequency\": 1}, \"12821\": {\"value\": 12821, \"frequency\": 3}, \"12823\": {\"value\": 12823, \"frequency\": 2}, \"12824\": {\"value\": 12824, \"frequency\": 1}, \"12825\": {\"value\": 12825, \"frequency\": 5}, \"12833\": {\"value\": 12833, \"frequency\": 1}, \"23985\": {\"value\": 23985, \"frequency\": 1}, \"29224\": {\"value\": 29224, \"frequency\": 1}, \"12843\": {\"value\": 12843, \"frequency\": 1}, \"12848\": {\"value\": 12848, \"frequency\": 1}, \"12850\": {\"value\": 12850, \"frequency\": 1}, \"29242\": {\"value\": 29242, \"frequency\": 1}, \"12860\": {\"value\": 12860, \"frequency\": 1}, \"4874\": {\"value\": 4874, \"frequency\": 2}, \"12866\": {\"value\": 12866, \"frequency\": 2}, \"12870\": {\"value\": 12870, \"frequency\": 2}, \"78408\": {\"value\": 78408, \"frequency\": 5}, \"12874\": {\"value\": 12874, \"frequency\": 1}, \"143947\": {\"value\": 143947, \"frequency\": 1}, \"12877\": {\"value\": 12877, \"frequency\": 1}, \"7610\": {\"value\": 7610, \"frequency\": 2}, \"12895\": {\"value\": 12895, \"frequency\": 1}, \"12899\": {\"value\": 12899, \"frequency\": 2}, \"12900\": {\"value\": 12900, \"frequency\": 1}, \"209523\": {\"value\": 209523, \"frequency\": 4}, \"12918\": {\"value\": 12918, \"frequency\": 1}, \"12920\": {\"value\": 12920, \"frequency\": 1}, \"7615\": {\"value\": 7615, \"frequency\": 4}, \"29308\": {\"value\": 29308, \"frequency\": 1}, \"6977\": {\"value\": 6977, \"frequency\": 1}, \"12930\": {\"value\": 12930, \"frequency\": 1}, \"94855\": {\"value\": 94855, \"frequency\": 1}, \"12940\": {\"value\": 12940, \"frequency\": 1}, \"12950\": {\"value\": 12950, \"frequency\": 2}, \"12956\": {\"value\": 12956, \"frequency\": 1}, \"1651359\": {\"value\": 1651359, \"frequency\": 1}, \"12960\": {\"value\": 12960, \"frequency\": 2}, \"29347\": {\"value\": 29347, \"frequency\": 1}, \"12968\": {\"value\": 12968, \"frequency\": 2}, \"45738\": {\"value\": 45738, \"frequency\": 10}, \"12972\": {\"value\": 12972, \"frequency\": 1}, \"12978\": {\"value\": 12978, \"frequency\": 1}, \"10355\": {\"value\": 10355, \"frequency\": 1}, \"12981\": {\"value\": 12981, \"frequency\": 1}, \"12987\": {\"value\": 12987, \"frequency\": 3}, \"13000\": {\"value\": 13000, \"frequency\": 15}, \"13001\": {\"value\": 13001, \"frequency\": 1}, \"13002\": {\"value\": 13002, \"frequency\": 2}, \"2171\": {\"value\": 2171, \"frequency\": 3}, \"13031\": {\"value\": 13031, \"frequency\": 1}, \"13034\": {\"value\": 13034, \"frequency\": 1}, \"94960\": {\"value\": 94960, \"frequency\": 2}, \"13054\": {\"value\": 13054, \"frequency\": 2}, \"13056\": {\"value\": 13056, \"frequency\": 1}, \"13058\": {\"value\": 13058, \"frequency\": 1}, \"13059\": {\"value\": 13059, \"frequency\": 2}, \"13062\": {\"value\": 13062, \"frequency\": 1}, \"13063\": {\"value\": 13063, \"frequency\": 1}, \"13068\": {\"value\": 13068, \"frequency\": 7}, \"13085\": {\"value\": 13085, \"frequency\": 2}, \"13090\": {\"value\": 13090, \"frequency\": 1}, \"45860\": {\"value\": 45860, \"frequency\": 1}, \"13095\": {\"value\": 13095, \"frequency\": 2}, \"13100\": {\"value\": 13100, \"frequency\": 5}, \"13102\": {\"value\": 13102, \"frequency\": 1}, \"13113\": {\"value\": 13113, \"frequency\": 1}, \"16258\": {\"value\": 16258, \"frequency\": 2}, \"13122\": {\"value\": 13122, \"frequency\": 2}, \"13125\": {\"value\": 13125, \"frequency\": 3}, \"13129\": {\"value\": 13129, \"frequency\": 2}, \"62290\": {\"value\": 62290, \"frequency\": 3}, \"40419\": {\"value\": 40419, \"frequency\": 1}, \"13140\": {\"value\": 13140, \"frequency\": 1}, \"62310\": {\"value\": 62310, \"frequency\": 1}, \"10385\": {\"value\": 10385, \"frequency\": 1}, \"13162\": {\"value\": 13162, \"frequency\": 1}, \"13165\": {\"value\": 13165, \"frequency\": 1}, \"13168\": {\"value\": 13168, \"frequency\": 2}, \"13170\": {\"value\": 13170, \"frequency\": 2}, \"13175\": {\"value\": 13175, \"frequency\": 1}, \"13180\": {\"value\": 13180, \"frequency\": 1}, \"13189\": {\"value\": 13189, \"frequency\": 1}, \"54450\": {\"value\": 54450, \"frequency\": 8}, \"13193\": {\"value\": 13193, \"frequency\": 1}, \"45963\": {\"value\": 45963, \"frequency\": 1}, \"13200\": {\"value\": 13200, \"frequency\": 5}, \"13202\": {\"value\": 13202, \"frequency\": 1}, \"111513\": {\"value\": 111513, \"frequency\": 1}, \"111514\": {\"value\": 111514, \"frequency\": 1}, \"13211\": {\"value\": 13211, \"frequency\": 1}, \"62365\": {\"value\": 62365, \"frequency\": 1}, \"13218\": {\"value\": 13218, \"frequency\": 1}, \"13227\": {\"value\": 13227, \"frequency\": 1}, \"13232\": {\"value\": 13232, \"frequency\": 1}, \"21320\": {\"value\": 21320, \"frequency\": 1}, \"13235\": {\"value\": 13235, \"frequency\": 1}, \"13238\": {\"value\": 13238, \"frequency\": 1}, \"13241\": {\"value\": 13241, \"frequency\": 2}, \"174240\": {\"value\": 174240, \"frequency\": 2}, \"13252\": {\"value\": 13252, \"frequency\": 3}, \"242629\": {\"value\": 242629, \"frequency\": 1}, \"13260\": {\"value\": 13260, \"frequency\": 4}, \"13261\": {\"value\": 13261, \"frequency\": 1}, \"13278\": {\"value\": 13278, \"frequency\": 1}, \"13280\": {\"value\": 13280, \"frequency\": 1}, \"15867\": {\"value\": 15867, \"frequency\": 1}, \"13288\": {\"value\": 13288, \"frequency\": 2}, \"13292\": {\"value\": 13292, \"frequency\": 2}, \"13296\": {\"value\": 13296, \"frequency\": 2}, \"18600\": {\"value\": 18600, \"frequency\": 3}, \"13300\": {\"value\": 13300, \"frequency\": 8}, \"13303\": {\"value\": 13303, \"frequency\": 1}, \"78843\": {\"value\": 78843, \"frequency\": 2}, \"13309\": {\"value\": 13309, \"frequency\": 1}, \"13320\": {\"value\": 13320, \"frequency\": 3}, \"13341\": {\"value\": 13341, \"frequency\": 1}, \"24069\": {\"value\": 24069, \"frequency\": 1}, \"13348\": {\"value\": 13348, \"frequency\": 3}, \"13350\": {\"value\": 13350, \"frequency\": 2}, \"209959\": {\"value\": 209959, \"frequency\": 1}, \"13356\": {\"value\": 13356, \"frequency\": 1}, \"19900\": {\"value\": 19900, \"frequency\": 1}, \"204296\": {\"value\": 204296, \"frequency\": 1}, \"13362\": {\"value\": 13362, \"frequency\": 2}, \"13367\": {\"value\": 13367, \"frequency\": 2}, \"13370\": {\"value\": 13370, \"frequency\": 2}, \"7690\": {\"value\": 7690, \"frequency\": 3}, \"13374\": {\"value\": 13374, \"frequency\": 1}, \"21344\": {\"value\": 21344, \"frequency\": 2}, \"13383\": {\"value\": 13383, \"frequency\": 1}, \"13384\": {\"value\": 13384, \"frequency\": 1}, \"13392\": {\"value\": 13392, \"frequency\": 2}, \"35000\": {\"value\": 35000, \"frequency\": 7}, \"13394\": {\"value\": 13394, \"frequency\": 1}, \"13399\": {\"value\": 13399, \"frequency\": 1}, \"13402\": {\"value\": 13402, \"frequency\": 2}, \"46173\": {\"value\": 46173, \"frequency\": 6}, \"13406\": {\"value\": 13406, \"frequency\": 1}, \"13412\": {\"value\": 13412, \"frequency\": 1}, \"13416\": {\"value\": 13416, \"frequency\": 1}, \"13425\": {\"value\": 13425, \"frequency\": 1}, \"13430\": {\"value\": 13430, \"frequency\": 3}, \"13431\": {\"value\": 13431, \"frequency\": 1}, \"37000\": {\"value\": 37000, \"frequency\": 1}, \"13435\": {\"value\": 13435, \"frequency\": 1}, \"13438\": {\"value\": 13438, \"frequency\": 1}, \"24085\": {\"value\": 24085, \"frequency\": 1}, \"13440\": {\"value\": 13440, \"frequency\": 2}, \"35008\": {\"value\": 35008, \"frequency\": 1}, \"13444\": {\"value\": 13444, \"frequency\": 2}, \"35009\": {\"value\": 35009, \"frequency\": 1}, \"13449\": {\"value\": 13449, \"frequency\": 1}, \"13450\": {\"value\": 13450, \"frequency\": 2}, \"44093\": {\"value\": 44093, \"frequency\": 1}, \"13457\": {\"value\": 13457, \"frequency\": 2}, \"13464\": {\"value\": 13464, \"frequency\": 1}, \"2244\": {\"value\": 2244, \"frequency\": 1}, \"13468\": {\"value\": 13468, \"frequency\": 2}, \"13470\": {\"value\": 13470, \"frequency\": 1}, \"13474\": {\"value\": 13474, \"frequency\": 2}, \"13475\": {\"value\": 13475, \"frequency\": 2}, \"95396\": {\"value\": 95396, \"frequency\": 2}, \"13482\": {\"value\": 13482, \"frequency\": 1}, \"13493\": {\"value\": 13493, \"frequency\": 1}, \"13495\": {\"value\": 13495, \"frequency\": 1}, \"13496\": {\"value\": 13496, \"frequency\": 1}, \"13500\": {\"value\": 13500, \"frequency\": 20}, \"13501\": {\"value\": 13501, \"frequency\": 1}, \"13503\": {\"value\": 13503, \"frequency\": 3}, \"13504\": {\"value\": 13504, \"frequency\": 1}, \"13505\": {\"value\": 13505, \"frequency\": 1}, \"1290\": {\"value\": 1290, \"frequency\": 5}, \"13515\": {\"value\": 13515, \"frequency\": 3}, \"13529\": {\"value\": 13529, \"frequency\": 2}, \"13530\": {\"value\": 13530, \"frequency\": 2}, \"144619\": {\"value\": 144619, \"frequency\": 2}, \"2258\": {\"value\": 2258, \"frequency\": 1}, \"13550\": {\"value\": 13550, \"frequency\": 1}, \"13551\": {\"value\": 13551, \"frequency\": 2}, \"13554\": {\"value\": 13554, \"frequency\": 2}, \"13566\": {\"value\": 13566, \"frequency\": 1}, \"13572\": {\"value\": 13572, \"frequency\": 2}, \"62726\": {\"value\": 62726, \"frequency\": 2}, \"13579\": {\"value\": 13579, \"frequency\": 3}, \"7725\": {\"value\": 7725, \"frequency\": 9}, \"29970\": {\"value\": 29970, \"frequency\": 1}, \"46355\": {\"value\": 46355, \"frequency\": 1}, \"13590\": {\"value\": 13590, \"frequency\": 2}, \"13591\": {\"value\": 13591, \"frequency\": 1}, \"13592\": {\"value\": 13592, \"frequency\": 1}, \"29982\": {\"value\": 29982, \"frequency\": 1}, \"13600\": {\"value\": 13600, \"frequency\": 3}, \"13603\": {\"value\": 13603, \"frequency\": 1}, \"13609\": {\"value\": 13609, \"frequency\": 2}, \"30007\": {\"value\": 30007, \"frequency\": 1}, \"13629\": {\"value\": 13629, \"frequency\": 1}, \"13630\": {\"value\": 13630, \"frequency\": 2}, \"35040\": {\"value\": 35040, \"frequency\": 2}, \"13640\": {\"value\": 13640, \"frequency\": 1}, \"505166\": {\"value\": 505166, \"frequency\": 1}, \"13647\": {\"value\": 13647, \"frequency\": 1}, \"13650\": {\"value\": 13650, \"frequency\": 2}, \"2275\": {\"value\": 2275, \"frequency\": 1}, \"54160\": {\"value\": 54160, \"frequency\": 2}, \"7739\": {\"value\": 7739, \"frequency\": 2}, \"13673\": {\"value\": 13673, \"frequency\": 1}, \"223463\": {\"value\": 223463, \"frequency\": 1}, \"13680\": {\"value\": 13680, \"frequency\": 1}, \"7742\": {\"value\": 7742, \"frequency\": 5}, \"13695\": {\"value\": 13695, \"frequency\": 2}, \"30083\": {\"value\": 30083, \"frequency\": 1}, \"13700\": {\"value\": 13700, \"frequency\": 4}, \"13702\": {\"value\": 13702, \"frequency\": 1}, \"13703\": {\"value\": 13703, \"frequency\": 1}, \"5015\": {\"value\": 5015, \"frequency\": 4}, \"5016\": {\"value\": 5016, \"frequency\": 1}, \"13209\": {\"value\": 13209, \"frequency\": 1}, \"13720\": {\"value\": 13720, \"frequency\": 1}, \"13729\": {\"value\": 13729, \"frequency\": 1}, \"13730\": {\"value\": 13730, \"frequency\": 1}, \"40518\": {\"value\": 40518, \"frequency\": 1}, \"13737\": {\"value\": 13737, \"frequency\": 1}, \"13738\": {\"value\": 13738, \"frequency\": 1}, \"79279\": {\"value\": 79279, \"frequency\": 2}, \"13747\": {\"value\": 13747, \"frequency\": 1}, \"13750\": {\"value\": 13750, \"frequency\": 2}, \"13751\": {\"value\": 13751, \"frequency\": 1}, \"13755\": {\"value\": 13755, \"frequency\": 1}, \"292288\": {\"value\": 292288, \"frequency\": 1}, \"13775\": {\"value\": 13775, \"frequency\": 4}, \"13780\": {\"value\": 13780, \"frequency\": 1}, \"210394\": {\"value\": 210394, \"frequency\": 1}, \"13789\": {\"value\": 13789, \"frequency\": 1}, \"13791\": {\"value\": 13791, \"frequency\": 1}, \"13797\": {\"value\": 13797, \"frequency\": 1}, \"13800\": {\"value\": 13800, \"frequency\": 2}, \"5031\": {\"value\": 5031, \"frequency\": 1}, \"13805\": {\"value\": 13805, \"frequency\": 1}, \"13806\": {\"value\": 13806, \"frequency\": 1}, \"13809\": {\"value\": 13809, \"frequency\": 1}, \"46580\": {\"value\": 46580, \"frequency\": 1}, \"128502\": {\"value\": 128502, \"frequency\": 2}, \"13816\": {\"value\": 13816, \"frequency\": 2}, \"177657\": {\"value\": 177657, \"frequency\": 1}, \"7765\": {\"value\": 7765, \"frequency\": 1}, \"13824\": {\"value\": 13824, \"frequency\": 1}, \"13833\": {\"value\": 13833, \"frequency\": 1}, \"35074\": {\"value\": 35074, \"frequency\": 1}, \"46609\": {\"value\": 46609, \"frequency\": 7}, \"13850\": {\"value\": 13850, \"frequency\": 1}, \"13860\": {\"value\": 13860, \"frequency\": 3}, \"13862\": {\"value\": 13862, \"frequency\": 1}, \"13869\": {\"value\": 13869, \"frequency\": 1}, \"13885\": {\"value\": 13885, \"frequency\": 1}, \"13891\": {\"value\": 13891, \"frequency\": 1}, \"13894\": {\"value\": 13894, \"frequency\": 1}, \"13899\": {\"value\": 13899, \"frequency\": 1}, \"13900\": {\"value\": 13900, \"frequency\": 2}, \"13906\": {\"value\": 13906, \"frequency\": 1}, \"13907\": {\"value\": 13907, \"frequency\": 1}, \"13912\": {\"value\": 13912, \"frequency\": 2}, \"13920\": {\"value\": 13920, \"frequency\": 1}, \"13927\": {\"value\": 13927, \"frequency\": 3}, \"13928\": {\"value\": 13928, \"frequency\": 1}, \"13929\": {\"value\": 13929, \"frequency\": 1}, \"13938\": {\"value\": 13938, \"frequency\": 1}, \"13939\": {\"value\": 13939, \"frequency\": 4}, \"13950\": {\"value\": 13950, \"frequency\": 2}, \"13959\": {\"value\": 13959, \"frequency\": 2}, \"13964\": {\"value\": 13964, \"frequency\": 1}, \"63118\": {\"value\": 63118, \"frequency\": 1}, \"13970\": {\"value\": 13970, \"frequency\": 1}, \"13975\": {\"value\": 13975, \"frequency\": 1}, \"13978\": {\"value\": 13978, \"frequency\": 1}, \"46748\": {\"value\": 46748, \"frequency\": 1}, \"13981\": {\"value\": 13981, \"frequency\": 1}, \"13990\": {\"value\": 13990, \"frequency\": 1}, \"13991\": {\"value\": 13991, \"frequency\": 1}, \"35100\": {\"value\": 35100, \"frequency\": 4}, \"14000\": {\"value\": 14000, \"frequency\": 11}, \"2334\": {\"value\": 2334, \"frequency\": 1}, \"14012\": {\"value\": 14012, \"frequency\": 1}, \"14021\": {\"value\": 14021, \"frequency\": 2}, \"30409\": {\"value\": 30409, \"frequency\": 1}, \"14030\": {\"value\": 14030, \"frequency\": 1}, \"14033\": {\"value\": 14033, \"frequency\": 1}, \"14034\": {\"value\": 14034, \"frequency\": 1}, \"14036\": {\"value\": 14036, \"frequency\": 1}, \"14040\": {\"value\": 14040, \"frequency\": 4}, \"21455\": {\"value\": 21455, \"frequency\": 1}, \"33747\": {\"value\": 33747, \"frequency\": 1}, \"14052\": {\"value\": 14052, \"frequency\": 1}, \"194278\": {\"value\": 194278, \"frequency\": 1}, \"14057\": {\"value\": 14057, \"frequency\": 1}, \"14062\": {\"value\": 14062, \"frequency\": 1}, \"14071\": {\"value\": 14071, \"frequency\": 2}, \"30456\": {\"value\": 30456, \"frequency\": 2}, \"40575\": {\"value\": 40575, \"frequency\": 1}, \"112384\": {\"value\": 112384, \"frequency\": 1}, \"18731\": {\"value\": 18731, \"frequency\": 1}, \"14087\": {\"value\": 14087, \"frequency\": 1}, \"14091\": {\"value\": 14091, \"frequency\": 1}, \"30476\": {\"value\": 30476, \"frequency\": 1}, \"14100\": {\"value\": 14100, \"frequency\": 2}, \"14110\": {\"value\": 14110, \"frequency\": 2}, \"30500\": {\"value\": 30500, \"frequency\": 1}, \"14120\": {\"value\": 14120, \"frequency\": 1}, \"14125\": {\"value\": 14125, \"frequency\": 1}, \"14133\": {\"value\": 14133, \"frequency\": 1}, \"14134\": {\"value\": 14134, \"frequency\": 1}, \"14135\": {\"value\": 14135, \"frequency\": 1}, \"33750\": {\"value\": 33750, \"frequency\": 2}, \"2356\": {\"value\": 2356, \"frequency\": 3}, \"14141\": {\"value\": 14141, \"frequency\": 2}, \"14149\": {\"value\": 14149, \"frequency\": 2}, \"14150\": {\"value\": 14150, \"frequency\": 1}, \"14161\": {\"value\": 14161, \"frequency\": 1}, \"79714\": {\"value\": 79714, \"frequency\": 1}, \"30570\": {\"value\": 30570, \"frequency\": 1}, \"14196\": {\"value\": 14196, \"frequency\": 2}, \"14197\": {\"value\": 14197, \"frequency\": 2}, \"14200\": {\"value\": 14200, \"frequency\": 2}, \"14212\": {\"value\": 14212, \"frequency\": 2}, \"112521\": {\"value\": 112521, \"frequency\": 1}, \"14219\": {\"value\": 14219, \"frequency\": 1}, \"52302\": {\"value\": 52302, \"frequency\": 1}, \"30605\": {\"value\": 30605, \"frequency\": 1}, \"210830\": {\"value\": 210830, \"frequency\": 2}, \"5101\": {\"value\": 5101, \"frequency\": 4}, \"7832\": {\"value\": 7832, \"frequency\": 2}, \"21486\": {\"value\": 21486, \"frequency\": 1}, \"423838\": {\"value\": 423838, \"frequency\": 1}, \"14240\": {\"value\": 14240, \"frequency\": 1}, \"14248\": {\"value\": 14248, \"frequency\": 1}, \"128937\": {\"value\": 128937, \"frequency\": 1}, \"14250\": {\"value\": 14250, \"frequency\": 6}, \"14270\": {\"value\": 14270, \"frequency\": 1}, \"14271\": {\"value\": 14271, \"frequency\": 1}, \"40608\": {\"value\": 40608, \"frequency\": 1}, \"14275\": {\"value\": 14275, \"frequency\": 1}, \"47044\": {\"value\": 47044, \"frequency\": 8}, \"47045\": {\"value\": 47045, \"frequency\": 1}, \"14289\": {\"value\": 14289, \"frequency\": 1}, \"14300\": {\"value\": 14300, \"frequency\": 2}, \"17389\": {\"value\": 17389, \"frequency\": 1}, \"50123\": {\"value\": 50123, \"frequency\": 1}, \"14319\": {\"value\": 14319, \"frequency\": 1}, \"14321\": {\"value\": 14321, \"frequency\": 1}, \"14333\": {\"value\": 14333, \"frequency\": 1}, \"14338\": {\"value\": 14338, \"frequency\": 1}, \"14342\": {\"value\": 14342, \"frequency\": 1}, \"14350\": {\"value\": 14350, \"frequency\": 2}, \"30736\": {\"value\": 30736, \"frequency\": 1}, \"14353\": {\"value\": 14353, \"frequency\": 1}, \"3478\": {\"value\": 3478, \"frequency\": 4}, \"14373\": {\"value\": 14373, \"frequency\": 1}, \"14374\": {\"value\": 14374, \"frequency\": 2}, \"7857\": {\"value\": 7857, \"frequency\": 4}, \"14395\": {\"value\": 14395, \"frequency\": 1}, \"5130\": {\"value\": 5130, \"frequency\": 3}, \"14400\": {\"value\": 14400, \"frequency\": 11}, \"14401\": {\"value\": 14401, \"frequency\": 1}, \"14402\": {\"value\": 14402, \"frequency\": 1}, \"14404\": {\"value\": 14404, \"frequency\": 1}, \"14406\": {\"value\": 14406, \"frequency\": 1}, \"2401\": {\"value\": 2401, \"frequency\": 1}, \"14408\": {\"value\": 14408, \"frequency\": 1}, \"47179\": {\"value\": 47179, \"frequency\": 1}, \"14417\": {\"value\": 14417, \"frequency\": 1}, \"14440\": {\"value\": 14440, \"frequency\": 1}, \"63597\": {\"value\": 63597, \"frequency\": 2}, \"112750\": {\"value\": 112750, \"frequency\": 1}, \"14455\": {\"value\": 14455, \"frequency\": 1}, \"161913\": {\"value\": 161913, \"frequency\": 1}, \"14467\": {\"value\": 14467, \"frequency\": 2}, \"47250\": {\"value\": 47250, \"frequency\": 1}, \"30869\": {\"value\": 30869, \"frequency\": 1}, \"14486\": {\"value\": 14486, \"frequency\": 1}, \"14490\": {\"value\": 14490, \"frequency\": 1}, \"2415\": {\"value\": 2415, \"frequency\": 2}, \"2416\": {\"value\": 2416, \"frequency\": 1}, \"14499\": {\"value\": 14499, \"frequency\": 1}, \"30886\": {\"value\": 30886, \"frequency\": 1}, \"7881\": {\"value\": 7881, \"frequency\": 2}, \"5157\": {\"value\": 5157, \"frequency\": 1}, \"11396\": {\"value\": 11396, \"frequency\": 1}, \"14565\": {\"value\": 14565, \"frequency\": 2}, \"14568\": {\"value\": 14568, \"frequency\": 1}, \"29735\": {\"value\": 29735, \"frequency\": 1}, \"10623\": {\"value\": 10623, \"frequency\": 2}, \"14599\": {\"value\": 14599, \"frequency\": 1}, \"14600\": {\"value\": 14600, \"frequency\": 3}, \"14607\": {\"value\": 14607, \"frequency\": 1}, \"14608\": {\"value\": 14608, \"frequency\": 1}, \"57050\": {\"value\": 57050, \"frequency\": 1}, \"14630\": {\"value\": 14630, \"frequency\": 2}, \"14633\": {\"value\": 14633, \"frequency\": 2}, \"14645\": {\"value\": 14645, \"frequency\": 1}, \"14648\": {\"value\": 14648, \"frequency\": 1}, \"14649\": {\"value\": 14649, \"frequency\": 1}, \"14653\": {\"value\": 14653, \"frequency\": 1}, \"96574\": {\"value\": 96574, \"frequency\": 1}, \"14667\": {\"value\": 14667, \"frequency\": 1}, \"14680\": {\"value\": 14680, \"frequency\": 1}, \"14695\": {\"value\": 14695, \"frequency\": 1}, \"14700\": {\"value\": 14700, \"frequency\": 1}, \"18834\": {\"value\": 18834, \"frequency\": 1}, \"14703\": {\"value\": 14703, \"frequency\": 1}, \"47480\": {\"value\": 47480, \"frequency\": 9}, \"14720\": {\"value\": 14720, \"frequency\": 1}, \"7570\": {\"value\": 7570, \"frequency\": 2}, \"41984\": {\"value\": 41984, \"frequency\": 1}, \"14731\": {\"value\": 14731, \"frequency\": 1}, \"14733\": {\"value\": 14733, \"frequency\": 1}, \"14734\": {\"value\": 14734, \"frequency\": 1}, \"14745\": {\"value\": 14745, \"frequency\": 1}, \"14750\": {\"value\": 14750, \"frequency\": 1}, \"14757\": {\"value\": 14757, \"frequency\": 1}, \"14766\": {\"value\": 14766, \"frequency\": 1}, \"14773\": {\"value\": 14773, \"frequency\": 1}, \"17950\": {\"value\": 17950, \"frequency\": 1}, \"14782\": {\"value\": 14782, \"frequency\": 1}, \"96703\": {\"value\": 96703, \"frequency\": 1}, \"3766\": {\"value\": 3766, \"frequency\": 1}, \"14800\": {\"value\": 14800, \"frequency\": 3}, \"14803\": {\"value\": 14803, \"frequency\": 1}, \"14810\": {\"value\": 14810, \"frequency\": 5}, \"31200\": {\"value\": 31200, \"frequency\": 1}, \"87120\": {\"value\": 87120, \"frequency\": 3}, \"7040\": {\"value\": 7040, \"frequency\": 4}, \"14821\": {\"value\": 14821, \"frequency\": 1}, \"14834\": {\"value\": 14834, \"frequency\": 1}, \"21587\": {\"value\": 21587, \"frequency\": 1}, \"63991\": {\"value\": 63991, \"frequency\": 1}, \"14850\": {\"value\": 14850, \"frequency\": 5}, \"31238\": {\"value\": 31238, \"frequency\": 1}, \"7938\": {\"value\": 7938, \"frequency\": 1}, \"80400\": {\"value\": 80400, \"frequency\": 1}, \"7939\": {\"value\": 7939, \"frequency\": 1}, \"14872\": {\"value\": 14872, \"frequency\": 1}, \"14874\": {\"value\": 14874, \"frequency\": 1}, \"64033\": {\"value\": 64033, \"frequency\": 2}, \"14890\": {\"value\": 14890, \"frequency\": 1}, \"14892\": {\"value\": 14892, \"frequency\": 1}, \"37982\": {\"value\": 37982, \"frequency\": 1}, \"14904\": {\"value\": 14904, \"frequency\": 1}, \"14910\": {\"value\": 14910, \"frequency\": 1}, \"14913\": {\"value\": 14913, \"frequency\": 1}, \"31299\": {\"value\": 31299, \"frequency\": 1}, \"64073\": {\"value\": 64073, \"frequency\": 1}, \"10679\": {\"value\": 10679, \"frequency\": 1}, \"14925\": {\"value\": 14925, \"frequency\": 2}, \"80471\": {\"value\": 80471, \"frequency\": 1}, \"14952\": {\"value\": 14952, \"frequency\": 1}, \"35261\": {\"value\": 35261, \"frequency\": 1}, \"211576\": {\"value\": 211576, \"frequency\": 1}, \"14972\": {\"value\": 14972, \"frequency\": 1}, \"47743\": {\"value\": 47743, \"frequency\": 1}, \"14982\": {\"value\": 14982, \"frequency\": 1}, \"14984\": {\"value\": 14984, \"frequency\": 1}, \"14985\": {\"value\": 14985, \"frequency\": 2}, \"14986\": {\"value\": 14986, \"frequency\": 2}, \"14989\": {\"value\": 14989, \"frequency\": 1}, \"7960\": {\"value\": 7960, \"frequency\": 1}, \"15000\": {\"value\": 15000, \"frequency\": 28}, \"15002\": {\"value\": 15002, \"frequency\": 2}, \"15003\": {\"value\": 15003, \"frequency\": 2}, \"7963\": {\"value\": 7963, \"frequency\": 1}, \"10320\": {\"value\": 10320, \"frequency\": 5}, \"15021\": {\"value\": 15021, \"frequency\": 1}, \"15022\": {\"value\": 15022, \"frequency\": 4}, \"15028\": {\"value\": 15028, \"frequency\": 1}, \"15029\": {\"value\": 15029, \"frequency\": 2}, \"15030\": {\"value\": 15030, \"frequency\": 1}, \"15031\": {\"value\": 15031, \"frequency\": 1}, \"11412\": {\"value\": 11412, \"frequency\": 1}, \"15050\": {\"value\": 15050, \"frequency\": 2}, \"15053\": {\"value\": 15053, \"frequency\": 1}, \"18893\": {\"value\": 18893, \"frequency\": 1}, \"15068\": {\"value\": 15068, \"frequency\": 1}, \"77972\": {\"value\": 77972, \"frequency\": 3}, \"15075\": {\"value\": 15075, \"frequency\": 1}, \"31465\": {\"value\": 31465, \"frequency\": 1}, \"15084\": {\"value\": 15084, \"frequency\": 2}, \"15085\": {\"value\": 15085, \"frequency\": 1}, \"15086\": {\"value\": 15086, \"frequency\": 1}, \"15093\": {\"value\": 15093, \"frequency\": 1}, \"2516\": {\"value\": 2516, \"frequency\": 1}, \"15099\": {\"value\": 15099, \"frequency\": 1}, \"54400\": {\"value\": 54400, \"frequency\": 1}, \"31491\": {\"value\": 31491, \"frequency\": 1}, \"15114\": {\"value\": 15114, \"frequency\": 1}, \"15119\": {\"value\": 15119, \"frequency\": 1}, \"15120\": {\"value\": 15120, \"frequency\": 4}, \"15123\": {\"value\": 15123, \"frequency\": 1}, \"15124\": {\"value\": 15124, \"frequency\": 1}, \"31510\": {\"value\": 31510, \"frequency\": 1}, \"15139\": {\"value\": 15139, \"frequency\": 1}, \"25600\": {\"value\": 25600, \"frequency\": 2}, \"15143\": {\"value\": 15143, \"frequency\": 2}, \"47916\": {\"value\": 47916, \"frequency\": 4}, \"15151\": {\"value\": 15151, \"frequency\": 2}, \"15160\": {\"value\": 15160, \"frequency\": 1}, \"7989\": {\"value\": 7989, \"frequency\": 2}, \"15175\": {\"value\": 15175, \"frequency\": 1}, \"218252\": {\"value\": 218252, \"frequency\": 1}, \"2530\": {\"value\": 2530, \"frequency\": 1}, \"15185\": {\"value\": 15185, \"frequency\": 1}, \"15188\": {\"value\": 15188, \"frequency\": 2}, \"15190\": {\"value\": 15190, \"frequency\": 1}, \"47959\": {\"value\": 47959, \"frequency\": 1}, \"15200\": {\"value\": 15200, \"frequency\": 3}, \"70800\": {\"value\": 70800, \"frequency\": 1}, \"36900\": {\"value\": 36900, \"frequency\": 2}, \"15207\": {\"value\": 15207, \"frequency\": 1}, \"65340\": {\"value\": 65340, \"frequency\": 6}, \"15210\": {\"value\": 15210, \"frequency\": 3}, \"97138\": {\"value\": 97138, \"frequency\": 2}, \"15219\": {\"value\": 15219, \"frequency\": 1}, \"15232\": {\"value\": 15232, \"frequency\": 2}, \"15235\": {\"value\": 15235, \"frequency\": 1}, \"15236\": {\"value\": 15236, \"frequency\": 1}, \"15240\": {\"value\": 15240, \"frequency\": 1}, \"136343\": {\"value\": 136343, \"frequency\": 1}, \"15246\": {\"value\": 15246, \"frequency\": 5}, \"15247\": {\"value\": 15247, \"frequency\": 1}, \"15250\": {\"value\": 15250, \"frequency\": 2}, \"15253\": {\"value\": 15253, \"frequency\": 1}, \"15258\": {\"value\": 15258, \"frequency\": 2}, \"15260\": {\"value\": 15260, \"frequency\": 1}, \"228254\": {\"value\": 228254, \"frequency\": 1}, \"15264\": {\"value\": 15264, \"frequency\": 2}, \"31675\": {\"value\": 31675, \"frequency\": 1}, \"15300\": {\"value\": 15300, \"frequency\": 1}, \"80837\": {\"value\": 80837, \"frequency\": 1}, \"2551\": {\"value\": 2551, \"frequency\": 1}, \"15312\": {\"value\": 15312, \"frequency\": 1}, \"64469\": {\"value\": 64469, \"frequency\": 1}, \"15330\": {\"value\": 15330, \"frequency\": 2}, \"15347\": {\"value\": 15347, \"frequency\": 1}, \"15349\": {\"value\": 15349, \"frequency\": 1}, \"15358\": {\"value\": 15358, \"frequency\": 1}, \"15360\": {\"value\": 15360, \"frequency\": 2}, \"15364\": {\"value\": 15364, \"frequency\": 1}, \"15367\": {\"value\": 15367, \"frequency\": 1}, \"6758\": {\"value\": 6758, \"frequency\": 1}, \"15375\": {\"value\": 15375, \"frequency\": 4}, \"15398\": {\"value\": 15398, \"frequency\": 1}, \"15400\": {\"value\": 15400, \"frequency\": 3}, \"15405\": {\"value\": 15405, \"frequency\": 1}, \"15411\": {\"value\": 15411, \"frequency\": 2}, \"31796\": {\"value\": 31796, \"frequency\": 1}, \"31798\": {\"value\": 31798, \"frequency\": 1}, \"15420\": {\"value\": 15420, \"frequency\": 1}, \"15426\": {\"value\": 15426, \"frequency\": 1}, \"15435\": {\"value\": 15435, \"frequency\": 1}, \"15438\": {\"value\": 15438, \"frequency\": 1}, \"15450\": {\"value\": 15450, \"frequency\": 3}, \"31838\": {\"value\": 31838, \"frequency\": 1}, \"15457\": {\"value\": 15457, \"frequency\": 1}, \"31850\": {\"value\": 31850, \"frequency\": 1}, \"4140\": {\"value\": 4140, \"frequency\": 4}, \"15480\": {\"value\": 15480, \"frequency\": 2}, \"81021\": {\"value\": 81021, \"frequency\": 4}, \"48257\": {\"value\": 48257, \"frequency\": 1}, \"15491\": {\"value\": 15491, \"frequency\": 1}, \"15496\": {\"value\": 15496, \"frequency\": 1}, \"15500\": {\"value\": 15500, \"frequency\": 3}, \"15508\": {\"value\": 15508, \"frequency\": 2}, \"15520\": {\"value\": 15520, \"frequency\": 2}, \"8048\": {\"value\": 8048, \"frequency\": 2}, \"48292\": {\"value\": 48292, \"frequency\": 1}, \"15525\": {\"value\": 15525, \"frequency\": 1}, \"15528\": {\"value\": 15528, \"frequency\": 1}, \"212137\": {\"value\": 212137, \"frequency\": 3}, \"15540\": {\"value\": 15540, \"frequency\": 3}, \"22144\": {\"value\": 22144, \"frequency\": 1}, \"130244\": {\"value\": 130244, \"frequency\": 1}, \"15559\": {\"value\": 15559, \"frequency\": 1}, \"11342\": {\"value\": 11342, \"frequency\": 1}, \"15570\": {\"value\": 15570, \"frequency\": 2}, \"32633\": {\"value\": 32633, \"frequency\": 1}, \"48351\": {\"value\": 48351, \"frequency\": 5}, \"15586\": {\"value\": 15586, \"frequency\": 1}, \"15593\": {\"value\": 15593, \"frequency\": 2}, \"41636\": {\"value\": 41636, \"frequency\": 1}, \"15600\": {\"value\": 15600, \"frequency\": 10}, \"15606\": {\"value\": 15606, \"frequency\": 1}, \"73600\": {\"value\": 73600, \"frequency\": 1}, \"982278\": {\"value\": 982278, \"frequency\": 1}, \"32010\": {\"value\": 32010, \"frequency\": 1}, \"114562\": {\"value\": 114562, \"frequency\": 1}, \"15639\": {\"value\": 15639, \"frequency\": 1}, \"15641\": {\"value\": 15641, \"frequency\": 2}, \"392475\": {\"value\": 392475, \"frequency\": 1}, \"8069\": {\"value\": 8069, \"frequency\": 2}, \"32033\": {\"value\": 32033, \"frequency\": 1}, \"15653\": {\"value\": 15653, \"frequency\": 2}, \"97574\": {\"value\": 97574, \"frequency\": 1}, \"32044\": {\"value\": 32044, \"frequency\": 1}, \"15677\": {\"value\": 15677, \"frequency\": 1}, \"15678\": {\"value\": 15678, \"frequency\": 1}, \"15681\": {\"value\": 15681, \"frequency\": 2}, \"10807\": {\"value\": 10807, \"frequency\": 1}, \"15701\": {\"value\": 15701, \"frequency\": 1}, \"15704\": {\"value\": 15704, \"frequency\": 1}, \"32093\": {\"value\": 32093, \"frequency\": 1}, \"73616\": {\"value\": 73616, \"frequency\": 2}, \"15720\": {\"value\": 15720, \"frequency\": 1}, \"32109\": {\"value\": 32109, \"frequency\": 2}, \"10815\": {\"value\": 10815, \"frequency\": 1}, \"21738\": {\"value\": 21738, \"frequency\": 1}, \"8085\": {\"value\": 8085, \"frequency\": 3}, \"15744\": {\"value\": 15744, \"frequency\": 1}, \"15745\": {\"value\": 15745, \"frequency\": 1}, \"15750\": {\"value\": 15750, \"frequency\": 2}, \"64904\": {\"value\": 64904, \"frequency\": 1}, \"32137\": {\"value\": 32137, \"frequency\": 1}, \"15757\": {\"value\": 15757, \"frequency\": 1}, \"15770\": {\"value\": 15770, \"frequency\": 1}, \"15783\": {\"value\": 15783, \"frequency\": 2}, \"15788\": {\"value\": 15788, \"frequency\": 2}, \"32175\": {\"value\": 32175, \"frequency\": 1}, \"196020\": {\"value\": 196020, \"frequency\": 1}, \"15798\": {\"value\": 15798, \"frequency\": 1}, \"15800\": {\"value\": 15800, \"frequency\": 1}, \"15817\": {\"value\": 15817, \"frequency\": 1}, \"32214\": {\"value\": 32214, \"frequency\": 1}, \"15837\": {\"value\": 15837, \"frequency\": 1}, \"327135\": {\"value\": 327135, \"frequency\": 1}, \"15842\": {\"value\": 15842, \"frequency\": 1}, \"21755\": {\"value\": 21755, \"frequency\": 1}, \"15844\": {\"value\": 15844, \"frequency\": 1}, \"7332\": {\"value\": 7332, \"frequency\": 2}, \"32234\": {\"value\": 32234, \"frequency\": 1}, \"65005\": {\"value\": 65005, \"frequency\": 1}, \"32239\": {\"value\": 32239, \"frequency\": 1}, \"12840\": {\"value\": 12840, \"frequency\": 3}, \"32251\": {\"value\": 32251, \"frequency\": 1}, \"15873\": {\"value\": 15873, \"frequency\": 1}, \"15890\": {\"value\": 15890, \"frequency\": 1}, \"46902\": {\"value\": 46902, \"frequency\": 1}, \"169448\": {\"value\": 169448, \"frequency\": 2}, \"15907\": {\"value\": 15907, \"frequency\": 1}, \"15916\": {\"value\": 15916, \"frequency\": 1}, \"48693\": {\"value\": 48693, \"frequency\": 1}, \"24500\": {\"value\": 24500, \"frequency\": 1}, \"24501\": {\"value\": 24501, \"frequency\": 1}, \"48706\": {\"value\": 48706, \"frequency\": 1}, \"2657\": {\"value\": 2657, \"frequency\": 1}, \"8119\": {\"value\": 8119, \"frequency\": 4}, \"15950\": {\"value\": 15950, \"frequency\": 1}, \"32336\": {\"value\": 32336, \"frequency\": 1}, \"15954\": {\"value\": 15954, \"frequency\": 1}, \"15958\": {\"value\": 15958, \"frequency\": 1}, \"15959\": {\"value\": 15959, \"frequency\": 1}, \"15960\": {\"value\": 15960, \"frequency\": 1}, \"48743\": {\"value\": 48743, \"frequency\": 1}, \"8124\": {\"value\": 8124, \"frequency\": 2}, \"13586\": {\"value\": 13586, \"frequency\": 1}, \"15992\": {\"value\": 15992, \"frequency\": 1}, \"32379\": {\"value\": 32379, \"frequency\": 1}, \"16000\": {\"value\": 16000, \"frequency\": 14}, \"81549\": {\"value\": 81549, \"frequency\": 1}, \"16015\": {\"value\": 16015, \"frequency\": 3}, \"48787\": {\"value\": 48787, \"frequency\": 5}, \"16020\": {\"value\": 16020, \"frequency\": 2}, \"212639\": {\"value\": 212639, \"frequency\": 1}, \"5405\": {\"value\": 5405, \"frequency\": 2}, \"16048\": {\"value\": 16048, \"frequency\": 1}, \"16050\": {\"value\": 16050, \"frequency\": 3}, \"22357\": {\"value\": 22357, \"frequency\": 1}, \"8137\": {\"value\": 8137, \"frequency\": 2}, \"16061\": {\"value\": 16061, \"frequency\": 1}, \"16065\": {\"value\": 16065, \"frequency\": 2}, \"32450\": {\"value\": 32450, \"frequency\": 1}, \"16080\": {\"value\": 16080, \"frequency\": 1}, \"40910\": {\"value\": 40910, \"frequency\": 1}, \"5412\": {\"value\": 5412, \"frequency\": 2}, \"16105\": {\"value\": 16105, \"frequency\": 1}, \"16110\": {\"value\": 16110, \"frequency\": 2}, \"16117\": {\"value\": 16117, \"frequency\": 4}, \"16120\": {\"value\": 16120, \"frequency\": 1}, \"10879\": {\"value\": 10879, \"frequency\": 1}, \"4690\": {\"value\": 4690, \"frequency\": 2}, \"16139\": {\"value\": 16139, \"frequency\": 1}, \"16145\": {\"value\": 16145, \"frequency\": 1}, \"17450\": {\"value\": 17450, \"frequency\": 1}, \"16170\": {\"value\": 16170, \"frequency\": 1}, \"16171\": {\"value\": 16171, \"frequency\": 1}, \"360241\": {\"value\": 360241, \"frequency\": 1}, \"16188\": {\"value\": 16188, \"frequency\": 1}, \"16197\": {\"value\": 16197, \"frequency\": 2}, \"16200\": {\"value\": 16200, \"frequency\": 17}, \"264844\": {\"value\": 264844, \"frequency\": 1}, \"16219\": {\"value\": 16219, \"frequency\": 1}, \"188760\": {\"value\": 188760, \"frequency\": 1}, \"48993\": {\"value\": 48993, \"frequency\": 1}, \"16236\": {\"value\": 16236, \"frequency\": 1}, \"11783\": {\"value\": 11783, \"frequency\": 1}, \"16249\": {\"value\": 16249, \"frequency\": 1}, \"262018\": {\"value\": 262018, \"frequency\": 1}, \"16262\": {\"value\": 16262, \"frequency\": 1}, \"16263\": {\"value\": 16263, \"frequency\": 1}, \"16264\": {\"value\": 16264, \"frequency\": 1}, \"16275\": {\"value\": 16275, \"frequency\": 1}, \"32660\": {\"value\": 32660, \"frequency\": 1}, \"32666\": {\"value\": 32666, \"frequency\": 1}, \"32670\": {\"value\": 32670, \"frequency\": 2}, \"16290\": {\"value\": 16290, \"frequency\": 1}, \"16300\": {\"value\": 16300, \"frequency\": 3}, \"16305\": {\"value\": 16305, \"frequency\": 1}, \"32700\": {\"value\": 32700, \"frequency\": 3}, \"5450\": {\"value\": 5450, \"frequency\": 5}, \"16320\": {\"value\": 16320, \"frequency\": 1}, \"49091\": {\"value\": 49091, \"frequency\": 1}, \"32710\": {\"value\": 32710, \"frequency\": 1}, \"3817\": {\"value\": 3817, \"frequency\": 2}, \"16339\": {\"value\": 16339, \"frequency\": 1}, \"210254\": {\"value\": 210254, \"frequency\": 1}, \"982998\": {\"value\": 982998, \"frequency\": 1}, \"81892\": {\"value\": 81892, \"frequency\": 4}, \"81893\": {\"value\": 81893, \"frequency\": 2}, \"16365\": {\"value\": 16365, \"frequency\": 1}, \"49137\": {\"value\": 49137, \"frequency\": 1}, \"32757\": {\"value\": 32757, \"frequency\": 1}, \"16376\": {\"value\": 16376, \"frequency\": 1}}, \"min\": 520.0, \"size\": 21613, \"max\": 1651359.0}, \"bedrooms\": {\"num_undefined\": 0, \"complete\": true, \"frequent_items\": {\"8\": {\"value\": \"8\", \"frequency\": 13}, \"3\": {\"value\": \"3\", \"frequency\": 9824}, \"11\": {\"value\": \"11\", \"frequency\": 1}, \"7\": {\"value\": \"7\", \"frequency\": 38}, \"5\": {\"value\": \"5\", \"frequency\": 1601}, \"10\": {\"value\": \"10\", \"frequency\": 3}, \"2\": {\"value\": \"2\", \"frequency\": 2760}, \"6\": {\"value\": \"6\", \"frequency\": 272}, \"1\": {\"value\": \"1\", \"frequency\": 199}, \"4\": {\"value\": \"4\", \"frequency\": 6882}, \"9\": {\"value\": \"9\", \"frequency\": 6}, \"0\": {\"value\": \"0\", \"frequency\": 13}, \"33\": {\"value\": \"33\", \"frequency\": 1}}, \"num_unique\": 13, \"size\": 21613, \"progress\": 1.0, \"numeric\": false}, \"zipcode\": {\"num_undefined\": 0, \"complete\": true, \"frequent_items\": {\"98055\": {\"value\": \"98055\", \"frequency\": 268}, \"98028\": {\"value\": \"98028\", \"frequency\": 283}, \"98065\": {\"value\": \"98065\", \"frequency\": 310}, \"98042\": {\"value\": \"98042\", \"frequency\": 548}, \"98199\": {\"value\": \"98199\", \"frequency\": 317}, \"98059\": {\"value\": \"98059\", \"frequency\": 468}, \"98117\": {\"value\": \"98117\", \"frequency\": 553}, \"98112\": {\"value\": \"98112\", \"frequency\": 269}, \"98002\": {\"value\": \"98002\", \"frequency\": 199}, \"98038\": {\"value\": \"98038\", \"frequency\": 590}, \"98092\": {\"value\": \"98092\", \"frequency\": 351}, \"98144\": {\"value\": \"98144\", \"frequency\": 343}, \"98178\": {\"value\": \"98178\", \"frequency\": 262}, \"98031\": {\"value\": \"98031\", \"frequency\": 274}, \"98008\": {\"value\": \"98008\", \"frequency\": 283}, \"98007\": {\"value\": \"98007\", \"frequency\": 141}, \"98122\": {\"value\": \"98122\", \"frequency\": 290}, \"98058\": {\"value\": \"98058\", \"frequency\": 455}, \"98030\": {\"value\": \"98030\", \"frequency\": 256}, \"98053\": {\"value\": \"98053\", \"frequency\": 405}, \"98126\": {\"value\": \"98126\", \"frequency\": 354}, \"98166\": {\"value\": \"98166\", \"frequency\": 254}, \"98168\": {\"value\": \"98168\", \"frequency\": 269}, \"98115\": {\"value\": \"98115\", \"frequency\": 583}, \"98010\": {\"value\": \"98010\", \"frequency\": 100}, \"98003\": {\"value\": \"98003\", \"frequency\": 280}, \"98108\": {\"value\": \"98108\", \"frequency\": 186}, \"98022\": {\"value\": \"98022\", \"frequency\": 234}, \"98155\": {\"value\": \"98155\", \"frequency\": 446}, \"98072\": {\"value\": \"98072\", \"frequency\": 273}, \"98119\": {\"value\": \"98119\", \"frequency\": 184}, \"98032\": {\"value\": \"98032\", \"frequency\": 125}, \"98116\": {\"value\": \"98116\", \"frequency\": 330}, \"98188\": {\"value\": \"98188\", \"frequency\": 136}, \"98004\": {\"value\": \"98004\", \"frequency\": 317}, \"98102\": {\"value\": \"98102\", \"frequency\": 105}, \"98125\": {\"value\": \"98125\", \"frequency\": 410}, \"98177\": {\"value\": \"98177\", \"frequency\": 255}, \"98006\": {\"value\": \"98006\", \"frequency\": 498}, \"98198\": {\"value\": \"98198\", \"frequency\": 280}, \"98109\": {\"value\": \"98109\", \"frequency\": 109}, \"98019\": {\"value\": \"98019\", \"frequency\": 190}, \"98052\": {\"value\": \"98052\", \"frequency\": 574}, \"98039\": {\"value\": \"98039\", \"frequency\": 50}, \"98005\": {\"value\": \"98005\", \"frequency\": 168}, \"98107\": {\"value\": \"98107\", \"frequency\": 266}, \"98027\": {\"value\": \"98027\", \"frequency\": 412}, \"98011\": {\"value\": \"98011\", \"frequency\": 195}, \"98146\": {\"value\": \"98146\", \"frequency\": 288}, \"98033\": {\"value\": \"98033\", \"frequency\": 432}, \"98136\": {\"value\": \"98136\", \"frequency\": 263}, \"98024\": {\"value\": \"98024\", \"frequency\": 81}, \"98075\": {\"value\": \"98075\", \"frequency\": 359}, \"98074\": {\"value\": \"98074\", \"frequency\": 441}, \"98118\": {\"value\": \"98118\", \"frequency\": 508}, \"98070\": {\"value\": \"98070\", \"frequency\": 118}, \"98077\": {\"value\": \"98077\", \"frequency\": 198}, \"98045\": {\"value\": \"98045\", \"frequency\": 221}, \"98034\": {\"value\": \"98034\", \"frequency\": 545}, \"98105\": {\"value\": \"98105\", \"frequency\": 229}, \"98133\": {\"value\": \"98133\", \"frequency\": 494}, \"98023\": {\"value\": \"98023\", \"frequency\": 499}, \"98148\": {\"value\": \"98148\", \"frequency\": 57}, \"98014\": {\"value\": \"98014\", \"frequency\": 124}, \"98106\": {\"value\": \"98106\", \"frequency\": 335}, \"98040\": {\"value\": \"98040\", \"frequency\": 282}, \"98001\": {\"value\": \"98001\", \"frequency\": 362}, \"98029\": {\"value\": \"98029\", \"frequency\": 321}, \"98103\": {\"value\": \"98103\", \"frequency\": 602}, \"98056\": {\"value\": \"98056\", \"frequency\": 406}}, \"num_unique\": 70, \"size\": 21613, \"progress\": 1.0, \"numeric\": false}, \"sqft_living\": {\"std\": 918.4196493828822, \"complete\": true, \"numeric\": true, \"median\": 1910.0, \"quantile\": [290.0, 720.0, 790.0, 840.0, 890.0, 930.0, 970.0, 1010.0, 1030.0, 1060.0, 1090.0, 1120.0, 1150.0, 1170.0, 1200.0, 1220.0, 1240.0, 1260.0, 1280.0, 1300.0, 1320.0, 1340.0, 1365.0, 1390.0, 1400.0, 1430.0, 1440.0, 1460.0, 1480.0, 1500.0, 1520.0, 1540.0, 1560.0, 1580.0, 1600.0, 1610.0, 1640.0, 1654.0, 1670.0, 1690.0, 1710.0, 1730.0, 1750.0, 1770.0, 1790.0, 1810.0, 1830.0, 1850.0, 1870.0, 1890.0, 1910.0, 1940.0, 1960.0, 1980.0, 2000.0, 2020.0, 2050.0, 2070.0, 2090.0, 2110.0, 2130.0, 2160.0, 2180.0, 2210.0, 2230.0, 2260.0, 2290.0, 2310.0, 2340.0, 2370.0, 2400.0, 2420.0, 2450.0, 2490.0, 2514.0, 2550.0, 2580.0, 2620.0, 2650.0, 2690.0, 2730.0, 2770.0, 2810.0, 2860.0, 2910.0, 2970.0, 3010.0, 3070.0, 3130.0, 3190.0, 3250.0, 3330.0, 3420.0, 3520.0, 3640.0, 3770.0, 3930.0, 4150.0, 4420.0, 5020.0, 13540.0], \"var\": 843494.6523725762, \"progress\": 1.0, \"mean\": 2079.8997362698346, \"num_unique\": 1036, \"num_undefined\": 0, \"frequent_items\": {\"2050\": {\"value\": 2050, \"frequency\": 83}, \"4100\": {\"value\": 4100, \"frequency\": 5}, \"2056\": {\"value\": 2056, \"frequency\": 2}, \"2732\": {\"value\": 2732, \"frequency\": 2}, \"2060\": {\"value\": 2060, \"frequency\": 100}, \"4110\": {\"value\": 4110, \"frequency\": 10}, \"2064\": {\"value\": 2064, \"frequency\": 1}, \"4115\": {\"value\": 4115, \"frequency\": 1}, \"2068\": {\"value\": 2068, \"frequency\": 1}, \"2070\": {\"value\": 2070, \"frequency\": 92}, \"4120\": {\"value\": 4120, \"frequency\": 9}, \"2052\": {\"value\": 2052, \"frequency\": 1}, \"2074\": {\"value\": 2074, \"frequency\": 1}, \"2075\": {\"value\": 2075, \"frequency\": 2}, \"2080\": {\"value\": 2080, \"frequency\": 98}, \"4130\": {\"value\": 4130, \"frequency\": 8}, \"2085\": {\"value\": 2085, \"frequency\": 1}, \"2090\": {\"value\": 2090, \"frequency\": 95}, \"4140\": {\"value\": 4140, \"frequency\": 12}, \"2093\": {\"value\": 2093, \"frequency\": 1}, \"2095\": {\"value\": 2095, \"frequency\": 3}, \"2099\": {\"value\": 2099, \"frequency\": 1}, \"2100\": {\"value\": 2100, \"frequency\": 116}, \"4150\": {\"value\": 4150, \"frequency\": 10}, \"6200\": {\"value\": 6200, \"frequency\": 2}, \"2105\": {\"value\": 2105, \"frequency\": 1}, \"4883\": {\"value\": 4883, \"frequency\": 1}, \"2110\": {\"value\": 2110, \"frequency\": 82}, \"4160\": {\"value\": 4160, \"frequency\": 7}, \"6210\": {\"value\": 6210, \"frequency\": 1}, \"2115\": {\"value\": 2115, \"frequency\": 1}, \"2120\": {\"value\": 2120, \"frequency\": 111}, \"4170\": {\"value\": 4170, \"frequency\": 6}, \"2744\": {\"value\": 2744, \"frequency\": 1}, \"2130\": {\"value\": 2130, \"frequency\": 94}, \"4180\": {\"value\": 4180, \"frequency\": 7}, \"2134\": {\"value\": 2134, \"frequency\": 1}, \"2140\": {\"value\": 2140, \"frequency\": 78}, \"4190\": {\"value\": 4190, \"frequency\": 6}, \"6240\": {\"value\": 6240, \"frequency\": 1}, \"2145\": {\"value\": 2145, \"frequency\": 1}, \"2150\": {\"value\": 2150, \"frequency\": 85}, \"4200\": {\"value\": 4200, \"frequency\": 6}, \"2153\": {\"value\": 2153, \"frequency\": 1}, \"2154\": {\"value\": 2154, \"frequency\": 2}, \"2155\": {\"value\": 2155, \"frequency\": 1}, \"2156\": {\"value\": 2156, \"frequency\": 1}, \"2160\": {\"value\": 2160, \"frequency\": 96}, \"1384\": {\"value\": 1384, \"frequency\": 3}, \"4210\": {\"value\": 4210, \"frequency\": 7}, \"2163\": {\"value\": 2163, \"frequency\": 2}, \"6260\": {\"value\": 6260, \"frequency\": 1}, \"2166\": {\"value\": 2166, \"frequency\": 1}, \"2168\": {\"value\": 2168, \"frequency\": 2}, \"2170\": {\"value\": 2170, \"frequency\": 80}, \"4220\": {\"value\": 4220, \"frequency\": 8}, \"982\": {\"value\": 982, \"frequency\": 1}, \"4225\": {\"value\": 4225, \"frequency\": 1}, \"2180\": {\"value\": 2180, \"frequency\": 89}, \"2181\": {\"value\": 2181, \"frequency\": 1}, \"4230\": {\"value\": 4230, \"frequency\": 11}, \"2185\": {\"value\": 2185, \"frequency\": 1}, \"2190\": {\"value\": 2190, \"frequency\": 92}, \"4240\": {\"value\": 4240, \"frequency\": 7}, \"3960\": {\"value\": 3960, \"frequency\": 11}, \"2195\": {\"value\": 2195, \"frequency\": 1}, \"2196\": {\"value\": 2196, \"frequency\": 1}, \"2414\": {\"value\": 2414, \"frequency\": 1}, \"2198\": {\"value\": 2198, \"frequency\": 1}, \"2200\": {\"value\": 2200, \"frequency\": 93}, \"2201\": {\"value\": 2201, \"frequency\": 1}, \"4250\": {\"value\": 4250, \"frequency\": 10}, \"6300\": {\"value\": 6300, \"frequency\": 1}, \"2206\": {\"value\": 2206, \"frequency\": 1}, \"2208\": {\"value\": 2208, \"frequency\": 1}, \"1392\": {\"value\": 1392, \"frequency\": 1}, \"2210\": {\"value\": 2210, \"frequency\": 74}, \"4260\": {\"value\": 4260, \"frequency\": 6}, \"2216\": {\"value\": 2216, \"frequency\": 1}, \"2217\": {\"value\": 2217, \"frequency\": 1}, \"2220\": {\"value\": 2220, \"frequency\": 75}, \"4270\": {\"value\": 4270, \"frequency\": 11}, \"2223\": {\"value\": 2223, \"frequency\": 1}, \"2229\": {\"value\": 2229, \"frequency\": 1}, \"2230\": {\"value\": 2230, \"frequency\": 82}, \"4280\": {\"value\": 4280, \"frequency\": 9}, \"2233\": {\"value\": 2233, \"frequency\": 1}, \"6330\": {\"value\": 6330, \"frequency\": 1}, \"2235\": {\"value\": 2235, \"frequency\": 1}, \"4285\": {\"value\": 4285, \"frequency\": 2}, \"2238\": {\"value\": 2238, \"frequency\": 1}, \"2240\": {\"value\": 2240, \"frequency\": 101}, \"4290\": {\"value\": 4290, \"frequency\": 7}, \"2244\": {\"value\": 2244, \"frequency\": 1}, \"2245\": {\"value\": 2245, \"frequency\": 2}, \"2538\": {\"value\": 2538, \"frequency\": 1}, \"2250\": {\"value\": 2250, \"frequency\": 68}, \"2251\": {\"value\": 2251, \"frequency\": 1}, \"4300\": {\"value\": 4300, \"frequency\": 8}, \"2253\": {\"value\": 2253, \"frequency\": 1}, \"1741\": {\"value\": 1741, \"frequency\": 2}, \"2257\": {\"value\": 2257, \"frequency\": 1}, \"2259\": {\"value\": 2259, \"frequency\": 1}, \"2260\": {\"value\": 2260, \"frequency\": 79}, \"4310\": {\"value\": 4310, \"frequency\": 5}, \"2267\": {\"value\": 2267, \"frequency\": 1}, \"2270\": {\"value\": 2270, \"frequency\": 62}, \"4133\": {\"value\": 4133, \"frequency\": 1}, \"4320\": {\"value\": 4320, \"frequency\": 9}, \"6370\": {\"value\": 6370, \"frequency\": 1}, \"2280\": {\"value\": 2280, \"frequency\": 81}, \"4330\": {\"value\": 4330, \"frequency\": 4}, \"2283\": {\"value\": 2283, \"frequency\": 1}, \"6380\": {\"value\": 6380, \"frequency\": 1}, \"2286\": {\"value\": 2286, \"frequency\": 1}, \"2290\": {\"value\": 2290, \"frequency\": 80}, \"4340\": {\"value\": 4340, \"frequency\": 8}, \"6390\": {\"value\": 6390, \"frequency\": 1}, \"2298\": {\"value\": 2298, \"frequency\": 1}, \"2300\": {\"value\": 2300, \"frequency\": 84}, \"2301\": {\"value\": 2301, \"frequency\": 1}, \"4350\": {\"value\": 4350, \"frequency\": 7}, \"2303\": {\"value\": 2303, \"frequency\": 3}, \"6400\": {\"value\": 6400, \"frequency\": 1}, \"2305\": {\"value\": 2305, \"frequency\": 1}, \"2310\": {\"value\": 2310, \"frequency\": 59}, \"2311\": {\"value\": 2311, \"frequency\": 1}, \"4360\": {\"value\": 4360, \"frequency\": 9}, \"2092\": {\"value\": 2092, \"frequency\": 1}, \"6410\": {\"value\": 6410, \"frequency\": 1}, \"6530\": {\"value\": 6530, \"frequency\": 1}, \"2320\": {\"value\": 2320, \"frequency\": 90}, \"3800\": {\"value\": 3800, \"frequency\": 10}, \"4370\": {\"value\": 4370, \"frequency\": 8}, \"3118\": {\"value\": 3118, \"frequency\": 1}, \"2329\": {\"value\": 2329, \"frequency\": 2}, \"2330\": {\"value\": 2330, \"frequency\": 76}, \"2331\": {\"value\": 2331, \"frequency\": 1}, \"4380\": {\"value\": 4380, \"frequency\": 7}, \"6430\": {\"value\": 6430, \"frequency\": 1}, \"1072\": {\"value\": 1072, \"frequency\": 1}, \"290\": {\"value\": 290, \"frequency\": 1}, \"2340\": {\"value\": 2340, \"frequency\": 80}, \"2341\": {\"value\": 2341, \"frequency\": 1}, \"4390\": {\"value\": 4390, \"frequency\": 7}, \"2344\": {\"value\": 2344, \"frequency\": 2}, \"2350\": {\"value\": 2350, \"frequency\": 74}, \"4400\": {\"value\": 4400, \"frequency\": 5}, \"3488\": {\"value\": 3488, \"frequency\": 1}, \"2738\": {\"value\": 2738, \"frequency\": 1}, \"2360\": {\"value\": 2360, \"frequency\": 75}, \"1076\": {\"value\": 1076, \"frequency\": 1}, \"4410\": {\"value\": 4410, \"frequency\": 12}, \"2370\": {\"value\": 2370, \"frequency\": 75}, \"4420\": {\"value\": 4420, \"frequency\": 9}, \"2375\": {\"value\": 2375, \"frequency\": 1}, \"2380\": {\"value\": 2380, \"frequency\": 64}, \"4430\": {\"value\": 4430, \"frequency\": 6}, \"1422\": {\"value\": 1422, \"frequency\": 1}, \"2390\": {\"value\": 2390, \"frequency\": 85}, \"4440\": {\"value\": 4440, \"frequency\": 7}, \"2393\": {\"value\": 2393, \"frequency\": 1}, \"6490\": {\"value\": 6490, \"frequency\": 1}, \"2395\": {\"value\": 2395, \"frequency\": 1}, \"2398\": {\"value\": 2398, \"frequency\": 1}, \"2789\": {\"value\": 2789, \"frequency\": 1}, \"2400\": {\"value\": 2400, \"frequency\": 84}, \"4450\": {\"value\": 4450, \"frequency\": 2}, \"2403\": {\"value\": 2403, \"frequency\": 1}, \"6500\": {\"value\": 6500, \"frequency\": 1}, \"2406\": {\"value\": 2406, \"frequency\": 1}, \"1084\": {\"value\": 1084, \"frequency\": 1}, \"2410\": {\"value\": 2410, \"frequency\": 57}, \"4460\": {\"value\": 4460, \"frequency\": 9}, \"2413\": {\"value\": 2413, \"frequency\": 1}, \"6510\": {\"value\": 6510, \"frequency\": 1}, \"2415\": {\"value\": 2415, \"frequency\": 1}, \"370\": {\"value\": 370, \"frequency\": 1}, \"2420\": {\"value\": 2420, \"frequency\": 88}, \"4470\": {\"value\": 4470, \"frequency\": 7}, \"2423\": {\"value\": 2423, \"frequency\": 1}, \"2424\": {\"value\": 2424, \"frequency\": 2}, \"2425\": {\"value\": 2425, \"frequency\": 1}, \"4475\": {\"value\": 4475, \"frequency\": 2}, \"380\": {\"value\": 380, \"frequency\": 1}, \"2430\": {\"value\": 2430, \"frequency\": 70}, \"2432\": {\"value\": 2432, \"frequency\": 1}, \"3136\": {\"value\": 3136, \"frequency\": 1}, \"2434\": {\"value\": 2434, \"frequency\": 1}, \"2437\": {\"value\": 2437, \"frequency\": 1}, \"390\": {\"value\": 390, \"frequency\": 2}, \"2440\": {\"value\": 2440, \"frequency\": 87}, \"2441\": {\"value\": 2441, \"frequency\": 1}, \"4490\": {\"value\": 4490, \"frequency\": 8}, \"4495\": {\"value\": 4495, \"frequency\": 1}, \"2448\": {\"value\": 2448, \"frequency\": 1}, \"2450\": {\"value\": 2450, \"frequency\": 52}, \"2452\": {\"value\": 2452, \"frequency\": 1}, \"2798\": {\"value\": 2798, \"frequency\": 2}, \"6550\": {\"value\": 6550, \"frequency\": 1}, \"5810\": {\"value\": 5810, \"frequency\": 1}, \"2456\": {\"value\": 2456, \"frequency\": 1}, \"1092\": {\"value\": 1092, \"frequency\": 1}, \"410\": {\"value\": 410, \"frequency\": 1}, \"2460\": {\"value\": 2460, \"frequency\": 66}, \"4510\": {\"value\": 4510, \"frequency\": 4}, \"6563\": {\"value\": 6563, \"frequency\": 1}, \"420\": {\"value\": 420, \"frequency\": 2}, \"2470\": {\"value\": 2470, \"frequency\": 52}, \"4520\": {\"value\": 4520, \"frequency\": 2}, \"2473\": {\"value\": 2473, \"frequency\": 1}, \"2475\": {\"value\": 2475, \"frequency\": 4}, \"430\": {\"value\": 430, \"frequency\": 1}, \"2480\": {\"value\": 2480, \"frequency\": 65}, \"4168\": {\"value\": 4168, \"frequency\": 1}, \"4530\": {\"value\": 4530, \"frequency\": 2}, \"2483\": {\"value\": 2483, \"frequency\": 2}, \"440\": {\"value\": 440, \"frequency\": 1}, \"3828\": {\"value\": 3828, \"frequency\": 1}, \"2490\": {\"value\": 2490, \"frequency\": 58}, \"4540\": {\"value\": 4540, \"frequency\": 1}, \"2495\": {\"value\": 2495, \"frequency\": 3}, \"2496\": {\"value\": 2496, \"frequency\": 1}, \"2497\": {\"value\": 2497, \"frequency\": 1}, \"2500\": {\"value\": 2500, \"frequency\": 90}, \"3830\": {\"value\": 3830, \"frequency\": 20}, \"4550\": {\"value\": 4550, \"frequency\": 2}, \"3148\": {\"value\": 3148, \"frequency\": 1}, \"2506\": {\"value\": 2506, \"frequency\": 2}, \"2507\": {\"value\": 2507, \"frequency\": 1}, \"460\": {\"value\": 460, \"frequency\": 1}, \"2510\": {\"value\": 2510, \"frequency\": 70}, \"4560\": {\"value\": 4560, \"frequency\": 8}, \"2514\": {\"value\": 2514, \"frequency\": 1}, \"2517\": {\"value\": 2517, \"frequency\": 1}, \"2518\": {\"value\": 2518, \"frequency\": 1}, \"2519\": {\"value\": 2519, \"frequency\": 1}, \"2520\": {\"value\": 2520, \"frequency\": 71}, \"1444\": {\"value\": 1444, \"frequency\": 1}, \"4570\": {\"value\": 4570, \"frequency\": 6}, \"8670\": {\"value\": 8670, \"frequency\": 1}, \"4575\": {\"value\": 4575, \"frequency\": 1}, \"480\": {\"value\": 480, \"frequency\": 2}, \"2529\": {\"value\": 2529, \"frequency\": 1}, \"2530\": {\"value\": 2530, \"frequency\": 48}, \"2531\": {\"value\": 2531, \"frequency\": 1}, \"4580\": {\"value\": 4580, \"frequency\": 2}, \"6630\": {\"value\": 6630, \"frequency\": 1}, \"490\": {\"value\": 490, \"frequency\": 1}, \"2540\": {\"value\": 2540, \"frequency\": 61}, \"4590\": {\"value\": 4590, \"frequency\": 7}, \"6640\": {\"value\": 6640, \"frequency\": 2}, \"2547\": {\"value\": 2547, \"frequency\": 1}, \"500\": {\"value\": 500, \"frequency\": 1}, \"2550\": {\"value\": 2550, \"frequency\": 74}, \"4600\": {\"value\": 4600, \"frequency\": 6}, \"2555\": {\"value\": 2555, \"frequency\": 1}, \"2557\": {\"value\": 2557, \"frequency\": 1}, \"2560\": {\"value\": 2560, \"frequency\": 58}, \"4610\": {\"value\": 4610, \"frequency\": 7}, \"520\": {\"value\": 520, \"frequency\": 6}, \"2570\": {\"value\": 2570, \"frequency\": 62}, \"4620\": {\"value\": 4620, \"frequency\": 3}, \"6670\": {\"value\": 6670, \"frequency\": 1}, \"2575\": {\"value\": 2575, \"frequency\": 1}, \"2577\": {\"value\": 2577, \"frequency\": 1}, \"530\": {\"value\": 530, \"frequency\": 3}, \"2580\": {\"value\": 2580, \"frequency\": 51}, \"2478\": {\"value\": 2478, \"frequency\": 1}, \"4630\": {\"value\": 4630, \"frequency\": 2}, \"2584\": {\"value\": 2584, \"frequency\": 1}, \"540\": {\"value\": 540, \"frequency\": 2}, \"2590\": {\"value\": 2590, \"frequency\": 55}, \"4640\": {\"value\": 4640, \"frequency\": 4}, \"2594\": {\"value\": 2594, \"frequency\": 1}, \"4645\": {\"value\": 4645, \"frequency\": 1}, \"550\": {\"value\": 550, \"frequency\": 4}, \"2481\": {\"value\": 2481, \"frequency\": 1}, \"2600\": {\"value\": 2600, \"frequency\": 68}, \"2601\": {\"value\": 2601, \"frequency\": 1}, \"4650\": {\"value\": 4650, \"frequency\": 2}, \"2605\": {\"value\": 2605, \"frequency\": 3}, \"560\": {\"value\": 560, \"frequency\": 4}, \"2610\": {\"value\": 2610, \"frequency\": 51}, \"4660\": {\"value\": 4660, \"frequency\": 6}, \"570\": {\"value\": 570, \"frequency\": 3}, \"2620\": {\"value\": 2620, \"frequency\": 73}, \"1802\": {\"value\": 1802, \"frequency\": 1}, \"4670\": {\"value\": 4670, \"frequency\": 5}, \"2623\": {\"value\": 2623, \"frequency\": 1}, \"580\": {\"value\": 580, \"frequency\": 5}, \"2630\": {\"value\": 2630, \"frequency\": 53}, \"2632\": {\"value\": 2632, \"frequency\": 2}, \"2828\": {\"value\": 2828, \"frequency\": 1}, \"1122\": {\"value\": 1122, \"frequency\": 2}, \"590\": {\"value\": 590, \"frequency\": 5}, \"2640\": {\"value\": 2640, \"frequency\": 50}, \"2641\": {\"value\": 2641, \"frequency\": 2}, \"4690\": {\"value\": 4690, \"frequency\": 5}, \"2643\": {\"value\": 2643, \"frequency\": 1}, \"600\": {\"value\": 600, \"frequency\": 7}, \"3172\": {\"value\": 3172, \"frequency\": 1}, \"2650\": {\"value\": 2650, \"frequency\": 60}, \"4700\": {\"value\": 4700, \"frequency\": 8}, \"2653\": {\"value\": 2653, \"frequency\": 1}, \"2655\": {\"value\": 2655, \"frequency\": 1}, \"2656\": {\"value\": 2656, \"frequency\": 1}, \"610\": {\"value\": 610, \"frequency\": 4}, \"2660\": {\"value\": 2660, \"frequency\": 62}, \"4710\": {\"value\": 4710, \"frequency\": 1}, \"2665\": {\"value\": 2665, \"frequency\": 1}, \"620\": {\"value\": 620, \"frequency\": 12}, \"2669\": {\"value\": 2669, \"frequency\": 1}, \"2670\": {\"value\": 2670, \"frequency\": 46}, \"4720\": {\"value\": 4720, \"frequency\": 4}, \"2675\": {\"value\": 2675, \"frequency\": 1}, \"630\": {\"value\": 630, \"frequency\": 5}, \"2680\": {\"value\": 2680, \"frequency\": 64}, \"1812\": {\"value\": 1812, \"frequency\": 1}, \"4730\": {\"value\": 4730, \"frequency\": 2}, \"2683\": {\"value\": 2683, \"frequency\": 1}, \"640\": {\"value\": 640, \"frequency\": 5}, \"2689\": {\"value\": 2689, \"frequency\": 2}, \"2690\": {\"value\": 2690, \"frequency\": 42}, \"4740\": {\"value\": 4740, \"frequency\": 5}, \"1934\": {\"value\": 1934, \"frequency\": 1}, \"650\": {\"value\": 650, \"frequency\": 3}, \"4386\": {\"value\": 4386, \"frequency\": 1}, \"2700\": {\"value\": 2700, \"frequency\": 58}, \"2701\": {\"value\": 2701, \"frequency\": 2}, \"4750\": {\"value\": 4750, \"frequency\": 5}, \"660\": {\"value\": 660, \"frequency\": 6}, \"2710\": {\"value\": 2710, \"frequency\": 51}, \"4760\": {\"value\": 4760, \"frequency\": 1}, \"6810\": {\"value\": 6810, \"frequency\": 1}, \"2716\": {\"value\": 2716, \"frequency\": 1}, \"2717\": {\"value\": 2717, \"frequency\": 1}, \"670\": {\"value\": 670, \"frequency\": 25}, \"2720\": {\"value\": 2720, \"frequency\": 58}, \"4770\": {\"value\": 4770, \"frequency\": 2}, \"2502\": {\"value\": 2502, \"frequency\": 1}, \"6160\": {\"value\": 6160, \"frequency\": 1}, \"680\": {\"value\": 680, \"frequency\": 13}, \"2730\": {\"value\": 2730, \"frequency\": 48}, \"4780\": {\"value\": 4780, \"frequency\": 2}, \"2734\": {\"value\": 2734, \"frequency\": 1}, \"690\": {\"value\": 690, \"frequency\": 8}, \"2740\": {\"value\": 2740, \"frequency\": 53}, \"4790\": {\"value\": 4790, \"frequency\": 2}, \"6840\": {\"value\": 6840, \"frequency\": 1}, \"700\": {\"value\": 700, \"frequency\": 36}, \"2750\": {\"value\": 2750, \"frequency\": 40}, \"4800\": {\"value\": 4800, \"frequency\": 3}, \"2753\": {\"value\": 2753, \"frequency\": 1}, \"2755\": {\"value\": 2755, \"frequency\": 2}, \"710\": {\"value\": 710, \"frequency\": 27}, \"2760\": {\"value\": 2760, \"frequency\": 43}, \"4810\": {\"value\": 4810, \"frequency\": 2}, \"720\": {\"value\": 720, \"frequency\": 49}, \"3192\": {\"value\": 3192, \"frequency\": 1}, \"2770\": {\"value\": 2770, \"frequency\": 56}, \"4820\": {\"value\": 4820, \"frequency\": 1}, \"730\": {\"value\": 730, \"frequency\": 14}, \"2780\": {\"value\": 2780, \"frequency\": 47}, \"4830\": {\"value\": 4830, \"frequency\": 4}, \"2783\": {\"value\": 2783, \"frequency\": 1}, \"6880\": {\"value\": 6880, \"frequency\": 1}, \"740\": {\"value\": 740, \"frequency\": 22}, \"1252\": {\"value\": 1252, \"frequency\": 1}, \"2790\": {\"value\": 2790, \"frequency\": 52}, \"2793\": {\"value\": 2793, \"frequency\": 1}, \"2795\": {\"value\": 2795, \"frequency\": 1}, \"2796\": {\"value\": 2796, \"frequency\": 1}, \"750\": {\"value\": 750, \"frequency\": 27}, \"2800\": {\"value\": 2800, \"frequency\": 54}, \"4850\": {\"value\": 4850, \"frequency\": 4}, \"2803\": {\"value\": 2803, \"frequency\": 1}, \"6900\": {\"value\": 6900, \"frequency\": 1}, \"2807\": {\"value\": 2807, \"frequency\": 1}, \"760\": {\"value\": 760, \"frequency\": 25}, \"2810\": {\"value\": 2810, \"frequency\": 46}, \"2811\": {\"value\": 2811, \"frequency\": 1}, \"4860\": {\"value\": 4860, \"frequency\": 5}, \"1834\": {\"value\": 1834, \"frequency\": 1}, \"2815\": {\"value\": 2815, \"frequency\": 2}, \"770\": {\"value\": 770, \"frequency\": 42}, \"2820\": {\"value\": 2820, \"frequency\": 54}, \"470\": {\"value\": 470, \"frequency\": 2}, \"4870\": {\"value\": 4870, \"frequency\": 3}, \"780\": {\"value\": 780, \"frequency\": 26}, \"3202\": {\"value\": 3202, \"frequency\": 1}, \"2830\": {\"value\": 2830, \"frequency\": 46}, \"6930\": {\"value\": 6930, \"frequency\": 1}, \"2835\": {\"value\": 2835, \"frequency\": 1}, \"790\": {\"value\": 790, \"frequency\": 38}, \"2840\": {\"value\": 2840, \"frequency\": 49}, \"4890\": {\"value\": 4890, \"frequency\": 3}, \"2844\": {\"value\": 2844, \"frequency\": 1}, \"2846\": {\"value\": 2846, \"frequency\": 1}, \"800\": {\"value\": 800, \"frequency\": 47}, \"2849\": {\"value\": 2849, \"frequency\": 1}, \"2850\": {\"value\": 2850, \"frequency\": 38}, \"809\": {\"value\": 809, \"frequency\": 1}, \"810\": {\"value\": 810, \"frequency\": 27}, \"2860\": {\"value\": 2860, \"frequency\": 39}, \"4910\": {\"value\": 4910, \"frequency\": 4}, \"2864\": {\"value\": 2864, \"frequency\": 1}, \"820\": {\"value\": 820, \"frequency\": 40}, \"1502\": {\"value\": 1502, \"frequency\": 1}, \"2870\": {\"value\": 2870, \"frequency\": 38}, \"4920\": {\"value\": 4920, \"frequency\": 3}, \"2876\": {\"value\": 2876, \"frequency\": 2}, \"830\": {\"value\": 830, \"frequency\": 36}, \"2880\": {\"value\": 2880, \"frequency\": 46}, \"833\": {\"value\": 833, \"frequency\": 1}, \"4930\": {\"value\": 4930, \"frequency\": 4}, \"6980\": {\"value\": 6980, \"frequency\": 1}, \"2885\": {\"value\": 2885, \"frequency\": 1}, \"840\": {\"value\": 840, \"frequency\": 56}, \"2890\": {\"value\": 2890, \"frequency\": 34}, \"2891\": {\"value\": 2891, \"frequency\": 1}, \"4940\": {\"value\": 4940, \"frequency\": 1}, \"850\": {\"value\": 850, \"frequency\": 26}, \"2900\": {\"value\": 2900, \"frequency\": 35}, \"7000\": {\"value\": 7000, \"frequency\": 1}, \"2905\": {\"value\": 2905, \"frequency\": 1}, \"2906\": {\"value\": 2906, \"frequency\": 1}, \"860\": {\"value\": 860, \"frequency\": 57}, \"2910\": {\"value\": 2910, \"frequency\": 57}, \"4960\": {\"value\": 4960, \"frequency\": 2}, \"2192\": {\"value\": 2192, \"frequency\": 1}, \"1510\": {\"value\": 1510, \"frequency\": 114}, \"870\": {\"value\": 870, \"frequency\": 36}, \"2920\": {\"value\": 2920, \"frequency\": 43}, \"828\": {\"value\": 828, \"frequency\": 1}, \"4970\": {\"value\": 4970, \"frequency\": 1}, \"2927\": {\"value\": 2927, \"frequency\": 2}, \"880\": {\"value\": 880, \"frequency\": 54}, \"2930\": {\"value\": 2930, \"frequency\": 37}, \"4980\": {\"value\": 4980, \"frequency\": 2}, \"890\": {\"value\": 890, \"frequency\": 33}, \"2940\": {\"value\": 2940, \"frequency\": 34}, \"893\": {\"value\": 893, \"frequency\": 1}, \"894\": {\"value\": 894, \"frequency\": 1}, \"2038\": {\"value\": 2038, \"frequency\": 1}, \"900\": {\"value\": 900, \"frequency\": 53}, \"901\": {\"value\": 901, \"frequency\": 1}, \"902\": {\"value\": 902, \"frequency\": 1}, \"5000\": {\"value\": 5000, \"frequency\": 4}, \"7050\": {\"value\": 7050, \"frequency\": 1}, \"3223\": {\"value\": 3223, \"frequency\": 2}, \"910\": {\"value\": 910, \"frequency\": 60}, \"2960\": {\"value\": 2960, \"frequency\": 37}, \"2961\": {\"value\": 2961, \"frequency\": 1}, \"5010\": {\"value\": 5010, \"frequency\": 3}, \"2963\": {\"value\": 2963, \"frequency\": 1}, \"2542\": {\"value\": 2542, \"frequency\": 1}, \"920\": {\"value\": 920, \"frequency\": 51}, \"2970\": {\"value\": 2970, \"frequency\": 29}, \"5020\": {\"value\": 5020, \"frequency\": 3}, \"2544\": {\"value\": 2544, \"frequency\": 1}, \"930\": {\"value\": 930, \"frequency\": 43}, \"2979\": {\"value\": 2979, \"frequency\": 1}, \"2980\": {\"value\": 2980, \"frequency\": 57}, \"5030\": {\"value\": 5030, \"frequency\": 1}, \"7080\": {\"value\": 7080, \"frequency\": 1}, \"940\": {\"value\": 940, \"frequency\": 62}, \"1522\": {\"value\": 1522, \"frequency\": 1}, \"2990\": {\"value\": 2990, \"frequency\": 48}, \"5040\": {\"value\": 5040, \"frequency\": 3}, \"2993\": {\"value\": 2993, \"frequency\": 1}, \"950\": {\"value\": 950, \"frequency\": 46}, \"3000\": {\"value\": 3000, \"frequency\": 40}, \"3001\": {\"value\": 3001, \"frequency\": 1}, \"5050\": {\"value\": 5050, \"frequency\": 4}, \"7100\": {\"value\": 7100, \"frequency\": 1}, \"960\": {\"value\": 960, \"frequency\": 82}, \"3010\": {\"value\": 3010, \"frequency\": 48}, \"1867\": {\"value\": 1867, \"frequency\": 1}, \"5060\": {\"value\": 5060, \"frequency\": 1}, \"844\": {\"value\": 844, \"frequency\": 1}, \"970\": {\"value\": 970, \"frequency\": 49}, \"5067\": {\"value\": 5067, \"frequency\": 1}, \"3020\": {\"value\": 3020, \"frequency\": 41}, \"5070\": {\"value\": 5070, \"frequency\": 1}, \"7120\": {\"value\": 7120, \"frequency\": 1}, \"3028\": {\"value\": 3028, \"frequency\": 1}, \"3030\": {\"value\": 3030, \"frequency\": 45}, \"5080\": {\"value\": 5080, \"frequency\": 1}, \"988\": {\"value\": 988, \"frequency\": 1}, \"990\": {\"value\": 990, \"frequency\": 53}, \"3040\": {\"value\": 3040, \"frequency\": 45}, \"5090\": {\"value\": 5090, \"frequency\": 2}, \"3238\": {\"value\": 3238, \"frequency\": 1}, \"998\": {\"value\": 998, \"frequency\": 2}, \"1000\": {\"value\": 1000, \"frequency\": 73}, \"3050\": {\"value\": 3050, \"frequency\": 25}, \"3052\": {\"value\": 3052, \"frequency\": 1}, \"9200\": {\"value\": 9200, \"frequency\": 1}, \"1010\": {\"value\": 1010, \"frequency\": 129}, \"3060\": {\"value\": 3060, \"frequency\": 34}, \"5110\": {\"value\": 5110, \"frequency\": 2}, \"3064\": {\"value\": 3064, \"frequency\": 1}, \"1876\": {\"value\": 1876, \"frequency\": 1}, \"1020\": {\"value\": 1020, \"frequency\": 73}, \"3070\": {\"value\": 3070, \"frequency\": 36}, \"5120\": {\"value\": 5120, \"frequency\": 2}, \"1030\": {\"value\": 1030, \"frequency\": 57}, \"3080\": {\"value\": 3080, \"frequency\": 36}, \"3444\": {\"value\": 3444, \"frequency\": 1}, \"5130\": {\"value\": 5130, \"frequency\": 1}, \"3085\": {\"value\": 3085, \"frequency\": 1}, \"3087\": {\"value\": 3087, \"frequency\": 1}, \"1040\": {\"value\": 1040, \"frequency\": 78}, \"3090\": {\"value\": 3090, \"frequency\": 38}, \"1048\": {\"value\": 1048, \"frequency\": 1}, \"1050\": {\"value\": 1050, \"frequency\": 68}, \"3100\": {\"value\": 3100, \"frequency\": 34}, \"5150\": {\"value\": 5150, \"frequency\": 3}, \"1060\": {\"value\": 1060, \"frequency\": 94}, \"1061\": {\"value\": 1061, \"frequency\": 1}, \"3110\": {\"value\": 3110, \"frequency\": 35}, \"5160\": {\"value\": 5160, \"frequency\": 1}, \"1068\": {\"value\": 1068, \"frequency\": 3}, \"1070\": {\"value\": 1070, \"frequency\": 76}, \"3120\": {\"value\": 3120, \"frequency\": 24}, \"2568\": {\"value\": 2568, \"frequency\": 1}, \"5170\": {\"value\": 5170, \"frequency\": 1}, \"7220\": {\"value\": 7220, \"frequency\": 1}, \"1078\": {\"value\": 1078, \"frequency\": 1}, \"1080\": {\"value\": 1080, \"frequency\": 50}, \"3130\": {\"value\": 3130, \"frequency\": 35}, \"5180\": {\"value\": 5180, \"frequency\": 5}, \"3133\": {\"value\": 3133, \"frequency\": 1}, \"3135\": {\"value\": 3135, \"frequency\": 1}, \"1088\": {\"value\": 1088, \"frequency\": 2}, \"1090\": {\"value\": 1090, \"frequency\": 69}, \"3140\": {\"value\": 3140, \"frequency\": 32}, \"5190\": {\"value\": 5190, \"frequency\": 3}, \"1095\": {\"value\": 1095, \"frequency\": 1}, \"1100\": {\"value\": 1100, \"frequency\": 79}, \"3150\": {\"value\": 3150, \"frequency\": 36}, \"1108\": {\"value\": 1108, \"frequency\": 1}, \"1110\": {\"value\": 1110, \"frequency\": 48}, \"3160\": {\"value\": 3160, \"frequency\": 49}, \"5210\": {\"value\": 5210, \"frequency\": 1}, \"1120\": {\"value\": 1120, \"frequency\": 86}, \"3600\": {\"value\": 3600, \"frequency\": 25}, \"3170\": {\"value\": 3170, \"frequency\": 22}, \"5220\": {\"value\": 5220, \"frequency\": 2}, \"1894\": {\"value\": 1894, \"frequency\": 1}, \"7270\": {\"value\": 7270, \"frequency\": 1}, \"3176\": {\"value\": 3176, \"frequency\": 1}, \"1129\": {\"value\": 1129, \"frequency\": 1}, \"1130\": {\"value\": 1130, \"frequency\": 56}, \"1131\": {\"value\": 1131, \"frequency\": 1}, \"3180\": {\"value\": 3180, \"frequency\": 41}, \"3181\": {\"value\": 3181, \"frequency\": 1}, \"5230\": {\"value\": 5230, \"frequency\": 3}, \"1140\": {\"value\": 1140, \"frequency\": 100}, \"3190\": {\"value\": 3190, \"frequency\": 47}, \"5240\": {\"value\": 5240, \"frequency\": 1}, \"2708\": {\"value\": 2708, \"frequency\": 1}, \"1150\": {\"value\": 1150, \"frequency\": 98}, \"3200\": {\"value\": 3200, \"frequency\": 36}, \"5250\": {\"value\": 5250, \"frequency\": 1}, \"3206\": {\"value\": 3206, \"frequency\": 1}, \"1159\": {\"value\": 1159, \"frequency\": 1}, \"1160\": {\"value\": 1160, \"frequency\": 91}, \"3210\": {\"value\": 3210, \"frequency\": 18}, \"2242\": {\"value\": 2242, \"frequency\": 5}, \"3216\": {\"value\": 3216, \"frequency\": 1}, \"3217\": {\"value\": 3217, \"frequency\": 1}, \"1170\": {\"value\": 1170, \"frequency\": 78}, \"3220\": {\"value\": 3220, \"frequency\": 40}, \"5270\": {\"value\": 5270, \"frequency\": 3}, \"1175\": {\"value\": 1175, \"frequency\": 2}, \"7320\": {\"value\": 7320, \"frequency\": 1}, \"1180\": {\"value\": 1180, \"frequency\": 89}, \"3230\": {\"value\": 3230, \"frequency\": 36}, \"5280\": {\"value\": 5280, \"frequency\": 1}, \"3236\": {\"value\": 3236, \"frequency\": 1}, \"1190\": {\"value\": 1190, \"frequency\": 67}, \"3240\": {\"value\": 3240, \"frequency\": 31}, \"2588\": {\"value\": 2588, \"frequency\": 2}, \"5290\": {\"value\": 5290, \"frequency\": 2}, \"1200\": {\"value\": 1200, \"frequency\": 118}, \"3250\": {\"value\": 3250, \"frequency\": 28}, \"5300\": {\"value\": 5300, \"frequency\": 2}, \"7350\": {\"value\": 7350, \"frequency\": 1}, \"5305\": {\"value\": 5305, \"frequency\": 1}, \"1210\": {\"value\": 1210, \"frequency\": 88}, \"3260\": {\"value\": 3260, \"frequency\": 20}, \"5310\": {\"value\": 5310, \"frequency\": 4}, \"3266\": {\"value\": 3266, \"frequency\": 2}, \"1220\": {\"value\": 1220, \"frequency\": 92}, \"3270\": {\"value\": 3270, \"frequency\": 23}, \"5320\": {\"value\": 5320, \"frequency\": 1}, \"3273\": {\"value\": 3273, \"frequency\": 1}, \"3274\": {\"value\": 3274, \"frequency\": 1}, \"3276\": {\"value\": 3276, \"frequency\": 1}, \"1230\": {\"value\": 1230, \"frequency\": 82}, \"1232\": {\"value\": 1232, \"frequency\": 1}, \"1233\": {\"value\": 1233, \"frequency\": 1}, \"5330\": {\"value\": 5330, \"frequency\": 2}, \"3284\": {\"value\": 3284, \"frequency\": 1}, \"1810\": {\"value\": 1810, \"frequency\": 98}, \"1239\": {\"value\": 1239, \"frequency\": 1}, \"1240\": {\"value\": 1240, \"frequency\": 112}, \"1572\": {\"value\": 1572, \"frequency\": 1}, \"3290\": {\"value\": 3290, \"frequency\": 29}, \"5340\": {\"value\": 5340, \"frequency\": 1}, \"7390\": {\"value\": 7390, \"frequency\": 1}, \"3280\": {\"value\": 3280, \"frequency\": 29}, \"1250\": {\"value\": 1250, \"frequency\": 120}, \"13540\": {\"value\": 13540, \"frequency\": 1}, \"2598\": {\"value\": 2598, \"frequency\": 1}, \"5350\": {\"value\": 5350, \"frequency\": 2}, \"1255\": {\"value\": 1255, \"frequency\": 2}, \"7400\": {\"value\": 7400, \"frequency\": 1}, \"3305\": {\"value\": 3305, \"frequency\": 1}, \"1260\": {\"value\": 1260, \"frequency\": 113}, \"3310\": {\"value\": 3310, \"frequency\": 23}, \"5360\": {\"value\": 5360, \"frequency\": 1}, \"3316\": {\"value\": 3316, \"frequency\": 1}, \"1270\": {\"value\": 1270, \"frequency\": 102}, \"3320\": {\"value\": 3320, \"frequency\": 36}, \"5370\": {\"value\": 5370, \"frequency\": 5}, \"1275\": {\"value\": 1275, \"frequency\": 1}, \"7420\": {\"value\": 7420, \"frequency\": 1}, \"1278\": {\"value\": 1278, \"frequency\": 1}, \"1280\": {\"value\": 1280, \"frequency\": 100}, \"3330\": {\"value\": 3330, \"frequency\": 21}, \"1290\": {\"value\": 1290, \"frequency\": 74}, \"3340\": {\"value\": 3340, \"frequency\": 22}, \"1295\": {\"value\": 1295, \"frequency\": 1}, \"7440\": {\"value\": 7440, \"frequency\": 1}, \"384\": {\"value\": 384, \"frequency\": 1}, \"1300\": {\"value\": 1300, \"frequency\": 138}, \"3350\": {\"value\": 3350, \"frequency\": 22}, \"5400\": {\"value\": 5400, \"frequency\": 1}, \"5403\": {\"value\": 5403, \"frequency\": 1}, \"1310\": {\"value\": 1310, \"frequency\": 81}, \"3360\": {\"value\": 3360, \"frequency\": 22}, \"3361\": {\"value\": 3361, \"frequency\": 2}, \"3362\": {\"value\": 3362, \"frequency\": 1}, \"1315\": {\"value\": 1315, \"frequency\": 1}, \"2950\": {\"value\": 2950, \"frequency\": 32}, \"3366\": {\"value\": 3366, \"frequency\": 1}, \"1320\": {\"value\": 1320, \"frequency\": 122}, \"3370\": {\"value\": 3370, \"frequency\": 39}, \"5420\": {\"value\": 5420, \"frequency\": 1}, \"1330\": {\"value\": 1330, \"frequency\": 89}, \"3380\": {\"value\": 3380, \"frequency\": 17}, \"1333\": {\"value\": 1333, \"frequency\": 1}, \"5430\": {\"value\": 5430, \"frequency\": 2}, \"7480\": {\"value\": 7480, \"frequency\": 1}, \"2612\": {\"value\": 2612, \"frequency\": 1}, \"1340\": {\"value\": 1340, \"frequency\": 113}, \"3390\": {\"value\": 3390, \"frequency\": 16}, \"5440\": {\"value\": 5440, \"frequency\": 2}, \"1347\": {\"value\": 1347, \"frequency\": 1}, \"1350\": {\"value\": 1350, \"frequency\": 95}, \"3400\": {\"value\": 3400, \"frequency\": 30}, \"3402\": {\"value\": 3402, \"frequency\": 1}, \"1358\": {\"value\": 1358, \"frequency\": 3}, \"5860\": {\"value\": 5860, \"frequency\": 3}, \"1360\": {\"value\": 1360, \"frequency\": 96}, \"3410\": {\"value\": 3410, \"frequency\": 24}, \"5461\": {\"value\": 5461, \"frequency\": 1}, \"3300\": {\"value\": 3300, \"frequency\": 24}, \"1370\": {\"value\": 1370, \"frequency\": 118}, \"3420\": {\"value\": 3420, \"frequency\": 32}, \"5470\": {\"value\": 5470, \"frequency\": 2}, \"1380\": {\"value\": 1380, \"frequency\": 85}, \"1381\": {\"value\": 1381, \"frequency\": 1}, \"3430\": {\"value\": 3430, \"frequency\": 20}, \"5480\": {\"value\": 5480, \"frequency\": 4}, \"1390\": {\"value\": 1390, \"frequency\": 89}, \"3440\": {\"value\": 3440, \"frequency\": 27}, \"1256\": {\"value\": 1256, \"frequency\": 1}, \"5490\": {\"value\": 5490, \"frequency\": 2}, \"1396\": {\"value\": 1396, \"frequency\": 1}, \"1397\": {\"value\": 1397, \"frequency\": 1}, \"1400\": {\"value\": 1400, \"frequency\": 135}, \"3450\": {\"value\": 3450, \"frequency\": 24}, \"1405\": {\"value\": 1405, \"frequency\": 1}, \"1408\": {\"value\": 1408, \"frequency\": 1}, \"1410\": {\"value\": 1410, \"frequency\": 109}, \"3460\": {\"value\": 3460, \"frequency\": 14}, \"1413\": {\"value\": 1413, \"frequency\": 2}, \"3078\": {\"value\": 3078, \"frequency\": 1}, \"1420\": {\"value\": 1420, \"frequency\": 92}, \"3470\": {\"value\": 3470, \"frequency\": 21}, \"5520\": {\"value\": 5520, \"frequency\": 1}, \"1425\": {\"value\": 1425, \"frequency\": 1}, \"4480\": {\"value\": 4480, \"frequency\": 3}, \"1427\": {\"value\": 1427, \"frequency\": 1}, \"1430\": {\"value\": 1430, \"frequency\": 116}, \"3480\": {\"value\": 3480, \"frequency\": 21}, \"2628\": {\"value\": 2628, \"frequency\": 1}, \"5530\": {\"value\": 5530, \"frequency\": 1}, \"1435\": {\"value\": 1435, \"frequency\": 1}, \"1440\": {\"value\": 1440, \"frequency\": 133}, \"1264\": {\"value\": 1264, \"frequency\": 1}, \"3490\": {\"value\": 3490, \"frequency\": 26}, \"5540\": {\"value\": 5540, \"frequency\": 2}, \"1445\": {\"value\": 1445, \"frequency\": 5}, \"9640\": {\"value\": 9640, \"frequency\": 1}, \"5545\": {\"value\": 5545, \"frequency\": 1}, \"1450\": {\"value\": 1450, \"frequency\": 91}, \"1451\": {\"value\": 1451, \"frequency\": 1}, \"3500\": {\"value\": 3500, \"frequency\": 29}, \"1453\": {\"value\": 1453, \"frequency\": 1}, \"5550\": {\"value\": 5550, \"frequency\": 4}, \"3504\": {\"value\": 3504, \"frequency\": 1}, \"4680\": {\"value\": 4680, \"frequency\": 2}, \"1458\": {\"value\": 1458, \"frequency\": 1}, \"1460\": {\"value\": 1460, \"frequency\": 116}, \"3510\": {\"value\": 3510, \"frequency\": 21}, \"1463\": {\"value\": 1463, \"frequency\": 1}, \"1465\": {\"value\": 1465, \"frequency\": 1}, \"1470\": {\"value\": 1470, \"frequency\": 112}, \"3520\": {\"value\": 3520, \"frequency\": 21}, \"4000\": {\"value\": 4000, \"frequency\": 7}, \"5570\": {\"value\": 5570, \"frequency\": 1}, \"7620\": {\"value\": 7620, \"frequency\": 1}, \"3526\": {\"value\": 3526, \"frequency\": 1}, \"3527\": {\"value\": 3527, \"frequency\": 1}, \"1480\": {\"value\": 1480, \"frequency\": 125}, \"1481\": {\"value\": 1481, \"frequency\": 2}, \"3530\": {\"value\": 3530, \"frequency\": 21}, \"1484\": {\"value\": 1484, \"frequency\": 1}, \"6050\": {\"value\": 6050, \"frequency\": 2}, \"5584\": {\"value\": 5584, \"frequency\": 1}, \"1489\": {\"value\": 1489, \"frequency\": 3}, \"1490\": {\"value\": 1490, \"frequency\": 99}, \"3540\": {\"value\": 3540, \"frequency\": 14}, \"1494\": {\"value\": 1494, \"frequency\": 2}, \"1495\": {\"value\": 1495, \"frequency\": 1}, \"1496\": {\"value\": 1496, \"frequency\": 1}, \"3545\": {\"value\": 3545, \"frequency\": 1}, \"1500\": {\"value\": 1500, \"frequency\": 112}, \"3550\": {\"value\": 3550, \"frequency\": 20}, \"5600\": {\"value\": 5600, \"frequency\": 1}, \"3555\": {\"value\": 3555, \"frequency\": 1}, \"1509\": {\"value\": 1509, \"frequency\": 3}, \"1414\": {\"value\": 1414, \"frequency\": 1}, \"3560\": {\"value\": 3560, \"frequency\": 28}, \"5610\": {\"value\": 5610, \"frequency\": 2}, \"1516\": {\"value\": 1516, \"frequency\": 1}, \"1520\": {\"value\": 1520, \"frequency\": 102}, \"3569\": {\"value\": 3569, \"frequency\": 1}, \"3570\": {\"value\": 3570, \"frequency\": 16}, \"5620\": {\"value\": 5620, \"frequency\": 2}, \"1528\": {\"value\": 1528, \"frequency\": 1}, \"1530\": {\"value\": 1530, \"frequency\": 109}, \"3580\": {\"value\": 3580, \"frequency\": 14}, \"5635\": {\"value\": 5635, \"frequency\": 1}, \"1540\": {\"value\": 1540, \"frequency\": 124}, \"3590\": {\"value\": 3590, \"frequency\": 7}, \"5640\": {\"value\": 5640, \"frequency\": 1}, \"3595\": {\"value\": 3595, \"frequency\": 1}, \"3596\": {\"value\": 3596, \"frequency\": 1}, \"3597\": {\"value\": 3597, \"frequency\": 1}, \"1550\": {\"value\": 1550, \"frequency\": 96}, \"1552\": {\"value\": 1552, \"frequency\": 2}, \"1553\": {\"value\": 1553, \"frequency\": 2}, \"1556\": {\"value\": 1556, \"frequency\": 1}, \"1560\": {\"value\": 1560, \"frequency\": 124}, \"3610\": {\"value\": 3610, \"frequency\": 19}, \"5660\": {\"value\": 5660, \"frequency\": 1}, \"1626\": {\"value\": 1626, \"frequency\": 1}, \"7710\": {\"value\": 7710, \"frequency\": 1}, \"1570\": {\"value\": 1570, \"frequency\": 100}, \"1571\": {\"value\": 1571, \"frequency\": 1}, \"3620\": {\"value\": 3620, \"frequency\": 17}, \"5670\": {\"value\": 5670, \"frequency\": 1}, \"1578\": {\"value\": 1578, \"frequency\": 1}, \"1580\": {\"value\": 1580, \"frequency\": 119}, \"3630\": {\"value\": 3630, \"frequency\": 13}, \"1584\": {\"value\": 1584, \"frequency\": 3}, \"7730\": {\"value\": 7730, \"frequency\": 1}, \"1212\": {\"value\": 1212, \"frequency\": 1}, \"1590\": {\"value\": 1590, \"frequency\": 104}, \"2313\": {\"value\": 2313, \"frequency\": 1}, \"3640\": {\"value\": 3640, \"frequency\": 13}, \"1594\": {\"value\": 1594, \"frequency\": 1}, \"1600\": {\"value\": 1600, \"frequency\": 109}, \"1601\": {\"value\": 1601, \"frequency\": 1}, \"3650\": {\"value\": 3650, \"frequency\": 19}, \"5700\": {\"value\": 5700, \"frequency\": 1}, \"1606\": {\"value\": 1606, \"frequency\": 1}, \"3655\": {\"value\": 3655, \"frequency\": 1}, \"1608\": {\"value\": 1608, \"frequency\": 3}, \"1610\": {\"value\": 1610, \"frequency\": 112}, \"1611\": {\"value\": 1611, \"frequency\": 1}, \"3660\": {\"value\": 3660, \"frequency\": 10}, \"1613\": {\"value\": 1613, \"frequency\": 1}, \"5710\": {\"value\": 5710, \"frequency\": 1}, \"1615\": {\"value\": 1615, \"frequency\": 1}, \"1620\": {\"value\": 1620, \"frequency\": 99}, \"3670\": {\"value\": 3670, \"frequency\": 15}, \"3672\": {\"value\": 3672, \"frequency\": 1}, \"3674\": {\"value\": 3674, \"frequency\": 1}, \"1628\": {\"value\": 1628, \"frequency\": 1}, \"3002\": {\"value\": 3002, \"frequency\": 1}, \"1630\": {\"value\": 1630, \"frequency\": 94}, \"3680\": {\"value\": 3680, \"frequency\": 21}, \"1296\": {\"value\": 1296, \"frequency\": 1}, \"5730\": {\"value\": 5730, \"frequency\": 1}, \"1852\": {\"value\": 1852, \"frequency\": 2}, \"5510\": {\"value\": 5510, \"frequency\": 1}, \"1639\": {\"value\": 1639, \"frequency\": 1}, \"1640\": {\"value\": 1640, \"frequency\": 112}, \"3004\": {\"value\": 3004, \"frequency\": 1}, \"3690\": {\"value\": 3690, \"frequency\": 12}, \"1643\": {\"value\": 1643, \"frequency\": 1}, \"5740\": {\"value\": 5740, \"frequency\": 1}, \"1646\": {\"value\": 1646, \"frequency\": 3}, \"3695\": {\"value\": 3695, \"frequency\": 1}, \"2578\": {\"value\": 2578, \"frequency\": 1}, \"1651\": {\"value\": 1651, \"frequency\": 2}, \"3700\": {\"value\": 3700, \"frequency\": 18}, \"4030\": {\"value\": 4030, \"frequency\": 11}, \"1654\": {\"value\": 1654, \"frequency\": 2}, \"1656\": {\"value\": 1656, \"frequency\": 1}, \"1657\": {\"value\": 1657, \"frequency\": 1}, \"1658\": {\"value\": 1658, \"frequency\": 1}, \"1660\": {\"value\": 1660, \"frequency\": 129}, \"3710\": {\"value\": 3710, \"frequency\": 10}, \"5760\": {\"value\": 5760, \"frequency\": 1}, \"3691\": {\"value\": 3691, \"frequency\": 1}, \"3056\": {\"value\": 3056, \"frequency\": 1}, \"1670\": {\"value\": 1670, \"frequency\": 109}, \"3720\": {\"value\": 3720, \"frequency\": 23}, \"5770\": {\"value\": 5770, \"frequency\": 3}, \"1676\": {\"value\": 1676, \"frequency\": 1}, \"962\": {\"value\": 962, \"frequency\": 1}, \"1678\": {\"value\": 1678, \"frequency\": 1}, \"1679\": {\"value\": 1679, \"frequency\": 1}, \"1680\": {\"value\": 1680, \"frequency\": 116}, \"3730\": {\"value\": 3730, \"frequency\": 16}, \"5780\": {\"value\": 5780, \"frequency\": 2}, \"1689\": {\"value\": 1689, \"frequency\": 1}, \"1690\": {\"value\": 1690, \"frequency\": 110}, \"3740\": {\"value\": 3740, \"frequency\": 17}, \"5790\": {\"value\": 5790, \"frequency\": 2}, \"2672\": {\"value\": 2672, \"frequency\": 1}, \"9890\": {\"value\": 9890, \"frequency\": 1}, \"1700\": {\"value\": 1700, \"frequency\": 108}, \"3750\": {\"value\": 3750, \"frequency\": 10}, \"3753\": {\"value\": 3753, \"frequency\": 1}, \"7850\": {\"value\": 7850, \"frequency\": 1}, \"1650\": {\"value\": 1650, \"frequency\": 117}, \"1710\": {\"value\": 1710, \"frequency\": 93}, \"3760\": {\"value\": 3760, \"frequency\": 18}, \"4040\": {\"value\": 4040, \"frequency\": 14}, \"1714\": {\"value\": 1714, \"frequency\": 3}, \"1715\": {\"value\": 1715, \"frequency\": 1}, \"1720\": {\"value\": 1720, \"frequency\": 125}, \"3770\": {\"value\": 3770, \"frequency\": 13}, \"5820\": {\"value\": 5820, \"frequency\": 1}, \"1726\": {\"value\": 1726, \"frequency\": 1}, \"1728\": {\"value\": 1728, \"frequency\": 1}, \"1730\": {\"value\": 1730, \"frequency\": 100}, \"3780\": {\"value\": 3780, \"frequency\": 14}, \"2678\": {\"value\": 2678, \"frequency\": 1}, \"5830\": {\"value\": 5830, \"frequency\": 1}, \"1313\": {\"value\": 1313, \"frequency\": 1}, \"7880\": {\"value\": 7880, \"frequency\": 1}, \"3786\": {\"value\": 3786, \"frequency\": 1}, \"1740\": {\"value\": 1740, \"frequency\": 115}, \"5410\": {\"value\": 5410, \"frequency\": 1}, \"3790\": {\"value\": 3790, \"frequency\": 9}, \"5840\": {\"value\": 5840, \"frequency\": 2}, \"1747\": {\"value\": 1747, \"frequency\": 1}, \"5844\": {\"value\": 5844, \"frequency\": 1}, \"1750\": {\"value\": 1750, \"frequency\": 83}, \"1752\": {\"value\": 1752, \"frequency\": 1}, \"5850\": {\"value\": 5850, \"frequency\": 2}, \"1757\": {\"value\": 1757, \"frequency\": 1}, \"1760\": {\"value\": 1760, \"frequency\": 104}, \"3810\": {\"value\": 3810, \"frequency\": 13}, \"1763\": {\"value\": 1763, \"frequency\": 1}, \"1764\": {\"value\": 1764, \"frequency\": 1}, \"1765\": {\"value\": 1765, \"frequency\": 1}, \"1767\": {\"value\": 1767, \"frequency\": 1}, \"1769\": {\"value\": 1769, \"frequency\": 2}, \"1770\": {\"value\": 1770, \"frequency\": 98}, \"3820\": {\"value\": 3820, \"frequency\": 13}, \"980\": {\"value\": 980, \"frequency\": 53}, \"3281\": {\"value\": 3281, \"frequency\": 1}, \"1776\": {\"value\": 1776, \"frequency\": 1}, \"1778\": {\"value\": 1778, \"frequency\": 1}, \"1780\": {\"value\": 1780, \"frequency\": 117}, \"1782\": {\"value\": 1782, \"frequency\": 1}, \"3831\": {\"value\": 3831, \"frequency\": 1}, \"1785\": {\"value\": 1785, \"frequency\": 2}, \"1788\": {\"value\": 1788, \"frequency\": 1}, \"1322\": {\"value\": 1322, \"frequency\": 2}, \"1790\": {\"value\": 1790, \"frequency\": 110}, \"3840\": {\"value\": 3840, \"frequency\": 14}, \"1794\": {\"value\": 1794, \"frequency\": 1}, \"3845\": {\"value\": 3845, \"frequency\": 1}, \"1798\": {\"value\": 1798, \"frequency\": 1}, \"3847\": {\"value\": 3847, \"frequency\": 1}, \"1800\": {\"value\": 1800, \"frequency\": 129}, \"3850\": {\"value\": 3850, \"frequency\": 8}, \"1805\": {\"value\": 1805, \"frequency\": 1}, \"1808\": {\"value\": 1808, \"frequency\": 1}, \"12050\": {\"value\": 12050, \"frequency\": 1}, \"1811\": {\"value\": 1811, \"frequency\": 1}, \"3860\": {\"value\": 3860, \"frequency\": 15}, \"1814\": {\"value\": 1814, \"frequency\": 1}, \"2692\": {\"value\": 2692, \"frequency\": 2}, \"1820\": {\"value\": 1820, \"frequency\": 128}, \"3870\": {\"value\": 3870, \"frequency\": 12}, \"1824\": {\"value\": 1824, \"frequency\": 1}, \"1830\": {\"value\": 1830, \"frequency\": 114}, \"3880\": {\"value\": 3880, \"frequency\": 13}, \"1833\": {\"value\": 1833, \"frequency\": 1}, \"5930\": {\"value\": 5930, \"frequency\": 1}, \"2658\": {\"value\": 2658, \"frequency\": 1}, \"1840\": {\"value\": 1840, \"frequency\": 101}, \"3890\": {\"value\": 3890, \"frequency\": 14}, \"5940\": {\"value\": 5940, \"frequency\": 1}, \"1845\": {\"value\": 1845, \"frequency\": 1}, \"1847\": {\"value\": 1847, \"frequency\": 2}, \"10040\": {\"value\": 10040, \"frequency\": 1}, \"1850\": {\"value\": 1850, \"frequency\": 100}, \"3900\": {\"value\": 3900, \"frequency\": 10}, \"3902\": {\"value\": 3902, \"frequency\": 1}, \"8000\": {\"value\": 8000, \"frequency\": 1}, \"3906\": {\"value\": 3906, \"frequency\": 1}, \"1860\": {\"value\": 1860, \"frequency\": 91}, \"1861\": {\"value\": 1861, \"frequency\": 1}, \"3910\": {\"value\": 3910, \"frequency\": 13}, \"1864\": {\"value\": 1864, \"frequency\": 1}, \"8010\": {\"value\": 8010, \"frequency\": 1}, \"3915\": {\"value\": 3915, \"frequency\": 1}, \"1870\": {\"value\": 1870, \"frequency\": 96}, \"1677\": {\"value\": 1677, \"frequency\": 2}, \"3920\": {\"value\": 3920, \"frequency\": 17}, \"6110\": {\"value\": 6110, \"frequency\": 1}, \"8020\": {\"value\": 8020, \"frequency\": 1}, \"5774\": {\"value\": 5774, \"frequency\": 1}, \"1880\": {\"value\": 1880, \"frequency\": 90}, \"3930\": {\"value\": 3930, \"frequency\": 11}, \"3931\": {\"value\": 3931, \"frequency\": 1}, \"5450\": {\"value\": 5450, \"frequency\": 2}, \"3045\": {\"value\": 3045, \"frequency\": 1}, \"1889\": {\"value\": 1889, \"frequency\": 1}, \"1890\": {\"value\": 1890, \"frequency\": 98}, \"3940\": {\"value\": 3940, \"frequency\": 8}, \"5990\": {\"value\": 5990, \"frequency\": 2}, \"1899\": {\"value\": 1899, \"frequency\": 1}, \"1900\": {\"value\": 1900, \"frequency\": 117}, \"3950\": {\"value\": 3950, \"frequency\": 13}, \"1904\": {\"value\": 1904, \"frequency\": 1}, \"2382\": {\"value\": 2382, \"frequency\": 1}, \"1909\": {\"value\": 1909, \"frequency\": 1}, \"1910\": {\"value\": 1910, \"frequency\": 81}, \"4073\": {\"value\": 4073, \"frequency\": 1}, \"1912\": {\"value\": 1912, \"frequency\": 1}, \"3732\": {\"value\": 3732, \"frequency\": 1}, \"1914\": {\"value\": 1914, \"frequency\": 2}, \"1920\": {\"value\": 1920, \"frequency\": 94}, \"1921\": {\"value\": 1921, \"frequency\": 1}, \"3970\": {\"value\": 3970, \"frequency\": 8}, \"5100\": {\"value\": 5100, \"frequency\": 1}, \"1930\": {\"value\": 1930, \"frequency\": 88}, \"3980\": {\"value\": 3980, \"frequency\": 6}, \"6030\": {\"value\": 6030, \"frequency\": 1}, \"1936\": {\"value\": 1936, \"frequency\": 2}, \"3065\": {\"value\": 3065, \"frequency\": 1}, \"1940\": {\"value\": 1940, \"frequency\": 101}, \"3990\": {\"value\": 3990, \"frequency\": 16}, \"4500\": {\"value\": 4500, \"frequency\": 8}, \"6040\": {\"value\": 6040, \"frequency\": 1}, \"1946\": {\"value\": 1946, \"frequency\": 1}, \"2714\": {\"value\": 2714, \"frequency\": 2}, \"1950\": {\"value\": 1950, \"frequency\": 92}, \"1952\": {\"value\": 1952, \"frequency\": 1}, \"1008\": {\"value\": 1008, \"frequency\": 1}, \"1954\": {\"value\": 1954, \"frequency\": 2}, \"6055\": {\"value\": 6055, \"frequency\": 1}, \"1960\": {\"value\": 1960, \"frequency\": 110}, \"1961\": {\"value\": 1961, \"frequency\": 1}, \"4010\": {\"value\": 4010, \"frequency\": 12}, \"1964\": {\"value\": 1964, \"frequency\": 1}, \"1352\": {\"value\": 1352, \"frequency\": 1}, \"1970\": {\"value\": 1970, \"frequency\": 84}, \"4020\": {\"value\": 4020, \"frequency\": 9}, \"2718\": {\"value\": 2718, \"frequency\": 1}, \"6070\": {\"value\": 6070, \"frequency\": 2}, \"1975\": {\"value\": 1975, \"frequency\": 1}, \"1979\": {\"value\": 1979, \"frequency\": 1}, \"1980\": {\"value\": 1980, \"frequency\": 105}, \"1981\": {\"value\": 1981, \"frequency\": 2}, \"1982\": {\"value\": 1982, \"frequency\": 1}, \"1983\": {\"value\": 1983, \"frequency\": 1}, \"1984\": {\"value\": 1984, \"frequency\": 3}, \"1986\": {\"value\": 1986, \"frequency\": 1}, \"1987\": {\"value\": 1987, \"frequency\": 1}, \"6085\": {\"value\": 6085, \"frequency\": 1}, \"1990\": {\"value\": 1990, \"frequency\": 85}, \"1992\": {\"value\": 1992, \"frequency\": 1}, \"1995\": {\"value\": 1995, \"frequency\": 4}, \"1996\": {\"value\": 1996, \"frequency\": 1}, \"2000\": {\"value\": 2000, \"frequency\": 103}, \"4050\": {\"value\": 4050, \"frequency\": 8}, \"2005\": {\"value\": 2005, \"frequency\": 1}, \"2007\": {\"value\": 2007, \"frequency\": 1}, \"2008\": {\"value\": 2008, \"frequency\": 1}, \"2009\": {\"value\": 2009, \"frequency\": 2}, \"2010\": {\"value\": 2010, \"frequency\": 77}, \"4060\": {\"value\": 4060, \"frequency\": 13}, \"2014\": {\"value\": 2014, \"frequency\": 1}, \"2015\": {\"value\": 2015, \"frequency\": 1}, \"4065\": {\"value\": 4065, \"frequency\": 1}, \"2019\": {\"value\": 2019, \"frequency\": 1}, \"2020\": {\"value\": 2020, \"frequency\": 104}, \"4070\": {\"value\": 4070, \"frequency\": 10}, \"5720\": {\"value\": 5720, \"frequency\": 1}, \"2025\": {\"value\": 2025, \"frequency\": 1}, \"2026\": {\"value\": 2026, \"frequency\": 1}, \"2029\": {\"value\": 2029, \"frequency\": 1}, \"2030\": {\"value\": 2030, \"frequency\": 78}, \"2031\": {\"value\": 2031, \"frequency\": 1}, \"4080\": {\"value\": 4080, \"frequency\": 7}, \"2034\": {\"value\": 2034, \"frequency\": 1}, \"4083\": {\"value\": 4083, \"frequency\": 1}, \"5960\": {\"value\": 5960, \"frequency\": 2}, \"2040\": {\"value\": 2040, \"frequency\": 104}, \"4090\": {\"value\": 4090, \"frequency\": 8}, \"2044\": {\"value\": 2044, \"frequency\": 1}, \"1365\": {\"value\": 1365, \"frequency\": 1}}, \"min\": 290.0, \"size\": 21613, \"max\": 13540.0}}}, e);\n",
       "                });\n",
       "            })();\n",
       "        "
      ]
     },
     "metadata": {},
     "output_type": "display_data"
    }
   ],
   "source": [
    "sales[my_features].show()"
   ]
  },
  {
   "cell_type": "code",
   "execution_count": 15,
   "metadata": {
    "collapsed": false
   },
   "outputs": [
    {
     "data": {
      "application/javascript": [
       "$(\"head\").append($(\"<link/>\").attr({\n",
       "  rel:  \"stylesheet\",\n",
       "  type: \"text/css\",\n",
       "  href: \"//cdnjs.cloudflare.com/ajax/libs/font-awesome/4.1.0/css/font-awesome.min.css\"\n",
       "}));\n",
       "$(\"head\").append($(\"<link/>\").attr({\n",
       "  rel:  \"stylesheet\",\n",
       "  type: \"text/css\",\n",
       "  href: \"//dato.com/files/canvas/1.10.1/css/canvas.css\"\n",
       "}));\n",
       "\n",
       "            (function(){\n",
       "\n",
       "                var e = null;\n",
       "                if (typeof element == 'undefined') {\n",
       "                    var scripts = document.getElementsByTagName('script');\n",
       "                    var thisScriptTag = scripts[scripts.length-1];\n",
       "                    var parentDiv = thisScriptTag.parentNode;\n",
       "                    e = document.createElement('div');\n",
       "                    parentDiv.appendChild(e);\n",
       "                } else {\n",
       "                    e = element[0];\n",
       "                }\n",
       "\n",
       "                if (typeof requirejs !== 'undefined') {\n",
       "                    // disable load timeout; ipython_app.js is large and can take a while to load.\n",
       "                    requirejs.config({waitSeconds: 0});\n",
       "                }\n",
       "\n",
       "                require(['//dato.com/files/canvas/1.10.1/js/ipython_app.js'], function(IPythonApp){\n",
       "                    var app = new IPythonApp();\n",
       "                    app.attachView('sframe','Plots', {\"data\": {\"grouped\": [[\"98001\", [100000.0, 115000.0, 180000.0, 184000.0, 215000.0, 260000.0, 320000.0, 420000.0, 427000.0, 625000.0, 850000.0]], [\"98002\", [95000.0, 111300.0, 160000.0, 163500.0, 199950.0, 235000.0, 269000.0, 298900.0, 300000.0, 370000.0, 389000.0]], [\"98003\", [128000.0, 152500.0, 199000.0, 200000.0, 229000.0, 267950.0, 333000.0, 420000.0, 429900.0, 740000.0, 950000.0]], [\"98004\", [425000.0, 595000.0, 695000.0, 720000.0, 845000.0, 1150000.0, 1691000.0, 2150000.0, 2200000.0, 3800000.0, 7062500.0]], [\"98005\", [400000.0, 411100.0, 542500.0, 549000.0, 638700.0, 768500.0, 915000.0, 1110000.0, 1125000.0, 1900000.0, 1960000.0]], [\"98006\", [247500.0, 295000.0, 450000.0, 455000.0, 575000.0, 760369.0, 978000.0, 1380000.0, 1400000.0, 2525000.0, 4208000.0]], [\"98007\", [295000.0, 330000.0, 415500.0, 419000.0, 465000.0, 555000.0, 730000.0, 900000.0, 907500.0, 1229000.0, 1315000.0]], [\"98008\", [250000.0, 277700.0, 405000.0, 415000.0, 465000.0, 545000.0, 660000.0, 850000.0, 899000.0, 3300000.0, 3567000.0]], [\"98010\", [135000.0, 162000.0, 208500.0, 212644.0, 257000.0, 360000.0, 600000.0, 712000.0, 720000.0, 935000.0, 935000.0]], [\"98011\", [245500.0, 260000.0, 347000.0, 361000.0, 411800.0, 470000.0, 550000.0, 632000.0, 650000.0, 870000.0, 1075000.0]], [\"98014\", [80000.0, 134000.0, 167000.0, 180000.0, 309000.0, 415000.0, 539000.0, 739000.0, 755000.0, 1610000.0, 1680000.0]], [\"98019\", [119500.0, 170000.0, 289275.0, 299950.0, 330000.0, 402500.0, 500000.0, 570000.0, 570000.0, 979500.0, 1015000.0]], [\"98022\", [75000.0, 152900.0, 199990.0, 200000.0, 235000.0, 280000.0, 350000.0, 475000.0, 487000.0, 750000.0, 858000.0]], [\"98023\", [86500.0, 115000.0, 188000.0, 193000.0, 224097.0, 268450.0, 316500.0, 402500.0, 415000.0, 629000.0, 1275000.0]], [\"98024\", [142000.0, 142000.0, 258000.0, 260000.0, 340000.0, 460000.0, 700000.0, 997950.0, 1065000.0, 1862000.0, 1862000.0]], [\"98027\", [130000.0, 240000.0, 352499.0, 361000.0, 450000.0, 571000.0, 716500.0, 865000.0, 890000.0, 1800000.0, 2700000.0]], [\"98028\", [160000.0, 196000.0, 300000.0, 310000.0, 379950.0, 445000.0, 526750.0, 610000.0, 619990.0, 1120000.0, 1600000.0]], [\"98029\", [285000.0, 310000.0, 413565.0, 420000.0, 485000.0, 575000.0, 690000.0, 795000.0, 812000.0, 1450000.0, 2200000.0]], [\"98030\", [120000.0, 140000.0, 213400.0, 220000.0, 249950.0, 282510.0, 339950.0, 380000.0, 386000.0, 491000.0, 565000.0]], [\"98031\", [147500.0, 152000.0, 223000.0, 230000.0, 252000.0, 288400.0, 327500.0, 377000.0, 382500.0, 680000.0, 800000.0]], [\"98032\", [85000.0, 85000.0, 165000.0, 169000.0, 221700.0, 249000.0, 285000.0, 321000.0, 324900.0, 400000.0, 545000.0]], [\"98033\", [130000.0, 305000.0, 425000.0, 437500.0, 535000.0, 678700.0, 902000.0, 1339000.0, 1378000.0, 2650000.0, 5110800.0]], [\"98034\", [90000.0, 257000.0, 330000.0, 335000.0, 387000.0, 445950.0, 525000.0, 749950.0, 799950.0, 2125000.0, 3120000.0]], [\"98038\", [110000.0, 176000.0, 240000.0, 245000.0, 285000.0, 342000.0, 410000.0, 533000.0, 540000.0, 849000.0, 1350000.0]], [\"98039\", [787500.0, 787500.0, 940000.0, 1000000.0, 1398000.0, 1905000.0, 2575000.0, 3640900.0, 3640900.0, 6885000.0, 6885000.0]], [\"98040\", [500000.0, 550000.0, 685000.0, 698000.0, 821000.0, 994000.0, 1387000.0, 1815000.0, 1900000.0, 3850000.0, 5300000.0]], [\"98042\", [105000.0, 132825.0, 200000.0, 204000.0, 240000.0, 292500.0, 359950.0, 444900.0, 450000.0, 734000.0, 859000.0]], [\"98045\", [175000.0, 189000.0, 259000.0, 271000.0, 305000.0, 399500.0, 495000.0, 665000.0, 688000.0, 1075000.0, 1950000.0]], [\"98052\", [225000.0, 315000.0, 425000.0, 432100.0, 509250.0, 615000.0, 751000.0, 852500.0, 872750.0, 1299888.0, 2200000.0]], [\"98053\", [170000.0, 300000.0, 400000.0, 405000.0, 485000.0, 635000.0, 790500.0, 955990.0, 975000.0, 1769000.0, 2280000.0]], [\"98055\", [100000.0, 126000.0, 192000.0, 197500.0, 240000.0, 295000.0, 350000.0, 430000.0, 440000.0, 580000.0, 631000.0]], [\"98056\", [139000.0, 155000.0, 230000.0, 231500.0, 289000.0, 380000.0, 510000.0, 635000.0, 640000.0, 980000.0, 3000000.0]], [\"98058\", [95000.0, 144000.0, 225000.0, 230000.0, 285000.0, 335000.0, 392000.0, 475000.0, 485000.0, 790000.0, 1500000.0]], [\"98059\", [172500.0, 217000.0, 291375.0, 294500.0, 340000.0, 435000.0, 552500.0, 751000.0, 785000.0, 1300000.0, 1780000.0]], [\"98065\", [170000.0, 208000.0, 323000.0, 335000.0, 424950.0, 500000.0, 619000.0, 710000.0, 723000.0, 1145000.0, 1998000.0]], [\"98070\", [160000.0, 181000.0, 280000.0, 285000.0, 340000.0, 465000.0, 575000.0, 729000.0, 730000.0, 1350000.0, 1379900.0]], [\"98072\", [200000.0, 275000.0, 357823.0, 365000.0, 422800.0, 515000.0, 642860.0, 879000.0, 905000.0, 1350000.0, 1565000.0]], [\"98074\", [280000.0, 325000.0, 420000.0, 434900.0, 532000.0, 642000.0, 798000.0, 922755.0, 929000.0, 1675000.0, 3075000.0]], [\"98075\", [406430.0, 432000.0, 545000.0, 550000.0, 641000.0, 739999.0, 870000.0, 1060000.0, 1062500.0, 2000000.0, 3200000.0]], [\"98077\", [250000.0, 274975.0, 335000.0, 353000.0, 510000.0, 654950.0, 835000.0, 950000.0, 985000.0, 1820000.0, 1920000.0]], [\"98092\", [90000.0, 148226.0, 210000.0, 216000.0, 263950.0, 309780.0, 379500.0, 471275.0, 480000.0, 835000.0, 930000.0]], [\"98102\", [330000.0, 350000.0, 440000.0, 475000.0, 575000.0, 720000.0, 979700.0, 1440000.0, 1443917.0, 2479000.0, 7700000.0]], [\"98103\", [238000.0, 259250.0, 352950.0, 355000.0, 432000.0, 550000.0, 695000.0, 830000.0, 850000.0, 1350000.0, 1695000.0]], [\"98105\", [380000.0, 395000.0, 483000.0, 485000.0, 550000.0, 675000.0, 1005000.0, 1415000.0, 1482500.0, 2555000.0, 3650000.0]], [\"98106\", [90000.0, 107000.0, 208400.0, 210000.0, 260000.0, 315000.0, 366000.0, 426000.0, 435000.0, 625000.0, 795000.0]], [\"98107\", [290000.0, 356000.0, 425000.0, 430000.0, 470000.0, 529950.0, 630000.0, 752500.0, 769950.0, 1205000.0, 2945000.0]], [\"98108\", [90000.0, 130000.0, 230000.0, 230000.0, 284000.0, 345000.0, 425000.0, 491000.0, 500000.0, 635000.0, 640000.0]], [\"98109\", [216650.0, 216650.0, 478000.0, 479000.0, 620000.0, 736000.0, 1000000.0, 1450000.0, 1450000.0, 2900000.0, 3200000.0]], [\"98112\", [169317.0, 350000.0, 515000.0, 524000.0, 680000.0, 915000.0, 1328000.0, 1975000.0, 2048000.0, 3000000.0, 3400000.0]], [\"98115\", [200000.0, 289500.0, 395000.0, 399000.0, 455000.0, 567000.0, 719000.0, 897000.0, 925000.0, 1500000.0, 2300000.0]], [\"98116\", [130000.0, 252000.0, 386950.0, 390000.0, 460000.0, 565500.0, 703000.0, 930000.0, 950000.0, 1598888.0, 2050000.0]], [\"98117\", [125000.0, 280000.0, 375000.0, 390000.0, 450000.0, 544000.0, 657500.0, 825000.0, 850000.0, 1275000.0, 1370000.0]], [\"98118\", [109000.0, 155000.0, 221000.0, 226000.0, 289000.0, 367500.0, 476500.0, 665000.0, 680000.0, 1309500.0, 2903000.0]], [\"98119\", [300523.0, 365000.0, 485000.0, 490000.0, 600000.0, 749950.0, 940000.0, 1320000.0, 1330000.0, 2630000.0, 3065000.0]], [\"98122\", [202000.0, 260000.0, 375000.0, 385000.0, 450000.0, 574000.0, 720000.0, 920000.0, 925000.0, 1850000.0, 2050000.0]], [\"98125\", [175000.0, 228000.0, 303697.0, 310000.0, 357250.0, 425000.0, 518000.0, 675000.0, 689000.0, 1335000.0, 2050000.0]], [\"98126\", [110000.0, 183000.0, 250000.0, 255000.0, 320000.0, 396500.0, 485000.0, 643500.0, 661000.0, 901000.0, 1085000.0]], [\"98133\", [130000.0, 210000.0, 275000.0, 277500.0, 318000.0, 375000.0, 435000.0, 507000.0, 518000.0, 729953.0, 808100.0]], [\"98136\", [200000.0, 229050.0, 340000.0, 345000.0, 398000.0, 489950.0, 660000.0, 838000.0, 850000.0, 1662000.0, 2230000.0]], [\"98144\", [181000.0, 230000.0, 325000.0, 327000.0, 374950.0, 450000.0, 666000.0, 970000.0, 1039000.0, 2450000.0, 3600000.0]], [\"98146\", [82000.0, 104950.0, 158800.0, 175000.0, 229500.0, 307000.0, 409000.0, 605000.0, 665900.0, 1250000.0, 1410000.0]], [\"98148\", [105500.0, 105500.0, 193000.0, 193000.0, 240000.0, 278000.0, 319990.0, 375000.0, 375000.0, 600600.0, 600600.0]], [\"98155\", [153000.0, 195000.0, 267800.0, 270000.0, 315000.0, 375000.0, 460000.0, 590000.0, 600000.0, 1680000.0, 4500000.0]], [\"98166\", [100000.0, 129888.0, 220000.0, 229000.0, 292000.0, 390000.0, 540500.0, 755000.0, 770000.0, 1899000.0, 2510000.0]], [\"98168\", [78000.0, 82500.0, 150550.0, 158000.0, 199950.0, 235000.0, 285000.0, 325000.0, 327200.0, 424305.0, 600000.0]], [\"98177\", [245560.0, 276000.0, 355950.0, 367500.0, 427000.0, 554000.0, 749950.0, 1075000.0, 1200000.0, 2880500.0, 3800000.0]], [\"98178\", [90000.0, 119900.0, 180000.0, 188000.0, 223000.0, 279000.0, 350000.0, 450000.0, 460000.0, 869000.0, 1700000.0]], [\"98188\", [110000.0, 110700.0, 179000.0, 179950.0, 230000.0, 265000.0, 335000.0, 400200.0, 408000.0, 706000.0, 707000.0]], [\"98198\", [95000.0, 120000.0, 174500.0, 175000.0, 216500.0, 265000.0, 340000.0, 455000.0, 475000.0, 950000.0, 1350000.0]], [\"98199\", [323000.0, 334000.0, 419000.0, 425000.0, 535000.0, 689800.0, 950000.0, 1289000.0, 1300000.0, 2160000.0, 3200000.0]]], \"omitted\": 0}, \"selected_variable\": {\"columns\": [{\"name\": \"id\", \"dtype\": \"str\"}, {\"name\": \"date\", \"dtype\": \"datetime\"}, {\"name\": \"price\", \"dtype\": \"int\"}, {\"name\": \"bedrooms\", \"dtype\": \"str\"}, {\"name\": \"bathrooms\", \"dtype\": \"str\"}, {\"name\": \"sqft_living\", \"dtype\": \"int\"}, {\"name\": \"sqft_lot\", \"dtype\": \"int\"}, {\"name\": \"floors\", \"dtype\": \"str\"}, {\"name\": \"waterfront\", \"dtype\": \"int\"}, {\"name\": \"view\", \"dtype\": \"int\"}, {\"name\": \"condition\", \"dtype\": \"int\"}, {\"name\": \"grade\", \"dtype\": \"int\"}, {\"name\": \"sqft_above\", \"dtype\": \"int\"}, {\"name\": \"sqft_basement\", \"dtype\": \"int\"}, {\"name\": \"yr_built\", \"dtype\": \"int\"}, {\"name\": \"yr_renovated\", \"dtype\": \"int\"}, {\"name\": \"zipcode\", \"dtype\": \"str\"}, {\"name\": \"lat\", \"dtype\": \"float\"}, {\"name\": \"long\", \"dtype\": \"float\"}, {\"name\": \"sqft_living15\", \"dtype\": \"float\"}, {\"name\": \"sqft_lot15\", \"dtype\": \"float\"}], \"column_identifiers\": [\"id\", \"condition\", \"grade\", \"yr_renovated\", \"view\", \"date\", \"sqft_above\", \"sqft_living\", \"zipcode\", \"floors\", \"long\", \"lat\", \"sqft_lot\", \"bedrooms\", \"price\", \"waterfront\", \"sqft_living15\", \"sqft_lot15\", \"sqft_basement\", \"bathrooms\", \"yr_built\"], \"view_components\": [\"Summary\", \"Table\", \"Bar Chart\", \"BoxWhisker Plot\", \"Line Chart\", \"Scatter Plot\", \"Heat Map\", \"Plots\"], \"descriptives\": {\"columns\": 21, \"rows\": 21613}, \"view_file\": \"sframe\", \"view_params\": {\"x\": \"zipcode\", \"columns\": [\"id\", \"date\", \"price\", \"bedrooms\", \"bathrooms\", \"sqft_living\", \"sqft_lot\", \"floors\", \"waterfront\", \"view\", \"condition\", \"grade\", \"sqft_above\", \"sqft_basement\", \"yr_built\", \"yr_renovated\", \"zipcode\", \"lat\", \"long\", \"sqft_living15\", \"sqft_lot15\"], \"view\": \"BoxWhisker Plot\", \"y\": \"price\"}, \"type\": \"SFrame\", \"view_component\": \"Plots\", \"name\": [\"sales\"]}, \"complete\": 1, \"ipython\": true, \"columns\": [{\"name\": \"id\", \"dtype\": \"str\"}, {\"name\": \"date\", \"dtype\": \"datetime\"}, {\"name\": \"price\", \"dtype\": \"int\"}, {\"name\": \"bedrooms\", \"dtype\": \"str\"}, {\"name\": \"bathrooms\", \"dtype\": \"str\"}, {\"name\": \"sqft_living\", \"dtype\": \"int\"}, {\"name\": \"sqft_lot\", \"dtype\": \"int\"}, {\"name\": \"floors\", \"dtype\": \"str\"}, {\"name\": \"waterfront\", \"dtype\": \"int\"}, {\"name\": \"view\", \"dtype\": \"int\"}, {\"name\": \"condition\", \"dtype\": \"int\"}, {\"name\": \"grade\", \"dtype\": \"int\"}, {\"name\": \"sqft_above\", \"dtype\": \"int\"}, {\"name\": \"sqft_basement\", \"dtype\": \"int\"}, {\"name\": \"yr_built\", \"dtype\": \"int\"}, {\"name\": \"yr_renovated\", \"dtype\": \"int\"}, {\"name\": \"zipcode\", \"dtype\": \"str\"}, {\"name\": \"lat\", \"dtype\": \"float\"}, {\"name\": \"long\", \"dtype\": \"float\"}, {\"name\": \"sqft_living15\", \"dtype\": \"float\"}, {\"name\": \"sqft_lot15\", \"dtype\": \"float\"}], \"progress\": 1.0}, e);\n",
       "                });\n",
       "            })();\n",
       "        "
      ]
     },
     "metadata": {},
     "output_type": "display_data"
    }
   ],
   "source": [
    "sales.show(view='BoxWhisker Plot', x='zipcode', y='price')"
   ]
  },
  {
   "cell_type": "markdown",
   "metadata": {},
   "source": [
    "Pull the bar at the bottom to view more of the data.  \n",
    "\n",
    "98039 is the most expensive zip code."
   ]
  },
  {
   "cell_type": "markdown",
   "metadata": {},
   "source": [
    "# Build a regression model with more features"
   ]
  },
  {
   "cell_type": "code",
   "execution_count": 16,
   "metadata": {
    "collapsed": false
   },
   "outputs": [
    {
     "data": {
      "text/html": [
       "<pre>Linear regression:</pre>"
      ],
      "text/plain": [
       "Linear regression:"
      ]
     },
     "metadata": {},
     "output_type": "display_data"
    },
    {
     "data": {
      "text/html": [
       "<pre>--------------------------------------------------------</pre>"
      ],
      "text/plain": [
       "--------------------------------------------------------"
      ]
     },
     "metadata": {},
     "output_type": "display_data"
    },
    {
     "data": {
      "text/html": [
       "<pre>Number of examples          : 17384</pre>"
      ],
      "text/plain": [
       "Number of examples          : 17384"
      ]
     },
     "metadata": {},
     "output_type": "display_data"
    },
    {
     "data": {
      "text/html": [
       "<pre>Number of features          : 6</pre>"
      ],
      "text/plain": [
       "Number of features          : 6"
      ]
     },
     "metadata": {},
     "output_type": "display_data"
    },
    {
     "data": {
      "text/html": [
       "<pre>Number of unpacked features : 6</pre>"
      ],
      "text/plain": [
       "Number of unpacked features : 6"
      ]
     },
     "metadata": {},
     "output_type": "display_data"
    },
    {
     "data": {
      "text/html": [
       "<pre>Number of coefficients    : 115</pre>"
      ],
      "text/plain": [
       "Number of coefficients    : 115"
      ]
     },
     "metadata": {},
     "output_type": "display_data"
    },
    {
     "data": {
      "text/html": [
       "<pre>Starting Newton Method</pre>"
      ],
      "text/plain": [
       "Starting Newton Method"
      ]
     },
     "metadata": {},
     "output_type": "display_data"
    },
    {
     "data": {
      "text/html": [
       "<pre>--------------------------------------------------------</pre>"
      ],
      "text/plain": [
       "--------------------------------------------------------"
      ]
     },
     "metadata": {},
     "output_type": "display_data"
    },
    {
     "data": {
      "text/html": [
       "<pre>+-----------+----------+--------------+--------------------+---------------+</pre>"
      ],
      "text/plain": [
       "+-----------+----------+--------------+--------------------+---------------+"
      ]
     },
     "metadata": {},
     "output_type": "display_data"
    },
    {
     "data": {
      "text/html": [
       "<pre>| Iteration | Passes   | Elapsed Time | Training-max_error | Training-rmse |</pre>"
      ],
      "text/plain": [
       "| Iteration | Passes   | Elapsed Time | Training-max_error | Training-rmse |"
      ]
     },
     "metadata": {},
     "output_type": "display_data"
    },
    {
     "data": {
      "text/html": [
       "<pre>+-----------+----------+--------------+--------------------+---------------+</pre>"
      ],
      "text/plain": [
       "+-----------+----------+--------------+--------------------+---------------+"
      ]
     },
     "metadata": {},
     "output_type": "display_data"
    },
    {
     "data": {
      "text/html": [
       "<pre>| 1         | 2        | 0.022058     | 3763208.270523     | 181908.848367 |</pre>"
      ],
      "text/plain": [
       "| 1         | 2        | 0.022058     | 3763208.270523     | 181908.848367 |"
      ]
     },
     "metadata": {},
     "output_type": "display_data"
    },
    {
     "data": {
      "text/html": [
       "<pre>+-----------+----------+--------------+--------------------+---------------+</pre>"
      ],
      "text/plain": [
       "+-----------+----------+--------------+--------------------+---------------+"
      ]
     },
     "metadata": {},
     "output_type": "display_data"
    },
    {
     "data": {
      "text/html": [
       "<pre>SUCCESS: Optimal solution found.</pre>"
      ],
      "text/plain": [
       "SUCCESS: Optimal solution found."
      ]
     },
     "metadata": {},
     "output_type": "display_data"
    },
    {
     "data": {
      "text/html": [
       "<pre></pre>"
      ],
      "text/plain": []
     },
     "metadata": {},
     "output_type": "display_data"
    }
   ],
   "source": [
    "my_features_model = graphlab.linear_regression.create(train_data,target='price',features=my_features,validation_set=None)"
   ]
  },
  {
   "cell_type": "code",
   "execution_count": 17,
   "metadata": {
    "collapsed": false
   },
   "outputs": [
    {
     "name": "stdout",
     "output_type": "stream",
     "text": [
      "['bedrooms', 'bathrooms', 'sqft_living', 'sqft_lot', 'floors', 'zipcode']\n"
     ]
    }
   ],
   "source": [
    "print(my_features)"
   ]
  },
  {
   "cell_type": "markdown",
   "metadata": {},
   "source": [
    "## Comparing the results of the simple model with adding more features"
   ]
  },
  {
   "cell_type": "code",
   "execution_count": 18,
   "metadata": {
    "collapsed": false
   },
   "outputs": [
    {
     "name": "stdout",
     "output_type": "stream",
     "text": [
      "{'max_error': 4143550.8825285938, 'rmse': 255191.02870527358}\n",
      "{'max_error': 3486584.509381705, 'rmse': 179542.4333126903}\n"
     ]
    }
   ],
   "source": [
    "print(sqft_model.evaluate(test_data))\n",
    "print(my_features_model.evaluate(test_data))"
   ]
  },
  {
   "cell_type": "markdown",
   "metadata": {},
   "source": [
    "The RMSE goes down from \\$255,170 to \\$179,508 with more features."
   ]
  },
  {
   "cell_type": "markdown",
   "metadata": {},
   "source": [
    "# Apply learned models to predict prices of 3 houses"
   ]
  },
  {
   "cell_type": "markdown",
   "metadata": {},
   "source": [
    "The first house we will use is considered an \"average\" house in Seattle. "
   ]
  },
  {
   "cell_type": "code",
   "execution_count": 19,
   "metadata": {
    "collapsed": true
   },
   "outputs": [],
   "source": [
    "house1 = sales[sales['id']=='5309101200']"
   ]
  },
  {
   "cell_type": "code",
   "execution_count": 20,
   "metadata": {
    "collapsed": false
   },
   "outputs": [
    {
     "data": {
      "text/html": [
       "<div style=\"max-height:1000px;max-width:1500px;overflow:auto;\"><table frame=\"box\" rules=\"cols\">\n",
       "    <tr>\n",
       "        <th style=\"padding-left: 1em; padding-right: 1em; text-align: center\">id</th>\n",
       "        <th style=\"padding-left: 1em; padding-right: 1em; text-align: center\">date</th>\n",
       "        <th style=\"padding-left: 1em; padding-right: 1em; text-align: center\">price</th>\n",
       "        <th style=\"padding-left: 1em; padding-right: 1em; text-align: center\">bedrooms</th>\n",
       "        <th style=\"padding-left: 1em; padding-right: 1em; text-align: center\">bathrooms</th>\n",
       "        <th style=\"padding-left: 1em; padding-right: 1em; text-align: center\">sqft_living</th>\n",
       "        <th style=\"padding-left: 1em; padding-right: 1em; text-align: center\">sqft_lot</th>\n",
       "        <th style=\"padding-left: 1em; padding-right: 1em; text-align: center\">floors</th>\n",
       "        <th style=\"padding-left: 1em; padding-right: 1em; text-align: center\">waterfront</th>\n",
       "    </tr>\n",
       "    <tr>\n",
       "        <td style=\"padding-left: 1em; padding-right: 1em; text-align: center; vertical-align: top\">5309101200</td>\n",
       "        <td style=\"padding-left: 1em; padding-right: 1em; text-align: center; vertical-align: top\">2014-06-05 00:00:00+00:00</td>\n",
       "        <td style=\"padding-left: 1em; padding-right: 1em; text-align: center; vertical-align: top\">620000</td>\n",
       "        <td style=\"padding-left: 1em; padding-right: 1em; text-align: center; vertical-align: top\">4</td>\n",
       "        <td style=\"padding-left: 1em; padding-right: 1em; text-align: center; vertical-align: top\">2.25</td>\n",
       "        <td style=\"padding-left: 1em; padding-right: 1em; text-align: center; vertical-align: top\">2400</td>\n",
       "        <td style=\"padding-left: 1em; padding-right: 1em; text-align: center; vertical-align: top\">5350</td>\n",
       "        <td style=\"padding-left: 1em; padding-right: 1em; text-align: center; vertical-align: top\">1.5</td>\n",
       "        <td style=\"padding-left: 1em; padding-right: 1em; text-align: center; vertical-align: top\">0</td>\n",
       "    </tr>\n",
       "</table>\n",
       "<table frame=\"box\" rules=\"cols\">\n",
       "    <tr>\n",
       "        <th style=\"padding-left: 1em; padding-right: 1em; text-align: center\">view</th>\n",
       "        <th style=\"padding-left: 1em; padding-right: 1em; text-align: center\">condition</th>\n",
       "        <th style=\"padding-left: 1em; padding-right: 1em; text-align: center\">grade</th>\n",
       "        <th style=\"padding-left: 1em; padding-right: 1em; text-align: center\">sqft_above</th>\n",
       "        <th style=\"padding-left: 1em; padding-right: 1em; text-align: center\">sqft_basement</th>\n",
       "        <th style=\"padding-left: 1em; padding-right: 1em; text-align: center\">yr_built</th>\n",
       "        <th style=\"padding-left: 1em; padding-right: 1em; text-align: center\">yr_renovated</th>\n",
       "        <th style=\"padding-left: 1em; padding-right: 1em; text-align: center\">zipcode</th>\n",
       "        <th style=\"padding-left: 1em; padding-right: 1em; text-align: center\">lat</th>\n",
       "    </tr>\n",
       "    <tr>\n",
       "        <td style=\"padding-left: 1em; padding-right: 1em; text-align: center; vertical-align: top\">0</td>\n",
       "        <td style=\"padding-left: 1em; padding-right: 1em; text-align: center; vertical-align: top\">4</td>\n",
       "        <td style=\"padding-left: 1em; padding-right: 1em; text-align: center; vertical-align: top\">7</td>\n",
       "        <td style=\"padding-left: 1em; padding-right: 1em; text-align: center; vertical-align: top\">1460</td>\n",
       "        <td style=\"padding-left: 1em; padding-right: 1em; text-align: center; vertical-align: top\">940</td>\n",
       "        <td style=\"padding-left: 1em; padding-right: 1em; text-align: center; vertical-align: top\">1929</td>\n",
       "        <td style=\"padding-left: 1em; padding-right: 1em; text-align: center; vertical-align: top\">0</td>\n",
       "        <td style=\"padding-left: 1em; padding-right: 1em; text-align: center; vertical-align: top\">98117</td>\n",
       "        <td style=\"padding-left: 1em; padding-right: 1em; text-align: center; vertical-align: top\">47.67632376</td>\n",
       "    </tr>\n",
       "</table>\n",
       "<table frame=\"box\" rules=\"cols\">\n",
       "    <tr>\n",
       "        <th style=\"padding-left: 1em; padding-right: 1em; text-align: center\">long</th>\n",
       "        <th style=\"padding-left: 1em; padding-right: 1em; text-align: center\">sqft_living15</th>\n",
       "        <th style=\"padding-left: 1em; padding-right: 1em; text-align: center\">sqft_lot15</th>\n",
       "    </tr>\n",
       "    <tr>\n",
       "        <td style=\"padding-left: 1em; padding-right: 1em; text-align: center; vertical-align: top\">-122.37010126</td>\n",
       "        <td style=\"padding-left: 1em; padding-right: 1em; text-align: center; vertical-align: top\">1250.0</td>\n",
       "        <td style=\"padding-left: 1em; padding-right: 1em; text-align: center; vertical-align: top\">4880.0</td>\n",
       "    </tr>\n",
       "</table>\n",
       "[? rows x 21 columns]<br/>Note: Only the head of the SFrame is printed. This SFrame is lazily evaluated.<br/>You can use sf.materialize() to force materialization.\n",
       "</div>"
      ],
      "text/plain": [
       "Columns:\n",
       "\tid\tstr\n",
       "\tdate\tdatetime\n",
       "\tprice\tint\n",
       "\tbedrooms\tstr\n",
       "\tbathrooms\tstr\n",
       "\tsqft_living\tint\n",
       "\tsqft_lot\tint\n",
       "\tfloors\tstr\n",
       "\twaterfront\tint\n",
       "\tview\tint\n",
       "\tcondition\tint\n",
       "\tgrade\tint\n",
       "\tsqft_above\tint\n",
       "\tsqft_basement\tint\n",
       "\tyr_built\tint\n",
       "\tyr_renovated\tint\n",
       "\tzipcode\tstr\n",
       "\tlat\tfloat\n",
       "\tlong\tfloat\n",
       "\tsqft_living15\tfloat\n",
       "\tsqft_lot15\tfloat\n",
       "\n",
       "Rows: Unknown\n",
       "\n",
       "Data:\n",
       "+------------+---------------------------+--------+----------+-----------+-------------+\n",
       "|     id     |            date           | price  | bedrooms | bathrooms | sqft_living |\n",
       "+------------+---------------------------+--------+----------+-----------+-------------+\n",
       "| 5309101200 | 2014-06-05 00:00:00+00:00 | 620000 |    4     |    2.25   |     2400    |\n",
       "+------------+---------------------------+--------+----------+-----------+-------------+\n",
       "+----------+--------+------------+------+-----------+-------+------------+---------------+\n",
       "| sqft_lot | floors | waterfront | view | condition | grade | sqft_above | sqft_basement |\n",
       "+----------+--------+------------+------+-----------+-------+------------+---------------+\n",
       "|   5350   |  1.5   |     0      |  0   |     4     |   7   |    1460    |      940      |\n",
       "+----------+--------+------------+------+-----------+-------+------------+---------------+\n",
       "+----------+--------------+---------+-------------+---------------+---------------+-----+\n",
       "| yr_built | yr_renovated | zipcode |     lat     |      long     | sqft_living15 | ... |\n",
       "+----------+--------------+---------+-------------+---------------+---------------+-----+\n",
       "|   1929   |      0       |  98117  | 47.67632376 | -122.37010126 |     1250.0    | ... |\n",
       "+----------+--------------+---------+-------------+---------------+---------------+-----+\n",
       "[? rows x 21 columns]\n",
       "Note: Only the head of the SFrame is printed. This SFrame is lazily evaluated.\n",
       "You can use sf.materialize() to force materialization."
      ]
     },
     "execution_count": 20,
     "metadata": {},
     "output_type": "execute_result"
    }
   ],
   "source": [
    "house1"
   ]
  },
  {
   "cell_type": "markdown",
   "metadata": {},
   "source": [
    "<img src=\"http://blue.kingcounty.com/Assessor/eRealProperty/MediaHandler.aspx?Media=2916871\">"
   ]
  },
  {
   "cell_type": "code",
   "execution_count": 21,
   "metadata": {
    "collapsed": false
   },
   "outputs": [
    {
     "name": "stdout",
     "output_type": "stream",
     "text": [
      "[620000, ... ]\n"
     ]
    }
   ],
   "source": [
    "print(house1['price'])"
   ]
  },
  {
   "cell_type": "code",
   "execution_count": 22,
   "metadata": {
    "collapsed": false
   },
   "outputs": [
    {
     "name": "stdout",
     "output_type": "stream",
     "text": [
      "[629584.8197281545]\n"
     ]
    }
   ],
   "source": [
    "print(sqft_model.predict(house1))"
   ]
  },
  {
   "cell_type": "code",
   "execution_count": 23,
   "metadata": {
    "collapsed": false
   },
   "outputs": [
    {
     "name": "stdout",
     "output_type": "stream",
     "text": [
      "[721918.9333272863]\n"
     ]
    }
   ],
   "source": [
    "print(my_features_model.predict(house1))"
   ]
  },
  {
   "cell_type": "markdown",
   "metadata": {},
   "source": [
    "In this case, the model with more features provides a worse prediction than the simpler model with only 1 feature.  However, on average, the model with more features is better."
   ]
  },
  {
   "cell_type": "markdown",
   "metadata": {},
   "source": [
    "## Prediction for a second, fancier house\n",
    "\n",
    "We will now examine the predictions for a fancier house."
   ]
  },
  {
   "cell_type": "code",
   "execution_count": 24,
   "metadata": {
    "collapsed": true
   },
   "outputs": [],
   "source": [
    "house2 = sales[sales['id']=='1925069082']"
   ]
  },
  {
   "cell_type": "code",
   "execution_count": 25,
   "metadata": {
    "collapsed": false
   },
   "outputs": [
    {
     "data": {
      "text/html": [
       "<div style=\"max-height:1000px;max-width:1500px;overflow:auto;\"><table frame=\"box\" rules=\"cols\">\n",
       "    <tr>\n",
       "        <th style=\"padding-left: 1em; padding-right: 1em; text-align: center\">id</th>\n",
       "        <th style=\"padding-left: 1em; padding-right: 1em; text-align: center\">date</th>\n",
       "        <th style=\"padding-left: 1em; padding-right: 1em; text-align: center\">price</th>\n",
       "        <th style=\"padding-left: 1em; padding-right: 1em; text-align: center\">bedrooms</th>\n",
       "        <th style=\"padding-left: 1em; padding-right: 1em; text-align: center\">bathrooms</th>\n",
       "        <th style=\"padding-left: 1em; padding-right: 1em; text-align: center\">sqft_living</th>\n",
       "        <th style=\"padding-left: 1em; padding-right: 1em; text-align: center\">sqft_lot</th>\n",
       "        <th style=\"padding-left: 1em; padding-right: 1em; text-align: center\">floors</th>\n",
       "        <th style=\"padding-left: 1em; padding-right: 1em; text-align: center\">waterfront</th>\n",
       "    </tr>\n",
       "    <tr>\n",
       "        <td style=\"padding-left: 1em; padding-right: 1em; text-align: center; vertical-align: top\">1925069082</td>\n",
       "        <td style=\"padding-left: 1em; padding-right: 1em; text-align: center; vertical-align: top\">2015-05-11 00:00:00+00:00</td>\n",
       "        <td style=\"padding-left: 1em; padding-right: 1em; text-align: center; vertical-align: top\">2200000</td>\n",
       "        <td style=\"padding-left: 1em; padding-right: 1em; text-align: center; vertical-align: top\">5</td>\n",
       "        <td style=\"padding-left: 1em; padding-right: 1em; text-align: center; vertical-align: top\">4.25</td>\n",
       "        <td style=\"padding-left: 1em; padding-right: 1em; text-align: center; vertical-align: top\">4640</td>\n",
       "        <td style=\"padding-left: 1em; padding-right: 1em; text-align: center; vertical-align: top\">22703</td>\n",
       "        <td style=\"padding-left: 1em; padding-right: 1em; text-align: center; vertical-align: top\">2</td>\n",
       "        <td style=\"padding-left: 1em; padding-right: 1em; text-align: center; vertical-align: top\">1</td>\n",
       "    </tr>\n",
       "</table>\n",
       "<table frame=\"box\" rules=\"cols\">\n",
       "    <tr>\n",
       "        <th style=\"padding-left: 1em; padding-right: 1em; text-align: center\">view</th>\n",
       "        <th style=\"padding-left: 1em; padding-right: 1em; text-align: center\">condition</th>\n",
       "        <th style=\"padding-left: 1em; padding-right: 1em; text-align: center\">grade</th>\n",
       "        <th style=\"padding-left: 1em; padding-right: 1em; text-align: center\">sqft_above</th>\n",
       "        <th style=\"padding-left: 1em; padding-right: 1em; text-align: center\">sqft_basement</th>\n",
       "        <th style=\"padding-left: 1em; padding-right: 1em; text-align: center\">yr_built</th>\n",
       "        <th style=\"padding-left: 1em; padding-right: 1em; text-align: center\">yr_renovated</th>\n",
       "        <th style=\"padding-left: 1em; padding-right: 1em; text-align: center\">zipcode</th>\n",
       "        <th style=\"padding-left: 1em; padding-right: 1em; text-align: center\">lat</th>\n",
       "    </tr>\n",
       "    <tr>\n",
       "        <td style=\"padding-left: 1em; padding-right: 1em; text-align: center; vertical-align: top\">4</td>\n",
       "        <td style=\"padding-left: 1em; padding-right: 1em; text-align: center; vertical-align: top\">5</td>\n",
       "        <td style=\"padding-left: 1em; padding-right: 1em; text-align: center; vertical-align: top\">8</td>\n",
       "        <td style=\"padding-left: 1em; padding-right: 1em; text-align: center; vertical-align: top\">2860</td>\n",
       "        <td style=\"padding-left: 1em; padding-right: 1em; text-align: center; vertical-align: top\">1780</td>\n",
       "        <td style=\"padding-left: 1em; padding-right: 1em; text-align: center; vertical-align: top\">1952</td>\n",
       "        <td style=\"padding-left: 1em; padding-right: 1em; text-align: center; vertical-align: top\">0</td>\n",
       "        <td style=\"padding-left: 1em; padding-right: 1em; text-align: center; vertical-align: top\">98052</td>\n",
       "        <td style=\"padding-left: 1em; padding-right: 1em; text-align: center; vertical-align: top\">47.63925783</td>\n",
       "    </tr>\n",
       "</table>\n",
       "<table frame=\"box\" rules=\"cols\">\n",
       "    <tr>\n",
       "        <th style=\"padding-left: 1em; padding-right: 1em; text-align: center\">long</th>\n",
       "        <th style=\"padding-left: 1em; padding-right: 1em; text-align: center\">sqft_living15</th>\n",
       "        <th style=\"padding-left: 1em; padding-right: 1em; text-align: center\">sqft_lot15</th>\n",
       "    </tr>\n",
       "    <tr>\n",
       "        <td style=\"padding-left: 1em; padding-right: 1em; text-align: center; vertical-align: top\">-122.09722322</td>\n",
       "        <td style=\"padding-left: 1em; padding-right: 1em; text-align: center; vertical-align: top\">3140.0</td>\n",
       "        <td style=\"padding-left: 1em; padding-right: 1em; text-align: center; vertical-align: top\">14200.0</td>\n",
       "    </tr>\n",
       "</table>\n",
       "[? rows x 21 columns]<br/>Note: Only the head of the SFrame is printed. This SFrame is lazily evaluated.<br/>You can use sf.materialize() to force materialization.\n",
       "</div>"
      ],
      "text/plain": [
       "Columns:\n",
       "\tid\tstr\n",
       "\tdate\tdatetime\n",
       "\tprice\tint\n",
       "\tbedrooms\tstr\n",
       "\tbathrooms\tstr\n",
       "\tsqft_living\tint\n",
       "\tsqft_lot\tint\n",
       "\tfloors\tstr\n",
       "\twaterfront\tint\n",
       "\tview\tint\n",
       "\tcondition\tint\n",
       "\tgrade\tint\n",
       "\tsqft_above\tint\n",
       "\tsqft_basement\tint\n",
       "\tyr_built\tint\n",
       "\tyr_renovated\tint\n",
       "\tzipcode\tstr\n",
       "\tlat\tfloat\n",
       "\tlong\tfloat\n",
       "\tsqft_living15\tfloat\n",
       "\tsqft_lot15\tfloat\n",
       "\n",
       "Rows: Unknown\n",
       "\n",
       "Data:\n",
       "+------------+---------------------------+---------+----------+-----------+-------------+\n",
       "|     id     |            date           |  price  | bedrooms | bathrooms | sqft_living |\n",
       "+------------+---------------------------+---------+----------+-----------+-------------+\n",
       "| 1925069082 | 2015-05-11 00:00:00+00:00 | 2200000 |    5     |    4.25   |     4640    |\n",
       "+------------+---------------------------+---------+----------+-----------+-------------+\n",
       "+----------+--------+------------+------+-----------+-------+------------+---------------+\n",
       "| sqft_lot | floors | waterfront | view | condition | grade | sqft_above | sqft_basement |\n",
       "+----------+--------+------------+------+-----------+-------+------------+---------------+\n",
       "|  22703   |   2    |     1      |  4   |     5     |   8   |    2860    |      1780     |\n",
       "+----------+--------+------------+------+-----------+-------+------------+---------------+\n",
       "+----------+--------------+---------+-------------+---------------+---------------+-----+\n",
       "| yr_built | yr_renovated | zipcode |     lat     |      long     | sqft_living15 | ... |\n",
       "+----------+--------------+---------+-------------+---------------+---------------+-----+\n",
       "|   1952   |      0       |  98052  | 47.63925783 | -122.09722322 |     3140.0    | ... |\n",
       "+----------+--------------+---------+-------------+---------------+---------------+-----+\n",
       "[? rows x 21 columns]\n",
       "Note: Only the head of the SFrame is printed. This SFrame is lazily evaluated.\n",
       "You can use sf.materialize() to force materialization."
      ]
     },
     "execution_count": 25,
     "metadata": {},
     "output_type": "execute_result"
    }
   ],
   "source": [
    "house2"
   ]
  },
  {
   "cell_type": "markdown",
   "metadata": {},
   "source": [
    "<img src=\"https://ssl.cdn-redfin.com/photo/1/bigphoto/302/734302_0.jpg\">"
   ]
  },
  {
   "cell_type": "code",
   "execution_count": 26,
   "metadata": {
    "collapsed": false
   },
   "outputs": [
    {
     "name": "stdout",
     "output_type": "stream",
     "text": [
      "[1261170.404099968]\n"
     ]
    }
   ],
   "source": [
    "print(sqft_model.predict(house2))"
   ]
  },
  {
   "cell_type": "code",
   "execution_count": 27,
   "metadata": {
    "collapsed": false
   },
   "outputs": [
    {
     "name": "stdout",
     "output_type": "stream",
     "text": [
      "[1446472.4690774973]\n"
     ]
    }
   ],
   "source": [
    "print(my_features_model.predict(house2))"
   ]
  },
  {
   "cell_type": "markdown",
   "metadata": {},
   "source": [
    "In this case, the model with more features provides a better prediction.  This behavior is expected here, because this house is more differentiated by features that go beyond its square feet of living space, especially the fact that it's a waterfront house. "
   ]
  },
  {
   "cell_type": "markdown",
   "metadata": {},
   "source": [
    "## Last house, super fancy\n",
    "\n",
    "Our last house is a very large one owned by a famous Seattleite."
   ]
  },
  {
   "cell_type": "code",
   "execution_count": 28,
   "metadata": {
    "collapsed": true
   },
   "outputs": [],
   "source": [
    "bill_gates = {'bedrooms':[8], \n",
    "              'bathrooms':[25], \n",
    "              'sqft_living':[50000], \n",
    "              'sqft_lot':[225000],\n",
    "              'floors':[4], \n",
    "              'zipcode':['98039'], \n",
    "              'condition':[10], \n",
    "              'grade':[10],\n",
    "              'waterfront':[1],\n",
    "              'view':[4],\n",
    "              'sqft_above':[37500],\n",
    "              'sqft_basement':[12500],\n",
    "              'yr_built':[1994],\n",
    "              'yr_renovated':[2010],\n",
    "              'lat':[47.627606],\n",
    "              'long':[-122.242054],\n",
    "              'sqft_living15':[5000],\n",
    "              'sqft_lot15':[40000]}"
   ]
  },
  {
   "cell_type": "markdown",
   "metadata": {},
   "source": [
    "<img src=\"https://upload.wikimedia.org/wikipedia/commons/thumb/d/d9/Bill_gates%27_house.jpg/2560px-Bill_gates%27_house.jpg\">"
   ]
  },
  {
   "cell_type": "code",
   "execution_count": 29,
   "metadata": {
    "collapsed": false
   },
   "outputs": [
    {
     "name": "stdout",
     "output_type": "stream",
     "text": [
      "[13749825.525719076]\n"
     ]
    }
   ],
   "source": [
    "print(my_features_model.predict(graphlab.SFrame(bill_gates)))"
   ]
  },
  {
   "cell_type": "markdown",
   "metadata": {
    "collapsed": true
   },
   "source": [
    "The model predicts a price of over $13M for this house! But we expect the house to cost much more.  (There are very few samples in the dataset of houses that are this fancy, so we don't expect the model to capture a perfect prediction here.)"
   ]
  },
  {
   "cell_type": "markdown",
   "metadata": {
    "collapsed": true
   },
   "source": [
    "# C12 - Assignment"
   ]
  },
  {
   "cell_type": "markdown",
   "metadata": {},
   "source": [
    "## Task #1"
   ]
  },
  {
   "cell_type": "code",
   "execution_count": 30,
   "metadata": {
    "collapsed": false
   },
   "outputs": [],
   "source": [
    "sales98039 = sales[sales['zipcode'] == '98039']"
   ]
  },
  {
   "cell_type": "code",
   "execution_count": 31,
   "metadata": {
    "collapsed": false
   },
   "outputs": [
    {
     "data": {
      "text/html": [
       "<div style=\"max-height:1000px;max-width:1500px;overflow:auto;\"><table frame=\"box\" rules=\"cols\">\n",
       "    <tr>\n",
       "        <th style=\"padding-left: 1em; padding-right: 1em; text-align: center\">id</th>\n",
       "        <th style=\"padding-left: 1em; padding-right: 1em; text-align: center\">date</th>\n",
       "        <th style=\"padding-left: 1em; padding-right: 1em; text-align: center\">price</th>\n",
       "        <th style=\"padding-left: 1em; padding-right: 1em; text-align: center\">bedrooms</th>\n",
       "        <th style=\"padding-left: 1em; padding-right: 1em; text-align: center\">bathrooms</th>\n",
       "        <th style=\"padding-left: 1em; padding-right: 1em; text-align: center\">sqft_living</th>\n",
       "        <th style=\"padding-left: 1em; padding-right: 1em; text-align: center\">sqft_lot</th>\n",
       "        <th style=\"padding-left: 1em; padding-right: 1em; text-align: center\">floors</th>\n",
       "        <th style=\"padding-left: 1em; padding-right: 1em; text-align: center\">waterfront</th>\n",
       "    </tr>\n",
       "    <tr>\n",
       "        <td style=\"padding-left: 1em; padding-right: 1em; text-align: center; vertical-align: top\">3625049014</td>\n",
       "        <td style=\"padding-left: 1em; padding-right: 1em; text-align: center; vertical-align: top\">2014-08-29 00:00:00+00:00</td>\n",
       "        <td style=\"padding-left: 1em; padding-right: 1em; text-align: center; vertical-align: top\">2950000</td>\n",
       "        <td style=\"padding-left: 1em; padding-right: 1em; text-align: center; vertical-align: top\">4</td>\n",
       "        <td style=\"padding-left: 1em; padding-right: 1em; text-align: center; vertical-align: top\">3.5</td>\n",
       "        <td style=\"padding-left: 1em; padding-right: 1em; text-align: center; vertical-align: top\">4860</td>\n",
       "        <td style=\"padding-left: 1em; padding-right: 1em; text-align: center; vertical-align: top\">23885</td>\n",
       "        <td style=\"padding-left: 1em; padding-right: 1em; text-align: center; vertical-align: top\">2</td>\n",
       "        <td style=\"padding-left: 1em; padding-right: 1em; text-align: center; vertical-align: top\">0</td>\n",
       "    </tr>\n",
       "    <tr>\n",
       "        <td style=\"padding-left: 1em; padding-right: 1em; text-align: center; vertical-align: top\">2540700110</td>\n",
       "        <td style=\"padding-left: 1em; padding-right: 1em; text-align: center; vertical-align: top\">2015-02-12 00:00:00+00:00</td>\n",
       "        <td style=\"padding-left: 1em; padding-right: 1em; text-align: center; vertical-align: top\">1905000</td>\n",
       "        <td style=\"padding-left: 1em; padding-right: 1em; text-align: center; vertical-align: top\">4</td>\n",
       "        <td style=\"padding-left: 1em; padding-right: 1em; text-align: center; vertical-align: top\">3.5</td>\n",
       "        <td style=\"padding-left: 1em; padding-right: 1em; text-align: center; vertical-align: top\">4210</td>\n",
       "        <td style=\"padding-left: 1em; padding-right: 1em; text-align: center; vertical-align: top\">18564</td>\n",
       "        <td style=\"padding-left: 1em; padding-right: 1em; text-align: center; vertical-align: top\">2</td>\n",
       "        <td style=\"padding-left: 1em; padding-right: 1em; text-align: center; vertical-align: top\">0</td>\n",
       "    </tr>\n",
       "    <tr>\n",
       "        <td style=\"padding-left: 1em; padding-right: 1em; text-align: center; vertical-align: top\">3262300940</td>\n",
       "        <td style=\"padding-left: 1em; padding-right: 1em; text-align: center; vertical-align: top\">2014-11-07 00:00:00+00:00</td>\n",
       "        <td style=\"padding-left: 1em; padding-right: 1em; text-align: center; vertical-align: top\">875000</td>\n",
       "        <td style=\"padding-left: 1em; padding-right: 1em; text-align: center; vertical-align: top\">3</td>\n",
       "        <td style=\"padding-left: 1em; padding-right: 1em; text-align: center; vertical-align: top\">1</td>\n",
       "        <td style=\"padding-left: 1em; padding-right: 1em; text-align: center; vertical-align: top\">1220</td>\n",
       "        <td style=\"padding-left: 1em; padding-right: 1em; text-align: center; vertical-align: top\">8119</td>\n",
       "        <td style=\"padding-left: 1em; padding-right: 1em; text-align: center; vertical-align: top\">1</td>\n",
       "        <td style=\"padding-left: 1em; padding-right: 1em; text-align: center; vertical-align: top\">0</td>\n",
       "    </tr>\n",
       "    <tr>\n",
       "        <td style=\"padding-left: 1em; padding-right: 1em; text-align: center; vertical-align: top\">3262300940</td>\n",
       "        <td style=\"padding-left: 1em; padding-right: 1em; text-align: center; vertical-align: top\">2015-02-10 00:00:00+00:00</td>\n",
       "        <td style=\"padding-left: 1em; padding-right: 1em; text-align: center; vertical-align: top\">940000</td>\n",
       "        <td style=\"padding-left: 1em; padding-right: 1em; text-align: center; vertical-align: top\">3</td>\n",
       "        <td style=\"padding-left: 1em; padding-right: 1em; text-align: center; vertical-align: top\">1</td>\n",
       "        <td style=\"padding-left: 1em; padding-right: 1em; text-align: center; vertical-align: top\">1220</td>\n",
       "        <td style=\"padding-left: 1em; padding-right: 1em; text-align: center; vertical-align: top\">8119</td>\n",
       "        <td style=\"padding-left: 1em; padding-right: 1em; text-align: center; vertical-align: top\">1</td>\n",
       "        <td style=\"padding-left: 1em; padding-right: 1em; text-align: center; vertical-align: top\">0</td>\n",
       "    </tr>\n",
       "    <tr>\n",
       "        <td style=\"padding-left: 1em; padding-right: 1em; text-align: center; vertical-align: top\">6447300265</td>\n",
       "        <td style=\"padding-left: 1em; padding-right: 1em; text-align: center; vertical-align: top\">2014-10-14 00:00:00+00:00</td>\n",
       "        <td style=\"padding-left: 1em; padding-right: 1em; text-align: center; vertical-align: top\">4000000</td>\n",
       "        <td style=\"padding-left: 1em; padding-right: 1em; text-align: center; vertical-align: top\">4</td>\n",
       "        <td style=\"padding-left: 1em; padding-right: 1em; text-align: center; vertical-align: top\">5.5</td>\n",
       "        <td style=\"padding-left: 1em; padding-right: 1em; text-align: center; vertical-align: top\">7080</td>\n",
       "        <td style=\"padding-left: 1em; padding-right: 1em; text-align: center; vertical-align: top\">16573</td>\n",
       "        <td style=\"padding-left: 1em; padding-right: 1em; text-align: center; vertical-align: top\">2</td>\n",
       "        <td style=\"padding-left: 1em; padding-right: 1em; text-align: center; vertical-align: top\">0</td>\n",
       "    </tr>\n",
       "    <tr>\n",
       "        <td style=\"padding-left: 1em; padding-right: 1em; text-align: center; vertical-align: top\">2470100110</td>\n",
       "        <td style=\"padding-left: 1em; padding-right: 1em; text-align: center; vertical-align: top\">2014-08-04 00:00:00+00:00</td>\n",
       "        <td style=\"padding-left: 1em; padding-right: 1em; text-align: center; vertical-align: top\">5570000</td>\n",
       "        <td style=\"padding-left: 1em; padding-right: 1em; text-align: center; vertical-align: top\">5</td>\n",
       "        <td style=\"padding-left: 1em; padding-right: 1em; text-align: center; vertical-align: top\">5.75</td>\n",
       "        <td style=\"padding-left: 1em; padding-right: 1em; text-align: center; vertical-align: top\">9200</td>\n",
       "        <td style=\"padding-left: 1em; padding-right: 1em; text-align: center; vertical-align: top\">35069</td>\n",
       "        <td style=\"padding-left: 1em; padding-right: 1em; text-align: center; vertical-align: top\">2</td>\n",
       "        <td style=\"padding-left: 1em; padding-right: 1em; text-align: center; vertical-align: top\">0</td>\n",
       "    </tr>\n",
       "    <tr>\n",
       "        <td style=\"padding-left: 1em; padding-right: 1em; text-align: center; vertical-align: top\">2210500019</td>\n",
       "        <td style=\"padding-left: 1em; padding-right: 1em; text-align: center; vertical-align: top\">2015-03-24 00:00:00+00:00</td>\n",
       "        <td style=\"padding-left: 1em; padding-right: 1em; text-align: center; vertical-align: top\">937500</td>\n",
       "        <td style=\"padding-left: 1em; padding-right: 1em; text-align: center; vertical-align: top\">3</td>\n",
       "        <td style=\"padding-left: 1em; padding-right: 1em; text-align: center; vertical-align: top\">1</td>\n",
       "        <td style=\"padding-left: 1em; padding-right: 1em; text-align: center; vertical-align: top\">1320</td>\n",
       "        <td style=\"padding-left: 1em; padding-right: 1em; text-align: center; vertical-align: top\">8500</td>\n",
       "        <td style=\"padding-left: 1em; padding-right: 1em; text-align: center; vertical-align: top\">1</td>\n",
       "        <td style=\"padding-left: 1em; padding-right: 1em; text-align: center; vertical-align: top\">0</td>\n",
       "    </tr>\n",
       "    <tr>\n",
       "        <td style=\"padding-left: 1em; padding-right: 1em; text-align: center; vertical-align: top\">6447300345</td>\n",
       "        <td style=\"padding-left: 1em; padding-right: 1em; text-align: center; vertical-align: top\">2015-04-06 00:00:00+00:00</td>\n",
       "        <td style=\"padding-left: 1em; padding-right: 1em; text-align: center; vertical-align: top\">1160000</td>\n",
       "        <td style=\"padding-left: 1em; padding-right: 1em; text-align: center; vertical-align: top\">4</td>\n",
       "        <td style=\"padding-left: 1em; padding-right: 1em; text-align: center; vertical-align: top\">3</td>\n",
       "        <td style=\"padding-left: 1em; padding-right: 1em; text-align: center; vertical-align: top\">2680</td>\n",
       "        <td style=\"padding-left: 1em; padding-right: 1em; text-align: center; vertical-align: top\">15438</td>\n",
       "        <td style=\"padding-left: 1em; padding-right: 1em; text-align: center; vertical-align: top\">2</td>\n",
       "        <td style=\"padding-left: 1em; padding-right: 1em; text-align: center; vertical-align: top\">0</td>\n",
       "    </tr>\n",
       "    <tr>\n",
       "        <td style=\"padding-left: 1em; padding-right: 1em; text-align: center; vertical-align: top\">6447300225</td>\n",
       "        <td style=\"padding-left: 1em; padding-right: 1em; text-align: center; vertical-align: top\">2014-11-06 00:00:00+00:00</td>\n",
       "        <td style=\"padding-left: 1em; padding-right: 1em; text-align: center; vertical-align: top\">1880000</td>\n",
       "        <td style=\"padding-left: 1em; padding-right: 1em; text-align: center; vertical-align: top\">3</td>\n",
       "        <td style=\"padding-left: 1em; padding-right: 1em; text-align: center; vertical-align: top\">2.75</td>\n",
       "        <td style=\"padding-left: 1em; padding-right: 1em; text-align: center; vertical-align: top\">2620</td>\n",
       "        <td style=\"padding-left: 1em; padding-right: 1em; text-align: center; vertical-align: top\">17919</td>\n",
       "        <td style=\"padding-left: 1em; padding-right: 1em; text-align: center; vertical-align: top\">1</td>\n",
       "        <td style=\"padding-left: 1em; padding-right: 1em; text-align: center; vertical-align: top\">0</td>\n",
       "    </tr>\n",
       "    <tr>\n",
       "        <td style=\"padding-left: 1em; padding-right: 1em; text-align: center; vertical-align: top\">2525049148</td>\n",
       "        <td style=\"padding-left: 1em; padding-right: 1em; text-align: center; vertical-align: top\">2014-10-07 00:00:00+00:00</td>\n",
       "        <td style=\"padding-left: 1em; padding-right: 1em; text-align: center; vertical-align: top\">3418800</td>\n",
       "        <td style=\"padding-left: 1em; padding-right: 1em; text-align: center; vertical-align: top\">5</td>\n",
       "        <td style=\"padding-left: 1em; padding-right: 1em; text-align: center; vertical-align: top\">5</td>\n",
       "        <td style=\"padding-left: 1em; padding-right: 1em; text-align: center; vertical-align: top\">5450</td>\n",
       "        <td style=\"padding-left: 1em; padding-right: 1em; text-align: center; vertical-align: top\">20412</td>\n",
       "        <td style=\"padding-left: 1em; padding-right: 1em; text-align: center; vertical-align: top\">2</td>\n",
       "        <td style=\"padding-left: 1em; padding-right: 1em; text-align: center; vertical-align: top\">0</td>\n",
       "    </tr>\n",
       "</table>\n",
       "<table frame=\"box\" rules=\"cols\">\n",
       "    <tr>\n",
       "        <th style=\"padding-left: 1em; padding-right: 1em; text-align: center\">view</th>\n",
       "        <th style=\"padding-left: 1em; padding-right: 1em; text-align: center\">condition</th>\n",
       "        <th style=\"padding-left: 1em; padding-right: 1em; text-align: center\">grade</th>\n",
       "        <th style=\"padding-left: 1em; padding-right: 1em; text-align: center\">sqft_above</th>\n",
       "        <th style=\"padding-left: 1em; padding-right: 1em; text-align: center\">sqft_basement</th>\n",
       "        <th style=\"padding-left: 1em; padding-right: 1em; text-align: center\">yr_built</th>\n",
       "        <th style=\"padding-left: 1em; padding-right: 1em; text-align: center\">yr_renovated</th>\n",
       "        <th style=\"padding-left: 1em; padding-right: 1em; text-align: center\">zipcode</th>\n",
       "        <th style=\"padding-left: 1em; padding-right: 1em; text-align: center\">lat</th>\n",
       "    </tr>\n",
       "    <tr>\n",
       "        <td style=\"padding-left: 1em; padding-right: 1em; text-align: center; vertical-align: top\">0</td>\n",
       "        <td style=\"padding-left: 1em; padding-right: 1em; text-align: center; vertical-align: top\">3</td>\n",
       "        <td style=\"padding-left: 1em; padding-right: 1em; text-align: center; vertical-align: top\">12</td>\n",
       "        <td style=\"padding-left: 1em; padding-right: 1em; text-align: center; vertical-align: top\">4860</td>\n",
       "        <td style=\"padding-left: 1em; padding-right: 1em; text-align: center; vertical-align: top\">0</td>\n",
       "        <td style=\"padding-left: 1em; padding-right: 1em; text-align: center; vertical-align: top\">1996</td>\n",
       "        <td style=\"padding-left: 1em; padding-right: 1em; text-align: center; vertical-align: top\">0</td>\n",
       "        <td style=\"padding-left: 1em; padding-right: 1em; text-align: center; vertical-align: top\">98039</td>\n",
       "        <td style=\"padding-left: 1em; padding-right: 1em; text-align: center; vertical-align: top\">47.61717049</td>\n",
       "    </tr>\n",
       "    <tr>\n",
       "        <td style=\"padding-left: 1em; padding-right: 1em; text-align: center; vertical-align: top\">0</td>\n",
       "        <td style=\"padding-left: 1em; padding-right: 1em; text-align: center; vertical-align: top\">3</td>\n",
       "        <td style=\"padding-left: 1em; padding-right: 1em; text-align: center; vertical-align: top\">11</td>\n",
       "        <td style=\"padding-left: 1em; padding-right: 1em; text-align: center; vertical-align: top\">4210</td>\n",
       "        <td style=\"padding-left: 1em; padding-right: 1em; text-align: center; vertical-align: top\">0</td>\n",
       "        <td style=\"padding-left: 1em; padding-right: 1em; text-align: center; vertical-align: top\">2001</td>\n",
       "        <td style=\"padding-left: 1em; padding-right: 1em; text-align: center; vertical-align: top\">0</td>\n",
       "        <td style=\"padding-left: 1em; padding-right: 1em; text-align: center; vertical-align: top\">98039</td>\n",
       "        <td style=\"padding-left: 1em; padding-right: 1em; text-align: center; vertical-align: top\">47.62060082</td>\n",
       "    </tr>\n",
       "    <tr>\n",
       "        <td style=\"padding-left: 1em; padding-right: 1em; text-align: center; vertical-align: top\">0</td>\n",
       "        <td style=\"padding-left: 1em; padding-right: 1em; text-align: center; vertical-align: top\">4</td>\n",
       "        <td style=\"padding-left: 1em; padding-right: 1em; text-align: center; vertical-align: top\">7</td>\n",
       "        <td style=\"padding-left: 1em; padding-right: 1em; text-align: center; vertical-align: top\">1220</td>\n",
       "        <td style=\"padding-left: 1em; padding-right: 1em; text-align: center; vertical-align: top\">0</td>\n",
       "        <td style=\"padding-left: 1em; padding-right: 1em; text-align: center; vertical-align: top\">1955</td>\n",
       "        <td style=\"padding-left: 1em; padding-right: 1em; text-align: center; vertical-align: top\">0</td>\n",
       "        <td style=\"padding-left: 1em; padding-right: 1em; text-align: center; vertical-align: top\">98039</td>\n",
       "        <td style=\"padding-left: 1em; padding-right: 1em; text-align: center; vertical-align: top\">47.63281908</td>\n",
       "    </tr>\n",
       "    <tr>\n",
       "        <td style=\"padding-left: 1em; padding-right: 1em; text-align: center; vertical-align: top\">0</td>\n",
       "        <td style=\"padding-left: 1em; padding-right: 1em; text-align: center; vertical-align: top\">4</td>\n",
       "        <td style=\"padding-left: 1em; padding-right: 1em; text-align: center; vertical-align: top\">7</td>\n",
       "        <td style=\"padding-left: 1em; padding-right: 1em; text-align: center; vertical-align: top\">1220</td>\n",
       "        <td style=\"padding-left: 1em; padding-right: 1em; text-align: center; vertical-align: top\">0</td>\n",
       "        <td style=\"padding-left: 1em; padding-right: 1em; text-align: center; vertical-align: top\">1955</td>\n",
       "        <td style=\"padding-left: 1em; padding-right: 1em; text-align: center; vertical-align: top\">0</td>\n",
       "        <td style=\"padding-left: 1em; padding-right: 1em; text-align: center; vertical-align: top\">98039</td>\n",
       "        <td style=\"padding-left: 1em; padding-right: 1em; text-align: center; vertical-align: top\">47.63281908</td>\n",
       "    </tr>\n",
       "    <tr>\n",
       "        <td style=\"padding-left: 1em; padding-right: 1em; text-align: center; vertical-align: top\">0</td>\n",
       "        <td style=\"padding-left: 1em; padding-right: 1em; text-align: center; vertical-align: top\">3</td>\n",
       "        <td style=\"padding-left: 1em; padding-right: 1em; text-align: center; vertical-align: top\">12</td>\n",
       "        <td style=\"padding-left: 1em; padding-right: 1em; text-align: center; vertical-align: top\">5760</td>\n",
       "        <td style=\"padding-left: 1em; padding-right: 1em; text-align: center; vertical-align: top\">1320</td>\n",
       "        <td style=\"padding-left: 1em; padding-right: 1em; text-align: center; vertical-align: top\">2008</td>\n",
       "        <td style=\"padding-left: 1em; padding-right: 1em; text-align: center; vertical-align: top\">0</td>\n",
       "        <td style=\"padding-left: 1em; padding-right: 1em; text-align: center; vertical-align: top\">98039</td>\n",
       "        <td style=\"padding-left: 1em; padding-right: 1em; text-align: center; vertical-align: top\">47.61512031</td>\n",
       "    </tr>\n",
       "    <tr>\n",
       "        <td style=\"padding-left: 1em; padding-right: 1em; text-align: center; vertical-align: top\">0</td>\n",
       "        <td style=\"padding-left: 1em; padding-right: 1em; text-align: center; vertical-align: top\">3</td>\n",
       "        <td style=\"padding-left: 1em; padding-right: 1em; text-align: center; vertical-align: top\">13</td>\n",
       "        <td style=\"padding-left: 1em; padding-right: 1em; text-align: center; vertical-align: top\">6200</td>\n",
       "        <td style=\"padding-left: 1em; padding-right: 1em; text-align: center; vertical-align: top\">3000</td>\n",
       "        <td style=\"padding-left: 1em; padding-right: 1em; text-align: center; vertical-align: top\">2001</td>\n",
       "        <td style=\"padding-left: 1em; padding-right: 1em; text-align: center; vertical-align: top\">0</td>\n",
       "        <td style=\"padding-left: 1em; padding-right: 1em; text-align: center; vertical-align: top\">98039</td>\n",
       "        <td style=\"padding-left: 1em; padding-right: 1em; text-align: center; vertical-align: top\">47.62888314</td>\n",
       "    </tr>\n",
       "    <tr>\n",
       "        <td style=\"padding-left: 1em; padding-right: 1em; text-align: center; vertical-align: top\">0</td>\n",
       "        <td style=\"padding-left: 1em; padding-right: 1em; text-align: center; vertical-align: top\">4</td>\n",
       "        <td style=\"padding-left: 1em; padding-right: 1em; text-align: center; vertical-align: top\">7</td>\n",
       "        <td style=\"padding-left: 1em; padding-right: 1em; text-align: center; vertical-align: top\">1320</td>\n",
       "        <td style=\"padding-left: 1em; padding-right: 1em; text-align: center; vertical-align: top\">0</td>\n",
       "        <td style=\"padding-left: 1em; padding-right: 1em; text-align: center; vertical-align: top\">1954</td>\n",
       "        <td style=\"padding-left: 1em; padding-right: 1em; text-align: center; vertical-align: top\">0</td>\n",
       "        <td style=\"padding-left: 1em; padding-right: 1em; text-align: center; vertical-align: top\">98039</td>\n",
       "        <td style=\"padding-left: 1em; padding-right: 1em; text-align: center; vertical-align: top\">47.61872888</td>\n",
       "    </tr>\n",
       "    <tr>\n",
       "        <td style=\"padding-left: 1em; padding-right: 1em; text-align: center; vertical-align: top\">2</td>\n",
       "        <td style=\"padding-left: 1em; padding-right: 1em; text-align: center; vertical-align: top\">3</td>\n",
       "        <td style=\"padding-left: 1em; padding-right: 1em; text-align: center; vertical-align: top\">8</td>\n",
       "        <td style=\"padding-left: 1em; padding-right: 1em; text-align: center; vertical-align: top\">2680</td>\n",
       "        <td style=\"padding-left: 1em; padding-right: 1em; text-align: center; vertical-align: top\">0</td>\n",
       "        <td style=\"padding-left: 1em; padding-right: 1em; text-align: center; vertical-align: top\">1902</td>\n",
       "        <td style=\"padding-left: 1em; padding-right: 1em; text-align: center; vertical-align: top\">1956</td>\n",
       "        <td style=\"padding-left: 1em; padding-right: 1em; text-align: center; vertical-align: top\">98039</td>\n",
       "        <td style=\"padding-left: 1em; padding-right: 1em; text-align: center; vertical-align: top\">47.61089438</td>\n",
       "    </tr>\n",
       "    <tr>\n",
       "        <td style=\"padding-left: 1em; padding-right: 1em; text-align: center; vertical-align: top\">1</td>\n",
       "        <td style=\"padding-left: 1em; padding-right: 1em; text-align: center; vertical-align: top\">4</td>\n",
       "        <td style=\"padding-left: 1em; padding-right: 1em; text-align: center; vertical-align: top\">9</td>\n",
       "        <td style=\"padding-left: 1em; padding-right: 1em; text-align: center; vertical-align: top\">2620</td>\n",
       "        <td style=\"padding-left: 1em; padding-right: 1em; text-align: center; vertical-align: top\">0</td>\n",
       "        <td style=\"padding-left: 1em; padding-right: 1em; text-align: center; vertical-align: top\">1949</td>\n",
       "        <td style=\"padding-left: 1em; padding-right: 1em; text-align: center; vertical-align: top\">0</td>\n",
       "        <td style=\"padding-left: 1em; padding-right: 1em; text-align: center; vertical-align: top\">98039</td>\n",
       "        <td style=\"padding-left: 1em; padding-right: 1em; text-align: center; vertical-align: top\">47.61435052</td>\n",
       "    </tr>\n",
       "    <tr>\n",
       "        <td style=\"padding-left: 1em; padding-right: 1em; text-align: center; vertical-align: top\">0</td>\n",
       "        <td style=\"padding-left: 1em; padding-right: 1em; text-align: center; vertical-align: top\">3</td>\n",
       "        <td style=\"padding-left: 1em; padding-right: 1em; text-align: center; vertical-align: top\">11</td>\n",
       "        <td style=\"padding-left: 1em; padding-right: 1em; text-align: center; vertical-align: top\">5450</td>\n",
       "        <td style=\"padding-left: 1em; padding-right: 1em; text-align: center; vertical-align: top\">0</td>\n",
       "        <td style=\"padding-left: 1em; padding-right: 1em; text-align: center; vertical-align: top\">2014</td>\n",
       "        <td style=\"padding-left: 1em; padding-right: 1em; text-align: center; vertical-align: top\">0</td>\n",
       "        <td style=\"padding-left: 1em; padding-right: 1em; text-align: center; vertical-align: top\">98039</td>\n",
       "        <td style=\"padding-left: 1em; padding-right: 1em; text-align: center; vertical-align: top\">47.62087993</td>\n",
       "    </tr>\n",
       "</table>\n",
       "<table frame=\"box\" rules=\"cols\">\n",
       "    <tr>\n",
       "        <th style=\"padding-left: 1em; padding-right: 1em; text-align: center\">long</th>\n",
       "        <th style=\"padding-left: 1em; padding-right: 1em; text-align: center\">sqft_living15</th>\n",
       "        <th style=\"padding-left: 1em; padding-right: 1em; text-align: center\">sqft_lot15</th>\n",
       "    </tr>\n",
       "    <tr>\n",
       "        <td style=\"padding-left: 1em; padding-right: 1em; text-align: center; vertical-align: top\">-122.23040939</td>\n",
       "        <td style=\"padding-left: 1em; padding-right: 1em; text-align: center; vertical-align: top\">3580.0</td>\n",
       "        <td style=\"padding-left: 1em; padding-right: 1em; text-align: center; vertical-align: top\">16054.0</td>\n",
       "    </tr>\n",
       "    <tr>\n",
       "        <td style=\"padding-left: 1em; padding-right: 1em; text-align: center; vertical-align: top\">-122.2245047</td>\n",
       "        <td style=\"padding-left: 1em; padding-right: 1em; text-align: center; vertical-align: top\">3520.0</td>\n",
       "        <td style=\"padding-left: 1em; padding-right: 1em; text-align: center; vertical-align: top\">18564.0</td>\n",
       "    </tr>\n",
       "    <tr>\n",
       "        <td style=\"padding-left: 1em; padding-right: 1em; text-align: center; vertical-align: top\">-122.23554392</td>\n",
       "        <td style=\"padding-left: 1em; padding-right: 1em; text-align: center; vertical-align: top\">1910.0</td>\n",
       "        <td style=\"padding-left: 1em; padding-right: 1em; text-align: center; vertical-align: top\">8119.0</td>\n",
       "    </tr>\n",
       "    <tr>\n",
       "        <td style=\"padding-left: 1em; padding-right: 1em; text-align: center; vertical-align: top\">-122.23554392</td>\n",
       "        <td style=\"padding-left: 1em; padding-right: 1em; text-align: center; vertical-align: top\">1910.0</td>\n",
       "        <td style=\"padding-left: 1em; padding-right: 1em; text-align: center; vertical-align: top\">8119.0</td>\n",
       "    </tr>\n",
       "    <tr>\n",
       "        <td style=\"padding-left: 1em; padding-right: 1em; text-align: center; vertical-align: top\">-122.22420058</td>\n",
       "        <td style=\"padding-left: 1em; padding-right: 1em; text-align: center; vertical-align: top\">3140.0</td>\n",
       "        <td style=\"padding-left: 1em; padding-right: 1em; text-align: center; vertical-align: top\">15996.0</td>\n",
       "    </tr>\n",
       "    <tr>\n",
       "        <td style=\"padding-left: 1em; padding-right: 1em; text-align: center; vertical-align: top\">-122.23346379</td>\n",
       "        <td style=\"padding-left: 1em; padding-right: 1em; text-align: center; vertical-align: top\">3560.0</td>\n",
       "        <td style=\"padding-left: 1em; padding-right: 1em; text-align: center; vertical-align: top\">24345.0</td>\n",
       "    </tr>\n",
       "    <tr>\n",
       "        <td style=\"padding-left: 1em; padding-right: 1em; text-align: center; vertical-align: top\">-122.22643371</td>\n",
       "        <td style=\"padding-left: 1em; padding-right: 1em; text-align: center; vertical-align: top\">2790.0</td>\n",
       "        <td style=\"padding-left: 1em; padding-right: 1em; text-align: center; vertical-align: top\">10800.0</td>\n",
       "    </tr>\n",
       "    <tr>\n",
       "        <td style=\"padding-left: 1em; padding-right: 1em; text-align: center; vertical-align: top\">-122.22582388</td>\n",
       "        <td style=\"padding-left: 1em; padding-right: 1em; text-align: center; vertical-align: top\">4480.0</td>\n",
       "        <td style=\"padding-left: 1em; padding-right: 1em; text-align: center; vertical-align: top\">14406.0</td>\n",
       "    </tr>\n",
       "    <tr>\n",
       "        <td style=\"padding-left: 1em; padding-right: 1em; text-align: center; vertical-align: top\">-122.22772057</td>\n",
       "        <td style=\"padding-left: 1em; padding-right: 1em; text-align: center; vertical-align: top\">3400.0</td>\n",
       "        <td style=\"padding-left: 1em; padding-right: 1em; text-align: center; vertical-align: top\">14400.0</td>\n",
       "    </tr>\n",
       "    <tr>\n",
       "        <td style=\"padding-left: 1em; padding-right: 1em; text-align: center; vertical-align: top\">-122.23726918</td>\n",
       "        <td style=\"padding-left: 1em; padding-right: 1em; text-align: center; vertical-align: top\">3160.0</td>\n",
       "        <td style=\"padding-left: 1em; padding-right: 1em; text-align: center; vertical-align: top\">17825.0</td>\n",
       "    </tr>\n",
       "</table>\n",
       "[? rows x 21 columns]<br/>Note: Only the head of the SFrame is printed. This SFrame is lazily evaluated.<br/>You can use sf.materialize() to force materialization.\n",
       "</div>"
      ],
      "text/plain": [
       "Columns:\n",
       "\tid\tstr\n",
       "\tdate\tdatetime\n",
       "\tprice\tint\n",
       "\tbedrooms\tstr\n",
       "\tbathrooms\tstr\n",
       "\tsqft_living\tint\n",
       "\tsqft_lot\tint\n",
       "\tfloors\tstr\n",
       "\twaterfront\tint\n",
       "\tview\tint\n",
       "\tcondition\tint\n",
       "\tgrade\tint\n",
       "\tsqft_above\tint\n",
       "\tsqft_basement\tint\n",
       "\tyr_built\tint\n",
       "\tyr_renovated\tint\n",
       "\tzipcode\tstr\n",
       "\tlat\tfloat\n",
       "\tlong\tfloat\n",
       "\tsqft_living15\tfloat\n",
       "\tsqft_lot15\tfloat\n",
       "\n",
       "Rows: Unknown\n",
       "\n",
       "Data:\n",
       "+------------+---------------------------+---------+----------+-----------+-------------+\n",
       "|     id     |            date           |  price  | bedrooms | bathrooms | sqft_living |\n",
       "+------------+---------------------------+---------+----------+-----------+-------------+\n",
       "| 3625049014 | 2014-08-29 00:00:00+00:00 | 2950000 |    4     |    3.5    |     4860    |\n",
       "| 2540700110 | 2015-02-12 00:00:00+00:00 | 1905000 |    4     |    3.5    |     4210    |\n",
       "| 3262300940 | 2014-11-07 00:00:00+00:00 |  875000 |    3     |     1     |     1220    |\n",
       "| 3262300940 | 2015-02-10 00:00:00+00:00 |  940000 |    3     |     1     |     1220    |\n",
       "| 6447300265 | 2014-10-14 00:00:00+00:00 | 4000000 |    4     |    5.5    |     7080    |\n",
       "| 2470100110 | 2014-08-04 00:00:00+00:00 | 5570000 |    5     |    5.75   |     9200    |\n",
       "| 2210500019 | 2015-03-24 00:00:00+00:00 |  937500 |    3     |     1     |     1320    |\n",
       "| 6447300345 | 2015-04-06 00:00:00+00:00 | 1160000 |    4     |     3     |     2680    |\n",
       "| 6447300225 | 2014-11-06 00:00:00+00:00 | 1880000 |    3     |    2.75   |     2620    |\n",
       "| 2525049148 | 2014-10-07 00:00:00+00:00 | 3418800 |    5     |     5     |     5450    |\n",
       "+------------+---------------------------+---------+----------+-----------+-------------+\n",
       "+----------+--------+------------+------+-----------+-------+------------+---------------+\n",
       "| sqft_lot | floors | waterfront | view | condition | grade | sqft_above | sqft_basement |\n",
       "+----------+--------+------------+------+-----------+-------+------------+---------------+\n",
       "|  23885   |   2    |     0      |  0   |     3     |   12  |    4860    |       0       |\n",
       "|  18564   |   2    |     0      |  0   |     3     |   11  |    4210    |       0       |\n",
       "|   8119   |   1    |     0      |  0   |     4     |   7   |    1220    |       0       |\n",
       "|   8119   |   1    |     0      |  0   |     4     |   7   |    1220    |       0       |\n",
       "|  16573   |   2    |     0      |  0   |     3     |   12  |    5760    |      1320     |\n",
       "|  35069   |   2    |     0      |  0   |     3     |   13  |    6200    |      3000     |\n",
       "|   8500   |   1    |     0      |  0   |     4     |   7   |    1320    |       0       |\n",
       "|  15438   |   2    |     0      |  2   |     3     |   8   |    2680    |       0       |\n",
       "|  17919   |   1    |     0      |  1   |     4     |   9   |    2620    |       0       |\n",
       "|  20412   |   2    |     0      |  0   |     3     |   11  |    5450    |       0       |\n",
       "+----------+--------+------------+------+-----------+-------+------------+---------------+\n",
       "+----------+--------------+---------+-------------+---------------+---------------+-----+\n",
       "| yr_built | yr_renovated | zipcode |     lat     |      long     | sqft_living15 | ... |\n",
       "+----------+--------------+---------+-------------+---------------+---------------+-----+\n",
       "|   1996   |      0       |  98039  | 47.61717049 | -122.23040939 |     3580.0    | ... |\n",
       "|   2001   |      0       |  98039  | 47.62060082 |  -122.2245047 |     3520.0    | ... |\n",
       "|   1955   |      0       |  98039  | 47.63281908 | -122.23554392 |     1910.0    | ... |\n",
       "|   1955   |      0       |  98039  | 47.63281908 | -122.23554392 |     1910.0    | ... |\n",
       "|   2008   |      0       |  98039  | 47.61512031 | -122.22420058 |     3140.0    | ... |\n",
       "|   2001   |      0       |  98039  | 47.62888314 | -122.23346379 |     3560.0    | ... |\n",
       "|   1954   |      0       |  98039  | 47.61872888 | -122.22643371 |     2790.0    | ... |\n",
       "|   1902   |     1956     |  98039  | 47.61089438 | -122.22582388 |     4480.0    | ... |\n",
       "|   1949   |      0       |  98039  | 47.61435052 | -122.22772057 |     3400.0    | ... |\n",
       "|   2014   |      0       |  98039  | 47.62087993 | -122.23726918 |     3160.0    | ... |\n",
       "+----------+--------------+---------+-------------+---------------+---------------+-----+\n",
       "[? rows x 21 columns]\n",
       "Note: Only the head of the SFrame is printed. This SFrame is lazily evaluated.\n",
       "You can use sf.materialize() to force materialization."
      ]
     },
     "execution_count": 31,
     "metadata": {},
     "output_type": "execute_result"
    }
   ],
   "source": [
    "sales98039"
   ]
  },
  {
   "cell_type": "code",
   "execution_count": 32,
   "metadata": {
    "collapsed": false
   },
   "outputs": [
    {
     "data": {
      "text/plain": [
       "2160606.5999999996"
      ]
     },
     "execution_count": 32,
     "metadata": {},
     "output_type": "execute_result"
    }
   ],
   "source": [
    "sales98039['price'].mean()"
   ]
  },
  {
   "cell_type": "markdown",
   "metadata": {},
   "source": [
    "## Task #2"
   ]
  },
  {
   "cell_type": "code",
   "execution_count": 33,
   "metadata": {
    "collapsed": false
   },
   "outputs": [
    {
     "data": {
      "text/html": [
       "<div style=\"max-height:1000px;max-width:1500px;overflow:auto;\"><table frame=\"box\" rules=\"cols\">\n",
       "    <tr>\n",
       "        <th style=\"padding-left: 1em; padding-right: 1em; text-align: center\">id</th>\n",
       "        <th style=\"padding-left: 1em; padding-right: 1em; text-align: center\">date</th>\n",
       "        <th style=\"padding-left: 1em; padding-right: 1em; text-align: center\">price</th>\n",
       "        <th style=\"padding-left: 1em; padding-right: 1em; text-align: center\">bedrooms</th>\n",
       "        <th style=\"padding-left: 1em; padding-right: 1em; text-align: center\">bathrooms</th>\n",
       "        <th style=\"padding-left: 1em; padding-right: 1em; text-align: center\">sqft_living</th>\n",
       "        <th style=\"padding-left: 1em; padding-right: 1em; text-align: center\">sqft_lot</th>\n",
       "        <th style=\"padding-left: 1em; padding-right: 1em; text-align: center\">floors</th>\n",
       "        <th style=\"padding-left: 1em; padding-right: 1em; text-align: center\">waterfront</th>\n",
       "    </tr>\n",
       "    <tr>\n",
       "        <td style=\"padding-left: 1em; padding-right: 1em; text-align: center; vertical-align: top\">6414100192</td>\n",
       "        <td style=\"padding-left: 1em; padding-right: 1em; text-align: center; vertical-align: top\">2014-12-09 00:00:00+00:00</td>\n",
       "        <td style=\"padding-left: 1em; padding-right: 1em; text-align: center; vertical-align: top\">538000</td>\n",
       "        <td style=\"padding-left: 1em; padding-right: 1em; text-align: center; vertical-align: top\">3</td>\n",
       "        <td style=\"padding-left: 1em; padding-right: 1em; text-align: center; vertical-align: top\">2.25</td>\n",
       "        <td style=\"padding-left: 1em; padding-right: 1em; text-align: center; vertical-align: top\">2570</td>\n",
       "        <td style=\"padding-left: 1em; padding-right: 1em; text-align: center; vertical-align: top\">7242</td>\n",
       "        <td style=\"padding-left: 1em; padding-right: 1em; text-align: center; vertical-align: top\">2</td>\n",
       "        <td style=\"padding-left: 1em; padding-right: 1em; text-align: center; vertical-align: top\">0</td>\n",
       "    </tr>\n",
       "    <tr>\n",
       "        <td style=\"padding-left: 1em; padding-right: 1em; text-align: center; vertical-align: top\">1736800520</td>\n",
       "        <td style=\"padding-left: 1em; padding-right: 1em; text-align: center; vertical-align: top\">2015-04-03 00:00:00+00:00</td>\n",
       "        <td style=\"padding-left: 1em; padding-right: 1em; text-align: center; vertical-align: top\">662500</td>\n",
       "        <td style=\"padding-left: 1em; padding-right: 1em; text-align: center; vertical-align: top\">3</td>\n",
       "        <td style=\"padding-left: 1em; padding-right: 1em; text-align: center; vertical-align: top\">2.5</td>\n",
       "        <td style=\"padding-left: 1em; padding-right: 1em; text-align: center; vertical-align: top\">3560</td>\n",
       "        <td style=\"padding-left: 1em; padding-right: 1em; text-align: center; vertical-align: top\">9796</td>\n",
       "        <td style=\"padding-left: 1em; padding-right: 1em; text-align: center; vertical-align: top\">1</td>\n",
       "        <td style=\"padding-left: 1em; padding-right: 1em; text-align: center; vertical-align: top\">0</td>\n",
       "    </tr>\n",
       "    <tr>\n",
       "        <td style=\"padding-left: 1em; padding-right: 1em; text-align: center; vertical-align: top\">9297300055</td>\n",
       "        <td style=\"padding-left: 1em; padding-right: 1em; text-align: center; vertical-align: top\">2015-01-24 00:00:00+00:00</td>\n",
       "        <td style=\"padding-left: 1em; padding-right: 1em; text-align: center; vertical-align: top\">650000</td>\n",
       "        <td style=\"padding-left: 1em; padding-right: 1em; text-align: center; vertical-align: top\">4</td>\n",
       "        <td style=\"padding-left: 1em; padding-right: 1em; text-align: center; vertical-align: top\">3</td>\n",
       "        <td style=\"padding-left: 1em; padding-right: 1em; text-align: center; vertical-align: top\">2950</td>\n",
       "        <td style=\"padding-left: 1em; padding-right: 1em; text-align: center; vertical-align: top\">5000</td>\n",
       "        <td style=\"padding-left: 1em; padding-right: 1em; text-align: center; vertical-align: top\">2</td>\n",
       "        <td style=\"padding-left: 1em; padding-right: 1em; text-align: center; vertical-align: top\">0</td>\n",
       "    </tr>\n",
       "    <tr>\n",
       "        <td style=\"padding-left: 1em; padding-right: 1em; text-align: center; vertical-align: top\">2524049179</td>\n",
       "        <td style=\"padding-left: 1em; padding-right: 1em; text-align: center; vertical-align: top\">2014-08-26 00:00:00+00:00</td>\n",
       "        <td style=\"padding-left: 1em; padding-right: 1em; text-align: center; vertical-align: top\">2000000</td>\n",
       "        <td style=\"padding-left: 1em; padding-right: 1em; text-align: center; vertical-align: top\">3</td>\n",
       "        <td style=\"padding-left: 1em; padding-right: 1em; text-align: center; vertical-align: top\">2.75</td>\n",
       "        <td style=\"padding-left: 1em; padding-right: 1em; text-align: center; vertical-align: top\">3050</td>\n",
       "        <td style=\"padding-left: 1em; padding-right: 1em; text-align: center; vertical-align: top\">44867</td>\n",
       "        <td style=\"padding-left: 1em; padding-right: 1em; text-align: center; vertical-align: top\">1</td>\n",
       "        <td style=\"padding-left: 1em; padding-right: 1em; text-align: center; vertical-align: top\">0</td>\n",
       "    </tr>\n",
       "    <tr>\n",
       "        <td style=\"padding-left: 1em; padding-right: 1em; text-align: center; vertical-align: top\">7137970340</td>\n",
       "        <td style=\"padding-left: 1em; padding-right: 1em; text-align: center; vertical-align: top\">2014-07-03 00:00:00+00:00</td>\n",
       "        <td style=\"padding-left: 1em; padding-right: 1em; text-align: center; vertical-align: top\">285000</td>\n",
       "        <td style=\"padding-left: 1em; padding-right: 1em; text-align: center; vertical-align: top\">5</td>\n",
       "        <td style=\"padding-left: 1em; padding-right: 1em; text-align: center; vertical-align: top\">2.5</td>\n",
       "        <td style=\"padding-left: 1em; padding-right: 1em; text-align: center; vertical-align: top\">2270</td>\n",
       "        <td style=\"padding-left: 1em; padding-right: 1em; text-align: center; vertical-align: top\">6300</td>\n",
       "        <td style=\"padding-left: 1em; padding-right: 1em; text-align: center; vertical-align: top\">2</td>\n",
       "        <td style=\"padding-left: 1em; padding-right: 1em; text-align: center; vertical-align: top\">0</td>\n",
       "    </tr>\n",
       "    <tr>\n",
       "        <td style=\"padding-left: 1em; padding-right: 1em; text-align: center; vertical-align: top\">3814700200</td>\n",
       "        <td style=\"padding-left: 1em; padding-right: 1em; text-align: center; vertical-align: top\">2014-11-20 00:00:00+00:00</td>\n",
       "        <td style=\"padding-left: 1em; padding-right: 1em; text-align: center; vertical-align: top\">329000</td>\n",
       "        <td style=\"padding-left: 1em; padding-right: 1em; text-align: center; vertical-align: top\">3</td>\n",
       "        <td style=\"padding-left: 1em; padding-right: 1em; text-align: center; vertical-align: top\">2.25</td>\n",
       "        <td style=\"padding-left: 1em; padding-right: 1em; text-align: center; vertical-align: top\">2450</td>\n",
       "        <td style=\"padding-left: 1em; padding-right: 1em; text-align: center; vertical-align: top\">6500</td>\n",
       "        <td style=\"padding-left: 1em; padding-right: 1em; text-align: center; vertical-align: top\">2</td>\n",
       "        <td style=\"padding-left: 1em; padding-right: 1em; text-align: center; vertical-align: top\">0</td>\n",
       "    </tr>\n",
       "    <tr>\n",
       "        <td style=\"padding-left: 1em; padding-right: 1em; text-align: center; vertical-align: top\">1794500383</td>\n",
       "        <td style=\"padding-left: 1em; padding-right: 1em; text-align: center; vertical-align: top\">2014-06-26 00:00:00+00:00</td>\n",
       "        <td style=\"padding-left: 1em; padding-right: 1em; text-align: center; vertical-align: top\">937000</td>\n",
       "        <td style=\"padding-left: 1em; padding-right: 1em; text-align: center; vertical-align: top\">3</td>\n",
       "        <td style=\"padding-left: 1em; padding-right: 1em; text-align: center; vertical-align: top\">1.75</td>\n",
       "        <td style=\"padding-left: 1em; padding-right: 1em; text-align: center; vertical-align: top\">2450</td>\n",
       "        <td style=\"padding-left: 1em; padding-right: 1em; text-align: center; vertical-align: top\">2691</td>\n",
       "        <td style=\"padding-left: 1em; padding-right: 1em; text-align: center; vertical-align: top\">2</td>\n",
       "        <td style=\"padding-left: 1em; padding-right: 1em; text-align: center; vertical-align: top\">0</td>\n",
       "    </tr>\n",
       "    <tr>\n",
       "        <td style=\"padding-left: 1em; padding-right: 1em; text-align: center; vertical-align: top\">1873100390</td>\n",
       "        <td style=\"padding-left: 1em; padding-right: 1em; text-align: center; vertical-align: top\">2015-03-02 00:00:00+00:00</td>\n",
       "        <td style=\"padding-left: 1em; padding-right: 1em; text-align: center; vertical-align: top\">719000</td>\n",
       "        <td style=\"padding-left: 1em; padding-right: 1em; text-align: center; vertical-align: top\">4</td>\n",
       "        <td style=\"padding-left: 1em; padding-right: 1em; text-align: center; vertical-align: top\">2.5</td>\n",
       "        <td style=\"padding-left: 1em; padding-right: 1em; text-align: center; vertical-align: top\">2570</td>\n",
       "        <td style=\"padding-left: 1em; padding-right: 1em; text-align: center; vertical-align: top\">7173</td>\n",
       "        <td style=\"padding-left: 1em; padding-right: 1em; text-align: center; vertical-align: top\">2</td>\n",
       "        <td style=\"padding-left: 1em; padding-right: 1em; text-align: center; vertical-align: top\">0</td>\n",
       "    </tr>\n",
       "    <tr>\n",
       "        <td style=\"padding-left: 1em; padding-right: 1em; text-align: center; vertical-align: top\">8562750320</td>\n",
       "        <td style=\"padding-left: 1em; padding-right: 1em; text-align: center; vertical-align: top\">2014-11-10 00:00:00+00:00</td>\n",
       "        <td style=\"padding-left: 1em; padding-right: 1em; text-align: center; vertical-align: top\">580500</td>\n",
       "        <td style=\"padding-left: 1em; padding-right: 1em; text-align: center; vertical-align: top\">3</td>\n",
       "        <td style=\"padding-left: 1em; padding-right: 1em; text-align: center; vertical-align: top\">2.5</td>\n",
       "        <td style=\"padding-left: 1em; padding-right: 1em; text-align: center; vertical-align: top\">2320</td>\n",
       "        <td style=\"padding-left: 1em; padding-right: 1em; text-align: center; vertical-align: top\">3980</td>\n",
       "        <td style=\"padding-left: 1em; padding-right: 1em; text-align: center; vertical-align: top\">2</td>\n",
       "        <td style=\"padding-left: 1em; padding-right: 1em; text-align: center; vertical-align: top\">0</td>\n",
       "    </tr>\n",
       "    <tr>\n",
       "        <td style=\"padding-left: 1em; padding-right: 1em; text-align: center; vertical-align: top\">0461000390</td>\n",
       "        <td style=\"padding-left: 1em; padding-right: 1em; text-align: center; vertical-align: top\">2014-06-24 00:00:00+00:00</td>\n",
       "        <td style=\"padding-left: 1em; padding-right: 1em; text-align: center; vertical-align: top\">687500</td>\n",
       "        <td style=\"padding-left: 1em; padding-right: 1em; text-align: center; vertical-align: top\">4</td>\n",
       "        <td style=\"padding-left: 1em; padding-right: 1em; text-align: center; vertical-align: top\">1.75</td>\n",
       "        <td style=\"padding-left: 1em; padding-right: 1em; text-align: center; vertical-align: top\">2330</td>\n",
       "        <td style=\"padding-left: 1em; padding-right: 1em; text-align: center; vertical-align: top\">5000</td>\n",
       "        <td style=\"padding-left: 1em; padding-right: 1em; text-align: center; vertical-align: top\">1.5</td>\n",
       "        <td style=\"padding-left: 1em; padding-right: 1em; text-align: center; vertical-align: top\">0</td>\n",
       "    </tr>\n",
       "</table>\n",
       "<table frame=\"box\" rules=\"cols\">\n",
       "    <tr>\n",
       "        <th style=\"padding-left: 1em; padding-right: 1em; text-align: center\">view</th>\n",
       "        <th style=\"padding-left: 1em; padding-right: 1em; text-align: center\">condition</th>\n",
       "        <th style=\"padding-left: 1em; padding-right: 1em; text-align: center\">grade</th>\n",
       "        <th style=\"padding-left: 1em; padding-right: 1em; text-align: center\">sqft_above</th>\n",
       "        <th style=\"padding-left: 1em; padding-right: 1em; text-align: center\">sqft_basement</th>\n",
       "        <th style=\"padding-left: 1em; padding-right: 1em; text-align: center\">yr_built</th>\n",
       "        <th style=\"padding-left: 1em; padding-right: 1em; text-align: center\">yr_renovated</th>\n",
       "        <th style=\"padding-left: 1em; padding-right: 1em; text-align: center\">zipcode</th>\n",
       "        <th style=\"padding-left: 1em; padding-right: 1em; text-align: center\">lat</th>\n",
       "    </tr>\n",
       "    <tr>\n",
       "        <td style=\"padding-left: 1em; padding-right: 1em; text-align: center; vertical-align: top\">0</td>\n",
       "        <td style=\"padding-left: 1em; padding-right: 1em; text-align: center; vertical-align: top\">3</td>\n",
       "        <td style=\"padding-left: 1em; padding-right: 1em; text-align: center; vertical-align: top\">7</td>\n",
       "        <td style=\"padding-left: 1em; padding-right: 1em; text-align: center; vertical-align: top\">2170</td>\n",
       "        <td style=\"padding-left: 1em; padding-right: 1em; text-align: center; vertical-align: top\">400</td>\n",
       "        <td style=\"padding-left: 1em; padding-right: 1em; text-align: center; vertical-align: top\">1951</td>\n",
       "        <td style=\"padding-left: 1em; padding-right: 1em; text-align: center; vertical-align: top\">1991</td>\n",
       "        <td style=\"padding-left: 1em; padding-right: 1em; text-align: center; vertical-align: top\">98125</td>\n",
       "        <td style=\"padding-left: 1em; padding-right: 1em; text-align: center; vertical-align: top\">47.72102274</td>\n",
       "    </tr>\n",
       "    <tr>\n",
       "        <td style=\"padding-left: 1em; padding-right: 1em; text-align: center; vertical-align: top\">0</td>\n",
       "        <td style=\"padding-left: 1em; padding-right: 1em; text-align: center; vertical-align: top\">3</td>\n",
       "        <td style=\"padding-left: 1em; padding-right: 1em; text-align: center; vertical-align: top\">8</td>\n",
       "        <td style=\"padding-left: 1em; padding-right: 1em; text-align: center; vertical-align: top\">1860</td>\n",
       "        <td style=\"padding-left: 1em; padding-right: 1em; text-align: center; vertical-align: top\">1700</td>\n",
       "        <td style=\"padding-left: 1em; padding-right: 1em; text-align: center; vertical-align: top\">1965</td>\n",
       "        <td style=\"padding-left: 1em; padding-right: 1em; text-align: center; vertical-align: top\">0</td>\n",
       "        <td style=\"padding-left: 1em; padding-right: 1em; text-align: center; vertical-align: top\">98007</td>\n",
       "        <td style=\"padding-left: 1em; padding-right: 1em; text-align: center; vertical-align: top\">47.60065993</td>\n",
       "    </tr>\n",
       "    <tr>\n",
       "        <td style=\"padding-left: 1em; padding-right: 1em; text-align: center; vertical-align: top\">3</td>\n",
       "        <td style=\"padding-left: 1em; padding-right: 1em; text-align: center; vertical-align: top\">3</td>\n",
       "        <td style=\"padding-left: 1em; padding-right: 1em; text-align: center; vertical-align: top\">9</td>\n",
       "        <td style=\"padding-left: 1em; padding-right: 1em; text-align: center; vertical-align: top\">1980</td>\n",
       "        <td style=\"padding-left: 1em; padding-right: 1em; text-align: center; vertical-align: top\">970</td>\n",
       "        <td style=\"padding-left: 1em; padding-right: 1em; text-align: center; vertical-align: top\">1979</td>\n",
       "        <td style=\"padding-left: 1em; padding-right: 1em; text-align: center; vertical-align: top\">0</td>\n",
       "        <td style=\"padding-left: 1em; padding-right: 1em; text-align: center; vertical-align: top\">98126</td>\n",
       "        <td style=\"padding-left: 1em; padding-right: 1em; text-align: center; vertical-align: top\">47.57136955</td>\n",
       "    </tr>\n",
       "    <tr>\n",
       "        <td style=\"padding-left: 1em; padding-right: 1em; text-align: center; vertical-align: top\">4</td>\n",
       "        <td style=\"padding-left: 1em; padding-right: 1em; text-align: center; vertical-align: top\">3</td>\n",
       "        <td style=\"padding-left: 1em; padding-right: 1em; text-align: center; vertical-align: top\">9</td>\n",
       "        <td style=\"padding-left: 1em; padding-right: 1em; text-align: center; vertical-align: top\">2330</td>\n",
       "        <td style=\"padding-left: 1em; padding-right: 1em; text-align: center; vertical-align: top\">720</td>\n",
       "        <td style=\"padding-left: 1em; padding-right: 1em; text-align: center; vertical-align: top\">1968</td>\n",
       "        <td style=\"padding-left: 1em; padding-right: 1em; text-align: center; vertical-align: top\">0</td>\n",
       "        <td style=\"padding-left: 1em; padding-right: 1em; text-align: center; vertical-align: top\">98040</td>\n",
       "        <td style=\"padding-left: 1em; padding-right: 1em; text-align: center; vertical-align: top\">47.53164379</td>\n",
       "    </tr>\n",
       "    <tr>\n",
       "        <td style=\"padding-left: 1em; padding-right: 1em; text-align: center; vertical-align: top\">0</td>\n",
       "        <td style=\"padding-left: 1em; padding-right: 1em; text-align: center; vertical-align: top\">3</td>\n",
       "        <td style=\"padding-left: 1em; padding-right: 1em; text-align: center; vertical-align: top\">8</td>\n",
       "        <td style=\"padding-left: 1em; padding-right: 1em; text-align: center; vertical-align: top\">2270</td>\n",
       "        <td style=\"padding-left: 1em; padding-right: 1em; text-align: center; vertical-align: top\">0</td>\n",
       "        <td style=\"padding-left: 1em; padding-right: 1em; text-align: center; vertical-align: top\">1995</td>\n",
       "        <td style=\"padding-left: 1em; padding-right: 1em; text-align: center; vertical-align: top\">0</td>\n",
       "        <td style=\"padding-left: 1em; padding-right: 1em; text-align: center; vertical-align: top\">98092</td>\n",
       "        <td style=\"padding-left: 1em; padding-right: 1em; text-align: center; vertical-align: top\">47.32658071</td>\n",
       "    </tr>\n",
       "    <tr>\n",
       "        <td style=\"padding-left: 1em; padding-right: 1em; text-align: center; vertical-align: top\">0</td>\n",
       "        <td style=\"padding-left: 1em; padding-right: 1em; text-align: center; vertical-align: top\">4</td>\n",
       "        <td style=\"padding-left: 1em; padding-right: 1em; text-align: center; vertical-align: top\">8</td>\n",
       "        <td style=\"padding-left: 1em; padding-right: 1em; text-align: center; vertical-align: top\">2450</td>\n",
       "        <td style=\"padding-left: 1em; padding-right: 1em; text-align: center; vertical-align: top\">0</td>\n",
       "        <td style=\"padding-left: 1em; padding-right: 1em; text-align: center; vertical-align: top\">1985</td>\n",
       "        <td style=\"padding-left: 1em; padding-right: 1em; text-align: center; vertical-align: top\">0</td>\n",
       "        <td style=\"padding-left: 1em; padding-right: 1em; text-align: center; vertical-align: top\">98030</td>\n",
       "        <td style=\"padding-left: 1em; padding-right: 1em; text-align: center; vertical-align: top\">47.37386303</td>\n",
       "    </tr>\n",
       "    <tr>\n",
       "        <td style=\"padding-left: 1em; padding-right: 1em; text-align: center; vertical-align: top\">0</td>\n",
       "        <td style=\"padding-left: 1em; padding-right: 1em; text-align: center; vertical-align: top\">3</td>\n",
       "        <td style=\"padding-left: 1em; padding-right: 1em; text-align: center; vertical-align: top\">8</td>\n",
       "        <td style=\"padding-left: 1em; padding-right: 1em; text-align: center; vertical-align: top\">1750</td>\n",
       "        <td style=\"padding-left: 1em; padding-right: 1em; text-align: center; vertical-align: top\">700</td>\n",
       "        <td style=\"padding-left: 1em; padding-right: 1em; text-align: center; vertical-align: top\">1915</td>\n",
       "        <td style=\"padding-left: 1em; padding-right: 1em; text-align: center; vertical-align: top\">0</td>\n",
       "        <td style=\"padding-left: 1em; padding-right: 1em; text-align: center; vertical-align: top\">98119</td>\n",
       "        <td style=\"padding-left: 1em; padding-right: 1em; text-align: center; vertical-align: top\">47.63855772</td>\n",
       "    </tr>\n",
       "    <tr>\n",
       "        <td style=\"padding-left: 1em; padding-right: 1em; text-align: center; vertical-align: top\">0</td>\n",
       "        <td style=\"padding-left: 1em; padding-right: 1em; text-align: center; vertical-align: top\">3</td>\n",
       "        <td style=\"padding-left: 1em; padding-right: 1em; text-align: center; vertical-align: top\">8</td>\n",
       "        <td style=\"padding-left: 1em; padding-right: 1em; text-align: center; vertical-align: top\">2570</td>\n",
       "        <td style=\"padding-left: 1em; padding-right: 1em; text-align: center; vertical-align: top\">0</td>\n",
       "        <td style=\"padding-left: 1em; padding-right: 1em; text-align: center; vertical-align: top\">2005</td>\n",
       "        <td style=\"padding-left: 1em; padding-right: 1em; text-align: center; vertical-align: top\">0</td>\n",
       "        <td style=\"padding-left: 1em; padding-right: 1em; text-align: center; vertical-align: top\">98052</td>\n",
       "        <td style=\"padding-left: 1em; padding-right: 1em; text-align: center; vertical-align: top\">47.70732168</td>\n",
       "    </tr>\n",
       "    <tr>\n",
       "        <td style=\"padding-left: 1em; padding-right: 1em; text-align: center; vertical-align: top\">0</td>\n",
       "        <td style=\"padding-left: 1em; padding-right: 1em; text-align: center; vertical-align: top\">3</td>\n",
       "        <td style=\"padding-left: 1em; padding-right: 1em; text-align: center; vertical-align: top\">8</td>\n",
       "        <td style=\"padding-left: 1em; padding-right: 1em; text-align: center; vertical-align: top\">2320</td>\n",
       "        <td style=\"padding-left: 1em; padding-right: 1em; text-align: center; vertical-align: top\">0</td>\n",
       "        <td style=\"padding-left: 1em; padding-right: 1em; text-align: center; vertical-align: top\">2003</td>\n",
       "        <td style=\"padding-left: 1em; padding-right: 1em; text-align: center; vertical-align: top\">0</td>\n",
       "        <td style=\"padding-left: 1em; padding-right: 1em; text-align: center; vertical-align: top\">98027</td>\n",
       "        <td style=\"padding-left: 1em; padding-right: 1em; text-align: center; vertical-align: top\">47.5391103</td>\n",
       "    </tr>\n",
       "    <tr>\n",
       "        <td style=\"padding-left: 1em; padding-right: 1em; text-align: center; vertical-align: top\">0</td>\n",
       "        <td style=\"padding-left: 1em; padding-right: 1em; text-align: center; vertical-align: top\">4</td>\n",
       "        <td style=\"padding-left: 1em; padding-right: 1em; text-align: center; vertical-align: top\">7</td>\n",
       "        <td style=\"padding-left: 1em; padding-right: 1em; text-align: center; vertical-align: top\">1510</td>\n",
       "        <td style=\"padding-left: 1em; padding-right: 1em; text-align: center; vertical-align: top\">820</td>\n",
       "        <td style=\"padding-left: 1em; padding-right: 1em; text-align: center; vertical-align: top\">1929</td>\n",
       "        <td style=\"padding-left: 1em; padding-right: 1em; text-align: center; vertical-align: top\">0</td>\n",
       "        <td style=\"padding-left: 1em; padding-right: 1em; text-align: center; vertical-align: top\">98117</td>\n",
       "        <td style=\"padding-left: 1em; padding-right: 1em; text-align: center; vertical-align: top\">47.68228235</td>\n",
       "    </tr>\n",
       "</table>\n",
       "<table frame=\"box\" rules=\"cols\">\n",
       "    <tr>\n",
       "        <th style=\"padding-left: 1em; padding-right: 1em; text-align: center\">long</th>\n",
       "        <th style=\"padding-left: 1em; padding-right: 1em; text-align: center\">sqft_living15</th>\n",
       "        <th style=\"padding-left: 1em; padding-right: 1em; text-align: center\">sqft_lot15</th>\n",
       "    </tr>\n",
       "    <tr>\n",
       "        <td style=\"padding-left: 1em; padding-right: 1em; text-align: center; vertical-align: top\">-122.3188624</td>\n",
       "        <td style=\"padding-left: 1em; padding-right: 1em; text-align: center; vertical-align: top\">1690.0</td>\n",
       "        <td style=\"padding-left: 1em; padding-right: 1em; text-align: center; vertical-align: top\">7639.0</td>\n",
       "    </tr>\n",
       "    <tr>\n",
       "        <td style=\"padding-left: 1em; padding-right: 1em; text-align: center; vertical-align: top\">-122.14529566</td>\n",
       "        <td style=\"padding-left: 1em; padding-right: 1em; text-align: center; vertical-align: top\">2210.0</td>\n",
       "        <td style=\"padding-left: 1em; padding-right: 1em; text-align: center; vertical-align: top\">8925.0</td>\n",
       "    </tr>\n",
       "    <tr>\n",
       "        <td style=\"padding-left: 1em; padding-right: 1em; text-align: center; vertical-align: top\">-122.37541218</td>\n",
       "        <td style=\"padding-left: 1em; padding-right: 1em; text-align: center; vertical-align: top\">2140.0</td>\n",
       "        <td style=\"padding-left: 1em; padding-right: 1em; text-align: center; vertical-align: top\">4000.0</td>\n",
       "    </tr>\n",
       "    <tr>\n",
       "        <td style=\"padding-left: 1em; padding-right: 1em; text-align: center; vertical-align: top\">-122.23345881</td>\n",
       "        <td style=\"padding-left: 1em; padding-right: 1em; text-align: center; vertical-align: top\">4110.0</td>\n",
       "        <td style=\"padding-left: 1em; padding-right: 1em; text-align: center; vertical-align: top\">20336.0</td>\n",
       "    </tr>\n",
       "    <tr>\n",
       "        <td style=\"padding-left: 1em; padding-right: 1em; text-align: center; vertical-align: top\">-122.16892624</td>\n",
       "        <td style=\"padding-left: 1em; padding-right: 1em; text-align: center; vertical-align: top\">2240.0</td>\n",
       "        <td style=\"padding-left: 1em; padding-right: 1em; text-align: center; vertical-align: top\">7005.0</td>\n",
       "    </tr>\n",
       "    <tr>\n",
       "        <td style=\"padding-left: 1em; padding-right: 1em; text-align: center; vertical-align: top\">-122.17228981</td>\n",
       "        <td style=\"padding-left: 1em; padding-right: 1em; text-align: center; vertical-align: top\">2200.0</td>\n",
       "        <td style=\"padding-left: 1em; padding-right: 1em; text-align: center; vertical-align: top\">6865.0</td>\n",
       "    </tr>\n",
       "    <tr>\n",
       "        <td style=\"padding-left: 1em; padding-right: 1em; text-align: center; vertical-align: top\">-122.35985573</td>\n",
       "        <td style=\"padding-left: 1em; padding-right: 1em; text-align: center; vertical-align: top\">1760.0</td>\n",
       "        <td style=\"padding-left: 1em; padding-right: 1em; text-align: center; vertical-align: top\">3573.0</td>\n",
       "    </tr>\n",
       "    <tr>\n",
       "        <td style=\"padding-left: 1em; padding-right: 1em; text-align: center; vertical-align: top\">-122.11029785</td>\n",
       "        <td style=\"padding-left: 1em; padding-right: 1em; text-align: center; vertical-align: top\">2630.0</td>\n",
       "        <td style=\"padding-left: 1em; padding-right: 1em; text-align: center; vertical-align: top\">6026.0</td>\n",
       "    </tr>\n",
       "    <tr>\n",
       "        <td style=\"padding-left: 1em; padding-right: 1em; text-align: center; vertical-align: top\">-122.06971484</td>\n",
       "        <td style=\"padding-left: 1em; padding-right: 1em; text-align: center; vertical-align: top\">2580.0</td>\n",
       "        <td style=\"padding-left: 1em; padding-right: 1em; text-align: center; vertical-align: top\">3980.0</td>\n",
       "    </tr>\n",
       "    <tr>\n",
       "        <td style=\"padding-left: 1em; padding-right: 1em; text-align: center; vertical-align: top\">-122.36760203</td>\n",
       "        <td style=\"padding-left: 1em; padding-right: 1em; text-align: center; vertical-align: top\">1460.0</td>\n",
       "        <td style=\"padding-left: 1em; padding-right: 1em; text-align: center; vertical-align: top\">5000.0</td>\n",
       "    </tr>\n",
       "</table>\n",
       "[? rows x 21 columns]<br/>Note: Only the head of the SFrame is printed. This SFrame is lazily evaluated.<br/>You can use sf.materialize() to force materialization.\n",
       "</div>"
      ],
      "text/plain": [
       "Columns:\n",
       "\tid\tstr\n",
       "\tdate\tdatetime\n",
       "\tprice\tint\n",
       "\tbedrooms\tstr\n",
       "\tbathrooms\tstr\n",
       "\tsqft_living\tint\n",
       "\tsqft_lot\tint\n",
       "\tfloors\tstr\n",
       "\twaterfront\tint\n",
       "\tview\tint\n",
       "\tcondition\tint\n",
       "\tgrade\tint\n",
       "\tsqft_above\tint\n",
       "\tsqft_basement\tint\n",
       "\tyr_built\tint\n",
       "\tyr_renovated\tint\n",
       "\tzipcode\tstr\n",
       "\tlat\tfloat\n",
       "\tlong\tfloat\n",
       "\tsqft_living15\tfloat\n",
       "\tsqft_lot15\tfloat\n",
       "\n",
       "Rows: Unknown\n",
       "\n",
       "Data:\n",
       "+------------+---------------------------+---------+----------+-----------+-------------+\n",
       "|     id     |            date           |  price  | bedrooms | bathrooms | sqft_living |\n",
       "+------------+---------------------------+---------+----------+-----------+-------------+\n",
       "| 6414100192 | 2014-12-09 00:00:00+00:00 |  538000 |    3     |    2.25   |     2570    |\n",
       "| 1736800520 | 2015-04-03 00:00:00+00:00 |  662500 |    3     |    2.5    |     3560    |\n",
       "| 9297300055 | 2015-01-24 00:00:00+00:00 |  650000 |    4     |     3     |     2950    |\n",
       "| 2524049179 | 2014-08-26 00:00:00+00:00 | 2000000 |    3     |    2.75   |     3050    |\n",
       "| 7137970340 | 2014-07-03 00:00:00+00:00 |  285000 |    5     |    2.5    |     2270    |\n",
       "| 3814700200 | 2014-11-20 00:00:00+00:00 |  329000 |    3     |    2.25   |     2450    |\n",
       "| 1794500383 | 2014-06-26 00:00:00+00:00 |  937000 |    3     |    1.75   |     2450    |\n",
       "| 1873100390 | 2015-03-02 00:00:00+00:00 |  719000 |    4     |    2.5    |     2570    |\n",
       "| 8562750320 | 2014-11-10 00:00:00+00:00 |  580500 |    3     |    2.5    |     2320    |\n",
       "| 0461000390 | 2014-06-24 00:00:00+00:00 |  687500 |    4     |    1.75   |     2330    |\n",
       "+------------+---------------------------+---------+----------+-----------+-------------+\n",
       "+----------+--------+------------+------+-----------+-------+------------+---------------+\n",
       "| sqft_lot | floors | waterfront | view | condition | grade | sqft_above | sqft_basement |\n",
       "+----------+--------+------------+------+-----------+-------+------------+---------------+\n",
       "|   7242   |   2    |     0      |  0   |     3     |   7   |    2170    |      400      |\n",
       "|   9796   |   1    |     0      |  0   |     3     |   8   |    1860    |      1700     |\n",
       "|   5000   |   2    |     0      |  3   |     3     |   9   |    1980    |      970      |\n",
       "|  44867   |   1    |     0      |  4   |     3     |   9   |    2330    |      720      |\n",
       "|   6300   |   2    |     0      |  0   |     3     |   8   |    2270    |       0       |\n",
       "|   6500   |   2    |     0      |  0   |     4     |   8   |    2450    |       0       |\n",
       "|   2691   |   2    |     0      |  0   |     3     |   8   |    1750    |      700      |\n",
       "|   7173   |   2    |     0      |  0   |     3     |   8   |    2570    |       0       |\n",
       "|   3980   |   2    |     0      |  0   |     3     |   8   |    2320    |       0       |\n",
       "|   5000   |  1.5   |     0      |  0   |     4     |   7   |    1510    |      820      |\n",
       "+----------+--------+------------+------+-----------+-------+------------+---------------+\n",
       "+----------+--------------+---------+-------------+---------------+---------------+-----+\n",
       "| yr_built | yr_renovated | zipcode |     lat     |      long     | sqft_living15 | ... |\n",
       "+----------+--------------+---------+-------------+---------------+---------------+-----+\n",
       "|   1951   |     1991     |  98125  | 47.72102274 |  -122.3188624 |     1690.0    | ... |\n",
       "|   1965   |      0       |  98007  | 47.60065993 | -122.14529566 |     2210.0    | ... |\n",
       "|   1979   |      0       |  98126  | 47.57136955 | -122.37541218 |     2140.0    | ... |\n",
       "|   1968   |      0       |  98040  | 47.53164379 | -122.23345881 |     4110.0    | ... |\n",
       "|   1995   |      0       |  98092  | 47.32658071 | -122.16892624 |     2240.0    | ... |\n",
       "|   1985   |      0       |  98030  | 47.37386303 | -122.17228981 |     2200.0    | ... |\n",
       "|   1915   |      0       |  98119  | 47.63855772 | -122.35985573 |     1760.0    | ... |\n",
       "|   2005   |      0       |  98052  | 47.70732168 | -122.11029785 |     2630.0    | ... |\n",
       "|   2003   |      0       |  98027  |  47.5391103 | -122.06971484 |     2580.0    | ... |\n",
       "|   1929   |      0       |  98117  | 47.68228235 | -122.36760203 |     1460.0    | ... |\n",
       "+----------+--------------+---------+-------------+---------------+---------------+-----+\n",
       "[? rows x 21 columns]\n",
       "Note: Only the head of the SFrame is printed. This SFrame is lazily evaluated.\n",
       "You can use sf.materialize() to force materialization."
      ]
     },
     "execution_count": 33,
     "metadata": {},
     "output_type": "execute_result"
    }
   ],
   "source": [
    "sales_filtered = sales[(sales['sqft_living'] > 2000) & (sales['sqft_living'] <= 4000)]\n",
    "sales_filtered"
   ]
  },
  {
   "cell_type": "code",
   "execution_count": 34,
   "metadata": {
    "collapsed": false
   },
   "outputs": [
    {
     "name": "stdout",
     "output_type": "stream",
     "text": [
      "21613\n",
      "9118\n",
      "0.42187572294452413\n"
     ]
    }
   ],
   "source": [
    "print(sales.num_rows())\n",
    "print(sales_filtered.num_rows())\n",
    "\n",
    "print(sales_filtered.num_rows() / sales.num_rows())"
   ]
  },
  {
   "cell_type": "markdown",
   "metadata": {},
   "source": [
    "## Task #3"
   ]
  },
  {
   "cell_type": "code",
   "execution_count": 35,
   "metadata": {
    "collapsed": false
   },
   "outputs": [],
   "source": [
    "advanced_features = [\n",
    "'bedrooms', 'bathrooms', 'sqft_living', 'sqft_lot', 'floors', 'zipcode',\n",
    "'condition', # condition of house\t\t\t\t\n",
    "'grade', # measure of quality of construction\t\t\t\t\n",
    "'waterfront', # waterfront property\t\t\t\t\n",
    "'view', # type of view\t\t\t\t\n",
    "'sqft_above', # square feet above ground\t\t\t\t\n",
    "'sqft_basement', # square feet in basement\t\t\t\t\n",
    "'yr_built', # the year built\t\t\t\t\n",
    "'yr_renovated', # the year renovated\t\t\t\t\n",
    "'lat', 'long', # the lat-long of the parcel\t\t\t\t\n",
    "'sqft_living15', # average sq.ft. of 15 nearest neighbors \t\t\t\t\n",
    "'sqft_lot15', # average lot size of 15 nearest neighbors \n",
    "]"
   ]
  },
  {
   "cell_type": "code",
   "execution_count": 36,
   "metadata": {
    "collapsed": false
   },
   "outputs": [
    {
     "data": {
      "text/html": [
       "<pre>Linear regression:</pre>"
      ],
      "text/plain": [
       "Linear regression:"
      ]
     },
     "metadata": {},
     "output_type": "display_data"
    },
    {
     "data": {
      "text/html": [
       "<pre>--------------------------------------------------------</pre>"
      ],
      "text/plain": [
       "--------------------------------------------------------"
      ]
     },
     "metadata": {},
     "output_type": "display_data"
    },
    {
     "data": {
      "text/html": [
       "<pre>Number of examples          : 17384</pre>"
      ],
      "text/plain": [
       "Number of examples          : 17384"
      ]
     },
     "metadata": {},
     "output_type": "display_data"
    },
    {
     "data": {
      "text/html": [
       "<pre>Number of features          : 18</pre>"
      ],
      "text/plain": [
       "Number of features          : 18"
      ]
     },
     "metadata": {},
     "output_type": "display_data"
    },
    {
     "data": {
      "text/html": [
       "<pre>Number of unpacked features : 18</pre>"
      ],
      "text/plain": [
       "Number of unpacked features : 18"
      ]
     },
     "metadata": {},
     "output_type": "display_data"
    },
    {
     "data": {
      "text/html": [
       "<pre>Number of coefficients    : 127</pre>"
      ],
      "text/plain": [
       "Number of coefficients    : 127"
      ]
     },
     "metadata": {},
     "output_type": "display_data"
    },
    {
     "data": {
      "text/html": [
       "<pre>Starting Newton Method</pre>"
      ],
      "text/plain": [
       "Starting Newton Method"
      ]
     },
     "metadata": {},
     "output_type": "display_data"
    },
    {
     "data": {
      "text/html": [
       "<pre>--------------------------------------------------------</pre>"
      ],
      "text/plain": [
       "--------------------------------------------------------"
      ]
     },
     "metadata": {},
     "output_type": "display_data"
    },
    {
     "data": {
      "text/html": [
       "<pre>+-----------+----------+--------------+--------------------+---------------+</pre>"
      ],
      "text/plain": [
       "+-----------+----------+--------------+--------------------+---------------+"
      ]
     },
     "metadata": {},
     "output_type": "display_data"
    },
    {
     "data": {
      "text/html": [
       "<pre>| Iteration | Passes   | Elapsed Time | Training-max_error | Training-rmse |</pre>"
      ],
      "text/plain": [
       "| Iteration | Passes   | Elapsed Time | Training-max_error | Training-rmse |"
      ]
     },
     "metadata": {},
     "output_type": "display_data"
    },
    {
     "data": {
      "text/html": [
       "<pre>+-----------+----------+--------------+--------------------+---------------+</pre>"
      ],
      "text/plain": [
       "+-----------+----------+--------------+--------------------+---------------+"
      ]
     },
     "metadata": {},
     "output_type": "display_data"
    },
    {
     "data": {
      "text/html": [
       "<pre>| 1         | 2        | 0.045119     | 3469012.450686     | 154580.940736 |</pre>"
      ],
      "text/plain": [
       "| 1         | 2        | 0.045119     | 3469012.450686     | 154580.940736 |"
      ]
     },
     "metadata": {},
     "output_type": "display_data"
    },
    {
     "data": {
      "text/html": [
       "<pre>+-----------+----------+--------------+--------------------+---------------+</pre>"
      ],
      "text/plain": [
       "+-----------+----------+--------------+--------------------+---------------+"
      ]
     },
     "metadata": {},
     "output_type": "display_data"
    },
    {
     "data": {
      "text/html": [
       "<pre>SUCCESS: Optimal solution found.</pre>"
      ],
      "text/plain": [
       "SUCCESS: Optimal solution found."
      ]
     },
     "metadata": {},
     "output_type": "display_data"
    },
    {
     "data": {
      "text/html": [
       "<pre></pre>"
      ],
      "text/plain": []
     },
     "metadata": {},
     "output_type": "display_data"
    }
   ],
   "source": [
    "advanced_features_model = graphlab.linear_regression.create(train_data,target='price',features=advanced_features,validation_set=None)"
   ]
  },
  {
   "cell_type": "code",
   "execution_count": 37,
   "metadata": {
    "collapsed": false
   },
   "outputs": [
    {
     "data": {
      "text/plain": [
       "179542.4333126903"
      ]
     },
     "execution_count": 37,
     "metadata": {},
     "output_type": "execute_result"
    }
   ],
   "source": [
    "my_features_rmse = my_features_model.evaluate(test_data)['rmse']\n",
    "my_features_rmse"
   ]
  },
  {
   "cell_type": "code",
   "execution_count": 38,
   "metadata": {
    "collapsed": false
   },
   "outputs": [
    {
     "data": {
      "text/plain": [
       "156831.1168021901"
      ]
     },
     "execution_count": 38,
     "metadata": {},
     "output_type": "execute_result"
    }
   ],
   "source": [
    "advanced_features_rmse = advanced_features_model.evaluate(test_data)['rmse']\n",
    "advanced_features_rmse"
   ]
  },
  {
   "cell_type": "code",
   "execution_count": 39,
   "metadata": {
    "collapsed": false
   },
   "outputs": [
    {
     "data": {
      "text/plain": [
       "-22711.316510500183"
      ]
     },
     "execution_count": 39,
     "metadata": {},
     "output_type": "execute_result"
    }
   ],
   "source": [
    "advanced_features_rmse - my_features_rmse"
   ]
  },
  {
   "cell_type": "code",
   "execution_count": null,
   "metadata": {
    "collapsed": true
   },
   "outputs": [],
   "source": []
  }
 ],
 "metadata": {
  "kernelspec": {
   "display_name": "Python 3",
   "language": "python",
   "name": "python3"
  },
  "language_info": {
   "codemirror_mode": {
    "name": "ipython",
    "version": 3
   },
   "file_extension": ".py",
   "mimetype": "text/x-python",
   "name": "python",
   "nbconvert_exporter": "python",
   "pygments_lexer": "ipython3",
   "version": "3.5.1"
  }
 },
 "nbformat": 4,
 "nbformat_minor": 0
}
